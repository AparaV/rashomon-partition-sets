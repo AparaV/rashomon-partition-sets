{
 "cells": [
  {
   "cell_type": "code",
   "execution_count": 1,
   "id": "9a619547",
   "metadata": {},
   "outputs": [],
   "source": [
    "import numpy as np\n",
    "import pandas as pd\n",
    "import matplotlib.pyplot as plt\n",
    "\n",
    "from sklearn import linear_model\n",
    "from sklearn.metrics import mean_squared_error\n",
    "\n",
    "from collections import deque\n",
    "\n",
    "from rashomon import loss\n",
    "from rashomon import counter\n",
    "from rashomon.aggregate import RAggregate_profile\n",
    "from rashomon.sets import RashomonSet, RashomonProblemCache, RashomonSubproblemCache\n",
    "from rashomon import tva, metrics\n",
    "from rashomon.extract_pools import extract_pools\n",
    "\n",
    "\n",
    "%load_ext autoreload\n",
    "%autoreload 2\n",
    "# %matplotlib inline"
   ]
  },
  {
   "cell_type": "markdown",
   "id": "610c2a0d",
   "metadata": {},
   "source": [
    "### Worst case scenario"
   ]
  },
  {
   "cell_type": "code",
   "execution_count": 175,
   "id": "384b5956",
   "metadata": {},
   "outputs": [
    {
     "name": "stdout",
     "output_type": "stream",
     "text": [
      "0 : [(1, 1), (2, 1), (3, 1)]\n",
      "1 : [(1, 2), (1, 3), (2, 2), (2, 3), (3, 2), (3, 3)]\n",
      "2 : [(1, 4), (2, 4), (3, 4)]\n",
      "3 : [(4, 1)]\n",
      "4 : [(4, 2), (4, 3)]\n",
      "5 : [(4, 4)]\n"
     ]
    }
   ],
   "source": [
    "sigma = np.array([[1, 1, 0],\n",
    "                  [0, 1, 0]], dtype='float64')\n",
    "sigma_profile = (1, 1)\n",
    "\n",
    "M, n = sigma.shape\n",
    "R = np.array([5, 5])\n",
    "\n",
    "num_policies = np.prod(R-1)\n",
    "all_policies = tva.enumerate_policies(M, R)\n",
    "policies = [x for x in all_policies if tva.policy_to_profile(x) == sigma_profile]\n",
    "pi_pools, pi_policies = extract_pools(policies, sigma)\n",
    "\n",
    "for pool_id, pool in pi_pools.items():\n",
    "    print(pool_id, \":\", [policies[i] for i in pool])\n",
    "    # print(pool_id, \":\", pool)"
   ]
  },
  {
   "cell_type": "markdown",
   "id": "3751d3a0-9f2a-430b-88ec-a636c3f58f3d",
   "metadata": {},
   "source": [
    "### Generate data"
   ]
  },
  {
   "cell_type": "code",
   "execution_count": 176,
   "id": "314fe15c",
   "metadata": {},
   "outputs": [],
   "source": [
    "np.random.seed(3)\n",
    "\n",
    "num_pools = len(pi_pools)\n",
    "# # ADVERSARIAL EXAMPLE\n",
    "mu = np.array([0, 1.5, 3, 3, 6, 4.5])\n",
    "# CORRELATION?\n",
    "# mu = np.array([0, 1, 2, 1, 3, 3])\n",
    "# mu = mu*4\n",
    "var = [1] * num_pools\n",
    "\n",
    "n_per_pol = 100\n",
    "sim_num = 1\n",
    "\n",
    "num_data = num_policies * n_per_pol\n",
    "X = np.ndarray(shape=(num_data, M))\n",
    "D = np.ndarray(shape=(num_data, 1), dtype='int_')\n",
    "y = np.ndarray(shape=(num_data, 1))\n",
    "\n",
    "for idx, policy in enumerate(policies):\n",
    "    pool_i = pi_policies[idx]\n",
    "    mu_i = mu[pool_i]\n",
    "    var_i = var[pool_i]\n",
    "    y_i = np.random.normal(mu_i, var_i, size=(n_per_pol, 1))\n",
    "\n",
    "    start_idx = idx * n_per_pol\n",
    "    end_idx = (idx + 1) * n_per_pol\n",
    "\n",
    "    X[start_idx:end_idx, ] = policy\n",
    "    D[start_idx:end_idx, ] = idx\n",
    "    y[start_idx:end_idx, ] = y_i\n",
    "    "
   ]
  },
  {
   "cell_type": "markdown",
   "id": "39118580-cbb0-4419-b951-f5faf8a51739",
   "metadata": {},
   "source": [
    "### RAggregate"
   ]
  },
  {
   "cell_type": "code",
   "execution_count": 4,
   "id": "9fa5fdac-2bd9-426b-a0bf-35efc4d0cddd",
   "metadata": {},
   "outputs": [],
   "source": [
    "# Rashomon set estimation\n",
    "\n",
    "P_set = RAggregate_profile(M, R, 8, D, y, 2, sigma_profile, reg=0.1)\n",
    "if not P_set.seen(sigma):\n",
    "    print(\"P_set missing true sigma\")"
   ]
  },
  {
   "cell_type": "code",
   "execution_count": 6,
   "id": "c7935848-b31b-4bf3-9c95-216dc8f61436",
   "metadata": {},
   "outputs": [
    {
     "name": "stdout",
     "output_type": "stream",
     "text": [
      "Num pools: 4, Squared loss: 1.33086, Q: 1.73086\n",
      "Best policy IOU: 0.667\n",
      "Min dosage: True\n",
      "Best policy error: 0.48808069259229026\n",
      "---\n",
      "Num pools: 6, Squared loss: 1.33013, Q: 1.93013\n",
      "Best policy IOU: 0.667\n",
      "Min dosage: True\n",
      "Best policy error: 0.48808069259229026\n",
      "---\n",
      "Num pools: 6, Squared loss: 1.33006, Q: 1.93006\n",
      "Best policy IOU: 0.667\n",
      "Min dosage: True\n",
      "Best policy error: 0.48808069259229026\n",
      "---\n",
      "Num pools: 6, Squared loss: 1.24759, Q: 1.84759\n",
      "Best policy IOU: 0.500\n",
      "Min dosage: True\n",
      "Best policy error: 0.029118080070194452\n",
      "---\n",
      "Num pools: 6, Squared loss: 1.02158, Q: 1.62158\n",
      "Best policy IOU: 1.000\n",
      "Min dosage: True\n",
      "Best policy error: -0.009341137959020251\n",
      "---\n",
      "Num pools: 8, Squared loss: 1.02089, Q: 1.82089\n",
      "Best policy IOU: 0.500\n",
      "Min dosage: False\n",
      "Best policy error: -0.04780035598823318\n",
      "---\n"
     ]
    }
   ],
   "source": [
    "pol_means = loss.compute_policy_means(D, y, num_policies)\n",
    "true_best = pi_pools[np.argmax(mu)]\n",
    "min_dosage_best_policy = metrics.find_min_dosage(true_best, policies)\n",
    "\n",
    "rashomon_list = []\n",
    "for s_i in P_set:\n",
    "    pi_pools_i, pi_policies_i = extract_pools(policies, s_i)\n",
    "    pool_means_i = loss.compute_pool_means(pol_means, pi_pools_i)\n",
    "    \n",
    "    Q = loss.compute_Q(D, y, s_i, policies, pol_means, reg=0.1)\n",
    "    y_pred = metrics.make_predictions(D, pi_policies_i, pool_means_i)\n",
    "    sqrd_err = mean_squared_error(y, y_pred)\n",
    "\n",
    "    # IOU\n",
    "    pol_max = metrics.find_best_policies(D, y_pred)\n",
    "    iou = metrics.intersect_over_union(set(true_best), set(pol_max))\n",
    "\n",
    "    # Min dosage membership\n",
    "    min_dosage_present = metrics.check_membership(min_dosage_best_policy, pol_max)\n",
    "\n",
    "    # Best policy difference\n",
    "    best_pol_diff = np.max(mu) - np.max(pool_means_i)\n",
    "    \n",
    "    print(f\"Num pools: {len(pi_pools_i)}, Squared loss: {sqrd_err:0.5f}, Q: {Q:0.5f}\")\n",
    "    print(f\"Best policy IOU: {iou:.3f}\")\n",
    "    print(f\"Min dosage: {min_dosage_present}\")\n",
    "    print(f\"Best policy error: {best_pol_diff}\")\n",
    "    print(\"---\")\n",
    "\n",
    "    this_list = [n_per_pol, sim_num, len(pi_pools_i), sqrd_err, iou, min_dosage_present, best_pol_diff]\n",
    "    rashomon_list.append(this_list)"
   ]
  },
  {
   "cell_type": "code",
   "execution_count": 7,
   "id": "74462f74-1e09-456f-96e5-5927dbd1830a",
   "metadata": {},
   "outputs": [
    {
     "data": {
      "text/html": [
       "<div>\n",
       "<style scoped>\n",
       "    .dataframe tbody tr th:only-of-type {\n",
       "        vertical-align: middle;\n",
       "    }\n",
       "\n",
       "    .dataframe tbody tr th {\n",
       "        vertical-align: top;\n",
       "    }\n",
       "\n",
       "    .dataframe thead th {\n",
       "        text-align: right;\n",
       "    }\n",
       "</style>\n",
       "<table border=\"1\" class=\"dataframe\">\n",
       "  <thead>\n",
       "    <tr style=\"text-align: right;\">\n",
       "      <th></th>\n",
       "      <th>n_per_pol</th>\n",
       "      <th>sim_num</th>\n",
       "      <th>num_pools</th>\n",
       "      <th>MSE</th>\n",
       "      <th>IOU</th>\n",
       "      <th>min_dosage</th>\n",
       "      <th>best_pol_MSE</th>\n",
       "    </tr>\n",
       "  </thead>\n",
       "  <tbody>\n",
       "    <tr>\n",
       "      <th>0</th>\n",
       "      <td>100</td>\n",
       "      <td>1</td>\n",
       "      <td>4</td>\n",
       "      <td>1.330859</td>\n",
       "      <td>0.666667</td>\n",
       "      <td>True</td>\n",
       "      <td>0.488081</td>\n",
       "    </tr>\n",
       "    <tr>\n",
       "      <th>1</th>\n",
       "      <td>100</td>\n",
       "      <td>1</td>\n",
       "      <td>6</td>\n",
       "      <td>1.330133</td>\n",
       "      <td>0.666667</td>\n",
       "      <td>True</td>\n",
       "      <td>0.488081</td>\n",
       "    </tr>\n",
       "    <tr>\n",
       "      <th>2</th>\n",
       "      <td>100</td>\n",
       "      <td>1</td>\n",
       "      <td>6</td>\n",
       "      <td>1.330060</td>\n",
       "      <td>0.666667</td>\n",
       "      <td>True</td>\n",
       "      <td>0.488081</td>\n",
       "    </tr>\n",
       "    <tr>\n",
       "      <th>3</th>\n",
       "      <td>100</td>\n",
       "      <td>1</td>\n",
       "      <td>6</td>\n",
       "      <td>1.247588</td>\n",
       "      <td>0.500000</td>\n",
       "      <td>True</td>\n",
       "      <td>0.029118</td>\n",
       "    </tr>\n",
       "    <tr>\n",
       "      <th>4</th>\n",
       "      <td>100</td>\n",
       "      <td>1</td>\n",
       "      <td>6</td>\n",
       "      <td>1.021578</td>\n",
       "      <td>1.000000</td>\n",
       "      <td>True</td>\n",
       "      <td>-0.009341</td>\n",
       "    </tr>\n",
       "    <tr>\n",
       "      <th>5</th>\n",
       "      <td>100</td>\n",
       "      <td>1</td>\n",
       "      <td>8</td>\n",
       "      <td>1.020892</td>\n",
       "      <td>0.500000</td>\n",
       "      <td>False</td>\n",
       "      <td>-0.047800</td>\n",
       "    </tr>\n",
       "  </tbody>\n",
       "</table>\n",
       "</div>"
      ],
      "text/plain": [
       "   n_per_pol  sim_num  num_pools       MSE       IOU  min_dosage  best_pol_MSE\n",
       "0        100        1          4  1.330859  0.666667        True      0.488081\n",
       "1        100        1          6  1.330133  0.666667        True      0.488081\n",
       "2        100        1          6  1.330060  0.666667        True      0.488081\n",
       "3        100        1          6  1.247588  0.500000        True      0.029118\n",
       "4        100        1          6  1.021578  1.000000        True     -0.009341\n",
       "5        100        1          8  1.020892  0.500000       False     -0.047800"
      ]
     },
     "execution_count": 7,
     "metadata": {},
     "output_type": "execute_result"
    }
   ],
   "source": [
    "col_names = [\"n_per_pol\", \"sim_num\", \"num_pools\", \"MSE\", \"IOU\", \"min_dosage\", \"best_pol_MSE\"]\n",
    "rashomon_df = pd.DataFrame(rashomon_list, columns=col_names)\n",
    "\n",
    "rashomon_df"
   ]
  },
  {
   "cell_type": "markdown",
   "id": "5f118bfd-5475-40b3-92a7-134a331a5afd",
   "metadata": {},
   "source": [
    "### LASSO - Beta -> alpha"
   ]
  },
  {
   "cell_type": "code",
   "execution_count": 245,
   "id": "0fae0c9b-06f7-47d7-a591-dd2d43cea775",
   "metadata": {},
   "outputs": [],
   "source": [
    "G = tva.alpha_matrix(policies)\n",
    "# print(G)\n",
    "D_matrix = tva.get_dummy_matrix(D, G, num_policies)"
   ]
  },
  {
   "cell_type": "code",
   "execution_count": 9,
   "id": "7156e414-74ff-4559-b54f-e49e94f0d0af",
   "metadata": {},
   "outputs": [],
   "source": [
    "reg_param = 1e-1\n",
    "mod1 = linear_model.Lasso(reg_param, fit_intercept=False)\n",
    "mod1.fit(D_matrix, y)\n",
    "alpha_est = mod1.coef_"
   ]
  },
  {
   "cell_type": "code",
   "execution_count": 10,
   "id": "16a81a50-0dfd-44e3-ae90-c3d4f9d1e8a6",
   "metadata": {},
   "outputs": [],
   "source": [
    "lasso_list = []"
   ]
  },
  {
   "cell_type": "code",
   "execution_count": 11,
   "id": "2406a1d6-0620-406a-9fda-b430d7141136",
   "metadata": {},
   "outputs": [],
   "source": [
    "y_tva = mod1.predict(D_matrix)\n",
    "\n",
    "# MSE\n",
    "sqrd_err = mean_squared_error(y_tva, y)\n",
    "L1_loss = sqrd_err + reg_param * np.linalg.norm(alpha_est, ord=1)\n",
    "\n",
    "# IOU\n",
    "tva_best = metrics.find_best_policies(D, y_tva)\n",
    "iou_tva = metrics.intersect_over_union(set(true_best), set(tva_best))\n",
    "\n",
    "# Min dosage inclusion\n",
    "min_dosage_present_tva = metrics.check_membership(min_dosage_best_policy, tva_best)\n",
    "\n",
    "# Best policy MSE\n",
    "best_policy_error_tva = np.max(mu) - np.max(y_tva)\n",
    "\n",
    "this_list = [n_per_pol, sim_num, sqrd_err, L1_loss, iou_tva, min_dosage_present_tva, best_policy_error_tva]\n",
    "lasso_list.append(this_list)"
   ]
  },
  {
   "cell_type": "code",
   "execution_count": 12,
   "id": "c1a7b489-7314-469e-a908-3cb102d3f707",
   "metadata": {},
   "outputs": [
    {
     "data": {
      "text/html": [
       "<div>\n",
       "<style scoped>\n",
       "    .dataframe tbody tr th:only-of-type {\n",
       "        vertical-align: middle;\n",
       "    }\n",
       "\n",
       "    .dataframe tbody tr th {\n",
       "        vertical-align: top;\n",
       "    }\n",
       "\n",
       "    .dataframe thead th {\n",
       "        text-align: right;\n",
       "    }\n",
       "</style>\n",
       "<table border=\"1\" class=\"dataframe\">\n",
       "  <thead>\n",
       "    <tr style=\"text-align: right;\">\n",
       "      <th></th>\n",
       "      <th>n_per_pol</th>\n",
       "      <th>sim_num</th>\n",
       "      <th>MSE</th>\n",
       "      <th>L1_loss</th>\n",
       "      <th>IOU</th>\n",
       "      <th>min_dosage</th>\n",
       "      <th>best_pol_MSE</th>\n",
       "    </tr>\n",
       "  </thead>\n",
       "  <tbody>\n",
       "    <tr>\n",
       "      <th>0</th>\n",
       "      <td>100</td>\n",
       "      <td>1</td>\n",
       "      <td>1.347481</td>\n",
       "      <td>1.859604</td>\n",
       "      <td>0.0</td>\n",
       "      <td>False</td>\n",
       "      <td>0.878772</td>\n",
       "    </tr>\n",
       "  </tbody>\n",
       "</table>\n",
       "</div>"
      ],
      "text/plain": [
       "   n_per_pol  sim_num       MSE   L1_loss  IOU  min_dosage  best_pol_MSE\n",
       "0        100        1  1.347481  1.859604  0.0       False      0.878772"
      ]
     },
     "execution_count": 12,
     "metadata": {},
     "output_type": "execute_result"
    }
   ],
   "source": [
    "lasso_cols = [\"n_per_pol\", \"sim_num\", \"MSE\", \"L1_loss\", \"IOU\", \"min_dosage\", \"best_pol_MSE\"]\n",
    "lasso_df = pd.DataFrame(lasso_list, columns=lasso_cols)\n",
    "\n",
    "lasso_df"
   ]
  },
  {
   "cell_type": "code",
   "execution_count": null,
   "id": "7483bae0-5962-4163-a10d-81ff026f9678",
   "metadata": {},
   "outputs": [],
   "source": []
  },
  {
   "cell_type": "code",
   "execution_count": null,
   "id": "3151d3ed-a9fa-4a53-9695-18fe71f0b20d",
   "metadata": {},
   "outputs": [],
   "source": []
  },
  {
   "cell_type": "code",
   "execution_count": null,
   "id": "85fb6464-a82c-4284-855a-8f29f5b4a8ec",
   "metadata": {},
   "outputs": [],
   "source": []
  },
  {
   "cell_type": "code",
   "execution_count": null,
   "id": "66f46dcd-f31b-48f8-adc8-96c8c7acd8f0",
   "metadata": {},
   "outputs": [],
   "source": []
  },
  {
   "cell_type": "code",
   "execution_count": null,
   "id": "c8af6b91-9e0e-40f2-97a5-12c21f78b2c2",
   "metadata": {},
   "outputs": [],
   "source": []
  },
  {
   "cell_type": "code",
   "execution_count": 111,
   "id": "ef2b78e1-4ad2-4ad6-ba5b-a45ede9b0b22",
   "metadata": {},
   "outputs": [
    {
     "name": "stdout",
     "output_type": "stream",
     "text": [
      "[0.00000000e+00 4.02587900e+00 7.29379941e-02 3.72378857e+00\n",
      " 0.00000000e+00 0.00000000e+00 0.00000000e+00 8.36637192e-02\n",
      " 0.00000000e+00 0.00000000e+00 0.00000000e+00 0.00000000e+00\n",
      " 3.83710615e+00 4.10780553e+00 4.10336904e-03 2.56179131e+00]\n"
     ]
    },
    {
     "data": {
      "text/plain": [
       "array([ 0.        ,  4.025879  ,  4.098817  ,  7.82260557,  0.        ,\n",
       "        4.025879  ,  4.098817  ,  7.90626929,  0.        ,  4.025879  ,\n",
       "        4.098817  ,  7.90626929,  3.83710615, 11.97079068, 12.04783205,\n",
       "       18.41707565])"
      ]
     },
     "execution_count": 111,
     "metadata": {},
     "output_type": "execute_result"
    }
   ],
   "source": [
    "print(alpha_est)\n",
    "np.matmul(G, alpha_est)"
   ]
  },
  {
   "cell_type": "code",
   "execution_count": 164,
   "id": "c3fa0f0e-4913-431e-88e0-7504051ac632",
   "metadata": {},
   "outputs": [
    {
     "data": {
      "text/plain": [
       "array([[1., 0., 0., 0., 0., 0., 0., 0., 0., 0., 0., 0., 0., 0., 0., 0.],\n",
       "       [1., 1., 0., 0., 0., 0., 0., 0., 0., 0., 0., 0., 0., 0., 0., 0.],\n",
       "       [1., 1., 1., 0., 0., 0., 0., 0., 0., 0., 0., 0., 0., 0., 0., 0.],\n",
       "       [1., 1., 1., 1., 0., 0., 0., 0., 0., 0., 0., 0., 0., 0., 0., 0.],\n",
       "       [1., 0., 0., 0., 1., 0., 0., 0., 0., 0., 0., 0., 0., 0., 0., 0.],\n",
       "       [1., 1., 0., 0., 1., 1., 0., 0., 0., 0., 0., 0., 0., 0., 0., 0.],\n",
       "       [1., 1., 1., 0., 1., 1., 1., 0., 0., 0., 0., 0., 0., 0., 0., 0.],\n",
       "       [1., 1., 1., 1., 1., 1., 1., 1., 0., 0., 0., 0., 0., 0., 0., 0.],\n",
       "       [1., 0., 0., 0., 1., 0., 0., 0., 1., 0., 0., 0., 0., 0., 0., 0.],\n",
       "       [1., 1., 0., 0., 1., 1., 0., 0., 1., 1., 0., 0., 0., 0., 0., 0.],\n",
       "       [1., 1., 1., 0., 1., 1., 1., 0., 1., 1., 1., 0., 0., 0., 0., 0.],\n",
       "       [1., 1., 1., 1., 1., 1., 1., 1., 1., 1., 1., 1., 0., 0., 0., 0.],\n",
       "       [1., 0., 0., 0., 1., 0., 0., 0., 1., 0., 0., 0., 1., 0., 0., 0.],\n",
       "       [1., 1., 0., 0., 1., 1., 0., 0., 1., 1., 0., 0., 1., 1., 0., 0.],\n",
       "       [1., 1., 1., 0., 1., 1., 1., 0., 1., 1., 1., 0., 1., 1., 1., 0.],\n",
       "       [1., 1., 1., 1., 1., 1., 1., 1., 1., 1., 1., 1., 1., 1., 1., 1.]])"
      ]
     },
     "execution_count": 164,
     "metadata": {},
     "output_type": "execute_result"
    }
   ],
   "source": [
    "G"
   ]
  },
  {
   "cell_type": "code",
   "execution_count": 112,
   "id": "1c70adbd-1127-423a-9539-a72254689486",
   "metadata": {},
   "outputs": [
    {
     "name": "stdout",
     "output_type": "stream",
     "text": [
      "[ 0.  1.  0.  1.  0.  0.  0.  0.  0.  0.  0.  0.  1.  1.  0. -1.]\n"
     ]
    },
    {
     "data": {
      "text/plain": [
       "array([0., 1., 1., 2., 0., 1., 1., 2., 0., 1., 1., 2., 1., 3., 3., 3.])"
      ]
     },
     "execution_count": 112,
     "metadata": {},
     "output_type": "execute_result"
    }
   ],
   "source": [
    "alpha_des = np.copy(alpha_est)\n",
    "alpha_des[:] = 0\n",
    "\n",
    "alpha_des[1] = 1\n",
    "alpha_des[3] = 1\n",
    "alpha_des[12] = 1\n",
    "alpha_des[13] = 1\n",
    "alpha_des[15] = -1\n",
    "print(alpha_des)\n",
    "\n",
    "np.matmul(G, alpha_des)"
   ]
  },
  {
   "cell_type": "code",
   "execution_count": null,
   "id": "f217d186-5ad1-40d0-a233-97488a02d64c",
   "metadata": {},
   "outputs": [],
   "source": []
  },
  {
   "cell_type": "code",
   "execution_count": null,
   "id": "55043ac7-5b63-4430-812d-85f359422f7b",
   "metadata": {},
   "outputs": [],
   "source": []
  },
  {
   "cell_type": "markdown",
   "id": "7ed6e80e-ce0d-457e-9d88-88e0c1c55716",
   "metadata": {},
   "source": [
    "### Causal Trees"
   ]
  },
  {
   "cell_type": "code",
   "execution_count": 219,
   "id": "91cca2fa-c86d-4f2b-84af-ff41474a353b",
   "metadata": {},
   "outputs": [],
   "source": [
    "from CTL.causal_tree_learn import CausalTree\n",
    "from sklearn.model_selection import train_test_split"
   ]
  },
  {
   "cell_type": "code",
   "execution_count": 281,
   "id": "3ba66cd5-15b2-4678-a73d-7f9ddb3889ef",
   "metadata": {},
   "outputs": [],
   "source": [
    "y_1d = y.reshape((-1,))\n",
    "D_1d = np.copy(D)\n",
    "D_1d = D_1d.reshape((-1,))\n",
    "D_1d[D_1d >= 0] = 1\n",
    "\n",
    "D_mat2 = np.copy(D_matrix)\n",
    "D_mat2 = np.append(np.zeros(shape=y.shape)+1, D_matrix, axis=1)"
   ]
  },
  {
   "cell_type": "code",
   "execution_count": 282,
   "id": "a1420789-6b2d-4814-a34f-32850d1676b0",
   "metadata": {},
   "outputs": [],
   "source": [
    "x_train, x_test, y_train, y_test, treat_train, treat_test = train_test_split(\n",
    "    D_mat2, y_1d, D_1d, test_size=0.2, random_state=3)"
   ]
  },
  {
   "cell_type": "code",
   "execution_count": 285,
   "id": "0dd987c1-d193-454d-961c-bedc65b7f6e4",
   "metadata": {},
   "outputs": [],
   "source": [
    "# Only works for binary treatments\n",
    "\n",
    "ct_adaptive = CausalTree(weight=0.0, split_size=0.0, cont=False,\n",
    "                        min_size=0)\n",
    "# ct_adaptive.fit(x_train, y_train, treat_train)\n",
    "ct_adaptive.fit(D_mat2, y_1d, D_1d)\n",
    "ct_adaptive.prune()\n",
    "ct_adaptive_predict = ct_adaptive.predict(D_mat2)"
   ]
  },
  {
   "cell_type": "code",
   "execution_count": 286,
   "id": "d9a00a90-be76-4ab1-bb3d-a408533bac0e",
   "metadata": {},
   "outputs": [
    {
     "data": {
      "text/plain": [
       "array([-0.10863707, -0.03365679,  0.06227524,  1.40144789,  1.4670558 ,\n",
       "        1.51528943,  1.59493971,  1.60825527,  1.78696406,  2.8225584 ,\n",
       "        2.83811879,  2.85473967,  2.95779896,  4.51707506,  5.97088194,\n",
       "        6.04780006])"
      ]
     },
     "execution_count": 286,
     "metadata": {},
     "output_type": "execute_result"
    }
   ],
   "source": [
    "np.unique(ct_adaptive_predict)"
   ]
  },
  {
   "cell_type": "code",
   "execution_count": 287,
   "id": "1764eb59-9141-44ac-8657-0a19400dcdcc",
   "metadata": {},
   "outputs": [],
   "source": [
    "ctl_best = metrics.find_best_policies(D, ct_adaptive_predict)\n",
    "ctl_tva = metrics.intersect_over_union(set(true_best), set(ctl_best))"
   ]
  },
  {
   "cell_type": "markdown",
   "id": "27e4078e-538b-4f2f-a98f-a7963f8087dd",
   "metadata": {},
   "source": [
    "TODO:\n",
    "1. Work out the computation for separate profiles"
   ]
  },
  {
   "cell_type": "code",
   "execution_count": null,
   "id": "789d6e6d-6e8a-4b63-b4d7-36e2be6931a9",
   "metadata": {},
   "outputs": [],
   "source": []
  },
  {
   "cell_type": "code",
   "execution_count": 172,
   "id": "b2dd93e4-f822-452d-aebe-c19012df9a69",
   "metadata": {},
   "outputs": [
    {
     "name": "stderr",
     "output_type": "stream",
     "text": [
      "/Users/apara/Documents/Research/2022_Bayesian_TVA/Rashomon/Code/venv/lib/python3.11/site-packages/scipy/stats/_axis_nan_policy.py:523: RuntimeWarning: Precision loss occurred in moment calculation due to catastrophic cancellation. This occurs when the data are nearly identical. Results may be unreliable.\n",
      "  res = hypotest_fun_out(*samples, **kwds)\n"
     ]
    }
   ],
   "source": [
    "asthma = pd.read_csv('CTL/data/asthma.txt', delimiter=' ', index_col=None)\n",
    "\n",
    "asthma.columns = ['physician', 'age', 'sex', 'education', 'insurance', 'drug coverage', 'severity',\n",
    "                  'comorbidity', 'physical comorbidity', 'mental comorbidity', 'satisfaction']\n",
    "\n",
    "y = asthma['satisfaction'].values\n",
    "treatment = asthma['physician'].values\n",
    "\n",
    "x = asthma.drop(['satisfaction', 'physician'], axis=1).values\n",
    "\n",
    "columns = asthma.drop(['satisfaction', 'physician'], axis=1).columns\n",
    "\n",
    "y[y == 0] = -1\n",
    "\n",
    "treatment[treatment == 1] = 0\n",
    "treatment[treatment == 2] = 1\n",
    "# treatment[184:] = 2\n",
    "\n",
    "np.random.seed(0)\n",
    "\n",
    "\n",
    "x_train, x_test, y_train, y_test, treat_train, treat_test = train_test_split(x, y, treatment,\n",
    "                                                                             test_size=0.5, random_state=42)\n",
    "\n",
    "ct_adaptive = CausalTree(weight=0.0, split_size=0.0)\n",
    "ct_adaptive.fit(x_train, y_train, treat_train)\n",
    "ct_adaptive.prune()\n",
    "ct_adaptive_predict = ct_adaptive.predict(x_test)"
   ]
  },
  {
   "cell_type": "code",
   "execution_count": 173,
   "id": "93b0b115-c950-4123-ab55-7219e99e9096",
   "metadata": {},
   "outputs": [
    {
     "data": {
      "text/plain": [
       "array([-0.07142857, -0.26923078,  1.83333325, -0.28571427, -0.28571427,\n",
       "        1.83333325, -2.        ,  1.83333325, -2.        , -0.4285714 ,\n",
       "       -0.4285714 , -0.28571427,  1.83333325, -2.        , -0.46666667,\n",
       "       -2.        ,  1.83333325,  0.83333337,  2.        ,  2.        ,\n",
       "        1.83333325,  0.83333337,  1.83333325, -0.28571427, -0.28571427,\n",
       "       -0.66666663,  1.83333325, -0.26923078,  1.83333325, -2.        ,\n",
       "       -0.4285714 , -0.28571427, -0.80000001,  0.83333337, -2.        ,\n",
       "       -0.66666663, -0.66666663,  0.83333337,  1.83333325, -0.4285714 ,\n",
       "       -0.4285714 , -2.        , -0.4285714 , -2.        , -0.4285714 ,\n",
       "       -0.4285714 ,  1.83333325, -2.        , -0.28571427,  1.83333325,\n",
       "       -0.26923078, -0.4285714 ,  1.83333325, -0.28571427,  1.83333325,\n",
       "       -0.4285714 , -2.        , -0.46666667, -0.46666667, -2.        ,\n",
       "        2.        , -0.4285714 , -0.07142857, -2.        ,  0.83333337,\n",
       "       -0.4285714 ,  0.83333337, -0.4285714 , -0.4285714 , -2.        ,\n",
       "       -2.        , -0.4285714 , -0.07142857, -0.28571427,  0.83333337,\n",
       "       -0.66666663, -2.        , -0.4285714 , -0.46666667, -0.4285714 ,\n",
       "       -0.4285714 ,  1.83333325,  1.83333325, -2.        , -0.26923078,\n",
       "       -0.66666663, -0.26923078, -0.26923078,  2.        , -0.28571427,\n",
       "       -0.80000001, -2.        , -2.        ,  1.83333325, -0.4285714 ,\n",
       "        1.83333325, -2.        , -0.4285714 , -0.07142857, -0.26923078,\n",
       "       -0.26923078, -0.28571427, -2.        ,  2.        , -0.07142857,\n",
       "       -0.80000001, -0.28571427,  2.        , -2.        , -0.46666667,\n",
       "       -0.80000001, -0.4285714 , -2.        , -0.4285714 , -2.        ,\n",
       "       -0.26923078,  1.83333325, -2.        , -2.        , -0.66666663,\n",
       "        1.83333325, -2.        ,  1.83333325, -0.4285714 , -0.26923078,\n",
       "       -0.46666667, -0.80000001, -0.66666663, -2.        , -2.        ,\n",
       "       -0.4285714 , -0.26923078, -0.80000001, -0.80000001, -0.4285714 ,\n",
       "       -0.80000001, -0.07142857,  1.83333325])"
      ]
     },
     "execution_count": 173,
     "metadata": {},
     "output_type": "execute_result"
    }
   ],
   "source": [
    "ct_adaptive_predict"
   ]
  },
  {
   "cell_type": "code",
   "execution_count": 162,
   "id": "88185da9-7096-4e1e-bbbf-bc40464dc234",
   "metadata": {},
   "outputs": [
    {
     "data": {
      "text/plain": [
       "array([-0.07142857, -0.26923078,  1.83333325, -0.28571427, -0.28571427,\n",
       "        1.83333325, -2.        ,  1.83333325, -2.        , -0.4285714 ,\n",
       "       -0.4285714 , -0.28571427,  1.83333325, -2.        , -0.46666667,\n",
       "       -2.        ,  1.83333325,  0.83333337,  2.        ,  2.        ,\n",
       "        1.83333325,  0.83333337,  1.83333325, -0.28571427, -0.28571427,\n",
       "       -0.66666663,  1.83333325, -0.26923078,  1.83333325, -2.        ,\n",
       "       -0.4285714 , -0.28571427, -0.80000001,  0.83333337, -2.        ,\n",
       "       -0.66666663, -0.66666663,  0.83333337,  1.83333325, -0.4285714 ,\n",
       "       -0.4285714 , -2.        , -0.4285714 , -2.        , -0.4285714 ,\n",
       "       -0.4285714 ,  1.83333325, -2.        , -0.28571427,  1.83333325,\n",
       "       -0.26923078, -0.4285714 ,  1.83333325, -0.28571427,  1.83333325,\n",
       "       -0.4285714 , -2.        , -0.46666667, -0.46666667, -2.        ,\n",
       "        2.        , -0.4285714 , -0.07142857, -2.        ,  0.83333337,\n",
       "       -0.4285714 ,  0.83333337, -0.4285714 , -0.4285714 , -2.        ,\n",
       "       -2.        , -0.4285714 , -0.07142857, -0.28571427,  0.83333337,\n",
       "       -0.66666663, -2.        , -0.4285714 , -0.46666667, -0.4285714 ,\n",
       "       -0.4285714 ,  1.83333325,  1.83333325, -2.        , -0.26923078,\n",
       "       -0.66666663, -0.26923078, -0.26923078,  2.        , -0.28571427,\n",
       "       -0.80000001, -2.        , -2.        ,  1.83333325, -0.4285714 ,\n",
       "        1.83333325, -2.        , -0.4285714 , -0.07142857, -0.26923078,\n",
       "       -0.26923078, -0.28571427, -2.        ,  2.        , -0.07142857,\n",
       "       -0.80000001, -0.28571427,  2.        , -2.        , -0.46666667,\n",
       "       -0.80000001, -0.4285714 , -2.        , -0.4285714 , -2.        ,\n",
       "       -0.26923078,  1.83333325, -2.        , -2.        , -0.66666663,\n",
       "        1.83333325, -2.        ,  1.83333325, -0.4285714 , -0.26923078,\n",
       "       -0.46666667, -0.80000001, -0.66666663, -2.        , -2.        ,\n",
       "       -0.4285714 , -0.26923078, -0.80000001, -0.80000001, -0.4285714 ,\n",
       "       -0.80000001, -0.07142857,  1.83333325])"
      ]
     },
     "execution_count": 162,
     "metadata": {},
     "output_type": "execute_result"
    }
   ],
   "source": [
    "ct_adaptive_predict"
   ]
  },
  {
   "cell_type": "code",
   "execution_count": 210,
   "id": "216ce19e-8644-479a-bf4f-decbe0bb5583",
   "metadata": {},
   "outputs": [],
   "source": [
    "np.random.seed(3)\n",
    "x_ctl = np.random.randn(100, 10)\n",
    "y_ctl = np.random.randn(100)\n",
    "# treatment_ctl = np.random.randn(100)\n",
    "treatment_ctl = np.random.randint(low=0, high=2, size=100)\n",
    "\n",
    "x_train, x_test, y_train, y_test, treat_train, treat_test = train_test_split(x_ctl, y_ctl, treatment_ctl,\n",
    "                                                                             test_size=0.5, random_state=42)"
   ]
  },
  {
   "cell_type": "code",
   "execution_count": 211,
   "id": "69ea5f3c-eab9-4406-8e97-1ea8d65d2646",
   "metadata": {},
   "outputs": [],
   "source": [
    "ct_adaptive = CausalTree(weight=0.0, split_size=0.0, cont=False)\n",
    "ct_adaptive.fit(x_train, y_train, treat_train)\n",
    "ct_adaptive_predict = ct_adaptive.predict(x_test)"
   ]
  },
  {
   "cell_type": "code",
   "execution_count": 203,
   "id": "80109dae-a25b-4597-9c03-f9d5a85dfb62",
   "metadata": {},
   "outputs": [
    {
     "data": {
      "text/plain": [
       "array([-2.28037477, -1.54761696,  0.34361458,  0.39105165,  1.81327486,\n",
       "        1.83648622])"
      ]
     },
     "execution_count": 203,
     "metadata": {},
     "output_type": "execute_result"
    }
   ],
   "source": [
    "np.unique(ct_adaptive_predict)"
   ]
  },
  {
   "cell_type": "code",
   "execution_count": 198,
   "id": "626ccee7-4520-4424-93f0-01495fbd1b81",
   "metadata": {},
   "outputs": [
    {
     "data": {
      "text/plain": [
       "array([0, 1, 0, 0, 1, 0, 1, 1, 1, 0, 0, 0, 0, 1, 0, 0, 1, 1, 1, 1, 1, 1,\n",
       "       1, 1, 0, 1, 1, 0, 1, 1, 1, 0, 1, 1, 0, 1, 1, 1, 0, 0, 1, 0, 0, 0,\n",
       "       0, 1, 1, 1, 0, 0, 0, 0, 0, 0, 0, 1, 1, 0, 0, 1, 1, 1, 1, 0, 0, 0,\n",
       "       0, 1, 0, 1, 0, 1, 1, 0, 0, 1, 1, 0, 0, 0, 0, 1, 0, 1, 0, 1, 1, 0,\n",
       "       0, 1, 1, 1, 1, 1, 0, 0, 0, 1, 1, 0])"
      ]
     },
     "execution_count": 198,
     "metadata": {},
     "output_type": "execute_result"
    }
   ],
   "source": [
    "treatment_ctl"
   ]
  },
  {
   "cell_type": "code",
   "execution_count": null,
   "id": "b2f51d7d-c9af-4a04-8fd6-1b973eaa4c48",
   "metadata": {},
   "outputs": [],
   "source": []
  }
 ],
 "metadata": {
  "kernelspec": {
   "display_name": "Python (rashomon-tva)",
   "language": "python",
   "name": "rashomon-tva"
  },
  "language_info": {
   "codemirror_mode": {
    "name": "ipython",
    "version": 3
   },
   "file_extension": ".py",
   "mimetype": "text/x-python",
   "name": "python",
   "nbconvert_exporter": "python",
   "pygments_lexer": "ipython3",
   "version": "3.11.3"
  }
 },
 "nbformat": 4,
 "nbformat_minor": 5
}
