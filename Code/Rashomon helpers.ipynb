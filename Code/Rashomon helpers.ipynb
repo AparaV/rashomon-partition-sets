{
 "cells": [
  {
   "cell_type": "code",
   "execution_count": 74,
   "id": "9a619547",
   "metadata": {},
   "outputs": [
    {
     "name": "stdout",
     "output_type": "stream",
     "text": [
      "The autoreload extension is already loaded. To reload it, use:\n",
      "  %reload_ext autoreload\n"
     ]
    }
   ],
   "source": [
    "import numpy as np\n",
    "import matplotlib.pyplot as plt\n",
    "\n",
    "# !pip install scikit-learn\n",
    "from sklearn import linear_model\n",
    "from sklearn.metrics import mean_squared_error\n",
    "\n",
    "from collections import deque\n",
    "\n",
    "from rashomon import loss\n",
    "from rashomon import counter\n",
    "from rashomon.aggregate import RAggregate\n",
    "from rashomon.sets import RashomonSet, RashomonProblemCache, RashomonSubproblemCache\n",
    "from rashomon import tva\n",
    "from rashomon.extract_pools import extract_pools\n",
    "\n",
    "\n",
    "%load_ext autoreload\n",
    "%autoreload 2\n",
    "# %matplotlib inline"
   ]
  },
  {
   "cell_type": "markdown",
   "id": "610c2a0d",
   "metadata": {},
   "source": [
    "### Function to pool based on $\\Sigma$ matrix"
   ]
  },
  {
   "cell_type": "code",
   "execution_count": 75,
   "id": "384b5956",
   "metadata": {},
   "outputs": [
    {
     "name": "stdout",
     "output_type": "stream",
     "text": [
      "0 : [(1, 1, 1), (1, 1, 2), (1, 1, 3), (1, 1, 4), (2, 1, 1), (2, 1, 2), (2, 1, 3), (2, 1, 4), (3, 1, 1), (3, 1, 2), (3, 1, 3), (3, 1, 4)]\n",
      "1 : [(1, 2, 1), (1, 2, 2), (1, 2, 3), (1, 2, 4), (1, 3, 1), (1, 3, 2), (1, 3, 3), (1, 3, 4), (1, 4, 1), (1, 4, 2), (1, 4, 3), (1, 4, 4), (2, 2, 1), (2, 2, 2), (2, 2, 3), (2, 2, 4), (2, 3, 1), (2, 3, 2), (2, 3, 3), (2, 3, 4), (2, 4, 1), (2, 4, 2), (2, 4, 3), (2, 4, 4), (3, 2, 1), (3, 2, 2), (3, 2, 3), (3, 2, 4), (3, 3, 1), (3, 3, 2), (3, 3, 3), (3, 3, 4), (3, 4, 1), (3, 4, 2), (3, 4, 3), (3, 4, 4)]\n",
      "2 : [(4, 1, 1), (4, 1, 2), (4, 1, 3), (4, 1, 4)]\n",
      "3 : [(4, 2, 1), (4, 2, 2), (4, 2, 3), (4, 2, 4), (4, 3, 1), (4, 3, 2), (4, 3, 3), (4, 3, 4), (4, 4, 1), (4, 4, 2), (4, 4, 3), (4, 4, 4)]\n"
     ]
    }
   ],
   "source": [
    "sigma = np.array([[1, 1, 0],\n",
    "                  [0, 1, 1],\n",
    "                  [1, 1, 1]], dtype='float64')\n",
    "\n",
    "M, n = sigma.shape\n",
    "R = np.array([5, 5, 5])\n",
    "\n",
    "num_policies = np.prod(R-1)\n",
    "policies = tva.enumerate_policies(M, R)\n",
    "pi_pools, pi_policies = extract_pools(policies, sigma)\n",
    "\n",
    "for pool_id, pool in pi_pools.items():\n",
    "    print(pool_id, \":\", [policies[i] for i in pool])"
   ]
  },
  {
   "cell_type": "markdown",
   "id": "3751d3a0-9f2a-430b-88ec-a636c3f58f3d",
   "metadata": {},
   "source": [
    "### Generate data"
   ]
  },
  {
   "cell_type": "code",
   "execution_count": 3,
   "id": "314fe15c",
   "metadata": {},
   "outputs": [],
   "source": [
    "np.random.seed(3)\n",
    "\n",
    "num_pools = len(pi_pools)\n",
    "# mu = np.random.uniform(0, 4, size=num_pools)\n",
    "mu = np.array([3, 6, 1, 4])\n",
    "var = [1] * num_pools\n",
    "\n",
    "n_per_pol = 1000\n",
    "\n",
    "num_data = num_policies * n_per_pol\n",
    "X = np.ndarray(shape=(num_data, M))\n",
    "D = np.ndarray(shape=(num_data, 1), dtype='int_')\n",
    "y = np.ndarray(shape=(num_data, 1))\n",
    "\n",
    "for idx, policy in enumerate(policies):\n",
    "    pool_i = pi_policies[idx]\n",
    "    mu_i = mu[pool_i]\n",
    "    var_i = var[pool_i]\n",
    "    y_i = np.random.normal(mu_i, var_i, size=(n_per_pol, 1))\n",
    "\n",
    "    start_idx = idx * n_per_pol\n",
    "    end_idx = (idx + 1) * n_per_pol\n",
    "\n",
    "    X[start_idx:end_idx, ] = policy\n",
    "    D[start_idx:end_idx, ] = idx\n",
    "    y[start_idx:end_idx, ] = y_i\n",
    "    "
   ]
  },
  {
   "cell_type": "code",
   "execution_count": 4,
   "id": "a892aa68",
   "metadata": {},
   "outputs": [
    {
     "name": "stdout",
     "output_type": "stream",
     "text": [
      "1.3959767322482817\n"
     ]
    }
   ],
   "source": [
    "# This function needs to called only once\n",
    "policy_means = loss.compute_policy_means(D, y, num_policies)\n",
    "\n",
    "# This function needs to be called every time the pools change\n",
    "mu_pools = loss.compute_pool_means(policy_means, pi_pools)\n",
    "\n",
    "# This function needs to be called every time the pools change\n",
    "Q = loss.compute_Q(D, y, sigma, policies, policy_means, 0.1)\n",
    "\n",
    "print(Q)"
   ]
  },
  {
   "cell_type": "code",
   "execution_count": 5,
   "id": "edc3aa82-8543-480c-80fd-b2214aab0e64",
   "metadata": {},
   "outputs": [
    {
     "name": "stdout",
     "output_type": "stream",
     "text": [
      "1.3958936127485342\n"
     ]
    }
   ],
   "source": [
    "i = 0\n",
    "j = 0\n",
    "\n",
    "B = loss.compute_B(D, y, sigma, i, j, policies, policy_means, 0.1)\n",
    "print(B)"
   ]
  },
  {
   "cell_type": "markdown",
   "id": "39118580-cbb0-4419-b951-f5faf8a51739",
   "metadata": {},
   "source": [
    "### RAggregate"
   ]
  },
  {
   "cell_type": "code",
   "execution_count": 55,
   "id": "2f648169-30e0-453f-b519-d1f5163e8d9c",
   "metadata": {},
   "outputs": [],
   "source": []
  },
  {
   "cell_type": "code",
   "execution_count": 30,
   "id": "9fa5fdac-2bd9-426b-a0bf-35efc4d0cddd",
   "metadata": {},
   "outputs": [
    {
     "name": "stdout",
     "output_type": "stream",
     "text": [
      "7\n"
     ]
    },
    {
     "data": {
      "text/plain": [
       "True"
      ]
     },
     "execution_count": 30,
     "metadata": {},
     "output_type": "execute_result"
    }
   ],
   "source": [
    "P_set = RAggregate(M, R, 7, D, y, 2, reg=0.1)\n",
    "print(P_set.size)\n",
    "P_set.seen(sigma)"
   ]
  },
  {
   "cell_type": "code",
   "execution_count": 72,
   "id": "c7935848-b31b-4bf3-9c95-216dc8f61436",
   "metadata": {},
   "outputs": [
    {
     "name": "stdout",
     "output_type": "stream",
     "text": [
      "Num pools: 2, Squared loss: 1.74172, Q: 1.94172\n",
      "Best policy IOU: 0.750\n",
      "Policy effects: [2.48562147 5.50364155]\n",
      "---\n",
      "Num pools: 4, Squared loss: 1.49805, Q: 1.89805\n",
      "Best policy IOU: 0.667\n",
      "Policy effects: [2.98462409 5.99545919 1.98661885 5.01182391]\n",
      "---\n",
      "Num pools: 4, Squared loss: 0.99598, Q: 1.39598\n",
      "Best policy IOU: 1.000\n",
      "Policy effects: [2.98650681 6.00144728 0.98296544 4.01022435]\n",
      "---\n",
      "Num pools: 6, Squared loss: 0.99594, Q: 1.59594\n",
      "Best policy IOU: 0.333\n",
      "Policy effects: [2.98462409 5.99545919 2.99027226 6.01342346 0.98296544 4.01022435]\n",
      "---\n",
      "Num pools: 6, Squared loss: 0.99591, Q: 1.59591\n",
      "Best policy IOU: 0.667\n",
      "Policy effects: [2.97088666 5.98855774 2.99431689 6.00789205 0.98296544 4.01022435]\n",
      "---\n",
      "Num pools: 6, Squared loss: 0.99590, Q: 1.59590\n",
      "Best policy IOU: 0.667\n",
      "Policy effects: [2.98650681 5.99153624 6.0064028  0.98296544 3.98828601 4.02119353]\n",
      "---\n",
      "Num pools: 6, Squared loss: 0.99590, Q: 1.59590\n",
      "Best policy IOU: 0.333\n",
      "Policy effects: [2.98650681 5.99430785 6.01572614 0.98296544 4.00234036 4.02599234]\n",
      "---\n"
     ]
    }
   ],
   "source": [
    "pol_means = loss.compute_policy_means(D, y, num_policies)\n",
    "true_best = pi_pools[np.argmax(mu)]\n",
    "\n",
    "for s_i in P_set:\n",
    "    # print(s_i)\n",
    "    pi_pools_i, pi_policies_i = extract_pools(policies, s_i)\n",
    "    pool_means_i = loss.compute_pool_means(pol_means, pi_pools_i)\n",
    "    \n",
    "    Q = loss.compute_Q(D, y, s_i, policies, pol_means, reg=0.1)\n",
    "    y_pred = loss.make_predictions(D, pi_policies_i, pool_means_i)\n",
    "    sqrd_err = mean_squared_error(y, y_pred)\n",
    "    pol_max = loss.find_best_policies(D, y_pred)\n",
    "    iou = loss.intersect_over_union(set(true_best), set(pol_max))\n",
    "    \n",
    "    # print(np.max(y_pred), pool_means)\n",
    "    print(f\"Num pools: {len(pi_pools_i)}, Squared loss: {sqrd_err:0.5f}, Q: {Q:0.5f}\")\n",
    "    print(f\"Best policy IOU: {iou:.3f}\")\n",
    "    print(f\"Policy effects: {pool_means_i}\")\n",
    "    print(\"---\")"
   ]
  },
  {
   "cell_type": "markdown",
   "id": "5f118bfd-5475-40b3-92a7-134a331a5afd",
   "metadata": {},
   "source": [
    "### LASSO - Beta -> alpha"
   ]
  },
  {
   "cell_type": "code",
   "execution_count": 76,
   "id": "0fae0c9b-06f7-47d7-a591-dd2d43cea775",
   "metadata": {},
   "outputs": [],
   "source": [
    "G = tva.alpha_matrix(M, R, policies)\n",
    "# print(G)\n",
    "D_matrix = tva.get_dummy_matrix(D, G, num_policies)"
   ]
  },
  {
   "cell_type": "code",
   "execution_count": 45,
   "id": "7156e414-74ff-4559-b54f-e49e94f0d0af",
   "metadata": {},
   "outputs": [
    {
     "name": "stdout",
     "output_type": "stream",
     "text": [
      "1.102648733667545\n"
     ]
    }
   ],
   "source": [
    "mod1 = linear_model.Lasso(alpha=1e-1)\n",
    "mod1.fit(D_matrix, y)\n",
    "y_tva = mod1.predict(D_matrix)\n",
    "sqrd_err = mean_squared_error(y_tva, y)\n",
    "print(sqrd_err)"
   ]
  },
  {
   "cell_type": "code",
   "execution_count": 65,
   "id": "c1a7b489-7314-469e-a908-3cb102d3f707",
   "metadata": {},
   "outputs": [
    {
     "name": "stdout",
     "output_type": "stream",
     "text": [
      "1.0\n"
     ]
    }
   ],
   "source": [
    "# print(pi_pools[1])\n",
    "# np.unique(D[np.where(y_tva == np.max(y_tva)), ])\n",
    "tva_best = find_best_policies(D, y_tva)\n",
    "iou_tva = intersect_over_union(set(true_best), set(tva_best))\n",
    "print(iou_tva)"
   ]
  },
  {
   "cell_type": "code",
   "execution_count": 42,
   "id": "23187897-e75b-40b7-9920-3e845ae4d654",
   "metadata": {},
   "outputs": [
    {
     "data": {
      "text/plain": [
       "(1, 3, 4)"
      ]
     },
     "execution_count": 42,
     "metadata": {},
     "output_type": "execute_result"
    }
   ],
   "source": [
    "policies[11]"
   ]
  },
  {
   "cell_type": "code",
   "execution_count": null,
   "id": "c8af6b91-9e0e-40f2-97a5-12c21f78b2c2",
   "metadata": {},
   "outputs": [],
   "source": []
  },
  {
   "cell_type": "code",
   "execution_count": null,
   "id": "55043ac7-5b63-4430-812d-85f359422f7b",
   "metadata": {},
   "outputs": [],
   "source": []
  },
  {
   "cell_type": "code",
   "execution_count": null,
   "id": "880ea757-a1f3-4a95-aeb7-4de21ab8da61",
   "metadata": {},
   "outputs": [],
   "source": []
  },
  {
   "cell_type": "code",
   "execution_count": null,
   "id": "91cca2fa-c86d-4f2b-84af-ff41474a353b",
   "metadata": {},
   "outputs": [],
   "source": []
  },
  {
   "cell_type": "code",
   "execution_count": null,
   "id": "7dcefa1e-88c5-40d9-a8e2-39447448db03",
   "metadata": {},
   "outputs": [],
   "source": []
  },
  {
   "cell_type": "code",
   "execution_count": null,
   "id": "14cef99e-e93a-46df-bd4e-579fc87d688f",
   "metadata": {},
   "outputs": [],
   "source": []
  },
  {
   "cell_type": "code",
   "execution_count": null,
   "id": "a1420789-6b2d-4814-a34f-32850d1676b0",
   "metadata": {},
   "outputs": [],
   "source": []
  },
  {
   "cell_type": "markdown",
   "id": "ea284fe0-a9ea-443b-9bc1-22bc4d126ce2",
   "metadata": {},
   "source": [
    "### Varying R"
   ]
  },
  {
   "cell_type": "code",
   "execution_count": 192,
   "id": "4d1dbc09-5aed-42e7-8f4b-6b91d138e84a",
   "metadata": {},
   "outputs": [
    {
     "name": "stdout",
     "output_type": "stream",
     "text": [
      "0 : [(1, 1), (2, 1)]\n",
      "1 : [(1, 2), (1, 3), (2, 2), (2, 3)]\n",
      "2 : [(3, 1), (4, 1)]\n",
      "3 : [(3, 2), (3, 3), (4, 2), (4, 3)]\n"
     ]
    }
   ],
   "source": [
    "# Idea: np.inf for arbitrary dosage?\n",
    "sigma = np.array([[1, 0, 1],\n",
    "                  [0, 1, np.inf]], dtype='float64')\n",
    "# sigma = np.array([[0, 0, 0],\n",
    "#                   [0, 0, np.inf]], dtype='float64')\n",
    "\n",
    "M, n = sigma.shape\n",
    "R = np.array([5, 4])\n",
    "\n",
    "num_policies = np.prod(R-1)\n",
    "policies = enumerate_policies(M, R)\n",
    "pi_pools, pi_policies = extract_pools(policies, sigma)\n",
    "\n",
    "for pool_id, pool in pi_pools.items():\n",
    "    print(pool_id, \":\", [policies[i] for i in pool])"
   ]
  },
  {
   "cell_type": "code",
   "execution_count": 193,
   "id": "ca1f6493-1baf-4156-aa41-87525e4fd0db",
   "metadata": {},
   "outputs": [
    {
     "data": {
      "text/plain": [
       "4.0"
      ]
     },
     "execution_count": 193,
     "metadata": {},
     "output_type": "execute_result"
    }
   ],
   "source": [
    "counter.num_pools(sigma)"
   ]
  },
  {
   "cell_type": "code",
   "execution_count": 194,
   "id": "a908d747-6bb8-447d-85c2-393d11adf89f",
   "metadata": {},
   "outputs": [
    {
     "data": {
      "text/plain": [
       "6"
      ]
     },
     "execution_count": 194,
     "metadata": {},
     "output_type": "execute_result"
    }
   ],
   "source": [
    "counter.num_admissible_poolings(4, M, R)"
   ]
  },
  {
   "cell_type": "code",
   "execution_count": 195,
   "id": "1ecd5ddb-21d9-4885-abda-fdebb888ecd8",
   "metadata": {},
   "outputs": [],
   "source": [
    "np.random.seed(3)\n",
    "\n",
    "num_pools = len(pi_pools)\n",
    "mu = np.random.uniform(0, 4, size=num_pools)\n",
    "var = [1] * num_pools\n",
    "\n",
    "n_per_pol = 10\n",
    "\n",
    "num_data = num_policies * n_per_pol\n",
    "X = np.ndarray(shape=(num_data, M))\n",
    "D = np.ndarray(shape=(num_data, 1), dtype='int_')\n",
    "y = np.ndarray(shape=(num_data, 1))\n",
    "\n",
    "for idx, policy in enumerate(policies):\n",
    "    pool_i = pi_policies[idx]\n",
    "    mu_i = mu[pool_i]\n",
    "    var_i = var[pool_i]\n",
    "    y_i = np.random.normal(mu_i, var_i, size=(n_per_pol, 1))\n",
    "\n",
    "    start_idx = idx * n_per_pol\n",
    "    end_idx = (idx + 1) * n_per_pol\n",
    "\n",
    "    X[start_idx:end_idx, ] = policy\n",
    "    D[start_idx:end_idx, ] = idx\n",
    "    y[start_idx:end_idx, ] = y_i"
   ]
  },
  {
   "cell_type": "code",
   "execution_count": 196,
   "id": "52f99c60-a623-4cfc-963a-fe8857326682",
   "metadata": {},
   "outputs": [
    {
     "data": {
      "text/plain": [
       "array([[22.3306393 , 10.        ],\n",
       "       [26.09289987, 10.        ],\n",
       "       [26.9056259 , 10.        ],\n",
       "       [14.77744099, 10.        ],\n",
       "       [27.87404021, 10.        ],\n",
       "       [29.12185777, 10.        ],\n",
       "       [14.06728243, 10.        ],\n",
       "       [21.12531734, 10.        ],\n",
       "       [15.25551251, 10.        ],\n",
       "       [12.69909817, 10.        ],\n",
       "       [21.11531527, 10.        ],\n",
       "       [19.32885624, 10.        ]])"
      ]
     },
     "execution_count": 196,
     "metadata": {},
     "output_type": "execute_result"
    }
   ],
   "source": [
    "policy_means = loss.compute_policy_means(D, y, num_policies)\n",
    "policy_means"
   ]
  },
  {
   "cell_type": "code",
   "execution_count": 197,
   "id": "97470e90-a6c9-464f-bce7-ed17adced082",
   "metadata": {},
   "outputs": [
    {
     "data": {
      "text/plain": [
       "4.9889861406550375"
      ]
     },
     "execution_count": 197,
     "metadata": {},
     "output_type": "execute_result"
    }
   ],
   "source": [
    "Q = loss.compute_Q(D, y, sigma, policies, policy_means, reg=1)\n",
    "Q"
   ]
  },
  {
   "cell_type": "code",
   "execution_count": 198,
   "id": "1de0393d-e1bc-4eda-8bcf-fa7c5dda79f9",
   "metadata": {},
   "outputs": [
    {
     "name": "stdout",
     "output_type": "stream",
     "text": [
      "6.975889428946971\n"
     ]
    }
   ],
   "source": [
    "i = 1\n",
    "j = 1\n",
    "B = loss.compute_B(D, y, sigma, i, j, policies, policy_means, reg=1)\n",
    "print(B)"
   ]
  },
  {
   "cell_type": "code",
   "execution_count": 199,
   "id": "c1b25293-aa89-4aa0-9b67-21ea3432ee06",
   "metadata": {},
   "outputs": [
    {
     "name": "stdout",
     "output_type": "stream",
     "text": [
      "5\n"
     ]
    },
    {
     "data": {
      "text/plain": [
       "True"
      ]
     },
     "execution_count": 199,
     "metadata": {},
     "output_type": "execute_result"
    }
   ],
   "source": [
    "P_set = RAggregate(2, R, 4, D, y, 1.4, reg=0.1)\n",
    "print(P_set.size)\n",
    "P_set.seen(sigma)"
   ]
  },
  {
   "cell_type": "code",
   "execution_count": null,
   "id": "0dd987c1-d193-454d-961c-bedc65b7f6e4",
   "metadata": {},
   "outputs": [],
   "source": []
  },
  {
   "cell_type": "code",
   "execution_count": null,
   "id": "39676ca8-730d-47dd-9fb2-e40492fc0b61",
   "metadata": {},
   "outputs": [],
   "source": []
  },
  {
   "cell_type": "code",
   "execution_count": null,
   "id": "c0d2b17f-3024-4e98-8f26-6891dfc70760",
   "metadata": {},
   "outputs": [],
   "source": []
  },
  {
   "cell_type": "code",
   "execution_count": null,
   "id": "b8e404e9-8767-4aee-8f80-50bbfeef3a59",
   "metadata": {},
   "outputs": [],
   "source": []
  }
 ],
 "metadata": {
  "kernelspec": {
   "display_name": "Python (rashomon-tva)",
   "language": "python",
   "name": "rashomon-tva"
  },
  "language_info": {
   "codemirror_mode": {
    "name": "ipython",
    "version": 3
   },
   "file_extension": ".py",
   "mimetype": "text/x-python",
   "name": "python",
   "nbconvert_exporter": "python",
   "pygments_lexer": "ipython3",
   "version": "3.11.3"
  }
 },
 "nbformat": 4,
 "nbformat_minor": 5
}
