{
 "cells": [
  {
   "cell_type": "code",
   "execution_count": 175,
   "id": "e35313a0-6689-4d13-9292-afd425e770b8",
   "metadata": {},
   "outputs": [],
   "source": [
    "import numpy as np\n",
    "import matplotlib.pyplot as plt\n",
    "import pandas as pd\n",
    "import seaborn as sns\n",
    "\n",
    "import os\n",
    "import pickle\n",
    "\n",
    "from copy import deepcopy\n",
    "\n",
    "from rashomon.sets import RashomonSet\n",
    "\n",
    "%matplotlib inline"
   ]
  },
  {
   "cell_type": "code",
   "execution_count": null,
   "id": "c309f96d-cfd0-4c23-80b1-4f862b7d51a1",
   "metadata": {},
   "outputs": [],
   "source": []
  },
  {
   "cell_type": "code",
   "execution_count": null,
   "id": "603036ae-5fad-44b3-9612-d8c26fc16a07",
   "metadata": {},
   "outputs": [],
   "source": []
  },
  {
   "cell_type": "code",
   "execution_count": 73,
   "id": "31ef1ef4-d312-4601-b8c2-603530d29b59",
   "metadata": {},
   "outputs": [],
   "source": [
    "dir = \"../Results/TE/\"\n",
    "\n",
    "setup_id = 1\n",
    "n_iters = 10\n",
    "n_per_pol = 10"
   ]
  },
  {
   "cell_type": "markdown",
   "id": "d8fc17c8-0a03-46e3-adaa-2b7dd258cdbb",
   "metadata": {},
   "source": [
    "## Read Rashomon results"
   ]
  },
  {
   "cell_type": "code",
   "execution_count": 131,
   "id": "8c1b6225-bfc7-4d42-b4e3-e05fcc9c79cd",
   "metadata": {},
   "outputs": [
    {
     "ename": "NameError",
     "evalue": "name 'setup_id' is not defined",
     "output_type": "error",
     "traceback": [
      "\u001b[0;31m---------------------------------------------------------------------------\u001b[0m",
      "\u001b[0;31mNameError\u001b[0m                                 Traceback (most recent call last)",
      "Cell \u001b[0;32mIn[131], line 3\u001b[0m\n\u001b[1;32m      1\u001b[0m method \u001b[38;5;241m=\u001b[39m \u001b[38;5;124m\"\u001b[39m\u001b[38;5;124mrashomon\u001b[39m\u001b[38;5;124m\"\u001b[39m\n\u001b[0;32m----> 3\u001b[0m rashomon_csv \u001b[38;5;241m=\u001b[39m \u001b[38;5;124mf\u001b[39m\u001b[38;5;124m\"\u001b[39m\u001b[38;5;124mte_sims_\u001b[39m\u001b[38;5;132;01m{\u001b[39;00m\u001b[43msetup_id\u001b[49m\u001b[38;5;132;01m}\u001b[39;00m\u001b[38;5;124m_\u001b[39m\u001b[38;5;132;01m{\u001b[39;00mmethod\u001b[38;5;132;01m}\u001b[39;00m\u001b[38;5;124m_\u001b[39m\u001b[38;5;132;01m{\u001b[39;00mn_per_pol\u001b[38;5;132;01m}\u001b[39;00m\u001b[38;5;124m_\u001b[39m\u001b[38;5;132;01m{\u001b[39;00mn_iters\u001b[38;5;132;01m}\u001b[39;00m\u001b[38;5;124m.csv\u001b[39m\u001b[38;5;124m\"\u001b[39m\n\u001b[1;32m      4\u001b[0m rashomon_raw_df \u001b[38;5;241m=\u001b[39m pd\u001b[38;5;241m.\u001b[39mread_csv(\u001b[38;5;28mdir\u001b[39m \u001b[38;5;241m+\u001b[39m rashomon_csv)\n\u001b[1;32m      5\u001b[0m rashomon_raw_df \u001b[38;5;241m=\u001b[39m rashomon_raw_df\u001b[38;5;241m.\u001b[39mdrop([\u001b[38;5;124m\"\u001b[39m\u001b[38;5;124mUnnamed: 0\u001b[39m\u001b[38;5;124m\"\u001b[39m], axis\u001b[38;5;241m=\u001b[39m\u001b[38;5;241m1\u001b[39m)\n",
      "\u001b[0;31mNameError\u001b[0m: name 'setup_id' is not defined"
     ]
    }
   ],
   "source": [
    "method = \"rashomon\"\n",
    "\n",
    "rashomon_csv = f\"te_sims_{setup_id}_{method}_{n_per_pol}_{n_iters}.csv\"\n",
    "rashomon_raw_df = pd.read_csv(dir + rashomon_csv)\n",
    "rashomon_raw_df = rashomon_raw_df.drop([\"Unnamed: 0\"], axis=1)\n",
    "\n",
    "rashomon_raw_df.head()"
   ]
  },
  {
   "cell_type": "code",
   "execution_count": 90,
   "id": "3bcaa45a-f047-4970-baab-aa289cccf4ee",
   "metadata": {},
   "outputs": [
    {
     "name": "stdout",
     "output_type": "stream",
     "text": [
      "Loss range: (1.423419292318626, 1.9999610691220853); epsilon = 0.4050400187174104\n"
     ]
    },
    {
     "data": {
      "text/html": [
       "<div>\n",
       "<style scoped>\n",
       "    .dataframe tbody tr th:only-of-type {\n",
       "        vertical-align: middle;\n",
       "    }\n",
       "\n",
       "    .dataframe tbody tr th {\n",
       "        vertical-align: top;\n",
       "    }\n",
       "\n",
       "    .dataframe thead th {\n",
       "        text-align: right;\n",
       "    }\n",
       "</style>\n",
       "<table border=\"1\" class=\"dataframe\">\n",
       "  <thead>\n",
       "    <tr style=\"text-align: right;\">\n",
       "      <th></th>\n",
       "      <th>n_per_pol</th>\n",
       "      <th>sim_num</th>\n",
       "      <th>idx</th>\n",
       "      <th>te_idx</th>\n",
       "      <th>MSE_TE</th>\n",
       "      <th>max_te_diff</th>\n",
       "      <th>IOU</th>\n",
       "      <th>MSE</th>\n",
       "      <th>num_pools</th>\n",
       "      <th>loss</th>\n",
       "      <th>min_loss</th>\n",
       "      <th>max_te_err</th>\n",
       "    </tr>\n",
       "  </thead>\n",
       "  <tbody>\n",
       "    <tr>\n",
       "      <th>0</th>\n",
       "      <td>10</td>\n",
       "      <td>0</td>\n",
       "      <td>0</td>\n",
       "      <td>0</td>\n",
       "      <td>2.215119</td>\n",
       "      <td>0.069926</td>\n",
       "      <td>0.714286</td>\n",
       "      <td>0.245833</td>\n",
       "      <td>13</td>\n",
       "      <td>1.545833</td>\n",
       "      <td>1.445833</td>\n",
       "      <td>0.004890</td>\n",
       "    </tr>\n",
       "    <tr>\n",
       "      <th>1</th>\n",
       "      <td>10</td>\n",
       "      <td>0</td>\n",
       "      <td>0</td>\n",
       "      <td>1</td>\n",
       "      <td>2.303601</td>\n",
       "      <td>-0.010875</td>\n",
       "      <td>0.714286</td>\n",
       "      <td>0.327443</td>\n",
       "      <td>12</td>\n",
       "      <td>1.527443</td>\n",
       "      <td>1.445833</td>\n",
       "      <td>0.000118</td>\n",
       "    </tr>\n",
       "    <tr>\n",
       "      <th>2</th>\n",
       "      <td>10</td>\n",
       "      <td>0</td>\n",
       "      <td>0</td>\n",
       "      <td>2</td>\n",
       "      <td>2.373742</td>\n",
       "      <td>-0.030008</td>\n",
       "      <td>0.714286</td>\n",
       "      <td>0.290773</td>\n",
       "      <td>12</td>\n",
       "      <td>1.490773</td>\n",
       "      <td>1.445833</td>\n",
       "      <td>0.000900</td>\n",
       "    </tr>\n",
       "    <tr>\n",
       "      <th>3</th>\n",
       "      <td>10</td>\n",
       "      <td>0</td>\n",
       "      <td>0</td>\n",
       "      <td>3</td>\n",
       "      <td>2.173728</td>\n",
       "      <td>0.028504</td>\n",
       "      <td>0.714286</td>\n",
       "      <td>0.267281</td>\n",
       "      <td>12</td>\n",
       "      <td>1.467281</td>\n",
       "      <td>1.445833</td>\n",
       "      <td>0.000812</td>\n",
       "    </tr>\n",
       "    <tr>\n",
       "      <th>4</th>\n",
       "      <td>10</td>\n",
       "      <td>0</td>\n",
       "      <td>0</td>\n",
       "      <td>4</td>\n",
       "      <td>2.281720</td>\n",
       "      <td>0.182620</td>\n",
       "      <td>0.714286</td>\n",
       "      <td>0.302982</td>\n",
       "      <td>12</td>\n",
       "      <td>1.502982</td>\n",
       "      <td>1.445833</td>\n",
       "      <td>0.033350</td>\n",
       "    </tr>\n",
       "  </tbody>\n",
       "</table>\n",
       "</div>"
      ],
      "text/plain": [
       "   n_per_pol  sim_num  idx  te_idx    MSE_TE  max_te_diff       IOU       MSE  \\\n",
       "0         10        0    0       0  2.215119     0.069926  0.714286  0.245833   \n",
       "1         10        0    0       1  2.303601    -0.010875  0.714286  0.327443   \n",
       "2         10        0    0       2  2.373742    -0.030008  0.714286  0.290773   \n",
       "3         10        0    0       3  2.173728     0.028504  0.714286  0.267281   \n",
       "4         10        0    0       4  2.281720     0.182620  0.714286  0.302982   \n",
       "\n",
       "   num_pools      loss  min_loss  max_te_err  \n",
       "0         13  1.545833  1.445833    0.004890  \n",
       "1         12  1.527443  1.445833    0.000118  \n",
       "2         12  1.490773  1.445833    0.000900  \n",
       "3         12  1.467281  1.445833    0.000812  \n",
       "4         12  1.502982  1.445833    0.033350  "
      ]
     },
     "execution_count": 90,
     "metadata": {},
     "output_type": "execute_result"
    }
   ],
   "source": [
    "rashomon_df = rashomon_raw_df.copy()\n",
    "\n",
    "reg = 1e-1\n",
    "\n",
    "rashomon_df[\"loss\"] = rashomon_df[\"MSE\"] + reg * rashomon_df[\"num_pools\"]\n",
    "rashomon_df[\"min_loss\"] = rashomon_df.groupby([\"n_per_pol\", \"sim_num\"])[\"loss\"].transform(\"min\")\n",
    "rashomon_df[\"max_te_err\"] = rashomon_df[\"max_te_diff\"] ** 2\n",
    "\n",
    "\n",
    "losses = np.array(rashomon_df[\"loss\"])\n",
    "min_loss = np.min(losses)\n",
    "max_loss = np.max(losses)\n",
    "epsilons = (losses - min_loss) / min_loss\n",
    "max_epsilon = np.max(epsilons)\n",
    "\n",
    "print(f\"Loss range: ({min_loss}, {max_loss}); epsilon = {max_epsilon}\")\n",
    "\n",
    "rashomon_df.head()"
   ]
  },
  {
   "cell_type": "code",
   "execution_count": 91,
   "id": "3192ac80-aebf-472b-8605-7c667aa2528c",
   "metadata": {},
   "outputs": [
    {
     "data": {
      "image/png": "[encoded data removed]",
      "text/plain": [
       "<Figure size 600x400 with 1 Axes>"
      ]
     },
     "metadata": {},
     "output_type": "display_data"
    }
   ],
   "source": [
    "fig, ax = plt.subplots(figsize=(6, 4))\n",
    "\n",
    "sorted_losses = np.sort(losses)\n",
    "sorted_epsilons = np.sort(epsilons)\n",
    "R_set_range = np.arange(0, len(sorted_losses)) + 1\n",
    "err_bound = 1 / (sorted_losses * R_set_range)\n",
    "\n",
    "ax.plot(sorted_epsilons, err_bound,\n",
    "        zorder=3.1)\n",
    "\n",
    "ax.set_xlabel(r\"$\\epsilon$\")\n",
    "ax.set_ylabel(r\"$\\mathcal{O} \\left( 1 - 1 / \\theta |P_{\\theta}| \\right)$\", rotation=90)\n",
    "\n",
    "ax.set_xlim(0, np.max(sorted_epsilons))\n",
    "ax.set_ylim(np.min(err_bound), np.max(err_bound))\n",
    "\n",
    "plt.show()"
   ]
  },
  {
   "cell_type": "code",
   "execution_count": 103,
   "id": "88446753-5278-4800-8f7a-f60d4468e488",
   "metadata": {},
   "outputs": [
    {
     "name": "stdout",
     "output_type": "stream",
     "text": [
      "752\n"
     ]
    }
   ],
   "source": [
    "print(len(conf_matrices))"
   ]
  },
  {
   "cell_type": "code",
   "execution_count": 104,
   "id": "26dfebbf-48b3-48a1-a8d1-ae583f38584f",
   "metadata": {},
   "outputs": [
    {
     "data": {
      "text/plain": [
       "[array([[ 9,  0,  1],\n",
       "        [ 1,  0,  1],\n",
       "        [ 2,  0, 34]]),\n",
       " array([[ 7,  2,  1],\n",
       "        [ 0,  0,  2],\n",
       "        [ 1,  0, 35]]),\n",
       " array([[ 3,  6,  1],\n",
       "        [ 0,  0,  2],\n",
       "        [ 1,  0, 35]]),\n",
       " array([[ 8,  1,  1],\n",
       "        [ 0,  0,  2],\n",
       "        [ 0,  1, 35]]),\n",
       " array([[ 9,  1,  0],\n",
       "        [ 1,  0,  1],\n",
       "        [ 2,  5, 29]]),\n",
       " array([[ 9,  0,  1],\n",
       "        [ 1,  0,  1],\n",
       "        [ 2,  2, 32]]),\n",
       " array([[ 9,  0,  1],\n",
       "        [ 1,  0,  1],\n",
       "        [ 2,  2, 32]]),\n",
       " array([[ 9,  0,  1],\n",
       "        [ 1,  0,  1],\n",
       "        [ 2,  6, 28]]),\n",
       " array([[ 9,  0,  1],\n",
       "        [ 0,  1,  1],\n",
       "        [ 1,  1, 34]]),\n",
       " array([[ 9,  0,  1],\n",
       "        [ 1,  1,  0],\n",
       "        [ 2,  5, 29]]),\n",
       " array([[ 9,  0,  1],\n",
       "        [ 1,  0,  1],\n",
       "        [ 2,  2, 32]]),\n",
       " array([[ 9,  0,  1],\n",
       "        [ 1,  0,  1],\n",
       "        [ 2,  6, 28]])]"
      ]
     },
     "execution_count": 104,
     "metadata": {},
     "output_type": "execute_result"
    }
   ],
   "source": [
    "conf_matrices[0]"
   ]
  },
  {
   "cell_type": "code",
   "execution_count": 106,
   "id": "eb159896-4cde-4eff-823b-fedd2daa842e",
   "metadata": {},
   "outputs": [
    {
     "data": {
      "text/html": [
       "<div>\n",
       "<style scoped>\n",
       "    .dataframe tbody tr th:only-of-type {\n",
       "        vertical-align: middle;\n",
       "    }\n",
       "\n",
       "    .dataframe tbody tr th {\n",
       "        vertical-align: top;\n",
       "    }\n",
       "\n",
       "    .dataframe thead th {\n",
       "        text-align: right;\n",
       "    }\n",
       "</style>\n",
       "<table border=\"1\" class=\"dataframe\">\n",
       "  <thead>\n",
       "    <tr style=\"text-align: right;\">\n",
       "      <th></th>\n",
       "      <th>n_per_pol</th>\n",
       "      <th>sim_num</th>\n",
       "      <th>idx</th>\n",
       "      <th>te_idx</th>\n",
       "      <th>MSE_TE</th>\n",
       "      <th>max_te_diff</th>\n",
       "      <th>IOU</th>\n",
       "      <th>MSE</th>\n",
       "      <th>num_pools</th>\n",
       "      <th>loss</th>\n",
       "      <th>min_loss</th>\n",
       "      <th>max_te_err</th>\n",
       "      <th>loss_threshold</th>\n",
       "    </tr>\n",
       "  </thead>\n",
       "  <tbody>\n",
       "    <tr>\n",
       "      <th>0</th>\n",
       "      <td>10</td>\n",
       "      <td>0</td>\n",
       "      <td>0</td>\n",
       "      <td>0</td>\n",
       "      <td>2.215119</td>\n",
       "      <td>0.069926</td>\n",
       "      <td>0.714286</td>\n",
       "      <td>0.245833</td>\n",
       "      <td>13</td>\n",
       "      <td>1.545833</td>\n",
       "      <td>1.445833</td>\n",
       "      <td>0.004890</td>\n",
       "      <td>1.590416</td>\n",
       "    </tr>\n",
       "    <tr>\n",
       "      <th>1</th>\n",
       "      <td>10</td>\n",
       "      <td>0</td>\n",
       "      <td>0</td>\n",
       "      <td>1</td>\n",
       "      <td>2.303601</td>\n",
       "      <td>-0.010875</td>\n",
       "      <td>0.714286</td>\n",
       "      <td>0.327443</td>\n",
       "      <td>12</td>\n",
       "      <td>1.527443</td>\n",
       "      <td>1.445833</td>\n",
       "      <td>0.000118</td>\n",
       "      <td>1.590416</td>\n",
       "    </tr>\n",
       "    <tr>\n",
       "      <th>2</th>\n",
       "      <td>10</td>\n",
       "      <td>0</td>\n",
       "      <td>0</td>\n",
       "      <td>2</td>\n",
       "      <td>2.373742</td>\n",
       "      <td>-0.030008</td>\n",
       "      <td>0.714286</td>\n",
       "      <td>0.290773</td>\n",
       "      <td>12</td>\n",
       "      <td>1.490773</td>\n",
       "      <td>1.445833</td>\n",
       "      <td>0.000900</td>\n",
       "      <td>1.590416</td>\n",
       "    </tr>\n",
       "    <tr>\n",
       "      <th>3</th>\n",
       "      <td>10</td>\n",
       "      <td>0</td>\n",
       "      <td>0</td>\n",
       "      <td>3</td>\n",
       "      <td>2.173728</td>\n",
       "      <td>0.028504</td>\n",
       "      <td>0.714286</td>\n",
       "      <td>0.267281</td>\n",
       "      <td>12</td>\n",
       "      <td>1.467281</td>\n",
       "      <td>1.445833</td>\n",
       "      <td>0.000812</td>\n",
       "      <td>1.590416</td>\n",
       "    </tr>\n",
       "    <tr>\n",
       "      <th>4</th>\n",
       "      <td>10</td>\n",
       "      <td>0</td>\n",
       "      <td>0</td>\n",
       "      <td>4</td>\n",
       "      <td>2.281720</td>\n",
       "      <td>0.182620</td>\n",
       "      <td>0.714286</td>\n",
       "      <td>0.302982</td>\n",
       "      <td>12</td>\n",
       "      <td>1.502982</td>\n",
       "      <td>1.445833</td>\n",
       "      <td>0.033350</td>\n",
       "      <td>1.590416</td>\n",
       "    </tr>\n",
       "  </tbody>\n",
       "</table>\n",
       "</div>"
      ],
      "text/plain": [
       "   n_per_pol  sim_num  idx  te_idx    MSE_TE  max_te_diff       IOU       MSE  \\\n",
       "0         10        0    0       0  2.215119     0.069926  0.714286  0.245833   \n",
       "1         10        0    0       1  2.303601    -0.010875  0.714286  0.327443   \n",
       "2         10        0    0       2  2.373742    -0.030008  0.714286  0.290773   \n",
       "3         10        0    0       3  2.173728     0.028504  0.714286  0.267281   \n",
       "4         10        0    0       4  2.281720     0.182620  0.714286  0.302982   \n",
       "\n",
       "   num_pools      loss  min_loss  max_te_err  loss_threshold  \n",
       "0         13  1.545833  1.445833    0.004890        1.590416  \n",
       "1         12  1.527443  1.445833    0.000118        1.590416  \n",
       "2         12  1.490773  1.445833    0.000900        1.590416  \n",
       "3         12  1.467281  1.445833    0.000812        1.590416  \n",
       "4         12  1.502982  1.445833    0.033350        1.590416  "
      ]
     },
     "execution_count": 106,
     "metadata": {},
     "output_type": "execute_result"
    }
   ],
   "source": [
    "eps_threshold = 0.1\n",
    "\n",
    "rashomon_df[\"loss_threshold\"] = rashomon_df[\"min_loss\"] * (1 + eps_threshold)\n",
    "rashomon_subset = rashomon_df[rashomon_df[\"loss\"] <= rashomon_df[\"loss_threshold\"]].copy()\n",
    "\n",
    "subset_dict = rashomon_subset[[\"sim_num\", \"idx\", \"te_idx\"]].to_dict(orient=\"records\")\n",
    "\n",
    "rashomon_subset.head()"
   ]
  },
  {
   "cell_type": "code",
   "execution_count": 108,
   "id": "0693cbbe-9c0a-4815-a89b-a01576ccdf30",
   "metadata": {},
   "outputs": [
    {
     "data": {
      "text/html": [
       "<div>\n",
       "<style scoped>\n",
       "    .dataframe tbody tr th:only-of-type {\n",
       "        vertical-align: middle;\n",
       "    }\n",
       "\n",
       "    .dataframe tbody tr th {\n",
       "        vertical-align: top;\n",
       "    }\n",
       "\n",
       "    .dataframe thead th {\n",
       "        text-align: right;\n",
       "    }\n",
       "</style>\n",
       "<table border=\"1\" class=\"dataframe\">\n",
       "  <thead>\n",
       "    <tr style=\"text-align: right;\">\n",
       "      <th></th>\n",
       "      <th>n_per_pol</th>\n",
       "      <th>mean_MSE_TE</th>\n",
       "      <th>mean_max_te_err</th>\n",
       "      <th>mean_IOU</th>\n",
       "    </tr>\n",
       "  </thead>\n",
       "  <tbody>\n",
       "    <tr>\n",
       "      <th>6636</th>\n",
       "      <td>10</td>\n",
       "      <td>2.211857</td>\n",
       "      <td>0.00322</td>\n",
       "      <td>0.714286</td>\n",
       "    </tr>\n",
       "  </tbody>\n",
       "</table>\n",
       "</div>"
      ],
      "text/plain": [
       "      n_per_pol  mean_MSE_TE  mean_max_te_err  mean_IOU\n",
       "6636         10     2.211857          0.00322  0.714286"
      ]
     },
     "execution_count": 108,
     "metadata": {},
     "output_type": "execute_result"
    }
   ],
   "source": [
    "groupby_cols = [\"n_per_pol\"]\n",
    "\n",
    "average_cols = [\"MSE_TE\", \"IOU\", \"max_te_err\"]\n",
    "\n",
    "for col in average_cols:\n",
    "    mean_col = \"mean_\" + col    \n",
    "    rashomon_subset[mean_col] = rashomon_subset.groupby(groupby_cols)[col].transform(\"mean\")\n",
    "\n",
    "rashomon_subset = rashomon_subset.drop_duplicates(subset=groupby_cols, keep=\"last\")\n",
    "\n",
    "cols_to_keep = [\"n_per_pol\", \"mean_MSE_TE\", \"mean_max_te_err\", \"mean_IOU\"]\n",
    "rashomon_subset = rashomon_subset[cols_to_keep]\n",
    "\n",
    "rashomon_subset.head()"
   ]
  },
  {
   "cell_type": "code",
   "execution_count": 173,
   "id": "55cd6c08-5f7e-4a37-a22a-97c94a580ac7",
   "metadata": {},
   "outputs": [
    {
     "name": "stdout",
     "output_type": "stream",
     "text": [
      "[[0.82289157 0.08385542 0.09325301]\n",
      " [0.19156627 0.10843373 0.7       ]\n",
      " [0.03246319 0.0356091  0.93192771]]\n"
     ]
    }
   ],
   "source": [
    "method = \"rashomon\"\n",
    "\n",
    "rashomon_pkl = f\"te_sims_{sim_num}_{method}_{n_per_pol}_{n_iters}_conf_mat.pkl\"\n",
    "with open(os.path.join(dir, rashomon_pkl), \"rb\") as f:\n",
    "    r_conf_matrices = pickle.load(f)\n",
    "\n",
    "r_conf_mat_subset = []\n",
    "\n",
    "for record in subset_dict:\n",
    "    sim_i = record[\"sim_num\"]\n",
    "    r_idx = record[\"idx\"]\n",
    "    te_idx = record[\"te_idx\"]\n",
    "    conf_mat_i = r_conf_matrices[sim_i][r_idx][te_idx]\n",
    "    r_conf_mat_subset.append(conf_mat_i)\n",
    "\n",
    "r_conf_matrices = np.array(r_conf_mat_subset)\n",
    "# r_conf_mean = np.mean(r_conf_matrices, axis=0)\n",
    "\n",
    "r_conf_mean = np.sum(r_conf_matrices, axis=0, dtype=np.float64)\n",
    "r_conf_mean[0, :] = r_conf_mean[0, :] / np.sum(r_conf_mean[0, :])\n",
    "r_conf_mean[1, :] = r_conf_mean[1, :] / np.sum(r_conf_mean[1, :])\n",
    "r_conf_mean[2, :] = r_conf_mean[2, :] / np.sum(r_conf_mean[2, :])\n",
    "\n",
    "\n",
    "print(r_conf_mean)"
   ]
  },
  {
   "cell_type": "code",
   "execution_count": 162,
   "id": "d2b02355-a193-4938-861e-7cebf8cd92e5",
   "metadata": {},
   "outputs": [
    {
     "data": {
      "text/plain": [
       "array([ 4059,   970, 14891])"
      ]
     },
     "execution_count": 162,
     "metadata": {},
     "output_type": "execute_result"
    }
   ],
   "source": [
    "np.sum(r_conf_mean, axis=0)"
   ]
  },
  {
   "cell_type": "code",
   "execution_count": null,
   "id": "f5820d1d-67d1-4dce-846c-6cbee92dccd9",
   "metadata": {},
   "outputs": [],
   "source": []
  },
  {
   "cell_type": "code",
   "execution_count": null,
   "id": "3d993cae-1f7b-47b8-bfe3-3be0d97e29db",
   "metadata": {},
   "outputs": [],
   "source": []
  },
  {
   "cell_type": "code",
   "execution_count": null,
   "id": "7bd484c3-9573-4cbd-906d-a1aa98161a9c",
   "metadata": {},
   "outputs": [],
   "source": []
  },
  {
   "cell_type": "code",
   "execution_count": 77,
   "id": "d47f90c8-d342-4275-b4b7-0a34b83077a9",
   "metadata": {},
   "outputs": [
    {
     "data": {
      "text/html": [
       "<div>\n",
       "<style scoped>\n",
       "    .dataframe tbody tr th:only-of-type {\n",
       "        vertical-align: middle;\n",
       "    }\n",
       "\n",
       "    .dataframe tbody tr th {\n",
       "        vertical-align: top;\n",
       "    }\n",
       "\n",
       "    .dataframe thead th {\n",
       "        text-align: right;\n",
       "    }\n",
       "</style>\n",
       "<table border=\"1\" class=\"dataframe\">\n",
       "  <thead>\n",
       "    <tr style=\"text-align: right;\">\n",
       "      <th></th>\n",
       "      <th>n_per_pol</th>\n",
       "      <th>sim_num</th>\n",
       "      <th>idx</th>\n",
       "      <th>te_idx</th>\n",
       "      <th>MSE_TE</th>\n",
       "      <th>max_te_diff</th>\n",
       "      <th>IOU</th>\n",
       "      <th>MSE</th>\n",
       "      <th>num_pools</th>\n",
       "      <th>loss</th>\n",
       "      <th>min_loss</th>\n",
       "    </tr>\n",
       "  </thead>\n",
       "  <tbody>\n",
       "    <tr>\n",
       "      <th>0</th>\n",
       "      <td>10</td>\n",
       "      <td>0</td>\n",
       "      <td>0</td>\n",
       "      <td>0</td>\n",
       "      <td>2.215119</td>\n",
       "      <td>0.069926</td>\n",
       "      <td>0.714286</td>\n",
       "      <td>0.245833</td>\n",
       "      <td>13</td>\n",
       "      <td>1.545833</td>\n",
       "      <td>1.445833</td>\n",
       "    </tr>\n",
       "    <tr>\n",
       "      <th>1</th>\n",
       "      <td>10</td>\n",
       "      <td>0</td>\n",
       "      <td>0</td>\n",
       "      <td>1</td>\n",
       "      <td>2.303601</td>\n",
       "      <td>-0.010875</td>\n",
       "      <td>0.714286</td>\n",
       "      <td>0.327443</td>\n",
       "      <td>12</td>\n",
       "      <td>1.527443</td>\n",
       "      <td>1.445833</td>\n",
       "    </tr>\n",
       "    <tr>\n",
       "      <th>2</th>\n",
       "      <td>10</td>\n",
       "      <td>0</td>\n",
       "      <td>0</td>\n",
       "      <td>2</td>\n",
       "      <td>2.373742</td>\n",
       "      <td>-0.030008</td>\n",
       "      <td>0.714286</td>\n",
       "      <td>0.290773</td>\n",
       "      <td>12</td>\n",
       "      <td>1.490773</td>\n",
       "      <td>1.445833</td>\n",
       "    </tr>\n",
       "    <tr>\n",
       "      <th>3</th>\n",
       "      <td>10</td>\n",
       "      <td>0</td>\n",
       "      <td>0</td>\n",
       "      <td>3</td>\n",
       "      <td>2.173728</td>\n",
       "      <td>0.028504</td>\n",
       "      <td>0.714286</td>\n",
       "      <td>0.267281</td>\n",
       "      <td>12</td>\n",
       "      <td>1.467281</td>\n",
       "      <td>1.445833</td>\n",
       "    </tr>\n",
       "    <tr>\n",
       "      <th>4</th>\n",
       "      <td>10</td>\n",
       "      <td>0</td>\n",
       "      <td>0</td>\n",
       "      <td>4</td>\n",
       "      <td>2.281720</td>\n",
       "      <td>0.182620</td>\n",
       "      <td>0.714286</td>\n",
       "      <td>0.302982</td>\n",
       "      <td>12</td>\n",
       "      <td>1.502982</td>\n",
       "      <td>1.445833</td>\n",
       "    </tr>\n",
       "  </tbody>\n",
       "</table>\n",
       "</div>"
      ],
      "text/plain": [
       "   n_per_pol  sim_num  idx  te_idx    MSE_TE  max_te_diff       IOU       MSE  \\\n",
       "0         10        0    0       0  2.215119     0.069926  0.714286  0.245833   \n",
       "1         10        0    0       1  2.303601    -0.010875  0.714286  0.327443   \n",
       "2         10        0    0       2  2.373742    -0.030008  0.714286  0.290773   \n",
       "3         10        0    0       3  2.173728     0.028504  0.714286  0.267281   \n",
       "4         10        0    0       4  2.281720     0.182620  0.714286  0.302982   \n",
       "\n",
       "   num_pools      loss  min_loss  \n",
       "0         13  1.545833  1.445833  \n",
       "1         12  1.527443  1.445833  \n",
       "2         12  1.490773  1.445833  \n",
       "3         12  1.467281  1.445833  \n",
       "4         12  1.502982  1.445833  "
      ]
     },
     "execution_count": 77,
     "metadata": {},
     "output_type": "execute_result"
    }
   ],
   "source": []
  },
  {
   "cell_type": "code",
   "execution_count": null,
   "id": "365f0953-71d0-462a-8307-a1cd75198f99",
   "metadata": {},
   "outputs": [],
   "source": []
  },
  {
   "cell_type": "code",
   "execution_count": null,
   "id": "69250ab4-b31f-4f73-920e-62f596382ce7",
   "metadata": {},
   "outputs": [],
   "source": []
  },
  {
   "cell_type": "code",
   "execution_count": null,
   "id": "2c1ca7f9-dcfe-4a71-b56d-12a281ad46c0",
   "metadata": {},
   "outputs": [],
   "source": []
  },
  {
   "cell_type": "code",
   "execution_count": null,
   "id": "4b59f22c-bcff-4da6-b897-368d8f73c544",
   "metadata": {},
   "outputs": [],
   "source": []
  },
  {
   "cell_type": "markdown",
   "id": "39f9779b-1395-491f-959c-e7a9e8299167",
   "metadata": {},
   "source": [
    "## Read CF results"
   ]
  },
  {
   "cell_type": "code",
   "execution_count": 58,
   "id": "2955e44f-3f15-47f4-a537-e55ce098c351",
   "metadata": {},
   "outputs": [
    {
     "data": {
      "text/html": [
       "<div>\n",
       "<style scoped>\n",
       "    .dataframe tbody tr th:only-of-type {\n",
       "        vertical-align: middle;\n",
       "    }\n",
       "\n",
       "    .dataframe tbody tr th {\n",
       "        vertical-align: top;\n",
       "    }\n",
       "\n",
       "    .dataframe thead th {\n",
       "        text-align: right;\n",
       "    }\n",
       "</style>\n",
       "<table border=\"1\" class=\"dataframe\">\n",
       "  <thead>\n",
       "    <tr style=\"text-align: right;\">\n",
       "      <th></th>\n",
       "      <th>n_per_pol</th>\n",
       "      <th>sim_num</th>\n",
       "      <th>MSE_TE</th>\n",
       "      <th>max_te_diff</th>\n",
       "      <th>IOU</th>\n",
       "    </tr>\n",
       "  </thead>\n",
       "  <tbody>\n",
       "    <tr>\n",
       "      <th>0</th>\n",
       "      <td>10</td>\n",
       "      <td>0</td>\n",
       "      <td>2.185779</td>\n",
       "      <td>-0.108287</td>\n",
       "      <td>0.000000</td>\n",
       "    </tr>\n",
       "    <tr>\n",
       "      <th>1</th>\n",
       "      <td>10</td>\n",
       "      <td>1</td>\n",
       "      <td>2.200817</td>\n",
       "      <td>-0.019324</td>\n",
       "      <td>0.142857</td>\n",
       "    </tr>\n",
       "    <tr>\n",
       "      <th>2</th>\n",
       "      <td>10</td>\n",
       "      <td>2</td>\n",
       "      <td>2.097369</td>\n",
       "      <td>-0.126524</td>\n",
       "      <td>0.142857</td>\n",
       "    </tr>\n",
       "    <tr>\n",
       "      <th>3</th>\n",
       "      <td>10</td>\n",
       "      <td>3</td>\n",
       "      <td>2.196258</td>\n",
       "      <td>-0.102771</td>\n",
       "      <td>0.000000</td>\n",
       "    </tr>\n",
       "    <tr>\n",
       "      <th>4</th>\n",
       "      <td>10</td>\n",
       "      <td>4</td>\n",
       "      <td>2.111067</td>\n",
       "      <td>-0.141831</td>\n",
       "      <td>0.142857</td>\n",
       "    </tr>\n",
       "  </tbody>\n",
       "</table>\n",
       "</div>"
      ],
      "text/plain": [
       "   n_per_pol  sim_num    MSE_TE  max_te_diff       IOU\n",
       "0         10        0  2.185779    -0.108287  0.000000\n",
       "1         10        1  2.200817    -0.019324  0.142857\n",
       "2         10        2  2.097369    -0.126524  0.142857\n",
       "3         10        3  2.196258    -0.102771  0.000000\n",
       "4         10        4  2.111067    -0.141831  0.142857"
      ]
     },
     "execution_count": 58,
     "metadata": {},
     "output_type": "execute_result"
    }
   ],
   "source": [
    "method = \"cf\"\n",
    "\n",
    "cf_csv = f\"te_sims_{setup_id}_{method}_{n_per_pol}_{n_iters}.csv\"\n",
    "cf_raw_df = pd.read_csv(dir + cf_csv)\n",
    "cf_raw_df = cf_raw_df.drop([\"Unnamed: 0\"], axis=1)\n",
    "\n",
    "cf_raw_df.head()"
   ]
  },
  {
   "cell_type": "code",
   "execution_count": 110,
   "id": "f812ecf0-0d7a-46f0-b104-f8ca21ce6801",
   "metadata": {},
   "outputs": [
    {
     "data": {
      "text/html": [
       "<div>\n",
       "<style scoped>\n",
       "    .dataframe tbody tr th:only-of-type {\n",
       "        vertical-align: middle;\n",
       "    }\n",
       "\n",
       "    .dataframe tbody tr th {\n",
       "        vertical-align: top;\n",
       "    }\n",
       "\n",
       "    .dataframe thead th {\n",
       "        text-align: right;\n",
       "    }\n",
       "</style>\n",
       "<table border=\"1\" class=\"dataframe\">\n",
       "  <thead>\n",
       "    <tr style=\"text-align: right;\">\n",
       "      <th></th>\n",
       "      <th>n_per_pol</th>\n",
       "      <th>mean_MSE_TE</th>\n",
       "      <th>mean_max_te_err</th>\n",
       "      <th>mean_IOU</th>\n",
       "    </tr>\n",
       "  </thead>\n",
       "  <tbody>\n",
       "    <tr>\n",
       "      <th>9</th>\n",
       "      <td>10</td>\n",
       "      <td>2.172704</td>\n",
       "      <td>0.019951</td>\n",
       "      <td>0.1</td>\n",
       "    </tr>\n",
       "  </tbody>\n",
       "</table>\n",
       "</div>"
      ],
      "text/plain": [
       "   n_per_pol  mean_MSE_TE  mean_max_te_err  mean_IOU\n",
       "9         10     2.172704         0.019951       0.1"
      ]
     },
     "execution_count": 110,
     "metadata": {},
     "output_type": "execute_result"
    }
   ],
   "source": [
    "cf_df = cf_raw_df.copy()\n",
    "\n",
    "cf_df[\"max_te_err\"] = cf_df[\"max_te_diff\"] ** 2\n",
    "\n",
    "groupby_cols = [\"n_per_pol\"]\n",
    "\n",
    "average_cols = [\"MSE_TE\", \"IOU\", \"max_te_err\"]\n",
    "\n",
    "for col in average_cols:\n",
    "    mean_col = \"mean_\" + col    \n",
    "    cf_df[mean_col] = cf_df.groupby(groupby_cols)[col].transform(\"mean\")\n",
    "\n",
    "cf_df = cf_df.drop_duplicates(subset=groupby_cols, keep=\"last\")\n",
    "\n",
    "cols_to_keep = [\"n_per_pol\", \"mean_MSE_TE\", \"mean_max_te_err\", \"mean_IOU\"]\n",
    "cf_df = cf_df[cols_to_keep]\n",
    "\n",
    "cf_df.head()"
   ]
  },
  {
   "cell_type": "code",
   "execution_count": 188,
   "id": "dad88d21-3c37-413e-9528-f342e546f110",
   "metadata": {},
   "outputs": [
    {
     "name": "stdout",
     "output_type": "stream",
     "text": [
      "[[0.9        0.         0.1       ]\n",
      " [0.25       0.         0.75      ]\n",
      " [0.03055556 0.         0.96944444]]\n"
     ]
    }
   ],
   "source": [
    "method = \"cf\"\n",
    "\n",
    "cf_pkl = f\"te_sims_{sim_num}_{method}_{n_per_pol}_{n_iters}_conf_mat.pkl\"\n",
    "with open(os.path.join(dir, cf_pkl), \"rb\") as f:\n",
    "    cf_conf_matrices = pickle.load(f)\n",
    "\n",
    "cf_conf_matrices = np.array(cf_conf_matrices)\n",
    "cf_conf_mean = np.mean(cf_conf_matrices, axis=0)\n",
    "\n",
    "print(cf_conf_mean)"
   ]
  },
  {
   "cell_type": "code",
   "execution_count": null,
   "id": "5aba92a2-6daa-4e2a-8f36-74ff2f309f5a",
   "metadata": {},
   "outputs": [],
   "source": []
  },
  {
   "cell_type": "markdown",
   "id": "13e7a445-237e-4d0a-93a1-f1f2356952e5",
   "metadata": {},
   "source": [
    "1. CFs will get about the same MSE because they're still partitioning (might even be better)\n",
    "2. But because of their weird penalty, they will lose out on coverage as they become more granular\n",
    "3. CFs optimize for a different thing - error in treatment effect $(\\tau - \\widehat{\\tau})^2$; not overall MSE $(y - \\widehat{y})^2$"
   ]
  },
  {
   "cell_type": "code",
   "execution_count": null,
   "id": "dc4a4779-ddca-4928-8d9d-fa233ffe4df8",
   "metadata": {},
   "outputs": [],
   "source": []
  },
  {
   "cell_type": "code",
   "execution_count": null,
   "id": "f9a0cf09-65a4-47f7-9528-15bf1b4da468",
   "metadata": {},
   "outputs": [],
   "source": []
  },
  {
   "cell_type": "code",
   "execution_count": null,
   "id": "e9ddce07-2d52-438c-ab9a-181fb0e1ed3e",
   "metadata": {},
   "outputs": [],
   "source": []
  },
  {
   "cell_type": "markdown",
   "id": "490ecdf1-e014-41b6-9f7f-c03488a5b781",
   "metadata": {},
   "source": [
    "## Read Lasso results"
   ]
  },
  {
   "cell_type": "code",
   "execution_count": 74,
   "id": "a1a00e01-7322-4633-88fa-7d90788d04d8",
   "metadata": {},
   "outputs": [
    {
     "data": {
      "text/html": [
       "<div>\n",
       "<style scoped>\n",
       "    .dataframe tbody tr th:only-of-type {\n",
       "        vertical-align: middle;\n",
       "    }\n",
       "\n",
       "    .dataframe tbody tr th {\n",
       "        vertical-align: top;\n",
       "    }\n",
       "\n",
       "    .dataframe thead th {\n",
       "        text-align: right;\n",
       "    }\n",
       "</style>\n",
       "<table border=\"1\" class=\"dataframe\">\n",
       "  <thead>\n",
       "    <tr style=\"text-align: right;\">\n",
       "      <th></th>\n",
       "      <th>n_per_pol</th>\n",
       "      <th>sim_num</th>\n",
       "      <th>MSE_TE</th>\n",
       "      <th>max_te_diff</th>\n",
       "      <th>IOU</th>\n",
       "    </tr>\n",
       "  </thead>\n",
       "  <tbody>\n",
       "    <tr>\n",
       "      <th>0</th>\n",
       "      <td>10</td>\n",
       "      <td>0</td>\n",
       "      <td>2.592550</td>\n",
       "      <td>3.686004</td>\n",
       "      <td>0.428571</td>\n",
       "    </tr>\n",
       "    <tr>\n",
       "      <th>1</th>\n",
       "      <td>10</td>\n",
       "      <td>1</td>\n",
       "      <td>2.597145</td>\n",
       "      <td>3.666697</td>\n",
       "      <td>0.428571</td>\n",
       "    </tr>\n",
       "    <tr>\n",
       "      <th>2</th>\n",
       "      <td>10</td>\n",
       "      <td>2</td>\n",
       "      <td>2.540405</td>\n",
       "      <td>3.673876</td>\n",
       "      <td>0.428571</td>\n",
       "    </tr>\n",
       "    <tr>\n",
       "      <th>3</th>\n",
       "      <td>10</td>\n",
       "      <td>3</td>\n",
       "      <td>2.587209</td>\n",
       "      <td>3.639807</td>\n",
       "      <td>0.428571</td>\n",
       "    </tr>\n",
       "    <tr>\n",
       "      <th>4</th>\n",
       "      <td>10</td>\n",
       "      <td>4</td>\n",
       "      <td>2.498636</td>\n",
       "      <td>3.604312</td>\n",
       "      <td>0.428571</td>\n",
       "    </tr>\n",
       "  </tbody>\n",
       "</table>\n",
       "</div>"
      ],
      "text/plain": [
       "   n_per_pol  sim_num    MSE_TE  max_te_diff       IOU\n",
       "0         10        0  2.592550     3.686004  0.428571\n",
       "1         10        1  2.597145     3.666697  0.428571\n",
       "2         10        2  2.540405     3.673876  0.428571\n",
       "3         10        3  2.587209     3.639807  0.428571\n",
       "4         10        4  2.498636     3.604312  0.428571"
      ]
     },
     "execution_count": 74,
     "metadata": {},
     "output_type": "execute_result"
    }
   ],
   "source": [
    "method = \"lasso\"\n",
    "\n",
    "lasso_csv = f\"te_sims_{setup_id}_{method}_{n_per_pol}_{n_iters}.csv\"\n",
    "lasso_raw_df = pd.read_csv(dir + lasso_csv)\n",
    "lasso_raw_df = lasso_raw_df.drop([\"Unnamed: 0\"], axis=1)\n",
    "\n",
    "lasso_raw_df.head()"
   ]
  },
  {
   "cell_type": "code",
   "execution_count": 111,
   "id": "b1fa4eee-abee-4252-be40-d382e1b29025",
   "metadata": {},
   "outputs": [
    {
     "data": {
      "text/html": [
       "<div>\n",
       "<style scoped>\n",
       "    .dataframe tbody tr th:only-of-type {\n",
       "        vertical-align: middle;\n",
       "    }\n",
       "\n",
       "    .dataframe tbody tr th {\n",
       "        vertical-align: top;\n",
       "    }\n",
       "\n",
       "    .dataframe thead th {\n",
       "        text-align: right;\n",
       "    }\n",
       "</style>\n",
       "<table border=\"1\" class=\"dataframe\">\n",
       "  <thead>\n",
       "    <tr style=\"text-align: right;\">\n",
       "      <th></th>\n",
       "      <th>n_per_pol</th>\n",
       "      <th>mean_MSE_TE</th>\n",
       "      <th>mean_max_te_err</th>\n",
       "      <th>mean_IOU</th>\n",
       "    </tr>\n",
       "  </thead>\n",
       "  <tbody>\n",
       "    <tr>\n",
       "      <th>9</th>\n",
       "      <td>10</td>\n",
       "      <td>2.55354</td>\n",
       "      <td>13.264821</td>\n",
       "      <td>0.428571</td>\n",
       "    </tr>\n",
       "  </tbody>\n",
       "</table>\n",
       "</div>"
      ],
      "text/plain": [
       "   n_per_pol  mean_MSE_TE  mean_max_te_err  mean_IOU\n",
       "9         10      2.55354        13.264821  0.428571"
      ]
     },
     "execution_count": 111,
     "metadata": {},
     "output_type": "execute_result"
    }
   ],
   "source": [
    "lasso_df = lasso_raw_df.copy()\n",
    "\n",
    "lasso_df[\"max_te_err\"] = lasso_df[\"max_te_diff\"] ** 2\n",
    "\n",
    "groupby_cols = [\"n_per_pol\"]\n",
    "\n",
    "average_cols = [\"MSE_TE\", \"IOU\", \"max_te_err\"]\n",
    "\n",
    "for col in average_cols:\n",
    "    mean_col = \"mean_\" + col    \n",
    "    lasso_df[mean_col] = lasso_df.groupby(groupby_cols)[col].transform(\"mean\")\n",
    "\n",
    "lasso_df = lasso_df.drop_duplicates(subset=groupby_cols, keep=\"last\")\n",
    "\n",
    "cols_to_keep = [\"n_per_pol\", \"mean_MSE_TE\", \"mean_max_te_err\", \"mean_IOU\"]\n",
    "lasso_df = lasso_df[cols_to_keep]\n",
    "\n",
    "lasso_df.head()"
   ]
  },
  {
   "cell_type": "code",
   "execution_count": 138,
   "id": "4820a57a-2b68-4fb9-a53b-e928a48e171e",
   "metadata": {},
   "outputs": [
    {
     "name": "stdout",
     "output_type": "stream",
     "text": [
      "[[0.2 0.  0.8]\n",
      " [0.  0.  1. ]\n",
      " [0.  0.  1. ]]\n"
     ]
    }
   ],
   "source": [
    "method = \"lasso\"\n",
    "\n",
    "lasso_pkl = f\"te_sims_{sim_num}_{method}_{n_per_pol}_{n_iters}_conf_mat.pkl\"\n",
    "with open(os.path.join(dir, lasso_pkl), \"rb\") as f:\n",
    "    lasso_conf_matrices = pickle.load(f)\n",
    "\n",
    "lasso_conf_matrices = np.array(lasso_conf_matrices)\n",
    "lasso_conf_mean = np.mean(lasso_conf_matrices, axis=0)\n",
    "\n",
    "print(lasso_conf_mean)"
   ]
  },
  {
   "cell_type": "code",
   "execution_count": null,
   "id": "5cf879a1-46e6-4a9f-9bc6-3d820a68c8f5",
   "metadata": {},
   "outputs": [],
   "source": []
  },
  {
   "cell_type": "code",
   "execution_count": null,
   "id": "129e1d52-e1d2-4ab2-9433-1eece107b4ea",
   "metadata": {},
   "outputs": [],
   "source": []
  },
  {
   "cell_type": "markdown",
   "id": "69057096-a720-4aea-8e7f-5644577ec246",
   "metadata": {},
   "source": [
    "## Plots"
   ]
  },
  {
   "cell_type": "code",
   "execution_count": 117,
   "id": "b4aa6ed3-18bc-40a1-b396-d0bde993b7d1",
   "metadata": {},
   "outputs": [
    {
     "data": {
      "image/png": "[encoded data removed]",
      "text/plain": [
       "<Figure size 500x500 with 1 Axes>"
      ]
     },
     "metadata": {},
     "output_type": "display_data"
    }
   ],
   "source": [
    "fig, ax = plt.subplots(figsize=(5,5))\n",
    "\n",
    "ax.spines[['right', 'top']].set_visible(False)\n",
    "\n",
    "ax.plot(rashomon_subset[\"n_per_pol\"], rashomon_subset[\"mean_MSE_TE\"],\n",
    "        color=\"dodgerblue\", zorder=1,\n",
    "        marker=\"o\", markeredgecolor=\"black\", markersize=7,\n",
    "        label=\"Rashomon Set\")\n",
    "\n",
    "ax.plot(lasso_df[\"n_per_pol\"], lasso_df[\"mean_MSE_TE\"],\n",
    "        color=\"indianred\", zorder=3, clip_on=False,\n",
    "        marker=\"o\", markeredgecolor=\"black\", markersize=7,\n",
    "        label=\"LASSO\")\n",
    "\n",
    "ax.plot(cf_df[\"n_per_pol\"], cf_df[\"mean_MSE_TE\"],\n",
    "        color=\"seagreen\", zorder=3.5, clip_on=False,\n",
    "        marker=\"o\", markeredgecolor=\"black\", markersize=7,\n",
    "        label=\"Causal Forest\")\n",
    "\n",
    "ax.set_xscale(\"log\")\n",
    "ax.set_xlabel(\"Samples per policy\", fontsize=12)\n",
    "ax.set_ylim(0, 2.6)\n",
    "ax.set_ylabel(\"MSE in TE\", fontsize=12)\n",
    "\n",
    "ax.legend(loc=\"center left\", bbox_to_anchor=(1, 0.5))\n",
    "\n",
    "# plt.savefig(f\"../Figures/TE/sim_{setup_id}_MSE_TE.png\", dpi=300, bbox_inches=\"tight\")\n",
    "plt.show()"
   ]
  },
  {
   "cell_type": "code",
   "execution_count": 119,
   "id": "b71cadc2-7cf0-4e61-b2a2-b12f07d36618",
   "metadata": {},
   "outputs": [
    {
     "data": {
      "image/png": "[encoded data removed]",
      "text/plain": [
       "<Figure size 500x500 with 1 Axes>"
      ]
     },
     "metadata": {},
     "output_type": "display_data"
    }
   ],
   "source": [
    "fig, ax = plt.subplots(figsize=(5,5))\n",
    "\n",
    "ax.spines[['right', 'top']].set_visible(False)\n",
    "\n",
    "ax.plot(rashomon_subset[\"n_per_pol\"], rashomon_subset[\"mean_max_te_err\"],\n",
    "        color=\"dodgerblue\", zorder=1,\n",
    "        marker=\"o\", markeredgecolor=\"black\", markersize=7,\n",
    "        label=\"Rashomon Set\")\n",
    "\n",
    "ax.plot(lasso_df[\"n_per_pol\"], lasso_df[\"mean_max_te_err\"],\n",
    "        color=\"indianred\", zorder=3, clip_on=False,\n",
    "        marker=\"o\", markeredgecolor=\"black\", markersize=7,\n",
    "        label=\"LASSO\")\n",
    "\n",
    "ax.plot(cf_df[\"n_per_pol\"], cf_df[\"mean_max_te_err\"],\n",
    "        color=\"seagreen\", zorder=3.5, clip_on=False,\n",
    "        marker=\"o\", markeredgecolor=\"black\", markersize=7,\n",
    "        label=\"Causal Forest\")\n",
    "\n",
    "ax.set_xscale(\"log\")\n",
    "ax.set_yscale(\"log\")\n",
    "ax.set_xlabel(\"Samples per policy\", fontsize=12)\n",
    "# ax.set_ylim(0, 2.6)\n",
    "ax.set_ylabel(\"MSE in maximum TE\", fontsize=12)\n",
    "\n",
    "ax.legend(loc=\"center left\", bbox_to_anchor=(1, 0.5))\n",
    "\n",
    "# plt.savefig(f\"../Figures/TE/sim_{setup_id}_MSE_max_TE.png\", dpi=300, bbox_inches=\"tight\")\n",
    "plt.show()"
   ]
  },
  {
   "cell_type": "code",
   "execution_count": 120,
   "id": "ba68f49a-d25d-4efd-97d4-d6fcce3763b1",
   "metadata": {},
   "outputs": [
    {
     "data": {
      "image/png": "[encoded data removed]",
      "text/plain": [
       "<Figure size 500x500 with 1 Axes>"
      ]
     },
     "metadata": {},
     "output_type": "display_data"
    }
   ],
   "source": [
    "fig, ax = plt.subplots(figsize=(5,5))\n",
    "\n",
    "ax.spines[['right', 'top']].set_visible(False)\n",
    "\n",
    "ax.plot(rashomon_subset[\"n_per_pol\"], rashomon_subset[\"mean_IOU\"],\n",
    "        color=\"dodgerblue\", zorder=1,\n",
    "        marker=\"o\", markeredgecolor=\"black\", markersize=7,\n",
    "        label=\"Rashomon Set\")\n",
    "\n",
    "ax.plot(lasso_df[\"n_per_pol\"], lasso_df[\"mean_IOU\"],\n",
    "        color=\"indianred\", zorder=3, clip_on=False,\n",
    "        marker=\"o\", markeredgecolor=\"black\", markersize=7,\n",
    "        label=\"LASSO\")\n",
    "\n",
    "ax.plot(cf_df[\"n_per_pol\"], cf_df[\"mean_IOU\"],\n",
    "        color=\"seagreen\", zorder=3.5, clip_on=False,\n",
    "        marker=\"o\", markeredgecolor=\"black\", markersize=7,\n",
    "        label=\"Causal Forest\")\n",
    "\n",
    "ax.set_xscale(\"log\")\n",
    "# ax.set_yscale(\"log\")\n",
    "ax.set_xlabel(\"Samples per policy\", fontsize=12)\n",
    "ax.set_ylim(0, 1)\n",
    "ax.set_ylabel(\"Maximum TE feature coverage\", fontsize=12)\n",
    "\n",
    "ax.legend(loc=\"center left\", bbox_to_anchor=(1, 0.5))\n",
    "\n",
    "# plt.savefig(f\"../Figures/TE/sim_{setup_id}_IOU.png\", dpi=300, bbox_inches=\"tight\")\n",
    "plt.show()"
   ]
  },
  {
   "cell_type": "code",
   "execution_count": null,
   "id": "78558687-66c5-42d0-a1e9-0d712d2223e4",
   "metadata": {},
   "outputs": [],
   "source": []
  },
  {
   "cell_type": "code",
   "execution_count": 190,
   "id": "90bfd498-a857-48f6-b8f0-40c8fe1579e8",
   "metadata": {},
   "outputs": [
    {
     "data": {
      "image/png": "[encoded data removed]",
      "text/plain": [
       "<Figure size 1800x500 with 3 Axes>"
      ]
     },
     "metadata": {},
     "output_type": "display_data"
    }
   ],
   "source": [
    "fig, ax = plt.subplots(1, 3, figsize=(18,5))\n",
    "\n",
    "sns.heatmap(\n",
    "    r_conf_mean,\n",
    "    cmap=\"OrRd\",\n",
    "    linewidths=0.5,\n",
    "    linecolor=\"black\",\n",
    "    annot=True,\n",
    "    square=True,\n",
    "    vmin=0,\n",
    "    vmax=1,\n",
    "    ax=ax[0],\n",
    "    cbar=False\n",
    ")\n",
    "ax[0].set_title(\"Rashomon Set\")\n",
    "\n",
    "sns.heatmap(\n",
    "    cf_conf_mean,\n",
    "    cmap=\"OrRd\",\n",
    "    linewidths=0.5,\n",
    "    linecolor=\"black\",\n",
    "    annot=True,\n",
    "    square=True,\n",
    "    vmin=0,\n",
    "    vmax=1,\n",
    "    ax=ax[1],\n",
    "    cbar=False\n",
    ")\n",
    "ax[1].set_title(\"Causal Forests\")\n",
    "\n",
    "sns.heatmap(\n",
    "    lasso_conf_mean,\n",
    "    cmap=\"OrRd\",\n",
    "    linewidths=0.5,\n",
    "    linecolor=\"black\",\n",
    "    annot=True,\n",
    "    square=True,\n",
    "    vmin=0,\n",
    "    vmax=1,\n",
    "    ax=ax[2],\n",
    "    cbar=False\n",
    ")\n",
    "ax[2].set_title(\"Lasso\")\n",
    "\n",
    "\n",
    "for i in range(3):\n",
    "    ax[i].set_xlabel(\"Estimated\")\n",
    "    ax[i].set_ylabel(\"True\")\n",
    "    \n",
    "    ax[i].set_xticks(np.array([0, 1, 2])+0.5, [\"(-)\", \"0\", \"(+)\"])\n",
    "    ax[i].set_yticks(np.array([0, 1, 2])+0.5, [\"(-)\", \"0\", \"(+)\"])\n",
    "\n",
    "\n",
    "# fname = f\"../Figures/TE/sim_{setup_id}_confusion_matrix.png\"\n",
    "# plt.savefig(fname, dpi=300, bbox_inches=\"tight\")\n",
    "\n",
    "plt.show()"
   ]
  },
  {
   "cell_type": "code",
   "execution_count": null,
   "id": "ad0dac95-109d-4947-9814-1375e1e3cee9",
   "metadata": {},
   "outputs": [],
   "source": []
  },
  {
   "cell_type": "code",
   "execution_count": null,
   "id": "c7f4c79a-b43c-4bcb-8363-7112922667c5",
   "metadata": {},
   "outputs": [],
   "source": []
  }
 ],
 "metadata": {
  "kernelspec": {
   "display_name": "Python (rashomon-tva)",
   "language": "python",
   "name": "rashomon-tva"
  },
  "language_info": {
   "codemirror_mode": {
    "name": "ipython",
    "version": 3
   },
   "file_extension": ".py",
   "mimetype": "text/x-python",
   "name": "python",
   "nbconvert_exporter": "python",
   "pygments_lexer": "ipython3",
   "version": "3.11.3"
  }
 },
 "nbformat": 4,
 "nbformat_minor": 5
}
