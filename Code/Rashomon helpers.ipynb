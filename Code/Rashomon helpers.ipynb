{
 "cells": [
  {
   "cell_type": "code",
   "execution_count": 1,
   "id": "9a619547",
   "metadata": {},
   "outputs": [],
   "source": [
    "import numpy as np\n",
    "import matplotlib.pyplot as plt\n",
    "\n",
    "from sklearn import linear_model\n",
    "from sklearn.metrics import mean_squared_error\n",
    "\n",
    "from collections import deque\n",
    "\n",
    "from rashomon import loss\n",
    "from rashomon import counter\n",
    "from rashomon.aggregate import RAggregate_profile\n",
    "from rashomon.sets import RashomonSet, RashomonProblemCache, RashomonSubproblemCache\n",
    "from rashomon import tva\n",
    "from rashomon.extract_pools import extract_pools\n",
    "\n",
    "\n",
    "%load_ext autoreload\n",
    "%autoreload 2\n",
    "# %matplotlib inline"
   ]
  },
  {
   "cell_type": "markdown",
   "id": "825248b7-72d4-4c6f-acd4-51a5a28548c8",
   "metadata": {},
   "source": [
    "### Different profiles"
   ]
  },
  {
   "cell_type": "code",
   "execution_count": 2,
   "id": "e6f8df30-a59a-42b4-9741-b49a00bbb670",
   "metadata": {},
   "outputs": [],
   "source": [
    "import itertools as it"
   ]
  },
  {
   "cell_type": "code",
   "execution_count": 3,
   "id": "71d28282-9105-4c50-a040-edf702821b16",
   "metadata": {},
   "outputs": [
    {
     "name": "stdout",
     "output_type": "stream",
     "text": [
      "6\n"
     ]
    }
   ],
   "source": [
    "# need a function to map policy indices to profiles\n",
    "\n",
    "M = 3\n",
    "R = np.array([3, 4, 2])\n",
    "\n",
    "num_profiles = 2**M\n",
    "profiles, profile_map = tva.enumerate_profiles(M)\n",
    "\n",
    "policies = tva.enumerate_policies(M, R)\n",
    "\n",
    "policy = (2, 2, 0)\n",
    "profile = tva.policy_to_profile(policy)\n",
    "print(profile_map[profile])"
   ]
  },
  {
   "cell_type": "code",
   "execution_count": 4,
   "id": "34714090-8627-4f0c-a670-b076cbd267cd",
   "metadata": {},
   "outputs": [],
   "source": [
    "# function to get the alpha matrix\n",
    "\n",
    "G = tva.alpha_matrix(policies)\n",
    "\n",
    "# for i, pol in enumerate(policies):\n",
    "#     print(tva.policy_to_profile(pol), G[i, :])"
   ]
  },
  {
   "cell_type": "code",
   "execution_count": 81,
   "id": "cf07fe4e-0a2d-4561-b861-325a7517a7f9",
   "metadata": {},
   "outputs": [],
   "source": [
    "def find_feasible_sum_subsets(S: list[np.ndarray], theta):\n",
    "    \n",
    "    # See this https://stackoverflow.com/questions/62311484/smart-method-to-solve-a-subset-sum-problem-with-multiple-sets\n",
    "    # NP Hard? https://link.springer.com/chapter/10.1007/978-3-540-24777-7_11\n",
    "    \n",
    "    num_sets = len(S)\n",
    "    if num_sets == 0:\n",
    "        return []\n",
    "\n",
    "    S1 = S[0]\n",
    "    S1_feasible_idx = np.where(S1 <= theta)[0]\n",
    "    \n",
    "    if num_sets == 1:\n",
    "        feasible_combs = [[x] for x in S1_feasible_idx]\n",
    "        return feasible_combs\n",
    "        \n",
    "    # Since the list is sorted, add the first elements of the remaining sets\n",
    "    # Then use this to check feasibility of indices in S1_feasible_idx\n",
    "    first_element_sum = np.sum([s[0] for s in S[1:]])\n",
    "    feasible_combs = []\n",
    "    for i in S1_feasible_idx:\n",
    "        theta_i = theta - S1[i]\n",
    "        # Safe to stop our search on first infeasible index because of sorting\n",
    "        if first_element_sum > theta_i:\n",
    "            break\n",
    "        subproblem_res_i = find_subsets(S[1:], theta_i)\n",
    "        for res in subproblem_res_i:\n",
    "            feasible_combs.append([i] + res)\n",
    "        \n",
    "    return feasible_combs\n",
    "\n",
    "# S = [np.array([1, 2, 3]),\n",
    "#      np.array([1, 1]),\n",
    "#      np.array([4, 5])]\n",
    "\n",
    "# res = find_feasible_sum_subsets(S, 7)\n",
    "\n",
    "# for x in res:\n",
    "#     print(x)"
   ]
  },
  {
   "cell_type": "code",
   "execution_count": 82,
   "id": "9ac8e4b6-0b8e-4c20-a4ba-7114a0868f36",
   "metadata": {},
   "outputs": [],
   "source": [
    "# rashomon aggregation across profiles\n",
    "# Need to keep track of seen problems and their lower bounds\n",
    "#   maybe a dictionary?\n",
    "#   actually no need to do this\n",
    "# Overall threshold is theta\n",
    "# For each profile, find the equivalent policy lower bound\n",
    "#   call this t_i for profile i\n",
    "# Then, for profile k, the threshold is theta_k = theta - \\sum_{i \\neq k} t_i\n",
    "# Get R-sets for each profile, R_i for profile i\n",
    "# Now, we need to mix and match across profiles\n",
    "\n",
    "def subset_data(D, y, policy_profiles_idx):\n",
    "    # The idea here is that values in D corresponds to the index of that policy\n",
    "    # So we mask and retrieve those values\n",
    "    mask = np.isin(D, policy_profiles_idx)\n",
    "    D_profile = np.reshape(D[mask], (-1,1))\n",
    "    y_profile = np.reshape(y[mask], (-1,1))\n",
    "\n",
    "    # Now remap policies from overall indicies to the indicies within that profile\n",
    "    range_list = list(np.arange(len(policy_profiles_idx)))\n",
    "    policy_map = {i:x for i, x in zip(policy_profiles_idx, range_list)}\n",
    "    D_profile = np.vectorize(policy_map.get)(D_profile)\n",
    "    \n",
    "    return D_profile, y_profile\n",
    "\n",
    "def find_profile_lower_bound(D_k, y_k, policy_means_k):\n",
    "    n = D_k.shape[0]\n",
    "    mu = np.float64(policy_means_k[:, 0]) / policy_means_k[:, 1]\n",
    "    mu_D = mu[list(D_k.reshape((-1,)))]\n",
    "    mse = mean_squared_error(y[:, 0], mu_D)\n",
    "    return mse\n",
    "\n",
    "def find_feasible_combinations(rashomon_profiles, theta, sorted=False):\n",
    "    \n",
    "    if not sorted:\n",
    "        rashomon_profiles = [r.sort() for r in rashomon_proiles]    \n",
    "    \n",
    "    S = [r.Q for r in rashomon_profiles]\n",
    "    feasible_combinations = find_feasible_sum_subsets(S, theta)\n",
    "    return feasible_combinations\n",
    "\n",
    "\n",
    "def RAggregate(M, R, H, D, y, theta, reg=1):\n",
    "\n",
    "    num_profiles = 2**M\n",
    "    profiles = tva.enumerate_profiles(M)\n",
    "    all_policies = tva.enumerate_policies(M, R)\n",
    "    \n",
    "    # In the best case, every other profile becomes a single pool\n",
    "    # So max number of pools per profile is adjusted accordingly\n",
    "    H_profile = H - num_profiles + 1\n",
    "\n",
    "    # Subset data by profiles and find equiv policy lower bound\n",
    "    D_profiles = {}\n",
    "    y_profiles = {}\n",
    "    policies_profiles = {}\n",
    "    policy_means_profiles = {}\n",
    "    eq_lb_profiles = [0] * num_profiles\n",
    "    for k, profile in enumerate(profiles):\n",
    "        \n",
    "        policies_temp = [(i, x) for i, x in enumerate(all_policies) if policy_to_profile(x) == profile]\n",
    "        unzipped_temp = zip(*policies_temp)\n",
    "        policy_profiles_idx_k = list(unzipped_temp[0])\n",
    "        policy_profiles[k] = list(unzipped_temp[1])\n",
    "        \n",
    "        D_k, y_k = subset_data(D, y, policy_profiles_idx_k)\n",
    "        D_profiles[k] = D_k\n",
    "        y_profiles[k] = y_k\n",
    "        \n",
    "        policy_means_k = loss.compute_policy_means(D_k, y_k, len(policy_profiles[k]))\n",
    "        policy_means_profiles[k] = policy_means_k\n",
    "        eq_lb_profiles[k] = find_profile_lower_bound(D_k, y_k, policy_means_k)\n",
    "        \n",
    "    eq_lb_sum = np.sum(eq_lb_profiles)\n",
    "\n",
    "    # Now solve each profile independently\n",
    "    # This step can be parallelized\n",
    "    rashomon_profiles = {}\n",
    "    for k, profile in enumerate(profiles):\n",
    "        theta_k = eq_lb_sum - eq_lb_profiles[k]\n",
    "        D_k = D_profiles[k]\n",
    "        y_k = y_profiles[k]\n",
    "        \n",
    "        policies_k = policies_profiles[k]\n",
    "        policy_means_k = policy_means_profiles[k]\n",
    "        \n",
    "        rashomon_k = RAggregate_profile(M, R, H_profile, D_k, y_k, theta_k, profile, reg, policies_k, policy_means_k)\n",
    "        rashomon_k.calculate_loss(D_k, y_k, policies_k, policy_means_k, reg)\n",
    "        rashomon_k.sort()\n",
    "        \n",
    "        rashomon_profiles[k] = rashomon_k\n",
    "\n",
    "    # Combine solutions in a feasible way\n",
    "    R_set = find_feasible_combinations(rashomon_profiles, theta, sorted=True)\n",
    "\n",
    "    return R_set"
   ]
  },
  {
   "cell_type": "code",
   "execution_count": null,
   "id": "9518c224-58f0-44f0-8599-8efa359481b1",
   "metadata": {},
   "outputs": [],
   "source": [
    "\n",
    "\n",
    "\n"
   ]
  },
  {
   "cell_type": "code",
   "execution_count": null,
   "id": "1fce47db-7351-43fd-b3fe-2b88fd2ad07f",
   "metadata": {},
   "outputs": [],
   "source": []
  },
  {
   "cell_type": "code",
   "execution_count": null,
   "id": "76480825-041c-4ce1-a52c-00ab68739874",
   "metadata": {},
   "outputs": [],
   "source": []
  },
  {
   "cell_type": "code",
   "execution_count": null,
   "id": "08ab313c-8f81-4d1a-9a69-c6e5082d68e6",
   "metadata": {},
   "outputs": [],
   "source": []
  },
  {
   "cell_type": "code",
   "execution_count": null,
   "id": "87ff5b9c-65b0-4193-9e52-9077f5c0ee60",
   "metadata": {},
   "outputs": [],
   "source": []
  },
  {
   "cell_type": "code",
   "execution_count": null,
   "id": "60333a47-ac9e-4268-bbc3-0ea8731fd0e9",
   "metadata": {},
   "outputs": [],
   "source": []
  },
  {
   "cell_type": "code",
   "execution_count": null,
   "id": "35e993de-df31-4b77-bbcb-022e390aba29",
   "metadata": {},
   "outputs": [],
   "source": []
  },
  {
   "cell_type": "code",
   "execution_count": null,
   "id": "921f718e-82fa-48c3-8f5a-19519594dfa3",
   "metadata": {},
   "outputs": [],
   "source": []
  },
  {
   "cell_type": "markdown",
   "id": "610c2a0d",
   "metadata": {},
   "source": [
    "### Function to pool based on $\\Sigma$ matrix"
   ]
  },
  {
   "cell_type": "code",
   "execution_count": 34,
   "id": "384b5956",
   "metadata": {},
   "outputs": [
    {
     "name": "stdout",
     "output_type": "stream",
     "text": [
      "0 : [(1, 1, 1), (1, 1, 2), (2, 1, 1), (2, 1, 2), (3, 1, 1), (3, 1, 2)]\n",
      "1 : [(1, 1, 3), (1, 1, 4), (2, 1, 3), (2, 1, 4), (3, 1, 3), (3, 1, 4)]\n",
      "2 : [(1, 2, 1), (1, 2, 2), (1, 3, 1), (1, 3, 2), (1, 4, 1), (1, 4, 2), (2, 2, 1), (2, 2, 2), (2, 3, 1), (2, 3, 2), (2, 4, 1), (2, 4, 2), (3, 2, 1), (3, 2, 2), (3, 3, 1), (3, 3, 2), (3, 4, 1), (3, 4, 2)]\n",
      "3 : [(1, 2, 3), (1, 2, 4), (1, 3, 3), (1, 3, 4), (1, 4, 3), (1, 4, 4), (2, 2, 3), (2, 2, 4), (2, 3, 3), (2, 3, 4), (2, 4, 3), (2, 4, 4), (3, 2, 3), (3, 2, 4), (3, 3, 3), (3, 3, 4), (3, 4, 3), (3, 4, 4)]\n",
      "4 : [(4, 1, 1), (4, 1, 2)]\n",
      "5 : [(4, 1, 3), (4, 1, 4)]\n",
      "6 : [(4, 2, 1), (4, 2, 2), (4, 3, 1), (4, 3, 2), (4, 4, 1), (4, 4, 2)]\n",
      "7 : [(4, 2, 3), (4, 2, 4), (4, 3, 3), (4, 3, 4), (4, 4, 3), (4, 4, 4)]\n"
     ]
    }
   ],
   "source": [
    "sigma = np.array([[1, 1, 0],\n",
    "                  [0, 1, 1],\n",
    "                  [1, 0, 1]], dtype='float64')\n",
    "\n",
    "M, n = sigma.shape\n",
    "R = np.array([5, 5, 5])\n",
    "profile = (1, 1, 1)\n",
    "\n",
    "num_policies = np.prod(R-1)\n",
    "profiles, profile_map = tva.enumerate_profiles(M)\n",
    "all_policies = tva.enumerate_policies(M, R)\n",
    "policies = [x for x in all_policies if tva.policy_to_profile(x) == profile]\n",
    "pi_pools, pi_policies = extract_pools(policies, sigma)\n",
    "\n",
    "for pool_id, pool in pi_pools.items():\n",
    "    print(pool_id, \":\", [policies[i] for i in pool])"
   ]
  },
  {
   "cell_type": "markdown",
   "id": "3751d3a0-9f2a-430b-88ec-a636c3f58f3d",
   "metadata": {},
   "source": [
    "### Generate data"
   ]
  },
  {
   "cell_type": "code",
   "execution_count": 30,
   "id": "314fe15c",
   "metadata": {},
   "outputs": [],
   "source": [
    "np.random.seed(3)\n",
    "\n",
    "num_pools = len(pi_pools)\n",
    "# mu = np.random.uniform(0, 4, size=num_pools)\n",
    "# mu = np.array([3, 6, 1, 4])\n",
    "mu = np.array([3, 4, 6, 5, 1, 0, 3, 2])\n",
    "var = [1] * num_pools\n",
    "\n",
    "n_per_pol = 10\n",
    "\n",
    "num_data = num_policies * n_per_pol\n",
    "X = np.ndarray(shape=(num_data, M))\n",
    "D = np.ndarray(shape=(num_data, 1), dtype='int_')\n",
    "y = np.ndarray(shape=(num_data, 1))\n",
    "\n",
    "for idx, policy in enumerate(policies):\n",
    "    pool_i = pi_policies[idx]\n",
    "    mu_i = mu[pool_i]\n",
    "    var_i = var[pool_i]\n",
    "    y_i = np.random.normal(mu_i, var_i, size=(n_per_pol, 1))\n",
    "\n",
    "    start_idx = idx * n_per_pol\n",
    "    end_idx = (idx + 1) * n_per_pol\n",
    "\n",
    "    X[start_idx:end_idx, ] = policy\n",
    "    D[start_idx:end_idx, ] = idx\n",
    "    y[start_idx:end_idx, ] = y_i\n",
    "    "
   ]
  },
  {
   "cell_type": "code",
   "execution_count": 31,
   "id": "a892aa68",
   "metadata": {},
   "outputs": [
    {
     "name": "stdout",
     "output_type": "stream",
     "text": [
      "1.8126958244093103\n"
     ]
    }
   ],
   "source": [
    "# This function needs to called only once\n",
    "policy_means = loss.compute_policy_means(D, y, num_policies)\n",
    "\n",
    "# This function needs to be called every time the pools change\n",
    "mu_pools = loss.compute_pool_means(policy_means, pi_pools)\n",
    "\n",
    "# This function needs to be called every time the pools change\n",
    "Q = loss.compute_Q(D, y, sigma, policies, policy_means, 0.1)\n",
    "\n",
    "print(Q)"
   ]
  },
  {
   "cell_type": "code",
   "execution_count": 32,
   "id": "edc3aa82-8543-480c-80fd-b2214aab0e64",
   "metadata": {},
   "outputs": [
    {
     "name": "stdout",
     "output_type": "stream",
     "text": [
      "1.7862060864721792\n"
     ]
    }
   ],
   "source": [
    "i = 0\n",
    "j = 0\n",
    "\n",
    "B = loss.compute_B(D, y, sigma, i, j, policies, policy_means, 0.1)\n",
    "print(B)"
   ]
  },
  {
   "cell_type": "markdown",
   "id": "39118580-cbb0-4419-b951-f5faf8a51739",
   "metadata": {},
   "source": [
    "### RAggregate"
   ]
  },
  {
   "cell_type": "code",
   "execution_count": 57,
   "id": "c9c2418f-fa7c-4f63-a023-14ab70f29ae8",
   "metadata": {},
   "outputs": [],
   "source": [
    "def find_min_dosage(policy_ids, policies):\n",
    "    best_dosage = np.inf\n",
    "    best_policy = []\n",
    "    for policy_id in policy_ids:\n",
    "        dosage = np.sum(policies[policy_id])\n",
    "        if dosage == best_dosage:\n",
    "            best_policy.append(policy_id)\n",
    "        if dosage < best_dosage:\n",
    "            best_policy = [policy_id]\n",
    "            best_dosage = dosage\n",
    "    return best_policy\n",
    "\n",
    "def check_membership(true_x, est_x):\n",
    "    true_set = set(true_x)\n",
    "    est_set = set(est_x)\n",
    "    if len(true_set.intersection(est_x)) > 0:\n",
    "        return True\n",
    "    return False\n",
    "\n",
    "def min_dosage_best_policy(true_best, est_best):\n",
    "    true_best_set = set(true_best)\n",
    "    est_best_set = set(est_best)\n",
    "    return\n",
    "\n",
    "def find_best_policy_diff(y_true, y_est):\n",
    "    return np.max(y_true) - np.max(y_est)"
   ]
  },
  {
   "cell_type": "code",
   "execution_count": null,
   "id": "74db8408-5d9b-4777-af72-92639091c9f8",
   "metadata": {},
   "outputs": [],
   "source": []
  },
  {
   "cell_type": "code",
   "execution_count": null,
   "id": "2f648169-30e0-453f-b519-d1f5163e8d9c",
   "metadata": {},
   "outputs": [],
   "source": []
  },
  {
   "cell_type": "code",
   "execution_count": 33,
   "id": "9fa5fdac-2bd9-426b-a0bf-35efc4d0cddd",
   "metadata": {},
   "outputs": [
    {
     "name": "stdout",
     "output_type": "stream",
     "text": [
      "7\n"
     ]
    },
    {
     "data": {
      "text/plain": [
       "True"
      ]
     },
     "execution_count": 33,
     "metadata": {},
     "output_type": "execute_result"
    }
   ],
   "source": [
    "P_set = RAggregate(M, R, 10, D, y, 2, reg=0.1)\n",
    "print(P_set.size)\n",
    "P_set.seen(sigma)"
   ]
  },
  {
   "cell_type": "code",
   "execution_count": 58,
   "id": "c7935848-b31b-4bf3-9c95-216dc8f61436",
   "metadata": {},
   "outputs": [
    {
     "name": "stdout",
     "output_type": "stream",
     "text": [
      "Num pools: 4, Squared loss: 1.30029, Q: 1.70029\n",
      "Best policy IOU: 0.500\n",
      "Min dosage: True\n",
      "Best policy error: 0.4471226717855128\n",
      "---\n",
      "Num pools: 6, Squared loss: 1.29973, Q: 1.89973\n",
      "Best policy IOU: 0.400\n",
      "Min dosage: True\n",
      "Best policy error: 0.4251355538334627\n",
      "---\n",
      "Num pools: 6, Squared loss: 1.29852, Q: 1.89852\n",
      "Best policy IOU: 0.400\n",
      "Min dosage: False\n",
      "Best policy error: 0.40918740978712886\n",
      "---\n",
      "Num pools: 6, Squared loss: 1.29790, Q: 1.89790\n",
      "Best policy IOU: 0.250\n",
      "Min dosage: True\n",
      "Best policy error: 0.43686580234869066\n",
      "---\n",
      "Num pools: 8, Squared loss: 1.01270, Q: 1.81270\n",
      "Best policy IOU: 1.000\n",
      "Min dosage: True\n",
      "Best policy error: -0.09651153607163465\n",
      "---\n",
      "Num pools: 6, Squared loss: 1.29657, Q: 1.89657\n",
      "Best policy IOU: 0.400\n",
      "Min dosage: True\n",
      "Best policy error: 0.398387635947028\n",
      "---\n",
      "Num pools: 8, Squared loss: 1.18809, Q: 1.98809\n",
      "Best policy IOU: 0.667\n",
      "Min dosage: True\n",
      "Best policy error: 0.2681464021581057\n",
      "---\n"
     ]
    }
   ],
   "source": [
    "pol_means = loss.compute_policy_means(D, y, num_policies)\n",
    "true_best = pi_pools[np.argmax(mu)]\n",
    "min_dosage_best_policy = find_min_dosage(true_best, policies)\n",
    "\n",
    "for s_i in P_set:\n",
    "    # print(s_i)\n",
    "    pi_pools_i, pi_policies_i = extract_pools(policies, s_i)\n",
    "    pool_means_i = loss.compute_pool_means(pol_means, pi_pools_i)\n",
    "    \n",
    "    Q = loss.compute_Q(D, y, s_i, policies, pol_means, reg=0.1)\n",
    "    y_pred = loss.make_predictions(D, pi_policies_i, pool_means_i)\n",
    "    sqrd_err = mean_squared_error(y, y_pred)\n",
    "    pol_max = loss.find_best_policies(D, y_pred)\n",
    "    iou = loss.intersect_over_union(set(true_best), set(pol_max))\n",
    "\n",
    "    # Min dosage membership\n",
    "    min_dosage_present = check_membership(min_dosage_best_policy, pol_max)\n",
    "\n",
    "    # Best policy difference\n",
    "    best_pol_diff = np.max(mu) - np.max(pool_means_i)\n",
    "    \n",
    "    # print(np.max(y_pred), pool_means)\n",
    "    print(f\"Num pools: {len(pi_pools_i)}, Squared loss: {sqrd_err:0.5f}, Q: {Q:0.5f}\")\n",
    "    print(f\"Best policy IOU: {iou:.3f}\")\n",
    "    print(f\"Min dosage: {min_dosage_present}\")\n",
    "    print(f\"Best policy error: {best_pol_diff}\")\n",
    "    print(\"---\")"
   ]
  },
  {
   "cell_type": "markdown",
   "id": "5f118bfd-5475-40b3-92a7-134a331a5afd",
   "metadata": {},
   "source": [
    "### LASSO - Beta -> alpha"
   ]
  },
  {
   "cell_type": "code",
   "execution_count": 35,
   "id": "0fae0c9b-06f7-47d7-a591-dd2d43cea775",
   "metadata": {},
   "outputs": [],
   "source": [
    "G = tva.alpha_matrix(policies)\n",
    "# print(G)\n",
    "D_matrix = tva.get_dummy_matrix(D, G, num_policies)"
   ]
  },
  {
   "cell_type": "code",
   "execution_count": 64,
   "id": "7156e414-74ff-4559-b54f-e49e94f0d0af",
   "metadata": {},
   "outputs": [
    {
     "name": "stdout",
     "output_type": "stream",
     "text": [
      "1.300375775335072\n",
      "1.800375775335072 1.7425677924571503\n"
     ]
    }
   ],
   "source": [
    "reg_param = 1e-1\n",
    "mod1 = linear_model.Lasso(reg_param)\n",
    "mod1.fit(D_matrix, y)\n",
    "alpha_est = mod1.coef_\n",
    "y_tva = mod1.predict(D_matrix)\n",
    "sqrd_err = mean_squared_error(y_tva, y)\n",
    "print(sqrd_err)\n",
    "L1_tva = sqrd_err + reg_param * np.linalg.norm(alpha_est, ord=1)\n",
    "Q_tva = sqrd_err + reg_param * np.linalg.norm(alpha_est, ord=0)\n",
    "print(Q_tva, L1_tva)"
   ]
  },
  {
   "cell_type": "code",
   "execution_count": 65,
   "id": "c1a7b489-7314-469e-a908-3cb102d3f707",
   "metadata": {},
   "outputs": [
    {
     "name": "stdout",
     "output_type": "stream",
     "text": [
      "1.0\n",
      "True\n",
      "0.5628253327386021\n"
     ]
    }
   ],
   "source": [
    "# print(pi_pools[1])\n",
    "# np.unique(D[np.where(y_tva == np.max(y_tva)), ])\n",
    "tva_best = loss.find_best_policies(D, y_tva)\n",
    "iou_tva = loss.intersect_over_union(set(true_best), set(tva_best))\n",
    "print(iou_tva)\n",
    "min_dosage_present_tva = check_membership(min_dosage_best_policy, pol_max)\n",
    "print(min_dosage_present_tva)\n",
    "best_policy_error_tva = np.max(mu) - np.max(y_tva)\n",
    "print(best_policy_error_tva)"
   ]
  },
  {
   "cell_type": "code",
   "execution_count": 52,
   "id": "23187897-e75b-40b7-9920-3e845ae4d654",
   "metadata": {},
   "outputs": [
    {
     "data": {
      "text/plain": [
       "array([1.80926068, 3.08160831, 4.09466866, 4.25545291, 4.52180272,\n",
       "       5.36701629, 5.52780054, 5.79415035])"
      ]
     },
     "execution_count": 52,
     "metadata": {},
     "output_type": "execute_result"
    }
   ],
   "source": [
    "np.unique(y_tva)"
   ]
  },
  {
   "cell_type": "code",
   "execution_count": 53,
   "id": "909a6a89-254a-4c22-84d3-6d9d2cf14ed7",
   "metadata": {},
   "outputs": [
    {
     "name": "stdout",
     "output_type": "stream",
     "text": [
      "[52, 53, 54, 55, 56, 57, 58, 59, 60, 61, 62, 63]\n"
     ]
    },
    {
     "data": {
      "text/plain": [
       "array([52, 56, 60])"
      ]
     },
     "execution_count": 53,
     "metadata": {},
     "output_type": "execute_result"
    }
   ],
   "source": [
    "print(pi_pools[3])\n",
    "np.unique(D[np.where(y_tva == np.unique(y_tva)[2]), ])"
   ]
  },
  {
   "cell_type": "code",
   "execution_count": null,
   "id": "7483bae0-5962-4163-a10d-81ff026f9678",
   "metadata": {},
   "outputs": [],
   "source": []
  },
  {
   "cell_type": "code",
   "execution_count": null,
   "id": "3151d3ed-a9fa-4a53-9695-18fe71f0b20d",
   "metadata": {},
   "outputs": [],
   "source": []
  },
  {
   "cell_type": "code",
   "execution_count": null,
   "id": "85fb6464-a82c-4284-855a-8f29f5b4a8ec",
   "metadata": {},
   "outputs": [],
   "source": []
  },
  {
   "cell_type": "code",
   "execution_count": null,
   "id": "66f46dcd-f31b-48f8-adc8-96c8c7acd8f0",
   "metadata": {},
   "outputs": [],
   "source": []
  },
  {
   "cell_type": "code",
   "execution_count": null,
   "id": "c8af6b91-9e0e-40f2-97a5-12c21f78b2c2",
   "metadata": {},
   "outputs": [],
   "source": []
  },
  {
   "cell_type": "code",
   "execution_count": null,
   "id": "55043ac7-5b63-4430-812d-85f359422f7b",
   "metadata": {},
   "outputs": [],
   "source": []
  },
  {
   "cell_type": "code",
   "execution_count": null,
   "id": "880ea757-a1f3-4a95-aeb7-4de21ab8da61",
   "metadata": {},
   "outputs": [],
   "source": []
  },
  {
   "cell_type": "code",
   "execution_count": null,
   "id": "91cca2fa-c86d-4f2b-84af-ff41474a353b",
   "metadata": {},
   "outputs": [],
   "source": []
  },
  {
   "cell_type": "code",
   "execution_count": null,
   "id": "7dcefa1e-88c5-40d9-a8e2-39447448db03",
   "metadata": {},
   "outputs": [],
   "source": []
  },
  {
   "cell_type": "code",
   "execution_count": null,
   "id": "14cef99e-e93a-46df-bd4e-579fc87d688f",
   "metadata": {},
   "outputs": [],
   "source": []
  },
  {
   "cell_type": "code",
   "execution_count": null,
   "id": "a1420789-6b2d-4814-a34f-32850d1676b0",
   "metadata": {},
   "outputs": [],
   "source": []
  },
  {
   "cell_type": "markdown",
   "id": "ea284fe0-a9ea-443b-9bc1-22bc4d126ce2",
   "metadata": {},
   "source": [
    "### Varying R"
   ]
  },
  {
   "cell_type": "code",
   "execution_count": 192,
   "id": "4d1dbc09-5aed-42e7-8f4b-6b91d138e84a",
   "metadata": {},
   "outputs": [
    {
     "name": "stdout",
     "output_type": "stream",
     "text": [
      "0 : [(1, 1), (2, 1)]\n",
      "1 : [(1, 2), (1, 3), (2, 2), (2, 3)]\n",
      "2 : [(3, 1), (4, 1)]\n",
      "3 : [(3, 2), (3, 3), (4, 2), (4, 3)]\n"
     ]
    }
   ],
   "source": [
    "# Idea: np.inf for arbitrary dosage?\n",
    "sigma = np.array([[1, 0, 1],\n",
    "                  [0, 1, np.inf]], dtype='float64')\n",
    "# sigma = np.array([[0, 0, 0],\n",
    "#                   [0, 0, np.inf]], dtype='float64')\n",
    "\n",
    "M, n = sigma.shape\n",
    "R = np.array([5, 4])\n",
    "\n",
    "num_policies = np.prod(R-1)\n",
    "policies = enumerate_policies(M, R)\n",
    "pi_pools, pi_policies = extract_pools(policies, sigma)\n",
    "\n",
    "for pool_id, pool in pi_pools.items():\n",
    "    print(pool_id, \":\", [policies[i] for i in pool])"
   ]
  },
  {
   "cell_type": "code",
   "execution_count": 193,
   "id": "ca1f6493-1baf-4156-aa41-87525e4fd0db",
   "metadata": {},
   "outputs": [
    {
     "data": {
      "text/plain": [
       "4.0"
      ]
     },
     "execution_count": 193,
     "metadata": {},
     "output_type": "execute_result"
    }
   ],
   "source": [
    "counter.num_pools(sigma)"
   ]
  },
  {
   "cell_type": "code",
   "execution_count": 194,
   "id": "a908d747-6bb8-447d-85c2-393d11adf89f",
   "metadata": {},
   "outputs": [
    {
     "data": {
      "text/plain": [
       "6"
      ]
     },
     "execution_count": 194,
     "metadata": {},
     "output_type": "execute_result"
    }
   ],
   "source": [
    "counter.num_admissible_poolings(4, M, R)"
   ]
  },
  {
   "cell_type": "code",
   "execution_count": 195,
   "id": "1ecd5ddb-21d9-4885-abda-fdebb888ecd8",
   "metadata": {},
   "outputs": [],
   "source": [
    "np.random.seed(3)\n",
    "\n",
    "num_pools = len(pi_pools)\n",
    "mu = np.random.uniform(0, 4, size=num_pools)\n",
    "var = [1] * num_pools\n",
    "\n",
    "n_per_pol = 10\n",
    "\n",
    "num_data = num_policies * n_per_pol\n",
    "X = np.ndarray(shape=(num_data, M))\n",
    "D = np.ndarray(shape=(num_data, 1), dtype='int_')\n",
    "y = np.ndarray(shape=(num_data, 1))\n",
    "\n",
    "for idx, policy in enumerate(policies):\n",
    "    pool_i = pi_policies[idx]\n",
    "    mu_i = mu[pool_i]\n",
    "    var_i = var[pool_i]\n",
    "    y_i = np.random.normal(mu_i, var_i, size=(n_per_pol, 1))\n",
    "\n",
    "    start_idx = idx * n_per_pol\n",
    "    end_idx = (idx + 1) * n_per_pol\n",
    "\n",
    "    X[start_idx:end_idx, ] = policy\n",
    "    D[start_idx:end_idx, ] = idx\n",
    "    y[start_idx:end_idx, ] = y_i"
   ]
  },
  {
   "cell_type": "code",
   "execution_count": 196,
   "id": "52f99c60-a623-4cfc-963a-fe8857326682",
   "metadata": {},
   "outputs": [
    {
     "data": {
      "text/plain": [
       "array([[22.3306393 , 10.        ],\n",
       "       [26.09289987, 10.        ],\n",
       "       [26.9056259 , 10.        ],\n",
       "       [14.77744099, 10.        ],\n",
       "       [27.87404021, 10.        ],\n",
       "       [29.12185777, 10.        ],\n",
       "       [14.06728243, 10.        ],\n",
       "       [21.12531734, 10.        ],\n",
       "       [15.25551251, 10.        ],\n",
       "       [12.69909817, 10.        ],\n",
       "       [21.11531527, 10.        ],\n",
       "       [19.32885624, 10.        ]])"
      ]
     },
     "execution_count": 196,
     "metadata": {},
     "output_type": "execute_result"
    }
   ],
   "source": [
    "policy_means = loss.compute_policy_means(D, y, num_policies)\n",
    "policy_means"
   ]
  },
  {
   "cell_type": "code",
   "execution_count": 197,
   "id": "97470e90-a6c9-464f-bce7-ed17adced082",
   "metadata": {},
   "outputs": [
    {
     "data": {
      "text/plain": [
       "4.9889861406550375"
      ]
     },
     "execution_count": 197,
     "metadata": {},
     "output_type": "execute_result"
    }
   ],
   "source": [
    "Q = loss.compute_Q(D, y, sigma, policies, policy_means, reg=1)\n",
    "Q"
   ]
  },
  {
   "cell_type": "code",
   "execution_count": 198,
   "id": "1de0393d-e1bc-4eda-8bcf-fa7c5dda79f9",
   "metadata": {},
   "outputs": [
    {
     "name": "stdout",
     "output_type": "stream",
     "text": [
      "6.975889428946971\n"
     ]
    }
   ],
   "source": [
    "i = 1\n",
    "j = 1\n",
    "B = loss.compute_B(D, y, sigma, i, j, policies, policy_means, reg=1)\n",
    "print(B)"
   ]
  },
  {
   "cell_type": "code",
   "execution_count": 199,
   "id": "c1b25293-aa89-4aa0-9b67-21ea3432ee06",
   "metadata": {},
   "outputs": [
    {
     "name": "stdout",
     "output_type": "stream",
     "text": [
      "5\n"
     ]
    },
    {
     "data": {
      "text/plain": [
       "True"
      ]
     },
     "execution_count": 199,
     "metadata": {},
     "output_type": "execute_result"
    }
   ],
   "source": [
    "P_set = RAggregate(2, R, 4, D, y, 1.4, reg=0.1)\n",
    "print(P_set.size)\n",
    "P_set.seen(sigma)"
   ]
  },
  {
   "cell_type": "code",
   "execution_count": null,
   "id": "0dd987c1-d193-454d-961c-bedc65b7f6e4",
   "metadata": {},
   "outputs": [],
   "source": []
  },
  {
   "cell_type": "code",
   "execution_count": null,
   "id": "39676ca8-730d-47dd-9fb2-e40492fc0b61",
   "metadata": {},
   "outputs": [],
   "source": []
  },
  {
   "cell_type": "code",
   "execution_count": null,
   "id": "c0d2b17f-3024-4e98-8f26-6891dfc70760",
   "metadata": {},
   "outputs": [],
   "source": []
  },
  {
   "cell_type": "code",
   "execution_count": null,
   "id": "b8e404e9-8767-4aee-8f80-50bbfeef3a59",
   "metadata": {},
   "outputs": [],
   "source": []
  }
 ],
 "metadata": {
  "kernelspec": {
   "display_name": "Python (rashomon-tva)",
   "language": "python",
   "name": "rashomon-tva"
  },
  "language_info": {
   "codemirror_mode": {
    "name": "ipython",
    "version": 3
   },
   "file_extension": ".py",
   "mimetype": "text/x-python",
   "name": "python",
   "nbconvert_exporter": "python",
   "pygments_lexer": "ipython3",
   "version": "3.11.3"
  }
 },
 "nbformat": 4,
 "nbformat_minor": 5
}
