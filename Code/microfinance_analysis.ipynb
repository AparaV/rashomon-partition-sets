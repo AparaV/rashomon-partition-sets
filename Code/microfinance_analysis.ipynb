{
 "cells": [
  {
   "cell_type": "markdown",
   "id": "fc78683c-080a-4789-9f7e-517362b206e2",
   "metadata": {},
   "source": [
    "# Microfinance analysis"
   ]
  },
  {
   "cell_type": "code",
   "execution_count": 1,
   "id": "1338c75f-0d85-4888-9920-8bbabbd35cfa",
   "metadata": {},
   "outputs": [],
   "source": [
    "import numpy as np\n",
    "import pandas as pd\n",
    "import matplotlib.pyplot as plt\n",
    "\n",
    "import seaborn as sns\n",
    "\n",
    "from matplotlib import colors\n",
    "from copy import deepcopy\n",
    "\n",
    "\n",
    "%matplotlib inline"
   ]
  },
  {
   "cell_type": "code",
   "execution_count": 2,
   "id": "f4e82caa-cd5f-4dff-91d5-8987b6abe65e",
   "metadata": {},
   "outputs": [],
   "source": [
    "from rashomon import tva\n",
    "from rashomon import loss\n",
    "from rashomon import counter\n",
    "from rashomon import metrics\n",
    "from rashomon import extract_pools\n",
    "from rashomon.aggregate import RAggregate_profile, RAggregate, find_profile_lower_bound, find_feasible_combinations, remove_unused_poolings\n",
    "from rashomon.sets import RashomonSet, RashomonProblemCache, RashomonSubproblemCache\n",
    "\n",
    "%load_ext autoreload\n",
    "%autoreload 2"
   ]
  },
  {
   "cell_type": "code",
   "execution_count": null,
   "id": "37746635-9891-428b-978c-27f314ce1442",
   "metadata": {},
   "outputs": [],
   "source": []
  },
  {
   "cell_type": "markdown",
   "id": "5a45ca72-c6e5-4700-94c8-60ec244e1c74",
   "metadata": {},
   "source": [
    "# Read data"
   ]
  },
  {
   "cell_type": "code",
   "execution_count": 48,
   "id": "83f262e7-a2c6-46b1-9d97-5bd57514dd82",
   "metadata": {},
   "outputs": [
    {
     "data": {
      "text/html": [
       "<div>\n",
       "<style scoped>\n",
       "    .dataframe tbody tr th:only-of-type {\n",
       "        vertical-align: middle;\n",
       "    }\n",
       "\n",
       "    .dataframe tbody tr th {\n",
       "        vertical-align: top;\n",
       "    }\n",
       "\n",
       "    .dataframe thead th {\n",
       "        text-align: right;\n",
       "    }\n",
       "</style>\n",
       "<table border=\"1\" class=\"dataframe\">\n",
       "  <thead>\n",
       "    <tr style=\"text-align: right;\">\n",
       "      <th></th>\n",
       "      <th>male_head</th>\n",
       "      <th>anyloan_amt</th>\n",
       "      <th>female_biz_pct</th>\n",
       "      <th>bizexpense</th>\n",
       "      <th>total_exp_mo</th>\n",
       "      <th>home_durable_index</th>\n",
       "      <th>anyloan_amt_2</th>\n",
       "      <th>informal_amt_2</th>\n",
       "      <th>female_biz_pct_2</th>\n",
       "      <th>hours_week_2</th>\n",
       "      <th>durables_exp_mo_2</th>\n",
       "      <th>temptation_exp_mo_2</th>\n",
       "      <th>total_exp_mo_2</th>\n",
       "      <th>bizprofit_2</th>\n",
       "      <th>bizrev_2</th>\n",
       "      <th>bizemployees_2</th>\n",
       "      <th>girls_school</th>\n",
       "    </tr>\n",
       "  </thead>\n",
       "  <tbody>\n",
       "    <tr>\n",
       "      <th>0</th>\n",
       "      <td>2.0</td>\n",
       "      <td>2</td>\n",
       "      <td>2.0</td>\n",
       "      <td>2</td>\n",
       "      <td>2</td>\n",
       "      <td>2</td>\n",
       "      <td>5000.0</td>\n",
       "      <td>0.0</td>\n",
       "      <td>0.0</td>\n",
       "      <td>36.0</td>\n",
       "      <td>1291.1173</td>\n",
       "      <td>0.0</td>\n",
       "      <td>11836.075</td>\n",
       "      <td>2049.1282</td>\n",
       "      <td>2498.9368</td>\n",
       "      <td>0.0</td>\n",
       "      <td>NaN</td>\n",
       "    </tr>\n",
       "    <tr>\n",
       "      <th>1</th>\n",
       "      <td>2.0</td>\n",
       "      <td>2</td>\n",
       "      <td>2.0</td>\n",
       "      <td>2</td>\n",
       "      <td>2</td>\n",
       "      <td>2</td>\n",
       "      <td>5000.0</td>\n",
       "      <td>0.0</td>\n",
       "      <td>0.0</td>\n",
       "      <td>36.0</td>\n",
       "      <td>1291.1173</td>\n",
       "      <td>0.0</td>\n",
       "      <td>11836.075</td>\n",
       "      <td>2049.1282</td>\n",
       "      <td>2498.9368</td>\n",
       "      <td>0.0</td>\n",
       "      <td>NaN</td>\n",
       "    </tr>\n",
       "    <tr>\n",
       "      <th>2</th>\n",
       "      <td>2.0</td>\n",
       "      <td>2</td>\n",
       "      <td>2.0</td>\n",
       "      <td>2</td>\n",
       "      <td>2</td>\n",
       "      <td>2</td>\n",
       "      <td>5000.0</td>\n",
       "      <td>0.0</td>\n",
       "      <td>0.0</td>\n",
       "      <td>36.0</td>\n",
       "      <td>1291.1173</td>\n",
       "      <td>0.0</td>\n",
       "      <td>11836.075</td>\n",
       "      <td>2049.1282</td>\n",
       "      <td>2498.9368</td>\n",
       "      <td>0.0</td>\n",
       "      <td>NaN</td>\n",
       "    </tr>\n",
       "    <tr>\n",
       "      <th>3</th>\n",
       "      <td>2.0</td>\n",
       "      <td>2</td>\n",
       "      <td>2.0</td>\n",
       "      <td>2</td>\n",
       "      <td>2</td>\n",
       "      <td>2</td>\n",
       "      <td>5000.0</td>\n",
       "      <td>0.0</td>\n",
       "      <td>0.0</td>\n",
       "      <td>36.0</td>\n",
       "      <td>1291.1173</td>\n",
       "      <td>0.0</td>\n",
       "      <td>11836.075</td>\n",
       "      <td>2049.1282</td>\n",
       "      <td>2498.9368</td>\n",
       "      <td>0.0</td>\n",
       "      <td>NaN</td>\n",
       "    </tr>\n",
       "    <tr>\n",
       "      <th>4</th>\n",
       "      <td>2.0</td>\n",
       "      <td>2</td>\n",
       "      <td>2.0</td>\n",
       "      <td>2</td>\n",
       "      <td>2</td>\n",
       "      <td>2</td>\n",
       "      <td>5000.0</td>\n",
       "      <td>0.0</td>\n",
       "      <td>0.0</td>\n",
       "      <td>36.0</td>\n",
       "      <td>1291.1173</td>\n",
       "      <td>0.0</td>\n",
       "      <td>11836.075</td>\n",
       "      <td>2049.1282</td>\n",
       "      <td>2498.9368</td>\n",
       "      <td>0.0</td>\n",
       "      <td>NaN</td>\n",
       "    </tr>\n",
       "  </tbody>\n",
       "</table>\n",
       "</div>"
      ],
      "text/plain": [
       "   male_head  anyloan_amt  female_biz_pct  bizexpense  total_exp_mo  \\\n",
       "0        2.0            2             2.0           2             2   \n",
       "1        2.0            2             2.0           2             2   \n",
       "2        2.0            2             2.0           2             2   \n",
       "3        2.0            2             2.0           2             2   \n",
       "4        2.0            2             2.0           2             2   \n",
       "\n",
       "   home_durable_index  anyloan_amt_2  informal_amt_2  female_biz_pct_2  \\\n",
       "0                   2         5000.0             0.0               0.0   \n",
       "1                   2         5000.0             0.0               0.0   \n",
       "2                   2         5000.0             0.0               0.0   \n",
       "3                   2         5000.0             0.0               0.0   \n",
       "4                   2         5000.0             0.0               0.0   \n",
       "\n",
       "   hours_week_2  durables_exp_mo_2  temptation_exp_mo_2  total_exp_mo_2  \\\n",
       "0          36.0          1291.1173                  0.0       11836.075   \n",
       "1          36.0          1291.1173                  0.0       11836.075   \n",
       "2          36.0          1291.1173                  0.0       11836.075   \n",
       "3          36.0          1291.1173                  0.0       11836.075   \n",
       "4          36.0          1291.1173                  0.0       11836.075   \n",
       "\n",
       "   bizprofit_2   bizrev_2  bizemployees_2  girls_school  \n",
       "0    2049.1282  2498.9368             0.0           NaN  \n",
       "1    2049.1282  2498.9368             0.0           NaN  \n",
       "2    2049.1282  2498.9368             0.0           NaN  \n",
       "3    2049.1282  2498.9368             0.0           NaN  \n",
       "4    2049.1282  2498.9368             0.0           NaN  "
      ]
     },
     "execution_count": 48,
     "metadata": {},
     "output_type": "execute_result"
    }
   ],
   "source": [
    "df = pd.read_csv(\"../Data/banerjee_miracle.csv\")\n",
    "\n",
    "df.head()"
   ]
  },
  {
   "cell_type": "code",
   "execution_count": 49,
   "id": "d6700905-3f5a-4daa-9ae5-d21208789229",
   "metadata": {},
   "outputs": [],
   "source": [
    "cols = df.columns\n",
    "outcome_cols = cols[6:]"
   ]
  },
  {
   "cell_type": "code",
   "execution_count": 68,
   "id": "25e1affa-d17b-4843-9b21-e95769341a65",
   "metadata": {},
   "outputs": [
    {
     "name": "stdout",
     "output_type": "stream",
     "text": [
      "There are 2800 data points\n"
     ]
    }
   ],
   "source": [
    "outcome_col_id = 6\n",
    "outcome_col = cols[outcome_col_id]\n",
    "\n",
    "df2 = df.copy()\n",
    "df2[outcome_col] = df[outcome_col].fillna(0)\n",
    "\n",
    "Z = df2.to_numpy()\n",
    "\n",
    "\n",
    "\n",
    "X = Z[:, [0, 1, 2, 3, 4]]\n",
    "y = Z[:, outcome_col_id]\n",
    "y = (y - np.min(y)) / (np.max(y) - np.min(y))\n",
    "y = y.reshape((-1, 1))\n",
    "\n",
    "num_data = X.shape[0]\n",
    "print(f\"There are {num_data} data points\")"
   ]
  },
  {
   "cell_type": "code",
   "execution_count": null,
   "id": "1c2db246-93aa-4ffd-8bdc-d2133a8c98d0",
   "metadata": {},
   "outputs": [],
   "source": []
  },
  {
   "cell_type": "markdown",
   "id": "b578f1da-3ed0-491f-88c8-08d40580ada7",
   "metadata": {},
   "source": [
    "# Analysis"
   ]
  },
  {
   "cell_type": "code",
   "execution_count": 69,
   "id": "337f777c-cceb-4959-b589-21631038f452",
   "metadata": {},
   "outputs": [],
   "source": [
    "M = 5\n",
    "R = np.array([3, 4, 3, 4, 4])\n",
    "\n",
    "num_profiles = 2**M\n",
    "profiles, profile_map = tva.enumerate_profiles(M)\n",
    "\n",
    "all_policies = tva.enumerate_policies(M, R)\n",
    "num_policies = len(all_policies)\n",
    "\n",
    "policies_profiles = {}\n",
    "policies_profiles_masked = {}\n",
    "policies_ids_profiles = {}\n",
    "for k, profile in enumerate(profiles):\n",
    "\n",
    "    policies_temp = [(i, x) for i, x in enumerate(all_policies) if tva.policy_to_profile(x) == profile]\n",
    "    unzipped_temp = list(zip(*policies_temp))\n",
    "    policies_ids_k = list(unzipped_temp[0])\n",
    "    policies_k = list(unzipped_temp[1])\n",
    "    policies_profiles[k] = deepcopy(policies_k)\n",
    "    policies_ids_profiles[k] = policies_ids_k\n",
    "\n",
    "    profile_mask = list(map(bool, profile))\n",
    "\n",
    "    # Mask the empty arms\n",
    "    for idx, pol in enumerate(policies_k):\n",
    "        policies_k[idx] = tuple([pol[i] for i in range(M) if profile_mask[i]])\n",
    "    policies_profiles_masked[k] = policies_k"
   ]
  },
  {
   "cell_type": "code",
   "execution_count": 70,
   "id": "bdc9cf43-471b-4bd4-896f-44002992b7fa",
   "metadata": {},
   "outputs": [],
   "source": [
    "D = np.zeros(shape=y.shape, dtype=np.int64)\n",
    "profiles_in_data = []\n",
    "for i in range(num_data):\n",
    "    policy_i = tuple([int(x) for x in X[i, :]])\n",
    "    policy_idx = [idx for idx in range(num_policies) if all_policies[idx] == policy_i]\n",
    "    profiles_in_data.append(tva.policy_to_profile(policy_i))\n",
    "    D[i, 0] = int(policy_idx[0])\n",
    "\n",
    "policy_means = loss.compute_policy_means(D, y, num_policies)"
   ]
  },
  {
   "cell_type": "code",
   "execution_count": 71,
   "id": "074c4ee0-c7ca-4e4a-8ed9-e1cf2b02cd35",
   "metadata": {},
   "outputs": [
    {
     "name": "stdout",
     "output_type": "stream",
     "text": [
      "1.0\n"
     ]
    },
    {
     "data": {
      "text/plain": [
       "(array([208]),)"
      ]
     },
     "execution_count": 71,
     "metadata": {},
     "output_type": "execute_result"
    }
   ],
   "source": [
    "nodata_idx = np.where(policy_means[:, 1] == 0)[0]\n",
    "policy_means[nodata_idx, 0] = -np.inf\n",
    "policy_means[nodata_idx, 1] = 1\n",
    "mu_policies = policy_means[:, 0] / policy_means[:, 1]\n",
    "\n",
    "true_best_eff = np.max(mu_policies)\n",
    "print(true_best_eff)\n",
    "np.where(mu_policies == true_best_eff)"
   ]
  },
  {
   "cell_type": "code",
   "execution_count": 72,
   "id": "9ade7328-1a22-4769-9aa9-679dce28afc7",
   "metadata": {},
   "outputs": [
    {
     "data": {
      "text/plain": [
       "(array([2.798e+03, 0.000e+00, 1.000e+00, 0.000e+00, 0.000e+00, 0.000e+00,\n",
       "        0.000e+00, 0.000e+00, 0.000e+00, 1.000e+00]),\n",
       " array([0. , 0.1, 0.2, 0.3, 0.4, 0.5, 0.6, 0.7, 0.8, 0.9, 1. ]),\n",
       " <BarContainer object of 10 artists>)"
      ]
     },
     "execution_count": 72,
     "metadata": {},
     "output_type": "execute_result"
    },
    {
     "data": {
      "image/png": "[encoded data removed]",
      "text/plain": [
       "<Figure size 640x480 with 1 Axes>"
      ]
     },
     "metadata": {},
     "output_type": "display_data"
    }
   ],
   "source": [
    "plt.hist(y)"
   ]
  },
  {
   "cell_type": "code",
   "execution_count": null,
   "id": "002010f0-7a05-48af-9323-25087c1a7a41",
   "metadata": {},
   "outputs": [],
   "source": []
  },
  {
   "cell_type": "code",
   "execution_count": 59,
   "id": "c86804a2-c83b-46b0-99dd-5c36f0dfb6c6",
   "metadata": {},
   "outputs": [
    {
     "data": {
      "text/plain": [
       "3.602795805593008e-05"
      ]
     },
     "execution_count": 59,
     "metadata": {},
     "output_type": "execute_result"
    }
   ],
   "source": [
    "5e-5 - 1.3972041944069919e-05"
   ]
  },
  {
   "cell_type": "code",
   "execution_count": 81,
   "id": "1ab4568b-a5a7-4395-9a25-65691e4b0326",
   "metadata": {},
   "outputs": [
    {
     "name": "stderr",
     "output_type": "stream",
     "text": [
      "/Users/apara/Documents/Research/2022_Bayesian_TVA/Rashomon/Code/rashomon/aggregate/raggregate.py:46: RuntimeWarning: invalid value encountered in divide\n",
      "  mu = np.float64(policy_means_k[:, 0]) / policy_means_k[:, 1]\n",
      "/Users/apara/Documents/Research/2022_Bayesian_TVA/Rashomon/Code/rashomon/aggregate/raggregate.py:46: RuntimeWarning: invalid value encountered in divide\n",
      "  mu = np.float64(policy_means_k[:, 0]) / policy_means_k[:, 1]\n",
      "/Users/apara/Documents/Research/2022_Bayesian_TVA/Rashomon/Code/rashomon/aggregate/raggregate.py:46: RuntimeWarning: invalid value encountered in divide\n",
      "  mu = np.float64(policy_means_k[:, 0]) / policy_means_k[:, 1]\n",
      "/Users/apara/Documents/Research/2022_Bayesian_TVA/Rashomon/Code/rashomon/aggregate/raggregate.py:46: RuntimeWarning: invalid value encountered in divide\n",
      "  mu = np.float64(policy_means_k[:, 0]) / policy_means_k[:, 1]\n",
      "/Users/apara/Documents/Research/2022_Bayesian_TVA/Rashomon/Code/rashomon/aggregate/raggregate.py:46: RuntimeWarning: invalid value encountered in divide\n",
      "  mu = np.float64(policy_means_k[:, 0]) / policy_means_k[:, 1]\n"
     ]
    },
    {
     "name": "stdout",
     "output_type": "stream",
     "text": [
      "1.3972041944069919e-05\n",
      "(0, 0, 0, 0, 0) 1.1027958055930082e-05\n",
      "(0, 0, 0, 0, 1) 1.1027958055930082e-05\n",
      "(0, 0, 0, 1, 0) 1.1027958055930082e-05\n",
      "(0, 0, 0, 1, 1) 1.1027958055930082e-05\n",
      "(0, 0, 1, 0, 0) 1.1027958055930082e-05\n",
      "(0, 0, 1, 0, 1) 1.1027958055930082e-05\n",
      "(0, 0, 1, 1, 0) 1.1027958055930082e-05\n",
      "(0, 0, 1, 1, 1) 1.1027958055930082e-05\n",
      "(0, 1, 0, 0, 0) 1.1027958055930082e-05\n",
      "(0, 1, 0, 0, 1) 1.1027958055930082e-05\n",
      "(0, 1, 0, 1, 0) 1.1027958055930082e-05\n",
      "(0, 1, 0, 1, 1) 1.1027958055930082e-05\n",
      "(0, 1, 1, 0, 0) 1.1027958055930082e-05\n",
      "(0, 1, 1, 0, 1) 1.1027958055930082e-05\n",
      "(0, 1, 1, 1, 0) 1.1027958055930082e-05\n",
      "(0, 1, 1, 1, 1) 1.1027958055930082e-05\n",
      "(1, 0, 0, 0, 0) 1.1027958055930082e-05\n",
      "(1, 0, 0, 0, 1) 1.1027958055930082e-05\n",
      "(1, 0, 0, 1, 0) 1.1027958055930082e-05\n",
      "(1, 0, 0, 1, 1) 1.1027958055930082e-05\n",
      "(1, 0, 1, 0, 0) 1.1027958055930082e-05\n",
      "4\n",
      "(1, 0, 1, 0, 1) 1.1027958055930082e-05\n",
      "15\n",
      "(1, 0, 1, 1, 0) 1.1027958055930082e-05\n",
      "(1, 0, 1, 1, 1) 1.1027958055930082e-05\n",
      "(1, 1, 0, 0, 0) 1.1027958055930082e-05\n",
      "(1, 1, 0, 0, 1) 1.1027958055930082e-05\n",
      "(1, 1, 0, 1, 0) 1.1027958055930082e-05\n",
      "(1, 1, 0, 1, 1) 1.1027958055930082e-05\n",
      "(1, 1, 1, 0, 0) 1.1027958055930082e-05\n",
      "15\n",
      "(1, 1, 1, 0, 1) 2.5e-05\n",
      "42\n",
      "(1, 1, 1, 1, 0) 1.1027958055930082e-05\n",
      "(1, 1, 1, 1, 1) 1.1027958055930082e-05\n",
      "96\n",
      "Found Rashomon sets for each profile. Combining them now.\n",
      "5273\n"
     ]
    }
   ],
   "source": [
    "reg = 1e-6\n",
    "q_0 =  0.0075579\n",
    "q =  2.5e-5\n",
    "H = 20\n",
    "R_set, rashomon_profiles = RAggregate(M, R, H, D, y, q, reg=reg)\n",
    "# R_set, rashomon_profiles = RAggregate(M, R, 10, D, y, q, reg=reg)\n",
    "\n",
    "print(len(R_set))"
   ]
  },
  {
   "cell_type": "code",
   "execution_count": 80,
   "id": "4715e181-6156-4513-bfce-f28a99e8f95d",
   "metadata": {},
   "outputs": [
    {
     "name": "stdout",
     "output_type": "stream",
     "text": [
      "5271\n"
     ]
    }
   ],
   "source": [
    "R_set = find_feasible_combinations(rashomon_profiles, 2.5e-5, H, sorted=True)\n",
    "print(len(R_set))"
   ]
  },
  {
   "cell_type": "code",
   "execution_count": null,
   "id": "192e295e-b7a3-4e6a-b36c-8216a2b4f2fa",
   "metadata": {},
   "outputs": [],
   "source": []
  }
 ],
 "metadata": {
  "kernelspec": {
   "display_name": "Python (rashomon-tva)",
   "language": "python",
   "name": "rashomon-tva"
  },
  "language_info": {
   "codemirror_mode": {
    "name": "ipython",
    "version": 3
   },
   "file_extension": ".py",
   "mimetype": "text/x-python",
   "name": "python",
   "nbconvert_exporter": "python",
   "pygments_lexer": "ipython3",
   "version": "3.11.3"
  }
 },
 "nbformat": 4,
 "nbformat_minor": 5
}
