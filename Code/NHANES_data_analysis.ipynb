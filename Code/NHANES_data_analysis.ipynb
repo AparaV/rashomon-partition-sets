{
 "cells": [
  {
   "cell_type": "code",
   "execution_count": 1,
   "id": "d49fb504-03a2-46b3-9ec2-0cbfc3bf99bf",
   "metadata": {},
   "outputs": [],
   "source": [
    "import numpy as np\n",
    "import pandas as pd\n",
    "import matplotlib.pyplot as plt\n",
    "\n",
    "%matplotlib inline"
   ]
  },
  {
   "cell_type": "markdown",
   "id": "1ebf8a25-9331-4dac-9ef9-95c2868962b9",
   "metadata": {},
   "source": [
    "# Read processed data"
   ]
  },
  {
   "cell_type": "code",
   "execution_count": 116,
   "id": "929c4c45-fb4a-46a4-84d9-ae745da25668",
   "metadata": {},
   "outputs": [
    {
     "data": {
      "text/html": [
       "<div>\n",
       "<style scoped>\n",
       "    .dataframe tbody tr th:only-of-type {\n",
       "        vertical-align: middle;\n",
       "    }\n",
       "\n",
       "    .dataframe tbody tr th {\n",
       "        vertical-align: top;\n",
       "    }\n",
       "\n",
       "    .dataframe thead th {\n",
       "        text-align: right;\n",
       "    }\n",
       "</style>\n",
       "<table border=\"1\" class=\"dataframe\">\n",
       "  <thead>\n",
       "    <tr style=\"text-align: right;\">\n",
       "      <th></th>\n",
       "      <th>Telomean</th>\n",
       "      <th>HoursWorked</th>\n",
       "      <th>Gender</th>\n",
       "      <th>Age</th>\n",
       "      <th>Race</th>\n",
       "      <th>Education</th>\n",
       "      <th>MaritalStatus</th>\n",
       "      <th>HouseholdIncome</th>\n",
       "    </tr>\n",
       "  </thead>\n",
       "  <tbody>\n",
       "    <tr>\n",
       "      <th>0</th>\n",
       "      <td>0.389337</td>\n",
       "      <td>&gt;=41</td>\n",
       "      <td>Female</td>\n",
       "      <td>&lt;=18</td>\n",
       "      <td>Hispanic</td>\n",
       "      <td>&lt; GED</td>\n",
       "      <td>Single</td>\n",
       "      <td>20k-45k</td>\n",
       "    </tr>\n",
       "    <tr>\n",
       "      <th>1</th>\n",
       "      <td>0.389337</td>\n",
       "      <td>21-40</td>\n",
       "      <td>Female</td>\n",
       "      <td>31-50</td>\n",
       "      <td>Other</td>\n",
       "      <td>College</td>\n",
       "      <td>Married</td>\n",
       "      <td>20k-45k</td>\n",
       "    </tr>\n",
       "    <tr>\n",
       "      <th>2</th>\n",
       "      <td>0.433244</td>\n",
       "      <td>&gt;=41</td>\n",
       "      <td>Male</td>\n",
       "      <td>&gt;=70</td>\n",
       "      <td>White</td>\n",
       "      <td>GED</td>\n",
       "      <td>Married</td>\n",
       "      <td>&lt;20k</td>\n",
       "    </tr>\n",
       "    <tr>\n",
       "      <th>3</th>\n",
       "      <td>0.433244</td>\n",
       "      <td>21-40</td>\n",
       "      <td>Male</td>\n",
       "      <td>31-50</td>\n",
       "      <td>White</td>\n",
       "      <td>College</td>\n",
       "      <td>Married</td>\n",
       "      <td>45k-75k</td>\n",
       "    </tr>\n",
       "    <tr>\n",
       "      <th>4</th>\n",
       "      <td>0.443293</td>\n",
       "      <td>&gt;=41</td>\n",
       "      <td>Female</td>\n",
       "      <td>31-50</td>\n",
       "      <td>Other</td>\n",
       "      <td>College</td>\n",
       "      <td>Married</td>\n",
       "      <td>&gt;=75k</td>\n",
       "    </tr>\n",
       "  </tbody>\n",
       "</table>\n",
       "</div>"
      ],
      "text/plain": [
       "   Telomean HoursWorked  Gender    Age      Race Education MaritalStatus  \\\n",
       "0  0.389337        >=41  Female   <=18  Hispanic     < GED        Single   \n",
       "1  0.389337       21-40  Female  31-50     Other   College       Married   \n",
       "2  0.433244        >=41    Male   >=70     White       GED       Married   \n",
       "3  0.433244       21-40    Male  31-50     White   College       Married   \n",
       "4  0.443293        >=41  Female  31-50     Other   College       Married   \n",
       "\n",
       "  HouseholdIncome  \n",
       "0         20k-45k  \n",
       "1         20k-45k  \n",
       "2            <20k  \n",
       "3         45k-75k  \n",
       "4           >=75k  "
      ]
     },
     "execution_count": 116,
     "metadata": {},
     "output_type": "execute_result"
    }
   ],
   "source": [
    "df = pd.read_csv(\"../Data/NHANES_telomere.csv\")\n",
    "\n",
    "df.head()"
   ]
  },
  {
   "cell_type": "code",
   "execution_count": null,
   "id": "607f6bd6-c76d-45fa-a196-1dd2074c1f6e",
   "metadata": {},
   "outputs": [],
   "source": []
  },
  {
   "cell_type": "code",
   "execution_count": null,
   "id": "e4d783ee-ab8a-4c3f-809c-2c19f2ee0fa0",
   "metadata": {},
   "outputs": [],
   "source": []
  },
  {
   "cell_type": "code",
   "execution_count": null,
   "id": "d42bac20-df42-4725-a121-b593a0174368",
   "metadata": {},
   "outputs": [],
   "source": []
  }
 ],
 "metadata": {
  "kernelspec": {
   "display_name": "Python (rashomon-tva)",
   "language": "python",
   "name": "rashomon-tva"
  },
  "language_info": {
   "codemirror_mode": {
    "name": "ipython",
    "version": 3
   },
   "file_extension": ".py",
   "mimetype": "text/x-python",
   "name": "python",
   "nbconvert_exporter": "python",
   "pygments_lexer": "ipython3",
   "version": "3.11.3"
  }
 },
 "nbformat": 4,
 "nbformat_minor": 5
}
