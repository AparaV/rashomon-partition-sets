{
 "cells": [
  {
   "cell_type": "code",
   "execution_count": 6,
   "id": "9a619547",
   "metadata": {},
   "outputs": [],
   "source": [
    "import math\n",
    "import itertools\n",
    "import collections\n",
    "import numpy as np\n",
    "import matplotlib.pyplot as plt\n",
    "\n",
    "from functools import reduce\n",
    "\n",
    "from utils import *\n",
    "\n",
    "# %matplotlib inline"
   ]
  },
  {
   "cell_type": "markdown",
   "id": "8ac2c1b7",
   "metadata": {},
   "source": [
    "### Function to pool based on $\\Sigma$ matrix"
   ]
  },
  {
   "cell_type": "code",
   "execution_count": 127,
   "id": "b6a1f781",
   "metadata": {},
   "outputs": [],
   "source": [
    "def __enumerate_policies_classic__(M, R):\n",
    "    # All arms have the same intensities\n",
    "    intensities = np.arange(R-1) + 1\n",
    "    policies = []\n",
    "    for pol in itertools.product(intensities, repeat=M):\n",
    "        policies.append(pol)\n",
    "    return policies\n",
    "\n",
    "def __enumerate_policies_complex__(R):\n",
    "    # Each arm may have different intensities\n",
    "    intensities = []\n",
    "    for Ri in R:\n",
    "        intensities.append(np.arange(Ri-1) + 1)\n",
    "    policies = []\n",
    "    for pol in itertools.product(*intensities, repeat=1):\n",
    "        policies.append(pol)\n",
    "    return policies\n",
    "        \n",
    "\n",
    "def enumerate_policies(M, R):\n",
    "    if isinstance(R, int) or len(R) == 1:\n",
    "        if not isinstance(R, int):\n",
    "            R = R[0]\n",
    "        policies = __enumerate_policies_classic__(M, R)\n",
    "    else:\n",
    "        policies = __enumerate_policies_complex__(R)\n",
    "    return policies"
   ]
  },
  {
   "cell_type": "code",
   "execution_count": 166,
   "id": "677099c2",
   "metadata": {},
   "outputs": [],
   "source": [
    "def lattice_adjacencies(sigma, policies):\n",
    "    num_policies = len(policies)\n",
    "    edges = []\n",
    "    for i in range(num_policies):\n",
    "        pol1 = policies[i]\n",
    "        for j in range(i+1, num_policies):\n",
    "            pol2 = policies[j]\n",
    "            \n",
    "            diff = np.array(pol1) - np.array(pol2)\n",
    "            diff = np.sum(np.abs(diff))\n",
    "            if diff == 1:\n",
    "                comp = np.not_equal(pol1, pol2)\n",
    "                arm = np.where(comp)[0][0]\n",
    "                min_dosage = min(pol1[arm], pol2[arm])\n",
    "                if sigma[arm, min_dosage-1] == 1:\n",
    "                    edges.append((i, j))\n",
    "    return edges"
   ]
  },
  {
   "cell_type": "code",
   "execution_count": 155,
   "id": "ef3fde50",
   "metadata": {},
   "outputs": [],
   "source": [
    "# Helper to merge components\n",
    "def __merge_components__(parent, x):\n",
    "    if parent[x] == x:\n",
    "        return x\n",
    "    return __merge_components__(parent, parent[x])\n",
    " \n",
    "\n",
    "# Disjoint Set Union Algorithm from https://cp-algorithms.com/data_structures/disjoint_set_union.html\n",
    "# Implementation modified from https://www.geeksforgeeks.org/connected-components-in-an-undirected-graph/\n",
    "def connected_components(n, edges):\n",
    " \n",
    "    # find all parents\n",
    "    parent = [i for i in range(n)]\n",
    "    for x in edges:\n",
    "        comp1 = __merge_components__(parent, x[0])\n",
    "        comp2 = __merge_components__(parent, x[1])\n",
    "        parent[comp1] = comp2\n",
    "     \n",
    "    # merge all components\n",
    "    for i in range(n):\n",
    "        parent[i] = __merge_components__(parent, parent[i])\n",
    "     \n",
    "    cc_map = collections.defaultdict(list)\n",
    "    for i in range(n):\n",
    "        cc_map[parent[i]].append(i)\n",
    "    conn_comps = [val for key, val in cc_map.items()]\n",
    "        \n",
    "    return conn_comps"
   ]
  },
  {
   "cell_type": "code",
   "execution_count": 185,
   "id": "aa7d24da",
   "metadata": {},
   "outputs": [
    {
     "name": "stdout",
     "output_type": "stream",
     "text": [
      "[0, 4, 8]\n",
      "[1, 2, 3, 5, 6, 7, 9, 10, 11]\n",
      "[12]\n",
      "[13, 14, 15]\n"
     ]
    }
   ],
   "source": [
    "\n",
    "sigma = np.array([[1, 1, 0],\n",
    "                  [0, 1, 1]])\n",
    "\n",
    "M, n = sigma.shape\n",
    "R = n + 2\n",
    "\n",
    "num_policies = (R-1)**M\n",
    "policies = enumerate_policies(M, R)\n",
    "relations = lattice_adjacencies(sigma, policies)\n",
    "pools = connected_components(num_policies, relations)\n",
    "\n",
    "for pool in pools:\n",
    "    print(pool)"
   ]
  },
  {
   "cell_type": "code",
   "execution_count": null,
   "id": "a9438718",
   "metadata": {},
   "outputs": [],
   "source": []
  },
  {
   "cell_type": "code",
   "execution_count": null,
   "id": "c0a38baf",
   "metadata": {},
   "outputs": [],
   "source": []
  },
  {
   "cell_type": "code",
   "execution_count": null,
   "id": "e0cedf1e",
   "metadata": {},
   "outputs": [],
   "source": []
  },
  {
   "cell_type": "code",
   "execution_count": null,
   "id": "0170808e",
   "metadata": {},
   "outputs": [],
   "source": []
  },
  {
   "cell_type": "code",
   "execution_count": 186,
   "id": "74be4555",
   "metadata": {},
   "outputs": [],
   "source": [
    "# Function calculate B\n",
    "\n",
    "# Function to calculate Q"
   ]
  },
  {
   "cell_type": "code",
   "execution_count": null,
   "id": "c179cb4e",
   "metadata": {},
   "outputs": [],
   "source": []
  }
 ],
 "metadata": {
  "kernelspec": {
   "display_name": "Python (rashomon-tva)",
   "language": "python",
   "name": "rashomon-tva"
  },
  "language_info": {
   "codemirror_mode": {
    "name": "ipython",
    "version": 3
   },
   "file_extension": ".py",
   "mimetype": "text/x-python",
   "name": "python",
   "nbconvert_exporter": "python",
   "pygments_lexer": "ipython3",
   "version": "3.11.3"
  }
 },
 "nbformat": 4,
 "nbformat_minor": 5
}
