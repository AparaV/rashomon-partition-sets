{
 "cells": [
  {
   "cell_type": "markdown",
   "id": "fc78683c-080a-4789-9f7e-517362b206e2",
   "metadata": {},
   "source": [
    "# Microfinance analysis"
   ]
  },
  {
   "cell_type": "code",
   "execution_count": 1,
   "id": "1338c75f-0d85-4888-9920-8bbabbd35cfa",
   "metadata": {},
   "outputs": [],
   "source": [
    "import numpy as np\n",
    "import pandas as pd\n",
    "import matplotlib.pyplot as plt\n",
    "\n",
    "import seaborn as sns\n",
    "\n",
    "from matplotlib import colors\n",
    "from copy import deepcopy\n",
    "\n",
    "\n",
    "%matplotlib inline"
   ]
  },
  {
   "cell_type": "code",
   "execution_count": 2,
   "id": "f4e82caa-cd5f-4dff-91d5-8987b6abe65e",
   "metadata": {},
   "outputs": [],
   "source": [
    "import pickle\n",
    "\n",
    "from rashomon import tva\n",
    "from rashomon import loss\n",
    "from rashomon import counter\n",
    "from rashomon import metrics\n",
    "from rashomon import extract_pools\n",
    "from rashomon.aggregate import RAggregate_profile, RAggregate, find_profile_lower_bound, find_feasible_combinations, remove_unused_poolings\n",
    "from rashomon.sets import RashomonSet, RashomonProblemCache, RashomonSubproblemCache\n",
    "\n",
    "%load_ext autoreload\n",
    "%autoreload 2"
   ]
  },
  {
   "cell_type": "code",
   "execution_count": null,
   "id": "96dd2db1-1ab2-4338-b06a-c947c306b21f",
   "metadata": {},
   "outputs": [],
   "source": []
  },
  {
   "cell_type": "markdown",
   "id": "5a45ca72-c6e5-4700-94c8-60ec244e1c74",
   "metadata": {},
   "source": [
    "# Read data"
   ]
  },
  {
   "cell_type": "code",
   "execution_count": 77,
   "id": "83f262e7-a2c6-46b1-9d97-5bd57514dd82",
   "metadata": {},
   "outputs": [
    {
     "data": {
      "text/html": [
       "<div>\n",
       "<style scoped>\n",
       "    .dataframe tbody tr th:only-of-type {\n",
       "        vertical-align: middle;\n",
       "    }\n",
       "\n",
       "    .dataframe tbody tr th {\n",
       "        vertical-align: top;\n",
       "    }\n",
       "\n",
       "    .dataframe thead th {\n",
       "        text-align: right;\n",
       "    }\n",
       "</style>\n",
       "<table border=\"1\" class=\"dataframe\">\n",
       "  <thead>\n",
       "    <tr style=\"text-align: right;\">\n",
       "      <th></th>\n",
       "      <th>hhid</th>\n",
       "      <th>areaid</th>\n",
       "      <th>treatment</th>\n",
       "      <th>hh_edu</th>\n",
       "      <th>hh_gender</th>\n",
       "      <th>old_biz</th>\n",
       "      <th>area_pop_base</th>\n",
       "      <th>area_debt_total_base</th>\n",
       "      <th>area_business_total_base</th>\n",
       "      <th>area_exp_pc_mean_base</th>\n",
       "      <th>...</th>\n",
       "      <th>informal_amt_2</th>\n",
       "      <th>female_biz_pct_2</th>\n",
       "      <th>hours_week_2</th>\n",
       "      <th>durables_exp_mo_2</th>\n",
       "      <th>temptation_exp_mo_2</th>\n",
       "      <th>total_exp_mo_2</th>\n",
       "      <th>bizprofit_2</th>\n",
       "      <th>bizrev_2</th>\n",
       "      <th>bizemployees_2</th>\n",
       "      <th>girls_school_2</th>\n",
       "    </tr>\n",
       "  </thead>\n",
       "  <tbody>\n",
       "    <tr>\n",
       "      <th>0</th>\n",
       "      <td>1</td>\n",
       "      <td>1</td>\n",
       "      <td>1</td>\n",
       "      <td>1.0</td>\n",
       "      <td>1.0</td>\n",
       "      <td>0.0</td>\n",
       "      <td>1</td>\n",
       "      <td>3</td>\n",
       "      <td>2</td>\n",
       "      <td>3</td>\n",
       "      <td>...</td>\n",
       "      <td>0.000000</td>\n",
       "      <td>NaN</td>\n",
       "      <td>84.0</td>\n",
       "      <td>138.82982</td>\n",
       "      <td>0.0000</td>\n",
       "      <td>4128.3823</td>\n",
       "      <td>0.0000</td>\n",
       "      <td>0.0000</td>\n",
       "      <td>0.0</td>\n",
       "      <td>1.0</td>\n",
       "    </tr>\n",
       "    <tr>\n",
       "      <th>1</th>\n",
       "      <td>2</td>\n",
       "      <td>1</td>\n",
       "      <td>1</td>\n",
       "      <td>0.0</td>\n",
       "      <td>1.0</td>\n",
       "      <td>0.0</td>\n",
       "      <td>1</td>\n",
       "      <td>3</td>\n",
       "      <td>2</td>\n",
       "      <td>3</td>\n",
       "      <td>...</td>\n",
       "      <td>0.000000</td>\n",
       "      <td>NaN</td>\n",
       "      <td>126.0</td>\n",
       "      <td>793.41240</td>\n",
       "      <td>533.1065</td>\n",
       "      <td>6835.4253</td>\n",
       "      <td>0.0000</td>\n",
       "      <td>0.0000</td>\n",
       "      <td>0.0</td>\n",
       "      <td>1.0</td>\n",
       "    </tr>\n",
       "    <tr>\n",
       "      <th>2</th>\n",
       "      <td>3</td>\n",
       "      <td>1</td>\n",
       "      <td>1</td>\n",
       "      <td>0.0</td>\n",
       "      <td>1.0</td>\n",
       "      <td>1.0</td>\n",
       "      <td>1</td>\n",
       "      <td>3</td>\n",
       "      <td>2</td>\n",
       "      <td>3</td>\n",
       "      <td>...</td>\n",
       "      <td>0.000000</td>\n",
       "      <td>0.0</td>\n",
       "      <td>36.0</td>\n",
       "      <td>1291.11730</td>\n",
       "      <td>0.0000</td>\n",
       "      <td>11836.0750</td>\n",
       "      <td>2049.1282</td>\n",
       "      <td>2498.9368</td>\n",
       "      <td>0.0</td>\n",
       "      <td>NaN</td>\n",
       "    </tr>\n",
       "    <tr>\n",
       "      <th>3</th>\n",
       "      <td>4</td>\n",
       "      <td>1</td>\n",
       "      <td>1</td>\n",
       "      <td>0.0</td>\n",
       "      <td>1.0</td>\n",
       "      <td>1.0</td>\n",
       "      <td>1</td>\n",
       "      <td>3</td>\n",
       "      <td>2</td>\n",
       "      <td>3</td>\n",
       "      <td>...</td>\n",
       "      <td>462303.305354</td>\n",
       "      <td>1.0</td>\n",
       "      <td>84.0</td>\n",
       "      <td>347.07455</td>\n",
       "      <td>0.0000</td>\n",
       "      <td>8740.4480</td>\n",
       "      <td>2082.4473</td>\n",
       "      <td>2498.9368</td>\n",
       "      <td>1.0</td>\n",
       "      <td>1.0</td>\n",
       "    </tr>\n",
       "    <tr>\n",
       "      <th>4</th>\n",
       "      <td>5</td>\n",
       "      <td>1</td>\n",
       "      <td>1</td>\n",
       "      <td>0.0</td>\n",
       "      <td>1.0</td>\n",
       "      <td>1.0</td>\n",
       "      <td>1</td>\n",
       "      <td>3</td>\n",
       "      <td>2</td>\n",
       "      <td>3</td>\n",
       "      <td>...</td>\n",
       "      <td>45813.841071</td>\n",
       "      <td>0.0</td>\n",
       "      <td>63.0</td>\n",
       "      <td>104.12237</td>\n",
       "      <td>0.0000</td>\n",
       "      <td>6607.4670</td>\n",
       "      <td>NaN</td>\n",
       "      <td>74634.0800</td>\n",
       "      <td>0.0</td>\n",
       "      <td>NaN</td>\n",
       "    </tr>\n",
       "  </tbody>\n",
       "</table>\n",
       "<p>5 rows × 23 columns</p>\n",
       "</div>"
      ],
      "text/plain": [
       "   hhid  areaid  treatment  hh_edu  hh_gender  old_biz  area_pop_base  \\\n",
       "0     1       1          1     1.0        1.0      0.0              1   \n",
       "1     2       1          1     0.0        1.0      0.0              1   \n",
       "2     3       1          1     0.0        1.0      1.0              1   \n",
       "3     4       1          1     0.0        1.0      1.0              1   \n",
       "4     5       1          1     0.0        1.0      1.0              1   \n",
       "\n",
       "   area_debt_total_base  area_business_total_base  area_exp_pc_mean_base  ...  \\\n",
       "0                     3                         2                      3  ...   \n",
       "1                     3                         2                      3  ...   \n",
       "2                     3                         2                      3  ...   \n",
       "3                     3                         2                      3  ...   \n",
       "4                     3                         2                      3  ...   \n",
       "\n",
       "   informal_amt_2  female_biz_pct_2  hours_week_2  durables_exp_mo_2  \\\n",
       "0        0.000000               NaN          84.0          138.82982   \n",
       "1        0.000000               NaN         126.0          793.41240   \n",
       "2        0.000000               0.0          36.0         1291.11730   \n",
       "3   462303.305354               1.0          84.0          347.07455   \n",
       "4    45813.841071               0.0          63.0          104.12237   \n",
       "\n",
       "   temptation_exp_mo_2  total_exp_mo_2  bizprofit_2    bizrev_2  \\\n",
       "0               0.0000       4128.3823       0.0000      0.0000   \n",
       "1             533.1065       6835.4253       0.0000      0.0000   \n",
       "2               0.0000      11836.0750    2049.1282   2498.9368   \n",
       "3               0.0000       8740.4480    2082.4473   2498.9368   \n",
       "4               0.0000       6607.4670          NaN  74634.0800   \n",
       "\n",
       "   bizemployees_2  girls_school_2  \n",
       "0             0.0             1.0  \n",
       "1             0.0             1.0  \n",
       "2             0.0             NaN  \n",
       "3             1.0             1.0  \n",
       "4             0.0             NaN  \n",
       "\n",
       "[5 rows x 23 columns]"
      ]
     },
     "execution_count": 77,
     "metadata": {},
     "output_type": "execute_result"
    }
   ],
   "source": [
    "df = pd.read_csv(\"../Data/banerjee_miracle.csv\")\n",
    "\n",
    "df.head()"
   ]
  },
  {
   "cell_type": "code",
   "execution_count": 78,
   "id": "d6700905-3f5a-4daa-9ae5-d21208789229",
   "metadata": {},
   "outputs": [
    {
     "name": "stdout",
     "output_type": "stream",
     "text": [
      "Index(['anyloan_amt_2', 'informal_amt_2', 'female_biz_pct_2', 'hours_week_2',\n",
      "       'durables_exp_mo_2', 'temptation_exp_mo_2', 'total_exp_mo_2',\n",
      "       'bizprofit_2', 'bizrev_2', 'bizemployees_2', 'girls_school_2'],\n",
      "      dtype='object')\n"
     ]
    }
   ],
   "source": [
    "cols = df.columns\n",
    "outcome_cols = cols[12:]\n",
    "\n",
    "print(outcome_cols)"
   ]
  },
  {
   "cell_type": "code",
   "execution_count": 79,
   "id": "42c3a801-23f2-4b1a-9272-5ac8775f7086",
   "metadata": {},
   "outputs": [
    {
     "name": "stdout",
     "output_type": "stream",
     "text": [
      "['treatment', 'hh_edu', 'hh_gender', 'old_biz', 'area_pop_base', 'area_debt_total_base', 'area_business_total_base', 'area_exp_pc_mean_base', 'area_literate_head_base', 'area_literate_base']\n"
     ]
    }
   ],
   "source": [
    "covariate_cols_id = [2, 3, 4, 5, 6, 7, 8, 9, 10, 11]\n",
    "covariate_cols = [cols[x] for x in covariate_cols_id]\n",
    "\n",
    "print(covariate_cols)"
   ]
  },
  {
   "cell_type": "code",
   "execution_count": 80,
   "id": "082b0e57-1d02-4988-9650-52079fef53f1",
   "metadata": {},
   "outputs": [],
   "source": [
    "df[\"treatment\"] = df[\"treatment\"] + 1\n",
    "df[\"hh_edu\"] = df[\"hh_edu\"] + 1\n",
    "df[\"hh_gender\"] = df[\"hh_gender\"] + 1"
   ]
  },
  {
   "cell_type": "code",
   "execution_count": 81,
   "id": "25e1affa-d17b-4843-9b21-e95769341a65",
   "metadata": {},
   "outputs": [
    {
     "name": "stdout",
     "output_type": "stream",
     "text": [
      "Covariates used are ['treatment', 'hh_edu', 'hh_gender', 'old_biz', 'area_debt_total_base', 'area_business_total_base']\n",
      "Outcome is anyloan_amt_2\n",
      "There are 6142 data points\n"
     ]
    }
   ],
   "source": [
    "outcome_col_id = 12\n",
    "outcome_col = cols[outcome_col_id]\n",
    "\n",
    "chosen_covariates_idx = [2, 3, 4, 5, 7, 8]\n",
    "chosen_covariates = [cols[x] for x in chosen_covariates_idx]\n",
    "\n",
    "print(f\"Covariates used are {chosen_covariates}\")\n",
    "print(f\"Outcome is {outcome_col}\")\n",
    "\n",
    "df2 = df.copy()\n",
    "df2 = df2.dropna(subset=[outcome_col], axis=0)\n",
    "\n",
    "Z = df2.to_numpy()\n",
    "\n",
    "X = Z[:, chosen_covariates_idx]\n",
    "y = Z[:, outcome_col_id]\n",
    "y = (y - np.min(y)) / (np.max(y) - np.min(y))\n",
    "y = y.reshape((-1, 1))\n",
    "\n",
    "num_data = X.shape[0]\n",
    "print(f\"There are {num_data} data points\")"
   ]
  },
  {
   "cell_type": "code",
   "execution_count": 82,
   "id": "2edb553e-c17c-487d-acae-328897e47354",
   "metadata": {},
   "outputs": [
    {
     "data": {
      "text/plain": [
       "array([ 11000.,  25000.,   5000., ..., 110720., 134510.,  26050.])"
      ]
     },
     "execution_count": 82,
     "metadata": {},
     "output_type": "execute_result"
    }
   ],
   "source": [
    "pd.unique(df2[outcome_col])"
   ]
  },
  {
   "cell_type": "markdown",
   "id": "b578f1da-3ed0-491f-88c8-08d40580ada7",
   "metadata": {},
   "source": [
    "# Analysis"
   ]
  },
  {
   "cell_type": "code",
   "execution_count": 83,
   "id": "337f777c-cceb-4959-b589-21631038f452",
   "metadata": {},
   "outputs": [],
   "source": [
    "M = 6\n",
    "R = np.array([3, 3, 3, 4, 4, 4])\n",
    "\n",
    "num_profiles = 2**M\n",
    "profiles, profile_map = tva.enumerate_profiles(M)\n",
    "\n",
    "all_policies = tva.enumerate_policies(M, R)\n",
    "num_policies = len(all_policies)\n",
    "\n",
    "policies_profiles = {}\n",
    "policies_profiles_masked = {}\n",
    "policies_ids_profiles = {}\n",
    "for k, profile in enumerate(profiles):\n",
    "\n",
    "    policies_temp = [(i, x) for i, x in enumerate(all_policies) if tva.policy_to_profile(x) == profile]\n",
    "    unzipped_temp = list(zip(*policies_temp))\n",
    "    policies_ids_k = list(unzipped_temp[0])\n",
    "    policies_k = list(unzipped_temp[1])\n",
    "    policies_profiles[k] = deepcopy(policies_k)\n",
    "    policies_ids_profiles[k] = policies_ids_k\n",
    "\n",
    "    profile_mask = list(map(bool, profile))\n",
    "\n",
    "    # Mask the empty arms\n",
    "    for idx, pol in enumerate(policies_k):\n",
    "        policies_k[idx] = tuple([pol[i] for i in range(M) if profile_mask[i]])\n",
    "    policies_profiles_masked[k] = policies_k"
   ]
  },
  {
   "cell_type": "code",
   "execution_count": 84,
   "id": "bdc9cf43-471b-4bd4-896f-44002992b7fa",
   "metadata": {},
   "outputs": [],
   "source": [
    "D = np.zeros(shape=y.shape, dtype=np.int64)\n",
    "profiles_in_data = []\n",
    "for i in range(num_data):\n",
    "    policy_i = tuple([int(x) for x in X[i, :]])\n",
    "    policy_idx = [idx for idx in range(num_policies) if all_policies[idx] == policy_i]\n",
    "    profiles_in_data.append(tva.policy_to_profile(policy_i))\n",
    "    D[i, 0] = int(policy_idx[0])\n",
    "\n",
    "policy_means = loss.compute_policy_means(D, y, num_policies)"
   ]
  },
  {
   "cell_type": "code",
   "execution_count": 85,
   "id": "074c4ee0-c7ca-4e4a-8ed9-e1cf2b02cd35",
   "metadata": {},
   "outputs": [
    {
     "name": "stdout",
     "output_type": "stream",
     "text": [
      "0.21031746031746032\n"
     ]
    },
    {
     "data": {
      "text/plain": [
       "(array([1424]),)"
      ]
     },
     "execution_count": 85,
     "metadata": {},
     "output_type": "execute_result"
    }
   ],
   "source": [
    "nodata_idx = np.where(policy_means[:, 1] == 0)[0]\n",
    "policy_means[nodata_idx, 0] = -np.inf\n",
    "policy_means[nodata_idx, 1] = 1\n",
    "mu_policies = policy_means[:, 0] / policy_means[:, 1]\n",
    "\n",
    "true_best_eff = np.max(mu_policies)\n",
    "print(true_best_eff)\n",
    "np.where(mu_policies == true_best_eff)"
   ]
  },
  {
   "cell_type": "code",
   "execution_count": null,
   "id": "002010f0-7a05-48af-9323-25087c1a7a41",
   "metadata": {},
   "outputs": [],
   "source": []
  },
  {
   "cell_type": "code",
   "execution_count": 97,
   "id": "1ab4568b-a5a7-4395-9a25-65691e4b0326",
   "metadata": {},
   "outputs": [
    {
     "name": "stdout",
     "output_type": "stream",
     "text": [
      "Skipping profile (0, 0, 0, 0, 0, 0)\n",
      "Skipping profile (0, 0, 0, 0, 0, 1)\n",
      "Skipping profile (0, 0, 0, 0, 1, 0)\n",
      "Skipping profile (0, 0, 0, 0, 1, 1)\n",
      "Skipping profile (0, 0, 0, 1, 0, 0)\n",
      "Skipping profile (0, 0, 0, 1, 0, 1)\n",
      "Skipping profile (0, 0, 0, 1, 1, 0)\n",
      "Skipping profile (0, 0, 0, 1, 1, 1)\n",
      "Skipping profile (0, 0, 1, 0, 0, 0)\n",
      "Skipping profile (0, 0, 1, 0, 0, 1)\n",
      "Skipping profile (0, 0, 1, 0, 1, 0)\n",
      "Skipping profile (0, 0, 1, 0, 1, 1)\n",
      "Skipping profile (0, 0, 1, 1, 0, 0)\n",
      "Skipping profile (0, 0, 1, 1, 0, 1)\n",
      "Skipping profile (0, 0, 1, 1, 1, 0)\n",
      "Skipping profile (0, 0, 1, 1, 1, 1)\n",
      "Skipping profile (0, 1, 0, 0, 0, 0)\n",
      "Skipping profile (0, 1, 0, 0, 0, 1)\n",
      "Skipping profile (0, 1, 0, 0, 1, 0)\n",
      "Skipping profile (0, 1, 0, 0, 1, 1)\n",
      "Skipping profile (0, 1, 0, 1, 0, 0)\n",
      "Skipping profile (0, 1, 0, 1, 0, 1)\n",
      "Skipping profile (0, 1, 0, 1, 1, 0)\n",
      "Skipping profile (0, 1, 0, 1, 1, 1)\n",
      "Skipping profile (0, 1, 1, 0, 0, 0)\n",
      "Skipping profile (0, 1, 1, 0, 0, 1)\n",
      "Skipping profile (0, 1, 1, 0, 1, 0)\n",
      "Skipping profile (0, 1, 1, 0, 1, 1)\n",
      "Skipping profile (0, 1, 1, 1, 0, 0)\n",
      "Skipping profile (0, 1, 1, 1, 0, 1)\n",
      "Skipping profile (0, 1, 1, 1, 1, 0)\n",
      "Skipping profile (0, 1, 1, 1, 1, 1)\n",
      "Skipping profile (1, 0, 0, 0, 0, 0)\n",
      "Skipping profile (1, 0, 0, 0, 0, 1)\n",
      "Skipping profile (1, 0, 0, 0, 1, 0)\n",
      "Skipping profile (1, 0, 0, 0, 1, 1)\n",
      "Skipping profile (1, 0, 0, 1, 0, 0)\n",
      "Skipping profile (1, 0, 0, 1, 0, 1)\n",
      "Skipping profile (1, 0, 0, 1, 1, 0)\n",
      "Skipping profile (1, 0, 0, 1, 1, 1)\n",
      "Skipping profile (1, 0, 1, 0, 0, 0)\n",
      "Skipping profile (1, 0, 1, 0, 0, 1)\n",
      "Skipping profile (1, 0, 1, 0, 1, 0)\n",
      "Skipping profile (1, 0, 1, 0, 1, 1)\n",
      "Skipping profile (1, 0, 1, 1, 0, 0)\n",
      "Skipping profile (1, 0, 1, 1, 0, 1)\n",
      "Skipping profile (1, 0, 1, 1, 1, 0)\n",
      "Skipping profile (1, 0, 1, 1, 1, 1)\n",
      "Skipping profile (1, 1, 0, 0, 0, 0)\n",
      "Skipping profile (1, 1, 0, 0, 0, 1)\n",
      "Skipping profile (1, 1, 0, 0, 1, 0)\n",
      "Skipping profile (1, 1, 0, 0, 1, 1)\n",
      "Skipping profile (1, 1, 0, 1, 0, 0)\n",
      "Skipping profile (1, 1, 0, 1, 0, 1)\n",
      "Skipping profile (1, 1, 0, 1, 1, 0)\n",
      "Skipping profile (1, 1, 0, 1, 1, 1)\n",
      "(1, 1, 1, 0, 0, 0) 0.0014948937125295546\n",
      "8\n",
      "(1, 1, 1, 0, 0, 1) 0.0014737119627613662\n",
      "29\n",
      "(1, 1, 1, 0, 1, 0) 0.0019392874440521328\n",
      "29\n",
      "(1, 1, 1, 0, 1, 1) 0.002115130389966544\n",
      "83\n",
      "(1, 1, 1, 1, 0, 0) 0.0013933398034156668\n",
      "29\n",
      "(1, 1, 1, 1, 0, 1) 0.0013330300582786126\n",
      "83\n",
      "(1, 1, 1, 1, 1, 0) 0.0018381591177172008\n",
      "83\n",
      "(1, 1, 1, 1, 1, 1) 0.0017426670767255797\n",
      "190\n",
      "Finding feasible combinations\n",
      "13333\n"
     ]
    }
   ],
   "source": [
    "reg = 1e-4\n",
    "\n",
    "# With q = 6.8e-3, we got\n",
    "# Best model loss 0.006677662589304398 and epsilon 0.0149752999141002\n",
    "# Smallest model 32.0, largest model 49.0\n",
    "# And there were 4227072 models\n",
    "\n",
    "q =  4.6e-3\n",
    "\n",
    "# H = 20\n",
    "H = np.inf\n",
    "R_set, R_profiles = RAggregate(M, R, H, D, y, q, reg=reg)\n",
    "# R_set, R_profiles = RAggregate(M, R, 10, D, y, q, reg=reg)\n",
    "\n",
    "print(len(R_set))"
   ]
  },
  {
   "cell_type": "code",
   "execution_count": 95,
   "id": "b52a8550-06d7-4022-acd4-efdbd8c2b584",
   "metadata": {},
   "outputs": [
    {
     "name": "stdout",
     "output_type": "stream",
     "text": [
      "13333\n"
     ]
    }
   ],
   "source": [
    "\n",
    "R_set = find_feasible_combinations(R_profiles, 4.6e-3, np.inf, sorted=True)\n",
    "print(len(R_set))"
   ]
  },
  {
   "cell_type": "code",
   "execution_count": 96,
   "id": "4e3fc4ab-3e60-41b9-83c4-c3a092729dc5",
   "metadata": {},
   "outputs": [
    {
     "name": "stdout",
     "output_type": "stream",
     "text": [
      "Best model loss 0.004299737679159057 and epsilon 0.06977152970196171\n",
      "Smallest model 64.0, largest model 67.0\n"
     ]
    }
   ],
   "source": [
    "model_losses = []\n",
    "model_sizes = []\n",
    "\n",
    "for r_set in R_set:\n",
    "    loss_r = 0\n",
    "    size_r = 0\n",
    "    for profile, model_prof in enumerate(r_set):\n",
    "        loss_r_prof = R_profiles[profile].loss[model_prof]\n",
    "        size_r_prof = R_profiles[profile].pools[model_prof]\n",
    "        loss_r += loss_r_prof\n",
    "        size_r += size_r_prof\n",
    "    \n",
    "    model_losses.append(loss_r)\n",
    "    model_sizes.append(size_r)\n",
    "\n",
    "q0 = np.min(model_losses)\n",
    "eps = (np.max(model_losses) - np.min(model_losses)) / q0\n",
    "\n",
    "print(f\"Best model loss {q0} and epsilon {eps}\")\n",
    "\n",
    "print(f\"Smallest model {np.min(model_sizes)}, largest model {np.max(model_sizes)}\")"
   ]
  },
  {
   "cell_type": "code",
   "execution_count": 91,
   "id": "05132eda-2142-4be0-bfc1-c54f186884a9",
   "metadata": {},
   "outputs": [
    {
     "data": {
      "image/png": "[encoded data removed]",
      "text/plain": [
       "<Figure size 640x480 with 1 Axes>"
      ]
     },
     "metadata": {},
     "output_type": "display_data"
    }
   ],
   "source": [
    "plt.hist(model_sizes)\n",
    "\n",
    "plt.xlabel(\"Model complexity\")\n",
    "\n",
    "plt.show()"
   ]
  },
  {
   "cell_type": "code",
   "execution_count": 121,
   "id": "994d5b86-9346-4741-969e-1df163bd30f6",
   "metadata": {},
   "outputs": [],
   "source": [
    "res_dict = {\n",
    "    \"outcome\": outcome_col,\n",
    "    \"reg\": reg,\n",
    "    \"q\": q,\n",
    "    \"q0\": q0,\n",
    "    \"eps\": eps,\n",
    "    \"H\": H,\n",
    "    \"R_set\": R_set,\n",
    "    \"R_profiles\": R_profiles\n",
    "}"
   ]
  },
  {
   "cell_type": "code",
   "execution_count": 122,
   "id": "5bbbfd6f-f8d8-44cb-a098-c3e22a608a3d",
   "metadata": {},
   "outputs": [
    {
     "name": "stdout",
     "output_type": "stream",
     "text": [
      "Done pickling!\n"
     ]
    }
   ],
   "source": [
    "pkl_fname = \"../Results/microfinance/\" + outcome_col + \".pkl\"\n",
    "\n",
    "with open(pkl_fname, \"wb\") as f:\n",
    "    pickle.dump(res_dict, f, pickle.HIGHEST_PROTOCOL)\n",
    "\n",
    "print(\"Done pickling!\")"
   ]
  },
  {
   "cell_type": "code",
   "execution_count": null,
   "id": "f7ad1d23-af98-4c7b-8094-7fe860af0507",
   "metadata": {},
   "outputs": [],
   "source": []
  },
  {
   "cell_type": "code",
   "execution_count": null,
   "id": "5099d684-11d7-4ef1-b77f-2afcc4038fd3",
   "metadata": {},
   "outputs": [],
   "source": []
  },
  {
   "cell_type": "code",
   "execution_count": null,
   "id": "fc47d82e-f9af-456e-abe0-77f2d12b6136",
   "metadata": {},
   "outputs": [],
   "source": []
  },
  {
   "cell_type": "markdown",
   "id": "6eb76a1f-ec38-4f86-8b06-1d249bd1afd6",
   "metadata": {},
   "source": [
    "## Plots"
   ]
  },
  {
   "cell_type": "code",
   "execution_count": null,
   "id": "d2f93216-8e75-41e5-8e01-8830929fec03",
   "metadata": {},
   "outputs": [],
   "source": []
  },
  {
   "cell_type": "code",
   "execution_count": 265,
   "id": "4377cbc3-f75a-4a58-a170-65cfada6f5ed",
   "metadata": {},
   "outputs": [],
   "source": [
    "results_dir = \"../Results/microfinance/\"\n",
    "# outcome_str = \"durables_exp_mo_2\"\n",
    "outcome_str = outcome_col\n",
    "\n",
    "outcome_fname = results_dir + outcome_str + \".pkl\""
   ]
  },
  {
   "cell_type": "code",
   "execution_count": 266,
   "id": "af3faf64-9f37-435f-ba43-3414ab7e6c3a",
   "metadata": {},
   "outputs": [
    {
     "name": "stdout",
     "output_type": "stream",
     "text": [
      "1e-06 1e-05 4.9999999999999996e-06 1.0000000000000004\n"
     ]
    }
   ],
   "source": [
    "with open(outcome_fname, \"rb\") as f:\n",
    "    res_dict = pickle.load(f)\n",
    "\n",
    "reg = res_dict[\"reg\"]\n",
    "q = res_dict[\"q\"]\n",
    "q0 = res_dict[\"q0\"]\n",
    "eps = res_dict[\"eps\"]\n",
    "H = res_dict[\"H\"]\n",
    "R_set = res_dict[\"R_set\"]\n",
    "R_profiles = res_dict[\"R_profiles\"]\n",
    "\n",
    "print(reg, q, q0, eps)"
   ]
  },
  {
   "cell_type": "code",
   "execution_count": 538,
   "id": "b80c1af9-dfd4-4589-9f4b-4267c6635f0c",
   "metadata": {},
   "outputs": [
    {
     "name": "stdout",
     "output_type": "stream",
     "text": [
      "51 (1, 1, 0, 0, 1, 1)\n",
      "Flat!\n",
      "53 (1, 1, 0, 1, 0, 1)\n",
      "Flat!\n",
      "55 (1, 1, 0, 1, 1, 1)\n",
      "Flat!\n",
      "63 (1, 1, 1, 1, 1, 1)\n",
      "Flat!\n"
     ]
    }
   ],
   "source": [
    "# Find active profiles\n",
    "\n",
    "for k, R_profile in enumerate(R_profiles):\n",
    "    if len(R_profile) == 1:\n",
    "        if R_profile.sigma[0] is None:\n",
    "            continue\n",
    "\n",
    "    if profiles[k][-1] == 0:\n",
    "        continue\n",
    "    print(k, profiles[k]) #, R_profile.sigma[0].shape)\n",
    "    for sigma in R_profile.sigma:\n",
    "        sigma_temp = sigma.copy()\n",
    "        sigma_temp[np.isinf(sigma_temp)] = 1\n",
    "        if np.all(np.equal(sigma_temp, 1)):\n",
    "            print(\"Flat!\")"
   ]
  },
  {
   "cell_type": "code",
   "execution_count": 139,
   "id": "ccd5db23-53d2-4c74-abbc-cd777cb489cf",
   "metadata": {},
   "outputs": [
    {
     "name": "stdout",
     "output_type": "stream",
     "text": [
      "(0, 0, 0, 0, 0)\n",
      "0.00021978878346347623\n",
      "(0, 0, 0, 0, 1)\n",
      "0.00015807359569708715\n",
      "(0, 0, 0, 1, 0)\n",
      "0.0002497919305993766\n",
      "(0, 0, 0, 1, 1)\n",
      "0.0001579287823641915\n",
      "(0, 0, 1, 0, 0)\n",
      "0.00012046365450127874\n",
      "(0, 0, 1, 0, 1)\n",
      "0.0001328173604267204\n",
      "(0, 0, 1, 1, 0)\n",
      "0.00012362898116622225\n",
      "(0, 0, 1, 1, 1)\n",
      "0.0005322515982531196\n",
      "(0, 1, 0, 0, 0)\n",
      "0.00021649312957615612\n",
      "(0, 1, 0, 0, 1)\n",
      "0.000128009335605539\n",
      "(0, 1, 0, 1, 0)\n",
      "0.00021714606351304648\n",
      "(0, 1, 0, 1, 1)\n",
      "0.00014790215680883444\n",
      "(0, 1, 1, 0, 0)\n",
      "0.0001044930421877496\n",
      "(0, 1, 1, 0, 1)\n",
      "0.00010858978229377556\n",
      "(0, 1, 1, 1, 0)\n",
      "0.00012415324072259122\n",
      "(0, 1, 1, 1, 1)\n",
      "0.00041120714932659706\n",
      "(1, 0, 0, 0, 0)\n",
      "0.00012154293061932103\n",
      "(1, 0, 0, 0, 1)\n",
      "0.00011805721017055149\n",
      "(1, 0, 0, 1, 0)\n",
      "0.00017560595125691418\n",
      "(1, 0, 0, 1, 1)\n",
      "0.0005436777136965521\n",
      "(1, 0, 1, 0, 0)\n",
      "0.00011414576683146955\n",
      "(1, 0, 1, 0, 1)\n",
      "0.0002995264687773565\n",
      "(1, 0, 1, 1, 0)\n",
      "0.00014282996934316498\n",
      "(1, 0, 1, 1, 1)\n",
      "0.0004712103905533937\n",
      "(1, 1, 0, 0, 0)\n",
      "0.0001122710275933417\n",
      "(1, 1, 0, 0, 1)\n",
      "0.0001452211274850124\n",
      "(1, 1, 0, 1, 0)\n",
      "0.00022092467429243103\n",
      "(1, 1, 0, 1, 1)\n",
      "0.000387467991987938\n",
      "(1, 1, 1, 0, 0)\n",
      "0.0001372153182785465\n",
      "(1, 1, 1, 0, 1)\n",
      "0.00014808942629851264\n",
      "(1, 1, 1, 1, 0)\n",
      "0.00011730856483415106\n",
      "(1, 1, 1, 1, 1)\n",
      "0.00026982947077998045\n"
     ]
    },
    {
     "name": "stderr",
     "output_type": "stream",
     "text": [
      "/var/folders/ds/v36htzx10pv39ydvb7plxs1r0000gn/T/ipykernel_43517/1566638410.py:4: DeprecationWarning: Calling nonzero on 0d arrays is deprecated, as it behaves surprisingly. Use `atleast_1d(cond).nonzero()` if the old behavior was intended. If the context of this warning is of the form `arr[nonzero(cond)]`, just use `arr[cond]`.\n",
      "  n_zero = len(np.where(sigma_k_j == 0)[0])\n"
     ]
    }
   ],
   "source": [
    "for idx, k in enumerate(R_profiles):\n",
    "    print(profiles[idx])\n",
    "    for j, sigma_k_j in enumerate(k.sigma):\n",
    "        n_zero = len(np.where(sigma_k_j == 0)[0])\n",
    "        if n_zero == 0:\n",
    "            print(k.loss[j])\n",
    "    # print(profiles[idx], k.loss)"
   ]
  },
  {
   "cell_type": "code",
   "execution_count": 101,
   "id": "a6ec2447-eb22-42c7-a99a-4a311d4c94b2",
   "metadata": {},
   "outputs": [],
   "source": [
    "M = 6\n",
    "R = np.array([3, 3, 3, 4, 4, 4])\n",
    "\n",
    "num_profiles = 2**M\n",
    "profiles, profile_map = tva.enumerate_profiles(M)\n",
    "\n",
    "features = [\"Treatment\", \"Head Edu\", \"Head Gender\", \"Past Biz\", \"Debt\", \"Reg Biz\"]\n",
    "\n",
    "outcome_fnames = list(cols[7:16]) + [cols[17]]\n",
    "outcome_names = [\"Any Loan\", \"Informal Loan\", \"Female Biz\", \"Working Hours\", \"Durables\", \"Temptation\",\n",
    "                \"Expenditure\", \"Profit\", \"Revenue\", \"Girls in School\"]\n",
    "\n",
    "results_dir = \"../Results/microfinance/\"\n",
    "\n",
    "num_outcomes = len(outcome_fnames)"
   ]
  },
  {
   "cell_type": "code",
   "execution_count": 523,
   "id": "0b35d3c1-c3d9-427c-b926-1e1db466f489",
   "metadata": {},
   "outputs": [
    {
     "name": "stdout",
     "output_type": "stream",
     "text": [
      "eps to use: 0.4285714285714289\n"
     ]
    }
   ],
   "source": [
    "eps_common = np.inf\n",
    "\n",
    "for i, outcome_str in enumerate(outcome_fnames):\n",
    "    outcome_fname = results_dir + outcome_str + \".pkl\"\n",
    "    with open(outcome_fname, \"rb\") as f:\n",
    "        res_dict = pickle.load(f)\n",
    "    \n",
    "    reg = res_dict[\"reg\"]\n",
    "    q = res_dict[\"q\"]\n",
    "    q0 = res_dict[\"q0\"]\n",
    "    eps = res_dict[\"eps\"]\n",
    "    H = res_dict[\"H\"]\n",
    "    R_set = res_dict[\"R_set\"]\n",
    "    R_profiles = res_dict[\"R_profiles\"]\n",
    "\n",
    "    eps_common = min(eps_common, eps)\n",
    "\n",
    "print(f\"eps to use: {eps_common}\")"
   ]
  },
  {
   "cell_type": "code",
   "execution_count": 102,
   "id": "ad74d399-052a-4443-ad64-4414d7b2a065",
   "metadata": {},
   "outputs": [
    {
     "name": "stdout",
     "output_type": "stream",
     "text": [
      "Any Loan 13333\n"
     ]
    }
   ],
   "source": [
    "feature_splits = np.zeros(shape=(num_outcomes, len(features)), dtype=np.float64)\n",
    "profile_splits = np.zeros(shape=(num_outcomes, num_profiles))\n",
    "\n",
    "for i, outcome_str in enumerate(outcome_fnames):\n",
    "\n",
    "    if i > 0:\n",
    "        break\n",
    "    \n",
    "    # outcome_fname = results_dir + outcome_str + \".pkl\"\n",
    "    # with open(outcome_fname, \"rb\") as f:\n",
    "    #     res_dict = pickle.load(f)\n",
    "    \n",
    "    # reg = res_dict[\"reg\"]\n",
    "    # q = res_dict[\"q\"]\n",
    "    # q0 = res_dict[\"q0\"]\n",
    "    # eps = res_dict[\"eps\"]\n",
    "    # H = res_dict[\"H\"]\n",
    "    # R_set = res_dict[\"R_set\"]\n",
    "    # R_profiles = res_dict[\"R_profiles\"]\n",
    "\n",
    "    R_set_size = 0\n",
    "    \n",
    "    for r, model_r in enumerate(R_set):\n",
    "    \n",
    "        feature_splits_r = np.zeros(shape=(len(features),))\n",
    "        feature_present_r = np.zeros(shape=(len(features),), dtype=np.float64)\n",
    "        profile_splits_r = np.zeros(shape=(num_profiles,))\n",
    "        loss_r = 0\n",
    "\n",
    "        is_control = False\n",
    "        \n",
    "        for k, sigma_k_idx in enumerate(model_r):\n",
    "\n",
    "            # If this is the control, skip it\n",
    "            if profiles[k][-1] == 0:\n",
    "                is_control = True\n",
    "                continue\n",
    "            \n",
    "            sigma_k = R_profiles[k].sigma[sigma_k_idx]\n",
    "            loss_r += R_profiles[k].loss[sigma_k_idx]\n",
    "            \n",
    "            if sigma_k is None:\n",
    "                continue\n",
    "                \n",
    "            # features_k = [features[j] for j, val in enumerate(profiles[k]) if val == 1]\n",
    "            \n",
    "            sigma_temp = sigma_k.copy()\n",
    "            sigma_temp[np.isinf(sigma_temp)] = 0\n",
    "            profile_splits_r[k] += np.sum(sigma_temp)\n",
    "    \n",
    "            row_id = 0\n",
    "            for j, present in enumerate(profiles[k]):\n",
    "                if present == 1:\n",
    "                    feature_splits_r[j] += np.sum(sigma_temp[row_id, :])\n",
    "                    feature_present_r[j] += 1\n",
    "                    row_id += 1\n",
    "        \n",
    "        # meets_criteria = (loss_r <= q0 * (1 + eps_common))\n",
    "        meets_criteria = True\n",
    "        \n",
    "        if meets_criteria:  # and not is_control:\n",
    "            R_set_size += 1\n",
    "    \n",
    "            feature_splits[i, :] += np.divide(feature_splits_r, feature_present_r)\n",
    "            profile_splits[i, :] += profile_splits_r\n",
    "            # profile_splits += profile_splits_r\n",
    "\n",
    "    print(outcome_names[i], R_set_size)\n",
    "    profile_splits[i, :] = profile_splits[i, :] / R_set_size\n",
    "    feature_splits[i, :] = feature_splits[i, :] / R_set_size"
   ]
  },
  {
   "cell_type": "code",
   "execution_count": 118,
   "id": "9e9457f9-b50f-4d0d-8f2c-9003b243f62e",
   "metadata": {},
   "outputs": [
    {
     "data": {
      "image/png": "[encoded data removed]",
      "text/plain": [
       "<Figure size 640x480 with 2 Axes>"
      ]
     },
     "metadata": {},
     "output_type": "display_data"
    }
   ],
   "source": [
    "\n",
    "sns.heatmap(\n",
    "    # [feature_splits[0, :]],\n",
    "    feature_splits[0, :] / np.array([[1, 1, 1, 2, 2, 2]]),\n",
    "    cmap=\"OrRd\",\n",
    "    # norm=colors.LogNorm(),\n",
    "    linewidths=0.5,\n",
    "    linecolor=\"black\",\n",
    "    annot=False,\n",
    "    square=True\n",
    ")\n",
    "\n",
    "\n",
    "plt.xlabel(\"Features\")\n",
    "plt.ylabel(\"Outcome\")\n",
    "\n",
    "# plt.yticks(np.arange(0, len(outcome_fnames)) + 0.5, outcome_names, rotation=0)\n",
    "\n",
    "plt.xticks(np.arange(0, len(features))+0.5, features, rotation=90)\n",
    "\n",
    "# plt.title(\"Feature heterogeneity\")\n",
    "\n",
    "plt.show()"
   ]
  },
  {
   "cell_type": "code",
   "execution_count": 71,
   "id": "c08541ca-48df-4793-a700-bfb8c00f07fa",
   "metadata": {},
   "outputs": [],
   "source": [
    "# active_profiles_idx = [51, 53, 55, 63] ##, 31]\n",
    "active_profiles_idx = [16, 17, 29, 31]\n",
    "# profile_labels = [\"Male Head, Female Biz\", \"Durable Index\", \"Total expense\", \"Expense + Durable\", \"All\"]\n",
    "profile_labels = [\"Durable Index\", \"Total expense\", \"Expense + Durable\", \"All\"]"
   ]
  },
  {
   "cell_type": "code",
   "execution_count": 119,
   "id": "2de76c49-85e1-4b33-a587-326c79cb6485",
   "metadata": {},
   "outputs": [
    {
     "data": {
      "text/plain": [
       "array([0.        , 0.58481775, 0.        , 0.65850146, 0.        ,\n",
       "       0.65850146, 0.        , 0.70904898])"
      ]
     },
     "execution_count": 119,
     "metadata": {},
     "output_type": "execute_result"
    }
   ],
   "source": [
    "num_possible_splits = []\n",
    "for profile in profiles:\n",
    "    m = np.sum(profile)\n",
    "    num_possible_splits.append(2*m)\n",
    "\n",
    "profile_splits[0, 56:] / num_possible_splits[56:]"
   ]
  },
  {
   "cell_type": "code",
   "execution_count": 120,
   "id": "243ade57-a352-433f-aa3d-a7a791d281a3",
   "metadata": {},
   "outputs": [
    {
     "data": {
      "image/png": "[encoded data removed]",
      "text/plain": [
       "<Figure size 640x480 with 2 Axes>"
      ]
     },
     "metadata": {},
     "output_type": "display_data"
    }
   ],
   "source": [
    "\n",
    "\n",
    "sns.heatmap(\n",
    "    # profile_splits[:, active_profiles_idx],\n",
    "    # profile_splits[0, active_profiles_idx] / np.array([[1, 4, 6, 8]]),\n",
    "    # [profile_splits[0, 56:]],\n",
    "    profile_splits[0, 56:] / np.array([num_possible_splits[56:]]),\n",
    "    cmap=\"OrRd\",\n",
    "    # norm=colors.LogNorm(),\n",
    "    linewidths=0.5,\n",
    "    linecolor=\"black\",\n",
    "    annot=False,\n",
    "    square=True\n",
    ")\n",
    "\n",
    "\n",
    "plt.xlabel(\"Profiles\\n( Trt , HH_edu , HH_gen , HH_biz , Reg_debt, Reg_biz )\")\n",
    "plt.ylabel(\"Outcome\")\n",
    "\n",
    "# plt.xticks(np.arange(0, len(active_profiles_idx)) + 0.5, profile_labels, rotation=90)\n",
    "plt.xticks(np.arange(0, 8)+0.5, profiles[56:], rotation=90)\n",
    "# plt.yticks([0.5], [\"Any loan\"])\n",
    "\n",
    "# plt.yticks(np.arange(0, len(outcome_fnames)) + 0.5, outcome_names, rotation=0)\n",
    "\n",
    "# plt.title(\"Heterogeneity\")\n",
    "\n",
    "\n",
    "plt.show()"
   ]
  },
  {
   "cell_type": "code",
   "execution_count": null,
   "id": "7dbf28e2-a81c-4ec2-9f84-0d9f9c28836f",
   "metadata": {},
   "outputs": [],
   "source": []
  },
  {
   "cell_type": "code",
   "execution_count": null,
   "id": "5e37e01e-a70c-426b-82ce-7bae4907fd66",
   "metadata": {},
   "outputs": [],
   "source": []
  },
  {
   "cell_type": "code",
   "execution_count": null,
   "id": "175a6d48-f1eb-4a00-9d3d-509afb9d7be4",
   "metadata": {},
   "outputs": [],
   "source": []
  }
 ],
 "metadata": {
  "kernelspec": {
   "display_name": "Python (rashomon-tva)",
   "language": "python",
   "name": "rashomon-tva"
  },
  "language_info": {
   "codemirror_mode": {
    "name": "ipython",
    "version": 3
   },
   "file_extension": ".py",
   "mimetype": "text/x-python",
   "name": "python",
   "nbconvert_exporter": "python",
   "pygments_lexer": "ipython3",
   "version": "3.11.3"
  }
 },
 "nbformat": 4,
 "nbformat_minor": 5
}
