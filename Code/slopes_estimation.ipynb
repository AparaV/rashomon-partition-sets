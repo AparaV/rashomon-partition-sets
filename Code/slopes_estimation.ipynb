{
 "cells": [
  {
   "cell_type": "markdown",
   "id": "71a7288d-f600-4919-82a3-8c8e7b77ee7c",
   "metadata": {},
   "source": [
    "# Slopes estimation"
   ]
  },
  {
   "cell_type": "code",
   "execution_count": 1,
   "id": "56bdf2f4-dff7-4782-a98a-46a07ac90fce",
   "metadata": {},
   "outputs": [],
   "source": [
    "import numpy as np\n",
    "import matplotlib.pyplot as plt\n",
    "\n",
    "%matplotlib inline"
   ]
  },
  {
   "cell_type": "code",
   "execution_count": 77,
   "id": "4a8c4415-0bce-4624-9ffa-fd0f21af9fed",
   "metadata": {},
   "outputs": [
    {
     "name": "stdout",
     "output_type": "stream",
     "text": [
      "The autoreload extension is already loaded. To reload it, use:\n",
      "  %reload_ext autoreload\n"
     ]
    }
   ],
   "source": [
    "from collections import deque\n",
    "\n",
    "from rashomon.tva import enumerate_policies, policy_to_profile, enumerate_profiles\n",
    "from rashomon import loss\n",
    "from rashomon import counter\n",
    "# from rashomon import metrics\n",
    "from rashomon.extract_pools import extract_pools\n",
    "from rashomon.sets import RashomonSet, RashomonProblemCache, RashomonSubproblemCache\n",
    "# from rashomon.aggregate import (RAggregate_profile, RAggregate,\n",
    "#     find_profile_lower_bound, find_feasible_combinations, remove_unused_poolings, subset_data)\n",
    "\n",
    "%load_ext autoreload\n",
    "%autoreload 2"
   ]
  },
  {
   "cell_type": "code",
   "execution_count": null,
   "id": "b008484e-77c6-4dfd-ba3f-9601f647be0e",
   "metadata": {},
   "outputs": [],
   "source": []
  },
  {
   "cell_type": "code",
   "execution_count": null,
   "id": "23e28a90-cfed-4a06-bda0-0130fce36daf",
   "metadata": {},
   "outputs": [],
   "source": []
  },
  {
   "cell_type": "markdown",
   "id": "97789ac8-63b7-402a-94b9-74d08fad32cd",
   "metadata": {},
   "source": [
    "# Sample data"
   ]
  },
  {
   "cell_type": "code",
   "execution_count": 14,
   "id": "8de447c7-3814-41e8-a724-f79e6ea1c455",
   "metadata": {},
   "outputs": [],
   "source": [
    "M = 2\n",
    "R = np.array([6, 6])\n",
    "\n",
    "num_profiles = 2**M\n",
    "profiles, profile_map = enumerate_profiles(M)\n",
    "all_policies = enumerate_policies(M, R)\n",
    "num_all_policies = len(all_policies)\n",
    "\n",
    "profile_on = (1, 1)\n",
    "\n",
    "policies_on = [pol for pol in all_policies if policy_to_profile(pol) == profile_on]\n",
    "num_policies_on = len(policies_on)\n",
    "\n",
    "n_per_pol = 10\n",
    "\n",
    "num_data = num_all_policies * n_per_pol\n",
    "X = np.zeros(shape=(num_data, M))\n",
    "D = np.zeros(shape=(num_data, 1), dtype='int_')\n",
    "y = np.zeros(shape=(num_data, 1))\n",
    "\n",
    "beta_1_1 = 4\n",
    "beta_1_2 = 0\n",
    "\n",
    "beta_2_1 = -3\n",
    "beta_2_2 = 5\n",
    "\n",
    "idx_ctr = 0\n",
    "for idx, policy in enumerate(all_policies):\n",
    "\n",
    "    if policy_to_profile(policy) == (0, 0) or policy_to_profile(policy) == (1, 1):\n",
    "        y_i = 0\n",
    "\n",
    "    elif policy_to_profile(policy) == (1, 0):\n",
    "        if policy[0] <= 3:\n",
    "            y_i = beta_1_1 * policy[0]\n",
    "        else:\n",
    "            y_i = beta_1_2 * policy[0]\n",
    "    elif policy_to_profile(policy) == (0, 1):\n",
    "        if policy[1] <= 3:\n",
    "            y_i = beta_2_1 * policy[1]\n",
    "        else:\n",
    "            y_i = beta_2_2 * policy[1]\n",
    "\n",
    "    policy_idx = [i for i, x in enumerate(all_policies) if x == policy]\n",
    "    \n",
    "    # pool_id = pi_policies[k][idx]\n",
    "    # mu_i = mu[k][pool_id]\n",
    "    # var_i = var[k][pool_id]\n",
    "    y_i = y_i + np.random.normal(0, 1, size=(n_per_pol, 1))\n",
    "\n",
    "    start_idx = idx_ctr * n_per_pol\n",
    "    end_idx = (idx_ctr + 1) * n_per_pol\n",
    "\n",
    "    X[start_idx:end_idx, ] = policy\n",
    "    D[start_idx:end_idx, ] = policy_idx[0]\n",
    "    y[start_idx:end_idx, ] = y_i\n",
    "\n",
    "    idx_ctr += 1"
   ]
  },
  {
   "cell_type": "code",
   "execution_count": 15,
   "id": "f8f4bfed-bc4a-41a4-852b-b3f4f7ba921f",
   "metadata": {},
   "outputs": [
    {
     "data": {
      "text/plain": [
       "(360, 2)"
      ]
     },
     "execution_count": 15,
     "metadata": {},
     "output_type": "execute_result"
    }
   ],
   "source": [
    "X.shape"
   ]
  },
  {
   "cell_type": "code",
   "execution_count": 39,
   "id": "8ea3a97b-af6c-4243-afc0-0caf65a25862",
   "metadata": {},
   "outputs": [
    {
     "name": "stdout",
     "output_type": "stream",
     "text": [
      "(50, 2)\n"
     ]
    }
   ],
   "source": [
    "policies_subset = [p for p in all_policies if policy_to_profile(p) == (1, 0)]\n",
    "\n",
    "subset_idx = [i for i, p in enumerate(D[:, 0]) if policy_to_profile(all_policies[p]) == (1, 0)]\n",
    "X_subset = X[subset_idx, :]\n",
    "y_subset = y[subset_idx, :]\n",
    "D_subset = D[subset_idx, :]\n",
    "\n",
    "policies_temp = [(i, x) for i, x in enumerate(all_policies) if policy_to_profile(x) == (1, 0)]\n",
    "unzipped_temp = list(zip(*policies_temp))\n",
    "policy_subset_idx = list(unzipped_temp[0])\n",
    "\n",
    "# for i, policy_i in enumerate(policies_subset):\n",
    "#     policy_i = tuple([int(x) for x in X_subset[i, :]])\n",
    "#     policy_idx = [idx for idx in range(num_all_policies) if all_policies[idx] == policy_i]\n",
    "#     D_subset[i, 0] = int(policy_idx[0])\n",
    "\n",
    "range_list = list(np.arange(len(policy_subset_idx)))\n",
    "policy_map = {i: x for i, x in zip(policy_subset_idx, range_list)}\n",
    "D_subset = np.vectorize(policy_map.get)(D_subset)\n",
    "\n",
    "print(X_subset.shape)"
   ]
  },
  {
   "cell_type": "code",
   "execution_count": 38,
   "id": "5a87c794-1a61-4681-a4de-31bcd5a1c69f",
   "metadata": {},
   "outputs": [
    {
     "data": {
      "text/plain": [
       "{(1, 0): 0, (2, 0): 1, (3, 0): 2, (4, 0): 3, (5, 0): 4}"
      ]
     },
     "execution_count": 38,
     "metadata": {},
     "output_type": "execute_result"
    }
   ],
   "source": [
    "policy_map"
   ]
  },
  {
   "cell_type": "code",
   "execution_count": 72,
   "id": "f04ab5a4-08d3-4ed1-822c-a74e7a563f82",
   "metadata": {},
   "outputs": [],
   "source": [
    "sigma_true = np.array([[1, 1, 0, 1]], dtype=np.float64)"
   ]
  },
  {
   "cell_type": "markdown",
   "id": "bbd930a4-0ba4-483f-957d-6abd73bc82f0",
   "metadata": {},
   "source": [
    "## For a profile"
   ]
  },
  {
   "cell_type": "code",
   "execution_count": 83,
   "id": "7e637397-b42d-4a43-9a45-e91e6afd3d83",
   "metadata": {},
   "outputs": [],
   "source": [
    "from sklearn.linear_model import LinearRegression\n",
    "from sklearn.metrics import mean_squared_error"
   ]
  },
  {
   "cell_type": "code",
   "execution_count": 74,
   "id": "bb6d82ff-e7e3-4162-927a-ad97afaacc2a",
   "metadata": {},
   "outputs": [],
   "source": [
    "def initialize_sigma(M, R):\n",
    "    if isinstance(R, int):\n",
    "        sigma = np.ndarray(shape=(M, R - 2))\n",
    "        sigma[:, :] = 1\n",
    "    else:\n",
    "        sigma = np.ndarray(shape=(M, np.max(R) - 2))\n",
    "        sigma[:, :] = np.inf\n",
    "        for idx, R_idx in enumerate(R):\n",
    "            sigma[idx, :(R_idx-2)] = 1\n",
    "    return sigma\n",
    "\n",
    "def partition_sigma(sigma, i, j):\n",
    "    \"\"\"\n",
    "    Maximally split policies in arm i starting at dosage j\n",
    "    All other existing splits are maintained\n",
    "    \"\"\"\n",
    "    sigma_fix = np.copy(sigma)\n",
    "    sigma_fix[i, j:] = 0\n",
    "    sigma_fix[np.isinf(sigma)] = np.inf\n",
    "    return sigma_fix"
   ]
  },
  {
   "cell_type": "code",
   "execution_count": 26,
   "id": "04f5550a-844c-4b5b-9e84-437474a391e7",
   "metadata": {},
   "outputs": [
    {
     "data": {
      "text/plain": [
       "{0: [0, 1, 2], 1: [3, 4]}"
      ]
     },
     "execution_count": 26,
     "metadata": {},
     "output_type": "execute_result"
    }
   ],
   "source": [
    "pi_fixed_pools"
   ]
  },
  {
   "cell_type": "code",
   "execution_count": null,
   "id": "beeedb2d-78f6-4946-bda5-1adf89897bc6",
   "metadata": {},
   "outputs": [],
   "source": [
    "from rashomon.aggregate import RAggregate_profile_slopes"
   ]
  },
  {
   "cell_type": "code",
   "execution_count": 159,
   "id": "7e1ebef1-9102-4144-bfd2-711e26bcaf45",
   "metadata": {},
   "outputs": [
    {
     "name": "stdout",
     "output_type": "stream",
     "text": [
      "3.1204448338871886 3.1293815039614428\n"
     ]
    }
   ],
   "source": [
    "sigma_1 = np.array([[1, 1, 0, 1]], dtype=np.float64)\n",
    "\n",
    "B = compute_B_slopes(D_subset, X_subset, y_subset, sigma_true, 0, 0, policies_subset, reg=1)\n",
    "Q = compute_Q_slopes(D_subset, X_subset, y_subset, sigma_1, policies_subset, reg=1)\n",
    "\n",
    "print(B, Q)"
   ]
  },
  {
   "cell_type": "code",
   "execution_count": null,
   "id": "d62f8c67-687f-4b7b-9897-21c02132dd56",
   "metadata": {},
   "outputs": [],
   "source": []
  },
  {
   "cell_type": "code",
   "execution_count": null,
   "id": "fb795a96-8682-4554-b59f-ee07f63ed03c",
   "metadata": {},
   "outputs": [],
   "source": []
  },
  {
   "cell_type": "code",
   "execution_count": 170,
   "id": "df082a3b-e907-406f-9c72-1b59fa7f6d5d",
   "metadata": {},
   "outputs": [],
   "source": []
  },
  {
   "cell_type": "code",
   "execution_count": 183,
   "id": "f3f1afaf-9770-4641-bbce-6037c7c573af",
   "metadata": {},
   "outputs": [],
   "source": [
    "R_set = RAggregate_profile_slopes(1, 6, 4, D_subset, X_subset, y_subset, 4,\n",
    "                                  profile=(1, 0), reg=1, policies=policies_subset, normalize=0)"
   ]
  },
  {
   "cell_type": "code",
   "execution_count": 184,
   "id": "2af85b82-3af0-47e1-9d8d-c41eef12ab72",
   "metadata": {},
   "outputs": [
    {
     "data": {
      "text/plain": [
       "[array([[1., 1., 0., 1.]])]"
      ]
     },
     "execution_count": 184,
     "metadata": {},
     "output_type": "execute_result"
    }
   ],
   "source": [
    "R_set"
   ]
  },
  {
   "cell_type": "code",
   "execution_count": null,
   "id": "1c476665-bc66-4baf-9eb8-7b68f4a68cfd",
   "metadata": {},
   "outputs": [],
   "source": []
  }
 ],
 "metadata": {
  "kernelspec": {
   "display_name": "Python (rashomon-tva)",
   "language": "python",
   "name": "rashomon-tva"
  },
  "language_info": {
   "codemirror_mode": {
    "name": "ipython",
    "version": 3
   },
   "file_extension": ".py",
   "mimetype": "text/x-python",
   "name": "python",
   "nbconvert_exporter": "python",
   "pygments_lexer": "ipython3",
   "version": "3.11.3"
  }
 },
 "nbformat": 4,
 "nbformat_minor": 5
}
