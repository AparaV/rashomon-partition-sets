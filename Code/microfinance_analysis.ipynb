{
 "cells": [
  {
   "cell_type": "markdown",
   "id": "fc78683c-080a-4789-9f7e-517362b206e2",
   "metadata": {},
   "source": [
    "# Microfinance analysis"
   ]
  },
  {
   "cell_type": "code",
   "execution_count": 1,
   "id": "1338c75f-0d85-4888-9920-8bbabbd35cfa",
   "metadata": {},
   "outputs": [],
   "source": [
    "import numpy as np\n",
    "import pandas as pd\n",
    "import matplotlib.pyplot as plt\n",
    "\n",
    "import seaborn as sns\n",
    "\n",
    "from matplotlib import colors\n",
    "from copy import deepcopy\n",
    "\n",
    "\n",
    "%matplotlib inline"
   ]
  },
  {
   "cell_type": "code",
   "execution_count": 3,
   "id": "f4e82caa-cd5f-4dff-91d5-8987b6abe65e",
   "metadata": {},
   "outputs": [
    {
     "name": "stdout",
     "output_type": "stream",
     "text": [
      "The autoreload extension is already loaded. To reload it, use:\n",
      "  %reload_ext autoreload\n"
     ]
    }
   ],
   "source": [
    "import pickle\n",
    "\n",
    "from rashomon import tva\n",
    "from rashomon import loss\n",
    "from rashomon import counter\n",
    "from rashomon import metrics\n",
    "from rashomon import extract_pools\n",
    "from rashomon.aggregate import RAggregate_profile, RAggregate, find_profile_lower_bound, find_feasible_combinations, remove_unused_poolings\n",
    "from rashomon.sets import RashomonSet, RashomonProblemCache, RashomonSubproblemCache\n",
    "\n",
    "%load_ext autoreload\n",
    "%autoreload 2"
   ]
  },
  {
   "cell_type": "code",
   "execution_count": null,
   "id": "37746635-9891-428b-978c-27f314ce1442",
   "metadata": {},
   "outputs": [],
   "source": []
  },
  {
   "cell_type": "markdown",
   "id": "5a45ca72-c6e5-4700-94c8-60ec244e1c74",
   "metadata": {},
   "source": [
    "# Read data"
   ]
  },
  {
   "cell_type": "code",
   "execution_count": 14,
   "id": "83f262e7-a2c6-46b1-9d97-5bd57514dd82",
   "metadata": {},
   "outputs": [
    {
     "data": {
      "text/html": [
       "<div>\n",
       "<style scoped>\n",
       "    .dataframe tbody tr th:only-of-type {\n",
       "        vertical-align: middle;\n",
       "    }\n",
       "\n",
       "    .dataframe tbody tr th {\n",
       "        vertical-align: top;\n",
       "    }\n",
       "\n",
       "    .dataframe thead th {\n",
       "        text-align: right;\n",
       "    }\n",
       "</style>\n",
       "<table border=\"1\" class=\"dataframe\">\n",
       "  <thead>\n",
       "    <tr style=\"text-align: right;\">\n",
       "      <th></th>\n",
       "      <th>male_head</th>\n",
       "      <th>anyloan_amt</th>\n",
       "      <th>female_biz_pct</th>\n",
       "      <th>bizexpense</th>\n",
       "      <th>total_exp_mo</th>\n",
       "      <th>home_durable_index</th>\n",
       "      <th>anyloan_amt_2</th>\n",
       "      <th>informal_amt_2</th>\n",
       "      <th>female_biz_pct_2</th>\n",
       "      <th>hours_week_2</th>\n",
       "      <th>durables_exp_mo_2</th>\n",
       "      <th>temptation_exp_mo_2</th>\n",
       "      <th>total_exp_mo_2</th>\n",
       "      <th>bizprofit_2</th>\n",
       "      <th>bizrev_2</th>\n",
       "      <th>bizemployees_2</th>\n",
       "      <th>girls_school</th>\n",
       "    </tr>\n",
       "  </thead>\n",
       "  <tbody>\n",
       "    <tr>\n",
       "      <th>0</th>\n",
       "      <td>2.0</td>\n",
       "      <td>2</td>\n",
       "      <td>2.0</td>\n",
       "      <td>2</td>\n",
       "      <td>2</td>\n",
       "      <td>2</td>\n",
       "      <td>5000.0</td>\n",
       "      <td>0.0</td>\n",
       "      <td>0.0</td>\n",
       "      <td>36.0</td>\n",
       "      <td>1291.1173</td>\n",
       "      <td>0.0</td>\n",
       "      <td>11836.075</td>\n",
       "      <td>2049.1282</td>\n",
       "      <td>2498.9368</td>\n",
       "      <td>0.0</td>\n",
       "      <td>NaN</td>\n",
       "    </tr>\n",
       "    <tr>\n",
       "      <th>1</th>\n",
       "      <td>2.0</td>\n",
       "      <td>2</td>\n",
       "      <td>2.0</td>\n",
       "      <td>2</td>\n",
       "      <td>2</td>\n",
       "      <td>2</td>\n",
       "      <td>5000.0</td>\n",
       "      <td>0.0</td>\n",
       "      <td>0.0</td>\n",
       "      <td>36.0</td>\n",
       "      <td>1291.1173</td>\n",
       "      <td>0.0</td>\n",
       "      <td>11836.075</td>\n",
       "      <td>2049.1282</td>\n",
       "      <td>2498.9368</td>\n",
       "      <td>0.0</td>\n",
       "      <td>NaN</td>\n",
       "    </tr>\n",
       "    <tr>\n",
       "      <th>2</th>\n",
       "      <td>2.0</td>\n",
       "      <td>2</td>\n",
       "      <td>2.0</td>\n",
       "      <td>2</td>\n",
       "      <td>2</td>\n",
       "      <td>2</td>\n",
       "      <td>5000.0</td>\n",
       "      <td>0.0</td>\n",
       "      <td>0.0</td>\n",
       "      <td>36.0</td>\n",
       "      <td>1291.1173</td>\n",
       "      <td>0.0</td>\n",
       "      <td>11836.075</td>\n",
       "      <td>2049.1282</td>\n",
       "      <td>2498.9368</td>\n",
       "      <td>0.0</td>\n",
       "      <td>NaN</td>\n",
       "    </tr>\n",
       "    <tr>\n",
       "      <th>3</th>\n",
       "      <td>2.0</td>\n",
       "      <td>2</td>\n",
       "      <td>2.0</td>\n",
       "      <td>2</td>\n",
       "      <td>2</td>\n",
       "      <td>2</td>\n",
       "      <td>5000.0</td>\n",
       "      <td>0.0</td>\n",
       "      <td>0.0</td>\n",
       "      <td>36.0</td>\n",
       "      <td>1291.1173</td>\n",
       "      <td>0.0</td>\n",
       "      <td>11836.075</td>\n",
       "      <td>2049.1282</td>\n",
       "      <td>2498.9368</td>\n",
       "      <td>0.0</td>\n",
       "      <td>NaN</td>\n",
       "    </tr>\n",
       "    <tr>\n",
       "      <th>4</th>\n",
       "      <td>2.0</td>\n",
       "      <td>2</td>\n",
       "      <td>2.0</td>\n",
       "      <td>2</td>\n",
       "      <td>2</td>\n",
       "      <td>2</td>\n",
       "      <td>5000.0</td>\n",
       "      <td>0.0</td>\n",
       "      <td>0.0</td>\n",
       "      <td>36.0</td>\n",
       "      <td>1291.1173</td>\n",
       "      <td>0.0</td>\n",
       "      <td>11836.075</td>\n",
       "      <td>2049.1282</td>\n",
       "      <td>2498.9368</td>\n",
       "      <td>0.0</td>\n",
       "      <td>NaN</td>\n",
       "    </tr>\n",
       "  </tbody>\n",
       "</table>\n",
       "</div>"
      ],
      "text/plain": [
       "   male_head  anyloan_amt  female_biz_pct  bizexpense  total_exp_mo  \\\n",
       "0        2.0            2             2.0           2             2   \n",
       "1        2.0            2             2.0           2             2   \n",
       "2        2.0            2             2.0           2             2   \n",
       "3        2.0            2             2.0           2             2   \n",
       "4        2.0            2             2.0           2             2   \n",
       "\n",
       "   home_durable_index  anyloan_amt_2  informal_amt_2  female_biz_pct_2  \\\n",
       "0                   2         5000.0             0.0               0.0   \n",
       "1                   2         5000.0             0.0               0.0   \n",
       "2                   2         5000.0             0.0               0.0   \n",
       "3                   2         5000.0             0.0               0.0   \n",
       "4                   2         5000.0             0.0               0.0   \n",
       "\n",
       "   hours_week_2  durables_exp_mo_2  temptation_exp_mo_2  total_exp_mo_2  \\\n",
       "0          36.0          1291.1173                  0.0       11836.075   \n",
       "1          36.0          1291.1173                  0.0       11836.075   \n",
       "2          36.0          1291.1173                  0.0       11836.075   \n",
       "3          36.0          1291.1173                  0.0       11836.075   \n",
       "4          36.0          1291.1173                  0.0       11836.075   \n",
       "\n",
       "   bizprofit_2   bizrev_2  bizemployees_2  girls_school  \n",
       "0    2049.1282  2498.9368             0.0           NaN  \n",
       "1    2049.1282  2498.9368             0.0           NaN  \n",
       "2    2049.1282  2498.9368             0.0           NaN  \n",
       "3    2049.1282  2498.9368             0.0           NaN  \n",
       "4    2049.1282  2498.9368             0.0           NaN  "
      ]
     },
     "execution_count": 14,
     "metadata": {},
     "output_type": "execute_result"
    }
   ],
   "source": [
    "df = pd.read_csv(\"../Data/banerjee_miracle.csv\")\n",
    "\n",
    "df.head()"
   ]
  },
  {
   "cell_type": "code",
   "execution_count": 15,
   "id": "d6700905-3f5a-4daa-9ae5-d21208789229",
   "metadata": {},
   "outputs": [],
   "source": [
    "cols = df.columns\n",
    "outcome_cols = cols[6:]"
   ]
  },
  {
   "cell_type": "code",
   "execution_count": 255,
   "id": "25e1affa-d17b-4843-9b21-e95769341a65",
   "metadata": {},
   "outputs": [
    {
     "name": "stdout",
     "output_type": "stream",
     "text": [
      "Outcome is girls_school\n",
      "There are 2800 data points\n"
     ]
    }
   ],
   "source": [
    "outcome_col_id = 16\n",
    "outcome_col = cols[outcome_col_id]\n",
    "\n",
    "print(f\"Outcome is {outcome_col}\")\n",
    "\n",
    "df2 = df.copy()\n",
    "df2[outcome_col] = df[outcome_col].fillna(0)\n",
    "\n",
    "Z = df2.to_numpy()\n",
    "\n",
    "\n",
    "\n",
    "# X = Z[:, [0, 1, 2, 3, 4]]\n",
    "X = Z[:, [0, 2, 3, 4, 5]]\n",
    "y = Z[:, outcome_col_id]\n",
    "y = (y - np.min(y)) / (np.max(y) - np.min(y))\n",
    "y = y.reshape((-1, 1))\n",
    "\n",
    "num_data = X.shape[0]\n",
    "print(f\"There are {num_data} data points\")"
   ]
  },
  {
   "cell_type": "markdown",
   "id": "b578f1da-3ed0-491f-88c8-08d40580ada7",
   "metadata": {},
   "source": [
    "# Analysis"
   ]
  },
  {
   "cell_type": "code",
   "execution_count": 256,
   "id": "337f777c-cceb-4959-b589-21631038f452",
   "metadata": {},
   "outputs": [],
   "source": [
    "M = 5\n",
    "R = np.array([3, 3, 4, 4, 4])\n",
    "\n",
    "num_profiles = 2**M\n",
    "profiles, profile_map = tva.enumerate_profiles(M)\n",
    "\n",
    "all_policies = tva.enumerate_policies(M, R)\n",
    "num_policies = len(all_policies)\n",
    "\n",
    "policies_profiles = {}\n",
    "policies_profiles_masked = {}\n",
    "policies_ids_profiles = {}\n",
    "for k, profile in enumerate(profiles):\n",
    "\n",
    "    policies_temp = [(i, x) for i, x in enumerate(all_policies) if tva.policy_to_profile(x) == profile]\n",
    "    unzipped_temp = list(zip(*policies_temp))\n",
    "    policies_ids_k = list(unzipped_temp[0])\n",
    "    policies_k = list(unzipped_temp[1])\n",
    "    policies_profiles[k] = deepcopy(policies_k)\n",
    "    policies_ids_profiles[k] = policies_ids_k\n",
    "\n",
    "    profile_mask = list(map(bool, profile))\n",
    "\n",
    "    # Mask the empty arms\n",
    "    for idx, pol in enumerate(policies_k):\n",
    "        policies_k[idx] = tuple([pol[i] for i in range(M) if profile_mask[i]])\n",
    "    policies_profiles_masked[k] = policies_k"
   ]
  },
  {
   "cell_type": "code",
   "execution_count": 257,
   "id": "bdc9cf43-471b-4bd4-896f-44002992b7fa",
   "metadata": {},
   "outputs": [],
   "source": [
    "D = np.zeros(shape=y.shape, dtype=np.int64)\n",
    "profiles_in_data = []\n",
    "for i in range(num_data):\n",
    "    policy_i = tuple([int(x) for x in X[i, :]])\n",
    "    policy_idx = [idx for idx in range(num_policies) if all_policies[idx] == policy_i]\n",
    "    profiles_in_data.append(tva.policy_to_profile(policy_i))\n",
    "    D[i, 0] = int(policy_idx[0])\n",
    "\n",
    "policy_means = loss.compute_policy_means(D, y, num_policies)"
   ]
  },
  {
   "cell_type": "code",
   "execution_count": 258,
   "id": "074c4ee0-c7ca-4e4a-8ed9-e1cf2b02cd35",
   "metadata": {},
   "outputs": [
    {
     "name": "stdout",
     "output_type": "stream",
     "text": [
      "1.0\n"
     ]
    },
    {
     "data": {
      "text/plain": [
       "(array([264]),)"
      ]
     },
     "execution_count": 258,
     "metadata": {},
     "output_type": "execute_result"
    }
   ],
   "source": [
    "nodata_idx = np.where(policy_means[:, 1] == 0)[0]\n",
    "policy_means[nodata_idx, 0] = -np.inf\n",
    "policy_means[nodata_idx, 1] = 1\n",
    "mu_policies = policy_means[:, 0] / policy_means[:, 1]\n",
    "\n",
    "true_best_eff = np.max(mu_policies)\n",
    "print(true_best_eff)\n",
    "np.where(mu_policies == true_best_eff)"
   ]
  },
  {
   "cell_type": "code",
   "execution_count": null,
   "id": "002010f0-7a05-48af-9323-25087c1a7a41",
   "metadata": {},
   "outputs": [],
   "source": []
  },
  {
   "cell_type": "code",
   "execution_count": 261,
   "id": "1ab4568b-a5a7-4395-9a25-65691e4b0326",
   "metadata": {},
   "outputs": [
    {
     "name": "stderr",
     "output_type": "stream",
     "text": [
      "/Users/apara/Documents/Research/2022_Bayesian_TVA/Rashomon/Code/rashomon/aggregate/raggregate.py:46: RuntimeWarning: invalid value encountered in divide\n",
      "  mu = np.float64(policy_means_k[:, 0]) / policy_means_k[:, 1]\n",
      "/Users/apara/Documents/Research/2022_Bayesian_TVA/Rashomon/Code/rashomon/aggregate/raggregate.py:46: RuntimeWarning: invalid value encountered in divide\n",
      "  mu = np.float64(policy_means_k[:, 0]) / policy_means_k[:, 1]\n",
      "/Users/apara/Documents/Research/2022_Bayesian_TVA/Rashomon/Code/rashomon/aggregate/raggregate.py:46: RuntimeWarning: invalid value encountered in divide\n",
      "  mu = np.float64(policy_means_k[:, 0]) / policy_means_k[:, 1]\n",
      "/Users/apara/Documents/Research/2022_Bayesian_TVA/Rashomon/Code/rashomon/aggregate/raggregate.py:46: RuntimeWarning: invalid value encountered in divide\n",
      "  mu = np.float64(policy_means_k[:, 0]) / policy_means_k[:, 1]\n",
      "/Users/apara/Documents/Research/2022_Bayesian_TVA/Rashomon/Code/rashomon/aggregate/raggregate.py:46: RuntimeWarning: invalid value encountered in divide\n",
      "  mu = np.float64(policy_means_k[:, 0]) / policy_means_k[:, 1]\n"
     ]
    },
    {
     "name": "stdout",
     "output_type": "stream",
     "text": [
      "(1, 1, 0, 0, 0) 1e-05\n",
      "4\n",
      "(1, 1, 0, 0, 1) 1e-05\n",
      "15\n",
      "(1, 1, 0, 1, 0) 1e-05\n",
      "15\n",
      "(1, 1, 0, 1, 1) 1e-05\n",
      "43\n",
      "(1, 1, 1, 1, 1) 1e-05\n",
      "96\n",
      "Finding feasible combinations\n",
      "14337\n"
     ]
    }
   ],
   "source": [
    "reg = 1e-6\n",
    "q =  1e-5\n",
    "# H = 20\n",
    "H = np.inf\n",
    "R_set, rashomon_profiles = RAggregate(M, R, H, D, y, q, reg=reg)\n",
    "# R_set, rashomon_profiles = RAggregate(M, R, 10, D, y, q, reg=reg)\n",
    "\n",
    "print(len(R_set))"
   ]
  },
  {
   "cell_type": "code",
   "execution_count": 262,
   "id": "4e3fc4ab-3e60-41b9-83c4-c3a092729dc5",
   "metadata": {},
   "outputs": [
    {
     "name": "stdout",
     "output_type": "stream",
     "text": [
      "Best model loss 4.9999999999999996e-06 and epsilon 1.0000000000000004\n"
     ]
    }
   ],
   "source": [
    "model_losses = []\n",
    "\n",
    "for r_set in R_set:\n",
    "    loss_r = 0\n",
    "    for profile, model_prof in enumerate(r_set):\n",
    "        loss_r_prof = rashomon_profiles[profile].loss[model_prof]\n",
    "        loss_r += loss_r_prof\n",
    "    \n",
    "    model_losses.append(loss_r)\n",
    "\n",
    "q0 = np.min(model_losses)\n",
    "eps = (np.max(model_losses) - np.min(model_losses)) / q0\n",
    "\n",
    "print(f\"Best model loss {q0} and epsilon {eps}\")"
   ]
  },
  {
   "cell_type": "code",
   "execution_count": 263,
   "id": "994d5b86-9346-4741-969e-1df163bd30f6",
   "metadata": {},
   "outputs": [],
   "source": [
    "res_dict = {\n",
    "    \"outcome\": outcome_col,\n",
    "    \"reg\": reg,\n",
    "    \"q\": q,\n",
    "    \"q0\": q0,\n",
    "    \"eps\": eps,\n",
    "    \"H\": H,\n",
    "    \"R_set\": R_set,\n",
    "    \"R_profiles\": rashomon_profiles\n",
    "}"
   ]
  },
  {
   "cell_type": "code",
   "execution_count": 264,
   "id": "5bbbfd6f-f8d8-44cb-a098-c3e22a608a3d",
   "metadata": {},
   "outputs": [
    {
     "name": "stdout",
     "output_type": "stream",
     "text": [
      "Done pickling!\n"
     ]
    }
   ],
   "source": [
    "pkl_fname = \"../Results/microfinance/\" + outcome_col + \".pkl\"\n",
    "\n",
    "with open(pkl_fname, \"wb\") as f:\n",
    "    pickle.dump(res_dict, f, pickle.HIGHEST_PROTOCOL)\n",
    "\n",
    "print(\"Done pickling!\")"
   ]
  },
  {
   "cell_type": "code",
   "execution_count": null,
   "id": "f7ad1d23-af98-4c7b-8094-7fe860af0507",
   "metadata": {},
   "outputs": [],
   "source": []
  },
  {
   "cell_type": "code",
   "execution_count": null,
   "id": "5099d684-11d7-4ef1-b77f-2afcc4038fd3",
   "metadata": {},
   "outputs": [],
   "source": []
  },
  {
   "cell_type": "code",
   "execution_count": null,
   "id": "fc47d82e-f9af-456e-abe0-77f2d12b6136",
   "metadata": {},
   "outputs": [],
   "source": []
  },
  {
   "cell_type": "markdown",
   "id": "6eb76a1f-ec38-4f86-8b06-1d249bd1afd6",
   "metadata": {},
   "source": [
    "## Plots"
   ]
  },
  {
   "cell_type": "code",
   "execution_count": null,
   "id": "d2f93216-8e75-41e5-8e01-8830929fec03",
   "metadata": {},
   "outputs": [],
   "source": []
  },
  {
   "cell_type": "code",
   "execution_count": 265,
   "id": "4377cbc3-f75a-4a58-a170-65cfada6f5ed",
   "metadata": {},
   "outputs": [],
   "source": [
    "results_dir = \"../Results/microfinance/\"\n",
    "# outcome_str = \"durables_exp_mo_2\"\n",
    "outcome_str = outcome_col\n",
    "\n",
    "outcome_fname = results_dir + outcome_str + \".pkl\""
   ]
  },
  {
   "cell_type": "code",
   "execution_count": 266,
   "id": "af3faf64-9f37-435f-ba43-3414ab7e6c3a",
   "metadata": {},
   "outputs": [
    {
     "name": "stdout",
     "output_type": "stream",
     "text": [
      "1e-06 1e-05 4.9999999999999996e-06 1.0000000000000004\n"
     ]
    }
   ],
   "source": [
    "with open(outcome_fname, \"rb\") as f:\n",
    "    res_dict = pickle.load(f)\n",
    "\n",
    "reg = res_dict[\"reg\"]\n",
    "q = res_dict[\"q\"]\n",
    "q0 = res_dict[\"q0\"]\n",
    "eps = res_dict[\"eps\"]\n",
    "H = res_dict[\"H\"]\n",
    "R_set = res_dict[\"R_set\"]\n",
    "R_profiles = res_dict[\"R_profiles\"]\n",
    "\n",
    "print(reg, q, q0, eps)"
   ]
  },
  {
   "cell_type": "code",
   "execution_count": 271,
   "id": "b80c1af9-dfd4-4589-9f4b-4267c6635f0c",
   "metadata": {},
   "outputs": [
    {
     "name": "stdout",
     "output_type": "stream",
     "text": [
      "(1, 1, 0, 0, 0)\n",
      "Flat!\n",
      "(1, 1, 0, 0, 1)\n",
      "Flat!\n",
      "(1, 1, 0, 1, 0)\n",
      "Flat!\n",
      "(1, 1, 0, 1, 1)\n",
      "Flat!\n",
      "(1, 1, 1, 1, 1)\n",
      "Flat!\n"
     ]
    }
   ],
   "source": [
    "# Find active profiles\n",
    "\n",
    "for k, R_profile in enumerate(R_profiles):\n",
    "    if len(R_profile) == 1:\n",
    "        if R_profile.sigma[0] is None:\n",
    "            continue\n",
    "\n",
    "    print(profiles[k]) #, R_profile.sigma[0].shape)\n",
    "    for sigma in R_profile.sigma:\n",
    "        sigma_temp = sigma.copy()\n",
    "        sigma_temp[np.isinf(sigma_temp)] = 1\n",
    "        if np.all(np.equal(sigma_temp, 1)):\n",
    "            print(\"Flat!\")"
   ]
  },
  {
   "cell_type": "code",
   "execution_count": null,
   "id": "ad74d399-052a-4443-ad64-4414d7b2a065",
   "metadata": {},
   "outputs": [],
   "source": []
  },
  {
   "cell_type": "code",
   "execution_count": 276,
   "id": "a6ec2447-eb22-42c7-a99a-4a311d4c94b2",
   "metadata": {},
   "outputs": [],
   "source": [
    "M = 5\n",
    "R = np.array([3, 4, 3, 4, 4])\n",
    "features = [\"Male Head\", \"Female Biz\", \"Biz expense\", \"Total expense\", \"Durable Index\"]\n",
    "\n",
    "num_profiles = 2**M\n",
    "profiles, profile_map = tva.enumerate_profiles(M)"
   ]
  },
  {
   "cell_type": "code",
   "execution_count": null,
   "id": "707dc671-8e89-43fa-bbfb-e797b43b922f",
   "metadata": {},
   "outputs": [],
   "source": []
  },
  {
   "cell_type": "code",
   "execution_count": 297,
   "id": "497a9a81-cc91-4e59-bd48-fc48f757e7a3",
   "metadata": {},
   "outputs": [
    {
     "name": "stdout",
     "output_type": "stream",
     "text": [
      "[[0.83110832 0.83110832 1.70691219 1.651345   1.64888052]]\n",
      "[[0.         0.         0.         0.         0.         0.\n",
      "  0.         0.         0.         0.         0.         0.\n",
      "  0.         0.         0.         0.         0.         0.\n",
      "  0.         0.         0.         0.         0.         0.\n",
      "  1.54509312 3.23261491 3.24098486 5.03173607 0.         0.\n",
      "  0.         6.86824301]]\n"
     ]
    }
   ],
   "source": [
    "feature_splits = np.array([0] * len(features), dtype=np.float64)\n",
    "profile_splits = np.array([0] * num_profiles)\n",
    "\n",
    "for r, model_r in enumerate(R_set):\n",
    "\n",
    "    feature_splits_r = np.zeros(shape=feature_splits.shape)\n",
    "    feature_present_r = np.zeros(shape=feature_splits.shape, dtype=np.float64)\n",
    "    \n",
    "    for k, sigma_k_idx in enumerate(model_r):\n",
    "        sigma_k = R_profiles[k].sigma[sigma_k_idx]\n",
    "        if sigma_k is None:\n",
    "            continue\n",
    "            \n",
    "        features_k = [features[j] for j, val in enumerate(profiles[k]) if val == 1]\n",
    "        \n",
    "        sigma_temp = sigma_k.copy()\n",
    "        sigma_temp[np.isinf(sigma_temp)] = 0\n",
    "        profile_splits[k] += np.sum(sigma_temp)\n",
    "\n",
    "        row_id = 0\n",
    "        for j, present in enumerate(profiles[k]):\n",
    "            if present == 1:\n",
    "                feature_splits_r[j] += np.sum(sigma_temp[row_id, :])\n",
    "                feature_present_r[j] += 1\n",
    "                row_id += 1\n",
    "\n",
    "    feature_splits += np.divide(feature_splits_r, feature_present_r)\n",
    "\n",
    "\n",
    "profile_splits = profile_splits / len(R_set)\n",
    "feature_splits = feature_splits / len(R_set)\n",
    "\n",
    "feature_splits = feature_splits.reshape((1, -1))\n",
    "profile_splits = profile_splits.reshape((1, -1))\n",
    "\n",
    "print(feature_splits)\n",
    "print(profile_splits)"
   ]
  },
  {
   "cell_type": "code",
   "execution_count": 301,
   "id": "9e9457f9-b50f-4d0d-8f2c-9003b243f62e",
   "metadata": {},
   "outputs": [
    {
     "data": {
      "image/png": "[encoded data removed]",
      "text/plain": [
       "<Figure size 640x480 with 1 Axes>"
      ]
     },
     "metadata": {},
     "output_type": "display_data"
    }
   ],
   "source": [
    "plt.imshow(profile_splits)\n",
    "\n",
    "plt.show()"
   ]
  },
  {
   "cell_type": "code",
   "execution_count": 305,
   "id": "243ade57-a352-433f-aa3d-a7a791d281a3",
   "metadata": {},
   "outputs": [
    {
     "data": {
      "image/png": "[encoded data removed]",
      "text/plain": [
       "<Figure size 640x480 with 2 Axes>"
      ]
     },
     "metadata": {},
     "output_type": "display_data"
    }
   ],
   "source": [
    "\n",
    "sns.heatmap(profile_splits, annot=False)\n",
    "\n",
    "plt.show()"
   ]
  },
  {
   "cell_type": "code",
   "execution_count": null,
   "id": "329107a5-db3d-4abd-9714-b5f95dba5f7c",
   "metadata": {},
   "outputs": [],
   "source": []
  }
 ],
 "metadata": {
  "kernelspec": {
   "display_name": "Python (rashomon-tva)",
   "language": "python",
   "name": "rashomon-tva"
  },
  "language_info": {
   "codemirror_mode": {
    "name": "ipython",
    "version": 3
   },
   "file_extension": ".py",
   "mimetype": "text/x-python",
   "name": "python",
   "nbconvert_exporter": "python",
   "pygments_lexer": "ipython3",
   "version": "3.11.3"
  }
 },
 "nbformat": 4,
 "nbformat_minor": 5
}
