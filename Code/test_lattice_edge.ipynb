{
 "cells": [
  {
   "cell_type": "code",
   "execution_count": 69,
   "metadata": {},
   "outputs": [
    {
     "name": "stdout",
     "output_type": "stream",
     "text": [
      "The autoreload extension is already loaded. To reload it, use:\n",
      "  %reload_ext autoreload\n"
     ]
    }
   ],
   "source": [
    "from rashomon.extract_pools import lattice_edges\n",
    "from rashomon.hasse import enumerate_policies, is_policies_sorted\n",
    "\n",
    "import time\n",
    "import numpy as np\n",
    "\n",
    "\n",
    "%load_ext autoreload\n",
    "%autoreload 2"
   ]
  },
  {
   "cell_type": "code",
   "execution_count": 60,
   "metadata": {},
   "outputs": [],
   "source": [
    "M = 3\n",
    "R = 4\n",
    "\n",
    "policies = enumerate_policies(M, R)"
   ]
  },
  {
   "cell_type": "code",
   "execution_count": 70,
   "metadata": {},
   "outputs": [
    {
     "data": {
      "text/plain": [
       "True"
      ]
     },
     "execution_count": 70,
     "metadata": {},
     "output_type": "execute_result"
    }
   ],
   "source": [
    "is_policies_sorted(policies)"
   ]
  },
  {
   "cell_type": "markdown",
   "metadata": {},
   "source": [
    "Original version"
   ]
  },
  {
   "cell_type": "code",
   "execution_count": 76,
   "metadata": {},
   "outputs": [
    {
     "name": "stdout",
     "output_type": "stream",
     "text": [
      "Average time over 10 iterations: 0.01595907211303711 seconds\n"
     ]
    }
   ],
   "source": [
    "num_iter = 10\n",
    "\n",
    "start_time = time.time()\n",
    "for _ in range(num_iter):\n",
    "    edges = lattice_edges(policies)\n",
    "end_time = time.time()\n",
    "\n",
    "print(f\"Average time over {num_iter} iterations: {(end_time - start_time) / num_iter} seconds\")"
   ]
  },
  {
   "cell_type": "markdown",
   "metadata": {},
   "source": [
    "New version with dictionary"
   ]
  },
  {
   "cell_type": "code",
   "execution_count": 11,
   "metadata": {},
   "outputs": [],
   "source": [
    "def lattice_edges2(policies: list) -> list[tuple[int, int]]:\n",
    "    \"\"\"\n",
    "    Enumerate the Hasse adjacencies\n",
    "    \"\"\"\n",
    "    policy_map = {tuple(pol): i for i, pol in enumerate(policies)}\n",
    "    edges = set()\n",
    "    for i, pol in enumerate(policies):\n",
    "        pol_tuple = tuple(pol)\n",
    "        for dim in range(len(pol_tuple)):\n",
    "            for delta in [-1, 1]:\n",
    "                neighbor = list(pol_tuple)\n",
    "                neighbor[dim] += delta\n",
    "                neighbor_tuple = tuple(neighbor)\n",
    "                if neighbor_tuple in policy_map:\n",
    "                    j = policy_map[neighbor_tuple]\n",
    "                    edges.add((min(i, j), max(i, j)))\n",
    "\n",
    "    return list(edges)"
   ]
  },
  {
   "cell_type": "code",
   "execution_count": 62,
   "metadata": {},
   "outputs": [
    {
     "name": "stdout",
     "output_type": "stream",
     "text": [
      "Average time over 1 iterations: 0.0010111331939697266 seconds\n"
     ]
    }
   ],
   "source": [
    "num_iter = 1\n",
    "\n",
    "start_time = time.time()\n",
    "for _ in range(num_iter):\n",
    "    edges2 = lattice_edges2(policies)\n",
    "end_time = time.time()\n",
    "\n",
    "print(f\"Average time over {num_iter} iterations: {(end_time - start_time) / num_iter} seconds\")"
   ]
  },
  {
   "cell_type": "markdown",
   "metadata": {},
   "source": [
    "Version 3 utilizing ordering of policies"
   ]
  },
  {
   "cell_type": "code",
   "execution_count": 74,
   "metadata": {},
   "outputs": [
    {
     "name": "stdout",
     "output_type": "stream",
     "text": [
      "Average time over 10 iterations: 0.0 seconds\n"
     ]
    }
   ],
   "source": [
    "num_iter = 10\n",
    "\n",
    "start_time = time.time()\n",
    "for _ in range(num_iter):\n",
    "    edges3 = lattice_edges(policies, sorted=True, M=M, R=R)\n",
    "end_time = time.time()\n",
    "\n",
    "print(f\"Average time over {num_iter} iterations: {(end_time - start_time) / num_iter} seconds\")"
   ]
  },
  {
   "cell_type": "code",
   "execution_count": 75,
   "metadata": {},
   "outputs": [
    {
     "data": {
      "text/plain": [
       "True"
      ]
     },
     "execution_count": 75,
     "metadata": {},
     "output_type": "execute_result"
    }
   ],
   "source": [
    "set(edges) == set(edges3)"
   ]
  },
  {
   "cell_type": "markdown",
   "metadata": {},
   "source": [
    "Version 4 without using policies"
   ]
  },
  {
   "cell_type": "code",
   "execution_count": 71,
   "metadata": {},
   "outputs": [],
   "source": [
    "def lattice_edges4( M: int, R: np.ndarray | int) -> list[tuple[int,int]]:\n",
    "    if isinstance(R, int):\n",
    "        R = np.array([R] * M)\n",
    "    \n",
    "    # Compute total number of policies\n",
    "    total_policies = np.prod(R)\n",
    "    # for val in R:\n",
    "    #     total_policies *= val\n",
    "\n",
    "    # Precompute offsets\n",
    "    offsets = [1] * M\n",
    "    for i in reversed(range(M - 1)):\n",
    "        offsets[i] = offsets[i + 1] * R[i + 1]\n",
    "\n",
    "    edges = []\n",
    "    for i in range(total_policies):\n",
    "        for d in range(M):\n",
    "            neighbor = i + offsets[d]\n",
    "            # First check that neighbor is within total range\n",
    "            if neighbor < total_policies:\n",
    "                # Check if dimension d is not at its boundary\n",
    "                block_index = i // offsets[d]\n",
    "                # block_base is the start of that dimension's 'block'\n",
    "                block_base = (block_index // R[d]) * R[d]\n",
    "                # If block_index - block_base < R[d] - 1, we haven't reached the boundary\n",
    "                if (block_index - block_base) < (R[d] - 1):\n",
    "                    edges.append((i, neighbor))\n",
    "\n",
    "    return edges"
   ]
  },
  {
   "cell_type": "code",
   "execution_count": 72,
   "metadata": {},
   "outputs": [
    {
     "name": "stdout",
     "output_type": "stream",
     "text": [
      "Average time over 1 iterations: 0.2124629020690918 seconds\n"
     ]
    }
   ],
   "source": [
    "num_iter = 1\n",
    "\n",
    "start_time = time.time()\n",
    "for _ in range(num_iter):\n",
    "    edges4 = lattice_edges4(M, R)\n",
    "end_time = time.time()\n",
    "\n",
    "print(f\"Average time over {num_iter} iterations: {(end_time - start_time) / num_iter} seconds\")"
   ]
  },
  {
   "cell_type": "code",
   "execution_count": 73,
   "metadata": {},
   "outputs": [
    {
     "data": {
      "text/plain": [
       "True"
      ]
     },
     "execution_count": 73,
     "metadata": {},
     "output_type": "execute_result"
    }
   ],
   "source": [
    "set(edges) == set(edges4)"
   ]
  },
  {
   "cell_type": "code",
   "execution_count": null,
   "metadata": {},
   "outputs": [],
   "source": []
  }
 ],
 "metadata": {
  "kernelspec": {
   "display_name": "venv",
   "language": "python",
   "name": "python3"
  },
  "language_info": {
   "codemirror_mode": {
    "name": "ipython",
    "version": 3
   },
   "file_extension": ".py",
   "mimetype": "text/x-python",
   "name": "python",
   "nbconvert_exporter": "python",
   "pygments_lexer": "ipython3",
   "version": "3.12.8"
  }
 },
 "nbformat": 4,
 "nbformat_minor": 2
}
