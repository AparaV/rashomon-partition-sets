{
 "cells": [
  {
   "cell_type": "code",
   "execution_count": 1,
   "id": "f639fe4a-c308-41f9-bb97-58b7a29aea0e",
   "metadata": {},
   "outputs": [],
   "source": [
    "import numpy as np\n",
    "import pandas as pd\n",
    "import matplotlib.pyplot as plt\n",
    "\n",
    "from copy import deepcopy\n",
    "from matplotlib import colors\n",
    "from sklearn.metrics import mean_squared_error\n",
    "\n",
    "%matplotlib inline"
   ]
  },
  {
   "cell_type": "markdown",
   "id": "32ef9d92-94ea-47d2-9b5b-20c23284d345",
   "metadata": {},
   "source": [
    "# Data processing"
   ]
  },
  {
   "cell_type": "code",
   "execution_count": 33,
   "id": "cc601036-9b4c-43ee-bf1b-280c33dfc5ce",
   "metadata": {},
   "outputs": [],
   "source": [
    "fname = \"../data/WEBER.DAT\"\n",
    "\n",
    "columns = [\"Electric\", \"Heating\", \"Cooling\", \"light_hours\", \"light\", \"roof\", \"OA\", \"DBST\"]\n",
    "raw_df = pd.read_csv(fname, delimiter=\"\\s+\", skiprows=25, header=None, names=columns)"
   ]
  },
  {
   "cell_type": "code",
   "execution_count": 34,
   "id": "4cbf6ce4-0568-4926-979b-31292df4e7fe",
   "metadata": {},
   "outputs": [],
   "source": [
    "df = deepcopy(raw_df)\n",
    "\n",
    "map_light_hours = {95: 1, 100: 2}\n",
    "map_light = {2: 1, 3: 2}\n",
    "map_roof = {0.044: 1, 0.080: 2}\n",
    "map_OA = {40: 1, 50: 2}\n",
    "map_DBST = {-150: 1, 75: 2}\n",
    "\n",
    "df[\"light_hours\"] = df[\"light_hours\"].map(map_light_hours)\n",
    "df[\"light\"] = df[\"light\"].map(map_light)\n",
    "df[\"roof\"] = df[\"roof\"].map(map_roof)\n",
    "df[\"OA\"] = df[\"OA\"].map(map_OA)\n",
    "df[\"DBST\"] = df[\"DBST\"].map(map_DBST)"
   ]
  },
  {
   "cell_type": "code",
   "execution_count": 90,
   "id": "08947f9c-65cc-4021-aedd-d2ba66003e00",
   "metadata": {},
   "outputs": [],
   "source": [
    "Z = df.to_numpy()\n",
    "X = Z[:, 3:8] #- 1\n",
    "y = Z[:, 0] / 10000 # (np.max(y) - np.min(y))\n",
    "y = y.reshape((-1, 1))\n",
    "\n",
    "num_data = X.shape[0]"
   ]
  },
  {
   "cell_type": "code",
   "execution_count": null,
   "id": "f6d1097c-a1cd-4706-92ef-a49dba99348f",
   "metadata": {},
   "outputs": [],
   "source": []
  },
  {
   "cell_type": "code",
   "execution_count": null,
   "id": "fb58406f-7f2a-4331-b044-ab4dc935d226",
   "metadata": {},
   "outputs": [],
   "source": []
  },
  {
   "cell_type": "markdown",
   "id": "8588f42a-0b28-47da-9759-3b037f1bebdf",
   "metadata": {},
   "source": [
    "# Analysis\n",
    "## Rashomon"
   ]
  },
  {
   "cell_type": "code",
   "execution_count": 39,
   "id": "b03e2883-b578-4b88-81eb-1d94ece3f8e1",
   "metadata": {},
   "outputs": [],
   "source": [
    "from rashomon import tva\n",
    "from rashomon import loss\n",
    "from rashomon import counter\n",
    "from rashomon import metrics\n",
    "from rashomon import extract_pools\n",
    "from rashomon.aggregate import RAggregate_profile, RAggregate\n",
    "from rashomon.sets import RashomonSet, RashomonProblemCache, RashomonSubproblemCache\n",
    "\n",
    "\n",
    "%load_ext autoreload\n",
    "%autoreload 2"
   ]
  },
  {
   "cell_type": "code",
   "execution_count": 92,
   "id": "7a926c6d-34dc-4a86-b0ec-c63ef7228220",
   "metadata": {},
   "outputs": [],
   "source": [
    "def print_pools(R_set, rashomon_profiles, idx, profiles, policies_mask, all_policies=None,\n",
    "               policy_means=None):\n",
    "    r_set = R_set[idx]\n",
    "    \n",
    "    pi_policies_profiles_r = {}\n",
    "    for k, profile in enumerate(profiles):\n",
    "        if rashomon_profiles[k].sigma[r_set[k]] is None and rashomon_profiles[k].Q[r_set[k]] == 0:\n",
    "            pi_policies_r_k = {i: None for i in range(len(policies_mask[k]))}\n",
    "            pass\n",
    "        else:\n",
    "            _, pi_policies_r_k = extract_pools.extract_pools(\n",
    "                policies_profiles_masked[k],\n",
    "                rashomon_profiles[k].sigma[r_set[k]]\n",
    "            )\n",
    "        pi_policies_profiles_r[k] = pi_policies_r_k\n",
    "    \n",
    "    pi_pools_r, pi_policies_r = extract_pools.aggregate_pools(pi_policies_profiles_r, policies_ids_profiles)\n",
    "    if policy_means is not None:\n",
    "        pool_means_r = loss.compute_pool_means(policy_means, pi_pools_r)\n",
    "    else:\n",
    "        pool_means_r = None\n",
    "    \n",
    "    for k, v in pi_pools_r.items():\n",
    "        if all_policies is not None:\n",
    "            print(k, \":\", [all_policies[x] for x in v])\n",
    "        else:\n",
    "            print(k, \":\", v)\n",
    "        if pool_means_r is not None:\n",
    "            print(pool_means_r[k])"
   ]
  },
  {
   "cell_type": "markdown",
   "id": "f44e1623-b3ad-43b3-b1f5-b424ccb26295",
   "metadata": {},
   "source": [
    "Setup the policy and profile list"
   ]
  },
  {
   "cell_type": "code",
   "execution_count": 93,
   "id": "665f3986-5737-465a-8acb-0ceffe054416",
   "metadata": {},
   "outputs": [],
   "source": [
    "M = 5\n",
    "# R = np.array([3, 4, 3])\n",
    "R = 3\n",
    "\n",
    "num_profiles = 2**M\n",
    "profiles, profile_map = tva.enumerate_profiles(M)\n",
    "\n",
    "all_policies = tva.enumerate_policies(M, R)\n",
    "num_policies = len(all_policies)"
   ]
  },
  {
   "cell_type": "code",
   "execution_count": 94,
   "id": "a72df915-95b4-4c46-9ba0-6568bc54842e",
   "metadata": {},
   "outputs": [],
   "source": [
    "policies_profiles = {}\n",
    "policies_profiles_masked = {}\n",
    "policies_ids_profiles = {}\n",
    "for k, profile in enumerate(profiles):\n",
    "\n",
    "    policies_temp = [(i, x) for i, x in enumerate(all_policies) if tva.policy_to_profile(x) == profile]\n",
    "    unzipped_temp = list(zip(*policies_temp))\n",
    "    policies_ids_k = list(unzipped_temp[0])\n",
    "    policies_k = list(unzipped_temp[1])\n",
    "    policies_profiles[k] = deepcopy(policies_k)\n",
    "    policies_ids_profiles[k] = policies_ids_k\n",
    "\n",
    "    profile_mask = list(map(bool, profile))\n",
    "\n",
    "    # Mask the empty arms\n",
    "    for idx, pol in enumerate(policies_k):\n",
    "        policies_k[idx] = tuple([pol[i] for i in range(M) if profile_mask[i]])\n",
    "    policies_profiles_masked[k] = policies_k"
   ]
  },
  {
   "cell_type": "markdown",
   "id": "a608a659-aa22-41cc-889c-5ea5ab67d31e",
   "metadata": {},
   "source": [
    "Setup the data and compute policy-wise means"
   ]
  },
  {
   "cell_type": "code",
   "execution_count": 95,
   "id": "6b21a59f-f99f-4b11-81ee-1a2bab5d9006",
   "metadata": {},
   "outputs": [],
   "source": [
    "D = np.zeros(shape=y.shape, dtype=np.int64)\n",
    "profiles_in_data = []\n",
    "for i in range(num_data):\n",
    "    policy_i = tuple([int(x) for x in X[i, :]])\n",
    "    policy_idx = [idx for idx in range(num_policies) if all_policies[idx] == policy_i]\n",
    "    profiles_in_data.append(tva.policy_to_profile(policy_i))\n",
    "    D[i, 0] = int(policy_idx[0])\n",
    "\n",
    "policy_means = loss.compute_policy_means(D, y, num_policies)"
   ]
  },
  {
   "cell_type": "code",
   "execution_count": 96,
   "id": "64dfe52f-93f7-4cab-b569-581eedc86d6f",
   "metadata": {},
   "outputs": [
    {
     "name": "stdout",
     "output_type": "stream",
     "text": [
      "3.378528906\n"
     ]
    },
    {
     "data": {
      "text/plain": [
       "(array([238, 239, 241, 242]),)"
      ]
     },
     "execution_count": 96,
     "metadata": {},
     "output_type": "execute_result"
    }
   ],
   "source": [
    "nodata_idx = np.where(policy_means[:, 1] == 0)[0]\n",
    "policy_means[nodata_idx, 0] = -np.inf\n",
    "policy_means[nodata_idx, 1] = 1\n",
    "mu_policies = policy_means[:, 0] / policy_means[:, 1]\n",
    "\n",
    "true_best_eff = np.max(mu_policies)\n",
    "print(true_best_eff)\n",
    "np.where(mu_policies == true_best_eff)"
   ]
  },
  {
   "cell_type": "code",
   "execution_count": null,
   "id": "3b943952-8702-4790-9b1c-40219853018e",
   "metadata": {},
   "outputs": [],
   "source": []
  },
  {
   "cell_type": "code",
   "execution_count": null,
   "id": "b32fa125-95ee-4bca-8cff-a9b2ca05fa14",
   "metadata": {},
   "outputs": [],
   "source": []
  },
  {
   "cell_type": "markdown",
   "id": "4ea9fae8-4495-4599-a061-f487b6afb297",
   "metadata": {},
   "source": [
    "Enumerate the Rashomon set"
   ]
  },
  {
   "cell_type": "code",
   "execution_count": 118,
   "id": "3f5fee79-d02e-4ec3-8921-83ba2fa08df4",
   "metadata": {},
   "outputs": [
    {
     "name": "stdout",
     "output_type": "stream",
     "text": [
      "8\n"
     ]
    }
   ],
   "source": [
    "reg = 1e-3\n",
    "q =  1e-2\n",
    "R_set, rashomon_profiles = RAggregate(M, R, np.inf, D, y, q, reg=reg)\n",
    "# R_set, rashomon_profiles = RAggregate(M, R, 10, D, y, q, reg=reg)\n",
    "\n",
    "print(len(R_set))"
   ]
  },
  {
   "cell_type": "code",
   "execution_count": 119,
   "id": "5cc926c9-8135-470a-918f-468cec09dcb5",
   "metadata": {},
   "outputs": [
    {
     "name": "stdout",
     "output_type": "stream",
     "text": [
      "0.005318597665447322 (2, 2, 1, 1, 1) 4\n",
      "Best model loss 0.005318597665447322 and best policy (2, 2, 1, 1, 1)\n"
     ]
    }
   ],
   "source": [
    "best_profile_counter = np.zeros(shape=(num_profiles,))\n",
    "\n",
    "all_losses = []\n",
    "\n",
    "best_loss = np.inf\n",
    "best_policy_o = None\n",
    "\n",
    "for r_set in R_set:\n",
    "    pi_policies_profiles_r = {}\n",
    "\n",
    "    for k, profile in enumerate(profiles):\n",
    "        if rashomon_profiles[k].sigma[r_set[k]] is None and rashomon_profiles[k].Q[r_set[k]] == 0:\n",
    "            pi_policies_r_k = {i: None for i in range(len(policies_profiles_masked[k]))}\n",
    "            pass\n",
    "        else:\n",
    "            _, pi_policies_r_k = extract_pools.extract_pools(\n",
    "                policies_profiles_masked[k],\n",
    "                rashomon_profiles[k].sigma[r_set[k]]\n",
    "            )\n",
    "        pi_policies_profiles_r[k] = pi_policies_r_k\n",
    "    \n",
    "    pi_pools_r, pi_policies_r = extract_pools.aggregate_pools(pi_policies_profiles_r, policies_ids_profiles)\n",
    "    pool_means_r = loss.compute_pool_means(policy_means, pi_pools_r)\n",
    "    \n",
    "    y_pred = metrics.make_predictions(D, pi_policies_r, pool_means_r)\n",
    "\n",
    "    this_loss = mean_squared_error(y, y_pred) + reg * len(pi_pools_r)\n",
    "    all_losses.append((this_loss, mean_squared_error(y, y_pred), len(pi_pools_r), np.nanmax(pool_means_r)))\n",
    "    \n",
    "    # best_pools = np.argwhere(pool_means_r == np.max(pool_means_r))[0]\n",
    "    best_pools = np.argwhere(pool_means_r == np.nanmax(pool_means_r))[0]\n",
    "    # print(np.max(pool_means_r))\n",
    "\n",
    "    for best_pool in best_pools:\n",
    "        best_policy_id = pi_pools_r[best_pool][0]\n",
    "        best_policy = all_policies[best_policy_id]\n",
    "        best_profile = tva.policy_to_profile(best_policy)\n",
    "        profile_id = profile_map[best_profile]\n",
    "\n",
    "        best_profile_counter[profile_id] += 1\n",
    "        \n",
    "        if this_loss < best_loss:\n",
    "            best_loss = this_loss\n",
    "            best_policy_o = best_policy\n",
    "            print(best_loss, best_policy, len(pi_pools_r))\n",
    "            # for k, v in pi_pools_r.items():\n",
    "            #     print(k, \":\", [all_policies[x] for x in v], v)\n",
    "            #     print(pool_means_r[k])\n",
    "            # print(\"---\")\n",
    "\n",
    "best_profile_freq = best_profile_counter / np.sum(best_profile_counter)\n",
    "\n",
    "print(f\"Best model loss {best_loss} and best policy {best_policy_o}\")"
   ]
  },
  {
   "cell_type": "code",
   "execution_count": 120,
   "id": "2d100160-fe2e-4e40-b53e-3ee8b5505e3a",
   "metadata": {},
   "outputs": [
    {
     "name": "stdout",
     "output_type": "stream",
     "text": [
      "4: 1.31860e-03 (5.31860e-03) & 1.319e-03 & 1.000000e+00\n",
      "2: 4.83963e-03 (6.83963e-03) & 1.126e-02 & 9.984801e-01\n",
      "4: 3.52103e-03 (7.52103e-03) & 4.875e-03 & 9.978000e-01\n",
      "8: 0.00000e+00 (8.00000e-03) & 0.000e+00 & 9.973222e-01\n",
      "4: 4.83963e-03 (8.83963e-03) & 1.126e-02 & 9.964852e-01\n",
      "4: 4.83963e-03 (8.83963e-03) & 1.126e-02 & 9.964852e-01\n",
      "8: 1.31860e-03 (9.31860e-03) & 1.319e-03 & 9.960080e-01\n",
      "8: 1.31860e-03 (9.31860e-03) & 1.319e-03 & 9.960080e-01\n"
     ]
    }
   ],
   "source": [
    "for loss_i, mse_i, size_i, best_eff_i in all_losses:\n",
    "    # if size_i > 10:\n",
    "    #     continue\n",
    "    sqrd_err_best_pol_i = (best_eff_i - true_best_eff)**2\n",
    "    log_post_ratio = np.exp(-loss_i) / np.exp(-best_loss)\n",
    "    # log_post_ratio = np.log(log_post_ratio)\n",
    "    # log_post_ratio = loss_i / best_loss\n",
    "    print(f\"{size_i}: {mse_i:.5e} ({loss_i:.5e}) & {sqrd_err_best_pol_i:.3e} & {log_post_ratio:.6e}\")"
   ]
  },
  {
   "cell_type": "code",
   "execution_count": 148,
   "id": "e33723cd-c6df-4046-bc31-d073c5d0000e",
   "metadata": {},
   "outputs": [
    {
     "name": "stdout",
     "output_type": "stream",
     "text": [
      "0 : [(1, 1, 1, 1, 1), (1, 1, 1, 1, 2), (1, 1, 1, 2, 1), (1, 1, 1, 2, 2)]\n",
      "2.561231055\n",
      "1 : [(1, 1, 2, 1, 1), (1, 1, 2, 1, 2), (1, 1, 2, 2, 1), (1, 1, 2, 2, 2)]\n",
      "2.633856055\n",
      "2 : [(1, 2, 1, 1, 1), (1, 2, 1, 1, 2), (1, 2, 1, 2, 1), (1, 2, 1, 2, 2)]\n",
      "3.1662570309999998\n",
      "3 : [(1, 2, 2, 1, 1), (1, 2, 2, 1, 2), (1, 2, 2, 2, 1), (1, 2, 2, 2, 2)]\n",
      "3.238883008\n",
      "4 : [(2, 1, 1, 1, 1), (2, 1, 1, 1, 2), (2, 1, 1, 2, 1), (2, 1, 1, 2, 2)]\n",
      "2.654328906\n",
      "5 : [(2, 1, 2, 1, 1), (2, 1, 2, 1, 2), (2, 1, 2, 2, 1), (2, 1, 2, 2, 2)]\n",
      "2.72695293\n",
      "6 : [(2, 2, 1, 1, 1), (2, 2, 1, 1, 2), (2, 2, 1, 2, 1), (2, 2, 1, 2, 2)]\n",
      "3.305903906\n",
      "7 : [(2, 2, 2, 1, 1), (2, 2, 2, 1, 2), (2, 2, 2, 2, 1), (2, 2, 2, 2, 2)]\n",
      "3.378528906\n"
     ]
    }
   ],
   "source": [
    "print_pools(R_set, rashomon_profiles, 3, profiles, policies_profiles_masked, all_policies,\n",
    "           policy_means)"
   ]
  },
  {
   "cell_type": "code",
   "execution_count": 149,
   "id": "f730c125-5f7a-454f-9662-5f88ad770f82",
   "metadata": {},
   "outputs": [
    {
     "data": {
      "text/plain": [
       "[0,\n",
       " 0,\n",
       " 0,\n",
       " 0,\n",
       " 0,\n",
       " 0,\n",
       " 0,\n",
       " 0,\n",
       " 0,\n",
       " 0,\n",
       " 0,\n",
       " 0,\n",
       " 0,\n",
       " 0,\n",
       " 0,\n",
       " 0,\n",
       " 0,\n",
       " 0,\n",
       " 0,\n",
       " 0,\n",
       " 0,\n",
       " 0,\n",
       " 0,\n",
       " 0,\n",
       " 0,\n",
       " 0,\n",
       " 0,\n",
       " 0,\n",
       " 0,\n",
       " 0,\n",
       " 0,\n",
       " 3]"
      ]
     },
     "execution_count": 149,
     "metadata": {},
     "output_type": "execute_result"
    }
   ],
   "source": [
    "R_set[3]"
   ]
  },
  {
   "cell_type": "code",
   "execution_count": 150,
   "id": "105b4b3d-39cd-4e9e-93e7-f7c27baf56aa",
   "metadata": {},
   "outputs": [
    {
     "data": {
      "text/plain": [
       "array([[0.],\n",
       "       [0.],\n",
       "       [0.],\n",
       "       [1.],\n",
       "       [1.]])"
      ]
     },
     "execution_count": 150,
     "metadata": {},
     "output_type": "execute_result"
    }
   ],
   "source": [
    "rashomon_profiles[31].sigma[3]"
   ]
  },
  {
   "cell_type": "code",
   "execution_count": null,
   "id": "a763c0e2-452a-477c-af37-471e3ef534e8",
   "metadata": {},
   "outputs": [],
   "source": []
  },
  {
   "cell_type": "code",
   "execution_count": null,
   "id": "565addbc-173f-4154-8f63-86f5aeb01cb6",
   "metadata": {},
   "outputs": [],
   "source": []
  },
  {
   "cell_type": "markdown",
   "id": "a9d6f61f-2f20-491d-91f7-7661c53b78d4",
   "metadata": {},
   "source": [
    "### Analyzing the Rashomon set"
   ]
  },
  {
   "cell_type": "code",
   "execution_count": 121,
   "id": "db963648-d9bf-47c0-9bc1-aefb00050951",
   "metadata": {},
   "outputs": [
    {
     "name": "stdout",
     "output_type": "stream",
     "text": [
      "2 8\n"
     ]
    }
   ],
   "source": [
    "model_sizes = [x[2] for x in all_losses]\n",
    "print(np.min(model_sizes), np.max(model_sizes))"
   ]
  },
  {
   "cell_type": "code",
   "execution_count": 125,
   "id": "c9e8a511-2720-4001-b9df-370244a2365c",
   "metadata": {},
   "outputs": [
    {
     "data": {
      "image/png": "[encoded data removed]",
      "text/plain": [
       "<Figure size 500x500 with 1 Axes>"
      ]
     },
     "metadata": {},
     "output_type": "display_data"
    }
   ],
   "source": [
    "fig, ax = plt.subplots(figsize=(5,5))\n",
    "\n",
    "ax.spines[['right', 'top']].set_visible(False)\n",
    "\n",
    "ax.hist(model_sizes,\n",
    "        color=\"grey\", edgecolor=\"black\")\n",
    "\n",
    "ax.set_xlabel(\"Size of model\")\n",
    "ax.set_ylabel(\"\")\n",
    "ax.set_title(\"Distribution of model sizes in Rashomon set\")\n",
    "\n",
    "# ax.legend(loc=\"center left\", bbox_to_anchor=(1, 0.5))\n",
    "\n",
    "# plt.savefig(\"../Figures/weber/rset_size_dist.png\", dpi=300, bbox_inches=\"tight\")\n",
    "plt.show()"
   ]
  },
  {
   "cell_type": "code",
   "execution_count": null,
   "id": "73606271-1f90-4c26-9d3d-02d1f3d24d22",
   "metadata": {},
   "outputs": [],
   "source": []
  },
  {
   "cell_type": "code",
   "execution_count": 128,
   "id": "86dbc654-40a9-4af5-88b0-8eee34ba9cad",
   "metadata": {},
   "outputs": [],
   "source": [
    "losses_only = np.array([np.exp(-x[0]) for x in all_losses])\n",
    "losses_only = losses_only - np.min(losses_only)\n",
    "losses_only = losses_only / np.max(losses_only) #* 70"
   ]
  },
  {
   "cell_type": "code",
   "execution_count": 131,
   "id": "98eee260-b01a-47c5-895d-88142c975253",
   "metadata": {},
   "outputs": [
    {
     "data": {
      "image/png": "[encoded data removed]",
      "text/plain": [
       "<Figure size 600x500 with 2 Axes>"
      ]
     },
     "metadata": {},
     "output_type": "display_data"
    }
   ],
   "source": [
    "fig, ax = plt.subplots(figsize=(6,5))\n",
    "\n",
    "h = ax.hist2d(model_sizes, losses_only, norm=colors.LogNorm(),\n",
    "             cmap=\"OrRd\")\n",
    "fig.colorbar(h[3], norm=colors.NoNorm, ax=ax)\n",
    "\n",
    "ax.set_xlabel(\"Model size\")\n",
    "ax.set_ylabel(\"Scaled Posterior probability\")\n",
    "\n",
    "\n",
    "# plt.savefig(\"../Figures/weber/rset_2d_hist.png\", dpi=300, bbox_inches=\"tight\")\n",
    "plt.show()"
   ]
  },
  {
   "cell_type": "code",
   "execution_count": 141,
   "id": "20a7ffbb-8927-45ab-96e5-969cde7329b4",
   "metadata": {},
   "outputs": [],
   "source": [
    "splits_1 = np.zeros(rashomon_profiles[31].sigma[0].shape)\n",
    "# splits_2 = np.zeros(rashomon_profiles[15].sigma[0].shape)\n",
    "\n",
    "for r_set in R_set:\n",
    "    idx_1 = r_set[31]\n",
    "    # idx_2 = r_set[15]\n",
    "\n",
    "    splits_1 += np.abs(rashomon_profiles[31].sigma[idx_1] - 1)\n",
    "    # splits_2 += np.abs(rashomon_profiles[15].sigma[idx_2] - 1)\n",
    "\n",
    "splits_1 = splits_1 / len(R_set) * 100\n",
    "# splits_2 = splits_2 / len(R_set) * 100"
   ]
  },
  {
   "cell_type": "code",
   "execution_count": 142,
   "id": "b92b8f47-f190-431e-9e40-c145424773ec",
   "metadata": {},
   "outputs": [
    {
     "data": {
      "text/plain": [
       "array([[ 50.],\n",
       "       [100.],\n",
       "       [ 25.],\n",
       "       [ 25.],\n",
       "       [ 25.]])"
      ]
     },
     "execution_count": 142,
     "metadata": {},
     "output_type": "execute_result"
    }
   ],
   "source": [
    "splits_1"
   ]
  },
  {
   "cell_type": "code",
   "execution_count": null,
   "id": "b8d1991b-a3b0-4abd-8e22-51925681d834",
   "metadata": {},
   "outputs": [],
   "source": []
  },
  {
   "cell_type": "code",
   "execution_count": null,
   "id": "d793a69f-e663-48e7-86f0-344745fd9880",
   "metadata": {},
   "outputs": [],
   "source": []
  },
  {
   "cell_type": "markdown",
   "id": "36470f77-8c0f-4ee9-b3fb-215a6ce4c936",
   "metadata": {},
   "source": [
    "## Lasso"
   ]
  },
  {
   "cell_type": "code",
   "execution_count": 45,
   "id": "3fb535a7-cd8e-491d-a6e6-c23fa62b5914",
   "metadata": {},
   "outputs": [],
   "source": [
    "from sklearn import linear_model"
   ]
  },
  {
   "cell_type": "code",
   "execution_count": 97,
   "id": "ba614c84-3e2b-474f-a6b0-40be41924bab",
   "metadata": {},
   "outputs": [],
   "source": [
    "G = tva.alpha_matrix(all_policies)\n",
    "D_matrix = tva.get_dummy_matrix(D, G, num_policies)"
   ]
  },
  {
   "cell_type": "code",
   "execution_count": 122,
   "id": "dacb23d9-2a39-4f0a-bdf9-a23208b8621b",
   "metadata": {},
   "outputs": [],
   "source": [
    "lasso = linear_model.Lasso(5e-2, fit_intercept=False)\n",
    "lasso.fit(D_matrix, y)\n",
    "alpha_est = lasso.coef_\n",
    "y_tva = lasso.predict(D_matrix)"
   ]
  },
  {
   "cell_type": "code",
   "execution_count": 123,
   "id": "2b8eed53-eec8-43e1-b976-aa43c052e5d8",
   "metadata": {},
   "outputs": [
    {
     "name": "stdout",
     "output_type": "stream",
     "text": [
      "0.00895565157471326\n",
      "0.3270119543405817\n"
     ]
    }
   ],
   "source": [
    "sqrd_err = mean_squared_error(y, y_tva)\n",
    "print(sqrd_err)\n",
    "\n",
    "lasso_loss = sqrd_err + 1e-1 * np.linalg.norm(alpha_est, ord=1)\n",
    "print(lasso_loss)"
   ]
  },
  {
   "cell_type": "code",
   "execution_count": 49,
   "id": "02ac7a70-731a-465b-a659-ba770671bce8",
   "metadata": {},
   "outputs": [
    {
     "name": "stdout",
     "output_type": "stream",
     "text": [
      "6.400e-07\n",
      "238 (2, 2, 2, 1, 1)\n",
      "239 (2, 2, 2, 1, 2)\n",
      "241 (2, 2, 2, 2, 1)\n",
      "242 (2, 2, 2, 2, 2)\n"
     ]
    }
   ],
   "source": [
    "best_pol_effect_tva = np.max(y_tva)\n",
    "sqrd_err_best_pol_tva = (true_best_eff - best_pol_effect_tva)**2\n",
    "print(f\"{sqrd_err_best_pol_tva:.3e}\")\n",
    "\n",
    "best_pol_idx_tva = np.unique(D[np.where(y_tva == best_pol_effect_tva)])\n",
    "for idx in best_pol_idx_tva:\n",
    "    print(idx, all_policies[idx])"
   ]
  },
  {
   "cell_type": "code",
   "execution_count": null,
   "id": "8b22e30c-acee-453e-89a3-dd08121da456",
   "metadata": {},
   "outputs": [],
   "source": []
  }
 ],
 "metadata": {
  "kernelspec": {
   "display_name": "Python (rashomon-tva)",
   "language": "python",
   "name": "rashomon-tva"
  },
  "language_info": {
   "codemirror_mode": {
    "name": "ipython",
    "version": 3
   },
   "file_extension": ".py",
   "mimetype": "text/x-python",
   "name": "python",
   "nbconvert_exporter": "python",
   "pygments_lexer": "ipython3",
   "version": "3.11.3"
  }
 },
 "nbformat": 4,
 "nbformat_minor": 5
}
