{
 "cells": [
  {
   "cell_type": "code",
   "execution_count": 94,
   "id": "9a619547",
   "metadata": {},
   "outputs": [],
   "source": [
    "import numpy as np\n",
    "import matplotlib.pyplot as plt\n",
    "\n",
    "from rashomon.tva import enumerate_policies\n",
    "from rashomon.extract_pools import extract_pools\n",
    "from rashomon import count_pools# import num_admissible_poolings, num_pools\n",
    "\n",
    "# %matplotlib inline"
   ]
  },
  {
   "cell_type": "markdown",
   "id": "610c2a0d",
   "metadata": {},
   "source": [
    "### Function to pool based on $\\Sigma$ matrix"
   ]
  },
  {
   "cell_type": "code",
   "execution_count": 39,
   "id": "384b5956",
   "metadata": {},
   "outputs": [
    {
     "name": "stdout",
     "output_type": "stream",
     "text": [
      "0 : [0, 4, 8]\n",
      "1 : [1, 2, 3, 5, 6, 7, 9, 10, 11]\n",
      "2 : [12]\n",
      "3 : [13, 14, 15]\n"
     ]
    }
   ],
   "source": [
    "sigma = np.array([[1, 1, 0],\n",
    "                  [0, 1, 1]], dtype='float64')\n",
    "\n",
    "M, n = sigma.shape\n",
    "R = n + 2\n",
    "\n",
    "num_policies = (R-1)**M\n",
    "policies = enumerate_policies(M, R)\n",
    "pi_pools, pi_policies = extract_pools(policies, sigma)\n",
    "\n",
    "for pool_id, pool in pi_pools.items():\n",
    "    print(pool_id, \":\", pool)"
   ]
  },
  {
   "cell_type": "code",
   "execution_count": null,
   "id": "855da8e8",
   "metadata": {},
   "outputs": [],
   "source": []
  },
  {
   "cell_type": "markdown",
   "id": "3751d3a0-9f2a-430b-88ec-a636c3f58f3d",
   "metadata": {},
   "source": [
    "### Generate data"
   ]
  },
  {
   "cell_type": "code",
   "execution_count": 4,
   "id": "314fe15c",
   "metadata": {},
   "outputs": [],
   "source": [
    "np.random.seed(3)\n",
    "\n",
    "num_pools = len(pi_pools)\n",
    "mu = np.random.uniform(0, 4, size=num_pools)\n",
    "var = [1] * num_pools\n",
    "\n",
    "n_per_pol = 10\n",
    "\n",
    "num_data = num_policies * n_per_pol\n",
    "X = np.ndarray(shape=(num_data, M))\n",
    "D = np.ndarray(shape=(num_data, 1), dtype='int_')\n",
    "y = np.ndarray(shape=(num_data, 1))\n",
    "\n",
    "for idx, policy in enumerate(policies):\n",
    "    pool_i = pi_policies[idx]\n",
    "    mu_i = mu[pool_i]\n",
    "    var_i = var[pool_i]\n",
    "    y_i = np.random.normal(mu_i, var_i, size=(n_per_pol, 1))\n",
    "\n",
    "    start_idx = idx * n_per_pol\n",
    "    end_idx = (idx + 1) * n_per_pol\n",
    "\n",
    "    X[start_idx:end_idx, ] = policy\n",
    "    D[start_idx:end_idx, ] = idx\n",
    "    y[start_idx:end_idx, ] = y_i\n",
    "    "
   ]
  },
  {
   "cell_type": "code",
   "execution_count": null,
   "id": "9bb9997e-1bd4-451b-92cd-7ab52fb57906",
   "metadata": {},
   "outputs": [],
   "source": []
  },
  {
   "cell_type": "code",
   "execution_count": null,
   "id": "9e88bfaf-7906-4731-abc4-51cef8c38c93",
   "metadata": {},
   "outputs": [],
   "source": []
  },
  {
   "cell_type": "markdown",
   "id": "76be882c",
   "metadata": {},
   "source": [
    "### Function to compute Q"
   ]
  },
  {
   "cell_type": "code",
   "execution_count": 5,
   "id": "5746021d-ae52-4021-a6fb-88dd6942896a",
   "metadata": {},
   "outputs": [],
   "source": [
    "def compute_policy_means(D, y, num_policies):\n",
    "    \"\"\"\n",
    "    Returns: policy_means\n",
    "    policy_means is a np.ndarray of size (num_policies,2)\n",
    "    policy_means[i, 0] = sum of all y where D[i,0] = i\n",
    "    policy_means[i, 1] = count of where D[i,0] = i\n",
    "    \"\"\"\n",
    "    policy_means = np.ndarray(shape=(num_policies, 2))\n",
    "    for policy_id in range(num_policies):\n",
    "        idx = np.where(D == policy_id)\n",
    "        policy_means[policy_id, 0] = np.sum(y[idx])\n",
    "        policy_means[policy_id, 1] = len(idx[0])\n",
    "    return policy_means\n",
    "\n",
    "def compute_pool_means(policy_means, pi_pools):\n",
    "    \"\"\"\n",
    "    Returns: mu_pools\n",
    "    mu_pools is a np.ndarray of size (H,) where H is the number of pools\n",
    "    mu_pools[i] = mean value in pool i\n",
    "    \"\"\"\n",
    "    H = len(pi_pools.keys())\n",
    "    mu_pools_temp = np.ndarray(shape=(H, 2))\n",
    "    for pool_id, pool in pi_pools.items():\n",
    "        policy_subset = policy_means[pool, :]\n",
    "        mu_pools_temp[pool_id, :] = np.sum(policy_subset, axis=0)\n",
    "    mu_pools = np.float64(mu_pools_temp[:, 0]) / mu_pools_temp[:, 1]\n",
    "    return mu_pools\n",
    "\n",
    "\n",
    "def compute_Q(D, y, mu_pools, pi_policies, reg=1):\n",
    "    \"\"\"\n",
    "    Compute the loss Q\n",
    "    \"\"\"\n",
    "    \n",
    "    H = mu_pools.shape[0]\n",
    "\n",
    "    D_pool = [pi_policies[pol_id] for pol_id in D[:,0]]\n",
    "    mu_D = mu_pools[D_pool]\n",
    "    sqrd_diff = (y[:, 0] - mu_D)**2\n",
    "    \n",
    "    Q = np.mean(sqrd_diff) + reg*H\n",
    "    \n",
    "    return Q"
   ]
  },
  {
   "cell_type": "code",
   "execution_count": 6,
   "id": "a892aa68",
   "metadata": {},
   "outputs": [
    {
     "name": "stdout",
     "output_type": "stream",
     "text": [
      "4.895456436046057\n"
     ]
    }
   ],
   "source": [
    "# This function needs to called only once\n",
    "policy_means = compute_policy_means(D, y, num_policies)\n",
    "\n",
    "# This function needs to be called every time the pools change\n",
    "mu_pools = compute_pool_means(policy_means, pi_pools)\n",
    "\n",
    "# This function needs to be called every time the pools change\n",
    "Q = compute_Q(D, y, mu_pools, pi_policies, 1)\n",
    "\n",
    "print(Q)"
   ]
  },
  {
   "cell_type": "code",
   "execution_count": null,
   "id": "29712a25",
   "metadata": {},
   "outputs": [],
   "source": []
  },
  {
   "cell_type": "code",
   "execution_count": null,
   "id": "f3040a1f-63a1-4807-94fa-08e4afe24c3d",
   "metadata": {},
   "outputs": [],
   "source": []
  },
  {
   "cell_type": "markdown",
   "id": "1be7da67",
   "metadata": {},
   "source": [
    "### Function to compute B"
   ]
  },
  {
   "cell_type": "code",
   "execution_count": 95,
   "id": "67197612-873b-424d-8ca9-41b10b3cd952",
   "metadata": {},
   "outputs": [],
   "source": [
    "def partition_sigma(sigma, i, j):\n",
    "    \"\"\"\n",
    "    Maximally split policies in arm i starting at dosage j\n",
    "    All other existing splits are maintained\n",
    "    \"\"\"\n",
    "    sigma_fix = np.copy(sigma)\n",
    "    sigma_fix[i, j:] = 0\n",
    "    return sigma_fix\n",
    "\n",
    "\n",
    "def compute_B(D, y, sigma, i, j, policies, policy_means, reg=1):\n",
    "    \"\"\"\n",
    "    The B function in Theorem 6.3 \\ref{thm:rashomon-equivalent-bound}\n",
    "    \"\"\"\n",
    "\n",
    "    # Split maximally in arm i from dosage j\n",
    "    sigma_fix = partition_sigma(sigma, i, j)\n",
    "    pi_fixed_pools, pi_fixed_policies = extract_pools(policies, sigma_fix)\n",
    "\n",
    "    # Compute squared loss for this maximal split\n",
    "    # This loss is B minus the regularization term\n",
    "    mu_fixed_pools = compute_pool_means(policy_means, pi_fixed_pools)\n",
    "    D_pool = [pi_fixed_policies[pol_id] for pol_id in D[:,0]]\n",
    "    mu_D = mu_fixed_pools[D_pool]\n",
    "    sqrd_diff = (y[:, 0] - mu_D)**2\n",
    "    \n",
    "    B = np.mean(sqrd_diff)\n",
    "\n",
    "    # The least number of pools\n",
    "    # The number of pools when the splittable policies are pooled maximally\n",
    "    sigma_fix[i, (j+1):] = 1\n",
    "    H = count_pools.num_pools(sigma_fix)\n",
    "\n",
    "    B += reg*H\n",
    "    \n",
    "    return B"
   ]
  },
  {
   "cell_type": "code",
   "execution_count": 106,
   "id": "edc3aa82-8543-480c-80fd-b2214aab0e64",
   "metadata": {},
   "outputs": [
    {
     "name": "stdout",
     "output_type": "stream",
     "text": [
      "4.859163572719872\n"
     ]
    }
   ],
   "source": [
    "i = 0\n",
    "j = 0\n",
    "\n",
    "B = compute_B(D, y, sigma, i, j, policies, policy_means, 1)\n",
    "print(B)"
   ]
  },
  {
   "cell_type": "code",
   "execution_count": 65,
   "id": "c7935848-b31b-4bf3-9c95-216dc8f61436",
   "metadata": {},
   "outputs": [],
   "source": []
  },
  {
   "cell_type": "code",
   "execution_count": null,
   "id": "08d31613-4d5e-45b0-9062-a0af05fe0116",
   "metadata": {},
   "outputs": [],
   "source": []
  },
  {
   "cell_type": "code",
   "execution_count": null,
   "id": "6a4c0832-b790-47d5-a271-55efd75f0285",
   "metadata": {},
   "outputs": [],
   "source": []
  },
  {
   "cell_type": "code",
   "execution_count": null,
   "id": "3517d9e1-6542-44c8-aa21-535b7d3f2af3",
   "metadata": {},
   "outputs": [],
   "source": []
  }
 ],
 "metadata": {
  "kernelspec": {
   "display_name": "Python (rashomon-tva)",
   "language": "python",
   "name": "rashomon-tva"
  },
  "language_info": {
   "codemirror_mode": {
    "name": "ipython",
    "version": 3
   },
   "file_extension": ".py",
   "mimetype": "text/x-python",
   "name": "python",
   "nbconvert_exporter": "python",
   "pygments_lexer": "ipython3",
   "version": "3.11.3"
  }
 },
 "nbformat": 4,
 "nbformat_minor": 5
}
