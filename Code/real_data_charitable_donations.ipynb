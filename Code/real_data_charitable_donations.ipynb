{
 "cells": [
  {
   "cell_type": "code",
   "execution_count": 78,
   "id": "9a31ac6a-c651-4511-b6f8-3c0d103461ea",
   "metadata": {},
   "outputs": [],
   "source": [
    "import numpy as np\n",
    "import pandas as pd\n",
    "import matplotlib.pyplot as plt\n",
    "\n",
    "from copy import deepcopy\n",
    "from matplotlib import colors\n",
    "from sklearn.metrics import mean_squared_error\n",
    "\n",
    "%matplotlib inline"
   ]
  },
  {
   "cell_type": "markdown",
   "id": "2a6c23d9-746c-4367-ba3e-5b8c87c1fd8e",
   "metadata": {},
   "source": [
    "# Data processing\n",
    "\n",
    "### Read data"
   ]
  },
  {
   "cell_type": "code",
   "execution_count": 2,
   "id": "90f8644a-0ac3-4199-859a-807da152886c",
   "metadata": {},
   "outputs": [
    {
     "name": "stdout",
     "output_type": "stream",
     "text": [
      "Index(['treatment', 'control', 'ratio', 'ratio2', 'ratio3', 'size', 'size25',\n",
      "       'size50', 'size100', 'sizeno', 'ask', 'askd1', 'askd2', 'askd3', 'ask1',\n",
      "       'ask2', 'ask3', 'amount', 'gave', 'amountchange', 'hpa', 'ltmedmra',\n",
      "       'freq', 'years', 'year5', 'mrm2', 'dormant', 'female', 'couple',\n",
      "       'state50one', 'nonlit', 'cases', 'statecnt', 'stateresponse',\n",
      "       'stateresponset', 'stateresponsec', 'stateresponsetminc', 'perbush',\n",
      "       'close25', 'red0', 'blue0', 'redcty', 'bluecty', 'pwhite', 'pblack',\n",
      "       'page18_39', 'ave_hh_sz', 'median_hhincome', 'powner', 'psch_atlstba',\n",
      "       'pop_propurban'],\n",
      "      dtype='object')\n"
     ]
    },
    {
     "data": {
      "text/html": [
       "<div>\n",
       "<style scoped>\n",
       "    .dataframe tbody tr th:only-of-type {\n",
       "        vertical-align: middle;\n",
       "    }\n",
       "\n",
       "    .dataframe tbody tr th {\n",
       "        vertical-align: top;\n",
       "    }\n",
       "\n",
       "    .dataframe thead th {\n",
       "        text-align: right;\n",
       "    }\n",
       "</style>\n",
       "<table border=\"1\" class=\"dataframe\">\n",
       "  <thead>\n",
       "    <tr style=\"text-align: right;\">\n",
       "      <th></th>\n",
       "      <th>treatment</th>\n",
       "      <th>control</th>\n",
       "      <th>ratio</th>\n",
       "      <th>size</th>\n",
       "      <th>ask</th>\n",
       "      <th>amount</th>\n",
       "      <th>gave</th>\n",
       "      <th>amountchange</th>\n",
       "      <th>red0</th>\n",
       "    </tr>\n",
       "  </thead>\n",
       "  <tbody>\n",
       "    <tr>\n",
       "      <th>0</th>\n",
       "      <td>0</td>\n",
       "      <td>1</td>\n",
       "      <td>Control</td>\n",
       "      <td>Control</td>\n",
       "      <td>Control</td>\n",
       "      <td>0.0</td>\n",
       "      <td>0</td>\n",
       "      <td>-45.0</td>\n",
       "      <td>0.0</td>\n",
       "    </tr>\n",
       "    <tr>\n",
       "      <th>1</th>\n",
       "      <td>0</td>\n",
       "      <td>1</td>\n",
       "      <td>Control</td>\n",
       "      <td>Control</td>\n",
       "      <td>Control</td>\n",
       "      <td>0.0</td>\n",
       "      <td>0</td>\n",
       "      <td>-25.0</td>\n",
       "      <td>0.0</td>\n",
       "    </tr>\n",
       "    <tr>\n",
       "      <th>2</th>\n",
       "      <td>1</td>\n",
       "      <td>0</td>\n",
       "      <td>1</td>\n",
       "      <td>$100,000</td>\n",
       "      <td>1x</td>\n",
       "      <td>0.0</td>\n",
       "      <td>0</td>\n",
       "      <td>-50.0</td>\n",
       "      <td>0.0</td>\n",
       "    </tr>\n",
       "    <tr>\n",
       "      <th>3</th>\n",
       "      <td>1</td>\n",
       "      <td>0</td>\n",
       "      <td>1</td>\n",
       "      <td>Unstated</td>\n",
       "      <td>1x</td>\n",
       "      <td>0.0</td>\n",
       "      <td>0</td>\n",
       "      <td>-25.0</td>\n",
       "      <td>0.0</td>\n",
       "    </tr>\n",
       "    <tr>\n",
       "      <th>4</th>\n",
       "      <td>1</td>\n",
       "      <td>0</td>\n",
       "      <td>1</td>\n",
       "      <td>$50,000</td>\n",
       "      <td>1x</td>\n",
       "      <td>0.0</td>\n",
       "      <td>0</td>\n",
       "      <td>-15.0</td>\n",
       "      <td>1.0</td>\n",
       "    </tr>\n",
       "  </tbody>\n",
       "</table>\n",
       "</div>"
      ],
      "text/plain": [
       "   treatment  control    ratio      size      ask  amount  gave  amountchange  \\\n",
       "0          0        1  Control   Control  Control     0.0     0         -45.0   \n",
       "1          0        1  Control   Control  Control     0.0     0         -25.0   \n",
       "2          1        0        1  $100,000       1x     0.0     0         -50.0   \n",
       "3          1        0        1  Unstated       1x     0.0     0         -25.0   \n",
       "4          1        0        1   $50,000       1x     0.0     0         -15.0   \n",
       "\n",
       "   red0  \n",
       "0   0.0  \n",
       "1   0.0  \n",
       "2   0.0  \n",
       "3   0.0  \n",
       "4   1.0  "
      ]
     },
     "execution_count": 2,
     "metadata": {},
     "output_type": "execute_result"
    }
   ],
   "source": [
    "dta_fname = \"../Data/Does_Price_Matter_AER_merged.dta\"\n",
    "\n",
    "raw_df = pd.read_stata(dta_fname)\n",
    "colnames = raw_df.columns\n",
    "print(colnames)\n",
    "\n",
    "cols_to_keep = [\n",
    "                'treatment', 'control',\n",
    "                'ratio',\n",
    "                # 'ratio2', 'ratio3',\n",
    "                'size',\n",
    "                # 'size25', 'size50', 'size100', 'sizeno',\n",
    "                'ask',\n",
    "                # 'ask1', 'ask2', 'ask3',\n",
    "                # 'askd1', 'askd2', 'askd3',\n",
    "                'amount', 'gave', 'amountchange',\n",
    "                'red0'#, 'blue0'\n",
    "               ]\n",
    "df = raw_df[cols_to_keep]\n",
    "\n",
    "df.head()"
   ]
  },
  {
   "cell_type": "markdown",
   "id": "191178e4-78d2-462c-8de7-45fce6d85a28",
   "metadata": {},
   "source": [
    "### Remove control"
   ]
  },
  {
   "cell_type": "code",
   "execution_count": 3,
   "id": "6066b7aa-e881-4a88-bd7d-a79e413a9aa2",
   "metadata": {},
   "outputs": [],
   "source": [
    "# avg_control = np.mean(df[df[\"control\"] == 1][\"amountchange\"])\n",
    "# df_treatment = df[df[\"treatment\"] == 1]\n",
    "# df_treatment.loc[:, \"amountchange\"] = df_treatment.loc[:, \"amountchange\"] - avg_control\n",
    "df_treatment = deepcopy(df)\n",
    "df_treatment = df_treatment.dropna()"
   ]
  },
  {
   "cell_type": "markdown",
   "id": "785a3dcf-b4c4-4b58-b524-a210cf1bde80",
   "metadata": {},
   "source": [
    "### Process data"
   ]
  },
  {
   "cell_type": "code",
   "execution_count": 4,
   "id": "95e97238-44a4-4976-a9bb-95b134929044",
   "metadata": {},
   "outputs": [
    {
     "data": {
      "text/html": [
       "<div>\n",
       "<style scoped>\n",
       "    .dataframe tbody tr th:only-of-type {\n",
       "        vertical-align: middle;\n",
       "    }\n",
       "\n",
       "    .dataframe tbody tr th {\n",
       "        vertical-align: top;\n",
       "    }\n",
       "\n",
       "    .dataframe thead th {\n",
       "        text-align: right;\n",
       "    }\n",
       "</style>\n",
       "<table border=\"1\" class=\"dataframe\">\n",
       "  <thead>\n",
       "    <tr style=\"text-align: right;\">\n",
       "      <th></th>\n",
       "      <th>ratio</th>\n",
       "      <th>size</th>\n",
       "      <th>ask</th>\n",
       "      <th>amount</th>\n",
       "      <th>gave</th>\n",
       "      <th>amountchange</th>\n",
       "      <th>red0</th>\n",
       "    </tr>\n",
       "  </thead>\n",
       "  <tbody>\n",
       "    <tr>\n",
       "      <th>0</th>\n",
       "      <td>0</td>\n",
       "      <td>0</td>\n",
       "      <td>0</td>\n",
       "      <td>0.0</td>\n",
       "      <td>0</td>\n",
       "      <td>-45.0</td>\n",
       "      <td>1</td>\n",
       "    </tr>\n",
       "    <tr>\n",
       "      <th>1</th>\n",
       "      <td>0</td>\n",
       "      <td>0</td>\n",
       "      <td>0</td>\n",
       "      <td>0.0</td>\n",
       "      <td>0</td>\n",
       "      <td>-25.0</td>\n",
       "      <td>1</td>\n",
       "    </tr>\n",
       "    <tr>\n",
       "      <th>2</th>\n",
       "      <td>1</td>\n",
       "      <td>3</td>\n",
       "      <td>1</td>\n",
       "      <td>0.0</td>\n",
       "      <td>0</td>\n",
       "      <td>-50.0</td>\n",
       "      <td>1</td>\n",
       "    </tr>\n",
       "    <tr>\n",
       "      <th>3</th>\n",
       "      <td>1</td>\n",
       "      <td>4</td>\n",
       "      <td>1</td>\n",
       "      <td>0.0</td>\n",
       "      <td>0</td>\n",
       "      <td>-25.0</td>\n",
       "      <td>1</td>\n",
       "    </tr>\n",
       "    <tr>\n",
       "      <th>4</th>\n",
       "      <td>1</td>\n",
       "      <td>2</td>\n",
       "      <td>1</td>\n",
       "      <td>0.0</td>\n",
       "      <td>0</td>\n",
       "      <td>-15.0</td>\n",
       "      <td>2</td>\n",
       "    </tr>\n",
       "  </tbody>\n",
       "</table>\n",
       "</div>"
      ],
      "text/plain": [
       "   ratio  size  ask  amount  gave  amountchange  red0\n",
       "0      0     0    0     0.0     0         -45.0     1\n",
       "1      0     0    0     0.0     0         -25.0     1\n",
       "2      1     3    1     0.0     0         -50.0     1\n",
       "3      1     4    1     0.0     0         -25.0     1\n",
       "4      1     2    1     0.0     0         -15.0     2"
      ]
     },
     "execution_count": 4,
     "metadata": {},
     "output_type": "execute_result"
    }
   ],
   "source": [
    "ratio_map = {\"Control\": 0, 1: 1, 2: 2, 3: 3}\n",
    "size_map = {\"Control\": 0, \"$25,000\": 1, \"$50,000\": 2, \"$100,000\": 3, \"Unstated\": 4}\n",
    "ask_map = {\"Control\": 0, \"1x\": 1, \"1.25x\": 2, \"1.50x\": 3}\n",
    "redblue_map = {0: 1, 1:2, np.nan: 0}\n",
    "\n",
    "df_treatment.loc[:, \"ratio\"] = df_treatment.loc[:, \"ratio\"].map(ratio_map)\n",
    "df_treatment.loc[:, \"size\"] = df_treatment.loc[:, \"size\"].map(size_map)\n",
    "df_treatment.loc[:, \"ask\"] = df_treatment.loc[:, \"ask\"].map(ask_map)\n",
    "df_treatment.loc[:, \"red0\"] = df_treatment.loc[:, \"red0\"].map(redblue_map)\n",
    "df_treatment = df_treatment.astype({\n",
    "    \"ratio\": np.int64, \"size\": np.int64, \"ask\": np.int64, \"red0\": np.int64})\n",
    "\n",
    "df_treatment = df_treatment.drop([\"treatment\", \"control\"], axis=1)\n",
    "\n",
    "df_treatment.head()"
   ]
  },
  {
   "cell_type": "code",
   "execution_count": 5,
   "id": "43102646-56f2-4be6-91a2-4268d533474f",
   "metadata": {},
   "outputs": [],
   "source": [
    "Z = df_treatment.to_numpy()\n",
    "X = Z[:, [0, 1, 2, 6]] #- 1\n",
    "y = Z[:, 3] / 100 # (np.max(y) - np.min(y))\n",
    "y = y.reshape((-1, 1))\n",
    "\n",
    "num_data = X.shape[0]"
   ]
  },
  {
   "cell_type": "code",
   "execution_count": null,
   "id": "05715cc0-04f4-494d-bbde-b97bc7dc229d",
   "metadata": {},
   "outputs": [],
   "source": []
  },
  {
   "cell_type": "markdown",
   "id": "37301529-37cc-417b-a820-94acf335b7da",
   "metadata": {},
   "source": [
    "# Analysis\n",
    "\n",
    "### Rashomon"
   ]
  },
  {
   "cell_type": "code",
   "execution_count": 6,
   "id": "dd394eec-c783-4949-8349-f2aa89800900",
   "metadata": {},
   "outputs": [],
   "source": [
    "from rashomon import tva\n",
    "from rashomon import loss\n",
    "from rashomon import counter\n",
    "from rashomon import metrics\n",
    "from rashomon import extract_pools\n",
    "from rashomon.aggregate import RAggregate_profile, RAggregate\n",
    "from rashomon.sets import RashomonSet, RashomonProblemCache, RashomonSubproblemCache\n",
    "\n",
    "\n",
    "%load_ext autoreload\n",
    "%autoreload 2"
   ]
  },
  {
   "cell_type": "code",
   "execution_count": 7,
   "id": "4069b0bb-1dc6-4068-bf84-bf9c38c6003c",
   "metadata": {},
   "outputs": [],
   "source": [
    "def print_pools(R_set, rashomon_profiles, idx, profiles, policies_mask, all_policies=None,\n",
    "               policy_means=None):\n",
    "    r_set = R_set[idx]\n",
    "    \n",
    "    pi_policies_profiles_r = {}\n",
    "    for k, profile in enumerate(profiles):\n",
    "        if rashomon_profiles[k].sigma[r_set[k]] is None and rashomon_profiles[k].Q[r_set[k]] == 0:\n",
    "            pi_policies_r_k = {i: None for i in range(len(policies_mask[k]))}\n",
    "            pass\n",
    "        else:\n",
    "            _, pi_policies_r_k = extract_pools.extract_pools(\n",
    "                policies_profiles_masked[k],\n",
    "                rashomon_profiles[k].sigma[r_set[k]]\n",
    "            )\n",
    "        pi_policies_profiles_r[k] = pi_policies_r_k\n",
    "    \n",
    "    pi_pools_r, pi_policies_r = extract_pools.aggregate_pools(pi_policies_profiles_r, policies_ids_profiles)\n",
    "    if policy_means is not None:\n",
    "        pool_means_r = loss.compute_pool_means(policy_means, pi_pools_r)\n",
    "    else:\n",
    "        pool_means_r = None\n",
    "    \n",
    "    for k, v in pi_pools_r.items():\n",
    "        if all_policies is not None:\n",
    "            print(k, \":\", [all_policies[x] for x in v])\n",
    "        else:\n",
    "            print(k, \":\", v)\n",
    "        if pool_means_r is not None:\n",
    "            print(pool_means_r[k])"
   ]
  },
  {
   "cell_type": "markdown",
   "id": "78139835-aee3-4e72-b015-c331dff818a2",
   "metadata": {},
   "source": [
    "Setup the policy and profile list"
   ]
  },
  {
   "cell_type": "code",
   "execution_count": 8,
   "id": "86930feb-bda8-4ac6-a448-867878c7cab9",
   "metadata": {},
   "outputs": [],
   "source": [
    "M = 4\n",
    "# R = np.array([3, 4, 3])\n",
    "R = np.array([4, 5, 4, 3])\n",
    "\n",
    "num_profiles = 2**M\n",
    "profiles, profile_map = tva.enumerate_profiles(M)\n",
    "\n",
    "all_policies = tva.enumerate_policies(M, R)\n",
    "num_policies = len(all_policies)"
   ]
  },
  {
   "cell_type": "code",
   "execution_count": 9,
   "id": "a2df6162-4b95-40f2-994a-45e1074f75d1",
   "metadata": {},
   "outputs": [],
   "source": [
    "policies_profiles = {}\n",
    "policies_profiles_masked = {}\n",
    "policies_ids_profiles = {}\n",
    "for k, profile in enumerate(profiles):\n",
    "\n",
    "    policies_temp = [(i, x) for i, x in enumerate(all_policies) if tva.policy_to_profile(x) == profile]\n",
    "    unzipped_temp = list(zip(*policies_temp))\n",
    "    policies_ids_k = list(unzipped_temp[0])\n",
    "    policies_k = list(unzipped_temp[1])\n",
    "    policies_profiles[k] = deepcopy(policies_k)\n",
    "    policies_ids_profiles[k] = policies_ids_k\n",
    "\n",
    "    profile_mask = list(map(bool, profile))\n",
    "\n",
    "    # Mask the empty arms\n",
    "    for idx, pol in enumerate(policies_k):\n",
    "        policies_k[idx] = tuple([pol[i] for i in range(M) if profile_mask[i]])\n",
    "    policies_profiles_masked[k] = policies_k"
   ]
  },
  {
   "cell_type": "code",
   "execution_count": null,
   "id": "97ed3dd8-894b-4bc4-85a6-68df7e0f0278",
   "metadata": {},
   "outputs": [],
   "source": []
  },
  {
   "cell_type": "markdown",
   "id": "f8c72d5f-a3a1-4842-9c1d-44600a99a768",
   "metadata": {},
   "source": [
    "Setup the data and compute policy-wise means"
   ]
  },
  {
   "cell_type": "code",
   "execution_count": 10,
   "id": "67238000-6ba2-455b-a05c-22a519d2ed6f",
   "metadata": {},
   "outputs": [],
   "source": [
    "D = np.zeros(shape=y.shape, dtype=np.int64)\n",
    "profiles_in_data = []\n",
    "for i in range(num_data):\n",
    "    policy_i = tuple([int(x) for x in X[i, :]])\n",
    "    policy_idx = [idx for idx in range(num_policies) if all_policies[idx] == policy_i]\n",
    "    profiles_in_data.append(tva.policy_to_profile(policy_i))\n",
    "    D[i, 0] = int(policy_idx[0])\n",
    "\n",
    "policy_means = loss.compute_policy_means(D, y, num_policies)"
   ]
  },
  {
   "cell_type": "code",
   "execution_count": 11,
   "id": "29f04a8d-c411-44fb-8f66-f794995b5249",
   "metadata": {},
   "outputs": [
    {
     "name": "stdout",
     "output_type": "stream",
     "text": [
      "0.022086720867208667\n"
     ]
    },
    {
     "data": {
      "text/plain": [
       "(array([143]),)"
      ]
     },
     "execution_count": 11,
     "metadata": {},
     "output_type": "execute_result"
    }
   ],
   "source": [
    "nodata_idx = np.where(policy_means[:, 1] == 0)[0]\n",
    "policy_means[nodata_idx, 0] = -np.inf\n",
    "policy_means[nodata_idx, 1] = 1\n",
    "mu_policies = policy_means[:, 0] / policy_means[:, 1]\n",
    "\n",
    "true_best_eff = np.max(mu_policies)\n",
    "print(true_best_eff)\n",
    "np.where(mu_policies == true_best_eff)"
   ]
  },
  {
   "cell_type": "code",
   "execution_count": null,
   "id": "bfc00509-ec31-48a7-9ee1-81a29bebb8eb",
   "metadata": {},
   "outputs": [],
   "source": []
  },
  {
   "cell_type": "code",
   "execution_count": null,
   "id": "7ada5395-22bc-44bb-bfd3-875053d770d9",
   "metadata": {},
   "outputs": [],
   "source": []
  },
  {
   "cell_type": "code",
   "execution_count": null,
   "id": "a26fec9e-8898-4176-ae25-4de6cc34bd53",
   "metadata": {},
   "outputs": [],
   "source": []
  },
  {
   "cell_type": "code",
   "execution_count": null,
   "id": "c1176842-0688-4b9d-b420-da7d2706c7fa",
   "metadata": {},
   "outputs": [],
   "source": []
  },
  {
   "cell_type": "markdown",
   "id": "e1058072-c36a-46d6-8c70-4abaeb35c6f7",
   "metadata": {},
   "source": [
    "Run the Rashomon set"
   ]
  },
  {
   "cell_type": "code",
   "execution_count": 12,
   "id": "48e18386-309e-4b9e-ac4f-abab23dc1048",
   "metadata": {},
   "outputs": [
    {
     "name": "stdout",
     "output_type": "stream",
     "text": [
      "123\n"
     ]
    }
   ],
   "source": [
    "reg = 1e-7\n",
    "R_set, rashomon_profiles = RAggregate(M, R, 400, D, y, 0.0075579, reg=reg)\n",
    "\n",
    "print(len(R_set))"
   ]
  },
  {
   "cell_type": "code",
   "execution_count": 13,
   "id": "187f2dc6-c54a-48ad-9087-1ae1ae1a0355",
   "metadata": {},
   "outputs": [
    {
     "name": "stdout",
     "output_type": "stream",
     "text": [
      "0.007556826954565279 (2, 1, 3, 2) 38\n",
      "Best model loss 0.007556826954565279 and best policy (2, 1, 3, 2)\n"
     ]
    }
   ],
   "source": [
    "best_profile_counter = np.zeros(shape=(num_profiles,))\n",
    "\n",
    "all_losses = []\n",
    "\n",
    "best_loss = np.inf\n",
    "best_policy_o = None\n",
    "\n",
    "for r_set in R_set:\n",
    "    pi_policies_profiles_r = {}\n",
    "\n",
    "    for k, profile in enumerate(profiles):\n",
    "        if rashomon_profiles[k].sigma[r_set[k]] is None and rashomon_profiles[k].Q[r_set[k]] == 0:\n",
    "            pi_policies_r_k = {i: None for i in range(len(policies_profiles_masked[k]))}\n",
    "            pass\n",
    "        else:\n",
    "            _, pi_policies_r_k = extract_pools.extract_pools(\n",
    "                policies_profiles_masked[k],\n",
    "                rashomon_profiles[k].sigma[r_set[k]]\n",
    "            )\n",
    "        pi_policies_profiles_r[k] = pi_policies_r_k\n",
    "    \n",
    "    pi_pools_r, pi_policies_r = extract_pools.aggregate_pools(pi_policies_profiles_r, policies_ids_profiles)\n",
    "    pool_means_r = loss.compute_pool_means(policy_means, pi_pools_r)\n",
    "    \n",
    "    y_pred = metrics.make_predictions(D, pi_policies_r, pool_means_r)\n",
    "\n",
    "    this_loss = mean_squared_error(y, y_pred) + reg * len(pi_pools_r)\n",
    "    all_losses.append((this_loss, mean_squared_error(y, y_pred), len(pi_pools_r), np.nanmax(pool_means_r)))\n",
    "    \n",
    "    # best_pools = np.argwhere(pool_means_r == np.max(pool_means_r))[0]\n",
    "    best_pools = np.argwhere(pool_means_r == np.nanmax(pool_means_r))[0]\n",
    "    # print(np.max(pool_means_r))\n",
    "\n",
    "    for best_pool in best_pools:\n",
    "        best_policy_id = pi_pools_r[best_pool][0]\n",
    "        best_policy = all_policies[best_policy_id]\n",
    "        best_profile = tva.policy_to_profile(best_policy)\n",
    "        profile_id = profile_map[best_profile]\n",
    "\n",
    "        best_profile_counter[profile_id] += 1\n",
    "        \n",
    "        if this_loss < best_loss:\n",
    "            best_loss = this_loss\n",
    "            best_policy_o = best_policy\n",
    "            print(best_loss, best_policy, len(pi_pools_r))\n",
    "            # for k, v in pi_pools_r.items():\n",
    "            #     print(k, \":\", [all_policies[x] for x in v], v)\n",
    "            #     print(pool_means_r[k])\n",
    "            # print(\"---\")\n",
    "\n",
    "best_profile_freq = best_profile_counter / np.sum(best_profile_counter)\n",
    "\n",
    "print(f\"Best model loss {best_loss} and best policy {best_policy_o}\")"
   ]
  },
  {
   "cell_type": "code",
   "execution_count": 15,
   "id": "0f1aadcc-8fef-4e7e-9d63-39bb5f60854b",
   "metadata": {},
   "outputs": [
    {
     "name": "stdout",
     "output_type": "stream",
     "text": [
      "10: 7.55648e-03 (7.55748e-03) & 5.315e-05\n",
      "8: 7.55688e-03 (7.55768e-03) & 7.720e-05\n",
      "10: 7.55670e-03 (7.55770e-03) & 7.438e-05\n",
      "10: 7.55673e-03 (7.55773e-03) & 3.285e-05\n",
      "10: 7.55686e-03 (7.55786e-03) & 5.680e-05\n",
      "10: 7.55688e-03 (7.55788e-03) & 7.720e-05\n",
      "9: 7.55683e-03 (7.55773e-03) & 5.315e-05\n"
     ]
    }
   ],
   "source": [
    "for loss_i, mse_i, size_i, best_eff_i in all_losses:\n",
    "    sqrd_err_best_pol_i = (best_eff_i - true_best_eff)**2\n",
    "    print(f\"{size_i}: {mse_i:.5e} ({loss_i:.5e}) & {sqrd_err_best_pol_i:.3e}\")"
   ]
  },
  {
   "cell_type": "code",
   "execution_count": 22,
   "id": "495b3966-b9b2-43c2-949d-98b5bae6b16c",
   "metadata": {},
   "outputs": [
    {
     "name": "stdout",
     "output_type": "stream",
     "text": [
      "0 : [(0, 0, 0, 1)]\n",
      "0.008974972579519394\n",
      "1 : [(0, 0, 0, 2)]\n",
      "0.00687424789410349\n",
      "2 : [(1, 1, 1, 1), (1, 1, 2, 1), (1, 1, 3, 1)]\n",
      "0.005685459940652819\n",
      "3 : [(1, 1, 1, 2), (1, 1, 2, 2), (1, 1, 3, 2)]\n",
      "0.010282588878760256\n",
      "4 : [(1, 2, 1, 1), (1, 2, 2, 1), (1, 2, 3, 1), (1, 3, 1, 1), (1, 3, 2, 1), (1, 3, 3, 1), (1, 4, 1, 1), (1, 4, 2, 1), (1, 4, 3, 1)]\n",
      "0.009925237421701354\n",
      "5 : [(1, 2, 1, 2), (1, 2, 2, 2), (1, 2, 3, 2), (1, 3, 1, 2), (1, 3, 2, 2), (1, 3, 3, 2), (1, 4, 1, 2), (1, 4, 2, 2), (1, 4, 3, 2)]\n",
      "0.009740642499263189\n",
      "6 : [(2, 1, 1, 1), (2, 1, 2, 1), (2, 1, 3, 1), (3, 1, 1, 1), (3, 1, 2, 1), (3, 1, 3, 1)]\n",
      "0.010423880597014925\n",
      "7 : [(2, 1, 1, 2), (2, 1, 2, 2), (2, 1, 3, 2), (3, 1, 1, 2), (3, 1, 2, 2), (3, 1, 3, 2)]\n",
      "0.014796564195298375\n",
      "8 : [(2, 2, 1, 1), (2, 2, 2, 1), (2, 2, 3, 1), (2, 3, 1, 1), (2, 3, 2, 1), (2, 3, 3, 1), (2, 4, 1, 1), (2, 4, 2, 1), (2, 4, 3, 1), (3, 2, 1, 1), (3, 2, 2, 1), (3, 2, 3, 1), (3, 3, 1, 1), (3, 3, 2, 1), (3, 3, 3, 1), (3, 4, 1, 1), (3, 4, 2, 1), (3, 4, 3, 1)]\n",
      "0.008513223731236596\n",
      "9 : [(2, 2, 1, 2), (2, 2, 2, 2), (2, 2, 3, 2), (2, 3, 1, 2), (2, 3, 2, 2), (2, 3, 3, 2), (2, 4, 1, 2), (2, 4, 2, 2), (2, 4, 3, 2), (3, 2, 1, 2), (3, 2, 2, 2), (3, 2, 3, 2), (3, 3, 1, 2), (3, 3, 2, 2), (3, 3, 3, 2), (3, 4, 1, 2), (3, 4, 2, 2), (3, 4, 3, 2)]\n",
      "0.009808038306388479\n",
      "---\n",
      "0 : [(0, 0, 0, 1)]\n",
      "0.008974972579519394\n",
      "1 : [(0, 0, 0, 2)]\n",
      "0.00687424789410349\n",
      "2 : [(1, 1, 1, 1), (1, 1, 1, 2), (1, 1, 2, 1), (1, 1, 2, 2)]\n",
      "0.006632543103448275\n",
      "3 : [(1, 1, 3, 1), (1, 1, 3, 2)]\n",
      "0.009233261339092873\n",
      "4 : [(1, 2, 1, 1), (1, 2, 1, 2), (1, 2, 2, 1), (1, 2, 2, 2), (1, 3, 1, 1), (1, 3, 1, 2), (1, 3, 2, 1), (1, 3, 2, 2), (1, 4, 1, 1), (1, 4, 1, 2), (1, 4, 2, 1), (1, 4, 2, 2)]\n",
      "0.01047978436657682\n",
      "5 : [(1, 2, 3, 1), (1, 2, 3, 2), (1, 3, 3, 1), (1, 3, 3, 2), (1, 4, 3, 1), (1, 4, 3, 2)]\n",
      "0.008588404753330933\n",
      "6 : [(2, 1, 1, 1), (2, 1, 1, 2), (2, 1, 2, 1), (2, 1, 2, 2), (3, 1, 1, 1), (3, 1, 1, 2), (3, 1, 2, 1), (3, 1, 2, 2)]\n",
      "0.01096843809009981\n",
      "7 : [(2, 1, 3, 1), (2, 1, 3, 2), (3, 1, 3, 1), (3, 1, 3, 2)]\n",
      "0.01454986522911051\n",
      "8 : [(2, 2, 1, 1), (2, 2, 1, 2), (2, 2, 2, 1), (2, 2, 2, 2), (2, 3, 1, 1), (2, 3, 1, 2), (2, 3, 2, 1), (2, 3, 2, 2), (2, 4, 1, 1), (2, 4, 1, 2), (2, 4, 2, 1), (2, 4, 2, 2), (3, 2, 1, 1), (3, 2, 1, 2), (3, 2, 2, 1), (3, 2, 2, 2), (3, 3, 1, 1), (3, 3, 1, 2), (3, 3, 2, 1), (3, 3, 2, 2), (3, 4, 1, 1), (3, 4, 1, 2), (3, 4, 2, 1), (3, 4, 2, 2)]\n",
      "0.009185724560196817\n",
      "9 : [(2, 2, 3, 1), (2, 2, 3, 2), (2, 3, 3, 1), (2, 3, 3, 2), (2, 4, 3, 1), (2, 4, 3, 2), (3, 2, 3, 1), (3, 2, 3, 2), (3, 3, 3, 1), (3, 3, 3, 2), (3, 4, 3, 1), (3, 4, 3, 2)]\n",
      "0.008772702751303721\n"
     ]
    }
   ],
   "source": [
    "print_pools(R_set, rashomon_profiles, 0, profiles, policies_profiles_masked, all_policies,\n",
    "           policy_means)\n",
    "print(\"---\")\n",
    "print_pools(R_set, rashomon_profiles, 4, profiles, policies_profiles_masked, all_policies,\n",
    "           policy_means)"
   ]
  },
  {
   "cell_type": "code",
   "execution_count": 23,
   "id": "d31121d0-4a9b-4f0e-9331-e9635fbf9753",
   "metadata": {},
   "outputs": [
    {
     "data": {
      "text/plain": [
       "[0, 0, 0, 0, 0, 0, 0, 0, 0, 0, 0, 0, 0, 0, 0, 4]"
      ]
     },
     "execution_count": 23,
     "metadata": {},
     "output_type": "execute_result"
    }
   ],
   "source": [
    "R_set[4]"
   ]
  },
  {
   "cell_type": "code",
   "execution_count": 24,
   "id": "fae5b5e3-94d6-4247-b099-3856dc9bb014",
   "metadata": {},
   "outputs": [
    {
     "data": {
      "text/plain": [
       "array([[ 0.,  1., inf],\n",
       "       [ 0.,  1.,  1.],\n",
       "       [ 1.,  0., inf],\n",
       "       [ 1., inf, inf]])"
      ]
     },
     "execution_count": 24,
     "metadata": {},
     "output_type": "execute_result"
    }
   ],
   "source": [
    "rashomon_profiles[-1].sigma[4]"
   ]
  },
  {
   "cell_type": "code",
   "execution_count": null,
   "id": "24e60ee4-c562-4c2e-9189-08ae075675c5",
   "metadata": {},
   "outputs": [],
   "source": []
  },
  {
   "cell_type": "code",
   "execution_count": null,
   "id": "87795c54-858c-4f44-9d5e-d762162df972",
   "metadata": {},
   "outputs": [],
   "source": []
  },
  {
   "cell_type": "code",
   "execution_count": null,
   "id": "8619861b-98cf-4f96-a405-54fcf706a283",
   "metadata": {},
   "outputs": [],
   "source": []
  },
  {
   "cell_type": "markdown",
   "id": "66f4da8b-e605-4e3c-9b54-365546549791",
   "metadata": {},
   "source": [
    "### Analyzing the rashomon set\n",
    "\n",
    "First, we study model sizes"
   ]
  },
  {
   "cell_type": "code",
   "execution_count": 26,
   "id": "c3aedff3-bfc1-4248-85e4-a4cfcd8f93e4",
   "metadata": {},
   "outputs": [
    {
     "name": "stdout",
     "output_type": "stream",
     "text": [
      "8 74\n"
     ]
    }
   ],
   "source": [
    "model_sizes = [x[2] for x in all_losses]\n",
    "print(np.min(model_sizes), np.max(model_sizes))"
   ]
  },
  {
   "cell_type": "code",
   "execution_count": 24,
   "id": "a8ceb6fd-ed38-4fcd-991f-646d46d3d647",
   "metadata": {},
   "outputs": [
    {
     "data": {
      "image/png": "[encoded data removed]",
      "text/plain": [
       "<Figure size 500x500 with 1 Axes>"
      ]
     },
     "metadata": {},
     "output_type": "display_data"
    }
   ],
   "source": [
    "fig, ax = plt.subplots(figsize=(5,5))\n",
    "\n",
    "ax.spines[['right', 'top']].set_visible(False)\n",
    "\n",
    "ax.hist(model_sizes,\n",
    "        color=\"grey\", edgecolor=\"black\")\n",
    "\n",
    "ax.set_xlabel(\"Size of model\")\n",
    "ax.set_ylabel(\"\")\n",
    "ax.set_title(\"Distribution of model sizes in Rashomon set\")\n",
    "\n",
    "# ax.legend(loc=\"center left\", bbox_to_anchor=(1, 0.5))\n",
    "\n",
    "# plt.savefig(\"../Figures/price_charity/rset_size_dist.png\", dpi=300, bbox_inches=\"tight\")\n",
    "plt.show()"
   ]
  },
  {
   "cell_type": "code",
   "execution_count": null,
   "id": "03c937ae-c7c9-4a8d-a733-554a08d8cbcd",
   "metadata": {},
   "outputs": [],
   "source": []
  },
  {
   "cell_type": "code",
   "execution_count": 95,
   "id": "f9fa60d5-034e-4301-968a-32d54a9e0704",
   "metadata": {},
   "outputs": [],
   "source": [
    "losses_only = np.array([x[0] for x in all_losses])\n",
    "losses_only = losses_only - np.min(losses_only)\n",
    "losses_only = losses_only / np.max(losses_only) #* 70\n",
    "\n"
   ]
  },
  {
   "cell_type": "code",
   "execution_count": 96,
   "id": "330b5fdd-e7d0-4b52-ad96-b00d703a3301",
   "metadata": {},
   "outputs": [
    {
     "data": {
      "image/png": "[encoded data removed]",
      "text/plain": [
       "<Figure size 640x480 with 1 Axes>"
      ]
     },
     "metadata": {},
     "output_type": "display_data"
    }
   ],
   "source": [
    "plt.hist(losses_only)\n",
    "\n",
    "plt.show()"
   ]
  },
  {
   "cell_type": "code",
   "execution_count": 105,
   "id": "0bc87ffa-b237-44b9-ba30-a5572d4e394a",
   "metadata": {},
   "outputs": [
    {
     "data": {
      "image/png": "[encoded data removed]",
      "text/plain": [
       "<Figure size 600x500 with 2 Axes>"
      ]
     },
     "metadata": {},
     "output_type": "display_data"
    }
   ],
   "source": [
    "fig, ax = plt.subplots(figsize=(6,5))\n",
    "\n",
    "h = ax.hist2d(model_sizes, losses_only, norm=colors.LogNorm(),\n",
    "             cmap=\"OrRd\")\n",
    "fig.colorbar(h[3], norm=colors.NoNorm, ax=ax)\n",
    "\n",
    "ax.set_xlabel(\"Model size\")\n",
    "ax.set_ylabel(\"Loss (normalized)\")\n",
    "\n",
    "\n",
    "# plt.savefig(\"../Figures/price_charity/rset_2d_hist.png\", dpi=300, bbox_inches=\"tight\")\n",
    "plt.show()"
   ]
  },
  {
   "cell_type": "code",
   "execution_count": null,
   "id": "b316f024-0fdb-4934-8870-a0bfc9dd70a5",
   "metadata": {},
   "outputs": [],
   "source": []
  },
  {
   "cell_type": "code",
   "execution_count": null,
   "id": "4f834488-10ae-41af-a2ff-bd325f3b2a15",
   "metadata": {},
   "outputs": [],
   "source": []
  },
  {
   "cell_type": "markdown",
   "id": "0e96f702-3c7e-493e-92e0-942a925a5fa4",
   "metadata": {},
   "source": [
    "Next, we look at the most common splits"
   ]
  },
  {
   "cell_type": "code",
   "execution_count": 50,
   "id": "8c496559-1fb8-44eb-872d-0e77cef327eb",
   "metadata": {},
   "outputs": [],
   "source": [
    "splits_1 = np.zeros(rashomon_profiles[1].sigma[0].shape)\n",
    "splits_2 = np.zeros(rashomon_profiles[15].sigma[0].shape)\n",
    "\n",
    "for r_set in R_set:\n",
    "    idx_1 = r_set[1]\n",
    "    idx_2 = r_set[15]\n",
    "\n",
    "    splits_1 += np.abs(rashomon_profiles[1].sigma[idx_1] - 1)\n",
    "    splits_2 += np.abs(rashomon_profiles[15].sigma[idx_2] - 1)\n",
    "\n",
    "splits_1 = splits_1 / len(R_set) * 100\n",
    "splits_2 = splits_2 / len(R_set) * 100"
   ]
  },
  {
   "cell_type": "code",
   "execution_count": 51,
   "id": "f8de08b4-bbc7-4dbc-86c0-36299f9dec33",
   "metadata": {},
   "outputs": [
    {
     "data": {
      "text/plain": [
       "array([[58.53658537]])"
      ]
     },
     "execution_count": 51,
     "metadata": {},
     "output_type": "execute_result"
    }
   ],
   "source": [
    "splits_1"
   ]
  },
  {
   "cell_type": "code",
   "execution_count": 52,
   "id": "bf06c06e-de9c-4e8b-a4f5-5198e8821488",
   "metadata": {},
   "outputs": [
    {
     "data": {
      "text/plain": [
       "array([[64.22764228, 56.09756098,         inf],\n",
       "       [98.37398374, 43.90243902, 56.09756098],\n",
       "       [59.3495935 , 59.3495935 ,         inf],\n",
       "       [82.92682927,         inf,         inf]])"
      ]
     },
     "execution_count": 52,
     "metadata": {},
     "output_type": "execute_result"
    }
   ],
   "source": [
    "splits_2"
   ]
  },
  {
   "cell_type": "code",
   "execution_count": null,
   "id": "514d25b3-4569-4c19-96b2-f4991f9500b9",
   "metadata": {},
   "outputs": [],
   "source": []
  },
  {
   "cell_type": "code",
   "execution_count": null,
   "id": "c7d5d002-d746-4723-99b4-cfca6639241e",
   "metadata": {},
   "outputs": [],
   "source": []
  },
  {
   "cell_type": "code",
   "execution_count": null,
   "id": "0d1f86d8-f911-43b1-a7ae-5c3c0e4c17d1",
   "metadata": {},
   "outputs": [],
   "source": []
  },
  {
   "cell_type": "markdown",
   "id": "adafa6cb-f833-4e2f-96b7-fab42d34f9fc",
   "metadata": {},
   "source": [
    "### Lasso"
   ]
  },
  {
   "cell_type": "code",
   "execution_count": 34,
   "id": "ad6438e9-cec9-4db3-a64b-d3ad19ad9d0d",
   "metadata": {},
   "outputs": [],
   "source": [
    "from sklearn import linear_model"
   ]
  },
  {
   "cell_type": "code",
   "execution_count": 204,
   "id": "db2d6f06-4761-463a-9e3e-af539c861bdf",
   "metadata": {},
   "outputs": [],
   "source": [
    "G = tva.alpha_matrix(all_policies)\n",
    "D_matrix = tva.get_dummy_matrix(D, G, num_policies)"
   ]
  },
  {
   "cell_type": "code",
   "execution_count": 205,
   "id": "0e430755-d8ee-4f85-874c-5e35589de6c2",
   "metadata": {},
   "outputs": [],
   "source": [
    "lasso = linear_model.Lasso(1e-4, fit_intercept=False)\n",
    "lasso.fit(D_matrix, y)\n",
    "alpha_est = lasso.coef_\n",
    "y_tva = lasso.predict(D_matrix)"
   ]
  },
  {
   "cell_type": "code",
   "execution_count": 208,
   "id": "03375cf9-c6d6-4df5-9d14-f650cb6900c3",
   "metadata": {},
   "outputs": [
    {
     "name": "stdout",
     "output_type": "stream",
     "text": [
      "0.007557087681478236\n",
      "0.007559423517002552\n"
     ]
    }
   ],
   "source": [
    "sqrd_err = mean_squared_error(y, y_tva)\n",
    "print(sqrd_err)\n",
    "\n",
    "lasso_loss = sqrd_err + 1e-4 * np.linalg.norm(alpha_est, ord=1)\n",
    "print(lasso_loss)"
   ]
  },
  {
   "cell_type": "code",
   "execution_count": 240,
   "id": "0a8ffd28-fa65-4154-81d4-96c9986087f0",
   "metadata": {},
   "outputs": [
    {
     "name": "stdout",
     "output_type": "stream",
     "text": [
      "1.079e-04\n",
      "176 (2, 4, 2, 2)\n"
     ]
    }
   ],
   "source": [
    "best_pol_effect_tva = np.max(y_tva)\n",
    "sqrd_err_best_pol_tva = (true_best_eff - best_pol_effect_tva)**2\n",
    "print(f\"{sqrd_err_best_pol_tva:.3e}\")\n",
    "\n",
    "best_pol_idx_tva = np.unique(D[np.where(y_tva == best_pol_effect_tva)])\n",
    "for idx in best_pol_idx_tva:\n",
    "    print(idx, all_policies[idx])"
   ]
  },
  {
   "cell_type": "code",
   "execution_count": null,
   "id": "cd6bf0d4-7c83-4288-a65a-7cf3d6471b5b",
   "metadata": {},
   "outputs": [],
   "source": []
  },
  {
   "cell_type": "code",
   "execution_count": 147,
   "id": "1b738d15-74c2-4545-b37e-e8794862c89c",
   "metadata": {},
   "outputs": [
    {
     "data": {
      "text/plain": [
       "1.0001074909483656"
      ]
     },
     "execution_count": 147,
     "metadata": {},
     "output_type": "execute_result"
    }
   ],
   "source": [
    "0.0075579 / sqrd_err"
   ]
  },
  {
   "cell_type": "code",
   "execution_count": 145,
   "id": "c4884055-fc00-41aa-9c3c-71353293fd87",
   "metadata": {},
   "outputs": [
    {
     "data": {
      "text/plain": [
       "0.007557843390246384"
      ]
     },
     "execution_count": 145,
     "metadata": {},
     "output_type": "execute_result"
    }
   ],
   "source": [
    "sqrd_err * 1.0001"
   ]
  },
  {
   "cell_type": "code",
   "execution_count": 144,
   "id": "4520acda-418e-4735-9432-7d5f3253b920",
   "metadata": {},
   "outputs": [
    {
     "name": "stdout",
     "output_type": "stream",
     "text": [
      "240\n"
     ]
    },
    {
     "data": {
      "text/plain": [
       "array([ 7.97690697e-03, -3.49831158e-04,  8.19950066e-03,  1.06300281e-03,\n",
       "        9.43166838e-04, -8.49020667e-04,  8.90114104e-05,  6.60306624e-04,\n",
       "        9.26149847e-04,  4.65184327e-04, -6.44947383e-04, -1.19132656e-03])"
      ]
     },
     "execution_count": 144,
     "metadata": {},
     "output_type": "execute_result"
    }
   ],
   "source": [
    "print(alpha_est.size)\n",
    "alpha_est[np.nonzero(alpha_est)]"
   ]
  },
  {
   "cell_type": "code",
   "execution_count": null,
   "id": "63a14c64-a902-4582-b4e0-d3dcc0baa2a0",
   "metadata": {},
   "outputs": [],
   "source": []
  },
  {
   "cell_type": "code",
   "execution_count": null,
   "id": "ebfb223b-665b-4b0f-9183-ff7d3f0e88ea",
   "metadata": {},
   "outputs": [],
   "source": []
  },
  {
   "cell_type": "code",
   "execution_count": null,
   "id": "3563b31e-b462-4074-ba07-974444a84ba7",
   "metadata": {},
   "outputs": [],
   "source": []
  },
  {
   "cell_type": "code",
   "execution_count": null,
   "id": "79d046c9-a409-4cfd-b754-f01880d43d4e",
   "metadata": {},
   "outputs": [],
   "source": []
  },
  {
   "cell_type": "markdown",
   "id": "70d479b2-5b6f-4b48-bd7d-9858b01f0407",
   "metadata": {},
   "source": [
    "### Causal trees"
   ]
  },
  {
   "cell_type": "code",
   "execution_count": 182,
   "id": "9258b760-e497-455d-8c3e-1d75b9b017ae",
   "metadata": {},
   "outputs": [],
   "source": [
    "from rashomon import causal_trees\n",
    "\n",
    "from CTL.causal_tree_learn import CausalTree"
   ]
  },
  {
   "cell_type": "code",
   "execution_count": 246,
   "id": "8494da53-1dc8-4114-b7d7-0d193c863538",
   "metadata": {},
   "outputs": [],
   "source": [
    "ctl_res = causal_trees.ctl(M, R, D, y, D_matrix)\n",
    "y_ctl = ctl_res[3]"
   ]
  },
  {
   "cell_type": "code",
   "execution_count": 243,
   "id": "0adddb53-2105-4046-bb1d-1148529270c5",
   "metadata": {},
   "outputs": [
    {
     "data": {
      "text/plain": [
       "array([0.00813755, 0.0091202 , 0.00980804, 0.01479656])"
      ]
     },
     "execution_count": 243,
     "metadata": {},
     "output_type": "execute_result"
    }
   ],
   "source": [
    "np.unique(y_ctl)"
   ]
  },
  {
   "cell_type": "code",
   "execution_count": 242,
   "id": "ab9fdb2a-1814-48e3-a224-f3acd0027f29",
   "metadata": {},
   "outputs": [
    {
     "name": "stdout",
     "output_type": "stream",
     "text": [
      "7.558e-03\n"
     ]
    }
   ],
   "source": [
    "sqrd_err_ctl = mean_squared_error(y, y_ctl)\n",
    "print(f\"{sqrd_err_ctl:.3e}\")"
   ]
  },
  {
   "cell_type": "code",
   "execution_count": 241,
   "id": "1d04f874-8593-4c98-8e63-a39872f7e0bc",
   "metadata": {},
   "outputs": [
    {
     "name": "stdout",
     "output_type": "stream",
     "text": [
      "5.315e-05\n",
      "137 (2, 1, 1, 2)\n",
      "140 (2, 1, 2, 2)\n",
      "143 (2, 1, 3, 2)\n",
      "197 (3, 1, 1, 2)\n",
      "200 (3, 1, 2, 2)\n",
      "203 (3, 1, 3, 2)\n"
     ]
    }
   ],
   "source": [
    "best_pol_effect_ctl = np.max(y_ctl)\n",
    "sqrd_err_best_pol_ctl = (true_best_eff - best_pol_effect_ctl)**2\n",
    "print(f\"{sqrd_err_best_pol_ctl:.3e}\")\n",
    "\n",
    "best_pol_idx_ctl = np.unique(D[np.where(y_ctl == best_pol_effect_ctl)])\n",
    "for idx in best_pol_idx_ctl:\n",
    "    print(idx, all_policies[idx])"
   ]
  },
  {
   "cell_type": "code",
   "execution_count": null,
   "id": "a3fc569c-45d1-4293-93ab-90d8e780c736",
   "metadata": {},
   "outputs": [],
   "source": []
  }
 ],
 "metadata": {
  "kernelspec": {
   "display_name": "Python 3.11 (venv)",
   "language": "python",
   "name": "venv"
  },
  "language_info": {
   "codemirror_mode": {
    "name": "ipython",
    "version": 3
   },
   "file_extension": ".py",
   "mimetype": "text/x-python",
   "name": "python",
   "nbconvert_exporter": "python",
   "pygments_lexer": "ipython3",
   "version": "3.11.3"
  }
 },
 "nbformat": 4,
 "nbformat_minor": 5
}
