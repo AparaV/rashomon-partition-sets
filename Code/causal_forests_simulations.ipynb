{
 "cells": [
  {
   "cell_type": "code",
   "execution_count": 1,
   "id": "bac1b705-354d-4e6a-bb30-b57d053e442f",
   "metadata": {},
   "outputs": [],
   "source": [
    "import numpy as np\n",
    "import matplotlib.pyplot as plt\n",
    "import pandas as pd\n",
    "\n",
    "%matplotlib inline"
   ]
  },
  {
   "cell_type": "code",
   "execution_count": 2,
   "id": "9a8afb99-5c36-4460-838b-47e4e409508c",
   "metadata": {},
   "outputs": [],
   "source": [
    "import pickle\n",
    "import econml\n",
    "import itertools\n",
    "from collections import Counter\n",
    "from tqdm import tqdm\n",
    "\n",
    "from rashomon import hasse\n",
    "from rashomon import loss\n",
    "from rashomon import counter\n",
    "from rashomon import metrics\n",
    "from rashomon import extract_pools\n",
    "from rashomon.aggregate import (RAggregate_profile, RAggregate,\n",
    "    find_profile_lower_bound, find_feasible_combinations, remove_unused_poolings, subset_data)\n",
    "from rashomon.sets import RashomonSet, RashomonProblemCache, RashomonSubproblemCache\n",
    "from rashomon.aggregate import find_te_het_partitions\n",
    "\n",
    "from econml.grf import CausalForest\n",
    "from sklearn.metrics import mean_squared_error, confusion_matrix\n",
    "from sklearn import linear_model\n",
    "\n",
    "from copy import deepcopy\n",
    "\n",
    "%load_ext autoreload\n",
    "%autoreload 2"
   ]
  },
  {
   "cell_type": "code",
   "execution_count": 3,
   "id": "d7fb161c-7264-4757-a431-03ca8d65538b",
   "metadata": {},
   "outputs": [],
   "source": [
    "def generate_data(mu, var, n_per_pol, all_policies, pi_policies, M):\n",
    "    num_data = num_policies * n_per_pol\n",
    "    X = np.zeros(shape=(num_data, M))\n",
    "    D = np.zeros(shape=(num_data, 1), dtype='int_')\n",
    "    y = np.zeros(shape=(num_data, 1))  + np.inf\n",
    "    mu_true = np.zeros(shape=(num_data, 1))\n",
    "\n",
    "    idx_ctr = 0\n",
    "    for k, profile in enumerate(profiles):\n",
    "        policies_k = policies_profiles[k]\n",
    "\n",
    "        for idx, policy in enumerate(policies_k):\n",
    "            policy_idx = [i for i, x in enumerate(all_policies) if x == policy]\n",
    "            \n",
    "            if pi_policies[k] is None and np.isnan(mu[k]):\n",
    "                continue\n",
    "                \n",
    "            pool_id = pi_policies[k][idx]\n",
    "            mu_i = mu[k][pool_id]\n",
    "            var_i = var[k][pool_id]\n",
    "            y_i = np.random.normal(mu_i, var_i, size=(n_per_pol, 1))\n",
    "\n",
    "            start_idx = idx_ctr * n_per_pol\n",
    "            end_idx = (idx_ctr + 1) * n_per_pol\n",
    "\n",
    "            X[start_idx:end_idx, ] = policy\n",
    "            D[start_idx:end_idx, ] = policy_idx[0]\n",
    "            y[start_idx:end_idx, ] = y_i\n",
    "            mu_true[start_idx:end_idx, ] = mu_i\n",
    "\n",
    "            idx_ctr += 1\n",
    "\n",
    "    absent_idx = np.where(np.isinf(y))[0]\n",
    "    X = np.delete(X, absent_idx, 0)\n",
    "    y = np.delete(y, absent_idx, 0)\n",
    "    D = np.delete(D, absent_idx, 0)\n",
    "    mu_true = np.delete(mu_true, absent_idx, 0)\n",
    "\n",
    "    return X, D, y, mu_true"
   ]
  },
  {
   "cell_type": "markdown",
   "id": "ad2a5645-0e7c-433d-bd17-912ffa483778",
   "metadata": {},
   "source": [
    "# Setup\n",
    "\n",
    "## Parameters"
   ]
  },
  {
   "cell_type": "markdown",
   "id": "c6448e88",
   "metadata": {},
   "source": [
    "We set up all the parameters of the simulation as well as the encodings of profiles, policies, treatment, etc. below."
   ]
  },
  {
   "cell_type": "code",
   "execution_count": 4,
   "id": "7506afbd-bf05-4f34-9f35-c6d3bdfe11a7",
   "metadata": {},
   "outputs": [],
   "source": [
    "M = 4\n",
    "R = np.array([2, 4, 5, 5])\n",
    "\n",
    "\n",
    "# (0, 1, 1, 1)\n",
    "sigma_0 = np.array([[1, 1, 1],\n",
    "                    [1, 1, 1],\n",
    "                    [1, 1, 1]\n",
    "                   ])\n",
    "mu_0 = np.array([0])\n",
    "var_0 = np.array([0])\n",
    "\n",
    "# (1, 1, 1, 1)\n",
    "sigma_1 = np.array([[np.inf, np.inf, np.inf],\n",
    "                    [0, 0, np.inf],\n",
    "                    [1, 0, 1],\n",
    "                    [1, 1, 0],\n",
    "                   ])\n",
    "mu_1 = np.array([2, 4, 2, 0, 3, 5, 7, 1, 1, -1, -1, -2])\n",
    "var_1 = np.array([1, 1, 1, 1, 1, 1, 1, 1, 1, 1, 1, 1])\n",
    "\n",
    "\n",
    "interested_profiles = [(0, 1, 1, 1), (1, 1, 1, 1)]\n",
    "\n",
    "sigma_tmp = [sigma_0, sigma_1]\n",
    "mu_tmp = [mu_0, mu_1]\n",
    "var_tmp = [var_0, var_1]"
   ]
  },
  {
   "cell_type": "markdown",
   "id": "8cd707c6-f3b0-4840-ace8-0c05bba86f8a",
   "metadata": {},
   "source": [
    "\\begin{align*}\n",
    "    \\text{Control} & \\\\\n",
    "    (0,\\ 1:3,\\  1:4,\\  1:4) &= 0 \\\\\n",
    "    \\text{Treatment} & \\\\\n",
    "    (1,\\  1,\\  1:2,\\  1:3) &= 2 \\\\\n",
    "    (1,\\  1,\\  1:2,\\  4) &= 4 \\\\\n",
    "    (1,\\  1,\\  3:4,\\  1:3) &= 2 \\\\\n",
    "    (1,\\  1,\\  3:4,\\  4) &= 0 \\\\\n",
    "    (1,\\  2,\\  1:2,\\  1:3) &= 3 \\\\\n",
    "    (1,\\  2,\\  1:2,\\  4) &= 5 \\\\\n",
    "    (1,\\  2,\\  3:4,\\  1:3) &= 7 \\\\\n",
    "    (1,\\  2,\\  3:4,\\  4) &= 1 \\\\\n",
    "    (1,\\  3,\\  1:2,\\  1:3) &= 1 \\\\\n",
    "    (1,\\  3,\\  1:2,\\  4) &= -1 \\\\\n",
    "    (1,\\  3,\\  3:4,\\  1:3) &= -1 \\\\\n",
    "    (1,\\  3,\\  3:4,\\  4) &= -2\n",
    "\\end{align*}"
   ]
  },
  {
   "cell_type": "code",
   "execution_count": 5,
   "id": "77f419b2-b595-462e-a53a-8c5caba75fa6",
   "metadata": {},
   "outputs": [],
   "source": [
    "num_profiles = 2**M\n",
    "profiles, profile_map = hasse.enumerate_profiles(M)\n",
    "all_policies = hasse.enumerate_policies(M, R)\n",
    "num_policies = len(all_policies)\n",
    "\n",
    "interested_profile_idx = []\n",
    "sigma = []\n",
    "mu = []\n",
    "var = []\n",
    "for k, profile in enumerate(profiles):\n",
    "    sigma_k = None\n",
    "    mu_k = np.nan\n",
    "    var_k =  np.nan\n",
    "    for i, p in enumerate(interested_profiles):\n",
    "        if p == profile:\n",
    "            sigma_k = sigma_tmp[i]\n",
    "            mu_k = mu_tmp[i]\n",
    "            var_k = var_tmp[i]\n",
    "            break\n",
    "    sigma.append(sigma_k)\n",
    "    mu.append(mu_k)\n",
    "    var.append(var_k)"
   ]
  },
  {
   "cell_type": "code",
   "execution_count": 6,
   "id": "6bec8cf2-2221-4879-810b-acfe4a4396a8",
   "metadata": {},
   "outputs": [],
   "source": [
    "# Identify the pools\n",
    "policies_profiles = {}\n",
    "policies_profiles_masked = {}\n",
    "policies_ids_profiles = {}\n",
    "pi_policies = {}\n",
    "pi_pools = {}\n",
    "for k, profile in enumerate(profiles):\n",
    "\n",
    "    policies_temp = [(i, x) for i, x in enumerate(all_policies) if hasse.policy_to_profile(x) == profile]\n",
    "    unzipped_temp = list(zip(*policies_temp))\n",
    "    policies_ids_k = list(unzipped_temp[0])\n",
    "    policies_k = list(unzipped_temp[1])\n",
    "    policies_profiles[k] = deepcopy(policies_k)\n",
    "    policies_ids_profiles[k] = policies_ids_k\n",
    "\n",
    "    profile_mask = list(map(bool, profile))\n",
    "\n",
    "    # Mask the empty arms\n",
    "    for idx, pol in enumerate(policies_k):\n",
    "        policies_k[idx] = tuple([pol[i] for i in range(M) if profile_mask[i]])\n",
    "    policies_profiles_masked[k] = policies_k\n",
    "\n",
    "\n",
    "    # profile_idx = None\n",
    "    # for idx, p in enumerate(interested_profiles):\n",
    "    #     if p == profile:\n",
    "    #         profile_idx = idx\n",
    "    # if profile_idx is None:\n",
    "    #     pi_policies[k] = None\n",
    "    #     pi_pools[k] = None\n",
    "    #     continue\n",
    "    if sigma[k] is None:\n",
    "        pi_policies[k] = None\n",
    "        pi_pools[k] = None\n",
    "        continue\n",
    "\n",
    "    if np.sum(profile) > 0:\n",
    "        pi_pools_k, pi_policies_k = extract_pools.extract_pools(policies_k, sigma[k])\n",
    "        if len(pi_pools_k.keys()) != mu[k].shape[0]:\n",
    "            print(pi_pools_k)\n",
    "            print(f\"Profile {k}. Expected {len(pi_pools_k.keys())} pools. Received {mu[k].shape[0]} means.\")\n",
    "        pi_policies[k] = pi_policies_k\n",
    "        # pi_pools_k has indicies that match with policies_profiles[k]\n",
    "        # Need to map those indices back to all_policies\n",
    "        pi_pools[k] = {}\n",
    "        for x, y in pi_pools_k.items():\n",
    "            y_full = [policies_profiles[k][i] for i in y]\n",
    "            y_agg = [all_policies.index(i) for i in y_full]\n",
    "            pi_pools[k][x] = y_agg\n",
    "    else:\n",
    "        pi_policies[k] = {0: 0}\n",
    "        pi_pools[k] = {0: [0]}\n",
    "\n",
    "best_per_profile = [np.max(mu_k) for mu_k in mu]\n",
    "true_best_profile = np.nanargmax(best_per_profile)\n",
    "true_best_profile_idx = int(true_best_profile)\n",
    "true_best_effect = np.max(mu[true_best_profile])\n",
    "true_best = pi_pools[true_best_profile][np.argmax(mu[true_best_profile])]\n",
    "min_dosage_best_policy = metrics.find_min_dosage(true_best, all_policies)\n",
    "\n",
    "# The transformation matrix for Lasso\n",
    "G = hasse.alpha_matrix(all_policies)"
   ]
  },
  {
   "cell_type": "code",
   "execution_count": 7,
   "id": "42b66a56-3c11-48ab-9c14-2acbcd833b86",
   "metadata": {},
   "outputs": [],
   "source": [
    "trt_arm_idx = 0\n",
    "\n",
    "ctl_profile_idx = 7\n",
    "trt_profile_idx = 15\n",
    "\n",
    "ctl_profile = (0, 1, 1, 1)\n",
    "trt_profile = (1, 1, 1, 1)\n",
    "\n",
    "# Subset data for interested profiles\n",
    "trt_policies_ids = policies_ids_profiles[trt_profile_idx] # These are the policy ids (15 corresponds to 1, 1, 1, 1)\n",
    "ctl_policies_ids = policies_ids_profiles[ctl_profile_idx]\n",
    "tc_policies_ids = trt_policies_ids + ctl_policies_ids\n",
    "\n",
    "trt_policies = policies_profiles_masked[trt_profile_idx]\n",
    "ctl_policies = policies_profiles_masked[ctl_profile_idx]\n",
    "\n",
    "trt_pools, trt_pools_policies = extract_pools.extract_pools(trt_policies, sigma[trt_profile_idx])\n",
    "ctl_pools, ctl_pools_policies = extract_pools.extract_pools(ctl_policies, sigma[ctl_profile_idx])\n",
    "\n",
    "D_trt = np.array(list(trt_pools_policies.keys()))\n",
    "D_ctl = np.array(list(ctl_pools_policies.keys()))\n",
    "\n",
    "D_trt_pooled = [trt_pools_policies[pol_id] for pol_id in D_trt]\n",
    "D_ctl_pooled = [ctl_pools_policies[pol_id] for pol_id in D_ctl]\n",
    "y_trt = mu[trt_profile_idx][D_trt_pooled]\n",
    "y_ctl = mu[ctl_profile_idx][D_ctl_pooled]\n",
    "\n",
    "X_trt = np.array(policies_profiles[trt_profile_idx])[:, 1:]\n",
    "\n",
    "te_true = y_trt - y_ctl\n",
    "max_te = np.max(te_true)\n",
    "max_te_policies_p = D_trt[np.where(te_true == max_te)]\n",
    "max_te_policies = [policies_ids_profiles[trt_profile_idx][x] for x in max_te_policies_p]\n",
    "min_dosage_best_te = metrics.find_min_dosage(max_te_policies, all_policies)"
   ]
  },
  {
   "cell_type": "markdown",
   "id": "7e201a3c-6a6a-458f-b9af-e4edb345f706",
   "metadata": {},
   "source": [
    "## Generate data"
   ]
  },
  {
   "cell_type": "code",
   "execution_count": 8,
   "id": "0d6042b2-2d1a-4d08-ab6f-527bcc9f290a",
   "metadata": {},
   "outputs": [],
   "source": [
    "np.random.seed(3)\n",
    "\n",
    "n_per_pol = 10\n",
    "\n",
    "# Generate data\n",
    "X, D, y, mu_true = generate_data(mu, var, n_per_pol, all_policies, pi_policies, M)\n",
    "policy_means = loss.compute_policy_means(D, y, num_policies)\n",
    "# The dummy matrix for Lasso\n",
    "D_matrix = hasse.get_dummy_matrix(D, G, num_policies)\n",
    "\n",
    "trt_arm_idx = 0\n",
    "feature_idx = list(np.arange(0, trt_arm_idx)) + list(np.arange(trt_arm_idx+1, M))\n",
    "\n",
    "T = np.zeros(shape=y.shape)\n",
    "T[X[:, trt_arm_idx] > 0] = 1\n",
    "\n",
    "y_0d = y.reshape((-1,))\n",
    "X_cf = X[:, feature_idx]\n",
    "\n",
    "X_trt_subset = X[X[:, trt_arm_idx] > 0, :]\n",
    "X_trt_subset = X_trt_subset[:, feature_idx]\n",
    "y_trt_subset = y[X[:, trt_arm_idx] > 0]\n",
    "\n",
    "\n",
    "D_trt_subset = D[X[:, trt_arm_idx] > 0]\n",
    "D_matrix_trt_subset = D_matrix[X[:, trt_arm_idx] > 0, :]\n",
    "D_matrix_ctl_subset = D_matrix[X[:, trt_arm_idx] == 0, :]\n",
    "\n",
    "D_trt_univ = np.array([policies_ids_profiles[trt_profile_idx][x] for x in D_trt]).reshape((-1, 1))\n",
    "D_ctl_univ = np.array([policies_ids_profiles[ctl_profile_idx][x] for x in D_ctl]).reshape((-1, 1))\n",
    "D_matrix_trt = hasse.get_dummy_matrix(D_trt_univ, G, num_policies)\n",
    "D_matrix_ctl = hasse.get_dummy_matrix(D_ctl_univ, G, num_policies)\n",
    "\n",
    "\n",
    "policy_means = loss.compute_policy_means(D, y, num_policies)\n",
    "\n",
    "mask = np.isin(D, tc_policies_ids)\n",
    "D_tc = D[mask].reshape((-1,1))\n",
    "y_tc = y[mask].reshape((-1,1))"
   ]
  },
  {
   "cell_type": "markdown",
   "id": "48af61e0-8b18-40a2-8e3b-2ef0e91a392d",
   "metadata": {},
   "source": [
    "# Estimation\n",
    "\n",
    "## Causal Forests"
   ]
  },
  {
   "cell_type": "markdown",
   "id": "de4bece0",
   "metadata": {},
   "source": [
    "In this section, we fit a Causal Forest Estimator and extract the partitions from each individual tree in the estimator."
   ]
  },
  {
   "cell_type": "code",
   "execution_count": 9,
   "id": "4c5359e0-28a4-4dc6-9d78-2927add5f198",
   "metadata": {},
   "outputs": [
    {
     "data": {
      "text/html": [
       "<style>#sk-container-id-1 {color: black;}#sk-container-id-1 pre{padding: 0;}#sk-container-id-1 div.sk-toggleable {background-color: white;}#sk-container-id-1 label.sk-toggleable__label {cursor: pointer;display: block;width: 100%;margin-bottom: 0;padding: 0.3em;box-sizing: border-box;text-align: center;}#sk-container-id-1 label.sk-toggleable__label-arrow:before {content: \"▸\";float: left;margin-right: 0.25em;color: #696969;}#sk-container-id-1 label.sk-toggleable__label-arrow:hover:before {color: black;}#sk-container-id-1 div.sk-estimator:hover label.sk-toggleable__label-arrow:before {color: black;}#sk-container-id-1 div.sk-toggleable__content {max-height: 0;max-width: 0;overflow: hidden;text-align: left;background-color: #f0f8ff;}#sk-container-id-1 div.sk-toggleable__content pre {margin: 0.2em;color: black;border-radius: 0.25em;background-color: #f0f8ff;}#sk-container-id-1 input.sk-toggleable__control:checked~div.sk-toggleable__content {max-height: 200px;max-width: 100%;overflow: auto;}#sk-container-id-1 input.sk-toggleable__control:checked~label.sk-toggleable__label-arrow:before {content: \"▾\";}#sk-container-id-1 div.sk-estimator input.sk-toggleable__control:checked~label.sk-toggleable__label {background-color: #d4ebff;}#sk-container-id-1 div.sk-label input.sk-toggleable__control:checked~label.sk-toggleable__label {background-color: #d4ebff;}#sk-container-id-1 input.sk-hidden--visually {border: 0;clip: rect(1px 1px 1px 1px);clip: rect(1px, 1px, 1px, 1px);height: 1px;margin: -1px;overflow: hidden;padding: 0;position: absolute;width: 1px;}#sk-container-id-1 div.sk-estimator {font-family: monospace;background-color: #f0f8ff;border: 1px dotted black;border-radius: 0.25em;box-sizing: border-box;margin-bottom: 0.5em;}#sk-container-id-1 div.sk-estimator:hover {background-color: #d4ebff;}#sk-container-id-1 div.sk-parallel-item::after {content: \"\";width: 100%;border-bottom: 1px solid gray;flex-grow: 1;}#sk-container-id-1 div.sk-label:hover label.sk-toggleable__label {background-color: #d4ebff;}#sk-container-id-1 div.sk-serial::before {content: \"\";position: absolute;border-left: 1px solid gray;box-sizing: border-box;top: 0;bottom: 0;left: 50%;z-index: 0;}#sk-container-id-1 div.sk-serial {display: flex;flex-direction: column;align-items: center;background-color: white;padding-right: 0.2em;padding-left: 0.2em;position: relative;}#sk-container-id-1 div.sk-item {position: relative;z-index: 1;}#sk-container-id-1 div.sk-parallel {display: flex;align-items: stretch;justify-content: center;background-color: white;position: relative;}#sk-container-id-1 div.sk-item::before, #sk-container-id-1 div.sk-parallel-item::before {content: \"\";position: absolute;border-left: 1px solid gray;box-sizing: border-box;top: 0;bottom: 0;left: 50%;z-index: -1;}#sk-container-id-1 div.sk-parallel-item {display: flex;flex-direction: column;z-index: 1;position: relative;background-color: white;}#sk-container-id-1 div.sk-parallel-item:first-child::after {align-self: flex-end;width: 50%;}#sk-container-id-1 div.sk-parallel-item:last-child::after {align-self: flex-start;width: 50%;}#sk-container-id-1 div.sk-parallel-item:only-child::after {width: 0;}#sk-container-id-1 div.sk-dashed-wrapped {border: 1px dashed gray;margin: 0 0.4em 0.5em 0.4em;box-sizing: border-box;padding-bottom: 0.4em;background-color: white;}#sk-container-id-1 div.sk-label label {font-family: monospace;font-weight: bold;display: inline-block;line-height: 1.2em;}#sk-container-id-1 div.sk-label-container {text-align: center;}#sk-container-id-1 div.sk-container {/* jupyter's `normalize.less` sets `[hidden] { display: none; }` but bootstrap.min.css set `[hidden] { display: none !important; }` so we also need the `!important` here to be able to override the default hidden behavior on the sphinx rendered scikit-learn.org. See: https://github.com/scikit-learn/scikit-learn/issues/21755 */display: inline-block !important;position: relative;}#sk-container-id-1 div.sk-text-repr-fallback {display: none;}</style><div id=\"sk-container-id-1\" class=\"sk-top-container\"><div class=\"sk-text-repr-fallback\"><pre>CausalForest(criterion=&#x27;het&#x27;, min_samples_leaf=10, n_estimators=500,\n",
       "             random_state=3)</pre><b>In a Jupyter environment, please rerun this cell to show the HTML representation or trust the notebook. <br />On GitHub, the HTML representation is unable to render, please try loading this page with nbviewer.org.</b></div><div class=\"sk-container\" hidden><div class=\"sk-item\"><div class=\"sk-estimator sk-toggleable\"><input class=\"sk-toggleable__control sk-hidden--visually\" id=\"sk-estimator-id-1\" type=\"checkbox\" checked><label for=\"sk-estimator-id-1\" class=\"sk-toggleable__label sk-toggleable__label-arrow\">CausalForest</label><div class=\"sk-toggleable__content\"><pre>CausalForest(criterion=&#x27;het&#x27;, min_samples_leaf=10, n_estimators=500,\n",
       "             random_state=3)</pre></div></div></div></div></div>"
      ],
      "text/plain": [
       "CausalForest(criterion='het', min_samples_leaf=10, n_estimators=500,\n",
       "             random_state=3)"
      ]
     },
     "execution_count": 9,
     "metadata": {},
     "output_type": "execute_result"
    }
   ],
   "source": [
    "# https://econml.azurewebsites.net/_autosummary/econml.grf.CausalForest.html?highlight=causalforest#econml.grf.CausalForest\n",
    "est = CausalForest(criterion=\"het\", n_estimators=500,\n",
    "                   min_samples_leaf=10,\n",
    "                   # max_depth=None,\n",
    "                   min_samples_split=10,\n",
    "                   random_state=3,\n",
    "                  )\n",
    "\n",
    "# est.fit(X_cf, X[:, trt_idx], y_0d)\n",
    "est.fit(X_cf, T, y_0d)\n",
    "# est.fit(X, 1 + np.zeros(T.shape), y_0d)"
   ]
  },
  {
   "cell_type": "code",
   "execution_count": 10,
   "id": "1073c9d4",
   "metadata": {},
   "outputs": [],
   "source": [
    "# Extract the trees from the CRF\n",
    "trees = est.estimators_\n",
    "\n",
    "# This function takes a tree and creates a dictionary based representation where each non-leaf node is a dictionary with dictionary children, and leaves are sets of data points.\n",
    "# The decision_path() call in line ___ returns a sparse matrix that encodes the decision path for each of the data points in X_cf, i.e. it lets us\n",
    "# reconstruct the partition by following how each profile is categorized. The code in lines iteratively fills in the dictionary that represents the \n",
    "# binary tree by running through the path (each entry in cx.row) for each \n",
    "def create_dict_rep(tree):\n",
    "    root = {}\n",
    "    head = root\n",
    "\n",
    "    # Takes the sparse matrix from the decision path of each data point and then turns it into a list of coordinates.\n",
    "    cx = tree.tree_.decision_path(X_cf).tocoo()\n",
    "\n",
    "    # We iterate through the list of coordinates and construct the tree by traversing until we hit a leaf node and then adding the data point to the set in that leaf.\n",
    "    for i in range(len(cx.row)):\n",
    "        if cx.col[i] not in head:\n",
    "            head[cx.col[i]] = {}\n",
    "        head = head[cx.col[i]]\n",
    "        if (i != len(cx.row) - 1 and cx.row[i] != cx.row[i + 1]) or (i == len(cx.row) - 1):\n",
    "            if \"*\" not in head:\n",
    "                head[\"*\"] = set()\n",
    "            # The \"*\" indicates that we have gotten to the end of a decision path, so we add the data point into the set at this leaf.\n",
    "            head[\"*\"].add(tuple(X_cf[cx.row[i - 1], :].astype(int)))\n",
    "            head = root\n",
    "    return root\n",
    "\n",
    "# This function recursively traverses through the tree and constructs a list of the pools corresonding to the leaves.\n",
    "def traverse(tree):\n",
    "    to_return = []\n",
    "    for key in tree.keys():\n",
    "        if key == \"*\":\n",
    "            return [tree[key]]\n",
    "        else:\n",
    "            to_return += traverse(tree[key])\n",
    "    return to_return\n",
    "\n",
    "# Create for each tree in the CRF trees.\n",
    "crf_trees = []\n",
    "for i in range(len(trees)):\n",
    "    crf_trees.append(traverse(create_dict_rep(trees[i])))"
   ]
  },
  {
   "cell_type": "markdown",
   "id": "aa5c8def",
   "metadata": {},
   "source": [
    "The following chunk of code creates a Counter to keep track of what pools are in each tree partition for comparison later with the RPS partitions. (I am aware that this implementation is inefficient, but for the purposes of this simulation it isn't too important.)"
   ]
  },
  {
   "cell_type": "code",
   "execution_count": 11,
   "id": "9d12f0f7",
   "metadata": {},
   "outputs": [],
   "source": [
    "all_pools_crf_counters = {}\n",
    "\n",
    "# Loop through all the trees and create a Counter for each tree.\n",
    "for tree_idx in range(len(crf_trees)):\n",
    "    c = Counter()\n",
    "    for value in crf_trees[tree_idx]:\n",
    "        to_add = tuple(sorted(value))\n",
    "        c.update([to_add])\n",
    "    all_pools_crf_counters[tree_idx] = c"
   ]
  },
  {
   "cell_type": "code",
   "execution_count": 12,
   "id": "f99b5fff-f7b3-4350-81dd-0a165aa5d4b0",
   "metadata": {},
   "outputs": [
    {
     "data": {
      "text/plain": [
       "{'mse_te': 1.2983811452086564,\n",
       " 'max_te_est': 6.724452263969456,\n",
       " 'max_te_err': 0.2755477360305436,\n",
       " 'iou': 0.14285714285714285,\n",
       " 'conf_matrix': array([[0.8, 0. , 0.2],\n",
       "        [0. , 0. , 1. ],\n",
       "        [0. , 0. , 1. ]])}"
      ]
     },
     "execution_count": 12,
     "metadata": {},
     "output_type": "execute_result"
    }
   ],
   "source": [
    "te_cf = est.predict(X_trt)\n",
    "\n",
    "cf_res = metrics.compute_te_het_metrics(\n",
    "                            te_true, te_cf,\n",
    "                            max_te, max_te_policies,\n",
    "                            D_trt, policies_ids_profiles[trt_profile_idx]\n",
    "                        )\n",
    "\n",
    "cf_res"
   ]
  },
  {
   "cell_type": "markdown",
   "id": "159eabcc-5998-410b-babf-2cae24cae66a",
   "metadata": {},
   "source": [
    "## Rashomon Sets"
   ]
  },
  {
   "cell_type": "markdown",
   "id": "a0522796",
   "metadata": {},
   "source": [
    "Use the following chunk of code below to tune the size of the Rashomon Set."
   ]
  },
  {
   "cell_type": "code",
   "execution_count": 13,
   "id": "f0f44aea-24f0-4c77-b859-8ed93bff474a",
   "metadata": {},
   "outputs": [
    {
     "name": "stdout",
     "output_type": "stream",
     "text": [
      "Skipping profile (0, 0, 0, 0)\n",
      "Skipping profile (0, 0, 0, 1)\n",
      "Skipping profile (0, 0, 1, 0)\n",
      "Skipping profile (0, 0, 1, 1)\n",
      "Skipping profile (0, 1, 0, 0)\n",
      "Skipping profile (0, 1, 0, 1)\n",
      "Skipping profile (0, 1, 1, 0)\n",
      "(0, 1, 1, 1) 2.0402404523030584\n",
      "Brute forcing\n",
      "Took 0.2992069721221924 s when brute forcing\n",
      "220\n",
      "Skipping profile (1, 0, 0, 0)\n",
      "Skipping profile (1, 0, 0, 1)\n",
      "Skipping profile (1, 0, 1, 0)\n",
      "Skipping profile (1, 0, 1, 1)\n",
      "Skipping profile (1, 1, 0, 0)\n",
      "Skipping profile (1, 1, 0, 1)\n",
      "Skipping profile (1, 1, 1, 0)\n",
      "(1, 1, 1, 1) 2.5\n",
      "Brute forcing\n",
      "Took 0.2734489440917969 s when brute forcing\n",
      "36\n",
      "Finding feasible combinations\n",
      "Min = 1.7865754084828451, Max = 4.282754080538238\n",
      "520\n"
     ]
    }
   ],
   "source": [
    "H = np.inf\n",
    "\n",
    "theta = 2.5\n",
    "reg = 1e-1\n",
    "R_set, rashomon_profiles = RAggregate(M, R, H, D, y, theta, reg,\n",
    "                                     verbose=True, bruteforce=True\n",
    "                                     )\n",
    "\n",
    "print(len(R_set))"
   ]
  },
  {
   "cell_type": "code",
   "execution_count": 14,
   "id": "b7163adb",
   "metadata": {},
   "outputs": [
    {
     "name": "stdout",
     "output_type": "stream",
     "text": [
      "Best model loss 1.7865754084828451\n"
     ]
    }
   ],
   "source": [
    "model_losses = []\n",
    "model_sizes = []\n",
    "\n",
    "for r_set in R_set:\n",
    "    pi_policies_profiles_r = {}\n",
    "\n",
    "    loss_r = 0\n",
    "    size_r = 0\n",
    "    \n",
    "    for profile, model_prof in enumerate(r_set):\n",
    "        sigma_r_prof = rashomon_profiles[profile].sigma[model_prof]\n",
    "        loss_r_prof = rashomon_profiles[profile].loss[model_prof]\n",
    "        size_r_prof = rashomon_profiles[profile].pools[model_prof]\n",
    "\n",
    "        loss_r += loss_r_prof\n",
    "\n",
    "        if sigma_r_prof is None and loss_r_prof == 0:\n",
    "            pass\n",
    "        else:\n",
    "            size_r += size_r_prof\n",
    "    \n",
    "    model_losses.append(loss_r)\n",
    "    model_sizes.append(size_r)\n",
    "\n",
    "model_losses = np.array(model_losses)\n",
    "model_sizes = np.array(model_sizes)\n",
    "\n",
    "q_0 = np.min(model_losses)\n",
    "\n",
    "print(f\"Best model loss {q_0}\")"
   ]
  },
  {
   "cell_type": "markdown",
   "id": "3baad06a",
   "metadata": {},
   "source": [
    "## Intersection of Treatment and Control Partitions with CRF Partitions"
   ]
  },
  {
   "cell_type": "markdown",
   "id": "ba26a77d",
   "metadata": {},
   "source": [
    "The function below takes the Rashomon Set and extracts the poolings and transforms them to the form of the counters in all_pools_crf_counters so they can be compared. We then compute the intersection."
   ]
  },
  {
   "cell_type": "code",
   "execution_count": 15,
   "id": "94741d55",
   "metadata": {},
   "outputs": [],
   "source": [
    "def create_rset_poolings(theta, reg, M=M, R=R, H=H, D=D, y=y, verbose=True):\n",
    "    H = np.inf\n",
    "    print(f\"Running RAggregate with theta = {theta} and reg = {reg}\")\n",
    "    R_set, rashomon_profiles = RAggregate(M, R, H, D, y, theta, reg,\n",
    "                                        verbose=verbose,\n",
    "                                        )\n",
    "\n",
    "    print(\"Length of the RPS is\", len(R_set))\n",
    "\n",
    "    # Create the Poolings for the Treatment and Control Profiles\n",
    "    all_r_pools_trt = []\n",
    "    all_r_pools_ctl = []\n",
    "\n",
    "    # For each rashomon set, extract the pools for the treatment and control separately and append them to the all_r_pools_trt, and all_r_pools_ctl.\n",
    "    for idx, r_set in enumerate(R_set):\n",
    "\n",
    "        sigma_trt_R_set_idx = r_set[trt_profile_idx]\n",
    "        sigma_trt_i = rashomon_profiles[trt_profile_idx].sigma[sigma_trt_R_set_idx]\n",
    "        sigma_ctl_R_set_idx = r_set[ctl_profile_idx]\n",
    "        sigma_ctl_i = rashomon_profiles[ctl_profile_idx].sigma[sigma_ctl_R_set_idx]\n",
    "\n",
    "        trt_pools_0, _ = extract_pools.extract_pools(trt_policies, sigma_trt_i)\n",
    "        ctl_pools_0, _ = extract_pools.extract_pools(ctl_policies, sigma_ctl_i) # This gives dictionary of pools --> this is the partition\n",
    "        \n",
    "        trt_pools = hasse.profile_ids_to_univ_ids(trt_pools_0, trt_policies_ids)\n",
    "        ctl_pools = hasse.profile_ids_to_univ_ids(ctl_pools_0, ctl_policies_ids)\n",
    "\n",
    "        all_r_pools_trt.append(trt_pools)\n",
    "        all_r_pools_ctl.append(ctl_pools)\n",
    "\n",
    "    # Create dictionaries that map between ids and policies for both treatment and control\n",
    "    id_to_policy_dict_trt = {i: x for i, x in enumerate(all_policies) if hasse.policy_to_profile(x) == (1, 1, 1, 1)}\n",
    "    id_to_policy_dict_ctl = {i: x for i, x in enumerate(all_policies) if hasse.policy_to_profile(x) == (0, 1, 1, 1)}\n",
    "    all_r_pools_trt_counters, all_r_pools_ctl_counters = {}, {}\n",
    "\n",
    "    # For each rashomon set, we make a Counter for both the treatment and control poolings and insert in a dictionary.\n",
    "    for r_set_idx in range(len(all_r_pools_trt)):\n",
    "        c_trt = Counter()\n",
    "        c_ctl = Counter()\n",
    "        for key, value in all_r_pools_trt[r_set_idx].items():\n",
    "            to_add = list(map(tuple, [id_to_policy_dict_trt[idx][1:] for idx in value]))\n",
    "            to_add = tuple((sorted(to_add)))\n",
    "            all_r_pools_trt[r_set_idx][key] = to_add\n",
    "            c_trt.update([to_add])\n",
    "\n",
    "        for key, value in all_r_pools_ctl[r_set_idx].items():\n",
    "            to_add = tuple(map(tuple, [id_to_policy_dict_ctl[idx][1:] for idx in value]))\n",
    "            to_add = tuple(sorted(to_add))\n",
    "            all_r_pools_ctl[r_set_idx][key] = to_add\n",
    "            c_ctl.update([to_add])\n",
    "\n",
    "        all_r_pools_trt_counters[r_set_idx] = c_trt\n",
    "        all_r_pools_ctl_counters[r_set_idx] = c_ctl\n",
    "    \n",
    "    return all_r_pools_trt_counters, all_r_pools_ctl_counters"
   ]
  },
  {
   "cell_type": "code",
   "execution_count": 16,
   "id": "7f7fb862",
   "metadata": {},
   "outputs": [
    {
     "name": "stdout",
     "output_type": "stream",
     "text": [
      "Running RAggregate with theta = 3 and reg = 0.1\n",
      "Skipping profile (0, 0, 0, 0)\n",
      "Skipping profile (0, 0, 0, 1)\n",
      "Skipping profile (0, 0, 1, 0)\n",
      "Skipping profile (0, 0, 1, 1)\n",
      "Skipping profile (0, 1, 0, 0)\n",
      "Skipping profile (0, 1, 0, 1)\n",
      "Skipping profile (0, 1, 1, 0)\n",
      "(0, 1, 1, 1) 2.5402404523030584\n",
      "Adaptive\n",
      "Took 1.2091519832611084 s adaptively\n",
      "238\n",
      "Skipping profile (1, 0, 0, 0)\n",
      "Skipping profile (1, 0, 0, 1)\n",
      "Skipping profile (1, 0, 1, 0)\n",
      "Skipping profile (1, 0, 1, 1)\n",
      "Skipping profile (1, 1, 0, 0)\n",
      "Skipping profile (1, 1, 0, 1)\n",
      "Skipping profile (1, 1, 1, 0)\n",
      "(1, 1, 1, 1) 3.0\n",
      "Adaptive\n",
      "Took 1.278930902481079 s adaptively\n",
      "92\n",
      "Finding feasible combinations\n",
      "Min = 1.7865754084828451, Max = 5.983622437621808\n",
      "Length of the RPS is 3076\n"
     ]
    },
    {
     "name": "stderr",
     "output_type": "stream",
     "text": [
      "100%|█████████████████████████████████████████| 500/500 [00:06<00:00, 79.79it/s]"
     ]
    },
    {
     "name": "stdout",
     "output_type": "stream",
     "text": [
      "Intersections from Treatment Partitions: 8 \n",
      "Intersections from Control Partitions: 8\n"
     ]
    },
    {
     "name": "stderr",
     "output_type": "stream",
     "text": [
      "\n"
     ]
    }
   ],
   "source": [
    "# Compute the intersection between the partitions from the CRF trees and the partitions from the Rashomon Set.\n",
    "# This can take a long time depending on the size of your RPS. It takes 5-10 minutes for 100 trees and 60000+ models in the Rashomon Set.\n",
    "\n",
    "all_r_pools_trt_counters, all_r_pools_ctl_counters = create_rset_poolings(3, 0.1)\n",
    "intersection_trt, intersection_ctl = [], []\n",
    "\n",
    "for key, pool in tqdm(all_pools_crf_counters.items()):\n",
    "    if pool in all_r_pools_trt_counters.values():\n",
    "        intersection_trt.append(pool)\n",
    "    if pool in all_r_pools_ctl_counters.values():\n",
    "        intersection_ctl.append(pool)\n",
    "\n",
    "print(\"Intersections from Treatment Partitions:\", len(intersection_trt), \"\\nIntersections from Control Partitions:\", len(intersection_ctl))"
   ]
  },
  {
   "cell_type": "markdown",
   "id": "ff12b306",
   "metadata": {},
   "source": [
    "## Permissibility of CRF Partitions"
   ]
  },
  {
   "cell_type": "markdown",
   "id": "5b3c0a65",
   "metadata": {},
   "source": [
    "The following code checks to see if the trees in the Causal Random Forest admit permissible partitions. The $\\texttt{is\\_permissible()}$ function takes a partition as well as the array $R$ which parameterizes the arms of the problem. It outputs a truth value."
   ]
  },
  {
   "cell_type": "code",
   "execution_count": 18,
   "id": "a00d0087",
   "metadata": {},
   "outputs": [],
   "source": [
    "# R = np.array([2, 4, 5, 5])\n",
    "from itertools import product\n",
    "\n",
    "crf_R = R[1:]\n",
    "\n",
    "# Computes if there is exactly one True among a boolean array.\n",
    "def single_true(iterable):\n",
    "    i = iter(iterable)\n",
    "    return any(i) and not any(i)\n",
    "\n",
    "# Checks to see if a pool satisfies the strongly convex criterion (is shaped like a box)\n",
    "def not_strongly_convex(pool):\n",
    "    min_array, max_array = [min(profile) for profile in zip(*pool)], [max(profile) for profile in zip(*pool)]\n",
    "    arrays = [list(range(min_array[i], max_array[i] + 1)) for i in range(len(min_array))]\n",
    "    for profile in product(*arrays):\n",
    "        if profile not in pool:\n",
    "            return True\n",
    "        \n",
    "    return False\n",
    "\n",
    "# Checks if a partition, implemented as a set of pools, is permissible.\n",
    "def is_permissible(partition, R):\n",
    "    pools_look_up = dict()\n",
    "    \n",
    "    # Create pools_look_up, a dictionary that maps each profile to its pool.\n",
    "    for pool in partition:\n",
    "        if not_strongly_convex(pool):\n",
    "            return False\n",
    "        for item in pool:\n",
    "            pools_look_up[item] = pool\n",
    "    \n",
    "    # For every profile and every profile in the same pool that differs by only one arm,\n",
    "    # we loop through all the other pools and check to see if \n",
    "    for profile, pool in pools_look_up.items():\n",
    "        # print(\"Current Profile:\", profile)\n",
    "        arrays = [list(range(1, element)) for element in R]\n",
    "        for other_profile in pool:\n",
    "            # print(\"---Other Profile:\", other_profile)\n",
    "            relative_diff = np.array(other_profile) - np.array(profile)\n",
    "\n",
    "            # We want to skip profile comparisons that are not just a change in one arm.\n",
    "            if not single_true(relative_diff != 0):\n",
    "                # print(\"Skipping This Profile\")\n",
    "                continue\n",
    "            nonzero_diff_indices = np.nonzero(relative_diff)[0]\n",
    "            for nonzero_diff_idx in nonzero_diff_indices:\n",
    "                arrays[nonzero_diff_idx] = [profile[nonzero_diff_idx]]\n",
    "            for profile2 in product(*arrays):\n",
    "                # print(\"------Search Profile 2:\", profile2)\n",
    "                new_profile = np.array(profile2) + relative_diff\n",
    "\n",
    "                # If this profile does not exist, then we should continue\n",
    "                if any(new_profile + 1 > R) or any(new_profile - 1 < 0):\n",
    "                    continue\n",
    "\n",
    "                # If this profile does exist but is not in the same pool as the profile it is being compared to, then we return False\n",
    "                if profile2 not in pools_look_up[tuple(new_profile)]:\n",
    "                    # print(f\"Failed: {profile2} not in same pool as {tuple(new_profile)} even though {profile} in same pool as {other_profile}\")\n",
    "                    return False\n",
    "    \n",
    "    return True\n"
   ]
  },
  {
   "cell_type": "code",
   "execution_count": 19,
   "id": "2a7142e2",
   "metadata": {},
   "outputs": [
    {
     "name": "stdout",
     "output_type": "stream",
     "text": [
      "Tree 3\n",
      "{(1, 2, 1), (1, 2, 2), (1, 1, 1), (1, 1, 2)}\n",
      "{(1, 1, 3), (1, 1, 4), (1, 2, 3), (1, 2, 4)}\n",
      "{(1, 3, 1), (1, 3, 2), (1, 4, 1), (1, 4, 2)}\n",
      "{(1, 4, 3), (1, 4, 4), (1, 3, 3), (1, 3, 4)}\n",
      "{(2, 1, 1), (2, 1, 2), (2, 2, 1), (2, 2, 2)}\n",
      "{(2, 2, 3), (2, 2, 4), (2, 1, 3), (2, 1, 4)}\n",
      "{(2, 3, 1), (2, 3, 2), (2, 4, 1), (2, 4, 2)}\n",
      "{(2, 4, 4), (2, 3, 3), (2, 3, 4), (2, 4, 3)}\n",
      "{(3, 2, 1), (3, 2, 2), (3, 1, 1), (3, 1, 2)}\n",
      "{(3, 1, 3), (3, 1, 4), (3, 2, 3), (3, 2, 4)}\n",
      "{(3, 3, 1), (3, 3, 2), (3, 4, 1), (3, 4, 2)}\n",
      "{(3, 4, 3), (3, 4, 4), (3, 3, 3), (3, 3, 4)}\n",
      "Tree 10\n",
      "{(1, 2, 1), (1, 2, 2), (1, 1, 1), (1, 1, 2)}\n",
      "{(1, 1, 3), (1, 1, 4), (1, 2, 3), (1, 2, 4)}\n",
      "{(1, 3, 1), (1, 3, 2), (1, 4, 1), (1, 4, 2)}\n",
      "{(1, 4, 3), (1, 4, 4), (1, 3, 3), (1, 3, 4)}\n",
      "{(2, 1, 1), (2, 1, 2), (2, 2, 1), (2, 2, 2)}\n",
      "{(2, 2, 3), (2, 2, 4), (2, 1, 3), (2, 1, 4)}\n",
      "{(2, 3, 1), (2, 3, 2), (2, 4, 1), (2, 4, 2)}\n",
      "{(2, 4, 4), (2, 3, 3), (2, 3, 4), (2, 4, 3)}\n",
      "{(3, 2, 1), (3, 2, 2), (3, 1, 1), (3, 1, 2)}\n",
      "{(3, 1, 3), (3, 1, 4), (3, 2, 3), (3, 2, 4)}\n",
      "{(3, 3, 1), (3, 3, 2), (3, 4, 1), (3, 4, 2)}\n",
      "{(3, 4, 3), (3, 4, 4), (3, 3, 3), (3, 3, 4)}\n",
      "Tree 163\n",
      "{(1, 2, 1), (1, 2, 2), (1, 1, 1), (1, 1, 2)}\n",
      "{(1, 1, 3), (1, 1, 4), (1, 2, 3), (1, 2, 4)}\n",
      "{(1, 3, 1), (1, 3, 2), (1, 4, 1), (1, 4, 2)}\n",
      "{(1, 4, 3), (1, 4, 4), (1, 3, 3), (1, 3, 4)}\n",
      "{(2, 1, 1), (2, 1, 2), (2, 2, 1), (2, 2, 2)}\n",
      "{(2, 2, 3), (2, 2, 4), (2, 1, 3), (2, 1, 4)}\n",
      "{(2, 3, 1), (2, 3, 2), (2, 4, 1), (2, 4, 2)}\n",
      "{(2, 4, 4), (2, 3, 3), (2, 3, 4), (2, 4, 3)}\n",
      "{(3, 2, 1), (3, 2, 2), (3, 1, 1), (3, 1, 2)}\n",
      "{(3, 1, 3), (3, 1, 4), (3, 2, 3), (3, 2, 4)}\n",
      "{(3, 3, 1), (3, 3, 2), (3, 4, 1), (3, 4, 2)}\n",
      "{(3, 4, 3), (3, 4, 4), (3, 3, 3), (3, 3, 4)}\n",
      "Tree 174\n",
      "{(1, 2, 1), (1, 2, 2), (1, 1, 1), (1, 1, 2)}\n",
      "{(1, 1, 3), (1, 1, 4), (1, 2, 3), (1, 2, 4)}\n",
      "{(1, 3, 1), (1, 3, 2), (1, 4, 1), (1, 4, 2)}\n",
      "{(1, 4, 3), (1, 4, 4), (1, 3, 3), (1, 3, 4)}\n",
      "{(2, 1, 1), (2, 1, 2), (2, 2, 1), (2, 2, 2)}\n",
      "{(2, 2, 3), (2, 2, 4), (2, 1, 3), (2, 1, 4)}\n",
      "{(2, 3, 1), (2, 3, 2), (2, 4, 1), (2, 4, 2)}\n",
      "{(2, 4, 4), (2, 3, 3), (2, 3, 4), (2, 4, 3)}\n",
      "{(3, 2, 1), (3, 2, 2), (3, 1, 1), (3, 1, 2)}\n",
      "{(3, 1, 3), (3, 1, 4), (3, 2, 3), (3, 2, 4)}\n",
      "{(3, 3, 1), (3, 3, 2), (3, 4, 1), (3, 4, 2)}\n",
      "{(3, 4, 3), (3, 4, 4), (3, 3, 3), (3, 3, 4)}\n",
      "Tree 244\n",
      "{(1, 2, 1), (1, 2, 2), (1, 1, 1), (1, 1, 2)}\n",
      "{(1, 1, 3), (1, 1, 4), (1, 2, 3), (1, 2, 4)}\n",
      "{(1, 3, 1), (1, 3, 2), (1, 4, 1), (1, 4, 2)}\n",
      "{(1, 4, 3), (1, 4, 4), (1, 3, 3), (1, 3, 4)}\n",
      "{(2, 1, 1), (2, 1, 2), (2, 2, 1), (2, 2, 2)}\n",
      "{(2, 2, 3), (2, 2, 4), (2, 1, 3), (2, 1, 4)}\n",
      "{(2, 3, 1), (2, 3, 2), (2, 4, 1), (2, 4, 2)}\n",
      "{(2, 4, 4), (2, 3, 3), (2, 3, 4), (2, 4, 3)}\n",
      "{(3, 2, 1), (3, 2, 2), (3, 1, 1), (3, 1, 2)}\n",
      "{(3, 1, 3), (3, 1, 4), (3, 2, 3), (3, 2, 4)}\n",
      "{(3, 3, 1), (3, 3, 2), (3, 4, 1), (3, 4, 2)}\n",
      "{(3, 4, 3), (3, 4, 4), (3, 3, 3), (3, 3, 4)}\n",
      "Tree 280\n",
      "{(1, 2, 1), (1, 2, 2), (1, 1, 1), (1, 1, 2)}\n",
      "{(1, 1, 3), (1, 1, 4), (1, 2, 3), (1, 2, 4)}\n",
      "{(1, 3, 1), (1, 3, 2), (1, 4, 1), (1, 4, 2)}\n",
      "{(1, 4, 3), (1, 4, 4), (1, 3, 3), (1, 3, 4)}\n",
      "{(2, 1, 1), (2, 1, 2), (2, 2, 1), (2, 2, 2)}\n",
      "{(2, 2, 3), (2, 2, 4), (2, 1, 3), (2, 1, 4)}\n",
      "{(2, 3, 1), (2, 3, 2), (2, 4, 1), (2, 4, 2)}\n",
      "{(2, 4, 4), (2, 3, 3), (2, 3, 4), (2, 4, 3)}\n",
      "{(3, 2, 1), (3, 2, 2), (3, 1, 1), (3, 1, 2)}\n",
      "{(3, 1, 3), (3, 1, 4), (3, 2, 3), (3, 2, 4)}\n",
      "{(3, 3, 1), (3, 3, 2), (3, 4, 1), (3, 4, 2)}\n",
      "{(3, 4, 3), (3, 4, 4), (3, 3, 3), (3, 3, 4)}\n",
      "Tree 442\n",
      "{(1, 2, 1), (1, 2, 2), (1, 1, 1), (1, 1, 2)}\n",
      "{(1, 1, 3), (1, 1, 4), (1, 2, 3), (1, 2, 4)}\n",
      "{(1, 3, 1), (1, 3, 2), (1, 4, 1), (1, 4, 2)}\n",
      "{(1, 4, 3), (1, 4, 4), (1, 3, 3), (1, 3, 4)}\n",
      "{(2, 1, 1), (2, 1, 2), (2, 2, 1), (2, 2, 2)}\n",
      "{(2, 2, 3), (2, 2, 4), (2, 1, 3), (2, 1, 4)}\n",
      "{(2, 3, 1), (2, 3, 2), (2, 4, 1), (2, 4, 2)}\n",
      "{(2, 4, 4), (2, 3, 3), (2, 3, 4), (2, 4, 3)}\n",
      "{(3, 2, 1), (3, 2, 2), (3, 1, 1), (3, 1, 2)}\n",
      "{(3, 1, 3), (3, 1, 4), (3, 2, 3), (3, 2, 4)}\n",
      "{(3, 3, 1), (3, 3, 2), (3, 4, 1), (3, 4, 2)}\n",
      "{(3, 4, 3), (3, 4, 4), (3, 3, 3), (3, 3, 4)}\n",
      "Tree 471\n",
      "{(1, 2, 1), (1, 2, 2), (1, 1, 1), (1, 1, 2)}\n",
      "{(1, 1, 3), (1, 1, 4), (1, 2, 3), (1, 2, 4)}\n",
      "{(1, 3, 1), (1, 3, 2), (1, 4, 1), (1, 4, 2)}\n",
      "{(1, 4, 3), (1, 4, 4), (1, 3, 3), (1, 3, 4)}\n",
      "{(2, 1, 1), (2, 1, 2), (2, 2, 1), (2, 2, 2)}\n",
      "{(2, 2, 3), (2, 2, 4), (2, 1, 3), (2, 1, 4)}\n",
      "{(2, 3, 1), (2, 3, 2), (2, 4, 1), (2, 4, 2)}\n",
      "{(2, 4, 4), (2, 3, 3), (2, 3, 4), (2, 4, 3)}\n",
      "{(3, 2, 1), (3, 2, 2), (3, 1, 1), (3, 1, 2)}\n",
      "{(3, 1, 3), (3, 1, 4), (3, 2, 3), (3, 2, 4)}\n",
      "{(3, 3, 1), (3, 3, 2), (3, 4, 1), (3, 4, 2)}\n",
      "{(3, 4, 3), (3, 4, 4), (3, 3, 3), (3, 3, 4)}\n"
     ]
    }
   ],
   "source": [
    "# Running permissiblity on the list of CRF trees obtained from earlier in the notebook.\n",
    "permissibility = [is_permissible(crf_trees[i], crf_R) for i in range(len(crf_trees))]\n",
    "permissible_trees_idx = [i for i, e in enumerate(permissibility) if e != 0]\n",
    "\n",
    "# This prints all of the permissible CRF tree partitions.\n",
    "for idx in permissible_trees_idx:\n",
    "    print(f\"Tree {idx}\")\n",
    "    print(*crf_trees[idx], sep='\\n')"
   ]
  },
  {
   "cell_type": "markdown",
   "id": "cdd4470b",
   "metadata": {},
   "source": [
    "## Producing Tables/Plots"
   ]
  },
  {
   "cell_type": "markdown",
   "id": "51fbb9ba",
   "metadata": {},
   "source": [
    "The chunk of code below produces plots for this simulation. It performs 100 simulations and then . This assumes that you have run all the code blocks before and computed the Counter representations for the RPS (takes a long time so we reuse it here)."
   ]
  },
  {
   "cell_type": "code",
   "execution_count": 21,
   "id": "80f8c7b0",
   "metadata": {},
   "outputs": [
    {
     "name": "stdout",
     "output_type": "stream",
     "text": [
      "\n",
      "\n",
      "Running Iteration 1\n",
      "Running RAggregate with theta = 1.9538519297075907 and reg = 0.1\n",
      "Length of the RPS is 9\n"
     ]
    },
    {
     "name": "stderr",
     "output_type": "stream",
     "text": [
      "100%|████████████████████████████████████████| 20/20 [00:00<00:00, 24098.27it/s]\n",
      "100%|██████████████████████████████████████| 100/100 [00:00<00:00, 26299.87it/s]\n",
      "100%|██████████████████████████████████████| 500/500 [00:00<00:00, 26958.45it/s]\n"
     ]
    },
    {
     "name": "stdout",
     "output_type": "stream",
     "text": [
      "Running RAggregate with theta = 2.1314748324082804 and reg = 0.1\n",
      "Length of the RPS is 49\n"
     ]
    },
    {
     "name": "stderr",
     "output_type": "stream",
     "text": [
      "100%|█████████████████████████████████████████| 20/20 [00:00<00:00, 5174.32it/s]\n",
      "100%|███████████████████████████████████████| 100/100 [00:00<00:00, 5958.83it/s]\n",
      "100%|███████████████████████████████████████| 500/500 [00:00<00:00, 5571.72it/s]\n"
     ]
    },
    {
     "name": "stdout",
     "output_type": "stream",
     "text": [
      "Running RAggregate with theta = 2.309097735108971 and reg = 0.1\n",
      "Length of the RPS is 155\n"
     ]
    },
    {
     "name": "stderr",
     "output_type": "stream",
     "text": [
      "100%|█████████████████████████████████████████| 20/20 [00:00<00:00, 1868.25it/s]\n",
      "100%|███████████████████████████████████████| 100/100 [00:00<00:00, 1822.49it/s]\n",
      "100%|███████████████████████████████████████| 500/500 [00:00<00:00, 1792.55it/s]\n"
     ]
    },
    {
     "name": "stdout",
     "output_type": "stream",
     "text": [
      "Running RAggregate with theta = 2.664343540510351 and reg = 0.1\n",
      "Length of the RPS is 944\n"
     ]
    },
    {
     "name": "stderr",
     "output_type": "stream",
     "text": [
      "100%|██████████████████████████████████████████| 20/20 [00:00<00:00, 272.99it/s]\n",
      "100%|████████████████████████████████████████| 100/100 [00:00<00:00, 279.96it/s]\n",
      "100%|████████████████████████████████████████| 500/500 [00:01<00:00, 283.67it/s]\n"
     ]
    },
    {
     "name": "stdout",
     "output_type": "stream",
     "text": [
      "\n",
      "\n",
      "Running Iteration 2\n",
      "Running RAggregate with theta = 1.9615380383456924 and reg = 0.1\n",
      "Length of the RPS is 10\n"
     ]
    },
    {
     "name": "stderr",
     "output_type": "stream",
     "text": [
      "100%|████████████████████████████████████████| 20/20 [00:00<00:00, 21620.12it/s]\n",
      "100%|██████████████████████████████████████| 100/100 [00:00<00:00, 21731.02it/s]\n",
      "100%|██████████████████████████████████████| 500/500 [00:00<00:00, 21724.04it/s]\n"
     ]
    },
    {
     "name": "stdout",
     "output_type": "stream",
     "text": [
      "Running RAggregate with theta = 2.1398596781953003 and reg = 0.1\n",
      "Length of the RPS is 49\n"
     ]
    },
    {
     "name": "stderr",
     "output_type": "stream",
     "text": [
      "100%|█████████████████████████████████████████| 20/20 [00:00<00:00, 5688.35it/s]\n",
      "100%|███████████████████████████████████████| 100/100 [00:00<00:00, 5820.65it/s]\n",
      "100%|███████████████████████████████████████| 500/500 [00:00<00:00, 5622.07it/s]\n"
     ]
    },
    {
     "name": "stdout",
     "output_type": "stream",
     "text": [
      "Running RAggregate with theta = 2.318181318044909 and reg = 0.1\n",
      "Length of the RPS is 146\n"
     ]
    },
    {
     "name": "stderr",
     "output_type": "stream",
     "text": [
      "100%|█████████████████████████████████████████| 20/20 [00:00<00:00, 2067.79it/s]\n",
      "100%|███████████████████████████████████████| 100/100 [00:00<00:00, 1903.60it/s]\n",
      "100%|███████████████████████████████████████| 500/500 [00:00<00:00, 1862.32it/s]\n"
     ]
    },
    {
     "name": "stdout",
     "output_type": "stream",
     "text": [
      "Running RAggregate with theta = 2.674824597744126 and reg = 0.1\n",
      "Length of the RPS is 870\n"
     ]
    },
    {
     "name": "stderr",
     "output_type": "stream",
     "text": [
      "100%|██████████████████████████████████████████| 20/20 [00:00<00:00, 296.00it/s]\n",
      "100%|████████████████████████████████████████| 100/100 [00:00<00:00, 307.86it/s]\n",
      "100%|████████████████████████████████████████| 500/500 [00:01<00:00, 310.09it/s]\n"
     ]
    },
    {
     "name": "stdout",
     "output_type": "stream",
     "text": [
      "\n",
      "\n",
      "Running Iteration 3\n",
      "Running RAggregate with theta = 1.9652329493311298 and reg = 0.1\n",
      "Length of the RPS is 9\n"
     ]
    },
    {
     "name": "stderr",
     "output_type": "stream",
     "text": [
      "100%|████████████████████████████████████████| 20/20 [00:00<00:00, 17403.75it/s]\n",
      "100%|██████████████████████████████████████| 100/100 [00:00<00:00, 19037.33it/s]\n",
      "100%|██████████████████████████████████████| 500/500 [00:00<00:00, 27344.76it/s]\n"
     ]
    },
    {
     "name": "stdout",
     "output_type": "stream",
     "text": [
      "Running RAggregate with theta = 2.1438904901794142 and reg = 0.1\n",
      "Length of the RPS is 49\n"
     ]
    },
    {
     "name": "stderr",
     "output_type": "stream",
     "text": [
      "100%|█████████████████████████████████████████| 20/20 [00:00<00:00, 5383.87it/s]\n",
      "100%|███████████████████████████████████████| 100/100 [00:00<00:00, 3815.19it/s]\n",
      "100%|███████████████████████████████████████| 500/500 [00:00<00:00, 5169.95it/s]\n"
     ]
    },
    {
     "name": "stdout",
     "output_type": "stream",
     "text": [
      "Running RAggregate with theta = 2.322548031027699 and reg = 0.1\n",
      "Length of the RPS is 145\n"
     ]
    },
    {
     "name": "stderr",
     "output_type": "stream",
     "text": [
      "100%|█████████████████████████████████████████| 20/20 [00:00<00:00, 1933.71it/s]\n",
      "100%|███████████████████████████████████████| 100/100 [00:00<00:00, 1751.41it/s]\n",
      "100%|███████████████████████████████████████| 500/500 [00:00<00:00, 1931.98it/s]\n"
     ]
    },
    {
     "name": "stdout",
     "output_type": "stream",
     "text": [
      "Running RAggregate with theta = 2.679863112724268 and reg = 0.1\n",
      "Length of the RPS is 958\n"
     ]
    },
    {
     "name": "stderr",
     "output_type": "stream",
     "text": [
      "100%|██████████████████████████████████████████| 20/20 [00:00<00:00, 310.50it/s]\n",
      "100%|████████████████████████████████████████| 100/100 [00:00<00:00, 267.76it/s]\n",
      "100%|████████████████████████████████████████| 500/500 [00:01<00:00, 293.03it/s]\n"
     ]
    },
    {
     "name": "stdout",
     "output_type": "stream",
     "text": [
      "\n",
      "\n",
      "Running Iteration 4\n",
      "Running RAggregate with theta = 1.8971592215014832 and reg = 0.1\n",
      "Length of the RPS is 9\n"
     ]
    },
    {
     "name": "stderr",
     "output_type": "stream",
     "text": [
      "100%|████████████████████████████████████████| 20/20 [00:00<00:00, 24392.58it/s]\n",
      "100%|██████████████████████████████████████| 100/100 [00:00<00:00, 26924.53it/s]\n",
      "100%|██████████████████████████████████████| 500/500 [00:00<00:00, 26608.54it/s]\n"
     ]
    },
    {
     "name": "stdout",
     "output_type": "stream",
     "text": [
      "Running RAggregate with theta = 2.0696282416379814 and reg = 0.1\n",
      "Length of the RPS is 40\n"
     ]
    },
    {
     "name": "stderr",
     "output_type": "stream",
     "text": [
      "100%|█████████████████████████████████████████| 20/20 [00:00<00:00, 6158.13it/s]\n",
      "100%|███████████████████████████████████████| 100/100 [00:00<00:00, 7153.12it/s]\n",
      "100%|███████████████████████████████████████| 500/500 [00:00<00:00, 7580.22it/s]\n"
     ]
    },
    {
     "name": "stdout",
     "output_type": "stream",
     "text": [
      "Running RAggregate with theta = 2.24209726177448 and reg = 0.1\n",
      "Length of the RPS is 102\n"
     ]
    },
    {
     "name": "stderr",
     "output_type": "stream",
     "text": [
      "100%|█████████████████████████████████████████| 20/20 [00:00<00:00, 2945.54it/s]\n",
      "100%|███████████████████████████████████████| 100/100 [00:00<00:00, 2437.78it/s]\n",
      "100%|███████████████████████████████████████| 500/500 [00:00<00:00, 2791.46it/s]\n"
     ]
    },
    {
     "name": "stdout",
     "output_type": "stream",
     "text": [
      "Running RAggregate with theta = 2.587035302047477 and reg = 0.1\n",
      "Length of the RPS is 653\n"
     ]
    },
    {
     "name": "stderr",
     "output_type": "stream",
     "text": [
      "100%|██████████████████████████████████████████| 20/20 [00:00<00:00, 375.90it/s]\n",
      "100%|████████████████████████████████████████| 100/100 [00:00<00:00, 425.95it/s]\n",
      "100%|████████████████████████████████████████| 500/500 [00:01<00:00, 439.03it/s]\n"
     ]
    },
    {
     "name": "stdout",
     "output_type": "stream",
     "text": [
      "\n",
      "\n",
      "Running Iteration 5\n",
      "Running RAggregate with theta = 1.9578722240227033 and reg = 0.1\n",
      "Length of the RPS is 9\n"
     ]
    },
    {
     "name": "stderr",
     "output_type": "stream",
     "text": [
      "100%|████████████████████████████████████████| 20/20 [00:00<00:00, 23696.63it/s]\n",
      "100%|██████████████████████████████████████| 100/100 [00:00<00:00, 26931.45it/s]\n",
      "100%|██████████████████████████████████████| 500/500 [00:00<00:00, 29373.93it/s]\n"
     ]
    },
    {
     "name": "stdout",
     "output_type": "stream",
     "text": [
      "Running RAggregate with theta = 2.135860608024767 and reg = 0.1\n",
      "Length of the RPS is 48\n"
     ]
    },
    {
     "name": "stderr",
     "output_type": "stream",
     "text": [
      "100%|█████████████████████████████████████████| 20/20 [00:00<00:00, 6114.59it/s]\n",
      "100%|███████████████████████████████████████| 100/100 [00:00<00:00, 5662.47it/s]\n",
      "100%|███████████████████████████████████████| 500/500 [00:00<00:00, 5769.87it/s]\n"
     ]
    },
    {
     "name": "stdout",
     "output_type": "stream",
     "text": [
      "Running RAggregate with theta = 2.313848992026831 and reg = 0.1\n",
      "Length of the RPS is 127\n"
     ]
    },
    {
     "name": "stderr",
     "output_type": "stream",
     "text": [
      "100%|█████████████████████████████████████████| 20/20 [00:00<00:00, 2382.72it/s]\n",
      "100%|███████████████████████████████████████| 100/100 [00:00<00:00, 2234.38it/s]\n",
      "100%|███████████████████████████████████████| 500/500 [00:00<00:00, 2356.59it/s]\n"
     ]
    },
    {
     "name": "stdout",
     "output_type": "stream",
     "text": [
      "Running RAggregate with theta = 2.6698257600309585 and reg = 0.1\n",
      "Length of the RPS is 661\n"
     ]
    },
    {
     "name": "stderr",
     "output_type": "stream",
     "text": [
      "100%|██████████████████████████████████████████| 20/20 [00:00<00:00, 480.02it/s]\n",
      "100%|████████████████████████████████████████| 100/100 [00:00<00:00, 440.35it/s]\n",
      "100%|████████████████████████████████████████| 500/500 [00:01<00:00, 404.21it/s]\n"
     ]
    },
    {
     "name": "stdout",
     "output_type": "stream",
     "text": [
      "\n",
      "\n",
      "Running Iteration 6\n",
      "Running RAggregate with theta = 1.9138260036606682 and reg = 0.1\n",
      "Length of the RPS is 9\n"
     ]
    },
    {
     "name": "stderr",
     "output_type": "stream",
     "text": [
      "100%|████████████████████████████████████████| 20/20 [00:00<00:00, 24607.24it/s]\n",
      "100%|██████████████████████████████████████| 100/100 [00:00<00:00, 27165.18it/s]\n",
      "100%|██████████████████████████████████████| 500/500 [00:00<00:00, 28896.74it/s]\n"
     ]
    },
    {
     "name": "stdout",
     "output_type": "stream",
     "text": [
      "Running RAggregate with theta = 2.087810185811638 and reg = 0.1\n",
      "Length of the RPS is 49\n"
     ]
    },
    {
     "name": "stderr",
     "output_type": "stream",
     "text": [
      "100%|█████████████████████████████████████████| 20/20 [00:00<00:00, 5501.81it/s]\n",
      "100%|███████████████████████████████████████| 100/100 [00:00<00:00, 5375.18it/s]\n",
      "100%|███████████████████████████████████████| 500/500 [00:00<00:00, 5146.69it/s]\n"
     ]
    },
    {
     "name": "stdout",
     "output_type": "stream",
     "text": [
      "Running RAggregate with theta = 2.2617943679626076 and reg = 0.1\n",
      "Length of the RPS is 144\n"
     ]
    },
    {
     "name": "stderr",
     "output_type": "stream",
     "text": [
      "100%|█████████████████████████████████████████| 20/20 [00:00<00:00, 1083.35it/s]\n",
      "100%|███████████████████████████████████████| 100/100 [00:00<00:00, 1343.42it/s]\n",
      "100%|███████████████████████████████████████| 500/500 [00:00<00:00, 1931.46it/s]\n"
     ]
    },
    {
     "name": "stdout",
     "output_type": "stream",
     "text": [
      "Running RAggregate with theta = 2.6097627322645476 and reg = 0.1\n",
      "Length of the RPS is 803\n"
     ]
    },
    {
     "name": "stderr",
     "output_type": "stream",
     "text": [
      "100%|██████████████████████████████████████████| 20/20 [00:00<00:00, 143.86it/s]\n",
      "100%|████████████████████████████████████████| 100/100 [00:00<00:00, 330.24it/s]\n",
      "100%|████████████████████████████████████████| 500/500 [00:01<00:00, 299.55it/s]\n"
     ]
    },
    {
     "name": "stdout",
     "output_type": "stream",
     "text": [
      "\n",
      "\n",
      "Running Iteration 7\n",
      "Running RAggregate with theta = 1.8985743172099425 and reg = 0.1\n",
      "Length of the RPS is 10\n"
     ]
    },
    {
     "name": "stderr",
     "output_type": "stream",
     "text": [
      "100%|████████████████████████████████████████| 20/20 [00:00<00:00, 21715.27it/s]\n",
      "100%|██████████████████████████████████████| 100/100 [00:00<00:00, 25076.55it/s]\n",
      "100%|██████████████████████████████████████| 500/500 [00:00<00:00, 20794.15it/s]\n"
     ]
    },
    {
     "name": "stdout",
     "output_type": "stream",
     "text": [
      "Running RAggregate with theta = 2.071171982410846 and reg = 0.1\n",
      "Length of the RPS is 51\n"
     ]
    },
    {
     "name": "stderr",
     "output_type": "stream",
     "text": [
      "100%|█████████████████████████████████████████| 20/20 [00:00<00:00, 5317.66it/s]\n",
      "100%|███████████████████████████████████████| 100/100 [00:00<00:00, 5504.77it/s]\n",
      "100%|███████████████████████████████████████| 500/500 [00:00<00:00, 5139.22it/s]\n"
     ]
    },
    {
     "name": "stdout",
     "output_type": "stream",
     "text": [
      "Running RAggregate with theta = 2.24376964761175 and reg = 0.1\n",
      "Length of the RPS is 185\n"
     ]
    },
    {
     "name": "stderr",
     "output_type": "stream",
     "text": [
      "100%|█████████████████████████████████████████| 20/20 [00:00<00:00, 1564.43it/s]\n",
      "100%|███████████████████████████████████████| 100/100 [00:00<00:00, 1533.04it/s]\n",
      "100%|███████████████████████████████████████| 500/500 [00:00<00:00, 1307.85it/s]\n"
     ]
    },
    {
     "name": "stdout",
     "output_type": "stream",
     "text": [
      "Running RAggregate with theta = 2.588964978013558 and reg = 0.1\n",
      "Length of the RPS is 1200\n"
     ]
    },
    {
     "name": "stderr",
     "output_type": "stream",
     "text": [
      "100%|██████████████████████████████████████████| 20/20 [00:00<00:00, 226.77it/s]\n",
      "100%|████████████████████████████████████████| 100/100 [00:00<00:00, 188.07it/s]\n",
      "100%|████████████████████████████████████████| 500/500 [00:02<00:00, 207.35it/s]\n"
     ]
    },
    {
     "name": "stdout",
     "output_type": "stream",
     "text": [
      "\n",
      "\n",
      "Running Iteration 8\n",
      "Running RAggregate with theta = 1.9787718796998695 and reg = 0.1\n",
      "Length of the RPS is 0\n"
     ]
    },
    {
     "name": "stderr",
     "output_type": "stream",
     "text": [
      "100%|███████████████████████████████████████| 20/20 [00:00<00:00, 458393.88it/s]\n",
      "100%|████████████████████████████████████| 100/100 [00:00<00:00, 1314828.84it/s]\n",
      "100%|████████████████████████████████████| 500/500 [00:00<00:00, 2369663.28it/s]\n"
     ]
    },
    {
     "name": "stdout",
     "output_type": "stream",
     "text": [
      "Running RAggregate with theta = 2.1586602323998574 and reg = 0.1\n",
      "Length of the RPS is 41\n"
     ]
    },
    {
     "name": "stderr",
     "output_type": "stream",
     "text": [
      "100%|█████████████████████████████████████████| 20/20 [00:00<00:00, 7037.42it/s]\n",
      "100%|███████████████████████████████████████| 100/100 [00:00<00:00, 7328.73it/s]\n",
      "100%|███████████████████████████████████████| 500/500 [00:00<00:00, 7050.79it/s]\n"
     ]
    },
    {
     "name": "stdout",
     "output_type": "stream",
     "text": [
      "Running RAggregate with theta = 2.3385485850998453 and reg = 0.1\n",
      "Length of the RPS is 102\n"
     ]
    },
    {
     "name": "stderr",
     "output_type": "stream",
     "text": [
      "100%|█████████████████████████████████████████| 20/20 [00:00<00:00, 2904.34it/s]\n",
      "100%|███████████████████████████████████████| 100/100 [00:00<00:00, 2806.21it/s]\n",
      "100%|███████████████████████████████████████| 500/500 [00:00<00:00, 2834.26it/s]\n"
     ]
    },
    {
     "name": "stdout",
     "output_type": "stream",
     "text": [
      "Running RAggregate with theta = 2.6983252904998216 and reg = 0.1\n",
      "Length of the RPS is 847\n"
     ]
    },
    {
     "name": "stderr",
     "output_type": "stream",
     "text": [
      "100%|██████████████████████████████████████████| 20/20 [00:00<00:00, 331.59it/s]\n",
      "100%|████████████████████████████████████████| 100/100 [00:00<00:00, 329.66it/s]\n",
      "100%|████████████████████████████████████████| 500/500 [00:01<00:00, 326.97it/s]\n"
     ]
    },
    {
     "name": "stdout",
     "output_type": "stream",
     "text": [
      "\n",
      "\n",
      "Running Iteration 9\n",
      "Running RAggregate with theta = 2.010071718575194 and reg = 0.1\n",
      "Length of the RPS is 9\n"
     ]
    },
    {
     "name": "stderr",
     "output_type": "stream",
     "text": [
      "100%|████████████████████████████████████████| 20/20 [00:00<00:00, 24328.91it/s]\n",
      "100%|██████████████████████████████████████| 100/100 [00:00<00:00, 27527.10it/s]\n",
      "100%|██████████████████████████████████████| 500/500 [00:00<00:00, 25605.94it/s]\n"
     ]
    },
    {
     "name": "stdout",
     "output_type": "stream",
     "text": [
      "Running RAggregate with theta = 2.1928055111729385 and reg = 0.1\n",
      "Length of the RPS is 48\n"
     ]
    },
    {
     "name": "stderr",
     "output_type": "stream",
     "text": [
      "100%|█████████████████████████████████████████| 20/20 [00:00<00:00, 6095.04it/s]\n",
      "100%|███████████████████████████████████████| 100/100 [00:00<00:00, 6234.84it/s]\n",
      "100%|███████████████████████████████████████| 500/500 [00:00<00:00, 6038.79it/s]\n"
     ]
    },
    {
     "name": "stdout",
     "output_type": "stream",
     "text": [
      "Running RAggregate with theta = 2.3755393037706836 and reg = 0.1\n",
      "Length of the RPS is 137\n"
     ]
    },
    {
     "name": "stderr",
     "output_type": "stream",
     "text": [
      "100%|█████████████████████████████████████████| 20/20 [00:00<00:00, 2225.92it/s]\n",
      "100%|███████████████████████████████████████| 100/100 [00:00<00:00, 2136.21it/s]\n",
      "100%|███████████████████████████████████████| 500/500 [00:00<00:00, 1757.01it/s]\n"
     ]
    },
    {
     "name": "stdout",
     "output_type": "stream",
     "text": [
      "Running RAggregate with theta = 2.741006888966173 and reg = 0.1\n",
      "Length of the RPS is 906\n"
     ]
    },
    {
     "name": "stderr",
     "output_type": "stream",
     "text": [
      "100%|██████████████████████████████████████████| 20/20 [00:00<00:00, 275.54it/s]\n",
      "100%|████████████████████████████████████████| 100/100 [00:00<00:00, 316.03it/s]\n",
      "100%|████████████████████████████████████████| 500/500 [00:01<00:00, 321.11it/s]\n"
     ]
    },
    {
     "name": "stdout",
     "output_type": "stream",
     "text": [
      "\n",
      "\n",
      "Running Iteration 10\n",
      "Running RAggregate with theta = 1.8899637891771157 and reg = 0.1\n",
      "Length of the RPS is 10\n"
     ]
    },
    {
     "name": "stderr",
     "output_type": "stream",
     "text": [
      "100%|████████████████████████████████████████| 20/20 [00:00<00:00, 21008.28it/s]\n",
      "100%|██████████████████████████████████████| 100/100 [00:00<00:00, 24894.97it/s]\n",
      "100%|██████████████████████████████████████| 500/500 [00:00<00:00, 19042.34it/s]\n"
     ]
    },
    {
     "name": "stdout",
     "output_type": "stream",
     "text": [
      "Running RAggregate with theta = 2.0617786791023076 and reg = 0.1\n",
      "Length of the RPS is 50\n"
     ]
    },
    {
     "name": "stderr",
     "output_type": "stream",
     "text": [
      "100%|█████████████████████████████████████████| 20/20 [00:00<00:00, 5461.33it/s]\n",
      "100%|███████████████████████████████████████| 100/100 [00:00<00:00, 4065.82it/s]\n",
      "100%|███████████████████████████████████████| 500/500 [00:00<00:00, 4079.90it/s]\n"
     ]
    },
    {
     "name": "stdout",
     "output_type": "stream",
     "text": [
      "Running RAggregate with theta = 2.2335935690275 and reg = 0.1\n",
      "Length of the RPS is 185\n"
     ]
    },
    {
     "name": "stderr",
     "output_type": "stream",
     "text": [
      "100%|█████████████████████████████████████████| 20/20 [00:00<00:00, 1537.42it/s]\n",
      "100%|███████████████████████████████████████| 100/100 [00:00<00:00, 1395.46it/s]\n",
      "100%|███████████████████████████████████████| 500/500 [00:00<00:00, 1509.86it/s]\n"
     ]
    },
    {
     "name": "stdout",
     "output_type": "stream",
     "text": [
      "Running RAggregate with theta = 2.577223348877885 and reg = 0.1\n",
      "Length of the RPS is 1020\n"
     ]
    },
    {
     "name": "stderr",
     "output_type": "stream",
     "text": [
      "100%|██████████████████████████████████████████| 20/20 [00:00<00:00, 246.86it/s]\n",
      "100%|████████████████████████████████████████| 100/100 [00:00<00:00, 266.63it/s]\n",
      "100%|████████████████████████████████████████| 500/500 [00:01<00:00, 275.18it/s]\n"
     ]
    },
    {
     "name": "stdout",
     "output_type": "stream",
     "text": [
      "\n",
      "\n",
      "Running Iteration 11\n",
      "Running RAggregate with theta = 1.9961863041440522 and reg = 0.1\n",
      "Length of the RPS is 10\n"
     ]
    },
    {
     "name": "stderr",
     "output_type": "stream",
     "text": [
      "100%|████████████████████████████████████████| 20/20 [00:00<00:00, 21856.72it/s]\n",
      "100%|██████████████████████████████████████| 100/100 [00:00<00:00, 21474.01it/s]\n",
      "100%|██████████████████████████████████████| 500/500 [00:00<00:00, 22187.86it/s]\n"
     ]
    },
    {
     "name": "stdout",
     "output_type": "stream",
     "text": [
      "Running RAggregate with theta = 2.177657786338966 and reg = 0.1\n",
      "Length of the RPS is 57\n"
     ]
    },
    {
     "name": "stderr",
     "output_type": "stream",
     "text": [
      "100%|█████████████████████████████████████████| 20/20 [00:00<00:00, 5005.14it/s]\n",
      "100%|███████████████████████████████████████| 100/100 [00:00<00:00, 5038.99it/s]\n",
      "100%|███████████████████████████████████████| 500/500 [00:00<00:00, 4907.73it/s]\n"
     ]
    },
    {
     "name": "stdout",
     "output_type": "stream",
     "text": [
      "Running RAggregate with theta = 2.35912926853388 and reg = 0.1\n",
      "Length of the RPS is 209\n"
     ]
    },
    {
     "name": "stderr",
     "output_type": "stream",
     "text": [
      "100%|█████████████████████████████████████████| 20/20 [00:00<00:00, 1200.12it/s]\n",
      "100%|███████████████████████████████████████| 100/100 [00:00<00:00, 1185.92it/s]\n",
      "100%|███████████████████████████████████████| 500/500 [00:00<00:00, 1276.97it/s]\n"
     ]
    },
    {
     "name": "stdout",
     "output_type": "stream",
     "text": [
      "Running RAggregate with theta = 2.7220722329237073 and reg = 0.1\n",
      "Length of the RPS is 1361\n"
     ]
    },
    {
     "name": "stderr",
     "output_type": "stream",
     "text": [
      "100%|██████████████████████████████████████████| 20/20 [00:00<00:00, 194.00it/s]\n",
      "100%|████████████████████████████████████████| 100/100 [00:00<00:00, 195.46it/s]\n",
      "100%|████████████████████████████████████████| 500/500 [00:02<00:00, 182.02it/s]\n"
     ]
    },
    {
     "name": "stdout",
     "output_type": "stream",
     "text": [
      "\n",
      "\n",
      "Running Iteration 12\n",
      "Running RAggregate with theta = 2.028828533865017 and reg = 0.1\n",
      "Length of the RPS is 9\n"
     ]
    },
    {
     "name": "stderr",
     "output_type": "stream",
     "text": [
      "100%|████████████████████████████████████████| 20/20 [00:00<00:00, 24694.17it/s]\n",
      "100%|██████████████████████████████████████| 100/100 [00:00<00:00, 25341.70it/s]\n",
      "100%|██████████████████████████████████████| 500/500 [00:00<00:00, 29137.23it/s]\n"
     ]
    },
    {
     "name": "stdout",
     "output_type": "stream",
     "text": [
      "Running RAggregate with theta = 2.213267491489109 and reg = 0.1\n",
      "Length of the RPS is 48\n"
     ]
    },
    {
     "name": "stderr",
     "output_type": "stream",
     "text": [
      "100%|█████████████████████████████████████████| 20/20 [00:00<00:00, 5894.19it/s]\n",
      "100%|███████████████████████████████████████| 100/100 [00:00<00:00, 5984.77it/s]\n",
      "100%|███████████████████████████████████████| 500/500 [00:00<00:00, 5856.79it/s]\n"
     ]
    },
    {
     "name": "stdout",
     "output_type": "stream",
     "text": [
      "Running RAggregate with theta = 2.3977064491132016 and reg = 0.1\n",
      "Length of the RPS is 145\n"
     ]
    },
    {
     "name": "stderr",
     "output_type": "stream",
     "text": [
      "100%|█████████████████████████████████████████| 20/20 [00:00<00:00, 2051.91it/s]\n",
      "100%|███████████████████████████████████████| 100/100 [00:00<00:00, 1705.52it/s]\n",
      "100%|███████████████████████████████████████| 500/500 [00:00<00:00, 1807.37it/s]\n"
     ]
    },
    {
     "name": "stdout",
     "output_type": "stream",
     "text": [
      "Running RAggregate with theta = 2.7665843643613863 and reg = 0.1\n",
      "Length of the RPS is 903\n"
     ]
    },
    {
     "name": "stderr",
     "output_type": "stream",
     "text": [
      "100%|██████████████████████████████████████████| 20/20 [00:00<00:00, 250.89it/s]\n",
      "100%|████████████████████████████████████████| 100/100 [00:00<00:00, 248.60it/s]\n",
      "100%|████████████████████████████████████████| 500/500 [00:01<00:00, 260.77it/s]\n"
     ]
    },
    {
     "name": "stdout",
     "output_type": "stream",
     "text": [
      "\n",
      "\n",
      "Running Iteration 13\n",
      "Running RAggregate with theta = 1.9913213747426122 and reg = 0.1\n",
      "Length of the RPS is 0\n"
     ]
    },
    {
     "name": "stderr",
     "output_type": "stream",
     "text": [
      "100%|███████████████████████████████████████| 20/20 [00:00<00:00, 327680.00it/s]\n",
      "100%|█████████████████████████████████████| 100/100 [00:00<00:00, 193821.81it/s]\n",
      "100%|████████████████████████████████████| 500/500 [00:00<00:00, 2464338.43it/s]\n"
     ]
    },
    {
     "name": "stdout",
     "output_type": "stream",
     "text": [
      "Running RAggregate with theta = 2.172350590628304 and reg = 0.1\n",
      "Length of the RPS is 40\n"
     ]
    },
    {
     "name": "stderr",
     "output_type": "stream",
     "text": [
      "100%|█████████████████████████████████████████| 20/20 [00:00<00:00, 7360.37it/s]\n",
      "100%|███████████████████████████████████████| 100/100 [00:00<00:00, 7472.08it/s]\n",
      "100%|███████████████████████████████████████| 500/500 [00:00<00:00, 7542.03it/s]\n"
     ]
    },
    {
     "name": "stdout",
     "output_type": "stream",
     "text": [
      "Running RAggregate with theta = 2.3533798065139964 and reg = 0.1\n",
      "Length of the RPS is 101\n"
     ]
    },
    {
     "name": "stderr",
     "output_type": "stream",
     "text": [
      "100%|█████████████████████████████████████████| 20/20 [00:00<00:00, 2846.59it/s]\n",
      "100%|███████████████████████████████████████| 100/100 [00:00<00:00, 2653.45it/s]\n",
      "100%|███████████████████████████████████████| 500/500 [00:00<00:00, 3039.44it/s]\n"
     ]
    },
    {
     "name": "stdout",
     "output_type": "stream",
     "text": [
      "Running RAggregate with theta = 2.71543823828538 and reg = 0.1\n",
      "Length of the RPS is 721\n"
     ]
    },
    {
     "name": "stderr",
     "output_type": "stream",
     "text": [
      "100%|██████████████████████████████████████████| 20/20 [00:00<00:00, 419.12it/s]\n",
      "100%|████████████████████████████████████████| 100/100 [00:00<00:00, 399.36it/s]\n",
      "100%|████████████████████████████████████████| 500/500 [00:01<00:00, 392.85it/s]\n"
     ]
    },
    {
     "name": "stdout",
     "output_type": "stream",
     "text": [
      "\n",
      "\n",
      "Running Iteration 14\n",
      "Running RAggregate with theta = 2.000057618277398 and reg = 0.1\n",
      "Length of the RPS is 0\n"
     ]
    },
    {
     "name": "stderr",
     "output_type": "stream",
     "text": [
      "100%|███████████████████████████████████████| 20/20 [00:00<00:00, 377865.23it/s]\n",
      "100%|█████████████████████████████████████| 100/100 [00:00<00:00, 495195.28it/s]\n",
      "100%|████████████████████████████████████| 500/500 [00:00<00:00, 2449943.93it/s]\n"
     ]
    },
    {
     "name": "stdout",
     "output_type": "stream",
     "text": [
      "Running RAggregate with theta = 2.181881038120798 and reg = 0.1\n",
      "Length of the RPS is 40\n"
     ]
    },
    {
     "name": "stderr",
     "output_type": "stream",
     "text": [
      "100%|█████████████████████████████████████████| 20/20 [00:00<00:00, 6793.50it/s]\n",
      "100%|███████████████████████████████████████| 100/100 [00:00<00:00, 7332.44it/s]\n",
      "100%|███████████████████████████████████████| 500/500 [00:00<00:00, 7502.56it/s]\n"
     ]
    },
    {
     "name": "stdout",
     "output_type": "stream",
     "text": [
      "Running RAggregate with theta = 2.363704457964198 and reg = 0.1\n",
      "Length of the RPS is 94\n"
     ]
    },
    {
     "name": "stderr",
     "output_type": "stream",
     "text": [
      "100%|█████████████████████████████████████████| 20/20 [00:00<00:00, 3138.74it/s]\n",
      "100%|███████████████████████████████████████| 100/100 [00:00<00:00, 2860.90it/s]\n",
      "100%|███████████████████████████████████████| 500/500 [00:00<00:00, 3004.95it/s]\n"
     ]
    },
    {
     "name": "stdout",
     "output_type": "stream",
     "text": [
      "Running RAggregate with theta = 2.7273512976509973 and reg = 0.1\n",
      "Length of the RPS is 765\n"
     ]
    },
    {
     "name": "stderr",
     "output_type": "stream",
     "text": [
      "100%|██████████████████████████████████████████| 20/20 [00:00<00:00, 351.89it/s]\n",
      "100%|████████████████████████████████████████| 100/100 [00:00<00:00, 360.83it/s]\n",
      "100%|████████████████████████████████████████| 500/500 [00:01<00:00, 337.87it/s]\n"
     ]
    },
    {
     "name": "stdout",
     "output_type": "stream",
     "text": [
      "\n",
      "\n",
      "Running Iteration 15\n",
      "Running RAggregate with theta = 1.9557778016668204 and reg = 0.1\n",
      "Length of the RPS is 10\n"
     ]
    },
    {
     "name": "stderr",
     "output_type": "stream",
     "text": [
      "100%|████████████████████████████████████████| 20/20 [00:00<00:00, 21811.25it/s]\n",
      "100%|██████████████████████████████████████| 100/100 [00:00<00:00, 16423.13it/s]\n",
      "100%|██████████████████████████████████████| 500/500 [00:00<00:00, 22093.66it/s]\n"
     ]
    },
    {
     "name": "stdout",
     "output_type": "stream",
     "text": [
      "Running RAggregate with theta = 2.133575783636531 and reg = 0.1\n",
      "Length of the RPS is 49\n"
     ]
    },
    {
     "name": "stderr",
     "output_type": "stream",
     "text": [
      "100%|█████████████████████████████████████████| 20/20 [00:00<00:00, 5720.94it/s]\n",
      "100%|███████████████████████████████████████| 100/100 [00:00<00:00, 4612.93it/s]\n",
      "100%|███████████████████████████████████████| 500/500 [00:00<00:00, 5782.81it/s]\n"
     ]
    },
    {
     "name": "stdout",
     "output_type": "stream",
     "text": [
      "Running RAggregate with theta = 2.311373765606242 and reg = 0.1\n",
      "Length of the RPS is 146\n"
     ]
    },
    {
     "name": "stderr",
     "output_type": "stream",
     "text": [
      "100%|█████████████████████████████████████████| 20/20 [00:00<00:00, 1728.58it/s]\n",
      "100%|███████████████████████████████████████| 100/100 [00:00<00:00, 1868.78it/s]\n",
      "100%|███████████████████████████████████████| 500/500 [00:00<00:00, 1815.33it/s]\n"
     ]
    },
    {
     "name": "stdout",
     "output_type": "stream",
     "text": [
      "Running RAggregate with theta = 2.666969729545664 and reg = 0.1\n",
      "Length of the RPS is 867\n"
     ]
    },
    {
     "name": "stderr",
     "output_type": "stream",
     "text": [
      "100%|██████████████████████████████████████████| 20/20 [00:00<00:00, 251.55it/s]\n",
      "100%|████████████████████████████████████████| 100/100 [00:00<00:00, 324.55it/s]\n",
      "100%|████████████████████████████████████████| 500/500 [00:01<00:00, 325.79it/s]\n"
     ]
    },
    {
     "name": "stdout",
     "output_type": "stream",
     "text": [
      "\n",
      "\n",
      "Running Iteration 16\n",
      "Running RAggregate with theta = 1.999188818843542 and reg = 0.1\n",
      "Length of the RPS is 9\n"
     ]
    },
    {
     "name": "stderr",
     "output_type": "stream",
     "text": [
      "100%|████████████████████████████████████████| 20/20 [00:00<00:00, 25251.68it/s]\n",
      "100%|██████████████████████████████████████| 100/100 [00:00<00:00, 28051.79it/s]\n",
      "100%|██████████████████████████████████████| 500/500 [00:00<00:00, 29168.03it/s]\n"
     ]
    },
    {
     "name": "stdout",
     "output_type": "stream",
     "text": [
      "Running RAggregate with theta = 2.1809332569202273 and reg = 0.1\n",
      "Length of the RPS is 41\n"
     ]
    },
    {
     "name": "stderr",
     "output_type": "stream",
     "text": [
      "100%|█████████████████████████████████████████| 20/20 [00:00<00:00, 7071.83it/s]\n",
      "100%|███████████████████████████████████████| 100/100 [00:00<00:00, 6483.70it/s]\n",
      "100%|███████████████████████████████████████| 500/500 [00:00<00:00, 6919.28it/s]\n"
     ]
    },
    {
     "name": "stdout",
     "output_type": "stream",
     "text": [
      "Running RAggregate with theta = 2.3626776949969135 and reg = 0.1\n",
      "Length of the RPS is 119\n"
     ]
    },
    {
     "name": "stderr",
     "output_type": "stream",
     "text": [
      "100%|█████████████████████████████████████████| 20/20 [00:00<00:00, 2165.64it/s]\n",
      "100%|███████████████████████████████████████| 100/100 [00:00<00:00, 2452.31it/s]\n",
      "100%|███████████████████████████████████████| 500/500 [00:00<00:00, 2392.65it/s]\n"
     ]
    },
    {
     "name": "stdout",
     "output_type": "stream",
     "text": [
      "Running RAggregate with theta = 2.7261665711502845 and reg = 0.1\n",
      "Length of the RPS is 886\n"
     ]
    },
    {
     "name": "stderr",
     "output_type": "stream",
     "text": [
      "100%|██████████████████████████████████████████| 20/20 [00:00<00:00, 313.03it/s]\n",
      "100%|████████████████████████████████████████| 100/100 [00:00<00:00, 305.56it/s]\n",
      "100%|████████████████████████████████████████| 500/500 [00:01<00:00, 299.88it/s]\n"
     ]
    },
    {
     "name": "stdout",
     "output_type": "stream",
     "text": [
      "\n",
      "\n",
      "Running Iteration 17\n",
      "Running RAggregate with theta = 2.020478642607833 and reg = 0.1\n",
      "Length of the RPS is 9\n"
     ]
    },
    {
     "name": "stderr",
     "output_type": "stream",
     "text": [
      "100%|████████████████████████████████████████| 20/20 [00:00<00:00, 24513.76it/s]\n",
      "100%|██████████████████████████████████████| 100/100 [00:00<00:00, 28059.30it/s]\n",
      "100%|██████████████████████████████████████| 500/500 [00:00<00:00, 23654.94it/s]\n"
     ]
    },
    {
     "name": "stdout",
     "output_type": "stream",
     "text": [
      "Running RAggregate with theta = 2.2041585192085447 and reg = 0.1\n",
      "Length of the RPS is 49\n"
     ]
    },
    {
     "name": "stderr",
     "output_type": "stream",
     "text": [
      "100%|█████████████████████████████████████████| 20/20 [00:00<00:00, 5743.65it/s]\n",
      "100%|███████████████████████████████████████| 100/100 [00:00<00:00, 5124.75it/s]\n",
      "100%|███████████████████████████████████████| 500/500 [00:00<00:00, 5809.16it/s]\n"
     ]
    },
    {
     "name": "stdout",
     "output_type": "stream",
     "text": [
      "Running RAggregate with theta = 2.387838395809257 and reg = 0.1\n",
      "Length of the RPS is 112\n"
     ]
    },
    {
     "name": "stderr",
     "output_type": "stream",
     "text": [
      "100%|█████████████████████████████████████████| 20/20 [00:00<00:00, 2599.51it/s]\n",
      "100%|███████████████████████████████████████| 100/100 [00:00<00:00, 2613.91it/s]\n",
      "100%|███████████████████████████████████████| 500/500 [00:00<00:00, 2380.63it/s]\n"
     ]
    },
    {
     "name": "stdout",
     "output_type": "stream",
     "text": [
      "Running RAggregate with theta = 2.7551981490106807 and reg = 0.1\n",
      "Length of the RPS is 1014\n"
     ]
    },
    {
     "name": "stderr",
     "output_type": "stream",
     "text": [
      "100%|██████████████████████████████████████████| 20/20 [00:00<00:00, 281.80it/s]\n",
      "100%|████████████████████████████████████████| 100/100 [00:00<00:00, 190.61it/s]\n",
      "100%|████████████████████████████████████████| 500/500 [00:02<00:00, 236.67it/s]\n"
     ]
    },
    {
     "name": "stdout",
     "output_type": "stream",
     "text": [
      "\n",
      "\n",
      "Running Iteration 18\n",
      "Running RAggregate with theta = 2.055913428114843 and reg = 0.1\n",
      "Length of the RPS is 9\n"
     ]
    },
    {
     "name": "stderr",
     "output_type": "stream",
     "text": [
      "100%|████████████████████████████████████████| 20/20 [00:00<00:00, 24237.53it/s]\n",
      "100%|██████████████████████████████████████| 100/100 [00:00<00:00, 28170.49it/s]\n",
      "100%|██████████████████████████████████████| 500/500 [00:00<00:00, 28760.81it/s]\n"
     ]
    },
    {
     "name": "stdout",
     "output_type": "stream",
     "text": [
      "Running RAggregate with theta = 2.2428146488525558 and reg = 0.1\n",
      "Length of the RPS is 48\n"
     ]
    },
    {
     "name": "stderr",
     "output_type": "stream",
     "text": [
      "100%|█████████████████████████████████████████| 20/20 [00:00<00:00, 4928.68it/s]\n",
      "100%|███████████████████████████████████████| 100/100 [00:00<00:00, 4892.12it/s]\n",
      "100%|███████████████████████████████████████| 500/500 [00:00<00:00, 5386.07it/s]\n"
     ]
    },
    {
     "name": "stdout",
     "output_type": "stream",
     "text": [
      "Running RAggregate with theta = 2.429715869590269 and reg = 0.1\n",
      "Length of the RPS is 145\n"
     ]
    },
    {
     "name": "stderr",
     "output_type": "stream",
     "text": [
      "100%|█████████████████████████████████████████| 20/20 [00:00<00:00, 1995.86it/s]\n",
      "100%|███████████████████████████████████████| 100/100 [00:00<00:00, 1756.57it/s]\n",
      "100%|███████████████████████████████████████| 500/500 [00:00<00:00, 1981.00it/s]\n"
     ]
    },
    {
     "name": "stdout",
     "output_type": "stream",
     "text": [
      "Running RAggregate with theta = 2.8035183110656945 and reg = 0.1\n",
      "Length of the RPS is 1017\n"
     ]
    },
    {
     "name": "stderr",
     "output_type": "stream",
     "text": [
      "100%|██████████████████████████████████████████| 20/20 [00:00<00:00, 278.37it/s]\n",
      "100%|████████████████████████████████████████| 100/100 [00:00<00:00, 275.13it/s]\n",
      "100%|████████████████████████████████████████| 500/500 [00:01<00:00, 251.71it/s]\n"
     ]
    },
    {
     "name": "stdout",
     "output_type": "stream",
     "text": [
      "\n",
      "\n",
      "Running Iteration 19\n",
      "Running RAggregate with theta = 1.9876535349228515 and reg = 0.1\n",
      "Length of the RPS is 10\n"
     ]
    },
    {
     "name": "stderr",
     "output_type": "stream",
     "text": [
      "100%|████████████████████████████████████████| 20/20 [00:00<00:00, 14891.90it/s]\n",
      "100%|██████████████████████████████████████| 100/100 [00:00<00:00, 21588.96it/s]\n",
      "100%|██████████████████████████████████████| 500/500 [00:00<00:00, 24763.56it/s]\n"
     ]
    },
    {
     "name": "stdout",
     "output_type": "stream",
     "text": [
      "Running RAggregate with theta = 2.1683493108249285 and reg = 0.1\n",
      "Length of the RPS is 49\n"
     ]
    },
    {
     "name": "stderr",
     "output_type": "stream",
     "text": [
      "100%|█████████████████████████████████████████| 20/20 [00:00<00:00, 5386.64it/s]\n",
      "100%|███████████████████████████████████████| 100/100 [00:00<00:00, 5835.39it/s]\n",
      "100%|███████████████████████████████████████| 500/500 [00:00<00:00, 4868.59it/s]\n"
     ]
    },
    {
     "name": "stdout",
     "output_type": "stream",
     "text": [
      "Running RAggregate with theta = 2.3490450867270063 and reg = 0.1\n",
      "Length of the RPS is 146\n"
     ]
    },
    {
     "name": "stderr",
     "output_type": "stream",
     "text": [
      "100%|█████████████████████████████████████████| 20/20 [00:00<00:00, 1944.01it/s]\n",
      "100%|███████████████████████████████████████| 100/100 [00:00<00:00, 1877.41it/s]\n",
      "100%|███████████████████████████████████████| 500/500 [00:00<00:00, 1530.20it/s]\n"
     ]
    },
    {
     "name": "stdout",
     "output_type": "stream",
     "text": [
      "Running RAggregate with theta = 2.710436638531161 and reg = 0.1\n",
      "Length of the RPS is 1092\n"
     ]
    },
    {
     "name": "stderr",
     "output_type": "stream",
     "text": [
      "100%|██████████████████████████████████████████| 20/20 [00:00<00:00, 180.95it/s]\n",
      "100%|████████████████████████████████████████| 100/100 [00:00<00:00, 238.48it/s]\n",
      "100%|████████████████████████████████████████| 500/500 [00:02<00:00, 219.71it/s]\n"
     ]
    },
    {
     "name": "stdout",
     "output_type": "stream",
     "text": [
      "\n",
      "\n",
      "Running Iteration 20\n",
      "Running RAggregate with theta = 1.933315464076884 and reg = 0.1\n",
      "Length of the RPS is 9\n"
     ]
    },
    {
     "name": "stderr",
     "output_type": "stream",
     "text": [
      "100%|████████████████████████████████████████| 20/20 [00:00<00:00, 24628.91it/s]\n",
      "100%|██████████████████████████████████████| 100/100 [00:00<00:00, 26497.59it/s]\n",
      "100%|██████████████████████████████████████| 500/500 [00:00<00:00, 16912.38it/s]\n"
     ]
    },
    {
     "name": "stdout",
     "output_type": "stream",
     "text": [
      "Running RAggregate with theta = 2.1090714153566004 and reg = 0.1\n",
      "Length of the RPS is 49\n"
     ]
    },
    {
     "name": "stderr",
     "output_type": "stream",
     "text": [
      "100%|█████████████████████████████████████████| 20/20 [00:00<00:00, 5904.98it/s]\n",
      "100%|███████████████████████████████████████| 100/100 [00:00<00:00, 5316.58it/s]\n",
      "100%|███████████████████████████████████████| 500/500 [00:00<00:00, 5370.17it/s]\n"
     ]
    },
    {
     "name": "stdout",
     "output_type": "stream",
     "text": [
      "Running RAggregate with theta = 2.2848273666363172 and reg = 0.1\n",
      "Length of the RPS is 170\n"
     ]
    },
    {
     "name": "stderr",
     "output_type": "stream",
     "text": [
      "100%|█████████████████████████████████████████| 20/20 [00:00<00:00, 1431.11it/s]\n",
      "100%|███████████████████████████████████████| 100/100 [00:00<00:00, 1428.90it/s]\n",
      "100%|███████████████████████████████████████| 500/500 [00:00<00:00, 1394.17it/s]\n"
     ]
    },
    {
     "name": "stdout",
     "output_type": "stream",
     "text": [
      "Running RAggregate with theta = 2.6363392691957506 and reg = 0.1\n",
      "Length of the RPS is 954\n"
     ]
    },
    {
     "name": "stderr",
     "output_type": "stream",
     "text": [
      "100%|██████████████████████████████████████████| 20/20 [00:00<00:00, 279.08it/s]\n",
      "100%|████████████████████████████████████████| 100/100 [00:00<00:00, 274.89it/s]\n",
      "100%|████████████████████████████████████████| 500/500 [00:01<00:00, 253.03it/s]\n"
     ]
    },
    {
     "name": "stdout",
     "output_type": "stream",
     "text": [
      "\n",
      "\n",
      "Running Iteration 21\n",
      "Running RAggregate with theta = 1.948805404209687 and reg = 0.1\n",
      "Length of the RPS is 0\n"
     ]
    },
    {
     "name": "stderr",
     "output_type": "stream",
     "text": [
      "100%|███████████████████████████████████████| 20/20 [00:00<00:00, 232371.41it/s]\n",
      "100%|████████████████████████████████████| 100/100 [00:00<00:00, 1233618.82it/s]\n",
      "100%|████████████████████████████████████| 500/500 [00:00<00:00, 1244600.59it/s]\n"
     ]
    },
    {
     "name": "stdout",
     "output_type": "stream",
     "text": [
      "Running RAggregate with theta = 2.125969531865113 and reg = 0.1\n",
      "Length of the RPS is 40\n"
     ]
    },
    {
     "name": "stderr",
     "output_type": "stream",
     "text": [
      "100%|█████████████████████████████████████████| 20/20 [00:00<00:00, 7260.35it/s]\n",
      "100%|███████████████████████████████████████| 100/100 [00:00<00:00, 7492.24it/s]\n",
      "100%|███████████████████████████████████████| 500/500 [00:00<00:00, 7214.82it/s]\n"
     ]
    },
    {
     "name": "stdout",
     "output_type": "stream",
     "text": [
      "Running RAggregate with theta = 2.303133659520539 and reg = 0.1\n",
      "Length of the RPS is 92\n"
     ]
    },
    {
     "name": "stderr",
     "output_type": "stream",
     "text": [
      "100%|█████████████████████████████████████████| 20/20 [00:00<00:00, 2110.55it/s]\n",
      "100%|███████████████████████████████████████| 100/100 [00:00<00:00, 3358.75it/s]\n",
      "100%|███████████████████████████████████████| 500/500 [00:00<00:00, 3203.52it/s]\n"
     ]
    },
    {
     "name": "stdout",
     "output_type": "stream",
     "text": [
      "Running RAggregate with theta = 2.6574619148313907 and reg = 0.1\n",
      "Length of the RPS is 515\n"
     ]
    },
    {
     "name": "stderr",
     "output_type": "stream",
     "text": [
      "100%|██████████████████████████████████████████| 20/20 [00:00<00:00, 608.07it/s]\n",
      "100%|████████████████████████████████████████| 100/100 [00:00<00:00, 517.60it/s]\n",
      "100%|████████████████████████████████████████| 500/500 [00:01<00:00, 475.93it/s]\n"
     ]
    },
    {
     "name": "stdout",
     "output_type": "stream",
     "text": [
      "\n",
      "\n",
      "Running Iteration 22\n",
      "Running RAggregate with theta = 2.0256759140346037 and reg = 0.1\n",
      "Length of the RPS is 9\n"
     ]
    },
    {
     "name": "stderr",
     "output_type": "stream",
     "text": [
      "100%|████████████████████████████████████████| 20/20 [00:00<00:00, 24209.55it/s]\n",
      "100%|██████████████████████████████████████| 100/100 [00:00<00:00, 27708.95it/s]\n",
      "100%|██████████████████████████████████████| 500/500 [00:00<00:00, 23654.14it/s]\n"
     ]
    },
    {
     "name": "stdout",
     "output_type": "stream",
     "text": [
      "Running RAggregate with theta = 2.2098282698559313 and reg = 0.1\n",
      "Length of the RPS is 49\n"
     ]
    },
    {
     "name": "stderr",
     "output_type": "stream",
     "text": [
      "100%|█████████████████████████████████████████| 20/20 [00:00<00:00, 5591.29it/s]\n",
      "100%|███████████████████████████████████████| 100/100 [00:00<00:00, 5131.09it/s]\n",
      "100%|███████████████████████████████████████| 500/500 [00:00<00:00, 5509.32it/s]\n"
     ]
    },
    {
     "name": "stdout",
     "output_type": "stream",
     "text": [
      "Running RAggregate with theta = 2.393980625677259 and reg = 0.1\n",
      "Length of the RPS is 146\n"
     ]
    },
    {
     "name": "stderr",
     "output_type": "stream",
     "text": [
      "100%|█████████████████████████████████████████| 20/20 [00:00<00:00, 1982.56it/s]\n",
      "100%|███████████████████████████████████████| 100/100 [00:00<00:00, 1933.53it/s]\n",
      "100%|███████████████████████████████████████| 500/500 [00:00<00:00, 1929.14it/s]\n"
     ]
    },
    {
     "name": "stdout",
     "output_type": "stream",
     "text": [
      "Running RAggregate with theta = 2.762285337319914 and reg = 0.1\n",
      "Length of the RPS is 1042\n"
     ]
    },
    {
     "name": "stderr",
     "output_type": "stream",
     "text": [
      "100%|██████████████████████████████████████████| 20/20 [00:00<00:00, 257.14it/s]\n",
      "100%|████████████████████████████████████████| 100/100 [00:00<00:00, 259.30it/s]\n",
      "100%|████████████████████████████████████████| 500/500 [00:01<00:00, 268.60it/s]\n"
     ]
    },
    {
     "name": "stdout",
     "output_type": "stream",
     "text": [
      "\n",
      "\n",
      "Running Iteration 23\n",
      "Running RAggregate with theta = 1.9158360802805618 and reg = 0.1\n",
      "Length of the RPS is 0\n"
     ]
    },
    {
     "name": "stderr",
     "output_type": "stream",
     "text": [
      "100%|███████████████████████████████████████| 20/20 [00:00<00:00, 425817.66it/s]\n",
      "100%|█████████████████████████████████████| 100/100 [00:00<00:00, 863025.51it/s]\n",
      "100%|████████████████████████████████████| 500/500 [00:00<00:00, 2264742.98it/s]\n"
     ]
    },
    {
     "name": "stdout",
     "output_type": "stream",
     "text": [
      "Running RAggregate with theta = 2.0900029966697034 and reg = 0.1\n",
      "Length of the RPS is 40\n"
     ]
    },
    {
     "name": "stderr",
     "output_type": "stream",
     "text": [
      "100%|█████████████████████████████████████████| 20/20 [00:00<00:00, 7401.93it/s]\n",
      "100%|███████████████████████████████████████| 100/100 [00:00<00:00, 7445.42it/s]\n",
      "100%|███████████████████████████████████████| 500/500 [00:00<00:00, 7104.80it/s]\n"
     ]
    },
    {
     "name": "stdout",
     "output_type": "stream",
     "text": [
      "Running RAggregate with theta = 2.2641699130588457 and reg = 0.1\n",
      "Length of the RPS is 93\n"
     ]
    },
    {
     "name": "stderr",
     "output_type": "stream",
     "text": [
      "100%|█████████████████████████████████████████| 20/20 [00:00<00:00, 2976.58it/s]\n",
      "100%|███████████████████████████████████████| 100/100 [00:00<00:00, 2743.56it/s]\n",
      "100%|███████████████████████████████████████| 500/500 [00:00<00:00, 2939.36it/s]\n"
     ]
    },
    {
     "name": "stdout",
     "output_type": "stream",
     "text": [
      "Running RAggregate with theta = 2.6125037458371296 and reg = 0.1\n",
      "Length of the RPS is 564\n"
     ]
    },
    {
     "name": "stderr",
     "output_type": "stream",
     "text": [
      "100%|██████████████████████████████████████████| 20/20 [00:00<00:00, 479.87it/s]\n",
      "100%|████████████████████████████████████████| 100/100 [00:00<00:00, 486.38it/s]\n",
      "100%|████████████████████████████████████████| 500/500 [00:01<00:00, 490.75it/s]\n"
     ]
    },
    {
     "name": "stdout",
     "output_type": "stream",
     "text": [
      "\n",
      "\n",
      "Running Iteration 24\n",
      "Running RAggregate with theta = 1.9930294578246968 and reg = 0.1\n",
      "Length of the RPS is 10\n"
     ]
    },
    {
     "name": "stderr",
     "output_type": "stream",
     "text": [
      "100%|████████████████████████████████████████| 20/20 [00:00<00:00, 19173.96it/s]\n",
      "100%|██████████████████████████████████████| 100/100 [00:00<00:00, 24243.13it/s]\n",
      "100%|██████████████████████████████████████| 500/500 [00:00<00:00, 24451.17it/s]\n"
     ]
    },
    {
     "name": "stdout",
     "output_type": "stream",
     "text": [
      "Running RAggregate with theta = 2.174213953990578 and reg = 0.1\n",
      "Length of the RPS is 51\n"
     ]
    },
    {
     "name": "stderr",
     "output_type": "stream",
     "text": [
      "100%|█████████████████████████████████████████| 20/20 [00:00<00:00, 5394.95it/s]\n",
      "100%|███████████████████████████████████████| 100/100 [00:00<00:00, 5146.20it/s]\n",
      "100%|███████████████████████████████████████| 500/500 [00:00<00:00, 5457.55it/s]\n"
     ]
    },
    {
     "name": "stdout",
     "output_type": "stream",
     "text": [
      "Running RAggregate with theta = 2.3553984501564598 and reg = 0.1\n",
      "Length of the RPS is 178\n"
     ]
    },
    {
     "name": "stderr",
     "output_type": "stream",
     "text": [
      "100%|█████████████████████████████████████████| 20/20 [00:00<00:00, 1367.14it/s]\n",
      "100%|███████████████████████████████████████| 100/100 [00:00<00:00, 1565.80it/s]\n",
      "100%|███████████████████████████████████████| 500/500 [00:00<00:00, 1472.59it/s]\n"
     ]
    },
    {
     "name": "stdout",
     "output_type": "stream",
     "text": [
      "Running RAggregate with theta = 2.7177674424882223 and reg = 0.1\n",
      "Length of the RPS is 1266\n"
     ]
    },
    {
     "name": "stderr",
     "output_type": "stream",
     "text": [
      "100%|██████████████████████████████████████████| 20/20 [00:00<00:00, 223.63it/s]\n",
      "100%|████████████████████████████████████████| 100/100 [00:00<00:00, 181.18it/s]\n",
      "100%|████████████████████████████████████████| 500/500 [00:02<00:00, 174.95it/s]\n"
     ]
    },
    {
     "name": "stdout",
     "output_type": "stream",
     "text": [
      "\n",
      "\n",
      "Running Iteration 25\n",
      "Running RAggregate with theta = 2.0131404599398044 and reg = 0.1\n",
      "Length of the RPS is 9\n"
     ]
    },
    {
     "name": "stderr",
     "output_type": "stream",
     "text": [
      "100%|████████████████████████████████████████| 20/20 [00:00<00:00, 20267.23it/s]\n",
      "100%|██████████████████████████████████████| 100/100 [00:00<00:00, 26667.75it/s]\n",
      "100%|██████████████████████████████████████| 500/500 [00:00<00:00, 26666.40it/s]\n"
     ]
    },
    {
     "name": "stdout",
     "output_type": "stream",
     "text": [
      "Running RAggregate with theta = 2.196153229025241 and reg = 0.1\n",
      "Length of the RPS is 49\n"
     ]
    },
    {
     "name": "stderr",
     "output_type": "stream",
     "text": [
      "100%|█████████████████████████████████████████| 20/20 [00:00<00:00, 5623.90it/s]\n",
      "100%|███████████████████████████████████████| 100/100 [00:00<00:00, 4874.49it/s]\n",
      "100%|███████████████████████████████████████| 500/500 [00:00<00:00, 5309.72it/s]\n"
     ]
    },
    {
     "name": "stdout",
     "output_type": "stream",
     "text": [
      "Running RAggregate with theta = 2.379165998110678 and reg = 0.1\n",
      "Length of the RPS is 145\n"
     ]
    },
    {
     "name": "stderr",
     "output_type": "stream",
     "text": [
      "100%|█████████████████████████████████████████| 20/20 [00:00<00:00, 1941.76it/s]\n",
      "100%|███████████████████████████████████████| 100/100 [00:00<00:00, 1944.47it/s]\n",
      "100%|███████████████████████████████████████| 500/500 [00:00<00:00, 1821.33it/s]\n"
     ]
    },
    {
     "name": "stdout",
     "output_type": "stream",
     "text": [
      "Running RAggregate with theta = 2.7451915362815513 and reg = 0.1\n",
      "Length of the RPS is 869\n"
     ]
    },
    {
     "name": "stderr",
     "output_type": "stream",
     "text": [
      "100%|██████████████████████████████████████████| 20/20 [00:00<00:00, 303.40it/s]\n",
      "100%|████████████████████████████████████████| 100/100 [00:00<00:00, 313.34it/s]\n",
      "100%|████████████████████████████████████████| 500/500 [00:01<00:00, 310.97it/s]\n"
     ]
    },
    {
     "name": "stdout",
     "output_type": "stream",
     "text": [
      "\n",
      "\n",
      "Running Iteration 26\n",
      "Running RAggregate with theta = 1.9477120205613825 and reg = 0.1\n",
      "Length of the RPS is 0\n"
     ]
    },
    {
     "name": "stderr",
     "output_type": "stream",
     "text": [
      "100%|███████████████████████████████████████| 20/20 [00:00<00:00, 377865.23it/s]\n",
      "100%|█████████████████████████████████████| 100/100 [00:00<00:00, 806596.92it/s]\n",
      "100%|████████████████████████████████████| 500/500 [00:00<00:00, 2418860.44it/s]\n"
     ]
    },
    {
     "name": "stdout",
     "output_type": "stream",
     "text": [
      "Running RAggregate with theta = 2.124776749703326 and reg = 0.1\n",
      "Length of the RPS is 39\n"
     ]
    },
    {
     "name": "stderr",
     "output_type": "stream",
     "text": [
      "100%|█████████████████████████████████████████| 20/20 [00:00<00:00, 7724.32it/s]\n",
      "100%|███████████████████████████████████████| 100/100 [00:00<00:00, 7778.61it/s]\n",
      "100%|███████████████████████████████████████| 500/500 [00:00<00:00, 7684.04it/s]\n"
     ]
    },
    {
     "name": "stdout",
     "output_type": "stream",
     "text": [
      "Running RAggregate with theta = 2.30184147884527 and reg = 0.1\n",
      "Length of the RPS is 85\n"
     ]
    },
    {
     "name": "stderr",
     "output_type": "stream",
     "text": [
      "100%|█████████████████████████████████████████| 20/20 [00:00<00:00, 3320.64it/s]\n",
      "100%|███████████████████████████████████████| 100/100 [00:00<00:00, 3494.32it/s]\n",
      "100%|███████████████████████████████████████| 500/500 [00:00<00:00, 3564.48it/s]\n"
     ]
    },
    {
     "name": "stdout",
     "output_type": "stream",
     "text": [
      "Running RAggregate with theta = 2.6559709371291578 and reg = 0.1\n",
      "Length of the RPS is 542\n"
     ]
    },
    {
     "name": "stderr",
     "output_type": "stream",
     "text": [
      "100%|██████████████████████████████████████████| 20/20 [00:00<00:00, 524.33it/s]\n",
      "100%|████████████████████████████████████████| 100/100 [00:00<00:00, 526.68it/s]\n",
      "100%|████████████████████████████████████████| 500/500 [00:01<00:00, 484.41it/s]\n"
     ]
    },
    {
     "name": "stdout",
     "output_type": "stream",
     "text": [
      "\n",
      "\n",
      "Running Iteration 27\n",
      "Running RAggregate with theta = 2.0118602210157714 and reg = 0.1\n",
      "Length of the RPS is 9\n"
     ]
    },
    {
     "name": "stderr",
     "output_type": "stream",
     "text": [
      "100%|████████████████████████████████████████| 20/20 [00:00<00:00, 24008.61it/s]\n",
      "100%|██████████████████████████████████████| 100/100 [00:00<00:00, 19055.49it/s]\n",
      "100%|██████████████████████████████████████| 500/500 [00:00<00:00, 28301.26it/s]\n"
     ]
    },
    {
     "name": "stdout",
     "output_type": "stream",
     "text": [
      "Running RAggregate with theta = 2.1947566047444775 and reg = 0.1\n",
      "Length of the RPS is 49\n"
     ]
    },
    {
     "name": "stderr",
     "output_type": "stream",
     "text": [
      "100%|█████████████████████████████████████████| 20/20 [00:00<00:00, 5674.11it/s]\n",
      "100%|███████████████████████████████████████| 100/100 [00:00<00:00, 5611.03it/s]\n",
      "100%|███████████████████████████████████████| 500/500 [00:00<00:00, 5329.29it/s]\n"
     ]
    },
    {
     "name": "stdout",
     "output_type": "stream",
     "text": [
      "Running RAggregate with theta = 2.377652988473184 and reg = 0.1\n",
      "Length of the RPS is 145\n"
     ]
    },
    {
     "name": "stderr",
     "output_type": "stream",
     "text": [
      "100%|█████████████████████████████████████████| 20/20 [00:00<00:00, 1979.01it/s]\n",
      "100%|███████████████████████████████████████| 100/100 [00:00<00:00, 2009.48it/s]\n",
      "100%|███████████████████████████████████████| 500/500 [00:00<00:00, 1780.67it/s]\n"
     ]
    },
    {
     "name": "stdout",
     "output_type": "stream",
     "text": [
      "Running RAggregate with theta = 2.743445755930597 and reg = 0.1\n",
      "Length of the RPS is 896\n"
     ]
    },
    {
     "name": "stderr",
     "output_type": "stream",
     "text": [
      "100%|██████████████████████████████████████████| 20/20 [00:00<00:00, 314.45it/s]\n",
      "100%|████████████████████████████████████████| 100/100 [00:00<00:00, 287.72it/s]\n",
      "100%|████████████████████████████████████████| 500/500 [00:01<00:00, 322.26it/s]\n"
     ]
    },
    {
     "name": "stdout",
     "output_type": "stream",
     "text": [
      "\n",
      "\n",
      "Running Iteration 28\n",
      "Running RAggregate with theta = 1.9529706475492181 and reg = 0.1\n",
      "Length of the RPS is 0\n"
     ]
    },
    {
     "name": "stderr",
     "output_type": "stream",
     "text": [
      "100%|███████████████████████████████████████| 20/20 [00:00<00:00, 175493.89it/s]\n",
      "100%|████████████████████████████████████| 100/100 [00:00<00:00, 1282661.77it/s]\n",
      "100%|████████████████████████████████████| 500/500 [00:00<00:00, 2391279.36it/s]\n"
     ]
    },
    {
     "name": "stdout",
     "output_type": "stream",
     "text": [
      "Running RAggregate with theta = 2.130513433690056 and reg = 0.1\n",
      "Length of the RPS is 40\n"
     ]
    },
    {
     "name": "stderr",
     "output_type": "stream",
     "text": [
      "100%|█████████████████████████████████████████| 20/20 [00:00<00:00, 6749.77it/s]\n",
      "100%|███████████████████████████████████████| 100/100 [00:00<00:00, 7017.52it/s]\n",
      "100%|███████████████████████████████████████| 500/500 [00:00<00:00, 7404.99it/s]\n"
     ]
    },
    {
     "name": "stdout",
     "output_type": "stream",
     "text": [
      "Running RAggregate with theta = 2.308056219830894 and reg = 0.1\n",
      "Length of the RPS is 92\n"
     ]
    },
    {
     "name": "stderr",
     "output_type": "stream",
     "text": [
      "100%|█████████████████████████████████████████| 20/20 [00:00<00:00, 2962.08it/s]\n",
      "100%|███████████████████████████████████████| 100/100 [00:00<00:00, 2819.68it/s]\n",
      "100%|███████████████████████████████████████| 500/500 [00:00<00:00, 2245.36it/s]\n"
     ]
    },
    {
     "name": "stdout",
     "output_type": "stream",
     "text": [
      "Running RAggregate with theta = 2.66314179211257 and reg = 0.1\n",
      "Length of the RPS is 572\n"
     ]
    },
    {
     "name": "stderr",
     "output_type": "stream",
     "text": [
      "100%|██████████████████████████████████████████| 20/20 [00:00<00:00, 425.34it/s]\n",
      "100%|████████████████████████████████████████| 100/100 [00:00<00:00, 471.12it/s]\n",
      "100%|████████████████████████████████████████| 500/500 [00:01<00:00, 480.67it/s]\n"
     ]
    },
    {
     "name": "stdout",
     "output_type": "stream",
     "text": [
      "\n",
      "\n",
      "Running Iteration 29\n",
      "Running RAggregate with theta = 1.9824275159280391 and reg = 0.1\n",
      "Length of the RPS is 9\n"
     ]
    },
    {
     "name": "stderr",
     "output_type": "stream",
     "text": [
      "100%|████████████████████████████████████████| 20/20 [00:00<00:00, 17855.70it/s]\n",
      "100%|██████████████████████████████████████| 100/100 [00:00<00:00, 16562.57it/s]\n",
      "100%|██████████████████████████████████████| 500/500 [00:00<00:00, 23941.73it/s]\n"
     ]
    },
    {
     "name": "stdout",
     "output_type": "stream",
     "text": [
      "Running RAggregate with theta = 2.162648199194224 and reg = 0.1\n",
      "Length of the RPS is 48\n"
     ]
    },
    {
     "name": "stderr",
     "output_type": "stream",
     "text": [
      "100%|█████████████████████████████████████████| 20/20 [00:00<00:00, 4629.73it/s]\n",
      "100%|███████████████████████████████████████| 100/100 [00:00<00:00, 6204.68it/s]\n",
      "100%|███████████████████████████████████████| 500/500 [00:00<00:00, 5697.48it/s]\n"
     ]
    },
    {
     "name": "stdout",
     "output_type": "stream",
     "text": [
      "Running RAggregate with theta = 2.34286888246041 and reg = 0.1\n",
      "Length of the RPS is 103\n"
     ]
    },
    {
     "name": "stderr",
     "output_type": "stream",
     "text": [
      "100%|█████████████████████████████████████████| 20/20 [00:00<00:00, 2836.00it/s]\n",
      "100%|███████████████████████████████████████| 100/100 [00:00<00:00, 2570.43it/s]\n",
      "100%|███████████████████████████████████████| 500/500 [00:00<00:00, 2636.57it/s]\n"
     ]
    },
    {
     "name": "stdout",
     "output_type": "stream",
     "text": [
      "Running RAggregate with theta = 2.7033102489927803 and reg = 0.1\n",
      "Length of the RPS is 835\n"
     ]
    },
    {
     "name": "stderr",
     "output_type": "stream",
     "text": [
      "100%|██████████████████████████████████████████| 20/20 [00:00<00:00, 328.75it/s]\n",
      "100%|████████████████████████████████████████| 100/100 [00:00<00:00, 336.63it/s]\n",
      "100%|████████████████████████████████████████| 500/500 [00:01<00:00, 337.83it/s]\n"
     ]
    },
    {
     "name": "stdout",
     "output_type": "stream",
     "text": [
      "\n",
      "\n",
      "Running Iteration 30\n",
      "Running RAggregate with theta = 1.877334412612247 and reg = 0.1\n",
      "Length of the RPS is 9\n"
     ]
    },
    {
     "name": "stderr",
     "output_type": "stream",
     "text": [
      "100%|████████████████████████████████████████| 20/20 [00:00<00:00, 21145.97it/s]\n",
      "100%|██████████████████████████████████████| 100/100 [00:00<00:00, 27815.53it/s]\n",
      "100%|██████████████████████████████████████| 500/500 [00:00<00:00, 28622.25it/s]\n"
     ]
    },
    {
     "name": "stdout",
     "output_type": "stream",
     "text": [
      "Running RAggregate with theta = 2.0480011773951783 and reg = 0.1\n",
      "Length of the RPS is 49\n"
     ]
    },
    {
     "name": "stderr",
     "output_type": "stream",
     "text": [
      "100%|█████████████████████████████████████████| 20/20 [00:00<00:00, 5698.01it/s]\n",
      "100%|███████████████████████████████████████| 100/100 [00:00<00:00, 5466.53it/s]\n",
      "100%|███████████████████████████████████████| 500/500 [00:00<00:00, 5493.18it/s]\n"
     ]
    },
    {
     "name": "stdout",
     "output_type": "stream",
     "text": [
      "Running RAggregate with theta = 2.21866794217811 and reg = 0.1\n",
      "Length of the RPS is 145\n"
     ]
    },
    {
     "name": "stderr",
     "output_type": "stream",
     "text": [
      "100%|█████████████████████████████████████████| 20/20 [00:00<00:00, 1788.39it/s]\n",
      "100%|███████████████████████████████████████| 100/100 [00:00<00:00, 1957.99it/s]\n",
      "100%|███████████████████████████████████████| 500/500 [00:00<00:00, 1849.03it/s]\n"
     ]
    },
    {
     "name": "stdout",
     "output_type": "stream",
     "text": [
      "Running RAggregate with theta = 2.5600014717439734 and reg = 0.1\n",
      "Length of the RPS is 765\n"
     ]
    },
    {
     "name": "stderr",
     "output_type": "stream",
     "text": [
      "100%|██████████████████████████████████████████| 20/20 [00:00<00:00, 370.17it/s]\n",
      "100%|████████████████████████████████████████| 100/100 [00:00<00:00, 306.05it/s]\n",
      "100%|████████████████████████████████████████| 500/500 [00:01<00:00, 346.19it/s]\n"
     ]
    },
    {
     "name": "stdout",
     "output_type": "stream",
     "text": [
      "\n",
      "\n",
      "Running Iteration 31\n",
      "Running RAggregate with theta = 1.983769187687693 and reg = 0.1\n",
      "Length of the RPS is 9\n"
     ]
    },
    {
     "name": "stderr",
     "output_type": "stream",
     "text": [
      "100%|████████████████████████████████████████| 20/20 [00:00<00:00, 25803.16it/s]\n",
      "100%|██████████████████████████████████████| 100/100 [00:00<00:00, 22017.34it/s]\n",
      "100%|██████████████████████████████████████| 500/500 [00:00<00:00, 25441.30it/s]\n"
     ]
    },
    {
     "name": "stdout",
     "output_type": "stream",
     "text": [
      "Running RAggregate with theta = 2.1641118411138467 and reg = 0.1\n",
      "Length of the RPS is 49\n"
     ]
    },
    {
     "name": "stderr",
     "output_type": "stream",
     "text": [
      "100%|█████████████████████████████████████████| 20/20 [00:00<00:00, 5851.84it/s]\n",
      "100%|███████████████████████████████████████| 100/100 [00:00<00:00, 4477.51it/s]\n",
      "100%|███████████████████████████████████████| 500/500 [00:00<00:00, 5669.45it/s]\n"
     ]
    },
    {
     "name": "stdout",
     "output_type": "stream",
     "text": [
      "Running RAggregate with theta = 2.3444544945400008 and reg = 0.1\n",
      "Length of the RPS is 154\n"
     ]
    },
    {
     "name": "stderr",
     "output_type": "stream",
     "text": [
      "100%|█████████████████████████████████████████| 20/20 [00:00<00:00, 1894.87it/s]\n",
      "100%|███████████████████████████████████████| 100/100 [00:00<00:00, 1850.85it/s]\n",
      "100%|███████████████████████████████████████| 500/500 [00:00<00:00, 1790.76it/s]\n"
     ]
    },
    {
     "name": "stdout",
     "output_type": "stream",
     "text": [
      "Running RAggregate with theta = 2.7051398013923085 and reg = 0.1\n",
      "Length of the RPS is 1049\n"
     ]
    },
    {
     "name": "stderr",
     "output_type": "stream",
     "text": [
      "100%|██████████████████████████████████████████| 20/20 [00:00<00:00, 242.54it/s]\n",
      "100%|████████████████████████████████████████| 100/100 [00:00<00:00, 270.51it/s]\n",
      "100%|████████████████████████████████████████| 500/500 [00:01<00:00, 263.90it/s]\n"
     ]
    },
    {
     "name": "stdout",
     "output_type": "stream",
     "text": [
      "\n",
      "\n",
      "Running Iteration 32\n",
      "Running RAggregate with theta = 1.9282020489609852 and reg = 0.1\n",
      "Length of the RPS is 9\n"
     ]
    },
    {
     "name": "stderr",
     "output_type": "stream",
     "text": [
      "100%|████████████████████████████████████████| 20/20 [00:00<00:00, 24420.98it/s]\n",
      "100%|██████████████████████████████████████| 100/100 [00:00<00:00, 19948.18it/s]\n",
      "100%|██████████████████████████████████████| 500/500 [00:00<00:00, 25253.81it/s]\n"
     ]
    },
    {
     "name": "stdout",
     "output_type": "stream",
     "text": [
      "Running RAggregate with theta = 2.1034931443210745 and reg = 0.1\n",
      "Length of the RPS is 49\n"
     ]
    },
    {
     "name": "stderr",
     "output_type": "stream",
     "text": [
      "100%|█████████████████████████████████████████| 20/20 [00:00<00:00, 5113.76it/s]\n",
      "100%|███████████████████████████████████████| 100/100 [00:00<00:00, 5472.24it/s]\n",
      "100%|███████████████████████████████████████| 500/500 [00:00<00:00, 5275.26it/s]\n"
     ]
    },
    {
     "name": "stdout",
     "output_type": "stream",
     "text": [
      "Running RAggregate with theta = 2.278784239681164 and reg = 0.1\n",
      "Length of the RPS is 152\n"
     ]
    },
    {
     "name": "stderr",
     "output_type": "stream",
     "text": [
      "100%|█████████████████████████████████████████| 20/20 [00:00<00:00, 1639.78it/s]\n",
      "100%|███████████████████████████████████████| 100/100 [00:00<00:00, 1737.40it/s]\n",
      "100%|███████████████████████████████████████| 500/500 [00:00<00:00, 1793.52it/s]\n"
     ]
    },
    {
     "name": "stdout",
     "output_type": "stream",
     "text": [
      "Running RAggregate with theta = 2.629366430401343 and reg = 0.1\n",
      "Length of the RPS is 808\n"
     ]
    },
    {
     "name": "stderr",
     "output_type": "stream",
     "text": [
      "100%|██████████████████████████████████████████| 20/20 [00:00<00:00, 323.04it/s]\n",
      "100%|████████████████████████████████████████| 100/100 [00:00<00:00, 281.62it/s]\n",
      "100%|████████████████████████████████████████| 500/500 [00:01<00:00, 325.50it/s]\n"
     ]
    },
    {
     "name": "stdout",
     "output_type": "stream",
     "text": [
      "\n",
      "\n",
      "Running Iteration 33\n",
      "Running RAggregate with theta = 1.9180128030019044 and reg = 0.1\n",
      "Length of the RPS is 9\n"
     ]
    },
    {
     "name": "stderr",
     "output_type": "stream",
     "text": [
      "100%|████████████████████████████████████████| 20/20 [00:00<00:00, 14273.62it/s]\n",
      "100%|██████████████████████████████████████| 100/100 [00:00<00:00, 28255.89it/s]\n",
      "100%|██████████████████████████████████████| 500/500 [00:00<00:00, 19738.64it/s]\n"
     ]
    },
    {
     "name": "stdout",
     "output_type": "stream",
     "text": [
      "Running RAggregate with theta = 2.0923776032748043 and reg = 0.1\n",
      "Length of the RPS is 48\n"
     ]
    },
    {
     "name": "stderr",
     "output_type": "stream",
     "text": [
      "100%|█████████████████████████████████████████| 20/20 [00:00<00:00, 3987.17it/s]\n",
      "100%|███████████████████████████████████████| 100/100 [00:00<00:00, 5314.90it/s]\n",
      "100%|███████████████████████████████████████| 500/500 [00:00<00:00, 4483.65it/s]\n"
     ]
    },
    {
     "name": "stdout",
     "output_type": "stream",
     "text": [
      "Running RAggregate with theta = 2.266742403547705 and reg = 0.1\n",
      "Length of the RPS is 104\n"
     ]
    },
    {
     "name": "stderr",
     "output_type": "stream",
     "text": [
      "100%|█████████████████████████████████████████| 20/20 [00:00<00:00, 2711.51it/s]\n",
      "100%|███████████████████████████████████████| 100/100 [00:00<00:00, 2624.95it/s]\n",
      "100%|███████████████████████████████████████| 500/500 [00:00<00:00, 2243.50it/s]\n"
     ]
    },
    {
     "name": "stdout",
     "output_type": "stream",
     "text": [
      "Running RAggregate with theta = 2.6154720040935056 and reg = 0.1\n",
      "Length of the RPS is 673\n"
     ]
    },
    {
     "name": "stderr",
     "output_type": "stream",
     "text": [
      "100%|██████████████████████████████████████████| 20/20 [00:00<00:00, 424.69it/s]\n",
      "100%|████████████████████████████████████████| 100/100 [00:00<00:00, 422.90it/s]\n",
      "100%|████████████████████████████████████████| 500/500 [00:01<00:00, 425.96it/s]\n"
     ]
    },
    {
     "name": "stdout",
     "output_type": "stream",
     "text": [
      "\n",
      "\n",
      "Running Iteration 34\n",
      "Running RAggregate with theta = 1.9152363554158665 and reg = 0.1\n",
      "Length of the RPS is 0\n"
     ]
    },
    {
     "name": "stderr",
     "output_type": "stream",
     "text": [
      "100%|███████████████████████████████████████| 20/20 [00:00<00:00, 443841.69it/s]\n",
      "100%|█████████████████████████████████████| 100/100 [00:00<00:00, 329740.88it/s]\n",
      "100%|████████████████████████████████████| 500/500 [00:00<00:00, 2394009.13it/s]\n"
     ]
    },
    {
     "name": "stdout",
     "output_type": "stream",
     "text": [
      "Running RAggregate with theta = 2.0893487513627633 and reg = 0.1\n",
      "Length of the RPS is 40\n"
     ]
    },
    {
     "name": "stderr",
     "output_type": "stream",
     "text": [
      "100%|█████████████████████████████████████████| 20/20 [00:00<00:00, 6846.73it/s]\n",
      "100%|███████████████████████████████████████| 100/100 [00:00<00:00, 7566.58it/s]\n",
      "100%|███████████████████████████████████████| 500/500 [00:00<00:00, 5929.94it/s]\n"
     ]
    },
    {
     "name": "stdout",
     "output_type": "stream",
     "text": [
      "Running RAggregate with theta = 2.2634611473096604 and reg = 0.1\n",
      "Length of the RPS is 92\n"
     ]
    },
    {
     "name": "stderr",
     "output_type": "stream",
     "text": [
      "100%|█████████████████████████████████████████| 20/20 [00:00<00:00, 3090.64it/s]\n",
      "100%|███████████████████████████████████████| 100/100 [00:00<00:00, 2939.29it/s]\n",
      "100%|███████████████████████████████████████| 500/500 [00:00<00:00, 3338.34it/s]\n"
     ]
    },
    {
     "name": "stdout",
     "output_type": "stream",
     "text": [
      "Running RAggregate with theta = 2.611685939203454 and reg = 0.1\n",
      "Length of the RPS is 492\n"
     ]
    },
    {
     "name": "stderr",
     "output_type": "stream",
     "text": [
      "100%|██████████████████████████████████████████| 20/20 [00:00<00:00, 570.26it/s]\n",
      "100%|████████████████████████████████████████| 100/100 [00:00<00:00, 429.62it/s]\n",
      "100%|████████████████████████████████████████| 500/500 [00:00<00:00, 555.83it/s]\n"
     ]
    },
    {
     "name": "stdout",
     "output_type": "stream",
     "text": [
      "\n",
      "\n",
      "Running Iteration 35\n",
      "Running RAggregate with theta = 1.9793191632572618 and reg = 0.1\n",
      "Length of the RPS is 9\n"
     ]
    },
    {
     "name": "stderr",
     "output_type": "stream",
     "text": [
      "100%|████████████████████████████████████████| 20/20 [00:00<00:00, 24628.91it/s]\n",
      "100%|██████████████████████████████████████| 100/100 [00:00<00:00, 27255.21it/s]\n",
      "100%|██████████████████████████████████████| 500/500 [00:00<00:00, 25497.60it/s]\n"
     ]
    },
    {
     "name": "stdout",
     "output_type": "stream",
     "text": [
      "Running RAggregate with theta = 2.1592572690079215 and reg = 0.1\n",
      "Length of the RPS is 48\n"
     ]
    },
    {
     "name": "stderr",
     "output_type": "stream",
     "text": [
      "100%|█████████████████████████████████████████| 20/20 [00:00<00:00, 5785.25it/s]\n",
      "100%|███████████████████████████████████████| 100/100 [00:00<00:00, 5092.21it/s]\n",
      "100%|███████████████████████████████████████| 500/500 [00:00<00:00, 5246.70it/s]\n"
     ]
    },
    {
     "name": "stdout",
     "output_type": "stream",
     "text": [
      "Running RAggregate with theta = 2.339195374758582 and reg = 0.1\n",
      "Length of the RPS is 130\n"
     ]
    },
    {
     "name": "stderr",
     "output_type": "stream",
     "text": [
      "100%|█████████████████████████████████████████| 20/20 [00:00<00:00, 2396.61it/s]\n",
      "100%|███████████████████████████████████████| 100/100 [00:00<00:00, 2369.61it/s]\n",
      "100%|███████████████████████████████████████| 500/500 [00:00<00:00, 1780.93it/s]\n"
     ]
    },
    {
     "name": "stdout",
     "output_type": "stream",
     "text": [
      "Running RAggregate with theta = 2.699071586259902 and reg = 0.1\n",
      "Length of the RPS is 830\n"
     ]
    },
    {
     "name": "stderr",
     "output_type": "stream",
     "text": [
      "100%|██████████████████████████████████████████| 20/20 [00:00<00:00, 299.39it/s]\n",
      "100%|████████████████████████████████████████| 100/100 [00:00<00:00, 331.52it/s]\n",
      "100%|████████████████████████████████████████| 500/500 [00:01<00:00, 308.26it/s]\n"
     ]
    },
    {
     "name": "stdout",
     "output_type": "stream",
     "text": [
      "\n",
      "\n",
      "Running Iteration 36\n",
      "Running RAggregate with theta = 1.9781602001759075 and reg = 0.1\n",
      "Length of the RPS is 9\n"
     ]
    },
    {
     "name": "stderr",
     "output_type": "stream",
     "text": [
      "100%|████████████████████████████████████████| 20/20 [00:00<00:00, 19835.91it/s]\n",
      "100%|██████████████████████████████████████| 100/100 [00:00<00:00, 29020.30it/s]\n",
      "100%|██████████████████████████████████████| 500/500 [00:00<00:00, 26459.15it/s]\n"
     ]
    },
    {
     "name": "stdout",
     "output_type": "stream",
     "text": [
      "Running RAggregate with theta = 2.1579929456464444 and reg = 0.1\n",
      "Length of the RPS is 48\n"
     ]
    },
    {
     "name": "stderr",
     "output_type": "stream",
     "text": [
      "100%|█████████████████████████████████████████| 20/20 [00:00<00:00, 5967.99it/s]\n",
      "100%|███████████████████████████████████████| 100/100 [00:00<00:00, 5552.87it/s]\n",
      "100%|███████████████████████████████████████| 500/500 [00:00<00:00, 5448.04it/s]\n"
     ]
    },
    {
     "name": "stdout",
     "output_type": "stream",
     "text": [
      "Running RAggregate with theta = 2.3378256911169815 and reg = 0.1\n",
      "Length of the RPS is 103\n"
     ]
    },
    {
     "name": "stderr",
     "output_type": "stream",
     "text": [
      "100%|█████████████████████████████████████████| 20/20 [00:00<00:00, 2626.04it/s]\n",
      "100%|███████████████████████████████████████| 100/100 [00:00<00:00, 2573.93it/s]\n",
      "100%|███████████████████████████████████████| 500/500 [00:00<00:00, 2735.19it/s]\n"
     ]
    },
    {
     "name": "stdout",
     "output_type": "stream",
     "text": [
      "Running RAggregate with theta = 2.697491182058055 and reg = 0.1\n",
      "Length of the RPS is 845\n"
     ]
    },
    {
     "name": "stderr",
     "output_type": "stream",
     "text": [
      "100%|██████████████████████████████████████████| 20/20 [00:00<00:00, 241.58it/s]\n",
      "100%|████████████████████████████████████████| 100/100 [00:00<00:00, 336.63it/s]\n",
      "100%|████████████████████████████████████████| 500/500 [00:01<00:00, 258.60it/s]\n"
     ]
    },
    {
     "name": "stdout",
     "output_type": "stream",
     "text": [
      "\n",
      "\n",
      "Running Iteration 37\n",
      "Running RAggregate with theta = 1.9230516026911366 and reg = 0.1\n",
      "Length of the RPS is 9\n"
     ]
    },
    {
     "name": "stderr",
     "output_type": "stream",
     "text": [
      "100%|████████████████████████████████████████| 20/20 [00:00<00:00, 25320.28it/s]\n",
      "100%|██████████████████████████████████████| 100/100 [00:00<00:00, 29145.33it/s]\n",
      "100%|██████████████████████████████████████| 500/500 [00:00<00:00, 29541.93it/s]\n"
     ]
    },
    {
     "name": "stdout",
     "output_type": "stream",
     "text": [
      "Running RAggregate with theta = 2.097874475663058 and reg = 0.1\n",
      "Length of the RPS is 40\n"
     ]
    },
    {
     "name": "stderr",
     "output_type": "stream",
     "text": [
      "100%|█████████████████████████████████████████| 20/20 [00:00<00:00, 7404.54it/s]\n",
      "100%|███████████████████████████████████████| 100/100 [00:00<00:00, 7116.35it/s]\n",
      "100%|███████████████████████████████████████| 500/500 [00:00<00:00, 7367.27it/s]\n"
     ]
    },
    {
     "name": "stdout",
     "output_type": "stream",
     "text": [
      "Running RAggregate with theta = 2.2726973486349795 and reg = 0.1\n",
      "Length of the RPS is 102\n"
     ]
    },
    {
     "name": "stderr",
     "output_type": "stream",
     "text": [
      "100%|█████████████████████████████████████████| 20/20 [00:00<00:00, 2870.16it/s]\n",
      "100%|███████████████████████████████████████| 100/100 [00:00<00:00, 2715.32it/s]\n",
      "100%|███████████████████████████████████████| 500/500 [00:00<00:00, 2929.34it/s]\n"
     ]
    },
    {
     "name": "stdout",
     "output_type": "stream",
     "text": [
      "Running RAggregate with theta = 2.6223430945788224 and reg = 0.1\n",
      "Length of the RPS is 642\n"
     ]
    },
    {
     "name": "stderr",
     "output_type": "stream",
     "text": [
      "100%|██████████████████████████████████████████| 20/20 [00:00<00:00, 437.33it/s]\n",
      "100%|████████████████████████████████████████| 100/100 [00:00<00:00, 439.24it/s]\n",
      "100%|████████████████████████████████████████| 500/500 [00:01<00:00, 375.48it/s]\n"
     ]
    },
    {
     "name": "stdout",
     "output_type": "stream",
     "text": [
      "\n",
      "\n",
      "Running Iteration 38\n",
      "Running RAggregate with theta = 1.9365287904823187 and reg = 0.1\n",
      "Length of the RPS is 10\n"
     ]
    },
    {
     "name": "stderr",
     "output_type": "stream",
     "text": [
      "100%|████████████████████████████████████████| 20/20 [00:00<00:00, 20966.28it/s]\n",
      "100%|██████████████████████████████████████| 100/100 [00:00<00:00, 24009.98it/s]\n",
      "100%|██████████████████████████████████████| 500/500 [00:00<00:00, 24837.18it/s]\n"
     ]
    },
    {
     "name": "stdout",
     "output_type": "stream",
     "text": [
      "Running RAggregate with theta = 2.1125768623443473 and reg = 0.1\n",
      "Length of the RPS is 50\n"
     ]
    },
    {
     "name": "stderr",
     "output_type": "stream",
     "text": [
      "100%|█████████████████████████████████████████| 20/20 [00:00<00:00, 4478.46it/s]\n",
      "100%|███████████████████████████████████████| 100/100 [00:00<00:00, 4766.47it/s]\n",
      "100%|███████████████████████████████████████| 500/500 [00:00<00:00, 5433.42it/s]\n"
     ]
    },
    {
     "name": "stdout",
     "output_type": "stream",
     "text": [
      "Running RAggregate with theta = 2.2886249342063767 and reg = 0.1\n",
      "Length of the RPS is 161\n"
     ]
    },
    {
     "name": "stderr",
     "output_type": "stream",
     "text": [
      "100%|█████████████████████████████████████████| 20/20 [00:00<00:00, 1744.43it/s]\n",
      "100%|███████████████████████████████████████| 100/100 [00:00<00:00, 1594.19it/s]\n",
      "100%|███████████████████████████████████████| 500/500 [00:00<00:00, 1770.54it/s]\n"
     ]
    },
    {
     "name": "stdout",
     "output_type": "stream",
     "text": [
      "Running RAggregate with theta = 2.640721077930434 and reg = 0.1\n",
      "Length of the RPS is 927\n"
     ]
    },
    {
     "name": "stderr",
     "output_type": "stream",
     "text": [
      "100%|██████████████████████████████████████████| 20/20 [00:00<00:00, 233.26it/s]\n",
      "100%|████████████████████████████████████████| 100/100 [00:00<00:00, 224.57it/s]\n",
      "100%|████████████████████████████████████████| 500/500 [00:01<00:00, 305.58it/s]\n"
     ]
    },
    {
     "name": "stdout",
     "output_type": "stream",
     "text": [
      "\n",
      "\n",
      "Running Iteration 39\n",
      "Running RAggregate with theta = 2.004738380968925 and reg = 0.1\n",
      "Length of the RPS is 9\n"
     ]
    },
    {
     "name": "stderr",
     "output_type": "stream",
     "text": [
      "100%|████████████████████████████████████████| 20/20 [00:00<00:00, 24244.53it/s]\n",
      "100%|██████████████████████████████████████| 100/100 [00:00<00:00, 26947.02it/s]\n",
      "100%|██████████████████████████████████████| 500/500 [00:00<00:00, 24507.17it/s]\n"
     ]
    },
    {
     "name": "stdout",
     "output_type": "stream",
     "text": [
      "Running RAggregate with theta = 2.1869873246933724 and reg = 0.1\n",
      "Length of the RPS is 48\n"
     ]
    },
    {
     "name": "stderr",
     "output_type": "stream",
     "text": [
      "100%|█████████████████████████████████████████| 20/20 [00:00<00:00, 5818.96it/s]\n",
      "100%|███████████████████████████████████████| 100/100 [00:00<00:00, 5659.03it/s]\n",
      "100%|███████████████████████████████████████| 500/500 [00:00<00:00, 4049.37it/s]\n"
     ]
    },
    {
     "name": "stdout",
     "output_type": "stream",
     "text": [
      "Running RAggregate with theta = 2.3692362684178203 and reg = 0.1\n",
      "Length of the RPS is 129\n"
     ]
    },
    {
     "name": "stderr",
     "output_type": "stream",
     "text": [
      "100%|█████████████████████████████████████████| 20/20 [00:00<00:00, 2041.02it/s]\n",
      "100%|███████████████████████████████████████| 100/100 [00:00<00:00, 2081.12it/s]\n",
      "100%|███████████████████████████████████████| 500/500 [00:00<00:00, 2314.41it/s]\n"
     ]
    },
    {
     "name": "stdout",
     "output_type": "stream",
     "text": [
      "Running RAggregate with theta = 2.7337341558667156 and reg = 0.1\n",
      "Length of the RPS is 1002\n"
     ]
    },
    {
     "name": "stderr",
     "output_type": "stream",
     "text": [
      "100%|██████████████████████████████████████████| 20/20 [00:00<00:00, 296.52it/s]\n",
      "100%|████████████████████████████████████████| 100/100 [00:00<00:00, 277.79it/s]\n",
      "100%|████████████████████████████████████████| 500/500 [00:01<00:00, 272.18it/s]\n"
     ]
    },
    {
     "name": "stdout",
     "output_type": "stream",
     "text": [
      "\n",
      "\n",
      "Running Iteration 40\n",
      "Running RAggregate with theta = 1.97282808786218 and reg = 0.1\n",
      "Length of the RPS is 0\n"
     ]
    },
    {
     "name": "stderr",
     "output_type": "stream",
     "text": [
      "100%|███████████████████████████████████████| 20/20 [00:00<00:00, 453438.27it/s]\n",
      "100%|████████████████████████████████████| 100/100 [00:00<00:00, 1230001.17it/s]\n",
      "100%|████████████████████████████████████| 500/500 [00:00<00:00, 2487724.79it/s]\n"
     ]
    },
    {
     "name": "stdout",
     "output_type": "stream",
     "text": [
      "Running RAggregate with theta = 2.1521760958496507 and reg = 0.1\n",
      "Length of the RPS is 40\n"
     ]
    },
    {
     "name": "stderr",
     "output_type": "stream",
     "text": [
      "100%|█████████████████████████████████████████| 20/20 [00:00<00:00, 7307.15it/s]\n",
      "100%|███████████████████████████████████████| 100/100 [00:00<00:00, 6424.61it/s]\n",
      "100%|███████████████████████████████████████| 500/500 [00:00<00:00, 5833.61it/s]\n"
     ]
    },
    {
     "name": "stdout",
     "output_type": "stream",
     "text": [
      "Running RAggregate with theta = 2.331524103837122 and reg = 0.1\n",
      "Length of the RPS is 94\n"
     ]
    },
    {
     "name": "stderr",
     "output_type": "stream",
     "text": [
      "100%|█████████████████████████████████████████| 20/20 [00:00<00:00, 2841.67it/s]\n",
      "100%|███████████████████████████████████████| 100/100 [00:00<00:00, 3216.37it/s]\n",
      "100%|███████████████████████████████████████| 500/500 [00:00<00:00, 2665.05it/s]\n"
     ]
    },
    {
     "name": "stdout",
     "output_type": "stream",
     "text": [
      "Running RAggregate with theta = 2.6902201198120634 and reg = 0.1\n",
      "Length of the RPS is 636\n"
     ]
    },
    {
     "name": "stderr",
     "output_type": "stream",
     "text": [
      "100%|██████████████████████████████████████████| 20/20 [00:00<00:00, 458.78it/s]\n",
      "100%|████████████████████████████████████████| 100/100 [00:00<00:00, 431.62it/s]\n",
      "100%|████████████████████████████████████████| 500/500 [00:01<00:00, 369.15it/s]\n"
     ]
    },
    {
     "name": "stdout",
     "output_type": "stream",
     "text": [
      "\n",
      "\n",
      "Running Iteration 41\n",
      "Running RAggregate with theta = 1.9938365255212547 and reg = 0.1\n",
      "Length of the RPS is 9\n"
     ]
    },
    {
     "name": "stderr",
     "output_type": "stream",
     "text": [
      "100%|████████████████████████████████████████| 20/20 [00:00<00:00, 24008.61it/s]\n",
      "100%|██████████████████████████████████████| 100/100 [00:00<00:00, 27896.93it/s]\n",
      "100%|██████████████████████████████████████| 500/500 [00:00<00:00, 28443.29it/s]\n"
     ]
    },
    {
     "name": "stdout",
     "output_type": "stream",
     "text": [
      "Running RAggregate with theta = 2.175094391477732 and reg = 0.1\n",
      "Length of the RPS is 48\n"
     ]
    },
    {
     "name": "stderr",
     "output_type": "stream",
     "text": [
      "100%|█████████████████████████████████████████| 20/20 [00:00<00:00, 5346.47it/s]\n",
      "100%|███████████████████████████████████████| 100/100 [00:00<00:00, 6062.80it/s]\n",
      "100%|███████████████████████████████████████| 500/500 [00:00<00:00, 5220.02it/s]\n"
     ]
    },
    {
     "name": "stdout",
     "output_type": "stream",
     "text": [
      "Running RAggregate with theta = 2.3563522574342097 and reg = 0.1\n",
      "Length of the RPS is 129\n"
     ]
    },
    {
     "name": "stderr",
     "output_type": "stream",
     "text": [
      "100%|█████████████████████████████████████████| 20/20 [00:00<00:00, 2295.42it/s]\n",
      "100%|███████████████████████████████████████| 100/100 [00:00<00:00, 2354.99it/s]\n",
      "100%|███████████████████████████████████████| 500/500 [00:00<00:00, 2034.27it/s]\n"
     ]
    },
    {
     "name": "stdout",
     "output_type": "stream",
     "text": [
      "Running RAggregate with theta = 2.7188679893471654 and reg = 0.1\n",
      "Length of the RPS is 957\n"
     ]
    },
    {
     "name": "stderr",
     "output_type": "stream",
     "text": [
      "100%|██████████████████████████████████████████| 20/20 [00:00<00:00, 274.75it/s]\n",
      "100%|████████████████████████████████████████| 100/100 [00:00<00:00, 240.11it/s]\n",
      "100%|████████████████████████████████████████| 500/500 [00:01<00:00, 290.93it/s]\n"
     ]
    },
    {
     "name": "stdout",
     "output_type": "stream",
     "text": [
      "\n",
      "\n",
      "Running Iteration 42\n",
      "Running RAggregate with theta = 1.9349434796587912 and reg = 0.1\n",
      "Length of the RPS is 0\n"
     ]
    },
    {
     "name": "stderr",
     "output_type": "stream",
     "text": [
      "100%|███████████████████████████████████████| 20/20 [00:00<00:00, 322638.77it/s]\n",
      "100%|█████████████████████████████████████| 100/100 [00:00<00:00, 868385.92it/s]\n",
      "100%|█████████████████████████████████████| 500/500 [00:00<00:00, 969557.10it/s]\n"
     ]
    },
    {
     "name": "stdout",
     "output_type": "stream",
     "text": [
      "Running RAggregate with theta = 2.110847432355045 and reg = 0.1\n",
      "Length of the RPS is 40\n"
     ]
    },
    {
     "name": "stderr",
     "output_type": "stream",
     "text": [
      "100%|█████████████████████████████████████████| 20/20 [00:00<00:00, 7440.67it/s]\n",
      "100%|███████████████████████████████████████| 100/100 [00:00<00:00, 6673.30it/s]\n",
      "100%|███████████████████████████████████████| 500/500 [00:00<00:00, 6144.91it/s]\n"
     ]
    },
    {
     "name": "stdout",
     "output_type": "stream",
     "text": [
      "Running RAggregate with theta = 2.2867513850512986 and reg = 0.1\n",
      "Length of the RPS is 102\n"
     ]
    },
    {
     "name": "stderr",
     "output_type": "stream",
     "text": [
      "100%|█████████████████████████████████████████| 20/20 [00:00<00:00, 2760.14it/s]\n",
      "100%|███████████████████████████████████████| 100/100 [00:00<00:00, 2609.31it/s]\n",
      "100%|███████████████████████████████████████| 500/500 [00:00<00:00, 2798.09it/s]\n"
     ]
    },
    {
     "name": "stdout",
     "output_type": "stream",
     "text": [
      "Running RAggregate with theta = 2.638559290443806 and reg = 0.1\n",
      "Length of the RPS is 598\n"
     ]
    },
    {
     "name": "stderr",
     "output_type": "stream",
     "text": [
      "100%|██████████████████████████████████████████| 20/20 [00:00<00:00, 413.79it/s]\n",
      "100%|████████████████████████████████████████| 100/100 [00:00<00:00, 465.22it/s]\n",
      "100%|████████████████████████████████████████| 500/500 [00:01<00:00, 455.53it/s]\n"
     ]
    },
    {
     "name": "stdout",
     "output_type": "stream",
     "text": [
      "\n",
      "\n",
      "Running Iteration 43\n",
      "Running RAggregate with theta = 1.9626490780647745 and reg = 0.1\n",
      "Length of the RPS is 10\n"
     ]
    },
    {
     "name": "stderr",
     "output_type": "stream",
     "text": [
      "100%|████████████████████████████████████████| 20/20 [00:00<00:00, 21959.71it/s]\n",
      "100%|██████████████████████████████████████| 100/100 [00:00<00:00, 24516.62it/s]\n",
      "100%|██████████████████████████████████████| 500/500 [00:00<00:00, 25327.92it/s]\n"
     ]
    },
    {
     "name": "stdout",
     "output_type": "stream",
     "text": [
      "Running RAggregate with theta = 2.141071721525208 and reg = 0.1\n",
      "Length of the RPS is 58\n"
     ]
    },
    {
     "name": "stderr",
     "output_type": "stream",
     "text": [
      "100%|█████████████████████████████████████████| 20/20 [00:00<00:00, 4807.78it/s]\n",
      "100%|███████████████████████████████████████| 100/100 [00:00<00:00, 4864.03it/s]\n",
      "100%|███████████████████████████████████████| 500/500 [00:00<00:00, 4559.20it/s]\n"
     ]
    },
    {
     "name": "stdout",
     "output_type": "stream",
     "text": [
      "Running RAggregate with theta = 2.3194943649856428 and reg = 0.1\n",
      "Length of the RPS is 208\n"
     ]
    },
    {
     "name": "stderr",
     "output_type": "stream",
     "text": [
      "100%|█████████████████████████████████████████| 20/20 [00:00<00:00, 1390.11it/s]\n",
      "100%|███████████████████████████████████████| 100/100 [00:00<00:00, 1283.27it/s]\n",
      "100%|███████████████████████████████████████| 500/500 [00:00<00:00, 1210.35it/s]\n"
     ]
    },
    {
     "name": "stdout",
     "output_type": "stream",
     "text": [
      "Running RAggregate with theta = 2.6763396519065106 and reg = 0.1\n",
      "Length of the RPS is 1145\n"
     ]
    },
    {
     "name": "stderr",
     "output_type": "stream",
     "text": [
      "100%|██████████████████████████████████████████| 20/20 [00:00<00:00, 231.44it/s]\n",
      "100%|████████████████████████████████████████| 100/100 [00:00<00:00, 244.10it/s]\n",
      "100%|████████████████████████████████████████| 500/500 [00:02<00:00, 211.26it/s]\n"
     ]
    },
    {
     "name": "stdout",
     "output_type": "stream",
     "text": [
      "\n",
      "\n",
      "Running Iteration 44\n",
      "Running RAggregate with theta = 1.9622460435929694 and reg = 0.1\n",
      "Length of the RPS is 9\n"
     ]
    },
    {
     "name": "stderr",
     "output_type": "stream",
     "text": [
      "100%|████████████████████████████████████████| 20/20 [00:00<00:00, 23974.30it/s]\n",
      "100%|██████████████████████████████████████| 100/100 [00:00<00:00, 23623.23it/s]\n",
      "100%|██████████████████████████████████████| 500/500 [00:00<00:00, 28687.63it/s]\n"
     ]
    },
    {
     "name": "stdout",
     "output_type": "stream",
     "text": [
      "Running RAggregate with theta = 2.1406320475559664 and reg = 0.1\n",
      "Length of the RPS is 48\n"
     ]
    },
    {
     "name": "stderr",
     "output_type": "stream",
     "text": [
      "100%|█████████████████████████████████████████| 20/20 [00:00<00:00, 5728.75it/s]\n",
      "100%|███████████████████████████████████████| 100/100 [00:00<00:00, 6223.65it/s]\n",
      "100%|███████████████████████████████████████| 500/500 [00:00<00:00, 3469.55it/s]\n"
     ]
    },
    {
     "name": "stdout",
     "output_type": "stream",
     "text": [
      "Running RAggregate with theta = 2.3190180515189636 and reg = 0.1\n",
      "Length of the RPS is 128\n"
     ]
    },
    {
     "name": "stderr",
     "output_type": "stream",
     "text": [
      "100%|█████████████████████████████████████████| 20/20 [00:00<00:00, 2332.11it/s]\n",
      "100%|███████████████████████████████████████| 100/100 [00:00<00:00, 2035.09it/s]\n",
      "100%|███████████████████████████████████████| 500/500 [00:00<00:00, 2068.20it/s]\n"
     ]
    },
    {
     "name": "stdout",
     "output_type": "stream",
     "text": [
      "Running RAggregate with theta = 2.675790059444958 and reg = 0.1\n",
      "Length of the RPS is 793\n"
     ]
    },
    {
     "name": "stderr",
     "output_type": "stream",
     "text": [
      "100%|██████████████████████████████████████████| 20/20 [00:00<00:00, 226.86it/s]\n",
      "100%|████████████████████████████████████████| 100/100 [00:00<00:00, 289.00it/s]\n",
      "100%|████████████████████████████████████████| 500/500 [00:01<00:00, 355.90it/s]\n"
     ]
    },
    {
     "name": "stdout",
     "output_type": "stream",
     "text": [
      "\n",
      "\n",
      "Running Iteration 45\n",
      "Running RAggregate with theta = 1.972075728697601 and reg = 0.1\n",
      "Length of the RPS is 9\n"
     ]
    },
    {
     "name": "stderr",
     "output_type": "stream",
     "text": [
      "100%|████████████████████████████████████████| 20/20 [00:00<00:00, 24357.17it/s]\n",
      "100%|██████████████████████████████████████| 100/100 [00:00<00:00, 27019.93it/s]\n",
      "100%|██████████████████████████████████████| 500/500 [00:00<00:00, 26650.47it/s]\n"
     ]
    },
    {
     "name": "stdout",
     "output_type": "stream",
     "text": [
      "Running RAggregate with theta = 2.1513553403973824 and reg = 0.1\n",
      "Length of the RPS is 48\n"
     ]
    },
    {
     "name": "stderr",
     "output_type": "stream",
     "text": [
      "100%|█████████████████████████████████████████| 20/20 [00:00<00:00, 5937.58it/s]\n",
      "100%|███████████████████████████████████████| 100/100 [00:00<00:00, 5161.84it/s]\n",
      "100%|███████████████████████████████████████| 500/500 [00:00<00:00, 5841.99it/s]\n"
     ]
    },
    {
     "name": "stdout",
     "output_type": "stream",
     "text": [
      "Running RAggregate with theta = 2.3306349520971645 and reg = 0.1\n",
      "Length of the RPS is 128\n"
     ]
    },
    {
     "name": "stderr",
     "output_type": "stream",
     "text": [
      "100%|█████████████████████████████████████████| 20/20 [00:00<00:00, 2304.63it/s]\n",
      "100%|███████████████████████████████████████| 100/100 [00:00<00:00, 2415.10it/s]\n",
      "100%|███████████████████████████████████████| 500/500 [00:00<00:00, 2219.89it/s]\n"
     ]
    },
    {
     "name": "stdout",
     "output_type": "stream",
     "text": [
      "Running RAggregate with theta = 2.6891941754967283 and reg = 0.1\n",
      "Length of the RPS is 796\n"
     ]
    },
    {
     "name": "stderr",
     "output_type": "stream",
     "text": [
      "100%|██████████████████████████████████████████| 20/20 [00:00<00:00, 329.57it/s]\n",
      "100%|████████████████████████████████████████| 100/100 [00:00<00:00, 279.58it/s]\n",
      "100%|████████████████████████████████████████| 500/500 [00:01<00:00, 328.37it/s]\n"
     ]
    },
    {
     "name": "stdout",
     "output_type": "stream",
     "text": [
      "\n",
      "\n",
      "Running Iteration 46\n",
      "Running RAggregate with theta = 2.0125243453013484 and reg = 0.1\n",
      "Length of the RPS is 10\n"
     ]
    },
    {
     "name": "stderr",
     "output_type": "stream",
     "text": [
      "100%|████████████████████████████████████████| 20/20 [00:00<00:00, 17776.24it/s]\n",
      "100%|██████████████████████████████████████| 100/100 [00:00<00:00, 23591.34it/s]\n",
      "100%|██████████████████████████████████████| 500/500 [00:00<00:00, 24268.10it/s]\n"
     ]
    },
    {
     "name": "stdout",
     "output_type": "stream",
     "text": [
      "Running RAggregate with theta = 2.1954811039651068 and reg = 0.1\n",
      "Length of the RPS is 56\n"
     ]
    },
    {
     "name": "stderr",
     "output_type": "stream",
     "text": [
      "100%|█████████████████████████████████████████| 20/20 [00:00<00:00, 5123.13it/s]\n",
      "100%|███████████████████████████████████████| 100/100 [00:00<00:00, 5122.13it/s]\n",
      "100%|███████████████████████████████████████| 500/500 [00:00<00:00, 4433.85it/s]\n"
     ]
    },
    {
     "name": "stdout",
     "output_type": "stream",
     "text": [
      "Running RAggregate with theta = 2.378437862628866 and reg = 0.1\n",
      "Length of the RPS is 146\n"
     ]
    },
    {
     "name": "stderr",
     "output_type": "stream",
     "text": [
      "100%|█████████████████████████████████████████| 20/20 [00:00<00:00, 2028.59it/s]\n",
      "100%|███████████████████████████████████████| 100/100 [00:00<00:00, 2038.98it/s]\n",
      "100%|███████████████████████████████████████| 500/500 [00:00<00:00, 1974.71it/s]\n"
     ]
    },
    {
     "name": "stdout",
     "output_type": "stream",
     "text": [
      "Running RAggregate with theta = 2.7443513799563837 and reg = 0.1\n",
      "Length of the RPS is 989\n"
     ]
    },
    {
     "name": "stderr",
     "output_type": "stream",
     "text": [
      "100%|██████████████████████████████████████████| 20/20 [00:00<00:00, 208.75it/s]\n",
      "100%|████████████████████████████████████████| 100/100 [00:00<00:00, 273.30it/s]\n",
      "100%|████████████████████████████████████████| 500/500 [00:01<00:00, 294.97it/s]\n"
     ]
    },
    {
     "name": "stdout",
     "output_type": "stream",
     "text": [
      "\n",
      "\n",
      "Running Iteration 47\n",
      "Running RAggregate with theta = 1.9576419778748715 and reg = 0.1\n",
      "Length of the RPS is 9\n"
     ]
    },
    {
     "name": "stderr",
     "output_type": "stream",
     "text": [
      "100%|████████████████████████████████████████| 20/20 [00:00<00:00, 23696.63it/s]\n",
      "100%|██████████████████████████████████████| 100/100 [00:00<00:00, 23551.60it/s]\n",
      "100%|██████████████████████████████████████| 500/500 [00:00<00:00, 29232.67it/s]\n"
     ]
    },
    {
     "name": "stdout",
     "output_type": "stream",
     "text": [
      "Running RAggregate with theta = 2.1356094304089503 and reg = 0.1\n",
      "Length of the RPS is 48\n"
     ]
    },
    {
     "name": "stderr",
     "output_type": "stream",
     "text": [
      "100%|█████████████████████████████████████████| 20/20 [00:00<00:00, 5065.89it/s]\n",
      "100%|███████████████████████████████████████| 100/100 [00:00<00:00, 5450.76it/s]\n",
      "100%|███████████████████████████████████████| 500/500 [00:00<00:00, 5627.28it/s]\n"
     ]
    },
    {
     "name": "stdout",
     "output_type": "stream",
     "text": [
      "Running RAggregate with theta = 2.31357688294303 and reg = 0.1\n",
      "Length of the RPS is 106\n"
     ]
    },
    {
     "name": "stderr",
     "output_type": "stream",
     "text": [
      "100%|█████████████████████████████████████████| 20/20 [00:00<00:00, 2654.20it/s]\n",
      "100%|███████████████████████████████████████| 100/100 [00:00<00:00, 2636.85it/s]\n",
      "100%|███████████████████████████████████████| 500/500 [00:00<00:00, 2457.35it/s]\n"
     ]
    },
    {
     "name": "stdout",
     "output_type": "stream",
     "text": [
      "Running RAggregate with theta = 2.6695117880111883 and reg = 0.1\n",
      "Length of the RPS is 731\n"
     ]
    },
    {
     "name": "stderr",
     "output_type": "stream",
     "text": [
      "100%|██████████████████████████████████████████| 20/20 [00:00<00:00, 393.72it/s]\n",
      "100%|████████████████████████████████████████| 100/100 [00:00<00:00, 356.72it/s]\n",
      "100%|████████████████████████████████████████| 500/500 [00:01<00:00, 342.32it/s]\n"
     ]
    },
    {
     "name": "stdout",
     "output_type": "stream",
     "text": [
      "\n",
      "\n",
      "Running Iteration 48\n",
      "Running RAggregate with theta = 2.0151773711929915 and reg = 0.1\n",
      "Length of the RPS is 9\n"
     ]
    },
    {
     "name": "stderr",
     "output_type": "stream",
     "text": [
      "100%|████████████████████████████████████████| 20/20 [00:00<00:00, 25130.64it/s]\n",
      "100%|██████████████████████████████████████| 100/100 [00:00<00:00, 28561.82it/s]\n",
      "100%|██████████████████████████████████████| 500/500 [00:00<00:00, 28250.56it/s]\n"
     ]
    },
    {
     "name": "stdout",
     "output_type": "stream",
     "text": [
      "Running RAggregate with theta = 2.1983753140287177 and reg = 0.1\n",
      "Length of the RPS is 48\n"
     ]
    },
    {
     "name": "stderr",
     "output_type": "stream",
     "text": [
      "100%|█████████████████████████████████████████| 20/20 [00:00<00:00, 5872.32it/s]\n",
      "100%|███████████████████████████████████████| 100/100 [00:00<00:00, 6027.34it/s]\n",
      "100%|███████████████████████████████████████| 500/500 [00:00<00:00, 5405.28it/s]\n"
     ]
    },
    {
     "name": "stdout",
     "output_type": "stream",
     "text": [
      "Running RAggregate with theta = 2.3815732568644443 and reg = 0.1\n",
      "Length of the RPS is 127\n"
     ]
    },
    {
     "name": "stderr",
     "output_type": "stream",
     "text": [
      "100%|█████████████████████████████████████████| 20/20 [00:00<00:00, 1645.44it/s]\n",
      "100%|███████████████████████████████████████| 100/100 [00:00<00:00, 1881.25it/s]\n",
      "100%|███████████████████████████████████████| 500/500 [00:00<00:00, 1983.90it/s]\n"
     ]
    },
    {
     "name": "stdout",
     "output_type": "stream",
     "text": [
      "Running RAggregate with theta = 2.747969142535897 and reg = 0.1\n",
      "Length of the RPS is 886\n"
     ]
    },
    {
     "name": "stderr",
     "output_type": "stream",
     "text": [
      "100%|██████████████████████████████████████████| 20/20 [00:00<00:00, 213.72it/s]\n",
      "100%|████████████████████████████████████████| 100/100 [00:00<00:00, 247.77it/s]\n",
      "100%|████████████████████████████████████████| 500/500 [00:01<00:00, 284.80it/s]\n"
     ]
    },
    {
     "name": "stdout",
     "output_type": "stream",
     "text": [
      "\n",
      "\n",
      "Running Iteration 49\n",
      "Running RAggregate with theta = 1.999452486603847 and reg = 0.1\n",
      "Length of the RPS is 10\n"
     ]
    },
    {
     "name": "stderr",
     "output_type": "stream",
     "text": [
      "100%|████████████████████████████████████████| 20/20 [00:00<00:00, 21253.12it/s]\n",
      "100%|██████████████████████████████████████| 100/100 [00:00<00:00, 16452.12it/s]\n",
      "100%|██████████████████████████████████████| 500/500 [00:00<00:00, 20716.91it/s]\n"
     ]
    },
    {
     "name": "stdout",
     "output_type": "stream",
     "text": [
      "Running RAggregate with theta = 2.181220894476924 and reg = 0.1\n",
      "Length of the RPS is 49\n"
     ]
    },
    {
     "name": "stderr",
     "output_type": "stream",
     "text": [
      "100%|█████████████████████████████████████████| 20/20 [00:00<00:00, 4537.08it/s]\n",
      "100%|███████████████████████████████████████| 100/100 [00:00<00:00, 4347.10it/s]\n",
      "100%|███████████████████████████████████████| 500/500 [00:00<00:00, 5346.17it/s]\n"
     ]
    },
    {
     "name": "stdout",
     "output_type": "stream",
     "text": [
      "Running RAggregate with theta = 2.362989302350001 and reg = 0.1\n",
      "Length of the RPS is 161\n"
     ]
    },
    {
     "name": "stderr",
     "output_type": "stream",
     "text": [
      "100%|█████████████████████████████████████████| 20/20 [00:00<00:00, 1432.29it/s]\n",
      "100%|████████████████████████████████████████| 100/100 [00:00<00:00, 673.15it/s]\n",
      "100%|███████████████████████████████████████| 500/500 [00:00<00:00, 1610.78it/s]\n"
     ]
    },
    {
     "name": "stdout",
     "output_type": "stream",
     "text": [
      "Running RAggregate with theta = 2.726526118096155 and reg = 0.1\n",
      "Length of the RPS is 1033\n"
     ]
    },
    {
     "name": "stderr",
     "output_type": "stream",
     "text": [
      "100%|██████████████████████████████████████████| 20/20 [00:00<00:00, 207.92it/s]\n",
      "100%|████████████████████████████████████████| 100/100 [00:00<00:00, 256.51it/s]\n",
      "100%|████████████████████████████████████████| 500/500 [00:01<00:00, 261.18it/s]\n"
     ]
    },
    {
     "name": "stdout",
     "output_type": "stream",
     "text": [
      "\n",
      "\n",
      "Running Iteration 50\n",
      "Running RAggregate with theta = 1.9967137097362198 and reg = 0.1\n",
      "Length of the RPS is 10\n"
     ]
    },
    {
     "name": "stderr",
     "output_type": "stream",
     "text": [
      "100%|████████████████████████████████████████| 20/20 [00:00<00:00, 10753.25it/s]\n",
      "100%|██████████████████████████████████████| 100/100 [00:00<00:00, 22829.87it/s]\n",
      "100%|██████████████████████████████████████| 500/500 [00:00<00:00, 23798.01it/s]\n"
     ]
    },
    {
     "name": "stdout",
     "output_type": "stream",
     "text": [
      "Running RAggregate with theta = 2.1782331378940576 and reg = 0.1\n",
      "Length of the RPS is 55\n"
     ]
    },
    {
     "name": "stderr",
     "output_type": "stream",
     "text": [
      "100%|█████████████████████████████████████████| 20/20 [00:00<00:00, 5269.89it/s]\n",
      "100%|███████████████████████████████████████| 100/100 [00:00<00:00, 5157.59it/s]\n",
      "100%|███████████████████████████████████████| 500/500 [00:00<00:00, 4919.81it/s]\n"
     ]
    },
    {
     "name": "stdout",
     "output_type": "stream",
     "text": [
      "Running RAggregate with theta = 2.359752566051896 and reg = 0.1\n",
      "Length of the RPS is 138\n"
     ]
    },
    {
     "name": "stderr",
     "output_type": "stream",
     "text": [
      "100%|█████████████████████████████████████████| 20/20 [00:00<00:00, 2198.27it/s]\n",
      "100%|███████████████████████████████████████| 100/100 [00:00<00:00, 2166.32it/s]\n",
      "100%|███████████████████████████████████████| 500/500 [00:00<00:00, 1956.01it/s]\n"
     ]
    },
    {
     "name": "stdout",
     "output_type": "stream",
     "text": [
      "Running RAggregate with theta = 2.722791422367572 and reg = 0.1\n",
      "Length of the RPS is 941\n"
     ]
    },
    {
     "name": "stderr",
     "output_type": "stream",
     "text": [
      "100%|██████████████████████████████████████████| 20/20 [00:00<00:00, 208.12it/s]\n",
      "100%|████████████████████████████████████████| 100/100 [00:00<00:00, 279.18it/s]\n",
      "100%|████████████████████████████████████████| 500/500 [00:01<00:00, 302.02it/s]\n"
     ]
    },
    {
     "name": "stdout",
     "output_type": "stream",
     "text": [
      "\n",
      "\n",
      "Running Iteration 51\n",
      "Running RAggregate with theta = 1.950601966978123 and reg = 0.1\n",
      "Length of the RPS is 9\n"
     ]
    },
    {
     "name": "stderr",
     "output_type": "stream",
     "text": [
      "100%|████████████████████████████████████████| 20/20 [00:00<00:00, 25033.15it/s]\n",
      "100%|██████████████████████████████████████| 100/100 [00:00<00:00, 27954.57it/s]\n",
      "100%|██████████████████████████████████████| 500/500 [00:00<00:00, 29482.95it/s]\n"
     ]
    },
    {
     "name": "stdout",
     "output_type": "stream",
     "text": [
      "Running RAggregate with theta = 2.1279294185215885 and reg = 0.1\n",
      "Length of the RPS is 40\n"
     ]
    },
    {
     "name": "stderr",
     "output_type": "stream",
     "text": [
      "100%|█████████████████████████████████████████| 20/20 [00:00<00:00, 5475.24it/s]\n",
      "100%|███████████████████████████████████████| 100/100 [00:00<00:00, 6878.95it/s]\n",
      "100%|███████████████████████████████████████| 500/500 [00:00<00:00, 6805.02it/s]\n"
     ]
    },
    {
     "name": "stdout",
     "output_type": "stream",
     "text": [
      "Running RAggregate with theta = 2.305256870065054 and reg = 0.1\n",
      "Length of the RPS is 110\n"
     ]
    },
    {
     "name": "stderr",
     "output_type": "stream",
     "text": [
      "100%|█████████████████████████████████████████| 20/20 [00:00<00:00, 2575.64it/s]\n",
      "100%|███████████████████████████████████████| 100/100 [00:00<00:00, 1583.44it/s]\n",
      "100%|███████████████████████████████████████| 500/500 [00:00<00:00, 2546.05it/s]\n"
     ]
    },
    {
     "name": "stdout",
     "output_type": "stream",
     "text": [
      "Running RAggregate with theta = 2.6599117731519852 and reg = 0.1\n",
      "Length of the RPS is 684\n"
     ]
    },
    {
     "name": "stderr",
     "output_type": "stream",
     "text": [
      "100%|██████████████████████████████████████████| 20/20 [00:00<00:00, 347.64it/s]\n",
      "100%|████████████████████████████████████████| 100/100 [00:00<00:00, 391.35it/s]\n",
      "100%|████████████████████████████████████████| 500/500 [00:01<00:00, 416.83it/s]\n"
     ]
    },
    {
     "name": "stdout",
     "output_type": "stream",
     "text": [
      "\n",
      "\n",
      "Running Iteration 52\n",
      "Running RAggregate with theta = 1.9965288826827763 and reg = 0.1\n",
      "Length of the RPS is 9\n"
     ]
    },
    {
     "name": "stderr",
     "output_type": "stream",
     "text": [
      "100%|████████████████████████████████████████| 20/20 [00:00<00:00, 23831.27it/s]\n",
      "100%|██████████████████████████████████████| 100/100 [00:00<00:00, 19167.83it/s]\n",
      "100%|██████████████████████████████████████| 500/500 [00:00<00:00, 27956.44it/s]\n"
     ]
    },
    {
     "name": "stdout",
     "output_type": "stream",
     "text": [
      "Running RAggregate with theta = 2.1780315083812103 and reg = 0.1\n",
      "Length of the RPS is 48\n"
     ]
    },
    {
     "name": "stderr",
     "output_type": "stream",
     "text": [
      "100%|█████████████████████████████████████████| 20/20 [00:00<00:00, 5792.44it/s]\n",
      "100%|███████████████████████████████████████| 100/100 [00:00<00:00, 5686.34it/s]\n",
      "100%|███████████████████████████████████████| 500/500 [00:00<00:00, 5759.51it/s]\n"
     ]
    },
    {
     "name": "stdout",
     "output_type": "stream",
     "text": [
      "Running RAggregate with theta = 2.3595341340796443 and reg = 0.1\n",
      "Length of the RPS is 127\n"
     ]
    },
    {
     "name": "stderr",
     "output_type": "stream",
     "text": [
      "100%|█████████████████████████████████████████| 20/20 [00:00<00:00, 2190.58it/s]\n",
      "100%|███████████████████████████████████████| 100/100 [00:00<00:00, 2101.93it/s]\n",
      "100%|███████████████████████████████████████| 500/500 [00:00<00:00, 2207.77it/s]\n"
     ]
    },
    {
     "name": "stdout",
     "output_type": "stream",
     "text": [
      "Running RAggregate with theta = 2.7225393854765128 and reg = 0.1\n",
      "Length of the RPS is 769\n"
     ]
    },
    {
     "name": "stderr",
     "output_type": "stream",
     "text": [
      "100%|██████████████████████████████████████████| 20/20 [00:00<00:00, 261.68it/s]\n",
      "100%|████████████████████████████████████████| 100/100 [00:00<00:00, 300.09it/s]\n",
      "100%|████████████████████████████████████████| 500/500 [00:01<00:00, 326.67it/s]\n"
     ]
    },
    {
     "name": "stdout",
     "output_type": "stream",
     "text": [
      "\n",
      "\n",
      "Running Iteration 53\n",
      "Running RAggregate with theta = 1.993590115151953 and reg = 0.1\n",
      "Length of the RPS is 9\n"
     ]
    },
    {
     "name": "stderr",
     "output_type": "stream",
     "text": [
      "100%|████████████████████████████████████████| 20/20 [00:00<00:00, 22907.18it/s]\n",
      "100%|██████████████████████████████████████| 100/100 [00:00<00:00, 22988.79it/s]\n",
      "100%|██████████████████████████████████████| 500/500 [00:00<00:00, 25339.55it/s]\n"
     ]
    },
    {
     "name": "stdout",
     "output_type": "stream",
     "text": [
      "Running RAggregate with theta = 2.1748255801657668 and reg = 0.1\n",
      "Length of the RPS is 48\n"
     ]
    },
    {
     "name": "stderr",
     "output_type": "stream",
     "text": [
      "100%|█████████████████████████████████████████| 20/20 [00:00<00:00, 5512.66it/s]\n",
      "100%|███████████████████████████████████████| 100/100 [00:00<00:00, 6283.70it/s]\n",
      "100%|███████████████████████████████████████| 500/500 [00:00<00:00, 5776.74it/s]\n"
     ]
    },
    {
     "name": "stdout",
     "output_type": "stream",
     "text": [
      "Running RAggregate with theta = 2.3560610451795805 and reg = 0.1\n",
      "Length of the RPS is 127\n"
     ]
    },
    {
     "name": "stderr",
     "output_type": "stream",
     "text": [
      "100%|█████████████████████████████████████████| 20/20 [00:00<00:00, 2366.25it/s]\n",
      "100%|███████████████████████████████████████| 100/100 [00:00<00:00, 2426.25it/s]\n",
      "100%|███████████████████████████████████████| 500/500 [00:00<00:00, 2228.61it/s]\n"
     ]
    },
    {
     "name": "stdout",
     "output_type": "stream",
     "text": [
      "Running RAggregate with theta = 2.7185319752072084 and reg = 0.1\n",
      "Length of the RPS is 772\n"
     ]
    },
    {
     "name": "stderr",
     "output_type": "stream",
     "text": [
      "100%|██████████████████████████████████████████| 20/20 [00:00<00:00, 331.76it/s]\n",
      "100%|████████████████████████████████████████| 100/100 [00:00<00:00, 376.86it/s]\n",
      "100%|████████████████████████████████████████| 500/500 [00:01<00:00, 367.33it/s]\n"
     ]
    },
    {
     "name": "stdout",
     "output_type": "stream",
     "text": [
      "\n",
      "\n",
      "Running Iteration 54\n",
      "Running RAggregate with theta = 1.9635437857698923 and reg = 0.1\n",
      "Length of the RPS is 9\n"
     ]
    },
    {
     "name": "stderr",
     "output_type": "stream",
     "text": [
      "100%|████████████████████████████████████████| 20/20 [00:00<00:00, 20445.06it/s]\n",
      "100%|██████████████████████████████████████| 100/100 [00:00<00:00, 26723.82it/s]\n",
      "100%|██████████████████████████████████████| 500/500 [00:00<00:00, 28722.60it/s]\n"
     ]
    },
    {
     "name": "stdout",
     "output_type": "stream",
     "text": [
      "Running RAggregate with theta = 2.1420477662944277 and reg = 0.1\n",
      "Length of the RPS is 49\n"
     ]
    },
    {
     "name": "stderr",
     "output_type": "stream",
     "text": [
      "100%|█████████████████████████████████████████| 20/20 [00:00<00:00, 5189.36it/s]\n",
      "100%|███████████████████████████████████████| 100/100 [00:00<00:00, 5262.94it/s]\n",
      "100%|███████████████████████████████████████| 500/500 [00:00<00:00, 4859.00it/s]\n"
     ]
    },
    {
     "name": "stdout",
     "output_type": "stream",
     "text": [
      "Running RAggregate with theta = 2.3205517468189636 and reg = 0.1\n",
      "Length of the RPS is 111\n"
     ]
    },
    {
     "name": "stderr",
     "output_type": "stream",
     "text": [
      "100%|█████████████████████████████████████████| 20/20 [00:00<00:00, 2640.25it/s]\n",
      "100%|███████████████████████████████████████| 100/100 [00:00<00:00, 2660.08it/s]\n",
      "100%|███████████████████████████████████████| 500/500 [00:00<00:00, 2650.83it/s]\n"
     ]
    },
    {
     "name": "stdout",
     "output_type": "stream",
     "text": [
      "Running RAggregate with theta = 2.677559707868035 and reg = 0.1\n",
      "Length of the RPS is 857\n"
     ]
    },
    {
     "name": "stderr",
     "output_type": "stream",
     "text": [
      "100%|██████████████████████████████████████████| 20/20 [00:00<00:00, 303.55it/s]\n",
      "100%|████████████████████████████████████████| 100/100 [00:00<00:00, 325.65it/s]\n",
      "100%|████████████████████████████████████████| 500/500 [00:01<00:00, 332.64it/s]\n"
     ]
    },
    {
     "name": "stdout",
     "output_type": "stream",
     "text": [
      "\n",
      "\n",
      "Running Iteration 55\n",
      "Running RAggregate with theta = 1.9541767277182926 and reg = 0.1\n",
      "Length of the RPS is 0\n"
     ]
    },
    {
     "name": "stderr",
     "output_type": "stream",
     "text": [
      "100%|███████████████████████████████████████| 20/20 [00:00<00:00, 299593.14it/s]\n",
      "100%|█████████████████████████████████████| 100/100 [00:00<00:00, 507170.98it/s]\n",
      "100%|████████████████████████████████████| 500/500 [00:00<00:00, 2314737.31it/s]\n"
     ]
    },
    {
     "name": "stdout",
     "output_type": "stream",
     "text": [
      "Running RAggregate with theta = 2.1318291575108645 and reg = 0.1\n",
      "Length of the RPS is 40\n"
     ]
    },
    {
     "name": "stderr",
     "output_type": "stream",
     "text": [
      "100%|█████████████████████████████████████████| 20/20 [00:00<00:00, 6747.59it/s]\n",
      "100%|███████████████████████████████████████| 100/100 [00:00<00:00, 7586.01it/s]\n",
      "100%|███████████████████████████████████████| 500/500 [00:00<00:00, 6565.54it/s]\n"
     ]
    },
    {
     "name": "stdout",
     "output_type": "stream",
     "text": [
      "Running RAggregate with theta = 2.309481587303437 and reg = 0.1\n",
      "Length of the RPS is 92\n"
     ]
    },
    {
     "name": "stderr",
     "output_type": "stream",
     "text": [
      "100%|█████████████████████████████████████████| 20/20 [00:00<00:00, 3379.51it/s]\n",
      "100%|███████████████████████████████████████| 100/100 [00:00<00:00, 3190.90it/s]\n",
      "100%|███████████████████████████████████████| 500/500 [00:00<00:00, 3300.48it/s]\n"
     ]
    },
    {
     "name": "stdout",
     "output_type": "stream",
     "text": [
      "Running RAggregate with theta = 2.6647864468885807 and reg = 0.1\n",
      "Length of the RPS is 469\n"
     ]
    },
    {
     "name": "stderr",
     "output_type": "stream",
     "text": [
      "100%|██████████████████████████████████████████| 20/20 [00:00<00:00, 552.71it/s]\n",
      "100%|████████████████████████████████████████| 100/100 [00:00<00:00, 568.95it/s]\n",
      "100%|████████████████████████████████████████| 500/500 [00:00<00:00, 577.09it/s]\n"
     ]
    },
    {
     "name": "stdout",
     "output_type": "stream",
     "text": [
      "\n",
      "\n",
      "Running Iteration 56\n",
      "Running RAggregate with theta = 1.9461120171672128 and reg = 0.1\n",
      "Length of the RPS is 10\n"
     ]
    },
    {
     "name": "stderr",
     "output_type": "stream",
     "text": [
      "100%|████████████████████████████████████████| 20/20 [00:00<00:00, 20540.18it/s]\n",
      "100%|██████████████████████████████████████| 100/100 [00:00<00:00, 18375.92it/s]\n",
      "100%|██████████████████████████████████████| 500/500 [00:00<00:00, 24230.53it/s]\n"
     ]
    },
    {
     "name": "stdout",
     "output_type": "stream",
     "text": [
      "Running RAggregate with theta = 2.123031291455141 and reg = 0.1\n",
      "Length of the RPS is 56\n"
     ]
    },
    {
     "name": "stderr",
     "output_type": "stream",
     "text": [
      "100%|█████████████████████████████████████████| 20/20 [00:00<00:00, 4901.89it/s]\n",
      "100%|███████████████████████████████████████| 100/100 [00:00<00:00, 3943.24it/s]\n",
      "100%|███████████████████████████████████████| 500/500 [00:00<00:00, 5040.67it/s]\n"
     ]
    },
    {
     "name": "stdout",
     "output_type": "stream",
     "text": [
      "Running RAggregate with theta = 2.2999505657430697 and reg = 0.1\n",
      "Length of the RPS is 146\n"
     ]
    },
    {
     "name": "stderr",
     "output_type": "stream",
     "text": [
      "100%|█████████████████████████████████████████| 20/20 [00:00<00:00, 1895.56it/s]\n",
      "100%|███████████████████████████████████████| 100/100 [00:00<00:00, 1690.53it/s]\n",
      "100%|███████████████████████████████████████| 500/500 [00:00<00:00, 1630.84it/s]\n"
     ]
    },
    {
     "name": "stdout",
     "output_type": "stream",
     "text": [
      "Running RAggregate with theta = 2.6537891143189265 and reg = 0.1\n",
      "Length of the RPS is 849\n"
     ]
    },
    {
     "name": "stderr",
     "output_type": "stream",
     "text": [
      "100%|██████████████████████████████████████████| 20/20 [00:00<00:00, 304.07it/s]\n",
      "100%|████████████████████████████████████████| 100/100 [00:00<00:00, 314.76it/s]\n",
      "100%|████████████████████████████████████████| 500/500 [00:01<00:00, 296.95it/s]\n"
     ]
    },
    {
     "name": "stdout",
     "output_type": "stream",
     "text": [
      "\n",
      "\n",
      "Running Iteration 57\n",
      "Running RAggregate with theta = 1.9581400227898995 and reg = 0.1\n",
      "Length of the RPS is 9\n"
     ]
    },
    {
     "name": "stderr",
     "output_type": "stream",
     "text": [
      "100%|████████████████████████████████████████| 20/20 [00:00<00:00, 25123.11it/s]\n",
      "100%|██████████████████████████████████████| 100/100 [00:00<00:00, 26988.64it/s]\n",
      "100%|██████████████████████████████████████| 500/500 [00:00<00:00, 26890.36it/s]\n"
     ]
    },
    {
     "name": "stdout",
     "output_type": "stream",
     "text": [
      "Running RAggregate with theta = 2.1361527521344357 and reg = 0.1\n",
      "Length of the RPS is 48\n"
     ]
    },
    {
     "name": "stderr",
     "output_type": "stream",
     "text": [
      "100%|█████████████████████████████████████████| 20/20 [00:00<00:00, 5876.84it/s]\n",
      "100%|███████████████████████████████████████| 100/100 [00:00<00:00, 5835.96it/s]\n",
      "100%|███████████████████████████████████████| 500/500 [00:00<00:00, 5605.42it/s]\n"
     ]
    },
    {
     "name": "stdout",
     "output_type": "stream",
     "text": [
      "Running RAggregate with theta = 2.3141654814789723 and reg = 0.1\n",
      "Length of the RPS is 102\n"
     ]
    },
    {
     "name": "stderr",
     "output_type": "stream",
     "text": [
      "100%|█████████████████████████████████████████| 20/20 [00:00<00:00, 2792.01it/s]\n",
      "100%|███████████████████████████████████████| 100/100 [00:00<00:00, 2574.06it/s]\n",
      "100%|███████████████████████████████████████| 500/500 [00:00<00:00, 2774.31it/s]\n"
     ]
    },
    {
     "name": "stdout",
     "output_type": "stream",
     "text": [
      "Running RAggregate with theta = 2.6701909401680446 and reg = 0.1\n",
      "Length of the RPS is 689\n"
     ]
    },
    {
     "name": "stderr",
     "output_type": "stream",
     "text": [
      "100%|██████████████████████████████████████████| 20/20 [00:00<00:00, 321.98it/s]\n",
      "100%|████████████████████████████████████████| 100/100 [00:00<00:00, 379.91it/s]\n",
      "100%|████████████████████████████████████████| 500/500 [00:01<00:00, 338.15it/s]\n"
     ]
    },
    {
     "name": "stdout",
     "output_type": "stream",
     "text": [
      "\n",
      "\n",
      "Running Iteration 58\n",
      "Running RAggregate with theta = 1.9918232022620292 and reg = 0.1\n",
      "Length of the RPS is 9\n"
     ]
    },
    {
     "name": "stderr",
     "output_type": "stream",
     "text": [
      "100%|████████████████████████████████████████| 20/20 [00:00<00:00, 24335.97it/s]\n",
      "100%|██████████████████████████████████████| 100/100 [00:00<00:00, 27846.93it/s]\n",
      "100%|██████████████████████████████████████| 500/500 [00:00<00:00, 28882.02it/s]\n"
     ]
    },
    {
     "name": "stdout",
     "output_type": "stream",
     "text": [
      "Running RAggregate with theta = 2.1728980388313044 and reg = 0.1\n",
      "Length of the RPS is 41\n"
     ]
    },
    {
     "name": "stderr",
     "output_type": "stream",
     "text": [
      "100%|█████████████████████████████████████████| 20/20 [00:00<00:00, 6631.83it/s]\n",
      "100%|███████████████████████████████████████| 100/100 [00:00<00:00, 7186.58it/s]\n",
      "100%|███████████████████████████████████████| 500/500 [00:00<00:00, 6203.23it/s]\n"
     ]
    },
    {
     "name": "stdout",
     "output_type": "stream",
     "text": [
      "Running RAggregate with theta = 2.3539728754005798 and reg = 0.1\n",
      "Length of the RPS is 103\n"
     ]
    },
    {
     "name": "stderr",
     "output_type": "stream",
     "text": [
      "100%|█████████████████████████████████████████| 20/20 [00:00<00:00, 2698.78it/s]\n",
      "100%|███████████████████████████████████████| 100/100 [00:00<00:00, 2702.41it/s]\n",
      "100%|███████████████████████████████████████| 500/500 [00:00<00:00, 2560.57it/s]\n"
     ]
    },
    {
     "name": "stdout",
     "output_type": "stream",
     "text": [
      "Running RAggregate with theta = 2.7161225485391305 and reg = 0.1\n",
      "Length of the RPS is 967\n"
     ]
    },
    {
     "name": "stderr",
     "output_type": "stream",
     "text": [
      "100%|██████████████████████████████████████████| 20/20 [00:00<00:00, 243.47it/s]\n",
      "100%|████████████████████████████████████████| 100/100 [00:00<00:00, 279.71it/s]\n",
      "100%|████████████████████████████████████████| 500/500 [00:01<00:00, 263.06it/s]\n"
     ]
    },
    {
     "name": "stdout",
     "output_type": "stream",
     "text": [
      "\n",
      "\n",
      "Running Iteration 59\n",
      "Running RAggregate with theta = 1.9601118391638532 and reg = 0.1\n",
      "Length of the RPS is 9\n"
     ]
    },
    {
     "name": "stderr",
     "output_type": "stream",
     "text": [
      "100%|████████████████████████████████████████| 20/20 [00:00<00:00, 16490.29it/s]\n",
      "100%|██████████████████████████████████████| 100/100 [00:00<00:00, 27885.81it/s]\n",
      "100%|██████████████████████████████████████| 500/500 [00:00<00:00, 23850.24it/s]\n"
     ]
    },
    {
     "name": "stdout",
     "output_type": "stream",
     "text": [
      "Running RAggregate with theta = 2.138303824542385 and reg = 0.1\n",
      "Length of the RPS is 49\n"
     ]
    },
    {
     "name": "stderr",
     "output_type": "stream",
     "text": [
      "100%|█████████████████████████████████████████| 20/20 [00:00<00:00, 5777.28it/s]\n",
      "100%|███████████████████████████████████████| 100/100 [00:00<00:00, 5505.42it/s]\n",
      "100%|███████████████████████████████████████| 500/500 [00:00<00:00, 5174.97it/s]\n"
     ]
    },
    {
     "name": "stdout",
     "output_type": "stream",
     "text": [
      "Running RAggregate with theta = 2.316495809920917 and reg = 0.1\n",
      "Length of the RPS is 154\n"
     ]
    },
    {
     "name": "stderr",
     "output_type": "stream",
     "text": [
      "100%|█████████████████████████████████████████| 20/20 [00:00<00:00, 1744.32it/s]\n",
      "100%|███████████████████████████████████████| 100/100 [00:00<00:00, 1711.88it/s]\n",
      "100%|███████████████████████████████████████| 500/500 [00:00<00:00, 1731.59it/s]\n"
     ]
    },
    {
     "name": "stdout",
     "output_type": "stream",
     "text": [
      "Running RAggregate with theta = 2.6728797806779814 and reg = 0.1\n",
      "Length of the RPS is 923\n"
     ]
    },
    {
     "name": "stderr",
     "output_type": "stream",
     "text": [
      "100%|██████████████████████████████████████████| 20/20 [00:00<00:00, 262.01it/s]\n",
      "100%|████████████████████████████████████████| 100/100 [00:00<00:00, 281.83it/s]\n",
      "100%|████████████████████████████████████████| 500/500 [00:01<00:00, 264.18it/s]\n"
     ]
    },
    {
     "name": "stdout",
     "output_type": "stream",
     "text": [
      "\n",
      "\n",
      "Running Iteration 60\n",
      "Running RAggregate with theta = 1.9807804085479979 and reg = 0.1\n",
      "Length of the RPS is 10\n"
     ]
    },
    {
     "name": "stderr",
     "output_type": "stream",
     "text": [
      "100%|████████████████████████████████████████| 20/20 [00:00<00:00, 21514.77it/s]\n",
      "100%|██████████████████████████████████████| 100/100 [00:00<00:00, 24498.01it/s]\n",
      "100%|██████████████████████████████████████| 500/500 [00:00<00:00, 21354.84it/s]\n"
     ]
    },
    {
     "name": "stdout",
     "output_type": "stream",
     "text": [
      "Running RAggregate with theta = 2.1608513547796337 and reg = 0.1\n",
      "Length of the RPS is 65\n"
     ]
    },
    {
     "name": "stderr",
     "output_type": "stream",
     "text": [
      "100%|█████████████████████████████████████████| 20/20 [00:00<00:00, 4172.81it/s]\n",
      "100%|███████████████████████████████████████| 100/100 [00:00<00:00, 4281.52it/s]\n",
      "100%|███████████████████████████████████████| 500/500 [00:00<00:00, 3925.23it/s]\n"
     ]
    },
    {
     "name": "stdout",
     "output_type": "stream",
     "text": [
      "Running RAggregate with theta = 2.34092230101127 and reg = 0.1\n",
      "Length of the RPS is 210\n"
     ]
    },
    {
     "name": "stderr",
     "output_type": "stream",
     "text": [
      "100%|█████████████████████████████████████████| 20/20 [00:00<00:00, 1067.12it/s]\n",
      "100%|███████████████████████████████████████| 100/100 [00:00<00:00, 1077.63it/s]\n",
      "100%|████████████████████████████████████████| 500/500 [00:00<00:00, 998.65it/s]\n"
     ]
    },
    {
     "name": "stdout",
     "output_type": "stream",
     "text": [
      "Running RAggregate with theta = 2.7010641934745423 and reg = 0.1\n",
      "Length of the RPS is 1190\n"
     ]
    },
    {
     "name": "stderr",
     "output_type": "stream",
     "text": [
      "100%|██████████████████████████████████████████| 20/20 [00:00<00:00, 193.46it/s]\n",
      "100%|████████████████████████████████████████| 100/100 [00:00<00:00, 154.58it/s]\n",
      "100%|████████████████████████████████████████| 500/500 [00:02<00:00, 193.49it/s]\n"
     ]
    },
    {
     "name": "stdout",
     "output_type": "stream",
     "text": [
      "\n",
      "\n",
      "Running Iteration 61\n",
      "Running RAggregate with theta = 1.9991611467638555 and reg = 0.1\n",
      "Length of the RPS is 9\n"
     ]
    },
    {
     "name": "stderr",
     "output_type": "stream",
     "text": [
      "100%|████████████████████████████████████████| 20/20 [00:00<00:00, 20331.09it/s]\n",
      "100%|██████████████████████████████████████| 100/100 [00:00<00:00, 27196.89it/s]\n",
      "100%|██████████████████████████████████████| 500/500 [00:00<00:00, 29210.28it/s]\n"
     ]
    },
    {
     "name": "stdout",
     "output_type": "stream",
     "text": [
      "Running RAggregate with theta = 2.180903069196933 and reg = 0.1\n",
      "Length of the RPS is 48\n"
     ]
    },
    {
     "name": "stderr",
     "output_type": "stream",
     "text": [
      "100%|█████████████████████████████████████████| 20/20 [00:00<00:00, 5944.73it/s]\n",
      "100%|███████████████████████████████████████| 100/100 [00:00<00:00, 5668.59it/s]\n",
      "100%|███████████████████████████████████████| 500/500 [00:00<00:00, 5934.85it/s]\n"
     ]
    },
    {
     "name": "stdout",
     "output_type": "stream",
     "text": [
      "Running RAggregate with theta = 2.362644991630011 and reg = 0.1\n",
      "Length of the RPS is 104\n"
     ]
    },
    {
     "name": "stderr",
     "output_type": "stream",
     "text": [
      "100%|█████████████████████████████████████████| 20/20 [00:00<00:00, 2864.37it/s]\n",
      "100%|███████████████████████████████████████| 100/100 [00:00<00:00, 2859.69it/s]\n",
      "100%|███████████████████████████████████████| 500/500 [00:00<00:00, 2744.99it/s]\n"
     ]
    },
    {
     "name": "stdout",
     "output_type": "stream",
     "text": [
      "Running RAggregate with theta = 2.7261288364961667 and reg = 0.1\n",
      "Length of the RPS is 765\n"
     ]
    },
    {
     "name": "stderr",
     "output_type": "stream",
     "text": [
      "100%|██████████████████████████████████████████| 20/20 [00:00<00:00, 403.89it/s]\n",
      "100%|████████████████████████████████████████| 100/100 [00:00<00:00, 349.57it/s]\n",
      "100%|████████████████████████████████████████| 500/500 [00:01<00:00, 351.54it/s]\n"
     ]
    },
    {
     "name": "stdout",
     "output_type": "stream",
     "text": [
      "\n",
      "\n",
      "Running Iteration 62\n",
      "Running RAggregate with theta = 1.9911123481759585 and reg = 0.1\n",
      "Length of the RPS is 9\n"
     ]
    },
    {
     "name": "stderr",
     "output_type": "stream",
     "text": [
      "100%|████████████████████████████████████████| 20/20 [00:00<00:00, 16824.32it/s]\n",
      "100%|██████████████████████████████████████| 100/100 [00:00<00:00, 28019.93it/s]\n",
      "100%|██████████████████████████████████████| 500/500 [00:00<00:00, 17329.83it/s]\n"
     ]
    },
    {
     "name": "stdout",
     "output_type": "stream",
     "text": [
      "Running RAggregate with theta = 2.1721225616465 and reg = 0.1\n",
      "Length of the RPS is 49\n"
     ]
    },
    {
     "name": "stderr",
     "output_type": "stream",
     "text": [
      "100%|█████████████████████████████████████████| 20/20 [00:00<00:00, 3957.45it/s]\n",
      "100%|███████████████████████████████████████| 100/100 [00:00<00:00, 5749.80it/s]\n",
      "100%|███████████████████████████████████████| 500/500 [00:00<00:00, 5625.18it/s]\n"
     ]
    },
    {
     "name": "stdout",
     "output_type": "stream",
     "text": [
      "Running RAggregate with theta = 2.3531327751170417 and reg = 0.1\n",
      "Length of the RPS is 137\n"
     ]
    },
    {
     "name": "stderr",
     "output_type": "stream",
     "text": [
      "100%|█████████████████████████████████████████| 20/20 [00:00<00:00, 2145.48it/s]\n",
      "100%|███████████████████████████████████████| 100/100 [00:00<00:00, 1870.06it/s]\n",
      "100%|███████████████████████████████████████| 500/500 [00:00<00:00, 2045.33it/s]\n"
     ]
    },
    {
     "name": "stdout",
     "output_type": "stream",
     "text": [
      "Running RAggregate with theta = 2.715153202058125 and reg = 0.1\n",
      "Length of the RPS is 943\n"
     ]
    },
    {
     "name": "stderr",
     "output_type": "stream",
     "text": [
      "100%|██████████████████████████████████████████| 20/20 [00:00<00:00, 249.21it/s]\n",
      "100%|████████████████████████████████████████| 100/100 [00:00<00:00, 266.58it/s]\n",
      "100%|████████████████████████████████████████| 500/500 [00:01<00:00, 283.52it/s]\n"
     ]
    },
    {
     "name": "stdout",
     "output_type": "stream",
     "text": [
      "\n",
      "\n",
      "Running Iteration 63\n",
      "Running RAggregate with theta = 1.9643200320241383 and reg = 0.1\n",
      "Length of the RPS is 9\n"
     ]
    },
    {
     "name": "stderr",
     "output_type": "stream",
     "text": [
      "100%|████████████████████████████████████████| 20/20 [00:00<00:00, 19099.74it/s]\n",
      "100%|██████████████████████████████████████| 100/100 [00:00<00:00, 28193.21it/s]\n",
      "100%|██████████████████████████████████████| 500/500 [00:00<00:00, 22629.59it/s]\n"
     ]
    },
    {
     "name": "stdout",
     "output_type": "stream",
     "text": [
      "Running RAggregate with theta = 2.1428945803899686 and reg = 0.1\n",
      "Length of the RPS is 40\n"
     ]
    },
    {
     "name": "stderr",
     "output_type": "stream",
     "text": [
      "100%|█████████████████████████████████████████| 20/20 [00:00<00:00, 7264.75it/s]\n",
      "100%|███████████████████████████████████████| 100/100 [00:00<00:00, 7537.61it/s]\n",
      "100%|███████████████████████████████████████| 500/500 [00:00<00:00, 7426.02it/s]\n"
     ]
    },
    {
     "name": "stdout",
     "output_type": "stream",
     "text": [
      "Running RAggregate with theta = 2.3214691287558 and reg = 0.1\n",
      "Length of the RPS is 102\n"
     ]
    },
    {
     "name": "stderr",
     "output_type": "stream",
     "text": [
      "100%|█████████████████████████████████████████| 20/20 [00:00<00:00, 2009.44it/s]\n",
      "100%|███████████████████████████████████████| 100/100 [00:00<00:00, 2545.95it/s]\n",
      "100%|███████████████████████████████████████| 500/500 [00:00<00:00, 2293.02it/s]\n"
     ]
    },
    {
     "name": "stdout",
     "output_type": "stream",
     "text": [
      "Running RAggregate with theta = 2.678618225487461 and reg = 0.1\n",
      "Length of the RPS is 738\n"
     ]
    },
    {
     "name": "stderr",
     "output_type": "stream",
     "text": [
      "100%|██████████████████████████████████████████| 20/20 [00:00<00:00, 330.28it/s]\n",
      "100%|████████████████████████████████████████| 100/100 [00:00<00:00, 336.47it/s]\n",
      "100%|████████████████████████████████████████| 500/500 [00:01<00:00, 302.00it/s]\n"
     ]
    },
    {
     "name": "stdout",
     "output_type": "stream",
     "text": [
      "\n",
      "\n",
      "Running Iteration 64\n",
      "Running RAggregate with theta = 1.9272713117838016 and reg = 0.1\n",
      "Length of the RPS is 9\n"
     ]
    },
    {
     "name": "stderr",
     "output_type": "stream",
     "text": [
      "100%|████████████████████████████████████████| 20/20 [00:00<00:00, 21098.11it/s]\n",
      "100%|██████████████████████████████████████| 100/100 [00:00<00:00, 28295.92it/s]\n",
      "100%|██████████████████████████████████████| 500/500 [00:00<00:00, 27592.29it/s]\n"
     ]
    },
    {
     "name": "stdout",
     "output_type": "stream",
     "text": [
      "Running RAggregate with theta = 2.102477794673238 and reg = 0.1\n",
      "Length of the RPS is 49\n"
     ]
    },
    {
     "name": "stderr",
     "output_type": "stream",
     "text": [
      "100%|█████████████████████████████████████████| 20/20 [00:00<00:00, 4814.40it/s]\n",
      "100%|███████████████████████████████████████| 100/100 [00:00<00:00, 3614.16it/s]\n",
      "100%|███████████████████████████████████████| 500/500 [00:00<00:00, 5537.59it/s]\n"
     ]
    },
    {
     "name": "stdout",
     "output_type": "stream",
     "text": [
      "Running RAggregate with theta = 2.2776842775626744 and reg = 0.1\n",
      "Length of the RPS is 144\n"
     ]
    },
    {
     "name": "stderr",
     "output_type": "stream",
     "text": [
      "100%|█████████████████████████████████████████| 20/20 [00:00<00:00, 2020.18it/s]\n",
      "100%|███████████████████████████████████████| 100/100 [00:00<00:00, 1836.69it/s]\n",
      "100%|███████████████████████████████████████| 500/500 [00:00<00:00, 1078.10it/s]\n"
     ]
    },
    {
     "name": "stdout",
     "output_type": "stream",
     "text": [
      "Running RAggregate with theta = 2.6280972433415473 and reg = 0.1\n",
      "Length of the RPS is 774\n"
     ]
    },
    {
     "name": "stderr",
     "output_type": "stream",
     "text": [
      "100%|██████████████████████████████████████████| 20/20 [00:00<00:00, 356.22it/s]\n",
      "100%|████████████████████████████████████████| 100/100 [00:00<00:00, 344.28it/s]\n",
      "100%|████████████████████████████████████████| 500/500 [00:01<00:00, 302.67it/s]\n"
     ]
    },
    {
     "name": "stdout",
     "output_type": "stream",
     "text": [
      "\n",
      "\n",
      "Running Iteration 65\n",
      "Running RAggregate with theta = 1.97267885053938 and reg = 0.1\n",
      "Length of the RPS is 9\n"
     ]
    },
    {
     "name": "stderr",
     "output_type": "stream",
     "text": [
      "100%|████████████████████████████████████████| 20/20 [00:00<00:00, 23147.37it/s]\n",
      "100%|██████████████████████████████████████| 100/100 [00:00<00:00, 26840.11it/s]\n",
      "100%|██████████████████████████████████████| 500/500 [00:00<00:00, 28798.33it/s]\n"
     ]
    },
    {
     "name": "stdout",
     "output_type": "stream",
     "text": [
      "Running RAggregate with theta = 2.152013291497505 and reg = 0.1\n",
      "Length of the RPS is 48\n"
     ]
    },
    {
     "name": "stderr",
     "output_type": "stream",
     "text": [
      "100%|█████████████████████████████████████████| 20/20 [00:00<00:00, 5543.26it/s]\n",
      "100%|███████████████████████████████████████| 100/100 [00:00<00:00, 4888.75it/s]\n",
      "100%|███████████████████████████████████████| 500/500 [00:00<00:00, 5707.03it/s]\n"
     ]
    },
    {
     "name": "stdout",
     "output_type": "stream",
     "text": [
      "Running RAggregate with theta = 2.331347732455631 and reg = 0.1\n",
      "Length of the RPS is 127\n"
     ]
    },
    {
     "name": "stderr",
     "output_type": "stream",
     "text": [
      "100%|█████████████████████████████████████████| 20/20 [00:00<00:00, 2105.89it/s]\n",
      "100%|███████████████████████████████████████| 100/100 [00:00<00:00, 1508.23it/s]\n",
      "100%|███████████████████████████████████████| 500/500 [00:00<00:00, 1916.80it/s]\n"
     ]
    },
    {
     "name": "stdout",
     "output_type": "stream",
     "text": [
      "Running RAggregate with theta = 2.6900166143718813 and reg = 0.1\n",
      "Length of the RPS is 823\n"
     ]
    },
    {
     "name": "stderr",
     "output_type": "stream",
     "text": [
      "100%|██████████████████████████████████████████| 20/20 [00:00<00:00, 346.12it/s]\n",
      "100%|████████████████████████████████████████| 100/100 [00:00<00:00, 319.36it/s]\n",
      "100%|████████████████████████████████████████| 500/500 [00:01<00:00, 317.21it/s]\n"
     ]
    },
    {
     "name": "stdout",
     "output_type": "stream",
     "text": [
      "\n",
      "\n",
      "Running Iteration 66\n",
      "Running RAggregate with theta = 1.946867442136538 and reg = 0.1\n",
      "Length of the RPS is 9\n"
     ]
    },
    {
     "name": "stderr",
     "output_type": "stream",
     "text": [
      "100%|████████████████████████████████████████| 20/20 [00:00<00:00, 24378.40it/s]\n",
      "100%|██████████████████████████████████████| 100/100 [00:00<00:00, 23088.76it/s]\n",
      "100%|██████████████████████████████████████| 500/500 [00:00<00:00, 26274.17it/s]\n"
     ]
    },
    {
     "name": "stdout",
     "output_type": "stream",
     "text": [
      "Running RAggregate with theta = 2.1238553914216776 and reg = 0.1\n",
      "Length of the RPS is 40\n"
     ]
    },
    {
     "name": "stderr",
     "output_type": "stream",
     "text": [
      "100%|█████████████████████████████████████████| 20/20 [00:00<00:00, 6983.52it/s]\n",
      "100%|███████████████████████████████████████| 100/100 [00:00<00:00, 7014.00it/s]\n",
      "100%|███████████████████████████████████████| 500/500 [00:00<00:00, 6889.91it/s]\n"
     ]
    },
    {
     "name": "stdout",
     "output_type": "stream",
     "text": [
      "Running RAggregate with theta = 2.3008433407068174 and reg = 0.1\n",
      "Length of the RPS is 103\n"
     ]
    },
    {
     "name": "stderr",
     "output_type": "stream",
     "text": [
      "100%|█████████████████████████████████████████| 20/20 [00:00<00:00, 2658.91it/s]\n",
      "100%|███████████████████████████████████████| 100/100 [00:00<00:00, 2742.15it/s]\n",
      "100%|███████████████████████████████████████| 500/500 [00:00<00:00, 2495.71it/s]\n"
     ]
    },
    {
     "name": "stdout",
     "output_type": "stream",
     "text": [
      "Running RAggregate with theta = 2.6548192392770966 and reg = 0.1\n",
      "Length of the RPS is 754\n"
     ]
    },
    {
     "name": "stderr",
     "output_type": "stream",
     "text": [
      "100%|██████████████████████████████████████████| 20/20 [00:00<00:00, 334.48it/s]\n",
      "100%|████████████████████████████████████████| 100/100 [00:00<00:00, 381.72it/s]\n",
      "100%|████████████████████████████████████████| 500/500 [00:01<00:00, 304.86it/s]\n"
     ]
    },
    {
     "name": "stdout",
     "output_type": "stream",
     "text": [
      "\n",
      "\n",
      "Running Iteration 67\n",
      "Running RAggregate with theta = 1.9850294987426806 and reg = 0.1\n",
      "Length of the RPS is 9\n"
     ]
    },
    {
     "name": "stderr",
     "output_type": "stream",
     "text": [
      "100%|████████████████████████████████████████| 20/20 [00:00<00:00, 23783.98it/s]\n",
      "100%|██████████████████████████████████████| 100/100 [00:00<00:00, 25387.71it/s]\n",
      "100%|██████████████████████████████████████| 500/500 [00:00<00:00, 28757.26it/s]\n"
     ]
    },
    {
     "name": "stdout",
     "output_type": "stream",
     "text": [
      "Running RAggregate with theta = 2.165486725901106 and reg = 0.1\n",
      "Length of the RPS is 48\n"
     ]
    },
    {
     "name": "stderr",
     "output_type": "stream",
     "text": [
      "100%|█████████████████████████████████████████| 20/20 [00:00<00:00, 5943.47it/s]\n",
      "100%|███████████████████████████████████████| 100/100 [00:00<00:00, 5985.54it/s]\n",
      "100%|███████████████████████████████████████| 500/500 [00:00<00:00, 5398.69it/s]\n"
     ]
    },
    {
     "name": "stdout",
     "output_type": "stream",
     "text": [
      "Running RAggregate with theta = 2.3459439530595314 and reg = 0.1\n",
      "Length of the RPS is 145\n"
     ]
    },
    {
     "name": "stderr",
     "output_type": "stream",
     "text": [
      "100%|█████████████████████████████████████████| 20/20 [00:00<00:00, 1745.55it/s]\n",
      "100%|███████████████████████████████████████| 100/100 [00:00<00:00, 2024.78it/s]\n",
      "100%|███████████████████████████████████████| 500/500 [00:00<00:00, 1768.72it/s]\n"
     ]
    },
    {
     "name": "stdout",
     "output_type": "stream",
     "text": [
      "Running RAggregate with theta = 2.7068584073763824 and reg = 0.1\n",
      "Length of the RPS is 904\n"
     ]
    },
    {
     "name": "stderr",
     "output_type": "stream",
     "text": [
      "100%|██████████████████████████████████████████| 20/20 [00:00<00:00, 292.53it/s]\n",
      "100%|████████████████████████████████████████| 100/100 [00:00<00:00, 275.94it/s]\n",
      "100%|████████████████████████████████████████| 500/500 [00:01<00:00, 253.50it/s]\n"
     ]
    },
    {
     "name": "stdout",
     "output_type": "stream",
     "text": [
      "\n",
      "\n",
      "Running Iteration 68\n",
      "Running RAggregate with theta = 1.9528190811640225 and reg = 0.1\n",
      "Length of the RPS is 0\n"
     ]
    },
    {
     "name": "stderr",
     "output_type": "stream",
     "text": [
      "100%|███████████████████████████████████████| 20/20 [00:00<00:00, 315361.20it/s]\n",
      "100%|████████████████████████████████████| 100/100 [00:00<00:00, 1278751.22it/s]\n",
      "100%|████████████████████████████████████| 500/500 [00:00<00:00, 2464338.43it/s]\n"
     ]
    },
    {
     "name": "stdout",
     "output_type": "stream",
     "text": [
      "Running RAggregate with theta = 2.13034808854257 and reg = 0.1\n",
      "Length of the RPS is 40\n"
     ]
    },
    {
     "name": "stderr",
     "output_type": "stream",
     "text": [
      "100%|█████████████████████████████████████████| 20/20 [00:00<00:00, 7099.96it/s]\n",
      "100%|███████████████████████████████████████| 100/100 [00:00<00:00, 5943.21it/s]\n",
      "100%|███████████████████████████████████████| 500/500 [00:00<00:00, 6972.54it/s]\n"
     ]
    },
    {
     "name": "stdout",
     "output_type": "stream",
     "text": [
      "Running RAggregate with theta = 2.3078770959211172 and reg = 0.1\n",
      "Length of the RPS is 93\n"
     ]
    },
    {
     "name": "stderr",
     "output_type": "stream",
     "text": [
      "100%|█████████████████████████████████████████| 20/20 [00:00<00:00, 3376.65it/s]\n",
      "100%|███████████████████████████████████████| 100/100 [00:00<00:00, 3364.30it/s]\n",
      "100%|███████████████████████████████████████| 500/500 [00:00<00:00, 2982.60it/s]\n"
     ]
    },
    {
     "name": "stdout",
     "output_type": "stream",
     "text": [
      "Running RAggregate with theta = 2.6629351106782124 and reg = 0.1\n",
      "Length of the RPS is 644\n"
     ]
    },
    {
     "name": "stderr",
     "output_type": "stream",
     "text": [
      "100%|██████████████████████████████████████████| 20/20 [00:00<00:00, 329.39it/s]\n",
      "100%|████████████████████████████████████████| 100/100 [00:00<00:00, 391.25it/s]\n",
      "100%|████████████████████████████████████████| 500/500 [00:01<00:00, 395.62it/s]\n"
     ]
    },
    {
     "name": "stdout",
     "output_type": "stream",
     "text": [
      "\n",
      "\n",
      "Running Iteration 69\n",
      "Running RAggregate with theta = 1.9502872311182242 and reg = 0.1\n",
      "Length of the RPS is 9\n"
     ]
    },
    {
     "name": "stderr",
     "output_type": "stream",
     "text": [
      "100%|████████████████████████████████████████| 20/20 [00:00<00:00, 24392.58it/s]\n",
      "100%|██████████████████████████████████████| 100/100 [00:00<00:00, 15550.01it/s]\n",
      "100%|██████████████████████████████████████| 500/500 [00:00<00:00, 29246.53it/s]\n"
     ]
    },
    {
     "name": "stdout",
     "output_type": "stream",
     "text": [
      "Running RAggregate with theta = 2.1275860703107896 and reg = 0.1\n",
      "Length of the RPS is 40\n"
     ]
    },
    {
     "name": "stderr",
     "output_type": "stream",
     "text": [
      "100%|█████████████████████████████████████████| 20/20 [00:00<00:00, 5652.70it/s]\n",
      "100%|███████████████████████████████████████| 100/100 [00:00<00:00, 7055.06it/s]\n",
      "100%|███████████████████████████████████████| 500/500 [00:00<00:00, 7084.76it/s]\n"
     ]
    },
    {
     "name": "stdout",
     "output_type": "stream",
     "text": [
      "Running RAggregate with theta = 2.3048849095033557 and reg = 0.1\n",
      "Length of the RPS is 105\n"
     ]
    },
    {
     "name": "stderr",
     "output_type": "stream",
     "text": [
      "100%|█████████████████████████████████████████| 20/20 [00:00<00:00, 2869.37it/s]\n",
      "100%|███████████████████████████████████████| 100/100 [00:00<00:00, 2294.78it/s]\n",
      "100%|███████████████████████████████████████| 500/500 [00:00<00:00, 2731.43it/s]\n"
     ]
    },
    {
     "name": "stdout",
     "output_type": "stream",
     "text": [
      "Running RAggregate with theta = 2.6594825878884873 and reg = 0.1\n",
      "Length of the RPS is 713\n"
     ]
    },
    {
     "name": "stderr",
     "output_type": "stream",
     "text": [
      "100%|██████████████████████████████████████████| 20/20 [00:00<00:00, 370.87it/s]\n",
      "100%|████████████████████████████████████████| 100/100 [00:00<00:00, 383.39it/s]\n",
      "100%|████████████████████████████████████████| 500/500 [00:01<00:00, 347.80it/s]\n"
     ]
    },
    {
     "name": "stdout",
     "output_type": "stream",
     "text": [
      "\n",
      "\n",
      "Running Iteration 70\n",
      "Running RAggregate with theta = 1.9700154727603316 and reg = 0.1\n",
      "Length of the RPS is 9\n"
     ]
    },
    {
     "name": "stderr",
     "output_type": "stream",
     "text": [
      "100%|████████████████████████████████████████| 20/20 [00:00<00:00, 25093.05it/s]\n",
      "100%|██████████████████████████████████████| 100/100 [00:00<00:00, 28716.31it/s]\n",
      "100%|██████████████████████████████████████| 500/500 [00:00<00:00, 27026.90it/s]\n"
     ]
    },
    {
     "name": "stdout",
     "output_type": "stream",
     "text": [
      "Running RAggregate with theta = 2.149107788465816 and reg = 0.1\n",
      "Length of the RPS is 48\n"
     ]
    },
    {
     "name": "stderr",
     "output_type": "stream",
     "text": [
      "100%|█████████████████████████████████████████| 20/20 [00:00<00:00, 5160.31it/s]\n",
      "100%|███████████████████████████████████████| 100/100 [00:00<00:00, 6239.85it/s]\n",
      "100%|███████████████████████████████████████| 500/500 [00:00<00:00, 5529.62it/s]\n"
     ]
    },
    {
     "name": "stdout",
     "output_type": "stream",
     "text": [
      "Running RAggregate with theta = 2.3282001041713007 and reg = 0.1\n",
      "Length of the RPS is 127\n"
     ]
    },
    {
     "name": "stderr",
     "output_type": "stream",
     "text": [
      "100%|█████████████████████████████████████████| 20/20 [00:00<00:00, 2331.79it/s]\n",
      "100%|███████████████████████████████████████| 100/100 [00:00<00:00, 2380.40it/s]\n",
      "100%|███████████████████████████████████████| 500/500 [00:00<00:00, 2261.68it/s]\n"
     ]
    },
    {
     "name": "stdout",
     "output_type": "stream",
     "text": [
      "Running RAggregate with theta = 2.68638473558227 and reg = 0.1\n",
      "Length of the RPS is 739\n"
     ]
    },
    {
     "name": "stderr",
     "output_type": "stream",
     "text": [
      "100%|██████████████████████████████████████████| 20/20 [00:00<00:00, 318.83it/s]\n",
      "100%|████████████████████████████████████████| 100/100 [00:00<00:00, 335.14it/s]\n",
      "100%|████████████████████████████████████████| 500/500 [00:01<00:00, 349.73it/s]\n"
     ]
    },
    {
     "name": "stdout",
     "output_type": "stream",
     "text": [
      "\n",
      "\n",
      "Running Iteration 71\n",
      "Running RAggregate with theta = 1.882299393487685 and reg = 0.1\n",
      "Length of the RPS is 9\n"
     ]
    },
    {
     "name": "stderr",
     "output_type": "stream",
     "text": [
      "100%|████████████████████████████████████████| 20/20 [00:00<00:00, 21029.35it/s]\n",
      "100%|██████████████████████████████████████| 100/100 [00:00<00:00, 24206.75it/s]\n",
      "100%|██████████████████████████████████████| 500/500 [00:00<00:00, 27041.88it/s]\n"
     ]
    },
    {
     "name": "stdout",
     "output_type": "stream",
     "text": [
      "Running RAggregate with theta = 2.0534175201683835 and reg = 0.1\n",
      "Length of the RPS is 40\n"
     ]
    },
    {
     "name": "stderr",
     "output_type": "stream",
     "text": [
      "100%|█████████████████████████████████████████| 20/20 [00:00<00:00, 5342.04it/s]\n",
      "100%|███████████████████████████████████████| 100/100 [00:00<00:00, 7643.52it/s]\n",
      "100%|███████████████████████████████████████| 500/500 [00:00<00:00, 7334.26it/s]\n"
     ]
    },
    {
     "name": "stdout",
     "output_type": "stream",
     "text": [
      "Running RAggregate with theta = 2.2245356468490822 and reg = 0.1\n",
      "Length of the RPS is 102\n"
     ]
    },
    {
     "name": "stderr",
     "output_type": "stream",
     "text": [
      "100%|█████████████████████████████████████████| 20/20 [00:00<00:00, 2462.10it/s]\n",
      "100%|███████████████████████████████████████| 100/100 [00:00<00:00, 2657.60it/s]\n",
      "100%|███████████████████████████████████████| 500/500 [00:00<00:00, 2662.85it/s]\n"
     ]
    },
    {
     "name": "stdout",
     "output_type": "stream",
     "text": [
      "Running RAggregate with theta = 2.5667719002104796 and reg = 0.1\n",
      "Length of the RPS is 628\n"
     ]
    },
    {
     "name": "stderr",
     "output_type": "stream",
     "text": [
      "100%|██████████████████████████████████████████| 20/20 [00:00<00:00, 424.79it/s]\n",
      "100%|████████████████████████████████████████| 100/100 [00:00<00:00, 354.14it/s]\n",
      "100%|████████████████████████████████████████| 500/500 [00:01<00:00, 335.24it/s]\n"
     ]
    },
    {
     "name": "stdout",
     "output_type": "stream",
     "text": [
      "\n",
      "\n",
      "Running Iteration 72\n",
      "Running RAggregate with theta = 2.019319607911452 and reg = 0.1\n",
      "Length of the RPS is 9\n"
     ]
    },
    {
     "name": "stderr",
     "output_type": "stream",
     "text": [
      "100%|████████████████████████████████████████| 20/20 [00:00<00:00, 19604.13it/s]\n",
      "100%|██████████████████████████████████████| 100/100 [00:00<00:00, 26135.99it/s]\n",
      "100%|██████████████████████████████████████| 500/500 [00:00<00:00, 28344.87it/s]\n"
     ]
    },
    {
     "name": "stdout",
     "output_type": "stream",
     "text": [
      "Running RAggregate with theta = 2.2028941177215837 and reg = 0.1\n",
      "Length of the RPS is 48\n"
     ]
    },
    {
     "name": "stderr",
     "output_type": "stream",
     "text": [
      "100%|█████████████████████████████████████████| 20/20 [00:00<00:00, 5859.60it/s]\n",
      "100%|███████████████████████████████████████| 100/100 [00:00<00:00, 5549.71it/s]\n",
      "100%|███████████████████████████████████████| 500/500 [00:00<00:00, 5003.91it/s]\n"
     ]
    },
    {
     "name": "stdout",
     "output_type": "stream",
     "text": [
      "Running RAggregate with theta = 2.386468627531716 and reg = 0.1\n",
      "Length of the RPS is 102\n"
     ]
    },
    {
     "name": "stderr",
     "output_type": "stream",
     "text": [
      "100%|█████████████████████████████████████████| 20/20 [00:00<00:00, 2011.85it/s]\n",
      "100%|███████████████████████████████████████| 100/100 [00:00<00:00, 2922.37it/s]\n",
      "100%|███████████████████████████████████████| 500/500 [00:00<00:00, 2032.02it/s]\n"
     ]
    },
    {
     "name": "stdout",
     "output_type": "stream",
     "text": [
      "Running RAggregate with theta = 2.7536176471519798 and reg = 0.1\n",
      "Length of the RPS is 772\n"
     ]
    },
    {
     "name": "stderr",
     "output_type": "stream",
     "text": [
      "100%|██████████████████████████████████████████| 20/20 [00:00<00:00, 334.78it/s]\n",
      "100%|████████████████████████████████████████| 100/100 [00:00<00:00, 364.92it/s]\n",
      "100%|████████████████████████████████████████| 500/500 [00:01<00:00, 368.44it/s]\n"
     ]
    },
    {
     "name": "stdout",
     "output_type": "stream",
     "text": [
      "\n",
      "\n",
      "Running Iteration 73\n",
      "Running RAggregate with theta = 1.9207659701533195 and reg = 0.1\n",
      "Length of the RPS is 9\n"
     ]
    },
    {
     "name": "stderr",
     "output_type": "stream",
     "text": [
      "100%|████████████████████████████████████████| 20/20 [00:00<00:00, 17328.25it/s]\n",
      "100%|██████████████████████████████████████| 100/100 [00:00<00:00, 28686.85it/s]\n",
      "100%|██████████████████████████████████████| 500/500 [00:00<00:00, 27128.28it/s]\n"
     ]
    },
    {
     "name": "stdout",
     "output_type": "stream",
     "text": [
      "Running RAggregate with theta = 2.0953810583490755 and reg = 0.1\n",
      "Length of the RPS is 49\n"
     ]
    },
    {
     "name": "stderr",
     "output_type": "stream",
     "text": [
      "100%|█████████████████████████████████████████| 20/20 [00:00<00:00, 5470.24it/s]\n",
      "100%|███████████████████████████████████████| 100/100 [00:00<00:00, 5922.15it/s]\n",
      "100%|███████████████████████████████████████| 500/500 [00:00<00:00, 5346.05it/s]\n"
     ]
    },
    {
     "name": "stdout",
     "output_type": "stream",
     "text": [
      "Running RAggregate with theta = 2.269996146544832 and reg = 0.1\n",
      "Length of the RPS is 122\n"
     ]
    },
    {
     "name": "stderr",
     "output_type": "stream",
     "text": [
      "100%|█████████████████████████████████████████| 20/20 [00:00<00:00, 2197.81it/s]\n",
      "100%|███████████████████████████████████████| 100/100 [00:00<00:00, 2280.41it/s]\n",
      "100%|███████████████████████████████████████| 500/500 [00:00<00:00, 2216.30it/s]\n"
     ]
    },
    {
     "name": "stdout",
     "output_type": "stream",
     "text": [
      "Running RAggregate with theta = 2.6192263229363446 and reg = 0.1\n",
      "Length of the RPS is 724\n"
     ]
    },
    {
     "name": "stderr",
     "output_type": "stream",
     "text": [
      "100%|██████████████████████████████████████████| 20/20 [00:00<00:00, 413.41it/s]\n",
      "100%|████████████████████████████████████████| 100/100 [00:00<00:00, 334.35it/s]\n",
      "100%|████████████████████████████████████████| 500/500 [00:01<00:00, 365.97it/s]\n"
     ]
    },
    {
     "name": "stdout",
     "output_type": "stream",
     "text": [
      "\n",
      "\n",
      "Running Iteration 74\n",
      "Running RAggregate with theta = 1.961196162713061 and reg = 0.1\n",
      "Length of the RPS is 0\n"
     ]
    },
    {
     "name": "stderr",
     "output_type": "stream",
     "text": [
      "100%|███████████████████████████████████████| 20/20 [00:00<00:00, 148998.37it/s]\n",
      "100%|████████████████████████████████████| 100/100 [00:00<00:00, 1053845.23it/s]\n",
      "100%|████████████████████████████████████| 500/500 [00:00<00:00, 2394009.13it/s]\n"
     ]
    },
    {
     "name": "stdout",
     "output_type": "stream",
     "text": [
      "Running RAggregate with theta = 2.1394867229597025 and reg = 0.1\n",
      "Length of the RPS is 40\n"
     ]
    },
    {
     "name": "stderr",
     "output_type": "stream",
     "text": [
      "100%|█████████████████████████████████████████| 20/20 [00:00<00:00, 4926.36it/s]\n",
      "100%|███████████████████████████████████████| 100/100 [00:00<00:00, 7335.14it/s]\n",
      "100%|███████████████████████████████████████| 500/500 [00:00<00:00, 6546.30it/s]\n"
     ]
    },
    {
     "name": "stdout",
     "output_type": "stream",
     "text": [
      "Running RAggregate with theta = 2.3177772832063446 and reg = 0.1\n",
      "Length of the RPS is 93\n"
     ]
    },
    {
     "name": "stderr",
     "output_type": "stream",
     "text": [
      "100%|█████████████████████████████████████████| 20/20 [00:00<00:00, 2863.30it/s]\n",
      "100%|███████████████████████████████████████| 100/100 [00:00<00:00, 2344.84it/s]\n",
      "100%|███████████████████████████████████████| 500/500 [00:00<00:00, 3155.15it/s]\n"
     ]
    },
    {
     "name": "stdout",
     "output_type": "stream",
     "text": [
      "Running RAggregate with theta = 2.674358403699628 and reg = 0.1\n",
      "Length of the RPS is 634\n"
     ]
    },
    {
     "name": "stderr",
     "output_type": "stream",
     "text": [
      "100%|██████████████████████████████████████████| 20/20 [00:00<00:00, 463.67it/s]\n",
      "100%|████████████████████████████████████████| 100/100 [00:00<00:00, 435.40it/s]\n",
      "100%|████████████████████████████████████████| 500/500 [00:01<00:00, 409.96it/s]\n"
     ]
    },
    {
     "name": "stdout",
     "output_type": "stream",
     "text": [
      "\n",
      "\n",
      "Running Iteration 75\n",
      "Running RAggregate with theta = 1.9634330715606816 and reg = 0.1\n",
      "Length of the RPS is 0\n"
     ]
    },
    {
     "name": "stderr",
     "output_type": "stream",
     "text": [
      "100%|███████████████████████████████████████| 20/20 [00:00<00:00, 137068.76it/s]\n",
      "100%|████████████████████████████████████| 100/100 [00:00<00:00, 1165084.44it/s]\n",
      "100%|████████████████████████████████████| 500/500 [00:00<00:00, 2380422.25it/s]\n"
     ]
    },
    {
     "name": "stdout",
     "output_type": "stream",
     "text": [
      "Running RAggregate with theta = 2.141926987157107 and reg = 0.1\n",
      "Length of the RPS is 40\n"
     ]
    },
    {
     "name": "stderr",
     "output_type": "stream",
     "text": [
      "100%|█████████████████████████████████████████| 20/20 [00:00<00:00, 4198.29it/s]\n",
      "100%|███████████████████████████████████████| 100/100 [00:00<00:00, 7522.20it/s]\n",
      "100%|███████████████████████████████████████| 500/500 [00:00<00:00, 4266.79it/s]\n"
     ]
    },
    {
     "name": "stdout",
     "output_type": "stream",
     "text": [
      "Running RAggregate with theta = 2.3204209027535327 and reg = 0.1\n",
      "Length of the RPS is 85\n"
     ]
    },
    {
     "name": "stderr",
     "output_type": "stream",
     "text": [
      "100%|█████████████████████████████████████████| 20/20 [00:00<00:00, 3336.09it/s]\n",
      "100%|███████████████████████████████████████| 100/100 [00:00<00:00, 3669.43it/s]\n",
      "100%|███████████████████████████████████████| 500/500 [00:00<00:00, 3225.04it/s]\n"
     ]
    },
    {
     "name": "stdout",
     "output_type": "stream",
     "text": [
      "Running RAggregate with theta = 2.6774087339463835 and reg = 0.1\n",
      "Length of the RPS is 579\n"
     ]
    },
    {
     "name": "stderr",
     "output_type": "stream",
     "text": [
      "100%|██████████████████████████████████████████| 20/20 [00:00<00:00, 473.72it/s]\n",
      "100%|████████████████████████████████████████| 100/100 [00:00<00:00, 477.98it/s]\n",
      "100%|████████████████████████████████████████| 500/500 [00:01<00:00, 465.99it/s]\n"
     ]
    },
    {
     "name": "stdout",
     "output_type": "stream",
     "text": [
      "\n",
      "\n",
      "Running Iteration 76\n",
      "Running RAggregate with theta = 1.9939693078877259 and reg = 0.1\n",
      "Length of the RPS is 9\n"
     ]
    },
    {
     "name": "stderr",
     "output_type": "stream",
     "text": [
      "100%|████████████████████████████████████████| 20/20 [00:00<00:00, 11608.92it/s]\n",
      "100%|██████████████████████████████████████| 100/100 [00:00<00:00, 26952.22it/s]\n",
      "100%|██████████████████████████████████████| 500/500 [00:00<00:00, 24259.96it/s]\n"
     ]
    },
    {
     "name": "stdout",
     "output_type": "stream",
     "text": [
      "Running RAggregate with theta = 2.175239244968428 and reg = 0.1\n",
      "Length of the RPS is 48\n"
     ]
    },
    {
     "name": "stderr",
     "output_type": "stream",
     "text": [
      "100%|█████████████████████████████████████████| 20/20 [00:00<00:00, 5179.75it/s]\n",
      "100%|███████████████████████████████████████| 100/100 [00:00<00:00, 5687.35it/s]\n",
      "100%|███████████████████████████████████████| 500/500 [00:00<00:00, 3924.09it/s]\n"
     ]
    },
    {
     "name": "stdout",
     "output_type": "stream",
     "text": [
      "Running RAggregate with theta = 2.3565091820491304 and reg = 0.1\n",
      "Length of the RPS is 103\n"
     ]
    },
    {
     "name": "stderr",
     "output_type": "stream",
     "text": [
      "100%|█████████████████████████████████████████| 20/20 [00:00<00:00, 2792.85it/s]\n",
      "100%|███████████████████████████████████████| 100/100 [00:00<00:00, 2527.37it/s]\n",
      "100%|███████████████████████████████████████| 500/500 [00:00<00:00, 2691.82it/s]\n"
     ]
    },
    {
     "name": "stdout",
     "output_type": "stream",
     "text": [
      "Running RAggregate with theta = 2.719049056210535 and reg = 0.1\n",
      "Length of the RPS is 822\n"
     ]
    },
    {
     "name": "stderr",
     "output_type": "stream",
     "text": [
      "100%|██████████████████████████████████████████| 20/20 [00:00<00:00, 354.77it/s]\n",
      "100%|████████████████████████████████████████| 100/100 [00:00<00:00, 349.39it/s]\n",
      "100%|████████████████████████████████████████| 500/500 [00:01<00:00, 346.45it/s]\n"
     ]
    },
    {
     "name": "stdout",
     "output_type": "stream",
     "text": [
      "\n",
      "\n",
      "Running Iteration 77\n",
      "Running RAggregate with theta = 1.9584234219201633 and reg = 0.1\n",
      "Length of the RPS is 0\n"
     ]
    },
    {
     "name": "stderr",
     "output_type": "stream",
     "text": [
      "100%|████████████████████████████████████████| 20/20 [00:00<00:00, 49902.49it/s]\n",
      "100%|█████████████████████████████████████| 100/100 [00:00<00:00, 541200.52it/s]\n",
      "100%|████████████████████████████████████| 500/500 [00:00<00:00, 1993490.49it/s]\n"
     ]
    },
    {
     "name": "stdout",
     "output_type": "stream",
     "text": [
      "Running RAggregate with theta = 2.136461914821996 and reg = 0.1\n",
      "Length of the RPS is 40\n"
     ]
    },
    {
     "name": "stderr",
     "output_type": "stream",
     "text": [
      "100%|█████████████████████████████████████████| 20/20 [00:00<00:00, 7377.19it/s]\n",
      "100%|███████████████████████████████████████| 100/100 [00:00<00:00, 7552.95it/s]\n",
      "100%|███████████████████████████████████████| 500/500 [00:00<00:00, 6837.15it/s]\n"
     ]
    },
    {
     "name": "stdout",
     "output_type": "stream",
     "text": [
      "Running RAggregate with theta = 2.314500407723829 and reg = 0.1\n",
      "Length of the RPS is 103\n"
     ]
    },
    {
     "name": "stderr",
     "output_type": "stream",
     "text": [
      "100%|█████████████████████████████████████████| 20/20 [00:00<00:00, 2692.97it/s]\n",
      "100%|███████████████████████████████████████| 100/100 [00:00<00:00, 2839.63it/s]\n",
      "100%|███████████████████████████████████████| 500/500 [00:00<00:00, 2104.87it/s]\n"
     ]
    },
    {
     "name": "stdout",
     "output_type": "stream",
     "text": [
      "Running RAggregate with theta = 2.670577393527495 and reg = 0.1\n",
      "Length of the RPS is 650\n"
     ]
    },
    {
     "name": "stderr",
     "output_type": "stream",
     "text": [
      "100%|██████████████████████████████████████████| 20/20 [00:00<00:00, 386.96it/s]\n",
      "100%|████████████████████████████████████████| 100/100 [00:00<00:00, 419.79it/s]\n",
      "100%|████████████████████████████████████████| 500/500 [00:01<00:00, 340.76it/s]\n"
     ]
    },
    {
     "name": "stdout",
     "output_type": "stream",
     "text": [
      "\n",
      "\n",
      "Running Iteration 78\n",
      "Running RAggregate with theta = 1.9604087757835784 and reg = 0.1\n",
      "Length of the RPS is 0\n"
     ]
    },
    {
     "name": "stderr",
     "output_type": "stream",
     "text": [
      "100%|███████████████████████████████████████| 20/20 [00:00<00:00, 219597.07it/s]\n",
      "100%|████████████████████████████████████| 100/100 [00:00<00:00, 1263344.58it/s]\n",
      "100%|████████████████████████████████████| 500/500 [00:00<00:00, 2291969.40it/s]\n"
     ]
    },
    {
     "name": "stdout",
     "output_type": "stream",
     "text": [
      "Running RAggregate with theta = 2.1386277554002673 and reg = 0.1\n",
      "Length of the RPS is 41\n"
     ]
    },
    {
     "name": "stderr",
     "output_type": "stream",
     "text": [
      "100%|█████████████████████████████████████████| 20/20 [00:00<00:00, 7288.10it/s]\n",
      "100%|███████████████████████████████████████| 100/100 [00:00<00:00, 6126.74it/s]\n",
      "100%|███████████████████████████████████████| 500/500 [00:00<00:00, 6945.32it/s]\n"
     ]
    },
    {
     "name": "stdout",
     "output_type": "stream",
     "text": [
      "Running RAggregate with theta = 2.316846735016956 and reg = 0.1\n",
      "Length of the RPS is 103\n"
     ]
    },
    {
     "name": "stderr",
     "output_type": "stream",
     "text": [
      "100%|█████████████████████████████████████████| 20/20 [00:00<00:00, 2831.69it/s]\n",
      "100%|███████████████████████████████████████| 100/100 [00:00<00:00, 2906.45it/s]\n",
      "100%|███████████████████████████████████████| 500/500 [00:00<00:00, 2749.69it/s]\n"
     ]
    },
    {
     "name": "stdout",
     "output_type": "stream",
     "text": [
      "Running RAggregate with theta = 2.673284694250334 and reg = 0.1\n",
      "Length of the RPS is 753\n"
     ]
    },
    {
     "name": "stderr",
     "output_type": "stream",
     "text": [
      "100%|██████████████████████████████████████████| 20/20 [00:00<00:00, 374.11it/s]\n",
      "100%|████████████████████████████████████████| 100/100 [00:00<00:00, 355.31it/s]\n",
      "100%|████████████████████████████████████████| 500/500 [00:01<00:00, 340.59it/s]\n"
     ]
    },
    {
     "name": "stdout",
     "output_type": "stream",
     "text": [
      "\n",
      "\n",
      "Running Iteration 79\n",
      "Running RAggregate with theta = 1.9325915247692869 and reg = 0.1\n",
      "Length of the RPS is 9\n"
     ]
    },
    {
     "name": "stderr",
     "output_type": "stream",
     "text": [
      "100%|████████████████████████████████████████| 20/20 [00:00<00:00, 24300.72it/s]\n",
      "100%|██████████████████████████████████████| 100/100 [00:00<00:00, 27909.93it/s]\n",
      "100%|██████████████████████████████████████| 500/500 [00:00<00:00, 25848.96it/s]\n"
     ]
    },
    {
     "name": "stdout",
     "output_type": "stream",
     "text": [
      "Running RAggregate with theta = 2.1082816633846764 and reg = 0.1\n",
      "Length of the RPS is 48\n"
     ]
    },
    {
     "name": "stderr",
     "output_type": "stream",
     "text": [
      "100%|█████████████████████████████████████████| 20/20 [00:00<00:00, 5589.42it/s]\n",
      "100%|███████████████████████████████████████| 100/100 [00:00<00:00, 5896.26it/s]\n",
      "100%|███████████████████████████████████████| 500/500 [00:00<00:00, 5814.78it/s]\n"
     ]
    },
    {
     "name": "stdout",
     "output_type": "stream",
     "text": [
      "Running RAggregate with theta = 2.283971802000066 and reg = 0.1\n",
      "Length of the RPS is 104\n"
     ]
    },
    {
     "name": "stderr",
     "output_type": "stream",
     "text": [
      "100%|█████████████████████████████████████████| 20/20 [00:00<00:00, 2549.73it/s]\n",
      "100%|███████████████████████████████████████| 100/100 [00:00<00:00, 2510.79it/s]\n",
      "100%|███████████████████████████████████████| 500/500 [00:00<00:00, 2550.32it/s]\n"
     ]
    },
    {
     "name": "stdout",
     "output_type": "stream",
     "text": [
      "Running RAggregate with theta = 2.635352079230845 and reg = 0.1\n",
      "Length of the RPS is 759\n"
     ]
    },
    {
     "name": "stderr",
     "output_type": "stream",
     "text": [
      "100%|██████████████████████████████████████████| 20/20 [00:00<00:00, 358.51it/s]\n",
      "100%|████████████████████████████████████████| 100/100 [00:00<00:00, 304.72it/s]\n",
      "100%|████████████████████████████████████████| 500/500 [00:01<00:00, 327.53it/s]\n"
     ]
    },
    {
     "name": "stdout",
     "output_type": "stream",
     "text": [
      "\n",
      "\n",
      "Running Iteration 80\n",
      "Running RAggregate with theta = 1.9899518679237684 and reg = 0.1\n",
      "Length of the RPS is 10\n"
     ]
    },
    {
     "name": "stderr",
     "output_type": "stream",
     "text": [
      "100%|████████████████████████████████████████| 20/20 [00:00<00:00, 21715.27it/s]\n",
      "100%|██████████████████████████████████████| 100/100 [00:00<00:00, 21127.87it/s]\n",
      "100%|██████████████████████████████████████| 500/500 [00:00<00:00, 25057.68it/s]\n"
     ]
    },
    {
     "name": "stdout",
     "output_type": "stream",
     "text": [
      "Running RAggregate with theta = 2.170856583189565 and reg = 0.1\n",
      "Length of the RPS is 56\n"
     ]
    },
    {
     "name": "stderr",
     "output_type": "stream",
     "text": [
      "100%|█████████████████████████████████████████| 20/20 [00:00<00:00, 5121.56it/s]\n",
      "100%|███████████████████████████████████████| 100/100 [00:00<00:00, 4650.52it/s]\n",
      "100%|███████████████████████████████████████| 500/500 [00:00<00:00, 4065.26it/s]\n"
     ]
    },
    {
     "name": "stdout",
     "output_type": "stream",
     "text": [
      "Running RAggregate with theta = 2.351761298455363 and reg = 0.1\n",
      "Length of the RPS is 161\n"
     ]
    },
    {
     "name": "stderr",
     "output_type": "stream",
     "text": [
      "100%|█████████████████████████████████████████| 20/20 [00:00<00:00, 1588.81it/s]\n",
      "100%|███████████████████████████████████████| 100/100 [00:00<00:00, 1674.63it/s]\n",
      "100%|███████████████████████████████████████| 500/500 [00:00<00:00, 1792.44it/s]\n"
     ]
    },
    {
     "name": "stdout",
     "output_type": "stream",
     "text": [
      "Running RAggregate with theta = 2.713570728986957 and reg = 0.1\n",
      "Length of the RPS is 938\n"
     ]
    },
    {
     "name": "stderr",
     "output_type": "stream",
     "text": [
      "100%|██████████████████████████████████████████| 20/20 [00:00<00:00, 284.44it/s]\n",
      "100%|████████████████████████████████████████| 100/100 [00:00<00:00, 275.33it/s]\n",
      "100%|████████████████████████████████████████| 500/500 [00:01<00:00, 305.76it/s]\n"
     ]
    },
    {
     "name": "stdout",
     "output_type": "stream",
     "text": [
      "\n",
      "\n",
      "Running Iteration 81\n",
      "Running RAggregate with theta = 1.9732004287218512 and reg = 0.1\n",
      "Length of the RPS is 9\n"
     ]
    },
    {
     "name": "stderr",
     "output_type": "stream",
     "text": [
      "100%|████████████████████████████████████████| 20/20 [00:00<00:00, 23865.17it/s]\n",
      "100%|██████████████████████████████████████| 100/100 [00:00<00:00, 19077.16it/s]\n",
      "100%|██████████████████████████████████████| 500/500 [00:00<00:00, 21944.08it/s]\n"
     ]
    },
    {
     "name": "stdout",
     "output_type": "stream",
     "text": [
      "Running RAggregate with theta = 2.152582285878383 and reg = 0.1\n",
      "Length of the RPS is 49\n"
     ]
    },
    {
     "name": "stderr",
     "output_type": "stream",
     "text": [
      "100%|█████████████████████████████████████████| 20/20 [00:00<00:00, 4597.76it/s]\n",
      "100%|███████████████████████████████████████| 100/100 [00:00<00:00, 4363.98it/s]\n",
      "100%|███████████████████████████████████████| 500/500 [00:00<00:00, 5522.06it/s]\n"
     ]
    },
    {
     "name": "stdout",
     "output_type": "stream",
     "text": [
      "Running RAggregate with theta = 2.331964143034915 and reg = 0.1\n",
      "Length of the RPS is 153\n"
     ]
    },
    {
     "name": "stderr",
     "output_type": "stream",
     "text": [
      "100%|█████████████████████████████████████████| 20/20 [00:00<00:00, 1900.02it/s]\n",
      "100%|███████████████████████████████████████| 100/100 [00:00<00:00, 1693.45it/s]\n",
      "100%|███████████████████████████████████████| 500/500 [00:00<00:00, 1812.09it/s]\n"
     ]
    },
    {
     "name": "stdout",
     "output_type": "stream",
     "text": [
      "Running RAggregate with theta = 2.6907278573479787 and reg = 0.1\n",
      "Length of the RPS is 840\n"
     ]
    },
    {
     "name": "stderr",
     "output_type": "stream",
     "text": [
      "100%|██████████████████████████████████████████| 20/20 [00:00<00:00, 274.06it/s]\n",
      "100%|████████████████████████████████████████| 100/100 [00:00<00:00, 256.18it/s]\n",
      "100%|████████████████████████████████████████| 500/500 [00:01<00:00, 313.67it/s]\n"
     ]
    },
    {
     "name": "stdout",
     "output_type": "stream",
     "text": [
      "\n",
      "\n",
      "Running Iteration 82\n",
      "Running RAggregate with theta = 1.895319378308252 and reg = 0.1\n",
      "Length of the RPS is 9\n"
     ]
    },
    {
     "name": "stderr",
     "output_type": "stream",
     "text": [
      "100%|████████████████████████████████████████| 20/20 [00:00<00:00, 25221.31it/s]\n",
      "100%|██████████████████████████████████████| 100/100 [00:00<00:00, 26795.53it/s]\n",
      "100%|██████████████████████████████████████| 500/500 [00:00<00:00, 26204.90it/s]\n"
     ]
    },
    {
     "name": "stdout",
     "output_type": "stream",
     "text": [
      "Running RAggregate with theta = 2.0676211399726383 and reg = 0.1\n",
      "Length of the RPS is 48\n"
     ]
    },
    {
     "name": "stderr",
     "output_type": "stream",
     "text": [
      "100%|█████████████████████████████████████████| 20/20 [00:00<00:00, 6121.73it/s]\n",
      "100%|███████████████████████████████████████| 100/100 [00:00<00:00, 5852.73it/s]\n",
      "100%|███████████████████████████████████████| 500/500 [00:00<00:00, 5951.88it/s]\n"
     ]
    },
    {
     "name": "stdout",
     "output_type": "stream",
     "text": [
      "Running RAggregate with theta = 2.239922901637025 and reg = 0.1\n",
      "Length of the RPS is 119\n"
     ]
    },
    {
     "name": "stderr",
     "output_type": "stream",
     "text": [
      "100%|█████████████████████████████████████████| 20/20 [00:00<00:00, 2087.50it/s]\n",
      "100%|███████████████████████████████████████| 100/100 [00:00<00:00, 2495.06it/s]\n",
      "100%|███████████████████████████████████████| 500/500 [00:00<00:00, 2296.48it/s]\n"
     ]
    },
    {
     "name": "stdout",
     "output_type": "stream",
     "text": [
      "Running RAggregate with theta = 2.584526424965798 and reg = 0.1\n",
      "Length of the RPS is 638\n"
     ]
    },
    {
     "name": "stderr",
     "output_type": "stream",
     "text": [
      "100%|██████████████████████████████████████████| 20/20 [00:00<00:00, 369.00it/s]\n",
      "100%|████████████████████████████████████████| 100/100 [00:00<00:00, 439.50it/s]\n",
      "100%|████████████████████████████████████████| 500/500 [00:01<00:00, 416.15it/s]\n"
     ]
    },
    {
     "name": "stdout",
     "output_type": "stream",
     "text": [
      "\n",
      "\n",
      "Running Iteration 83\n",
      "Running RAggregate with theta = 2.0026108964812153 and reg = 0.1\n",
      "Length of the RPS is 9\n"
     ]
    },
    {
     "name": "stderr",
     "output_type": "stream",
     "text": [
      "100%|████████████████████████████████████████| 20/20 [00:00<00:00, 20203.78it/s]\n",
      "100%|██████████████████████████████████████| 100/100 [00:00<00:00, 28692.73it/s]\n",
      "100%|██████████████████████████████████████| 500/500 [00:00<00:00, 27318.05it/s]\n"
     ]
    },
    {
     "name": "stdout",
     "output_type": "stream",
     "text": [
      "Running RAggregate with theta = 2.184666432524962 and reg = 0.1\n",
      "Length of the RPS is 49\n"
     ]
    },
    {
     "name": "stderr",
     "output_type": "stream",
     "text": [
      "100%|█████████████████████████████████████████| 20/20 [00:00<00:00, 5943.89it/s]\n",
      "100%|███████████████████████████████████████| 100/100 [00:00<00:00, 5738.47it/s]\n",
      "100%|███████████████████████████████████████| 500/500 [00:00<00:00, 5719.58it/s]\n"
     ]
    },
    {
     "name": "stdout",
     "output_type": "stream",
     "text": [
      "Running RAggregate with theta = 2.366721968568709 and reg = 0.1\n",
      "Length of the RPS is 152\n"
     ]
    },
    {
     "name": "stderr",
     "output_type": "stream",
     "text": [
      "100%|█████████████████████████████████████████| 20/20 [00:00<00:00, 1860.08it/s]\n",
      "100%|███████████████████████████████████████| 100/100 [00:00<00:00, 1936.71it/s]\n",
      "100%|███████████████████████████████████████| 500/500 [00:00<00:00, 1864.04it/s]\n"
     ]
    },
    {
     "name": "stdout",
     "output_type": "stream",
     "text": [
      "Running RAggregate with theta = 2.7308330406562025 and reg = 0.1\n",
      "Length of the RPS is 970\n"
     ]
    },
    {
     "name": "stderr",
     "output_type": "stream",
     "text": [
      "100%|██████████████████████████████████████████| 20/20 [00:00<00:00, 311.64it/s]\n",
      "100%|████████████████████████████████████████| 100/100 [00:00<00:00, 311.25it/s]\n",
      "100%|████████████████████████████████████████| 500/500 [00:01<00:00, 308.02it/s]\n"
     ]
    },
    {
     "name": "stdout",
     "output_type": "stream",
     "text": [
      "\n",
      "\n",
      "Running Iteration 84\n",
      "Running RAggregate with theta = 2.0007690506668854 and reg = 0.1\n",
      "Length of the RPS is 9\n"
     ]
    },
    {
     "name": "stderr",
     "output_type": "stream",
     "text": [
      "100%|████████████████████████████████████████| 20/20 [00:00<00:00, 24657.87it/s]\n",
      "100%|██████████████████████████████████████| 100/100 [00:00<00:00, 29028.33it/s]\n",
      "100%|██████████████████████████████████████| 500/500 [00:00<00:00, 27038.74it/s]\n"
     ]
    },
    {
     "name": "stdout",
     "output_type": "stream",
     "text": [
      "Running RAggregate with theta = 2.1826571461820565 and reg = 0.1\n",
      "Length of the RPS is 48\n"
     ]
    },
    {
     "name": "stderr",
     "output_type": "stream",
     "text": [
      "100%|█████████████████████████████████████████| 20/20 [00:00<00:00, 5988.01it/s]\n",
      "100%|███████████████████████████████████████| 100/100 [00:00<00:00, 5582.51it/s]\n",
      "100%|███████████████████████████████████████| 500/500 [00:00<00:00, 5136.53it/s]\n"
     ]
    },
    {
     "name": "stdout",
     "output_type": "stream",
     "text": [
      "Running RAggregate with theta = 2.364545241697228 and reg = 0.1\n",
      "Length of the RPS is 128\n"
     ]
    },
    {
     "name": "stderr",
     "output_type": "stream",
     "text": [
      "100%|█████████████████████████████████████████| 20/20 [00:00<00:00, 2258.89it/s]\n",
      "100%|███████████████████████████████████████| 100/100 [00:00<00:00, 2464.14it/s]\n",
      "100%|███████████████████████████████████████| 500/500 [00:00<00:00, 2172.02it/s]\n"
     ]
    },
    {
     "name": "stdout",
     "output_type": "stream",
     "text": [
      "Running RAggregate with theta = 2.728321432727571 and reg = 0.1\n",
      "Length of the RPS is 809\n"
     ]
    },
    {
     "name": "stderr",
     "output_type": "stream",
     "text": [
      "100%|██████████████████████████████████████████| 20/20 [00:00<00:00, 307.08it/s]\n",
      "100%|████████████████████████████████████████| 100/100 [00:00<00:00, 352.29it/s]\n",
      "100%|████████████████████████████████████████| 500/500 [00:01<00:00, 289.50it/s]\n"
     ]
    },
    {
     "name": "stdout",
     "output_type": "stream",
     "text": [
      "\n",
      "\n",
      "Running Iteration 85\n",
      "Running RAggregate with theta = 1.9660623032790403 and reg = 0.1\n",
      "Length of the RPS is 9\n"
     ]
    },
    {
     "name": "stderr",
     "output_type": "stream",
     "text": [
      "100%|████████████████████████████████████████| 20/20 [00:00<00:00, 23616.58it/s]\n",
      "100%|██████████████████████████████████████| 100/100 [00:00<00:00, 27487.41it/s]\n",
      "100%|██████████████████████████████████████| 500/500 [00:00<00:00, 24976.20it/s]\n"
     ]
    },
    {
     "name": "stdout",
     "output_type": "stream",
     "text": [
      "Running RAggregate with theta = 2.144795239940771 and reg = 0.1\n",
      "Length of the RPS is 48\n"
     ]
    },
    {
     "name": "stderr",
     "output_type": "stream",
     "text": [
      "100%|█████████████████████████████████████████| 20/20 [00:00<00:00, 4624.37it/s]\n",
      "100%|███████████████████████████████████████| 100/100 [00:00<00:00, 5546.33it/s]\n",
      "100%|███████████████████████████████████████| 500/500 [00:00<00:00, 5689.71it/s]\n"
     ]
    },
    {
     "name": "stdout",
     "output_type": "stream",
     "text": [
      "Running RAggregate with theta = 2.323528176602502 and reg = 0.1\n",
      "Length of the RPS is 103\n"
     ]
    },
    {
     "name": "stderr",
     "output_type": "stream",
     "text": [
      "100%|█████████████████████████████████████████| 20/20 [00:00<00:00, 2547.79it/s]\n",
      "100%|███████████████████████████████████████| 100/100 [00:00<00:00, 2955.00it/s]\n",
      "100%|███████████████████████████████████████| 500/500 [00:00<00:00, 2674.35it/s]\n"
     ]
    },
    {
     "name": "stdout",
     "output_type": "stream",
     "text": [
      "Running RAggregate with theta = 2.680994049925964 and reg = 0.1\n",
      "Length of the RPS is 763\n"
     ]
    },
    {
     "name": "stderr",
     "output_type": "stream",
     "text": [
      "100%|██████████████████████████████████████████| 20/20 [00:00<00:00, 339.71it/s]\n",
      "100%|████████████████████████████████████████| 100/100 [00:00<00:00, 376.32it/s]\n",
      "100%|████████████████████████████████████████| 500/500 [00:01<00:00, 324.74it/s]\n"
     ]
    },
    {
     "name": "stdout",
     "output_type": "stream",
     "text": [
      "\n",
      "\n",
      "Running Iteration 86\n",
      "Running RAggregate with theta = 1.9422404110413671 and reg = 0.1\n",
      "Length of the RPS is 9\n"
     ]
    },
    {
     "name": "stderr",
     "output_type": "stream",
     "text": [
      "100%|████████████████████████████████████████| 20/20 [00:00<00:00, 24877.25it/s]\n",
      "100%|██████████████████████████████████████| 100/100 [00:00<00:00, 26405.84it/s]\n",
      "100%|██████████████████████████████████████| 500/500 [00:00<00:00, 23058.30it/s]\n"
     ]
    },
    {
     "name": "stdout",
     "output_type": "stream",
     "text": [
      "Running RAggregate with theta = 2.1188077211360365 and reg = 0.1\n",
      "Length of the RPS is 40\n"
     ]
    },
    {
     "name": "stderr",
     "output_type": "stream",
     "text": [
      "100%|█████████████████████████████████████████| 20/20 [00:00<00:00, 7139.85it/s]\n",
      "100%|███████████████████████████████████████| 100/100 [00:00<00:00, 6351.64it/s]\n",
      "100%|███████████████████████████████████████| 500/500 [00:00<00:00, 6944.35it/s]\n"
     ]
    },
    {
     "name": "stdout",
     "output_type": "stream",
     "text": [
      "Running RAggregate with theta = 2.2953750312307064 and reg = 0.1\n",
      "Length of the RPS is 104\n"
     ]
    },
    {
     "name": "stderr",
     "output_type": "stream",
     "text": [
      "100%|█████████████████████████████████████████| 20/20 [00:00<00:00, 2539.69it/s]\n",
      "100%|███████████████████████████████████████| 100/100 [00:00<00:00, 2643.95it/s]\n",
      "100%|███████████████████████████████████████| 500/500 [00:00<00:00, 2341.32it/s]\n"
     ]
    },
    {
     "name": "stdout",
     "output_type": "stream",
     "text": [
      "Running RAggregate with theta = 2.6485096514200457 and reg = 0.1\n",
      "Length of the RPS is 807\n"
     ]
    },
    {
     "name": "stderr",
     "output_type": "stream",
     "text": [
      "100%|██████████████████████████████████████████| 20/20 [00:00<00:00, 321.41it/s]\n",
      "100%|████████████████████████████████████████| 100/100 [00:00<00:00, 224.12it/s]\n",
      "100%|████████████████████████████████████████| 500/500 [00:01<00:00, 331.48it/s]\n"
     ]
    },
    {
     "name": "stdout",
     "output_type": "stream",
     "text": [
      "\n",
      "\n",
      "Running Iteration 87\n",
      "Running RAggregate with theta = 1.9196580549929332 and reg = 0.1\n",
      "Length of the RPS is 9\n"
     ]
    },
    {
     "name": "stderr",
     "output_type": "stream",
     "text": [
      "100%|████████████████████████████████████████| 20/20 [00:00<00:00, 22678.04it/s]\n",
      "100%|██████████████████████████████████████| 100/100 [00:00<00:00, 28089.37it/s]\n",
      "100%|██████████████████████████████████████| 500/500 [00:00<00:00, 25476.54it/s]\n"
     ]
    },
    {
     "name": "stdout",
     "output_type": "stream",
     "text": [
      "Running RAggregate with theta = 2.0941724236286543 and reg = 0.1\n",
      "Length of the RPS is 48\n"
     ]
    },
    {
     "name": "stderr",
     "output_type": "stream",
     "text": [
      "100%|█████████████████████████████████████████| 20/20 [00:00<00:00, 6002.15it/s]\n",
      "100%|███████████████████████████████████████| 100/100 [00:00<00:00, 6134.62it/s]\n",
      "100%|███████████████████████████████████████| 500/500 [00:00<00:00, 5358.82it/s]\n"
     ]
    },
    {
     "name": "stdout",
     "output_type": "stream",
     "text": [
      "Running RAggregate with theta = 2.2686867922643756 and reg = 0.1\n",
      "Length of the RPS is 102\n"
     ]
    },
    {
     "name": "stderr",
     "output_type": "stream",
     "text": [
      "100%|█████████████████████████████████████████| 20/20 [00:00<00:00, 2452.45it/s]\n",
      "100%|███████████████████████████████████████| 100/100 [00:00<00:00, 2662.12it/s]\n",
      "100%|███████████████████████████████████████| 500/500 [00:00<00:00, 2810.31it/s]\n"
     ]
    },
    {
     "name": "stdout",
     "output_type": "stream",
     "text": [
      "Running RAggregate with theta = 2.617715529535818 and reg = 0.1\n",
      "Length of the RPS is 650\n"
     ]
    },
    {
     "name": "stderr",
     "output_type": "stream",
     "text": [
      "100%|██████████████████████████████████████████| 20/20 [00:00<00:00, 375.92it/s]\n",
      "100%|████████████████████████████████████████| 100/100 [00:00<00:00, 413.04it/s]\n",
      "100%|████████████████████████████████████████| 500/500 [00:01<00:00, 429.34it/s]\n"
     ]
    },
    {
     "name": "stdout",
     "output_type": "stream",
     "text": [
      "\n",
      "\n",
      "Running Iteration 88\n",
      "Running RAggregate with theta = 1.9418307857165953 and reg = 0.1\n",
      "Length of the RPS is 9\n"
     ]
    },
    {
     "name": "stderr",
     "output_type": "stream",
     "text": [
      "100%|████████████████████████████████████████| 20/20 [00:00<00:00, 24600.02it/s]\n",
      "100%|██████████████████████████████████████| 100/100 [00:00<00:00, 28677.04it/s]\n",
      "100%|██████████████████████████████████████| 500/500 [00:00<00:00, 28415.54it/s]\n"
     ]
    },
    {
     "name": "stdout",
     "output_type": "stream",
     "text": [
      "Running RAggregate with theta = 2.1183608571453765 and reg = 0.1\n",
      "Length of the RPS is 40\n"
     ]
    },
    {
     "name": "stderr",
     "output_type": "stream",
     "text": [
      "100%|█████████████████████████████████████████| 20/20 [00:00<00:00, 7165.46it/s]\n",
      "100%|███████████████████████████████████████| 100/100 [00:00<00:00, 5290.43it/s]\n",
      "100%|███████████████████████████████████████| 500/500 [00:00<00:00, 7642.35it/s]\n"
     ]
    },
    {
     "name": "stdout",
     "output_type": "stream",
     "text": [
      "Running RAggregate with theta = 2.2948909285741577 and reg = 0.1\n",
      "Length of the RPS is 102\n"
     ]
    },
    {
     "name": "stderr",
     "output_type": "stream",
     "text": [
      "100%|█████████████████████████████████████████| 20/20 [00:00<00:00, 2743.80it/s]\n",
      "100%|███████████████████████████████████████| 100/100 [00:00<00:00, 2933.57it/s]\n",
      "100%|███████████████████████████████████████| 500/500 [00:00<00:00, 2764.23it/s]\n"
     ]
    },
    {
     "name": "stdout",
     "output_type": "stream",
     "text": [
      "Running RAggregate with theta = 2.6479510714317205 and reg = 0.1\n",
      "Length of the RPS is 648\n"
     ]
    },
    {
     "name": "stderr",
     "output_type": "stream",
     "text": [
      "100%|██████████████████████████████████████████| 20/20 [00:00<00:00, 469.40it/s]\n",
      "100%|████████████████████████████████████████| 100/100 [00:00<00:00, 453.95it/s]\n",
      "100%|████████████████████████████████████████| 500/500 [00:01<00:00, 443.52it/s]\n"
     ]
    },
    {
     "name": "stdout",
     "output_type": "stream",
     "text": [
      "\n",
      "\n",
      "Running Iteration 89\n",
      "Running RAggregate with theta = 1.9517495549585882 and reg = 0.1\n",
      "Length of the RPS is 0\n"
     ]
    },
    {
     "name": "stderr",
     "output_type": "stream",
     "text": [
      "100%|███████████████████████████████████████| 20/20 [00:00<00:00, 244565.83it/s]\n",
      "100%|████████████████████████████████████| 100/100 [00:00<00:00, 1314828.84it/s]\n",
      "100%|████████████████████████████████████| 500/500 [00:00<00:00, 2430071.84it/s]\n"
     ]
    },
    {
     "name": "stdout",
     "output_type": "stream",
     "text": [
      "Running RAggregate with theta = 2.129181332682096 and reg = 0.1\n",
      "Length of the RPS is 40\n"
     ]
    },
    {
     "name": "stderr",
     "output_type": "stream",
     "text": [
      "100%|█████████████████████████████████████████| 20/20 [00:00<00:00, 7328.86it/s]\n",
      "100%|███████████████████████████████████████| 100/100 [00:00<00:00, 7642.26it/s]\n",
      "100%|███████████████████████████████████████| 500/500 [00:00<00:00, 7012.13it/s]\n"
     ]
    },
    {
     "name": "stdout",
     "output_type": "stream",
     "text": [
      "Running RAggregate with theta = 2.3066131104056042 and reg = 0.1\n",
      "Length of the RPS is 91\n"
     ]
    },
    {
     "name": "stderr",
     "output_type": "stream",
     "text": [
      "100%|█████████████████████████████████████████| 20/20 [00:00<00:00, 3365.81it/s]\n",
      "100%|███████████████████████████████████████| 100/100 [00:00<00:00, 3472.34it/s]\n",
      "100%|███████████████████████████████████████| 500/500 [00:00<00:00, 3378.84it/s]\n"
     ]
    },
    {
     "name": "stdout",
     "output_type": "stream",
     "text": [
      "Running RAggregate with theta = 2.66147666585262 and reg = 0.1\n",
      "Length of the RPS is 455\n"
     ]
    },
    {
     "name": "stderr",
     "output_type": "stream",
     "text": [
      "100%|██████████████████████████████████████████| 20/20 [00:00<00:00, 568.15it/s]\n",
      "100%|████████████████████████████████████████| 100/100 [00:00<00:00, 575.64it/s]\n",
      "100%|████████████████████████████████████████| 500/500 [00:00<00:00, 606.62it/s]\n"
     ]
    },
    {
     "name": "stdout",
     "output_type": "stream",
     "text": [
      "\n",
      "\n",
      "Running Iteration 90\n",
      "Running RAggregate with theta = 2.028206816392425 and reg = 0.1\n",
      "Length of the RPS is 9\n"
     ]
    },
    {
     "name": "stderr",
     "output_type": "stream",
     "text": [
      "100%|████████████████████████████████████████| 20/20 [00:00<00:00, 24694.17it/s]\n",
      "100%|██████████████████████████████████████| 100/100 [00:00<00:00, 27878.39it/s]\n",
      "100%|██████████████████████████████████████| 500/500 [00:00<00:00, 28357.52it/s]\n"
     ]
    },
    {
     "name": "stdout",
     "output_type": "stream",
     "text": [
      "Running RAggregate with theta = 2.2125892542462817 and reg = 0.1\n",
      "Length of the RPS is 40\n"
     ]
    },
    {
     "name": "stderr",
     "output_type": "stream",
     "text": [
      "100%|█████████████████████████████████████████| 20/20 [00:00<00:00, 6170.82it/s]\n",
      "100%|███████████████████████████████████████| 100/100 [00:00<00:00, 7163.38it/s]\n",
      "100%|███████████████████████████████████████| 500/500 [00:00<00:00, 6981.78it/s]\n"
     ]
    },
    {
     "name": "stdout",
     "output_type": "stream",
     "text": [
      "Running RAggregate with theta = 2.3969716921001387 and reg = 0.1\n",
      "Length of the RPS is 102\n"
     ]
    },
    {
     "name": "stderr",
     "output_type": "stream",
     "text": [
      "100%|█████████████████████████████████████████| 20/20 [00:00<00:00, 2909.48it/s]\n",
      "100%|███████████████████████████████████████| 100/100 [00:00<00:00, 2997.86it/s]\n",
      "100%|███████████████████████████████████████| 500/500 [00:00<00:00, 2668.77it/s]\n"
     ]
    },
    {
     "name": "stdout",
     "output_type": "stream",
     "text": [
      "Running RAggregate with theta = 2.7657365678078523 and reg = 0.1\n",
      "Length of the RPS is 773\n"
     ]
    },
    {
     "name": "stderr",
     "output_type": "stream",
     "text": [
      "100%|██████████████████████████████████████████| 20/20 [00:00<00:00, 384.62it/s]\n",
      "100%|████████████████████████████████████████| 100/100 [00:00<00:00, 372.44it/s]\n",
      "100%|████████████████████████████████████████| 500/500 [00:01<00:00, 369.01it/s]\n"
     ]
    },
    {
     "name": "stdout",
     "output_type": "stream",
     "text": [
      "\n",
      "\n",
      "Running Iteration 91\n",
      "Running RAggregate with theta = 1.9499619020997865 and reg = 0.1\n",
      "Length of the RPS is 9\n"
     ]
    },
    {
     "name": "stderr",
     "output_type": "stream",
     "text": [
      "100%|████████████████████████████████████████| 20/20 [00:00<00:00, 24723.28it/s]\n",
      "100%|██████████████████████████████████████| 100/100 [00:00<00:00, 28115.73it/s]\n",
      "100%|██████████████████████████████████████| 500/500 [00:00<00:00, 24504.02it/s]\n"
     ]
    },
    {
     "name": "stdout",
     "output_type": "stream",
     "text": [
      "Running RAggregate with theta = 2.1272311659270393 and reg = 0.1\n",
      "Length of the RPS is 41\n"
     ]
    },
    {
     "name": "stderr",
     "output_type": "stream",
     "text": [
      "100%|█████████████████████████████████████████| 20/20 [00:00<00:00, 6747.59it/s]\n",
      "100%|███████████████████████████████████████| 100/100 [00:00<00:00, 6675.00it/s]\n",
      "100%|███████████████████████████████████████| 500/500 [00:00<00:00, 6567.80it/s]\n"
     ]
    },
    {
     "name": "stdout",
     "output_type": "stream",
     "text": [
      "Running RAggregate with theta = 2.304500429754293 and reg = 0.1\n",
      "Length of the RPS is 111\n"
     ]
    },
    {
     "name": "stderr",
     "output_type": "stream",
     "text": [
      "100%|█████████████████████████████████████████| 20/20 [00:00<00:00, 2712.65it/s]\n",
      "100%|███████████████████████████████████████| 100/100 [00:00<00:00, 2772.78it/s]\n",
      "100%|███████████████████████████████████████| 500/500 [00:00<00:00, 2741.57it/s]\n"
     ]
    },
    {
     "name": "stdout",
     "output_type": "stream",
     "text": [
      "Running RAggregate with theta = 2.6590389574087996 and reg = 0.1\n",
      "Length of the RPS is 762\n"
     ]
    },
    {
     "name": "stderr",
     "output_type": "stream",
     "text": [
      "100%|██████████████████████████████████████████| 20/20 [00:00<00:00, 392.72it/s]\n",
      "100%|████████████████████████████████████████| 100/100 [00:00<00:00, 385.21it/s]\n",
      "100%|████████████████████████████████████████| 500/500 [00:01<00:00, 375.91it/s]\n"
     ]
    },
    {
     "name": "stdout",
     "output_type": "stream",
     "text": [
      "\n",
      "\n",
      "Running Iteration 92\n",
      "Running RAggregate with theta = 1.940514433146299 and reg = 0.1\n",
      "Length of the RPS is 9\n"
     ]
    },
    {
     "name": "stderr",
     "output_type": "stream",
     "text": [
      "100%|████████████████████████████████████████| 20/20 [00:00<00:00, 22298.27it/s]\n",
      "100%|██████████████████████████████████████| 100/100 [00:00<00:00, 27786.05it/s]\n",
      "100%|██████████████████████████████████████| 500/500 [00:00<00:00, 29729.97it/s]\n"
     ]
    },
    {
     "name": "stdout",
     "output_type": "stream",
     "text": [
      "Running RAggregate with theta = 2.1169248361595985 and reg = 0.1\n",
      "Length of the RPS is 49\n"
     ]
    },
    {
     "name": "stderr",
     "output_type": "stream",
     "text": [
      "100%|█████████████████████████████████████████| 20/20 [00:00<00:00, 5411.31it/s]\n",
      "100%|███████████████████████████████████████| 100/100 [00:00<00:00, 6134.53it/s]\n",
      "100%|███████████████████████████████████████| 500/500 [00:00<00:00, 5801.67it/s]\n"
     ]
    },
    {
     "name": "stdout",
     "output_type": "stream",
     "text": [
      "Running RAggregate with theta = 2.2933352391728987 and reg = 0.1\n",
      "Length of the RPS is 161\n"
     ]
    },
    {
     "name": "stderr",
     "output_type": "stream",
     "text": [
      "100%|█████████████████████████████████████████| 20/20 [00:00<00:00, 1431.85it/s]\n",
      "100%|███████████████████████████████████████| 100/100 [00:00<00:00, 1868.64it/s]\n",
      "100%|███████████████████████████████████████| 500/500 [00:00<00:00, 1785.71it/s]\n"
     ]
    },
    {
     "name": "stdout",
     "output_type": "stream",
     "text": [
      "Running RAggregate with theta = 2.6461560451994983 and reg = 0.1\n",
      "Length of the RPS is 777\n"
     ]
    },
    {
     "name": "stderr",
     "output_type": "stream",
     "text": [
      "100%|██████████████████████████████████████████| 20/20 [00:00<00:00, 337.87it/s]\n",
      "100%|████████████████████████████████████████| 100/100 [00:00<00:00, 385.87it/s]\n",
      "100%|████████████████████████████████████████| 500/500 [00:01<00:00, 375.04it/s]\n"
     ]
    },
    {
     "name": "stdout",
     "output_type": "stream",
     "text": [
      "\n",
      "\n",
      "Running Iteration 93\n",
      "Running RAggregate with theta = 1.9421503682987953 and reg = 0.1\n",
      "Length of the RPS is 0\n"
     ]
    },
    {
     "name": "stderr",
     "output_type": "stream",
     "text": [
      "100%|███████████████████████████████████████| 20/20 [00:00<00:00, 384798.53it/s]\n",
      "100%|████████████████████████████████████| 100/100 [00:00<00:00, 1388842.38it/s]\n",
      "100%|████████████████████████████████████| 500/500 [00:00<00:00, 2118335.35it/s]\n"
     ]
    },
    {
     "name": "stdout",
     "output_type": "stream",
     "text": [
      "Running RAggregate with theta = 2.1187094926895944 and reg = 0.1\n",
      "Length of the RPS is 40\n"
     ]
    },
    {
     "name": "stderr",
     "output_type": "stream",
     "text": [
      "100%|█████████████████████████████████████████| 20/20 [00:00<00:00, 6531.66it/s]\n",
      "100%|███████████████████████████████████████| 100/100 [00:00<00:00, 7720.90it/s]\n",
      "100%|███████████████████████████████████████| 500/500 [00:00<00:00, 7773.77it/s]\n"
     ]
    },
    {
     "name": "stdout",
     "output_type": "stream",
     "text": [
      "Running RAggregate with theta = 2.2952686170803944 and reg = 0.1\n",
      "Length of the RPS is 92\n"
     ]
    },
    {
     "name": "stderr",
     "output_type": "stream",
     "text": [
      "100%|█████████████████████████████████████████| 20/20 [00:00<00:00, 3286.17it/s]\n",
      "100%|███████████████████████████████████████| 100/100 [00:00<00:00, 3424.87it/s]\n",
      "100%|███████████████████████████████████████| 500/500 [00:00<00:00, 2625.90it/s]\n"
     ]
    },
    {
     "name": "stdout",
     "output_type": "stream",
     "text": [
      "Running RAggregate with theta = 2.648386865861993 and reg = 0.1\n",
      "Length of the RPS is 533\n"
     ]
    },
    {
     "name": "stderr",
     "output_type": "stream",
     "text": [
      "100%|██████████████████████████████████████████| 20/20 [00:00<00:00, 521.44it/s]\n",
      "100%|████████████████████████████████████████| 100/100 [00:00<00:00, 546.72it/s]\n",
      "100%|████████████████████████████████████████| 500/500 [00:00<00:00, 547.09it/s]\n"
     ]
    },
    {
     "name": "stdout",
     "output_type": "stream",
     "text": [
      "\n",
      "\n",
      "Running Iteration 94\n",
      "Running RAggregate with theta = 1.9318259931446402 and reg = 0.1\n",
      "Length of the RPS is 10\n"
     ]
    },
    {
     "name": "stderr",
     "output_type": "stream",
     "text": [
      "100%|████████████████████████████████████████| 20/20 [00:00<00:00, 22069.48it/s]\n",
      "100%|██████████████████████████████████████| 100/100 [00:00<00:00, 24378.40it/s]\n",
      "100%|██████████████████████████████████████| 500/500 [00:00<00:00, 26477.19it/s]\n"
     ]
    },
    {
     "name": "stdout",
     "output_type": "stream",
     "text": [
      "Running RAggregate with theta = 2.107446537975971 and reg = 0.1\n",
      "Length of the RPS is 59\n"
     ]
    },
    {
     "name": "stderr",
     "output_type": "stream",
     "text": [
      "100%|█████████████████████████████████████████| 20/20 [00:00<00:00, 4690.57it/s]\n",
      "100%|███████████████████████████████████████| 100/100 [00:00<00:00, 4807.28it/s]\n",
      "100%|███████████████████████████████████████| 500/500 [00:00<00:00, 4455.93it/s]\n"
     ]
    },
    {
     "name": "stdout",
     "output_type": "stream",
     "text": [
      "Running RAggregate with theta = 2.283067082807302 and reg = 0.1\n",
      "Length of the RPS is 186\n"
     ]
    },
    {
     "name": "stderr",
     "output_type": "stream",
     "text": [
      "100%|█████████████████████████████████████████| 20/20 [00:00<00:00, 1347.61it/s]\n",
      "100%|███████████████████████████████████████| 100/100 [00:00<00:00, 1575.70it/s]\n",
      "100%|███████████████████████████████████████| 500/500 [00:00<00:00, 1493.44it/s]\n"
     ]
    },
    {
     "name": "stdout",
     "output_type": "stream",
     "text": [
      "Running RAggregate with theta = 2.6343081724699635 and reg = 0.1\n",
      "Length of the RPS is 1278\n"
     ]
    },
    {
     "name": "stderr",
     "output_type": "stream",
     "text": [
      "100%|██████████████████████████████████████████| 20/20 [00:00<00:00, 225.28it/s]\n",
      "100%|████████████████████████████████████████| 100/100 [00:00<00:00, 229.14it/s]\n",
      "100%|████████████████████████████████████████| 500/500 [00:02<00:00, 225.22it/s]\n"
     ]
    },
    {
     "name": "stdout",
     "output_type": "stream",
     "text": [
      "\n",
      "\n",
      "Running Iteration 95\n",
      "Running RAggregate with theta = 1.9596939883374787 and reg = 0.1\n",
      "Length of the RPS is 9\n"
     ]
    },
    {
     "name": "stderr",
     "output_type": "stream",
     "text": [
      "100%|████████████████████████████████████████| 20/20 [00:00<00:00, 25312.64it/s]\n",
      "100%|██████████████████████████████████████| 100/100 [00:00<00:00, 28538.50it/s]\n",
      "100%|██████████████████████████████████████| 500/500 [00:00<00:00, 21093.44it/s]\n"
     ]
    },
    {
     "name": "stdout",
     "output_type": "stream",
     "text": [
      "Running RAggregate with theta = 2.137847987277249 and reg = 0.1\n",
      "Length of the RPS is 48\n"
     ]
    },
    {
     "name": "stderr",
     "output_type": "stream",
     "text": [
      "100%|█████████████████████████████████████████| 20/20 [00:00<00:00, 6150.01it/s]\n",
      "100%|███████████████████████████████████████| 100/100 [00:00<00:00, 6034.71it/s]\n",
      "100%|███████████████████████████████████████| 500/500 [00:00<00:00, 6340.25it/s]\n"
     ]
    },
    {
     "name": "stdout",
     "output_type": "stream",
     "text": [
      "Running RAggregate with theta = 2.31600198621702 and reg = 0.1\n",
      "Length of the RPS is 138\n"
     ]
    },
    {
     "name": "stderr",
     "output_type": "stream",
     "text": [
      "100%|█████████████████████████████████████████| 20/20 [00:00<00:00, 2136.30it/s]\n",
      "100%|███████████████████████████████████████| 100/100 [00:00<00:00, 2153.12it/s]\n",
      "100%|███████████████████████████████████████| 500/500 [00:00<00:00, 1968.74it/s]\n"
     ]
    },
    {
     "name": "stdout",
     "output_type": "stream",
     "text": [
      "Running RAggregate with theta = 2.672309984096562 and reg = 0.1\n",
      "Length of the RPS is 764\n"
     ]
    },
    {
     "name": "stderr",
     "output_type": "stream",
     "text": [
      "100%|██████████████████████████████████████████| 20/20 [00:00<00:00, 386.63it/s]\n",
      "100%|████████████████████████████████████████| 100/100 [00:00<00:00, 366.15it/s]\n",
      "100%|████████████████████████████████████████| 500/500 [00:01<00:00, 380.51it/s]\n"
     ]
    },
    {
     "name": "stdout",
     "output_type": "stream",
     "text": [
      "\n",
      "\n",
      "Running Iteration 96\n",
      "Running RAggregate with theta = 1.9462944399954403 and reg = 0.1\n",
      "Length of the RPS is 10\n"
     ]
    },
    {
     "name": "stderr",
     "output_type": "stream",
     "text": [
      "100%|████████████████████████████████████████| 20/20 [00:00<00:00, 22598.62it/s]\n",
      "100%|██████████████████████████████████████| 100/100 [00:00<00:00, 24613.02it/s]\n",
      "100%|██████████████████████████████████████| 500/500 [00:00<00:00, 24251.82it/s]\n"
     ]
    },
    {
     "name": "stdout",
     "output_type": "stream",
     "text": [
      "Running RAggregate with theta = 2.1232302981768436 and reg = 0.1\n",
      "Length of the RPS is 49\n"
     ]
    },
    {
     "name": "stderr",
     "output_type": "stream",
     "text": [
      "100%|█████████████████████████████████████████| 20/20 [00:00<00:00, 5880.96it/s]\n",
      "100%|███████████████████████████████████████| 100/100 [00:00<00:00, 6113.70it/s]\n",
      "100%|███████████████████████████████████████| 500/500 [00:00<00:00, 5187.95it/s]\n"
     ]
    },
    {
     "name": "stdout",
     "output_type": "stream",
     "text": [
      "Running RAggregate with theta = 2.3001661563582476 and reg = 0.1\n",
      "Length of the RPS is 160\n"
     ]
    },
    {
     "name": "stderr",
     "output_type": "stream",
     "text": [
      "100%|█████████████████████████████████████████| 20/20 [00:00<00:00, 1817.72it/s]\n",
      "100%|███████████████████████████████████████| 100/100 [00:00<00:00, 1715.50it/s]\n",
      "100%|███████████████████████████████████████| 500/500 [00:00<00:00, 1577.17it/s]\n"
     ]
    },
    {
     "name": "stdout",
     "output_type": "stream",
     "text": [
      "Running RAggregate with theta = 2.6540378727210547 and reg = 0.1\n",
      "Length of the RPS is 885\n"
     ]
    },
    {
     "name": "stderr",
     "output_type": "stream",
     "text": [
      "100%|██████████████████████████████████████████| 20/20 [00:00<00:00, 338.98it/s]\n",
      "100%|████████████████████████████████████████| 100/100 [00:00<00:00, 336.91it/s]\n",
      "100%|████████████████████████████████████████| 500/500 [00:01<00:00, 324.72it/s]\n"
     ]
    },
    {
     "name": "stdout",
     "output_type": "stream",
     "text": [
      "\n",
      "\n",
      "Running Iteration 97\n",
      "Running RAggregate with theta = 1.9689696337672589 and reg = 0.1\n",
      "Length of the RPS is 9\n"
     ]
    },
    {
     "name": "stderr",
     "output_type": "stream",
     "text": [
      "100%|████████████████████████████████████████| 20/20 [00:00<00:00, 20784.46it/s]\n",
      "100%|██████████████████████████████████████| 100/100 [00:00<00:00, 28326.49it/s]\n",
      "100%|██████████████████████████████████████| 500/500 [00:00<00:00, 27682.98it/s]\n"
     ]
    },
    {
     "name": "stdout",
     "output_type": "stream",
     "text": [
      "Running RAggregate with theta = 2.147966873200646 and reg = 0.1\n",
      "Length of the RPS is 48\n"
     ]
    },
    {
     "name": "stderr",
     "output_type": "stream",
     "text": [
      "100%|█████████████████████████████████████████| 20/20 [00:00<00:00, 6069.90it/s]\n",
      "100%|███████████████████████████████████████| 100/100 [00:00<00:00, 6355.68it/s]\n",
      "100%|███████████████████████████████████████| 500/500 [00:00<00:00, 5543.91it/s]\n"
     ]
    },
    {
     "name": "stdout",
     "output_type": "stream",
     "text": [
      "Running RAggregate with theta = 2.326964112634033 and reg = 0.1\n",
      "Length of the RPS is 103\n"
     ]
    },
    {
     "name": "stderr",
     "output_type": "stream",
     "text": [
      "100%|█████████████████████████████████████████| 20/20 [00:00<00:00, 1936.47it/s]\n",
      "100%|███████████████████████████████████████| 100/100 [00:00<00:00, 2515.46it/s]\n",
      "100%|███████████████████████████████████████| 500/500 [00:00<00:00, 2842.15it/s]\n"
     ]
    },
    {
     "name": "stdout",
     "output_type": "stream",
     "text": [
      "Running RAggregate with theta = 2.6849585915008074 and reg = 0.1\n",
      "Length of the RPS is 906\n"
     ]
    },
    {
     "name": "stderr",
     "output_type": "stream",
     "text": [
      "100%|██████████████████████████████████████████| 20/20 [00:00<00:00, 283.92it/s]\n",
      "100%|████████████████████████████████████████| 100/100 [00:00<00:00, 314.24it/s]\n",
      "100%|████████████████████████████████████████| 500/500 [00:01<00:00, 318.86it/s]\n"
     ]
    },
    {
     "name": "stdout",
     "output_type": "stream",
     "text": [
      "\n",
      "\n",
      "Running Iteration 98\n",
      "Running RAggregate with theta = 1.9867474078829854 and reg = 0.1\n",
      "Length of the RPS is 9\n"
     ]
    },
    {
     "name": "stderr",
     "output_type": "stream",
     "text": [
      "100%|████████████████████████████████████████| 20/20 [00:00<00:00, 25443.15it/s]\n",
      "100%|██████████████████████████████████████| 100/100 [00:00<00:00, 28490.04it/s]\n",
      "100%|██████████████████████████████████████| 500/500 [00:00<00:00, 29744.31it/s]\n"
     ]
    },
    {
     "name": "stdout",
     "output_type": "stream",
     "text": [
      "Running RAggregate with theta = 2.16736080859962 and reg = 0.1\n",
      "Length of the RPS is 49\n"
     ]
    },
    {
     "name": "stderr",
     "output_type": "stream",
     "text": [
      "100%|█████████████████████████████████████████| 20/20 [00:00<00:00, 3245.24it/s]\n",
      "100%|███████████████████████████████████████| 100/100 [00:00<00:00, 5910.47it/s]\n",
      "100%|███████████████████████████████████████| 500/500 [00:00<00:00, 5783.41it/s]\n"
     ]
    },
    {
     "name": "stdout",
     "output_type": "stream",
     "text": [
      "Running RAggregate with theta = 2.3479742093162557 and reg = 0.1\n",
      "Length of the RPS is 177\n"
     ]
    },
    {
     "name": "stderr",
     "output_type": "stream",
     "text": [
      "100%|█████████████████████████████████████████| 20/20 [00:00<00:00, 1223.63it/s]\n",
      "100%|███████████████████████████████████████| 100/100 [00:00<00:00, 1705.17it/s]\n",
      "100%|███████████████████████████████████████| 500/500 [00:00<00:00, 1589.31it/s]\n"
     ]
    },
    {
     "name": "stdout",
     "output_type": "stream",
     "text": [
      "Running RAggregate with theta = 2.7092010107495255 and reg = 0.1\n",
      "Length of the RPS is 1232\n"
     ]
    },
    {
     "name": "stderr",
     "output_type": "stream",
     "text": [
      "100%|██████████████████████████████████████████| 20/20 [00:00<00:00, 235.71it/s]\n",
      "100%|████████████████████████████████████████| 100/100 [00:00<00:00, 244.25it/s]\n",
      "100%|████████████████████████████████████████| 500/500 [00:02<00:00, 203.65it/s]\n"
     ]
    },
    {
     "name": "stdout",
     "output_type": "stream",
     "text": [
      "\n",
      "\n",
      "Running Iteration 99\n",
      "Running RAggregate with theta = 1.9778859011169272 and reg = 0.1\n",
      "Length of the RPS is 0\n"
     ]
    },
    {
     "name": "stderr",
     "output_type": "stream",
     "text": [
      "100%|███████████████████████████████████████| 20/20 [00:00<00:00, 243854.88it/s]\n",
      "100%|████████████████████████████████████| 100/100 [00:00<00:00, 1348650.80it/s]\n",
      "100%|████████████████████████████████████| 500/500 [00:00<00:00, 2072284.58it/s]\n"
     ]
    },
    {
     "name": "stdout",
     "output_type": "stream",
     "text": [
      "Running RAggregate with theta = 2.157693710309375 and reg = 0.1\n",
      "Length of the RPS is 39\n"
     ]
    },
    {
     "name": "stderr",
     "output_type": "stream",
     "text": [
      "100%|█████████████████████████████████████████| 20/20 [00:00<00:00, 7606.64it/s]\n",
      "100%|███████████████████████████████████████| 100/100 [00:00<00:00, 8137.33it/s]\n",
      "100%|███████████████████████████████████████| 500/500 [00:00<00:00, 8062.84it/s]\n"
     ]
    },
    {
     "name": "stdout",
     "output_type": "stream",
     "text": [
      "Running RAggregate with theta = 2.337501519501823 and reg = 0.1\n",
      "Length of the RPS is 85\n"
     ]
    },
    {
     "name": "stderr",
     "output_type": "stream",
     "text": [
      "100%|█████████████████████████████████████████| 20/20 [00:00<00:00, 2995.82it/s]\n",
      "100%|███████████████████████████████████████| 100/100 [00:00<00:00, 3271.74it/s]\n",
      "100%|███████████████████████████████████████| 500/500 [00:00<00:00, 3530.75it/s]\n"
     ]
    },
    {
     "name": "stdout",
     "output_type": "stream",
     "text": [
      "Running RAggregate with theta = 2.697117137886719 and reg = 0.1\n",
      "Length of the RPS is 571\n"
     ]
    },
    {
     "name": "stderr",
     "output_type": "stream",
     "text": [
      "100%|██████████████████████████████████████████| 20/20 [00:00<00:00, 527.48it/s]\n",
      "100%|████████████████████████████████████████| 100/100 [00:00<00:00, 508.66it/s]\n",
      "100%|████████████████████████████████████████| 500/500 [00:00<00:00, 513.46it/s]\n"
     ]
    },
    {
     "name": "stdout",
     "output_type": "stream",
     "text": [
      "\n",
      "\n",
      "Running Iteration 100\n",
      "Running RAggregate with theta = 2.0367770124635456 and reg = 0.1\n",
      "Length of the RPS is 9\n"
     ]
    },
    {
     "name": "stderr",
     "output_type": "stream",
     "text": [
      "100%|████████████████████████████████████████| 20/20 [00:00<00:00, 24098.27it/s]\n",
      "100%|██████████████████████████████████████| 100/100 [00:00<00:00, 29121.04it/s]\n",
      "100%|██████████████████████████████████████| 500/500 [00:00<00:00, 28135.72it/s]\n"
     ]
    },
    {
     "name": "stdout",
     "output_type": "stream",
     "text": [
      "Running RAggregate with theta = 2.2219385590511407 and reg = 0.1\n",
      "Length of the RPS is 48\n"
     ]
    },
    {
     "name": "stderr",
     "output_type": "stream",
     "text": [
      "100%|█████████████████████████████████████████| 20/20 [00:00<00:00, 6040.18it/s]\n",
      "100%|███████████████████████████████████████| 100/100 [00:00<00:00, 6195.79it/s]\n",
      "100%|███████████████████████████████████████| 500/500 [00:00<00:00, 5759.16it/s]\n"
     ]
    },
    {
     "name": "stdout",
     "output_type": "stream",
     "text": [
      "Running RAggregate with theta = 2.4071001056387358 and reg = 0.1\n",
      "Length of the RPS is 105\n"
     ]
    },
    {
     "name": "stderr",
     "output_type": "stream",
     "text": [
      "100%|█████████████████████████████████████████| 20/20 [00:00<00:00, 2819.61it/s]\n",
      "100%|███████████████████████████████████████| 100/100 [00:00<00:00, 2975.15it/s]\n",
      "100%|███████████████████████████████████████| 500/500 [00:00<00:00, 2800.75it/s]\n"
     ]
    },
    {
     "name": "stdout",
     "output_type": "stream",
     "text": [
      "Running RAggregate with theta = 2.777423198813926 and reg = 0.1\n",
      "Length of the RPS is 1014\n"
     ]
    },
    {
     "name": "stderr",
     "output_type": "stream",
     "text": [
      "100%|██████████████████████████████████████████| 20/20 [00:00<00:00, 300.21it/s]\n",
      "100%|████████████████████████████████████████| 100/100 [00:00<00:00, 267.43it/s]\n",
      "100%|████████████████████████████████████████| 500/500 [00:01<00:00, 281.12it/s]\n"
     ]
    }
   ],
   "source": [
    "num_trees_to_try = np.array([20, 100, 500])\n",
    "multipliers_to_try = np.array([1.1, 1.2, 1.3, 1.5])\n",
    "\n",
    "# Finds suitable thetas to try based on the multipliers\n",
    "def produce_thetas_to_try(multipliers, D_matrix, D, y):\n",
    "\n",
    "    lasso_reg = 1e-1\n",
    "    lasso = linear_model.Lasso(lasso_reg, fit_intercept=False)\n",
    "    lasso.fit(D_matrix, y)\n",
    "    alpha_est = lasso.coef_\n",
    "    y_tva = lasso.predict(D_matrix)\n",
    "\n",
    "    sqrd_err = mean_squared_error(y, y_tva)\n",
    "    theta = sqrd_err + 1e-4 * np.linalg.norm(alpha_est, ord=1)\n",
    "\n",
    "    R_set = []\n",
    "    while len(R_set) == 0:\n",
    "        reg = 1e-1\n",
    "        R_set, rashomon_profiles = RAggregate(M, R, H, D, y, theta, reg,\n",
    "                                                verbose=False, bruteforce=True\n",
    "                                                )\n",
    "        theta += 0.1\n",
    "\n",
    "    model_losses = []\n",
    "    model_sizes = []\n",
    "\n",
    "    for r_set in R_set:\n",
    "\n",
    "        loss_r = 0\n",
    "        size_r = 0\n",
    "        \n",
    "        for profile, model_prof in enumerate(r_set):\n",
    "            sigma_r_prof = rashomon_profiles[profile].sigma[model_prof]\n",
    "            loss_r_prof = rashomon_profiles[profile].loss[model_prof]\n",
    "            size_r_prof = rashomon_profiles[profile].pools[model_prof]\n",
    "\n",
    "            loss_r += loss_r_prof\n",
    "\n",
    "            if sigma_r_prof is None and loss_r_prof == 0:\n",
    "                pass\n",
    "            else:\n",
    "                size_r += size_r_prof\n",
    "        \n",
    "        model_losses.append(loss_r)\n",
    "        model_sizes.append(size_r)\n",
    "\n",
    "    model_losses = np.array(model_losses)\n",
    "    model_sizes = np.array(model_sizes)\n",
    "\n",
    "    q_0 = np.min(model_losses)\n",
    "\n",
    "    return q_0 * multipliers\n",
    "\n",
    "\n",
    "# Runs the intersection and num_permissibile finding algorithms for all combinations of num_trees and thetas.\n",
    "def produce_crf_counter(num_trees_to_try, thetas_to_try, D, y, X_cf, T, y_0d, parameters):\n",
    "    trt_intersections, ctl_intersections, permissible_trees, size_of_r_sets = [], [], [], []\n",
    "    for theta in thetas_to_try:\n",
    "        # print(f\"Running for theta = {theta}\")\n",
    "        all_r_pools_trt_counters, all_r_pools_ctl_counters = create_rset_poolings(theta, reg, D=D, y=y, verbose=False)\n",
    "        for num_trees in num_trees_to_try:\n",
    "            # print(f\"Running for num_trees = {num_trees}\")\n",
    "\n",
    "            est = CausalForest(criterion=\"het\", n_estimators=num_trees,\n",
    "                            min_samples_leaf=10,\n",
    "                            # max_depth=None,\n",
    "                            min_samples_split=10,\n",
    "                            random_state=3,\n",
    "                            )\n",
    "            \n",
    "            est.fit(X_cf, T, y_0d)\n",
    "            trees = est.estimators_\n",
    "\n",
    "            crf_trees = []\n",
    "            for i in range(len(trees)):\n",
    "                crf_trees.append(traverse(create_dict_rep(trees[i])))\n",
    "\n",
    "            all_pools_crf_counters = {}\n",
    "\n",
    "            for tree_idx in range(len(crf_trees)):\n",
    "                c = Counter()\n",
    "                for value in crf_trees[tree_idx]:\n",
    "                    to_add = tuple(sorted(value))\n",
    "                    c.update([to_add])\n",
    "                all_pools_crf_counters[tree_idx] = c\n",
    "\n",
    "            intersection_trt, intersection_ctl = [], []\n",
    "\n",
    "            for key, pool in tqdm(all_pools_crf_counters.items()):\n",
    "                if pool in all_r_pools_trt_counters.values():\n",
    "                    intersection_trt.append(pool)\n",
    "                if pool in all_r_pools_ctl_counters.values():\n",
    "                    intersection_ctl.append(pool)\n",
    "\n",
    "            num_trt_intersections, num_ctl_intersections = len(intersection_trt), len(intersection_ctl)\n",
    "\n",
    "            permissibility = [is_permissible(crf_trees[i], crf_R) for i in range(len(crf_trees))]\n",
    "            permissible_trees_idx = [i for i, e in enumerate(permissibility) if e != 0]\n",
    "            num_permissible_trees = len(permissible_trees_idx)\n",
    "\n",
    "            parameters.append((theta, num_trees))\n",
    "            trt_intersections.append(num_trt_intersections)\n",
    "            ctl_intersections.append(num_ctl_intersections)\n",
    "            permissible_trees.append(num_permissible_trees)\n",
    "            size_of_r_sets.append(len(all_r_pools_trt_counters))\n",
    "\n",
    "    size_of_r_sets = np.array(size_of_r_sets).reshape((len(thetas_to_try), len(num_trees_to_try)))\n",
    "    trt_intersections = np.array(trt_intersections).reshape((len(thetas_to_try), len(num_trees_to_try)))\n",
    "    ctl_intersections = np.array(ctl_intersections).reshape((len(thetas_to_try), len(num_trees_to_try)))\n",
    "    permissible_trees = np.array(permissible_trees).reshape((len(thetas_to_try), len(num_trees_to_try)))\n",
    "\n",
    "    return trt_intersections, ctl_intersections, permissible_trees, size_of_r_sets\n",
    "\n",
    "# Runs sims for a given number of times\n",
    "def run_sims(num_trees_to_try, multipliers_to_try, num_times=100):\n",
    "    \n",
    "    parameters = list(product(multipliers_to_try, num_trees_to_try))\n",
    "\n",
    "    for i in range(1, num_times + 1):\n",
    "        print(f\"\\n\\nRunning Iteration {i}\")\n",
    "        np.random.seed(i)\n",
    "\n",
    "        n_per_pol = 10\n",
    "\n",
    "        # Generate data\n",
    "        X, D, y, mu_true = generate_data(mu, var, n_per_pol, all_policies, pi_policies, M)\n",
    "\n",
    "        D_matrix = hasse.get_dummy_matrix(D, G, num_policies)\n",
    "        y_0d = y.reshape((-1,))\n",
    "        X_cf = X[:, feature_idx]\n",
    "        T = np.zeros(shape=y.shape)\n",
    "        T[X[:, trt_arm_idx] > 0] = 1\n",
    "\n",
    "        # Generate Thetas to Use\n",
    "        thetas_to_try = produce_thetas_to_try(multipliers_to_try, D_matrix, D, y)\n",
    "\n",
    "        # Produce statistics for this run\n",
    "        trt_intersections_run, ctl_intersections_run, permissible_trees_run, size_of_r_sets_run = produce_crf_counter(num_trees_to_try, thetas_to_try, D, y, X_cf, T, y_0d, parameters)\n",
    "\n",
    "        if i == 1:\n",
    "            trt_intersections = trt_intersections_run\n",
    "            ctl_intersections = ctl_intersections_run\n",
    "            permissible_trees = permissible_trees_run\n",
    "            size_of_r_sets = size_of_r_sets_run\n",
    "        else:\n",
    "            trt_intersections = (i - 1) / i * trt_intersections + 1 / i * trt_intersections_run\n",
    "            ctl_intersections = (i - 1) / i * ctl_intersections + 1 / i * ctl_intersections_run\n",
    "            permissible_trees = (i - 1) / i * permissible_trees + 1 / i * permissible_trees_run\n",
    "            size_of_r_sets =  (i - 1) / i * size_of_r_sets + 1 / i * size_of_r_sets_run\n",
    "\n",
    "    return trt_intersections, ctl_intersections, permissible_trees, size_of_r_sets, parameters\n",
    "\n",
    "        \n",
    "trt_intersections, ctl_intersections, permissible_trees, size_of_r_sets, parameters = run_sims(num_trees_to_try, multipliers_to_try, 100)"
   ]
  },
  {
   "cell_type": "code",
   "execution_count": 22,
   "id": "d136ffce",
   "metadata": {},
   "outputs": [
    {
     "name": "stdout",
     "output_type": "stream",
     "text": [
      "Average Intersection with Treatment: [[ 0.    0.    0.  ]\n",
      " [ 0.    0.    0.  ]\n",
      " [ 0.52  1.15  4.24]\n",
      " [ 1.29  2.67 10.32]]\n",
      "Average Intersection with Control: [[0. 0. 0.]\n",
      " [0. 0. 0.]\n",
      " [0. 0. 0.]\n",
      " [0. 0. 0.]]\n",
      "Average Number of Permissible Trees: [[ 1.29  2.67 10.32]\n",
      " [ 1.29  2.67 10.32]\n",
      " [ 1.29  2.67 10.32]\n",
      " [ 1.29  2.67 10.32]]\n",
      "Average Size of Rashomon Set: [[  7.46   7.46   7.46]\n",
      " [ 46.6   46.6   46.6 ]\n",
      " [126.54 126.54 126.54]\n",
      " [823.81 823.81 823.81]]\n",
      "Order of Parameters Considered: [(1.1, 20), (1.1, 100), (1.1, 500), (1.2, 20), (1.2, 100), (1.2, 500), (1.3, 20), (1.3, 100), (1.3, 500), (1.5, 20), (1.5, 100), (1.5, 500), (1.9538519297075907, 20), (1.9538519297075907, 100), (1.9538519297075907, 500), (2.1314748324082804, 20), (2.1314748324082804, 100), (2.1314748324082804, 500), (2.309097735108971, 20), (2.309097735108971, 100), (2.309097735108971, 500), (2.664343540510351, 20), (2.664343540510351, 100), (2.664343540510351, 500), (1.9615380383456924, 20), (1.9615380383456924, 100), (1.9615380383456924, 500), (2.1398596781953003, 20), (2.1398596781953003, 100), (2.1398596781953003, 500), (2.318181318044909, 20), (2.318181318044909, 100), (2.318181318044909, 500), (2.674824597744126, 20), (2.674824597744126, 100), (2.674824597744126, 500), (1.9652329493311298, 20), (1.9652329493311298, 100), (1.9652329493311298, 500), (2.1438904901794142, 20), (2.1438904901794142, 100), (2.1438904901794142, 500), (2.322548031027699, 20), (2.322548031027699, 100), (2.322548031027699, 500), (2.679863112724268, 20), (2.679863112724268, 100), (2.679863112724268, 500), (1.8971592215014832, 20), (1.8971592215014832, 100), (1.8971592215014832, 500), (2.0696282416379814, 20), (2.0696282416379814, 100), (2.0696282416379814, 500), (2.24209726177448, 20), (2.24209726177448, 100), (2.24209726177448, 500), (2.587035302047477, 20), (2.587035302047477, 100), (2.587035302047477, 500), (1.9578722240227033, 20), (1.9578722240227033, 100), (1.9578722240227033, 500), (2.135860608024767, 20), (2.135860608024767, 100), (2.135860608024767, 500), (2.313848992026831, 20), (2.313848992026831, 100), (2.313848992026831, 500), (2.6698257600309585, 20), (2.6698257600309585, 100), (2.6698257600309585, 500), (1.9138260036606682, 20), (1.9138260036606682, 100), (1.9138260036606682, 500), (2.087810185811638, 20), (2.087810185811638, 100), (2.087810185811638, 500), (2.2617943679626076, 20), (2.2617943679626076, 100), (2.2617943679626076, 500), (2.6097627322645476, 20), (2.6097627322645476, 100), (2.6097627322645476, 500), (1.8985743172099425, 20), (1.8985743172099425, 100), (1.8985743172099425, 500), (2.071171982410846, 20), (2.071171982410846, 100), (2.071171982410846, 500), (2.24376964761175, 20), (2.24376964761175, 100), (2.24376964761175, 500), (2.588964978013558, 20), (2.588964978013558, 100), (2.588964978013558, 500), (1.9787718796998695, 20), (1.9787718796998695, 100), (1.9787718796998695, 500), (2.1586602323998574, 20), (2.1586602323998574, 100), (2.1586602323998574, 500), (2.3385485850998453, 20), (2.3385485850998453, 100), (2.3385485850998453, 500), (2.6983252904998216, 20), (2.6983252904998216, 100), (2.6983252904998216, 500), (2.010071718575194, 20), (2.010071718575194, 100), (2.010071718575194, 500), (2.1928055111729385, 20), (2.1928055111729385, 100), (2.1928055111729385, 500), (2.3755393037706836, 20), (2.3755393037706836, 100), (2.3755393037706836, 500), (2.741006888966173, 20), (2.741006888966173, 100), (2.741006888966173, 500), (1.8899637891771157, 20), (1.8899637891771157, 100), (1.8899637891771157, 500), (2.0617786791023076, 20), (2.0617786791023076, 100), (2.0617786791023076, 500), (2.2335935690275, 20), (2.2335935690275, 100), (2.2335935690275, 500), (2.577223348877885, 20), (2.577223348877885, 100), (2.577223348877885, 500), (1.9961863041440522, 20), (1.9961863041440522, 100), (1.9961863041440522, 500), (2.177657786338966, 20), (2.177657786338966, 100), (2.177657786338966, 500), (2.35912926853388, 20), (2.35912926853388, 100), (2.35912926853388, 500), (2.7220722329237073, 20), (2.7220722329237073, 100), (2.7220722329237073, 500), (2.028828533865017, 20), (2.028828533865017, 100), (2.028828533865017, 500), (2.213267491489109, 20), (2.213267491489109, 100), (2.213267491489109, 500), (2.3977064491132016, 20), (2.3977064491132016, 100), (2.3977064491132016, 500), (2.7665843643613863, 20), (2.7665843643613863, 100), (2.7665843643613863, 500), (1.9913213747426122, 20), (1.9913213747426122, 100), (1.9913213747426122, 500), (2.172350590628304, 20), (2.172350590628304, 100), (2.172350590628304, 500), (2.3533798065139964, 20), (2.3533798065139964, 100), (2.3533798065139964, 500), (2.71543823828538, 20), (2.71543823828538, 100), (2.71543823828538, 500), (2.000057618277398, 20), (2.000057618277398, 100), (2.000057618277398, 500), (2.181881038120798, 20), (2.181881038120798, 100), (2.181881038120798, 500), (2.363704457964198, 20), (2.363704457964198, 100), (2.363704457964198, 500), (2.7273512976509973, 20), (2.7273512976509973, 100), (2.7273512976509973, 500), (1.9557778016668204, 20), (1.9557778016668204, 100), (1.9557778016668204, 500), (2.133575783636531, 20), (2.133575783636531, 100), (2.133575783636531, 500), (2.311373765606242, 20), (2.311373765606242, 100), (2.311373765606242, 500), (2.666969729545664, 20), (2.666969729545664, 100), (2.666969729545664, 500), (1.999188818843542, 20), (1.999188818843542, 100), (1.999188818843542, 500), (2.1809332569202273, 20), (2.1809332569202273, 100), (2.1809332569202273, 500), (2.3626776949969135, 20), (2.3626776949969135, 100), (2.3626776949969135, 500), (2.7261665711502845, 20), (2.7261665711502845, 100), (2.7261665711502845, 500), (2.020478642607833, 20), (2.020478642607833, 100), (2.020478642607833, 500), (2.2041585192085447, 20), (2.2041585192085447, 100), (2.2041585192085447, 500), (2.387838395809257, 20), (2.387838395809257, 100), (2.387838395809257, 500), (2.7551981490106807, 20), (2.7551981490106807, 100), (2.7551981490106807, 500), (2.055913428114843, 20), (2.055913428114843, 100), (2.055913428114843, 500), (2.2428146488525558, 20), (2.2428146488525558, 100), (2.2428146488525558, 500), (2.429715869590269, 20), (2.429715869590269, 100), (2.429715869590269, 500), (2.8035183110656945, 20), (2.8035183110656945, 100), (2.8035183110656945, 500), (1.9876535349228515, 20), (1.9876535349228515, 100), (1.9876535349228515, 500), (2.1683493108249285, 20), (2.1683493108249285, 100), (2.1683493108249285, 500), (2.3490450867270063, 20), (2.3490450867270063, 100), (2.3490450867270063, 500), (2.710436638531161, 20), (2.710436638531161, 100), (2.710436638531161, 500), (1.933315464076884, 20), (1.933315464076884, 100), (1.933315464076884, 500), (2.1090714153566004, 20), (2.1090714153566004, 100), (2.1090714153566004, 500), (2.2848273666363172, 20), (2.2848273666363172, 100), (2.2848273666363172, 500), (2.6363392691957506, 20), (2.6363392691957506, 100), (2.6363392691957506, 500), (1.948805404209687, 20), (1.948805404209687, 100), (1.948805404209687, 500), (2.125969531865113, 20), (2.125969531865113, 100), (2.125969531865113, 500), (2.303133659520539, 20), (2.303133659520539, 100), (2.303133659520539, 500), (2.6574619148313907, 20), (2.6574619148313907, 100), (2.6574619148313907, 500), (2.0256759140346037, 20), (2.0256759140346037, 100), (2.0256759140346037, 500), (2.2098282698559313, 20), (2.2098282698559313, 100), (2.2098282698559313, 500), (2.393980625677259, 20), (2.393980625677259, 100), (2.393980625677259, 500), (2.762285337319914, 20), (2.762285337319914, 100), (2.762285337319914, 500), (1.9158360802805618, 20), (1.9158360802805618, 100), (1.9158360802805618, 500), (2.0900029966697034, 20), (2.0900029966697034, 100), (2.0900029966697034, 500), (2.2641699130588457, 20), (2.2641699130588457, 100), (2.2641699130588457, 500), (2.6125037458371296, 20), (2.6125037458371296, 100), (2.6125037458371296, 500), (1.9930294578246968, 20), (1.9930294578246968, 100), (1.9930294578246968, 500), (2.174213953990578, 20), (2.174213953990578, 100), (2.174213953990578, 500), (2.3553984501564598, 20), (2.3553984501564598, 100), (2.3553984501564598, 500), (2.7177674424882223, 20), (2.7177674424882223, 100), (2.7177674424882223, 500), (2.0131404599398044, 20), (2.0131404599398044, 100), (2.0131404599398044, 500), (2.196153229025241, 20), (2.196153229025241, 100), (2.196153229025241, 500), (2.379165998110678, 20), (2.379165998110678, 100), (2.379165998110678, 500), (2.7451915362815513, 20), (2.7451915362815513, 100), (2.7451915362815513, 500), (1.9477120205613825, 20), (1.9477120205613825, 100), (1.9477120205613825, 500), (2.124776749703326, 20), (2.124776749703326, 100), (2.124776749703326, 500), (2.30184147884527, 20), (2.30184147884527, 100), (2.30184147884527, 500), (2.6559709371291578, 20), (2.6559709371291578, 100), (2.6559709371291578, 500), (2.0118602210157714, 20), (2.0118602210157714, 100), (2.0118602210157714, 500), (2.1947566047444775, 20), (2.1947566047444775, 100), (2.1947566047444775, 500), (2.377652988473184, 20), (2.377652988473184, 100), (2.377652988473184, 500), (2.743445755930597, 20), (2.743445755930597, 100), (2.743445755930597, 500), (1.9529706475492181, 20), (1.9529706475492181, 100), (1.9529706475492181, 500), (2.130513433690056, 20), (2.130513433690056, 100), (2.130513433690056, 500), (2.308056219830894, 20), (2.308056219830894, 100), (2.308056219830894, 500), (2.66314179211257, 20), (2.66314179211257, 100), (2.66314179211257, 500), (1.9824275159280391, 20), (1.9824275159280391, 100), (1.9824275159280391, 500), (2.162648199194224, 20), (2.162648199194224, 100), (2.162648199194224, 500), (2.34286888246041, 20), (2.34286888246041, 100), (2.34286888246041, 500), (2.7033102489927803, 20), (2.7033102489927803, 100), (2.7033102489927803, 500), (1.877334412612247, 20), (1.877334412612247, 100), (1.877334412612247, 500), (2.0480011773951783, 20), (2.0480011773951783, 100), (2.0480011773951783, 500), (2.21866794217811, 20), (2.21866794217811, 100), (2.21866794217811, 500), (2.5600014717439734, 20), (2.5600014717439734, 100), (2.5600014717439734, 500), (1.983769187687693, 20), (1.983769187687693, 100), (1.983769187687693, 500), (2.1641118411138467, 20), (2.1641118411138467, 100), (2.1641118411138467, 500), (2.3444544945400008, 20), (2.3444544945400008, 100), (2.3444544945400008, 500), (2.7051398013923085, 20), (2.7051398013923085, 100), (2.7051398013923085, 500), (1.9282020489609852, 20), (1.9282020489609852, 100), (1.9282020489609852, 500), (2.1034931443210745, 20), (2.1034931443210745, 100), (2.1034931443210745, 500), (2.278784239681164, 20), (2.278784239681164, 100), (2.278784239681164, 500), (2.629366430401343, 20), (2.629366430401343, 100), (2.629366430401343, 500), (1.9180128030019044, 20), (1.9180128030019044, 100), (1.9180128030019044, 500), (2.0923776032748043, 20), (2.0923776032748043, 100), (2.0923776032748043, 500), (2.266742403547705, 20), (2.266742403547705, 100), (2.266742403547705, 500), (2.6154720040935056, 20), (2.6154720040935056, 100), (2.6154720040935056, 500), (1.9152363554158665, 20), (1.9152363554158665, 100), (1.9152363554158665, 500), (2.0893487513627633, 20), (2.0893487513627633, 100), (2.0893487513627633, 500), (2.2634611473096604, 20), (2.2634611473096604, 100), (2.2634611473096604, 500), (2.611685939203454, 20), (2.611685939203454, 100), (2.611685939203454, 500), (1.9793191632572618, 20), (1.9793191632572618, 100), (1.9793191632572618, 500), (2.1592572690079215, 20), (2.1592572690079215, 100), (2.1592572690079215, 500), (2.339195374758582, 20), (2.339195374758582, 100), (2.339195374758582, 500), (2.699071586259902, 20), (2.699071586259902, 100), (2.699071586259902, 500), (1.9781602001759075, 20), (1.9781602001759075, 100), (1.9781602001759075, 500), (2.1579929456464444, 20), (2.1579929456464444, 100), (2.1579929456464444, 500), (2.3378256911169815, 20), (2.3378256911169815, 100), (2.3378256911169815, 500), (2.697491182058055, 20), (2.697491182058055, 100), (2.697491182058055, 500), (1.9230516026911366, 20), (1.9230516026911366, 100), (1.9230516026911366, 500), (2.097874475663058, 20), (2.097874475663058, 100), (2.097874475663058, 500), (2.2726973486349795, 20), (2.2726973486349795, 100), (2.2726973486349795, 500), (2.6223430945788224, 20), (2.6223430945788224, 100), (2.6223430945788224, 500), (1.9365287904823187, 20), (1.9365287904823187, 100), (1.9365287904823187, 500), (2.1125768623443473, 20), (2.1125768623443473, 100), (2.1125768623443473, 500), (2.2886249342063767, 20), (2.2886249342063767, 100), (2.2886249342063767, 500), (2.640721077930434, 20), (2.640721077930434, 100), (2.640721077930434, 500), (2.004738380968925, 20), (2.004738380968925, 100), (2.004738380968925, 500), (2.1869873246933724, 20), (2.1869873246933724, 100), (2.1869873246933724, 500), (2.3692362684178203, 20), (2.3692362684178203, 100), (2.3692362684178203, 500), (2.7337341558667156, 20), (2.7337341558667156, 100), (2.7337341558667156, 500), (1.97282808786218, 20), (1.97282808786218, 100), (1.97282808786218, 500), (2.1521760958496507, 20), (2.1521760958496507, 100), (2.1521760958496507, 500), (2.331524103837122, 20), (2.331524103837122, 100), (2.331524103837122, 500), (2.6902201198120634, 20), (2.6902201198120634, 100), (2.6902201198120634, 500), (1.9938365255212547, 20), (1.9938365255212547, 100), (1.9938365255212547, 500), (2.175094391477732, 20), (2.175094391477732, 100), (2.175094391477732, 500), (2.3563522574342097, 20), (2.3563522574342097, 100), (2.3563522574342097, 500), (2.7188679893471654, 20), (2.7188679893471654, 100), (2.7188679893471654, 500), (1.9349434796587912, 20), (1.9349434796587912, 100), (1.9349434796587912, 500), (2.110847432355045, 20), (2.110847432355045, 100), (2.110847432355045, 500), (2.2867513850512986, 20), (2.2867513850512986, 100), (2.2867513850512986, 500), (2.638559290443806, 20), (2.638559290443806, 100), (2.638559290443806, 500), (1.9626490780647745, 20), (1.9626490780647745, 100), (1.9626490780647745, 500), (2.141071721525208, 20), (2.141071721525208, 100), (2.141071721525208, 500), (2.3194943649856428, 20), (2.3194943649856428, 100), (2.3194943649856428, 500), (2.6763396519065106, 20), (2.6763396519065106, 100), (2.6763396519065106, 500), (1.9622460435929694, 20), (1.9622460435929694, 100), (1.9622460435929694, 500), (2.1406320475559664, 20), (2.1406320475559664, 100), (2.1406320475559664, 500), (2.3190180515189636, 20), (2.3190180515189636, 100), (2.3190180515189636, 500), (2.675790059444958, 20), (2.675790059444958, 100), (2.675790059444958, 500), (1.972075728697601, 20), (1.972075728697601, 100), (1.972075728697601, 500), (2.1513553403973824, 20), (2.1513553403973824, 100), (2.1513553403973824, 500), (2.3306349520971645, 20), (2.3306349520971645, 100), (2.3306349520971645, 500), (2.6891941754967283, 20), (2.6891941754967283, 100), (2.6891941754967283, 500), (2.0125243453013484, 20), (2.0125243453013484, 100), (2.0125243453013484, 500), (2.1954811039651068, 20), (2.1954811039651068, 100), (2.1954811039651068, 500), (2.378437862628866, 20), (2.378437862628866, 100), (2.378437862628866, 500), (2.7443513799563837, 20), (2.7443513799563837, 100), (2.7443513799563837, 500), (1.9576419778748715, 20), (1.9576419778748715, 100), (1.9576419778748715, 500), (2.1356094304089503, 20), (2.1356094304089503, 100), (2.1356094304089503, 500), (2.31357688294303, 20), (2.31357688294303, 100), (2.31357688294303, 500), (2.6695117880111883, 20), (2.6695117880111883, 100), (2.6695117880111883, 500), (2.0151773711929915, 20), (2.0151773711929915, 100), (2.0151773711929915, 500), (2.1983753140287177, 20), (2.1983753140287177, 100), (2.1983753140287177, 500), (2.3815732568644443, 20), (2.3815732568644443, 100), (2.3815732568644443, 500), (2.747969142535897, 20), (2.747969142535897, 100), (2.747969142535897, 500), (1.999452486603847, 20), (1.999452486603847, 100), (1.999452486603847, 500), (2.181220894476924, 20), (2.181220894476924, 100), (2.181220894476924, 500), (2.362989302350001, 20), (2.362989302350001, 100), (2.362989302350001, 500), (2.726526118096155, 20), (2.726526118096155, 100), (2.726526118096155, 500), (1.9967137097362198, 20), (1.9967137097362198, 100), (1.9967137097362198, 500), (2.1782331378940576, 20), (2.1782331378940576, 100), (2.1782331378940576, 500), (2.359752566051896, 20), (2.359752566051896, 100), (2.359752566051896, 500), (2.722791422367572, 20), (2.722791422367572, 100), (2.722791422367572, 500), (1.950601966978123, 20), (1.950601966978123, 100), (1.950601966978123, 500), (2.1279294185215885, 20), (2.1279294185215885, 100), (2.1279294185215885, 500), (2.305256870065054, 20), (2.305256870065054, 100), (2.305256870065054, 500), (2.6599117731519852, 20), (2.6599117731519852, 100), (2.6599117731519852, 500), (1.9965288826827763, 20), (1.9965288826827763, 100), (1.9965288826827763, 500), (2.1780315083812103, 20), (2.1780315083812103, 100), (2.1780315083812103, 500), (2.3595341340796443, 20), (2.3595341340796443, 100), (2.3595341340796443, 500), (2.7225393854765128, 20), (2.7225393854765128, 100), (2.7225393854765128, 500), (1.993590115151953, 20), (1.993590115151953, 100), (1.993590115151953, 500), (2.1748255801657668, 20), (2.1748255801657668, 100), (2.1748255801657668, 500), (2.3560610451795805, 20), (2.3560610451795805, 100), (2.3560610451795805, 500), (2.7185319752072084, 20), (2.7185319752072084, 100), (2.7185319752072084, 500), (1.9635437857698923, 20), (1.9635437857698923, 100), (1.9635437857698923, 500), (2.1420477662944277, 20), (2.1420477662944277, 100), (2.1420477662944277, 500), (2.3205517468189636, 20), (2.3205517468189636, 100), (2.3205517468189636, 500), (2.677559707868035, 20), (2.677559707868035, 100), (2.677559707868035, 500), (1.9541767277182926, 20), (1.9541767277182926, 100), (1.9541767277182926, 500), (2.1318291575108645, 20), (2.1318291575108645, 100), (2.1318291575108645, 500), (2.309481587303437, 20), (2.309481587303437, 100), (2.309481587303437, 500), (2.6647864468885807, 20), (2.6647864468885807, 100), (2.6647864468885807, 500), (1.9461120171672128, 20), (1.9461120171672128, 100), (1.9461120171672128, 500), (2.123031291455141, 20), (2.123031291455141, 100), (2.123031291455141, 500), (2.2999505657430697, 20), (2.2999505657430697, 100), (2.2999505657430697, 500), (2.6537891143189265, 20), (2.6537891143189265, 100), (2.6537891143189265, 500), (1.9581400227898995, 20), (1.9581400227898995, 100), (1.9581400227898995, 500), (2.1361527521344357, 20), (2.1361527521344357, 100), (2.1361527521344357, 500), (2.3141654814789723, 20), (2.3141654814789723, 100), (2.3141654814789723, 500), (2.6701909401680446, 20), (2.6701909401680446, 100), (2.6701909401680446, 500), (1.9918232022620292, 20), (1.9918232022620292, 100), (1.9918232022620292, 500), (2.1728980388313044, 20), (2.1728980388313044, 100), (2.1728980388313044, 500), (2.3539728754005798, 20), (2.3539728754005798, 100), (2.3539728754005798, 500), (2.7161225485391305, 20), (2.7161225485391305, 100), (2.7161225485391305, 500), (1.9601118391638532, 20), (1.9601118391638532, 100), (1.9601118391638532, 500), (2.138303824542385, 20), (2.138303824542385, 100), (2.138303824542385, 500), (2.316495809920917, 20), (2.316495809920917, 100), (2.316495809920917, 500), (2.6728797806779814, 20), (2.6728797806779814, 100), (2.6728797806779814, 500), (1.9807804085479979, 20), (1.9807804085479979, 100), (1.9807804085479979, 500), (2.1608513547796337, 20), (2.1608513547796337, 100), (2.1608513547796337, 500), (2.34092230101127, 20), (2.34092230101127, 100), (2.34092230101127, 500), (2.7010641934745423, 20), (2.7010641934745423, 100), (2.7010641934745423, 500), (1.9991611467638555, 20), (1.9991611467638555, 100), (1.9991611467638555, 500), (2.180903069196933, 20), (2.180903069196933, 100), (2.180903069196933, 500), (2.362644991630011, 20), (2.362644991630011, 100), (2.362644991630011, 500), (2.7261288364961667, 20), (2.7261288364961667, 100), (2.7261288364961667, 500), (1.9911123481759585, 20), (1.9911123481759585, 100), (1.9911123481759585, 500), (2.1721225616465, 20), (2.1721225616465, 100), (2.1721225616465, 500), (2.3531327751170417, 20), (2.3531327751170417, 100), (2.3531327751170417, 500), (2.715153202058125, 20), (2.715153202058125, 100), (2.715153202058125, 500), (1.9643200320241383, 20), (1.9643200320241383, 100), (1.9643200320241383, 500), (2.1428945803899686, 20), (2.1428945803899686, 100), (2.1428945803899686, 500), (2.3214691287558, 20), (2.3214691287558, 100), (2.3214691287558, 500), (2.678618225487461, 20), (2.678618225487461, 100), (2.678618225487461, 500), (1.9272713117838016, 20), (1.9272713117838016, 100), (1.9272713117838016, 500), (2.102477794673238, 20), (2.102477794673238, 100), (2.102477794673238, 500), (2.2776842775626744, 20), (2.2776842775626744, 100), (2.2776842775626744, 500), (2.6280972433415473, 20), (2.6280972433415473, 100), (2.6280972433415473, 500), (1.97267885053938, 20), (1.97267885053938, 100), (1.97267885053938, 500), (2.152013291497505, 20), (2.152013291497505, 100), (2.152013291497505, 500), (2.331347732455631, 20), (2.331347732455631, 100), (2.331347732455631, 500), (2.6900166143718813, 20), (2.6900166143718813, 100), (2.6900166143718813, 500), (1.946867442136538, 20), (1.946867442136538, 100), (1.946867442136538, 500), (2.1238553914216776, 20), (2.1238553914216776, 100), (2.1238553914216776, 500), (2.3008433407068174, 20), (2.3008433407068174, 100), (2.3008433407068174, 500), (2.6548192392770966, 20), (2.6548192392770966, 100), (2.6548192392770966, 500), (1.9850294987426806, 20), (1.9850294987426806, 100), (1.9850294987426806, 500), (2.165486725901106, 20), (2.165486725901106, 100), (2.165486725901106, 500), (2.3459439530595314, 20), (2.3459439530595314, 100), (2.3459439530595314, 500), (2.7068584073763824, 20), (2.7068584073763824, 100), (2.7068584073763824, 500), (1.9528190811640225, 20), (1.9528190811640225, 100), (1.9528190811640225, 500), (2.13034808854257, 20), (2.13034808854257, 100), (2.13034808854257, 500), (2.3078770959211172, 20), (2.3078770959211172, 100), (2.3078770959211172, 500), (2.6629351106782124, 20), (2.6629351106782124, 100), (2.6629351106782124, 500), (1.9502872311182242, 20), (1.9502872311182242, 100), (1.9502872311182242, 500), (2.1275860703107896, 20), (2.1275860703107896, 100), (2.1275860703107896, 500), (2.3048849095033557, 20), (2.3048849095033557, 100), (2.3048849095033557, 500), (2.6594825878884873, 20), (2.6594825878884873, 100), (2.6594825878884873, 500), (1.9700154727603316, 20), (1.9700154727603316, 100), (1.9700154727603316, 500), (2.149107788465816, 20), (2.149107788465816, 100), (2.149107788465816, 500), (2.3282001041713007, 20), (2.3282001041713007, 100), (2.3282001041713007, 500), (2.68638473558227, 20), (2.68638473558227, 100), (2.68638473558227, 500), (1.882299393487685, 20), (1.882299393487685, 100), (1.882299393487685, 500), (2.0534175201683835, 20), (2.0534175201683835, 100), (2.0534175201683835, 500), (2.2245356468490822, 20), (2.2245356468490822, 100), (2.2245356468490822, 500), (2.5667719002104796, 20), (2.5667719002104796, 100), (2.5667719002104796, 500), (2.019319607911452, 20), (2.019319607911452, 100), (2.019319607911452, 500), (2.2028941177215837, 20), (2.2028941177215837, 100), (2.2028941177215837, 500), (2.386468627531716, 20), (2.386468627531716, 100), (2.386468627531716, 500), (2.7536176471519798, 20), (2.7536176471519798, 100), (2.7536176471519798, 500), (1.9207659701533195, 20), (1.9207659701533195, 100), (1.9207659701533195, 500), (2.0953810583490755, 20), (2.0953810583490755, 100), (2.0953810583490755, 500), (2.269996146544832, 20), (2.269996146544832, 100), (2.269996146544832, 500), (2.6192263229363446, 20), (2.6192263229363446, 100), (2.6192263229363446, 500), (1.961196162713061, 20), (1.961196162713061, 100), (1.961196162713061, 500), (2.1394867229597025, 20), (2.1394867229597025, 100), (2.1394867229597025, 500), (2.3177772832063446, 20), (2.3177772832063446, 100), (2.3177772832063446, 500), (2.674358403699628, 20), (2.674358403699628, 100), (2.674358403699628, 500), (1.9634330715606816, 20), (1.9634330715606816, 100), (1.9634330715606816, 500), (2.141926987157107, 20), (2.141926987157107, 100), (2.141926987157107, 500), (2.3204209027535327, 20), (2.3204209027535327, 100), (2.3204209027535327, 500), (2.6774087339463835, 20), (2.6774087339463835, 100), (2.6774087339463835, 500), (1.9939693078877259, 20), (1.9939693078877259, 100), (1.9939693078877259, 500), (2.175239244968428, 20), (2.175239244968428, 100), (2.175239244968428, 500), (2.3565091820491304, 20), (2.3565091820491304, 100), (2.3565091820491304, 500), (2.719049056210535, 20), (2.719049056210535, 100), (2.719049056210535, 500), (1.9584234219201633, 20), (1.9584234219201633, 100), (1.9584234219201633, 500), (2.136461914821996, 20), (2.136461914821996, 100), (2.136461914821996, 500), (2.314500407723829, 20), (2.314500407723829, 100), (2.314500407723829, 500), (2.670577393527495, 20), (2.670577393527495, 100), (2.670577393527495, 500), (1.9604087757835784, 20), (1.9604087757835784, 100), (1.9604087757835784, 500), (2.1386277554002673, 20), (2.1386277554002673, 100), (2.1386277554002673, 500), (2.316846735016956, 20), (2.316846735016956, 100), (2.316846735016956, 500), (2.673284694250334, 20), (2.673284694250334, 100), (2.673284694250334, 500), (1.9325915247692869, 20), (1.9325915247692869, 100), (1.9325915247692869, 500), (2.1082816633846764, 20), (2.1082816633846764, 100), (2.1082816633846764, 500), (2.283971802000066, 20), (2.283971802000066, 100), (2.283971802000066, 500), (2.635352079230845, 20), (2.635352079230845, 100), (2.635352079230845, 500), (1.9899518679237684, 20), (1.9899518679237684, 100), (1.9899518679237684, 500), (2.170856583189565, 20), (2.170856583189565, 100), (2.170856583189565, 500), (2.351761298455363, 20), (2.351761298455363, 100), (2.351761298455363, 500), (2.713570728986957, 20), (2.713570728986957, 100), (2.713570728986957, 500), (1.9732004287218512, 20), (1.9732004287218512, 100), (1.9732004287218512, 500), (2.152582285878383, 20), (2.152582285878383, 100), (2.152582285878383, 500), (2.331964143034915, 20), (2.331964143034915, 100), (2.331964143034915, 500), (2.6907278573479787, 20), (2.6907278573479787, 100), (2.6907278573479787, 500), (1.895319378308252, 20), (1.895319378308252, 100), (1.895319378308252, 500), (2.0676211399726383, 20), (2.0676211399726383, 100), (2.0676211399726383, 500), (2.239922901637025, 20), (2.239922901637025, 100), (2.239922901637025, 500), (2.584526424965798, 20), (2.584526424965798, 100), (2.584526424965798, 500), (2.0026108964812153, 20), (2.0026108964812153, 100), (2.0026108964812153, 500), (2.184666432524962, 20), (2.184666432524962, 100), (2.184666432524962, 500), (2.366721968568709, 20), (2.366721968568709, 100), (2.366721968568709, 500), (2.7308330406562025, 20), (2.7308330406562025, 100), (2.7308330406562025, 500), (2.0007690506668854, 20), (2.0007690506668854, 100), (2.0007690506668854, 500), (2.1826571461820565, 20), (2.1826571461820565, 100), (2.1826571461820565, 500), (2.364545241697228, 20), (2.364545241697228, 100), (2.364545241697228, 500), (2.728321432727571, 20), (2.728321432727571, 100), (2.728321432727571, 500), (1.9660623032790403, 20), (1.9660623032790403, 100), (1.9660623032790403, 500), (2.144795239940771, 20), (2.144795239940771, 100), (2.144795239940771, 500), (2.323528176602502, 20), (2.323528176602502, 100), (2.323528176602502, 500), (2.680994049925964, 20), (2.680994049925964, 100), (2.680994049925964, 500), (1.9422404110413671, 20), (1.9422404110413671, 100), (1.9422404110413671, 500), (2.1188077211360365, 20), (2.1188077211360365, 100), (2.1188077211360365, 500), (2.2953750312307064, 20), (2.2953750312307064, 100), (2.2953750312307064, 500), (2.6485096514200457, 20), (2.6485096514200457, 100), (2.6485096514200457, 500), (1.9196580549929332, 20), (1.9196580549929332, 100), (1.9196580549929332, 500), (2.0941724236286543, 20), (2.0941724236286543, 100), (2.0941724236286543, 500), (2.2686867922643756, 20), (2.2686867922643756, 100), (2.2686867922643756, 500), (2.617715529535818, 20), (2.617715529535818, 100), (2.617715529535818, 500), (1.9418307857165953, 20), (1.9418307857165953, 100), (1.9418307857165953, 500), (2.1183608571453765, 20), (2.1183608571453765, 100), (2.1183608571453765, 500), (2.2948909285741577, 20), (2.2948909285741577, 100), (2.2948909285741577, 500), (2.6479510714317205, 20), (2.6479510714317205, 100), (2.6479510714317205, 500), (1.9517495549585882, 20), (1.9517495549585882, 100), (1.9517495549585882, 500), (2.129181332682096, 20), (2.129181332682096, 100), (2.129181332682096, 500), (2.3066131104056042, 20), (2.3066131104056042, 100), (2.3066131104056042, 500), (2.66147666585262, 20), (2.66147666585262, 100), (2.66147666585262, 500), (2.028206816392425, 20), (2.028206816392425, 100), (2.028206816392425, 500), (2.2125892542462817, 20), (2.2125892542462817, 100), (2.2125892542462817, 500), (2.3969716921001387, 20), (2.3969716921001387, 100), (2.3969716921001387, 500), (2.7657365678078523, 20), (2.7657365678078523, 100), (2.7657365678078523, 500), (1.9499619020997865, 20), (1.9499619020997865, 100), (1.9499619020997865, 500), (2.1272311659270393, 20), (2.1272311659270393, 100), (2.1272311659270393, 500), (2.304500429754293, 20), (2.304500429754293, 100), (2.304500429754293, 500), (2.6590389574087996, 20), (2.6590389574087996, 100), (2.6590389574087996, 500), (1.940514433146299, 20), (1.940514433146299, 100), (1.940514433146299, 500), (2.1169248361595985, 20), (2.1169248361595985, 100), (2.1169248361595985, 500), (2.2933352391728987, 20), (2.2933352391728987, 100), (2.2933352391728987, 500), (2.6461560451994983, 20), (2.6461560451994983, 100), (2.6461560451994983, 500), (1.9421503682987953, 20), (1.9421503682987953, 100), (1.9421503682987953, 500), (2.1187094926895944, 20), (2.1187094926895944, 100), (2.1187094926895944, 500), (2.2952686170803944, 20), (2.2952686170803944, 100), (2.2952686170803944, 500), (2.648386865861993, 20), (2.648386865861993, 100), (2.648386865861993, 500), (1.9318259931446402, 20), (1.9318259931446402, 100), (1.9318259931446402, 500), (2.107446537975971, 20), (2.107446537975971, 100), (2.107446537975971, 500), (2.283067082807302, 20), (2.283067082807302, 100), (2.283067082807302, 500), (2.6343081724699635, 20), (2.6343081724699635, 100), (2.6343081724699635, 500), (1.9596939883374787, 20), (1.9596939883374787, 100), (1.9596939883374787, 500), (2.137847987277249, 20), (2.137847987277249, 100), (2.137847987277249, 500), (2.31600198621702, 20), (2.31600198621702, 100), (2.31600198621702, 500), (2.672309984096562, 20), (2.672309984096562, 100), (2.672309984096562, 500), (1.9462944399954403, 20), (1.9462944399954403, 100), (1.9462944399954403, 500), (2.1232302981768436, 20), (2.1232302981768436, 100), (2.1232302981768436, 500), (2.3001661563582476, 20), (2.3001661563582476, 100), (2.3001661563582476, 500), (2.6540378727210547, 20), (2.6540378727210547, 100), (2.6540378727210547, 500), (1.9689696337672589, 20), (1.9689696337672589, 100), (1.9689696337672589, 500), (2.147966873200646, 20), (2.147966873200646, 100), (2.147966873200646, 500), (2.326964112634033, 20), (2.326964112634033, 100), (2.326964112634033, 500), (2.6849585915008074, 20), (2.6849585915008074, 100), (2.6849585915008074, 500), (1.9867474078829854, 20), (1.9867474078829854, 100), (1.9867474078829854, 500), (2.16736080859962, 20), (2.16736080859962, 100), (2.16736080859962, 500), (2.3479742093162557, 20), (2.3479742093162557, 100), (2.3479742093162557, 500), (2.7092010107495255, 20), (2.7092010107495255, 100), (2.7092010107495255, 500), (1.9778859011169272, 20), (1.9778859011169272, 100), (1.9778859011169272, 500), (2.157693710309375, 20), (2.157693710309375, 100), (2.157693710309375, 500), (2.337501519501823, 20), (2.337501519501823, 100), (2.337501519501823, 500), (2.697117137886719, 20), (2.697117137886719, 100), (2.697117137886719, 500), (2.0367770124635456, 20), (2.0367770124635456, 100), (2.0367770124635456, 500), (2.2219385590511407, 20), (2.2219385590511407, 100), (2.2219385590511407, 500), (2.4071001056387358, 20), (2.4071001056387358, 100), (2.4071001056387358, 500), (2.777423198813926, 20), (2.777423198813926, 100), (2.777423198813926, 500)]\n"
     ]
    }
   ],
   "source": [
    "print(\"Average Intersection with Treatment:\", trt_intersections)\n",
    "print(\"Average Intersection with Control:\", ctl_intersections)\n",
    "print(\"Average Number of Permissible Trees:\", permissible_trees)\n",
    "print(\"Average Size of Rashomon Set:\", size_of_r_sets)\n",
    "print(\"Order of Parameters Considered:\", parameters)"
   ]
  },
  {
   "cell_type": "markdown",
   "id": "c714815f-62da-42f9-8ed5-26e7225e160f",
   "metadata": {},
   "source": [
    "## LASSO"
   ]
  },
  {
   "cell_type": "markdown",
   "id": "b12f3eb3",
   "metadata": {},
   "source": [
    "This section uses LASSO in order to get an idea of a reasonable threshold for pruning the RPS."
   ]
  },
  {
   "cell_type": "code",
   "execution_count": 101,
   "id": "ab416e32-535d-40ac-bdf0-45521ce21ef3",
   "metadata": {},
   "outputs": [
    {
     "name": "stdout",
     "output_type": "stream",
     "text": [
      "2.2421820501307677\n",
      "2.2428753174251383\n"
     ]
    }
   ],
   "source": [
    "lasso_reg = 1e-1\n",
    "\n",
    "\n",
    "lasso = linear_model.Lasso(lasso_reg, fit_intercept=False)\n",
    "lasso.fit(D_matrix, y)\n",
    "# lasso.fit(X_trt_subset, y_trt_subset)\n",
    "alpha_est = lasso.coef_\n",
    "y_tva = lasso.predict(D_matrix)\n",
    "\n",
    "sqrd_err = mean_squared_error(y, y_tva)\n",
    "print(sqrd_err)\n",
    "\n",
    "lasso_loss = sqrd_err + 1e-4 * np.linalg.norm(alpha_est, ord=1)\n",
    "print(lasso_loss)\n",
    "\n",
    "# y_tva = lasso.predict(D_matrix_trt_subset)\n",
    "# # y_tva = lasso.predict(X_trt_subset)\n",
    "\n",
    "# tva_results = metrics.compute_all_metrics(\n",
    "#                     y_trt_subset, y_tva,\n",
    "#     D_trt_subset, true_best, all_policies, profile_map, min_dosage_best_policy, true_best_effect)"
   ]
  }
 ],
 "metadata": {
  "kernelspec": {
   "display_name": "Python 3 (ipykernel)",
   "language": "python",
   "name": "python3"
  },
  "language_info": {
   "codemirror_mode": {
    "name": "ipython",
    "version": 3
   },
   "file_extension": ".py",
   "mimetype": "text/x-python",
   "name": "python",
   "nbconvert_exporter": "python",
   "pygments_lexer": "ipython3",
   "version": "3.11.3"
  }
 },
 "nbformat": 4,
 "nbformat_minor": 5
}
