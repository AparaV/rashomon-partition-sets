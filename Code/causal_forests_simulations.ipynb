{
 "cells": [
  {
   "cell_type": "code",
   "execution_count": 95,
   "id": "bac1b705-354d-4e6a-bb30-b57d053e442f",
   "metadata": {},
   "outputs": [],
   "source": [
    "import numpy as np\n",
    "import matplotlib.pyplot as plt\n",
    "import pandas as pd\n",
    "\n",
    "%matplotlib inline"
   ]
  },
  {
   "cell_type": "code",
   "execution_count": 96,
   "id": "9a8afb99-5c36-4460-838b-47e4e409508c",
   "metadata": {},
   "outputs": [
    {
     "name": "stdout",
     "output_type": "stream",
     "text": [
      "The autoreload extension is already loaded. To reload it, use:\n",
      "  %reload_ext autoreload\n"
     ]
    }
   ],
   "source": [
    "import pickle\n",
    "import econml\n",
    "import itertools\n",
    "from collections import Counter\n",
    "from tqdm import tqdm\n",
    "\n",
    "from rashomon import tva\n",
    "from rashomon import loss\n",
    "from rashomon import counter\n",
    "from rashomon import metrics\n",
    "from rashomon import extract_pools\n",
    "from rashomon.aggregate import (RAggregate_profile, RAggregate,\n",
    "    find_profile_lower_bound, find_feasible_combinations, remove_unused_poolings, subset_data)\n",
    "from rashomon.sets import RashomonSet, RashomonProblemCache, RashomonSubproblemCache\n",
    "from rashomon.aggregate import find_te_het_partitions\n",
    "\n",
    "from econml.grf import CausalForest\n",
    "from sklearn.metrics import mean_squared_error, confusion_matrix\n",
    "from sklearn import linear_model\n",
    "\n",
    "from copy import deepcopy\n",
    "\n",
    "%load_ext autoreload\n",
    "%autoreload 2"
   ]
  },
  {
   "cell_type": "code",
   "execution_count": 97,
   "id": "d7fb161c-7264-4757-a431-03ca8d65538b",
   "metadata": {},
   "outputs": [],
   "source": [
    "def generate_data(mu, var, n_per_pol, all_policies, pi_policies, M):\n",
    "    num_data = num_policies * n_per_pol\n",
    "    X = np.zeros(shape=(num_data, M))\n",
    "    D = np.zeros(shape=(num_data, 1), dtype='int_')\n",
    "    y = np.zeros(shape=(num_data, 1))  + np.inf\n",
    "    mu_true = np.zeros(shape=(num_data, 1))\n",
    "\n",
    "    idx_ctr = 0\n",
    "    for k, profile in enumerate(profiles):\n",
    "        policies_k = policies_profiles[k]\n",
    "\n",
    "        for idx, policy in enumerate(policies_k):\n",
    "            policy_idx = [i for i, x in enumerate(all_policies) if x == policy]\n",
    "            \n",
    "            if pi_policies[k] is None and np.isnan(mu[k]):\n",
    "                continue\n",
    "                \n",
    "            pool_id = pi_policies[k][idx]\n",
    "            mu_i = mu[k][pool_id]\n",
    "            var_i = var[k][pool_id]\n",
    "            y_i = np.random.normal(mu_i, var_i, size=(n_per_pol, 1))\n",
    "\n",
    "            start_idx = idx_ctr * n_per_pol\n",
    "            end_idx = (idx_ctr + 1) * n_per_pol\n",
    "\n",
    "            X[start_idx:end_idx, ] = policy\n",
    "            D[start_idx:end_idx, ] = policy_idx[0]\n",
    "            y[start_idx:end_idx, ] = y_i\n",
    "            mu_true[start_idx:end_idx, ] = mu_i\n",
    "\n",
    "            idx_ctr += 1\n",
    "\n",
    "    absent_idx = np.where(np.isinf(y))[0]\n",
    "    X = np.delete(X, absent_idx, 0)\n",
    "    y = np.delete(y, absent_idx, 0)\n",
    "    D = np.delete(D, absent_idx, 0)\n",
    "    mu_true = np.delete(mu_true, absent_idx, 0)\n",
    "\n",
    "    return X, D, y, mu_true"
   ]
  },
  {
   "cell_type": "markdown",
   "id": "ad2a5645-0e7c-433d-bd17-912ffa483778",
   "metadata": {},
   "source": [
    "# Setup\n",
    "\n",
    "## Parameters"
   ]
  },
  {
   "cell_type": "markdown",
   "id": "c6448e88",
   "metadata": {},
   "source": [
    "We set up all the parameters of the simulation as well as the encodings of profiles, policies, treatment, etc. below."
   ]
  },
  {
   "cell_type": "code",
   "execution_count": 98,
   "id": "7506afbd-bf05-4f34-9f35-c6d3bdfe11a7",
   "metadata": {},
   "outputs": [],
   "source": [
    "M = 4\n",
    "R = np.array([2, 4, 5, 5])\n",
    "\n",
    "\n",
    "# (0, 1, 1, 1)\n",
    "sigma_0 = np.array([[1, 1, 1],\n",
    "                    [1, 1, 1],\n",
    "                    [1, 1, 1]\n",
    "                   ])\n",
    "mu_0 = np.array([0])\n",
    "var_0 = np.array([0])\n",
    "\n",
    "# (1, 1, 1)\n",
    "sigma_1 = np.array([[np.inf, np.inf, np.inf],\n",
    "                    [0, 0, np.inf],\n",
    "                    [1, 0, 1],\n",
    "                    [1, 1, 0],\n",
    "                   ])\n",
    "mu_1 = np.array([2, 4, 2, 0, 3, 5, 7, 1, 1, -1, -1, -2])\n",
    "var_1 = np.array([1, 1, 1, 1, 1, 1, 1, 1, 1, 1, 1, 1])\n",
    "\n",
    "\n",
    "interested_profiles = [(0, 1, 1, 1), (1, 1, 1, 1)]\n",
    "\n",
    "sigma_tmp = [sigma_0, sigma_1]\n",
    "mu_tmp = [mu_0, mu_1]\n",
    "var_tmp = [var_0, var_1]"
   ]
  },
  {
   "cell_type": "markdown",
   "id": "8cd707c6-f3b0-4840-ace8-0c05bba86f8a",
   "metadata": {},
   "source": [
    "\\begin{align*}\n",
    "    \\text{Control} & \\\\\n",
    "    (0,\\ 1:3,\\  1:4,\\  1:4) &= 0 \\\\\n",
    "    \\text{Treatment} & \\\\\n",
    "    (1,\\  1,\\  1:2,\\  1:3) &= 2 \\\\\n",
    "    (1,\\  1,\\  1:2,\\  4) &= 4 \\\\\n",
    "    (1,\\  1,\\  3:4,\\  1:3) &= 2 \\\\\n",
    "    (1,\\  1,\\  3:4,\\  4) &= 0 \\\\\n",
    "    (1,\\  2,\\  1:2,\\  1:3) &= 3 \\\\\n",
    "    (1,\\  2,\\  1:2,\\  4) &= 5 \\\\\n",
    "    (1,\\  2,\\  3:4,\\  1:3) &= 7 \\\\\n",
    "    (1,\\  2,\\  3:4,\\  4) &= 1 \\\\\n",
    "    (1,\\  3,\\  1:2,\\  1:3) &= 1 \\\\\n",
    "    (1,\\  3,\\  1:2,\\  4) &= -1 \\\\\n",
    "    (1,\\  3,\\  3:4,\\  1:3) &= -1 \\\\\n",
    "    (1,\\  3,\\  3:4,\\  4) &= -2\n",
    "\\end{align*}"
   ]
  },
  {
   "cell_type": "code",
   "execution_count": 99,
   "id": "77f419b2-b595-462e-a53a-8c5caba75fa6",
   "metadata": {},
   "outputs": [],
   "source": [
    "num_profiles = 2**M\n",
    "profiles, profile_map = tva.enumerate_profiles(M)\n",
    "all_policies = tva.enumerate_policies(M, R)\n",
    "num_policies = len(all_policies)\n",
    "\n",
    "interested_profile_idx = []\n",
    "sigma = []\n",
    "mu = []\n",
    "var = []\n",
    "for k, profile in enumerate(profiles):\n",
    "    sigma_k = None\n",
    "    mu_k = np.nan\n",
    "    var_k =  np.nan\n",
    "    for i, p in enumerate(interested_profiles):\n",
    "        if p == profile:\n",
    "            sigma_k = sigma_tmp[i]\n",
    "            mu_k = mu_tmp[i]\n",
    "            var_k = var_tmp[i]\n",
    "            break\n",
    "    sigma.append(sigma_k)\n",
    "    mu.append(mu_k)\n",
    "    var.append(var_k)"
   ]
  },
  {
   "cell_type": "code",
   "execution_count": 100,
   "id": "6bec8cf2-2221-4879-810b-acfe4a4396a8",
   "metadata": {},
   "outputs": [],
   "source": [
    "# Identify the pools\n",
    "policies_profiles = {}\n",
    "policies_profiles_masked = {}\n",
    "policies_ids_profiles = {}\n",
    "pi_policies = {}\n",
    "pi_pools = {}\n",
    "for k, profile in enumerate(profiles):\n",
    "\n",
    "    policies_temp = [(i, x) for i, x in enumerate(all_policies) if tva.policy_to_profile(x) == profile]\n",
    "    unzipped_temp = list(zip(*policies_temp))\n",
    "    policies_ids_k = list(unzipped_temp[0])\n",
    "    policies_k = list(unzipped_temp[1])\n",
    "    policies_profiles[k] = deepcopy(policies_k)\n",
    "    policies_ids_profiles[k] = policies_ids_k\n",
    "\n",
    "    profile_mask = list(map(bool, profile))\n",
    "\n",
    "    # Mask the empty arms\n",
    "    for idx, pol in enumerate(policies_k):\n",
    "        policies_k[idx] = tuple([pol[i] for i in range(M) if profile_mask[i]])\n",
    "    policies_profiles_masked[k] = policies_k\n",
    "\n",
    "\n",
    "    # profile_idx = None\n",
    "    # for idx, p in enumerate(interested_profiles):\n",
    "    #     if p == profile:\n",
    "    #         profile_idx = idx\n",
    "    # if profile_idx is None:\n",
    "    #     pi_policies[k] = None\n",
    "    #     pi_pools[k] = None\n",
    "    #     continue\n",
    "    if sigma[k] is None:\n",
    "        pi_policies[k] = None\n",
    "        pi_pools[k] = None\n",
    "        continue\n",
    "\n",
    "    if np.sum(profile) > 0:\n",
    "        pi_pools_k, pi_policies_k = extract_pools.extract_pools(policies_k, sigma[k])\n",
    "        if len(pi_pools_k.keys()) != mu[k].shape[0]:\n",
    "            print(pi_pools_k)\n",
    "            print(f\"Profile {k}. Expected {len(pi_pools_k.keys())} pools. Received {mu[k].shape[0]} means.\")\n",
    "        pi_policies[k] = pi_policies_k\n",
    "        # pi_pools_k has indicies that match with policies_profiles[k]\n",
    "        # Need to map those indices back to all_policies\n",
    "        pi_pools[k] = {}\n",
    "        for x, y in pi_pools_k.items():\n",
    "            y_full = [policies_profiles[k][i] for i in y]\n",
    "            y_agg = [all_policies.index(i) for i in y_full]\n",
    "            pi_pools[k][x] = y_agg\n",
    "    else:\n",
    "        pi_policies[k] = {0: 0}\n",
    "        pi_pools[k] = {0: [0]}\n",
    "\n",
    "best_per_profile = [np.max(mu_k) for mu_k in mu]\n",
    "true_best_profile = np.nanargmax(best_per_profile)\n",
    "true_best_profile_idx = int(true_best_profile)\n",
    "true_best_effect = np.max(mu[true_best_profile])\n",
    "true_best = pi_pools[true_best_profile][np.argmax(mu[true_best_profile])]\n",
    "min_dosage_best_policy = metrics.find_min_dosage(true_best, all_policies)\n",
    "\n",
    "# The transformation matrix for Lasso\n",
    "G = tva.alpha_matrix(all_policies)"
   ]
  },
  {
   "cell_type": "code",
   "execution_count": 101,
   "id": "42b66a56-3c11-48ab-9c14-2acbcd833b86",
   "metadata": {},
   "outputs": [],
   "source": [
    "trt_arm_idx = 0\n",
    "\n",
    "ctl_profile_idx = 7\n",
    "trt_profile_idx = 15\n",
    "\n",
    "ctl_profile = (0, 1, 1, 1)\n",
    "trt_profile = (1, 1, 1, 1)\n",
    "\n",
    "# Subset data for interested profiles\n",
    "trt_policies_ids = policies_ids_profiles[trt_profile_idx] # These are the policy ids (15 corresponds to 1, 1, 1, 1)\n",
    "ctl_policies_ids = policies_ids_profiles[ctl_profile_idx]\n",
    "tc_policies_ids = trt_policies_ids + ctl_policies_ids\n",
    "\n",
    "trt_policies = policies_profiles_masked[trt_profile_idx]\n",
    "ctl_policies = policies_profiles_masked[ctl_profile_idx]\n",
    "\n",
    "trt_pools, trt_pools_policies = extract_pools.extract_pools(trt_policies, sigma[trt_profile_idx])\n",
    "ctl_pools, ctl_pools_policies = extract_pools.extract_pools(ctl_policies, sigma[ctl_profile_idx])\n",
    "\n",
    "D_trt = np.array(list(trt_pools_policies.keys()))\n",
    "D_ctl = np.array(list(ctl_pools_policies.keys()))\n",
    "\n",
    "D_trt_pooled = [trt_pools_policies[pol_id] for pol_id in D_trt]\n",
    "D_ctl_pooled = [ctl_pools_policies[pol_id] for pol_id in D_ctl]\n",
    "y_trt = mu[trt_profile_idx][D_trt_pooled]\n",
    "y_ctl = mu[ctl_profile_idx][D_ctl_pooled]\n",
    "\n",
    "X_trt = np.array(policies_profiles[trt_profile_idx])[:, 1:]\n",
    "\n",
    "te_true = y_trt - y_ctl\n",
    "max_te = np.max(te_true)\n",
    "max_te_policies_p = D_trt[np.where(te_true == max_te)]\n",
    "max_te_policies = [policies_ids_profiles[trt_profile_idx][x] for x in max_te_policies_p]\n",
    "min_dosage_best_te = metrics.find_min_dosage(max_te_policies, all_policies)"
   ]
  },
  {
   "cell_type": "markdown",
   "id": "7e201a3c-6a6a-458f-b9af-e4edb345f706",
   "metadata": {},
   "source": [
    "## Generate data"
   ]
  },
  {
   "cell_type": "code",
   "execution_count": 102,
   "id": "0d6042b2-2d1a-4d08-ab6f-527bcc9f290a",
   "metadata": {},
   "outputs": [],
   "source": [
    "np.random.seed(3)\n",
    "\n",
    "n_per_pol = 10\n",
    "\n",
    "# Generate data\n",
    "X, D, y, mu_true = generate_data(mu, var, n_per_pol, all_policies, pi_policies, M)\n",
    "policy_means = loss.compute_policy_means(D, y, num_policies)\n",
    "# The dummy matrix for Lasso\n",
    "D_matrix = tva.get_dummy_matrix(D, G, num_policies)\n",
    "\n",
    "trt_arm_idx = 0\n",
    "feature_idx = list(np.arange(0, trt_arm_idx)) + list(np.arange(trt_arm_idx+1, M))\n",
    "\n",
    "T = np.zeros(shape=y.shape)\n",
    "T[X[:, trt_arm_idx] > 0] = 1\n",
    "\n",
    "y_0d = y.reshape((-1,))\n",
    "X_cf = X[:, feature_idx]\n",
    "\n",
    "X_trt_subset = X[X[:, trt_arm_idx] > 0, :]\n",
    "X_trt_subset = X_trt_subset[:, feature_idx]\n",
    "y_trt_subset = y[X[:, trt_arm_idx] > 0]\n",
    "\n",
    "\n",
    "D_trt_subset = D[X[:, trt_arm_idx] > 0]\n",
    "D_matrix_trt_subset = D_matrix[X[:, trt_arm_idx] > 0, :]\n",
    "D_matrix_ctl_subset = D_matrix[X[:, trt_arm_idx] == 0, :]\n",
    "\n",
    "D_trt_univ = np.array([policies_ids_profiles[trt_profile_idx][x] for x in D_trt]).reshape((-1, 1))\n",
    "D_ctl_univ = np.array([policies_ids_profiles[ctl_profile_idx][x] for x in D_ctl]).reshape((-1, 1))\n",
    "D_matrix_trt = tva.get_dummy_matrix(D_trt_univ, G, num_policies)\n",
    "D_matrix_ctl = tva.get_dummy_matrix(D_ctl_univ, G, num_policies)\n",
    "\n",
    "\n",
    "policy_means = loss.compute_policy_means(D, y, num_policies)\n",
    "\n",
    "mask = np.isin(D, tc_policies_ids)\n",
    "D_tc = D[mask].reshape((-1,1))\n",
    "y_tc = y[mask].reshape((-1,1))"
   ]
  },
  {
   "cell_type": "markdown",
   "id": "48af61e0-8b18-40a2-8e3b-2ef0e91a392d",
   "metadata": {},
   "source": [
    "# Estimation\n",
    "\n",
    "## Causal Forests"
   ]
  },
  {
   "cell_type": "markdown",
   "id": "de4bece0",
   "metadata": {},
   "source": [
    "In this section, we fit a Causal Forest Estimator and extract the partitions from each individual tree in the estimator."
   ]
  },
  {
   "cell_type": "code",
   "execution_count": 103,
   "id": "4c5359e0-28a4-4dc6-9d78-2927add5f198",
   "metadata": {},
   "outputs": [
    {
     "data": {
      "text/html": [
       "<style>#sk-container-id-2 {color: black;}#sk-container-id-2 pre{padding: 0;}#sk-container-id-2 div.sk-toggleable {background-color: white;}#sk-container-id-2 label.sk-toggleable__label {cursor: pointer;display: block;width: 100%;margin-bottom: 0;padding: 0.3em;box-sizing: border-box;text-align: center;}#sk-container-id-2 label.sk-toggleable__label-arrow:before {content: \"▸\";float: left;margin-right: 0.25em;color: #696969;}#sk-container-id-2 label.sk-toggleable__label-arrow:hover:before {color: black;}#sk-container-id-2 div.sk-estimator:hover label.sk-toggleable__label-arrow:before {color: black;}#sk-container-id-2 div.sk-toggleable__content {max-height: 0;max-width: 0;overflow: hidden;text-align: left;background-color: #f0f8ff;}#sk-container-id-2 div.sk-toggleable__content pre {margin: 0.2em;color: black;border-radius: 0.25em;background-color: #f0f8ff;}#sk-container-id-2 input.sk-toggleable__control:checked~div.sk-toggleable__content {max-height: 200px;max-width: 100%;overflow: auto;}#sk-container-id-2 input.sk-toggleable__control:checked~label.sk-toggleable__label-arrow:before {content: \"▾\";}#sk-container-id-2 div.sk-estimator input.sk-toggleable__control:checked~label.sk-toggleable__label {background-color: #d4ebff;}#sk-container-id-2 div.sk-label input.sk-toggleable__control:checked~label.sk-toggleable__label {background-color: #d4ebff;}#sk-container-id-2 input.sk-hidden--visually {border: 0;clip: rect(1px 1px 1px 1px);clip: rect(1px, 1px, 1px, 1px);height: 1px;margin: -1px;overflow: hidden;padding: 0;position: absolute;width: 1px;}#sk-container-id-2 div.sk-estimator {font-family: monospace;background-color: #f0f8ff;border: 1px dotted black;border-radius: 0.25em;box-sizing: border-box;margin-bottom: 0.5em;}#sk-container-id-2 div.sk-estimator:hover {background-color: #d4ebff;}#sk-container-id-2 div.sk-parallel-item::after {content: \"\";width: 100%;border-bottom: 1px solid gray;flex-grow: 1;}#sk-container-id-2 div.sk-label:hover label.sk-toggleable__label {background-color: #d4ebff;}#sk-container-id-2 div.sk-serial::before {content: \"\";position: absolute;border-left: 1px solid gray;box-sizing: border-box;top: 0;bottom: 0;left: 50%;z-index: 0;}#sk-container-id-2 div.sk-serial {display: flex;flex-direction: column;align-items: center;background-color: white;padding-right: 0.2em;padding-left: 0.2em;position: relative;}#sk-container-id-2 div.sk-item {position: relative;z-index: 1;}#sk-container-id-2 div.sk-parallel {display: flex;align-items: stretch;justify-content: center;background-color: white;position: relative;}#sk-container-id-2 div.sk-item::before, #sk-container-id-2 div.sk-parallel-item::before {content: \"\";position: absolute;border-left: 1px solid gray;box-sizing: border-box;top: 0;bottom: 0;left: 50%;z-index: -1;}#sk-container-id-2 div.sk-parallel-item {display: flex;flex-direction: column;z-index: 1;position: relative;background-color: white;}#sk-container-id-2 div.sk-parallel-item:first-child::after {align-self: flex-end;width: 50%;}#sk-container-id-2 div.sk-parallel-item:last-child::after {align-self: flex-start;width: 50%;}#sk-container-id-2 div.sk-parallel-item:only-child::after {width: 0;}#sk-container-id-2 div.sk-dashed-wrapped {border: 1px dashed gray;margin: 0 0.4em 0.5em 0.4em;box-sizing: border-box;padding-bottom: 0.4em;background-color: white;}#sk-container-id-2 div.sk-label label {font-family: monospace;font-weight: bold;display: inline-block;line-height: 1.2em;}#sk-container-id-2 div.sk-label-container {text-align: center;}#sk-container-id-2 div.sk-container {/* jupyter's `normalize.less` sets `[hidden] { display: none; }` but bootstrap.min.css set `[hidden] { display: none !important; }` so we also need the `!important` here to be able to override the default hidden behavior on the sphinx rendered scikit-learn.org. See: https://github.com/scikit-learn/scikit-learn/issues/21755 */display: inline-block !important;position: relative;}#sk-container-id-2 div.sk-text-repr-fallback {display: none;}</style><div id=\"sk-container-id-2\" class=\"sk-top-container\"><div class=\"sk-text-repr-fallback\"><pre>CausalForest(criterion=&#x27;het&#x27;, min_samples_leaf=10, random_state=3)</pre><b>In a Jupyter environment, please rerun this cell to show the HTML representation or trust the notebook. <br />On GitHub, the HTML representation is unable to render, please try loading this page with nbviewer.org.</b></div><div class=\"sk-container\" hidden><div class=\"sk-item\"><div class=\"sk-estimator sk-toggleable\"><input class=\"sk-toggleable__control sk-hidden--visually\" id=\"sk-estimator-id-2\" type=\"checkbox\" checked><label for=\"sk-estimator-id-2\" class=\"sk-toggleable__label sk-toggleable__label-arrow\">CausalForest</label><div class=\"sk-toggleable__content\"><pre>CausalForest(criterion=&#x27;het&#x27;, min_samples_leaf=10, random_state=3)</pre></div></div></div></div></div>"
      ],
      "text/plain": [
       "CausalForest(criterion='het', min_samples_leaf=10, random_state=3)"
      ]
     },
     "execution_count": 103,
     "metadata": {},
     "output_type": "execute_result"
    }
   ],
   "source": [
    "# https://econml.azurewebsites.net/_autosummary/econml.grf.CausalForest.html?highlight=causalforest#econml.grf.CausalForest\n",
    "est = CausalForest(criterion=\"het\", n_estimators=100,\n",
    "                   min_samples_leaf=10,\n",
    "                   # max_depth=None,\n",
    "                   min_samples_split=10,\n",
    "                   random_state=3,\n",
    "                  )\n",
    "\n",
    "# est.fit(X_cf, X[:, trt_idx], y_0d)\n",
    "est.fit(X_cf, T, y_0d)\n",
    "# est.fit(X, 1 + np.zeros(T.shape), y_0d)"
   ]
  },
  {
   "cell_type": "code",
   "execution_count": 139,
   "id": "1073c9d4",
   "metadata": {},
   "outputs": [],
   "source": [
    "# Extract the trees from the CRF\n",
    "trees = est.estimators_\n",
    "\n",
    "# This function takes a tree and creates a dictionary based representation where each non-leaf node is a dictionary with dictionary children, and leaves are sets of data points.\n",
    "# The decision_path() call in line ___ returns a sparse matrix that encodes the decision path for each of the data points in X_cf, i.e. it lets us\n",
    "# reconstruct the partition by following how each profile is categorized. The code in lines iteratively fills in the dictionary that represents the \n",
    "# binary tree by running through the path (each entry in cx.row) for each \n",
    "def create_dict_rep(tree):\n",
    "    root = {}\n",
    "    head = root\n",
    "\n",
    "    # Takes the sparse matrix from the decision path of each data point and then turns it into a list of coordinates.\n",
    "    cx = tree.tree_.decision_path(X_cf).tocoo()\n",
    "\n",
    "    # We iterate through the list of coordinates and construct the tree by traversing until we hit a leaf node and then adding the data point to the set in that leaf.\n",
    "    for i in range(len(cx.row)):\n",
    "        if cx.col[i] not in head:\n",
    "            head[cx.col[i]] = {}\n",
    "        head = head[cx.col[i]]\n",
    "        if (i != len(cx.row) - 1 and cx.row[i] != cx.row[i + 1]) or (i == len(cx.row) - 1):\n",
    "            if \"*\" not in head:\n",
    "                head[\"*\"] = set()\n",
    "            # The \"*\" indicates that we have gotten to the end of a decision path, so we add the data point into the set at this leaf.\n",
    "            head[\"*\"].add(tuple(X_cf[cx.row[i - 1], :].astype(int)))\n",
    "            head = root\n",
    "    return root\n",
    "\n",
    "# This function recursively traverses through the tree and constructs a list of the pools corresonding to the leaves.\n",
    "def traverse(tree):\n",
    "    to_return = []\n",
    "    for key in tree.keys():\n",
    "        if key == \"*\":\n",
    "            return [tree[key]]\n",
    "        else:\n",
    "            to_return += traverse(tree[key])\n",
    "    return to_return\n",
    "\n",
    "# Create for each tree in the CRF trees.\n",
    "crf_trees = []\n",
    "for i in range(len(trees)):\n",
    "    crf_trees.append(traverse(create_dict_rep(trees[i])))"
   ]
  },
  {
   "cell_type": "markdown",
   "id": "aa5c8def",
   "metadata": {},
   "source": [
    "The following chunk of code creates a Counter to keep track of what pools are in each tree partition for comparison later with the RPS partitions. (I am aware that this implementation is inefficient, but for the purposes of this simulation it isn't too important.)"
   ]
  },
  {
   "cell_type": "code",
   "execution_count": 140,
   "id": "9d12f0f7",
   "metadata": {},
   "outputs": [],
   "source": [
    "all_pools_crf_counters = {}\n",
    "\n",
    "# Loop through all the trees and create a Counter for each tree.\n",
    "for tree_idx in range(len(crf_trees)):\n",
    "    c = Counter()\n",
    "    for value in crf_trees[tree_idx]:\n",
    "        to_add = tuple(sorted(value))\n",
    "        c.update([to_add])\n",
    "    all_pools_crf_counters[tree_idx] = c"
   ]
  },
  {
   "cell_type": "code",
   "execution_count": 107,
   "id": "f99b5fff-f7b3-4350-81dd-0a165aa5d4b0",
   "metadata": {},
   "outputs": [
    {
     "data": {
      "text/plain": [
       "{'mse_te': 1.341415762464017,\n",
       " 'max_te_est': 6.864008814391772,\n",
       " 'max_te_err': 0.1359911856082281,\n",
       " 'iou': 0.14285714285714285,\n",
       " 'conf_matrix': array([[0.9       , 0.        , 0.1       ],\n",
       "        [0.        , 0.        , 1.        ],\n",
       "        [0.02777778, 0.        , 0.97222222]])}"
      ]
     },
     "execution_count": 107,
     "metadata": {},
     "output_type": "execute_result"
    }
   ],
   "source": [
    "te_cf = est.predict(X_trt)\n",
    "\n",
    "cf_res = metrics.compute_te_het_metrics(\n",
    "                            te_true, te_cf,\n",
    "                            max_te, max_te_policies,\n",
    "                            D_trt, policies_ids_profiles[trt_profile_idx]\n",
    "                        )\n",
    "\n",
    "cf_res"
   ]
  },
  {
   "cell_type": "markdown",
   "id": "159eabcc-5998-410b-babf-2cae24cae66a",
   "metadata": {},
   "source": [
    "## Rashomon Sets"
   ]
  },
  {
   "cell_type": "markdown",
   "id": "a0522796",
   "metadata": {},
   "source": [
    "Use the following chunk of code below to tune the size of the Rashomon Set."
   ]
  },
  {
   "cell_type": "code",
   "execution_count": 196,
   "id": "f0f44aea-24f0-4c77-b859-8ed93bff474a",
   "metadata": {},
   "outputs": [
    {
     "name": "stdout",
     "output_type": "stream",
     "text": [
      "Skipping profile (0, 0, 0, 0)\n",
      "Skipping profile (0, 0, 0, 1)\n",
      "Skipping profile (0, 0, 1, 0)\n",
      "Skipping profile (0, 0, 1, 1)\n",
      "Skipping profile (0, 1, 0, 0)\n",
      "Skipping profile (0, 1, 0, 1)\n",
      "Skipping profile (0, 1, 1, 0)\n",
      "(0, 1, 1, 1) 2.0402404523030584\n",
      "Brute forcing\n",
      "Took 0.11671113967895508 s when brute forcing\n",
      "220\n",
      "Skipping profile (1, 0, 0, 0)\n",
      "Skipping profile (1, 0, 0, 1)\n",
      "Skipping profile (1, 0, 1, 0)\n",
      "Skipping profile (1, 0, 1, 1)\n",
      "Skipping profile (1, 1, 0, 0)\n",
      "Skipping profile (1, 1, 0, 1)\n",
      "Skipping profile (1, 1, 1, 0)\n",
      "(1, 1, 1, 1) 2.5\n",
      "Brute forcing\n",
      "Took 0.11337399482727051 s when brute forcing\n",
      "36\n",
      "Finding feasible combinations\n",
      "Min = 1.7865754084828451, Max = 4.282754080538238\n",
      "520\n"
     ]
    }
   ],
   "source": [
    "H = np.inf\n",
    "\n",
    "theta = 2.5\n",
    "reg = 1e-1\n",
    "R_set, rashomon_profiles = RAggregate(M, R, H, D, y, theta, reg,\n",
    "                                     verbose=True, bruteforce=True\n",
    "                                     )\n",
    "\n",
    "print(len(R_set))"
   ]
  },
  {
   "cell_type": "code",
   "execution_count": 193,
   "id": "b7163adb",
   "metadata": {},
   "outputs": [
    {
     "name": "stdout",
     "output_type": "stream",
     "text": [
      "Best model loss 1.7865754084828451\n"
     ]
    }
   ],
   "source": [
    "model_losses = []\n",
    "model_sizes = []\n",
    "\n",
    "for r_set in R_set:\n",
    "    pi_policies_profiles_r = {}\n",
    "\n",
    "    loss_r = 0\n",
    "    size_r = 0\n",
    "    \n",
    "    for profile, model_prof in enumerate(r_set):\n",
    "        sigma_r_prof = rashomon_profiles[profile].sigma[model_prof]\n",
    "        loss_r_prof = rashomon_profiles[profile].loss[model_prof]\n",
    "        size_r_prof = rashomon_profiles[profile].pools[model_prof]\n",
    "\n",
    "        loss_r += loss_r_prof\n",
    "\n",
    "        if sigma_r_prof is None and loss_r_prof == 0:\n",
    "            pass\n",
    "        else:\n",
    "            size_r += size_r_prof\n",
    "    \n",
    "    model_losses.append(loss_r)\n",
    "    model_sizes.append(size_r)\n",
    "\n",
    "model_losses = np.array(model_losses)\n",
    "model_sizes = np.array(model_sizes)\n",
    "\n",
    "q_0 = np.min(model_losses)\n",
    "\n",
    "print(f\"Best model loss {q_0}\")"
   ]
  },
  {
   "cell_type": "markdown",
   "id": "3baad06a",
   "metadata": {},
   "source": [
    "## Intersection of Treatment and Control Partitions with CRF Partitions"
   ]
  },
  {
   "cell_type": "markdown",
   "id": "ba26a77d",
   "metadata": {},
   "source": [
    "The function below takes the Rashomon Set and extracts the poolings and transforms them to the form of the counters in all_pools_crf_counters so they can be compared. We then compute the intersection."
   ]
  },
  {
   "cell_type": "code",
   "execution_count": 197,
   "id": "94741d55",
   "metadata": {},
   "outputs": [],
   "source": [
    "def create_rset_poolings(theta, reg, M=M, R=R, H=H, D=D, y=y, verbose=True):\n",
    "    H = np.inf\n",
    "    print(f\"Running RAggregate with theta = {theta} and reg = {reg}\")\n",
    "    R_set, rashomon_profiles = RAggregate(M, R, H, D, y, theta, reg,\n",
    "                                        verbose=verbose,\n",
    "                                        )\n",
    "\n",
    "    print(\"Length of the RPS is\", len(R_set))\n",
    "\n",
    "    # Create the Poolings for the Treatment and Control Profiles\n",
    "    all_r_pools_trt = []\n",
    "    all_r_pools_ctl = []\n",
    "\n",
    "    # For each rashomon set, extract the pools for the treatment and control separately and append them to the all_r_pools_trt, and all_r_pools_ctl.\n",
    "    for idx, r_set in enumerate(R_set):\n",
    "\n",
    "        sigma_trt_R_set_idx = r_set[trt_profile_idx]\n",
    "        sigma_trt_i = rashomon_profiles[trt_profile_idx].sigma[sigma_trt_R_set_idx]\n",
    "        sigma_ctl_R_set_idx = r_set[ctl_profile_idx]\n",
    "        sigma_ctl_i = rashomon_profiles[ctl_profile_idx].sigma[sigma_ctl_R_set_idx]\n",
    "\n",
    "        trt_pools_0, _ = extract_pools.extract_pools(trt_policies, sigma_trt_i)\n",
    "        ctl_pools_0, _ = extract_pools.extract_pools(ctl_policies, sigma_ctl_i) # This gives dictionary of pools --> this is the partition\n",
    "        \n",
    "        trt_pools = tva.profile_ids_to_univ_ids(trt_pools_0, trt_policies_ids)\n",
    "        ctl_pools = tva.profile_ids_to_univ_ids(ctl_pools_0, ctl_policies_ids)\n",
    "\n",
    "        all_r_pools_trt.append(trt_pools)\n",
    "        all_r_pools_ctl.append(ctl_pools)\n",
    "\n",
    "    # Create dictionaries that map between ids and policies for both treatment and control\n",
    "    id_to_policy_dict_trt = {i: x for i, x in enumerate(all_policies) if tva.policy_to_profile(x) == (1, 1, 1, 1)}\n",
    "    id_to_policy_dict_ctl = {i: x for i, x in enumerate(all_policies) if tva.policy_to_profile(x) == (0, 1, 1, 1)}\n",
    "    all_r_pools_trt_counters, all_r_pools_ctl_counters = {}, {}\n",
    "\n",
    "    # For each rashomon set, we make a Counter for both the treatment and control poolings and insert in a dictionary.\n",
    "    for r_set_idx in range(len(all_r_pools_trt)):\n",
    "        c_trt = Counter()\n",
    "        c_ctl = Counter()\n",
    "        for key, value in all_r_pools_trt[r_set_idx].items():\n",
    "            to_add = list(map(tuple, [id_to_policy_dict_trt[idx][1:] for idx in value]))\n",
    "            to_add = tuple((sorted(to_add)))\n",
    "            all_r_pools_trt[r_set_idx][key] = to_add\n",
    "            c_trt.update([to_add])\n",
    "\n",
    "        for key, value in all_r_pools_ctl[r_set_idx].items():\n",
    "            to_add = tuple(map(tuple, [id_to_policy_dict_ctl[idx][1:] for idx in value]))\n",
    "            to_add = tuple(sorted(to_add))\n",
    "            all_r_pools_ctl[r_set_idx][key] = to_add\n",
    "            c_ctl.update([to_add])\n",
    "\n",
    "        all_r_pools_trt_counters[r_set_idx] = c_trt\n",
    "        all_r_pools_ctl_counters[r_set_idx] = c_ctl\n",
    "    \n",
    "    return all_r_pools_trt_counters, all_r_pools_ctl_counters"
   ]
  },
  {
   "cell_type": "code",
   "execution_count": 198,
   "id": "7f7fb862",
   "metadata": {},
   "outputs": [
    {
     "name": "stdout",
     "output_type": "stream",
     "text": [
      "Running RAggregate with theta = 3 and reg = 0.1\n",
      "Skipping profile (0, 0, 0, 0)\n",
      "Skipping profile (0, 0, 0, 1)\n",
      "Skipping profile (0, 0, 1, 0)\n",
      "Skipping profile (0, 0, 1, 1)\n",
      "Skipping profile (0, 1, 0, 0)\n",
      "Skipping profile (0, 1, 0, 1)\n",
      "Skipping profile (0, 1, 1, 0)\n",
      "(0, 1, 1, 1) 2.5402404523030584\n",
      "Adaptive\n",
      "Took 0.5664100646972656 s adaptively\n",
      "238\n",
      "Skipping profile (1, 0, 0, 0)\n",
      "Skipping profile (1, 0, 0, 1)\n",
      "Skipping profile (1, 0, 1, 0)\n",
      "Skipping profile (1, 0, 1, 1)\n",
      "Skipping profile (1, 1, 0, 0)\n",
      "Skipping profile (1, 1, 0, 1)\n",
      "Skipping profile (1, 1, 1, 0)\n",
      "(1, 1, 1, 1) 3.0\n",
      "Adaptive\n",
      "Took 0.55594801902771 s adaptively\n",
      "92\n",
      "Finding feasible combinations\n",
      "Min = 1.7865754084828451, Max = 5.983622437621808\n",
      "Length of the RPS is 3076\n"
     ]
    },
    {
     "name": "stderr",
     "output_type": "stream",
     "text": [
      "100%|██████████| 100/100 [00:00<00:00, 156.67it/s]"
     ]
    },
    {
     "name": "stdout",
     "output_type": "stream",
     "text": [
      "Intersections from Treatment Partitions: 2 \n",
      "Intersections from Control Partitions: 2\n"
     ]
    },
    {
     "name": "stderr",
     "output_type": "stream",
     "text": [
      "\n"
     ]
    }
   ],
   "source": [
    "# Compute the intersection between the partitions from the CRF trees and the partitions from the Rashomon Set.\n",
    "# This can take a long time depending on the size of your RPS. It takes 5-10 minutes for 100 trees and 60000+ models in the Rashomon Set.\n",
    "\n",
    "all_r_pools_trt_counters, all_r_pools_ctl_counters = create_rset_poolings(3, 0.1)\n",
    "intersection_trt, intersection_ctl = [], []\n",
    "\n",
    "for key, pool in tqdm(all_pools_crf_counters.items()):\n",
    "    if pool in all_r_pools_trt_counters.values():\n",
    "        intersection_trt.append(pool)\n",
    "    if pool in all_r_pools_ctl_counters.values():\n",
    "        intersection_ctl.append(pool)\n",
    "\n",
    "print(\"Intersections from Treatment Partitions:\", len(intersection_trt), \"\\nIntersections from Control Partitions:\", len(intersection_ctl))"
   ]
  },
  {
   "cell_type": "markdown",
   "id": "ff12b306",
   "metadata": {},
   "source": [
    "## Permissibility of CRF Partitions"
   ]
  },
  {
   "cell_type": "markdown",
   "id": "5b3c0a65",
   "metadata": {},
   "source": [
    "The following code checks to see if the trees in the Causal Random Forest admit permissible partitions. The $\\texttt{is\\_permissible()}$ function takes a partition as well as the array $R$ which parameterizes the arms of the problem. It outputs a truth value."
   ]
  },
  {
   "cell_type": "code",
   "execution_count": 144,
   "id": "a00d0087",
   "metadata": {},
   "outputs": [],
   "source": [
    "# R = np.array([2, 4, 5, 5])\n",
    "from itertools import product\n",
    "\n",
    "crf_R = R[1:]\n",
    "\n",
    "# Computes if there is exactly one True among a boolean array.\n",
    "def single_true(iterable):\n",
    "    i = iter(iterable)\n",
    "    return any(i) and not any(i)\n",
    "\n",
    "# Checks to see if a pool satisfies the strongly convex criterion (is shaped like a box)\n",
    "def not_strongly_convex(pool):\n",
    "    min_array, max_array = [min(profile) for profile in zip(*pool)], [max(profile) for profile in zip(*pool)]\n",
    "    arrays = [list(range(min_array[i], max_array[i] + 1)) for i in range(len(min_array))]\n",
    "    for profile in product(*arrays):\n",
    "        if profile not in pool:\n",
    "            return True\n",
    "        \n",
    "    return False\n",
    "\n",
    "# Checks if a partition, implemented as a set of pools, is permissible.\n",
    "def is_permissible(partition, R):\n",
    "    pools_look_up = dict()\n",
    "    \n",
    "    # Create pools_look_up, a dictionary that maps each profile to its pool.\n",
    "    for pool in partition:\n",
    "        if not_strongly_convex(pool):\n",
    "            return False\n",
    "        for item in pool:\n",
    "            pools_look_up[item] = pool\n",
    "    \n",
    "    # For every profile and every profile in the same pool that differs by only one arm,\n",
    "    # we loop through all the other pools and check to see if \n",
    "    for profile, pool in pools_look_up.items():\n",
    "        # print(\"Current Profile:\", profile)\n",
    "        arrays = [list(range(1, element)) for element in R]\n",
    "        for other_profile in pool:\n",
    "            # print(\"---Other Profile:\", other_profile)\n",
    "            relative_diff = np.array(other_profile) - np.array(profile)\n",
    "\n",
    "            # We want to skip profile comparisons that are not just a change in one arm.\n",
    "            if not single_true(relative_diff != 0):\n",
    "                # print(\"Skipping This Profile\")\n",
    "                continue\n",
    "            nonzero_diff_indices = np.nonzero(relative_diff)[0]\n",
    "            for nonzero_diff_idx in nonzero_diff_indices:\n",
    "                arrays[nonzero_diff_idx] = [profile[nonzero_diff_idx]]\n",
    "            for profile2 in product(*arrays):\n",
    "                # print(\"------Search Profile 2:\", profile2)\n",
    "                new_profile = np.array(profile2) + relative_diff\n",
    "\n",
    "                # If this profile does not exist, then we should continue\n",
    "                if any(new_profile + 1 > R) or any(new_profile - 1 < 0):\n",
    "                    continue\n",
    "\n",
    "                # If this profile does exist but is not in the same pool as the profile it is being compared to, then we return False\n",
    "                if profile2 not in pools_look_up[tuple(new_profile)]:\n",
    "                    # print(f\"Failed: {profile2} not in same pool as {tuple(new_profile)} even though {profile} in same pool as {other_profile}\")\n",
    "                    return False\n",
    "    \n",
    "    return True\n"
   ]
  },
  {
   "cell_type": "code",
   "execution_count": 173,
   "id": "2a7142e2",
   "metadata": {},
   "outputs": [
    {
     "name": "stdout",
     "output_type": "stream",
     "text": [
      "Tree 3\n",
      "{(1, 2, 1), (1, 2, 2), (1, 1, 1), (1, 1, 2)}\n",
      "{(1, 1, 3), (1, 1, 4), (1, 2, 3), (1, 2, 4)}\n",
      "{(1, 3, 1), (1, 3, 2), (1, 4, 1), (1, 4, 2)}\n",
      "{(1, 4, 3), (1, 4, 4), (1, 3, 3), (1, 3, 4)}\n",
      "{(2, 1, 1), (2, 1, 2), (2, 2, 1), (2, 2, 2)}\n",
      "{(2, 2, 3), (2, 2, 4), (2, 1, 3), (2, 1, 4)}\n",
      "{(2, 3, 1), (2, 3, 2), (2, 4, 1), (2, 4, 2)}\n",
      "{(2, 4, 4), (2, 3, 3), (2, 3, 4), (2, 4, 3)}\n",
      "{(3, 2, 1), (3, 2, 2), (3, 1, 1), (3, 1, 2)}\n",
      "{(3, 1, 3), (3, 1, 4), (3, 2, 3), (3, 2, 4)}\n",
      "{(3, 3, 1), (3, 3, 2), (3, 4, 1), (3, 4, 2)}\n",
      "{(3, 4, 3), (3, 4, 4), (3, 3, 3), (3, 3, 4)}\n",
      "Tree 10\n",
      "{(1, 2, 1), (1, 2, 2), (1, 1, 1), (1, 1, 2)}\n",
      "{(1, 1, 3), (1, 1, 4), (1, 2, 3), (1, 2, 4)}\n",
      "{(1, 3, 1), (1, 3, 2), (1, 4, 1), (1, 4, 2)}\n",
      "{(1, 4, 3), (1, 4, 4), (1, 3, 3), (1, 3, 4)}\n",
      "{(2, 1, 1), (2, 1, 2), (2, 2, 1), (2, 2, 2)}\n",
      "{(2, 2, 3), (2, 2, 4), (2, 1, 3), (2, 1, 4)}\n",
      "{(2, 3, 1), (2, 3, 2), (2, 4, 1), (2, 4, 2)}\n",
      "{(2, 4, 4), (2, 3, 3), (2, 3, 4), (2, 4, 3)}\n",
      "{(3, 2, 1), (3, 2, 2), (3, 1, 1), (3, 1, 2)}\n",
      "{(3, 1, 3), (3, 1, 4), (3, 2, 3), (3, 2, 4)}\n",
      "{(3, 3, 1), (3, 3, 2), (3, 4, 1), (3, 4, 2)}\n",
      "{(3, 4, 3), (3, 4, 4), (3, 3, 3), (3, 3, 4)}\n"
     ]
    }
   ],
   "source": [
    "# Running permissiblity on the list of CRF trees obtained from earlier in the notebook.\n",
    "permissibility = [is_permissible(crf_trees[i], crf_R) for i in range(len(crf_trees))]\n",
    "permissible_trees_idx = [i for i, e in enumerate(permissibility) if e != 0]\n",
    "\n",
    "# This prints all of the permissible CRF tree partitions.\n",
    "for idx in permissible_trees_idx:\n",
    "    print(f\"Tree {idx}\")\n",
    "    print(*crf_trees[idx], sep='\\n')"
   ]
  },
  {
   "cell_type": "markdown",
   "id": "cdd4470b",
   "metadata": {},
   "source": [
    "## Producing Tables/Plots"
   ]
  },
  {
   "cell_type": "markdown",
   "id": "51fbb9ba",
   "metadata": {},
   "source": [
    "The chunk of code below produces plots for this simulation. It performs 100 simulations and then . This assumes that you have run all the code blocks before and computed the Counter representations for the RPS (takes a long time so we reuse it here)."
   ]
  },
  {
   "cell_type": "code",
   "execution_count": 223,
   "id": "80f8c7b0",
   "metadata": {},
   "outputs": [
    {
     "name": "stdout",
     "output_type": "stream",
     "text": [
      "\n",
      "\n",
      "Running Iteration 1\n",
      "Running RAggregate with theta = 1.9538519297075907 and reg = 0.1\n",
      "Length of the RPS is 9\n"
     ]
    },
    {
     "name": "stderr",
     "output_type": "stream",
     "text": [
      "100%|██████████| 20/20 [00:00<00:00, 41838.44it/s]\n",
      "100%|██████████| 100/100 [00:00<00:00, 47079.40it/s]\n",
      "100%|██████████| 500/500 [00:00<00:00, 51238.78it/s]\n"
     ]
    },
    {
     "name": "stdout",
     "output_type": "stream",
     "text": [
      "Running RAggregate with theta = 2.1314748324082804 and reg = 0.1\n",
      "Length of the RPS is 49\n"
     ]
    },
    {
     "name": "stderr",
     "output_type": "stream",
     "text": [
      "100%|██████████| 20/20 [00:00<00:00, 10929.78it/s]\n",
      "100%|██████████| 100/100 [00:00<00:00, 10660.05it/s]\n",
      "100%|██████████| 500/500 [00:00<00:00, 11091.88it/s]\n"
     ]
    },
    {
     "name": "stdout",
     "output_type": "stream",
     "text": [
      "Running RAggregate with theta = 2.309097735108971 and reg = 0.1\n",
      "Length of the RPS is 155\n"
     ]
    },
    {
     "name": "stderr",
     "output_type": "stream",
     "text": [
      "100%|██████████| 20/20 [00:00<00:00, 3373.25it/s]\n",
      "100%|██████████| 100/100 [00:00<00:00, 3360.55it/s]\n",
      "100%|██████████| 500/500 [00:00<00:00, 3454.11it/s]\n"
     ]
    },
    {
     "name": "stdout",
     "output_type": "stream",
     "text": [
      "Running RAggregate with theta = 2.664343540510351 and reg = 0.1\n",
      "Length of the RPS is 944\n"
     ]
    },
    {
     "name": "stderr",
     "output_type": "stream",
     "text": [
      "100%|██████████| 20/20 [00:00<00:00, 555.03it/s]\n",
      "100%|██████████| 100/100 [00:00<00:00, 559.97it/s]\n",
      "100%|██████████| 500/500 [00:00<00:00, 566.55it/s]\n"
     ]
    },
    {
     "name": "stdout",
     "output_type": "stream",
     "text": [
      "\n",
      "\n",
      "Running Iteration 2\n",
      "Running RAggregate with theta = 1.9615380383456924 and reg = 0.1\n",
      "Length of the RPS is 10\n"
     ]
    },
    {
     "name": "stderr",
     "output_type": "stream",
     "text": [
      "100%|██████████| 20/20 [00:00<00:00, 37233.06it/s]\n",
      "100%|██████████| 100/100 [00:00<00:00, 43518.41it/s]\n",
      "100%|██████████| 500/500 [00:00<00:00, 41791.75it/s]\n"
     ]
    },
    {
     "name": "stdout",
     "output_type": "stream",
     "text": [
      "Running RAggregate with theta = 2.1398596781953003 and reg = 0.1\n",
      "Length of the RPS is 49\n"
     ]
    },
    {
     "name": "stderr",
     "output_type": "stream",
     "text": [
      "100%|██████████| 20/20 [00:00<00:00, 10065.52it/s]\n",
      "100%|██████████| 100/100 [00:00<00:00, 10034.94it/s]\n",
      "100%|██████████| 500/500 [00:00<00:00, 10503.09it/s]\n"
     ]
    },
    {
     "name": "stdout",
     "output_type": "stream",
     "text": [
      "Running RAggregate with theta = 2.318181318044909 and reg = 0.1\n",
      "Length of the RPS is 146\n"
     ]
    },
    {
     "name": "stderr",
     "output_type": "stream",
     "text": [
      "100%|██████████| 20/20 [00:00<00:00, 3506.36it/s]\n",
      "100%|██████████| 100/100 [00:00<00:00, 3441.14it/s]\n",
      "100%|██████████| 500/500 [00:00<00:00, 3635.06it/s]\n"
     ]
    },
    {
     "name": "stdout",
     "output_type": "stream",
     "text": [
      "Running RAggregate with theta = 2.674824597744126 and reg = 0.1\n",
      "Length of the RPS is 870\n"
     ]
    },
    {
     "name": "stderr",
     "output_type": "stream",
     "text": [
      "100%|██████████| 20/20 [00:00<00:00, 576.59it/s]\n",
      "100%|██████████| 100/100 [00:00<00:00, 594.99it/s]\n",
      "100%|██████████| 500/500 [00:00<00:00, 573.58it/s]\n"
     ]
    },
    {
     "name": "stdout",
     "output_type": "stream",
     "text": [
      "\n",
      "\n",
      "Running Iteration 3\n",
      "Running RAggregate with theta = 1.9652329493311298 and reg = 0.1\n",
      "Length of the RPS is 9\n"
     ]
    },
    {
     "name": "stderr",
     "output_type": "stream",
     "text": [
      "100%|██████████| 20/20 [00:00<00:00, 42175.00it/s]\n",
      "100%|██████████| 100/100 [00:00<00:00, 45496.30it/s]\n",
      "100%|██████████| 500/500 [00:00<00:00, 49781.66it/s]\n"
     ]
    },
    {
     "name": "stdout",
     "output_type": "stream",
     "text": [
      "Running RAggregate with theta = 2.1438904901794142 and reg = 0.1\n",
      "Length of the RPS is 49\n"
     ]
    },
    {
     "name": "stderr",
     "output_type": "stream",
     "text": [
      "100%|██████████| 20/20 [00:00<00:00, 10428.40it/s]\n",
      "100%|██████████| 100/100 [00:00<00:00, 10248.01it/s]\n",
      "100%|██████████| 500/500 [00:00<00:00, 10539.19it/s]\n"
     ]
    },
    {
     "name": "stdout",
     "output_type": "stream",
     "text": [
      "Running RAggregate with theta = 2.322548031027699 and reg = 0.1\n",
      "Length of the RPS is 145\n"
     ]
    },
    {
     "name": "stderr",
     "output_type": "stream",
     "text": [
      "100%|██████████| 20/20 [00:00<00:00, 3298.71it/s]\n",
      "100%|██████████| 100/100 [00:00<00:00, 3628.57it/s]\n",
      "100%|██████████| 500/500 [00:00<00:00, 3624.37it/s]\n"
     ]
    },
    {
     "name": "stdout",
     "output_type": "stream",
     "text": [
      "Running RAggregate with theta = 2.679863112724268 and reg = 0.1\n",
      "Length of the RPS is 958\n"
     ]
    },
    {
     "name": "stderr",
     "output_type": "stream",
     "text": [
      "100%|██████████| 20/20 [00:00<00:00, 537.29it/s]\n",
      "100%|██████████| 100/100 [00:00<00:00, 512.50it/s]\n",
      "100%|██████████| 500/500 [00:00<00:00, 531.29it/s]\n"
     ]
    },
    {
     "name": "stdout",
     "output_type": "stream",
     "text": [
      "\n",
      "\n",
      "Running Iteration 4\n",
      "Running RAggregate with theta = 1.8971592215014832 and reg = 0.1\n",
      "Length of the RPS is 9\n"
     ]
    },
    {
     "name": "stderr",
     "output_type": "stream",
     "text": [
      "100%|██████████| 20/20 [00:00<00:00, 44337.25it/s]\n",
      "100%|██████████| 100/100 [00:00<00:00, 45789.34it/s]\n",
      "100%|██████████| 500/500 [00:00<00:00, 49692.01it/s]\n"
     ]
    },
    {
     "name": "stdout",
     "output_type": "stream",
     "text": [
      "Running RAggregate with theta = 2.0696282416379814 and reg = 0.1\n",
      "Length of the RPS is 40\n"
     ]
    },
    {
     "name": "stderr",
     "output_type": "stream",
     "text": [
      "100%|██████████| 20/20 [00:00<00:00, 12969.40it/s]\n",
      "100%|██████████| 100/100 [00:00<00:00, 12958.18it/s]\n",
      "100%|██████████| 500/500 [00:00<00:00, 13545.74it/s]\n"
     ]
    },
    {
     "name": "stdout",
     "output_type": "stream",
     "text": [
      "Running RAggregate with theta = 2.24209726177448 and reg = 0.1\n",
      "Length of the RPS is 102\n"
     ]
    },
    {
     "name": "stderr",
     "output_type": "stream",
     "text": [
      "100%|██████████| 20/20 [00:00<00:00, 5265.92it/s]\n",
      "100%|██████████| 100/100 [00:00<00:00, 5245.24it/s]\n",
      "100%|██████████| 500/500 [00:00<00:00, 5379.24it/s]\n"
     ]
    },
    {
     "name": "stdout",
     "output_type": "stream",
     "text": [
      "Running RAggregate with theta = 2.587035302047477 and reg = 0.1\n",
      "Length of the RPS is 653\n"
     ]
    },
    {
     "name": "stderr",
     "output_type": "stream",
     "text": [
      "100%|██████████| 20/20 [00:00<00:00, 756.89it/s]\n",
      "100%|██████████| 100/100 [00:00<00:00, 769.80it/s]\n",
      "100%|██████████| 500/500 [00:00<00:00, 743.47it/s]\n"
     ]
    },
    {
     "name": "stdout",
     "output_type": "stream",
     "text": [
      "\n",
      "\n",
      "Running Iteration 5\n",
      "Running RAggregate with theta = 1.9578722240227033 and reg = 0.1\n",
      "Length of the RPS is 9\n"
     ]
    },
    {
     "name": "stderr",
     "output_type": "stream",
     "text": [
      "100%|██████████| 20/20 [00:00<00:00, 43577.18it/s]\n",
      "100%|██████████| 100/100 [00:00<00:00, 49997.66it/s]\n",
      "100%|██████████| 500/500 [00:00<00:00, 48557.55it/s]\n"
     ]
    },
    {
     "name": "stdout",
     "output_type": "stream",
     "text": [
      "Running RAggregate with theta = 2.135860608024767 and reg = 0.1\n",
      "Length of the RPS is 48\n"
     ]
    },
    {
     "name": "stderr",
     "output_type": "stream",
     "text": [
      "100%|██████████| 20/20 [00:00<00:00, 9984.06it/s]\n",
      "100%|██████████| 100/100 [00:00<00:00, 10678.24it/s]\n",
      "100%|██████████| 500/500 [00:00<00:00, 10809.62it/s]\n"
     ]
    },
    {
     "name": "stdout",
     "output_type": "stream",
     "text": [
      "Running RAggregate with theta = 2.313848992026831 and reg = 0.1\n",
      "Length of the RPS is 127\n"
     ]
    },
    {
     "name": "stderr",
     "output_type": "stream",
     "text": [
      "100%|██████████| 20/20 [00:00<00:00, 4155.45it/s]\n",
      "100%|██████████| 100/100 [00:00<00:00, 4272.27it/s]\n",
      "100%|██████████| 500/500 [00:00<00:00, 3823.01it/s]\n"
     ]
    },
    {
     "name": "stdout",
     "output_type": "stream",
     "text": [
      "Running RAggregate with theta = 2.6698257600309585 and reg = 0.1\n",
      "Length of the RPS is 661\n"
     ]
    },
    {
     "name": "stderr",
     "output_type": "stream",
     "text": [
      "100%|██████████| 20/20 [00:00<00:00, 742.70it/s]\n",
      "100%|██████████| 100/100 [00:00<00:00, 772.06it/s]\n",
      "100%|██████████| 500/500 [00:00<00:00, 786.39it/s]\n"
     ]
    },
    {
     "name": "stdout",
     "output_type": "stream",
     "text": [
      "\n",
      "\n",
      "Running Iteration 6\n",
      "Running RAggregate with theta = 1.913826003660668 and reg = 0.1\n",
      "Length of the RPS is 9\n"
     ]
    },
    {
     "name": "stderr",
     "output_type": "stream",
     "text": [
      "100%|██████████| 20/20 [00:00<00:00, 44431.19it/s]\n",
      "100%|██████████| 100/100 [00:00<00:00, 47667.96it/s]\n",
      "100%|██████████| 500/500 [00:00<00:00, 49401.71it/s]\n"
     ]
    },
    {
     "name": "stdout",
     "output_type": "stream",
     "text": [
      "Running RAggregate with theta = 2.0878101858116374 and reg = 0.1\n",
      "Length of the RPS is 49\n"
     ]
    },
    {
     "name": "stderr",
     "output_type": "stream",
     "text": [
      "100%|██████████| 20/20 [00:00<00:00, 2451.30it/s]\n",
      "100%|██████████| 100/100 [00:00<00:00, 10362.70it/s]\n",
      "100%|██████████| 500/500 [00:00<00:00, 10774.90it/s]\n"
     ]
    },
    {
     "name": "stdout",
     "output_type": "stream",
     "text": [
      "Running RAggregate with theta = 2.2617943679626076 and reg = 0.1\n",
      "Length of the RPS is 144\n"
     ]
    },
    {
     "name": "stderr",
     "output_type": "stream",
     "text": [
      "100%|██████████| 20/20 [00:00<00:00, 3740.41it/s]\n",
      "100%|██████████| 100/100 [00:00<00:00, 3650.84it/s]\n",
      "100%|██████████| 500/500 [00:00<00:00, 3463.23it/s]\n"
     ]
    },
    {
     "name": "stdout",
     "output_type": "stream",
     "text": [
      "Running RAggregate with theta = 2.609762732264547 and reg = 0.1\n",
      "Length of the RPS is 803\n"
     ]
    },
    {
     "name": "stderr",
     "output_type": "stream",
     "text": [
      "100%|██████████| 20/20 [00:00<00:00, 600.28it/s]\n",
      "100%|██████████| 100/100 [00:00<00:00, 578.12it/s]\n",
      "100%|██████████| 500/500 [00:00<00:00, 637.89it/s]\n"
     ]
    },
    {
     "name": "stdout",
     "output_type": "stream",
     "text": [
      "\n",
      "\n",
      "Running Iteration 7\n",
      "Running RAggregate with theta = 1.8985743172099425 and reg = 0.1\n",
      "Length of the RPS is 10\n"
     ]
    },
    {
     "name": "stderr",
     "output_type": "stream",
     "text": [
      "100%|██████████| 20/20 [00:00<00:00, 38164.73it/s]\n",
      "100%|██████████| 100/100 [00:00<00:00, 42716.20it/s]\n",
      "100%|██████████| 500/500 [00:00<00:00, 44275.47it/s]\n"
     ]
    },
    {
     "name": "stdout",
     "output_type": "stream",
     "text": [
      "Running RAggregate with theta = 2.071171982410846 and reg = 0.1\n",
      "Length of the RPS is 51\n"
     ]
    },
    {
     "name": "stderr",
     "output_type": "stream",
     "text": [
      "100%|██████████| 20/20 [00:00<00:00, 9174.90it/s]\n",
      "100%|██████████| 100/100 [00:00<00:00, 9990.96it/s]\n",
      "100%|██████████| 500/500 [00:00<00:00, 10025.44it/s]\n"
     ]
    },
    {
     "name": "stdout",
     "output_type": "stream",
     "text": [
      "Running RAggregate with theta = 2.24376964761175 and reg = 0.1\n",
      "Length of the RPS is 185\n"
     ]
    },
    {
     "name": "stderr",
     "output_type": "stream",
     "text": [
      "100%|██████████| 20/20 [00:00<00:00, 2557.27it/s]\n",
      "100%|██████████| 100/100 [00:00<00:00, 2799.08it/s]\n",
      "100%|██████████| 500/500 [00:00<00:00, 2802.80it/s]\n"
     ]
    },
    {
     "name": "stdout",
     "output_type": "stream",
     "text": [
      "Running RAggregate with theta = 2.588964978013558 and reg = 0.1\n",
      "Length of the RPS is 1200\n"
     ]
    },
    {
     "name": "stderr",
     "output_type": "stream",
     "text": [
      "100%|██████████| 20/20 [00:00<00:00, 440.04it/s]\n",
      "100%|██████████| 100/100 [00:00<00:00, 441.10it/s]\n",
      "100%|██████████| 500/500 [00:01<00:00, 439.14it/s]\n"
     ]
    },
    {
     "name": "stdout",
     "output_type": "stream",
     "text": [
      "\n",
      "\n",
      "Running Iteration 8\n",
      "Running RAggregate with theta = 1.9787718796998695 and reg = 0.1\n",
      "Length of the RPS is 0\n"
     ]
    },
    {
     "name": "stderr",
     "output_type": "stream",
     "text": [
      "100%|██████████| 20/20 [00:00<00:00, 527585.41it/s]\n",
      "100%|██████████| 100/100 [00:00<00:00, 2086718.41it/s]\n",
      "100%|██████████| 500/500 [00:00<00:00, 4510004.30it/s]\n"
     ]
    },
    {
     "name": "stdout",
     "output_type": "stream",
     "text": [
      "Running RAggregate with theta = 2.1586602323998574 and reg = 0.1\n",
      "Length of the RPS is 41\n"
     ]
    },
    {
     "name": "stderr",
     "output_type": "stream",
     "text": [
      "100%|██████████| 20/20 [00:00<00:00, 12754.46it/s]\n",
      "100%|██████████| 100/100 [00:00<00:00, 12991.49it/s]\n",
      "100%|██████████| 500/500 [00:00<00:00, 13065.47it/s]\n"
     ]
    },
    {
     "name": "stdout",
     "output_type": "stream",
     "text": [
      "Running RAggregate with theta = 2.3385485850998453 and reg = 0.1\n",
      "Length of the RPS is 102\n"
     ]
    },
    {
     "name": "stderr",
     "output_type": "stream",
     "text": [
      "100%|██████████| 20/20 [00:00<00:00, 5220.37it/s]\n",
      "100%|██████████| 100/100 [00:00<00:00, 5412.98it/s]\n",
      "100%|██████████| 500/500 [00:00<00:00, 5368.10it/s]\n"
     ]
    },
    {
     "name": "stdout",
     "output_type": "stream",
     "text": [
      "Running RAggregate with theta = 2.6983252904998216 and reg = 0.1\n",
      "Length of the RPS is 847\n"
     ]
    },
    {
     "name": "stderr",
     "output_type": "stream",
     "text": [
      "100%|██████████| 20/20 [00:00<00:00, 614.97it/s]\n",
      "100%|██████████| 100/100 [00:00<00:00, 619.73it/s]\n",
      "100%|██████████| 500/500 [00:00<00:00, 548.13it/s]\n"
     ]
    },
    {
     "name": "stdout",
     "output_type": "stream",
     "text": [
      "\n",
      "\n",
      "Running Iteration 9\n",
      "Running RAggregate with theta = 2.010071718575194 and reg = 0.1\n",
      "Length of the RPS is 9\n"
     ]
    },
    {
     "name": "stderr",
     "output_type": "stream",
     "text": [
      "100%|██████████| 20/20 [00:00<00:00, 44057.82it/s]\n",
      "100%|██████████| 100/100 [00:00<00:00, 47079.40it/s]\n",
      "100%|██████████| 500/500 [00:00<00:00, 50740.41it/s]\n"
     ]
    },
    {
     "name": "stdout",
     "output_type": "stream",
     "text": [
      "Running RAggregate with theta = 2.1928055111729385 and reg = 0.1\n",
      "Length of the RPS is 48\n"
     ]
    },
    {
     "name": "stderr",
     "output_type": "stream",
     "text": [
      "100%|██████████| 20/20 [00:00<00:00, 10447.89it/s]\n",
      "100%|██████████| 100/100 [00:00<00:00, 10953.19it/s]\n",
      "100%|██████████| 500/500 [00:00<00:00, 11012.20it/s]\n"
     ]
    },
    {
     "name": "stdout",
     "output_type": "stream",
     "text": [
      "Running RAggregate with theta = 2.3755393037706836 and reg = 0.1\n",
      "Length of the RPS is 137\n"
     ]
    },
    {
     "name": "stderr",
     "output_type": "stream",
     "text": [
      "100%|██████████| 20/20 [00:00<00:00, 3921.56it/s]\n",
      "100%|██████████| 100/100 [00:00<00:00, 3959.28it/s]\n",
      "100%|██████████| 500/500 [00:00<00:00, 3939.65it/s]\n"
     ]
    },
    {
     "name": "stdout",
     "output_type": "stream",
     "text": [
      "Running RAggregate with theta = 2.741006888966173 and reg = 0.1\n",
      "Length of the RPS is 906\n"
     ]
    },
    {
     "name": "stderr",
     "output_type": "stream",
     "text": [
      "100%|██████████| 20/20 [00:00<00:00, 576.64it/s]\n",
      "100%|██████████| 100/100 [00:00<00:00, 594.12it/s]\n",
      "100%|██████████| 500/500 [00:00<00:00, 587.55it/s]\n"
     ]
    },
    {
     "name": "stdout",
     "output_type": "stream",
     "text": [
      "\n",
      "\n",
      "Running Iteration 10\n",
      "Running RAggregate with theta = 1.8899637891771157 and reg = 0.1\n",
      "Length of the RPS is 10\n"
     ]
    },
    {
     "name": "stderr",
     "output_type": "stream",
     "text": [
      "100%|██████████| 20/20 [00:00<00:00, 39290.90it/s]\n",
      "100%|██████████| 100/100 [00:00<00:00, 43289.34it/s]\n",
      "100%|██████████| 500/500 [00:00<00:00, 43565.42it/s]\n"
     ]
    },
    {
     "name": "stdout",
     "output_type": "stream",
     "text": [
      "Running RAggregate with theta = 2.0617786791023076 and reg = 0.1\n",
      "Length of the RPS is 50\n"
     ]
    },
    {
     "name": "stderr",
     "output_type": "stream",
     "text": [
      "100%|██████████| 20/20 [00:00<00:00, 10147.10it/s]\n",
      "100%|██████████| 100/100 [00:00<00:00, 10001.92it/s]\n",
      "100%|██████████| 500/500 [00:00<00:00, 10455.39it/s]\n"
     ]
    },
    {
     "name": "stdout",
     "output_type": "stream",
     "text": [
      "Running RAggregate with theta = 2.2335935690275 and reg = 0.1\n",
      "Length of the RPS is 185\n"
     ]
    },
    {
     "name": "stderr",
     "output_type": "stream",
     "text": [
      "100%|██████████| 20/20 [00:00<00:00, 2695.05it/s]\n",
      "100%|██████████| 100/100 [00:00<00:00, 2711.13it/s]\n",
      "100%|██████████| 500/500 [00:00<00:00, 2790.18it/s]\n"
     ]
    },
    {
     "name": "stdout",
     "output_type": "stream",
     "text": [
      "Running RAggregate with theta = 2.577223348877885 and reg = 0.1\n",
      "Length of the RPS is 1020\n"
     ]
    },
    {
     "name": "stderr",
     "output_type": "stream",
     "text": [
      "100%|██████████| 20/20 [00:00<00:00, 509.26it/s]\n",
      "100%|██████████| 100/100 [00:00<00:00, 513.40it/s]\n",
      "100%|██████████| 500/500 [00:00<00:00, 513.90it/s]\n"
     ]
    },
    {
     "name": "stdout",
     "output_type": "stream",
     "text": [
      "\n",
      "\n",
      "Running Iteration 11\n",
      "Running RAggregate with theta = 1.9961863041440522 and reg = 0.1\n",
      "Length of the RPS is 10\n"
     ]
    },
    {
     "name": "stderr",
     "output_type": "stream",
     "text": [
      "100%|██████████| 20/20 [00:00<00:00, 39926.74it/s]\n",
      "100%|██████████| 100/100 [00:00<00:00, 42465.36it/s]\n",
      "100%|██████████| 500/500 [00:00<00:00, 44040.24it/s]\n"
     ]
    },
    {
     "name": "stdout",
     "output_type": "stream",
     "text": [
      "Running RAggregate with theta = 2.177657786338966 and reg = 0.1\n",
      "Length of the RPS is 57\n"
     ]
    },
    {
     "name": "stderr",
     "output_type": "stream",
     "text": [
      "100%|██████████| 20/20 [00:00<00:00, 8944.99it/s]\n",
      "100%|██████████| 100/100 [00:00<00:00, 9022.92it/s]\n",
      "100%|██████████| 500/500 [00:00<00:00, 9137.96it/s]\n"
     ]
    },
    {
     "name": "stdout",
     "output_type": "stream",
     "text": [
      "Running RAggregate with theta = 2.35912926853388 and reg = 0.1\n",
      "Length of the RPS is 209\n"
     ]
    },
    {
     "name": "stderr",
     "output_type": "stream",
     "text": [
      "100%|██████████| 20/20 [00:00<00:00, 2464.56it/s]\n",
      "100%|██████████| 100/100 [00:00<00:00, 2378.69it/s]\n",
      "100%|██████████| 500/500 [00:00<00:00, 2369.74it/s]\n"
     ]
    },
    {
     "name": "stdout",
     "output_type": "stream",
     "text": [
      "Running RAggregate with theta = 2.7220722329237073 and reg = 0.1\n",
      "Length of the RPS is 1361\n"
     ]
    },
    {
     "name": "stderr",
     "output_type": "stream",
     "text": [
      "100%|██████████| 20/20 [00:00<00:00, 380.87it/s]\n",
      "100%|██████████| 100/100 [00:00<00:00, 385.64it/s]\n",
      "100%|██████████| 500/500 [00:01<00:00, 360.14it/s]\n"
     ]
    },
    {
     "name": "stdout",
     "output_type": "stream",
     "text": [
      "\n",
      "\n",
      "Running Iteration 12\n",
      "Running RAggregate with theta = 2.028828533865017 and reg = 0.1\n",
      "Length of the RPS is 9\n"
     ]
    },
    {
     "name": "stderr",
     "output_type": "stream",
     "text": [
      "100%|██████████| 20/20 [00:00<00:00, 45964.98it/s]\n",
      "100%|██████████| 100/100 [00:00<00:00, 49379.61it/s]\n",
      "100%|██████████| 500/500 [00:00<00:00, 50777.27it/s]\n"
     ]
    },
    {
     "name": "stdout",
     "output_type": "stream",
     "text": [
      "Running RAggregate with theta = 2.213267491489109 and reg = 0.1\n",
      "Length of the RPS is 48\n"
     ]
    },
    {
     "name": "stderr",
     "output_type": "stream",
     "text": [
      "100%|██████████| 20/20 [00:00<00:00, 11166.94it/s]\n",
      "100%|██████████| 100/100 [00:00<00:00, 11101.03it/s]\n",
      "100%|██████████| 500/500 [00:00<00:00, 10897.75it/s]\n"
     ]
    },
    {
     "name": "stdout",
     "output_type": "stream",
     "text": [
      "Running RAggregate with theta = 2.3977064491132016 and reg = 0.1\n",
      "Length of the RPS is 145\n"
     ]
    },
    {
     "name": "stderr",
     "output_type": "stream",
     "text": [
      "100%|██████████| 20/20 [00:00<00:00, 3691.36it/s]\n",
      "100%|██████████| 100/100 [00:00<00:00, 3678.79it/s]\n",
      "100%|██████████| 500/500 [00:00<00:00, 3710.36it/s]\n"
     ]
    },
    {
     "name": "stdout",
     "output_type": "stream",
     "text": [
      "Running RAggregate with theta = 2.7665843643613863 and reg = 0.1\n",
      "Length of the RPS is 903\n"
     ]
    },
    {
     "name": "stderr",
     "output_type": "stream",
     "text": [
      "100%|██████████| 20/20 [00:00<00:00, 620.14it/s]\n",
      "100%|██████████| 100/100 [00:00<00:00, 604.44it/s]\n",
      "100%|██████████| 500/500 [00:00<00:00, 608.59it/s]\n"
     ]
    },
    {
     "name": "stdout",
     "output_type": "stream",
     "text": [
      "\n",
      "\n",
      "Running Iteration 13\n",
      "Running RAggregate with theta = 1.9913213747426122 and reg = 0.1\n",
      "Length of the RPS is 0\n"
     ]
    },
    {
     "name": "stderr",
     "output_type": "stream",
     "text": [
      "100%|██████████| 20/20 [00:00<00:00, 716975.04it/s]\n",
      "100%|██████████| 100/100 [00:00<00:00, 2383127.27it/s]\n",
      "100%|██████████| 500/500 [00:00<00:00, 3628290.66it/s]\n"
     ]
    },
    {
     "name": "stdout",
     "output_type": "stream",
     "text": [
      "Running RAggregate with theta = 2.172350590628304 and reg = 0.1\n",
      "Length of the RPS is 40\n"
     ]
    },
    {
     "name": "stderr",
     "output_type": "stream",
     "text": [
      "100%|██████████| 20/20 [00:00<00:00, 13506.05it/s]\n",
      "100%|██████████| 100/100 [00:00<00:00, 14011.37it/s]\n",
      "100%|██████████| 500/500 [00:00<00:00, 13727.87it/s]\n"
     ]
    },
    {
     "name": "stdout",
     "output_type": "stream",
     "text": [
      "Running RAggregate with theta = 2.3533798065139964 and reg = 0.1\n",
      "Length of the RPS is 101\n"
     ]
    },
    {
     "name": "stderr",
     "output_type": "stream",
     "text": [
      "100%|██████████| 20/20 [00:00<00:00, 5265.92it/s]\n",
      "100%|██████████| 100/100 [00:00<00:00, 5355.68it/s]\n",
      "100%|██████████| 500/500 [00:00<00:00, 5482.87it/s]\n"
     ]
    },
    {
     "name": "stdout",
     "output_type": "stream",
     "text": [
      "Running RAggregate with theta = 2.71543823828538 and reg = 0.1\n",
      "Length of the RPS is 721\n"
     ]
    },
    {
     "name": "stderr",
     "output_type": "stream",
     "text": [
      "100%|██████████| 20/20 [00:00<00:00, 757.80it/s]\n",
      "100%|██████████| 100/100 [00:00<00:00, 725.56it/s]\n",
      "100%|██████████| 500/500 [00:00<00:00, 762.56it/s]\n"
     ]
    },
    {
     "name": "stdout",
     "output_type": "stream",
     "text": [
      "\n",
      "\n",
      "Running Iteration 14\n",
      "Running RAggregate with theta = 2.000057618277398 and reg = 0.1\n",
      "Length of the RPS is 0\n"
     ]
    },
    {
     "name": "stderr",
     "output_type": "stream",
     "text": [
      "100%|██████████| 20/20 [00:00<00:00, 607870.14it/s]\n",
      "100%|██████████| 100/100 [00:00<00:00, 2118335.35it/s]\n",
      "100%|██████████| 500/500 [00:00<00:00, 4588954.05it/s]\n"
     ]
    },
    {
     "name": "stdout",
     "output_type": "stream",
     "text": [
      "Running RAggregate with theta = 2.181881038120798 and reg = 0.1\n",
      "Length of the RPS is 40\n"
     ]
    },
    {
     "name": "stderr",
     "output_type": "stream",
     "text": [
      "100%|██████████| 20/20 [00:00<00:00, 13549.68it/s]\n",
      "100%|██████████| 100/100 [00:00<00:00, 13694.79it/s]\n",
      "100%|██████████| 500/500 [00:00<00:00, 13917.09it/s]\n"
     ]
    },
    {
     "name": "stdout",
     "output_type": "stream",
     "text": [
      "Running RAggregate with theta = 2.363704457964198 and reg = 0.1\n",
      "Length of the RPS is 94\n"
     ]
    },
    {
     "name": "stderr",
     "output_type": "stream",
     "text": [
      "100%|██████████| 20/20 [00:00<00:00, 5929.60it/s]\n",
      "100%|██████████| 100/100 [00:00<00:00, 5960.95it/s]\n",
      "100%|██████████| 500/500 [00:00<00:00, 5953.66it/s]\n"
     ]
    },
    {
     "name": "stdout",
     "output_type": "stream",
     "text": [
      "Running RAggregate with theta = 2.7273512976509973 and reg = 0.1\n",
      "Length of the RPS is 765\n"
     ]
    },
    {
     "name": "stderr",
     "output_type": "stream",
     "text": [
      "100%|██████████| 20/20 [00:00<00:00, 705.01it/s]\n",
      "100%|██████████| 100/100 [00:00<00:00, 693.19it/s]\n",
      "100%|██████████| 500/500 [00:00<00:00, 700.09it/s]\n"
     ]
    },
    {
     "name": "stdout",
     "output_type": "stream",
     "text": [
      "\n",
      "\n",
      "Running Iteration 15\n",
      "Running RAggregate with theta = 1.9557778016668201 and reg = 0.1\n",
      "Length of the RPS is 10\n"
     ]
    },
    {
     "name": "stderr",
     "output_type": "stream",
     "text": [
      "100%|██████████| 20/20 [00:00<00:00, 36889.22it/s]\n",
      "100%|██████████| 100/100 [00:00<00:00, 43914.82it/s]\n",
      "100%|██████████| 500/500 [00:00<00:00, 43629.77it/s]\n"
     ]
    },
    {
     "name": "stdout",
     "output_type": "stream",
     "text": [
      "Running RAggregate with theta = 2.1335757836365308 and reg = 0.1\n",
      "Length of the RPS is 49\n"
     ]
    },
    {
     "name": "stderr",
     "output_type": "stream",
     "text": [
      "100%|██████████| 20/20 [00:00<00:00, 10818.43it/s]\n",
      "100%|██████████| 100/100 [00:00<00:00, 10638.15it/s]\n",
      "100%|██████████| 500/500 [00:00<00:00, 10944.50it/s]\n"
     ]
    },
    {
     "name": "stdout",
     "output_type": "stream",
     "text": [
      "Running RAggregate with theta = 2.3113737656062416 and reg = 0.1\n",
      "Length of the RPS is 146\n"
     ]
    },
    {
     "name": "stderr",
     "output_type": "stream",
     "text": [
      "100%|██████████| 20/20 [00:00<00:00, 3780.01it/s]\n",
      "100%|██████████| 100/100 [00:00<00:00, 3762.48it/s]\n",
      "100%|██████████| 500/500 [00:00<00:00, 3727.22it/s]\n"
     ]
    },
    {
     "name": "stdout",
     "output_type": "stream",
     "text": [
      "Running RAggregate with theta = 2.666969729545664 and reg = 0.1\n",
      "Length of the RPS is 867\n"
     ]
    },
    {
     "name": "stderr",
     "output_type": "stream",
     "text": [
      "100%|██████████| 20/20 [00:00<00:00, 549.37it/s]\n",
      "100%|██████████| 100/100 [00:00<00:00, 572.67it/s]\n",
      "100%|██████████| 500/500 [00:00<00:00, 610.31it/s]\n"
     ]
    },
    {
     "name": "stdout",
     "output_type": "stream",
     "text": [
      "\n",
      "\n",
      "Running Iteration 16\n",
      "Running RAggregate with theta = 1.999188818843542 and reg = 0.1\n",
      "Length of the RPS is 9\n"
     ]
    },
    {
     "name": "stderr",
     "output_type": "stream",
     "text": [
      "100%|██████████| 20/20 [00:00<00:00, 43129.09it/s]\n",
      "100%|██████████| 100/100 [00:00<00:00, 50521.61it/s]\n",
      "100%|██████████| 500/500 [00:00<00:00, 50201.13it/s]\n"
     ]
    },
    {
     "name": "stdout",
     "output_type": "stream",
     "text": [
      "Running RAggregate with theta = 2.1809332569202273 and reg = 0.1\n",
      "Length of the RPS is 41\n"
     ]
    },
    {
     "name": "stderr",
     "output_type": "stream",
     "text": [
      "100%|██████████| 20/20 [00:00<00:00, 12641.06it/s]\n",
      "100%|██████████| 100/100 [00:00<00:00, 12825.44it/s]\n",
      "100%|██████████| 500/500 [00:00<00:00, 13332.94it/s]\n"
     ]
    },
    {
     "name": "stdout",
     "output_type": "stream",
     "text": [
      "Running RAggregate with theta = 2.3626776949969135 and reg = 0.1\n",
      "Length of the RPS is 119\n"
     ]
    },
    {
     "name": "stderr",
     "output_type": "stream",
     "text": [
      "100%|██████████| 20/20 [00:00<00:00, 4516.56it/s]\n",
      "100%|██████████| 100/100 [00:00<00:00, 4493.34it/s]\n",
      "100%|██████████| 500/500 [00:00<00:00, 4542.15it/s]\n"
     ]
    },
    {
     "name": "stdout",
     "output_type": "stream",
     "text": [
      "Running RAggregate with theta = 2.7261665711502845 and reg = 0.1\n",
      "Length of the RPS is 886\n"
     ]
    },
    {
     "name": "stderr",
     "output_type": "stream",
     "text": [
      "100%|██████████| 20/20 [00:00<00:00, 613.06it/s]\n",
      "100%|██████████| 100/100 [00:00<00:00, 613.41it/s]\n",
      "100%|██████████| 500/500 [00:00<00:00, 611.30it/s]\n"
     ]
    },
    {
     "name": "stdout",
     "output_type": "stream",
     "text": [
      "\n",
      "\n",
      "Running Iteration 17\n",
      "Running RAggregate with theta = 2.020478642607833 and reg = 0.1\n",
      "Length of the RPS is 9\n"
     ]
    },
    {
     "name": "stderr",
     "output_type": "stream",
     "text": [
      "100%|██████████| 20/20 [00:00<00:00, 45990.18it/s]\n",
      "100%|██████████| 100/100 [00:00<00:00, 48686.06it/s]\n",
      "100%|██████████| 500/500 [00:00<00:00, 51882.73it/s]\n"
     ]
    },
    {
     "name": "stdout",
     "output_type": "stream",
     "text": [
      "Running RAggregate with theta = 2.2041585192085447 and reg = 0.1\n",
      "Length of the RPS is 49\n"
     ]
    },
    {
     "name": "stderr",
     "output_type": "stream",
     "text": [
      "100%|██████████| 20/20 [00:00<00:00, 10982.73it/s]\n",
      "100%|██████████| 100/100 [00:00<00:00, 10615.53it/s]\n",
      "100%|██████████| 500/500 [00:00<00:00, 10931.55it/s]\n"
     ]
    },
    {
     "name": "stdout",
     "output_type": "stream",
     "text": [
      "Running RAggregate with theta = 2.387838395809257 and reg = 0.1\n",
      "Length of the RPS is 112\n"
     ]
    },
    {
     "name": "stderr",
     "output_type": "stream",
     "text": [
      "100%|██████████| 20/20 [00:00<00:00, 4761.93it/s]\n",
      "100%|██████████| 100/100 [00:00<00:00, 4877.15it/s]\n",
      "100%|██████████| 500/500 [00:00<00:00, 4879.00it/s]\n"
     ]
    },
    {
     "name": "stdout",
     "output_type": "stream",
     "text": [
      "Running RAggregate with theta = 2.7551981490106807 and reg = 0.1\n",
      "Length of the RPS is 1014\n"
     ]
    },
    {
     "name": "stderr",
     "output_type": "stream",
     "text": [
      "100%|██████████| 20/20 [00:00<00:00, 531.52it/s]\n",
      "100%|██████████| 100/100 [00:00<00:00, 527.03it/s]\n",
      "100%|██████████| 500/500 [00:00<00:00, 530.04it/s]\n"
     ]
    },
    {
     "name": "stdout",
     "output_type": "stream",
     "text": [
      "\n",
      "\n",
      "Running Iteration 18\n",
      "Running RAggregate with theta = 2.055913428114843 and reg = 0.1\n",
      "Length of the RPS is 9\n"
     ]
    },
    {
     "name": "stderr",
     "output_type": "stream",
     "text": [
      "100%|██████████| 20/20 [00:00<00:00, 44243.71it/s]\n",
      "100%|██████████| 100/100 [00:00<00:00, 49997.66it/s]\n",
      "100%|██████████| 500/500 [00:00<00:00, 50459.61it/s]\n"
     ]
    },
    {
     "name": "stdout",
     "output_type": "stream",
     "text": [
      "Running RAggregate with theta = 2.2428146488525558 and reg = 0.1\n",
      "Length of the RPS is 48\n"
     ]
    },
    {
     "name": "stderr",
     "output_type": "stream",
     "text": [
      "100%|██████████| 20/20 [00:00<00:00, 11044.91it/s]\n",
      "100%|██████████| 100/100 [00:00<00:00, 11266.23it/s]\n",
      "100%|██████████| 500/500 [00:00<00:00, 11451.59it/s]\n"
     ]
    },
    {
     "name": "stdout",
     "output_type": "stream",
     "text": [
      "Running RAggregate with theta = 2.429715869590269 and reg = 0.1\n",
      "Length of the RPS is 145\n"
     ]
    },
    {
     "name": "stderr",
     "output_type": "stream",
     "text": [
      "100%|██████████| 20/20 [00:00<00:00, 3403.50it/s]\n",
      "100%|██████████| 100/100 [00:00<00:00, 3578.82it/s]\n",
      "100%|██████████| 500/500 [00:00<00:00, 3753.64it/s]\n"
     ]
    },
    {
     "name": "stdout",
     "output_type": "stream",
     "text": [
      "Running RAggregate with theta = 2.8035183110656945 and reg = 0.1\n",
      "Length of the RPS is 1017\n"
     ]
    },
    {
     "name": "stderr",
     "output_type": "stream",
     "text": [
      "100%|██████████| 20/20 [00:00<00:00, 514.59it/s]\n",
      "100%|██████████| 100/100 [00:00<00:00, 530.79it/s]\n",
      "100%|██████████| 500/500 [00:01<00:00, 499.09it/s]\n"
     ]
    },
    {
     "name": "stdout",
     "output_type": "stream",
     "text": [
      "\n",
      "\n",
      "Running Iteration 19\n",
      "Running RAggregate with theta = 1.9876535349228515 and reg = 0.1\n",
      "Length of the RPS is 10\n"
     ]
    },
    {
     "name": "stderr",
     "output_type": "stream",
     "text": [
      "100%|██████████| 20/20 [00:00<00:00, 39217.43it/s]\n",
      "100%|██████████| 100/100 [00:00<00:00, 43727.11it/s]\n",
      "100%|██████████| 500/500 [00:00<00:00, 44338.19it/s]\n"
     ]
    },
    {
     "name": "stdout",
     "output_type": "stream",
     "text": [
      "Running RAggregate with theta = 2.1683493108249285 and reg = 0.1\n",
      "Length of the RPS is 49\n"
     ]
    },
    {
     "name": "stderr",
     "output_type": "stream",
     "text": [
      "100%|██████████| 20/20 [00:00<00:00, 10378.09it/s]\n",
      "100%|██████████| 100/100 [00:00<00:00, 10533.95it/s]\n",
      "100%|██████████| 500/500 [00:00<00:00, 10344.20it/s]\n"
     ]
    },
    {
     "name": "stdout",
     "output_type": "stream",
     "text": [
      "Running RAggregate with theta = 2.3490450867270063 and reg = 0.1\n",
      "Length of the RPS is 146\n"
     ]
    },
    {
     "name": "stderr",
     "output_type": "stream",
     "text": [
      "100%|██████████| 20/20 [00:00<00:00, 3555.40it/s]\n",
      "100%|██████████| 100/100 [00:00<00:00, 3702.89it/s]\n",
      "100%|██████████| 500/500 [00:00<00:00, 3512.81it/s]\n"
     ]
    },
    {
     "name": "stdout",
     "output_type": "stream",
     "text": [
      "Running RAggregate with theta = 2.710436638531161 and reg = 0.1\n",
      "Length of the RPS is 1092\n"
     ]
    },
    {
     "name": "stderr",
     "output_type": "stream",
     "text": [
      "100%|██████████| 20/20 [00:00<00:00, 445.52it/s]\n",
      "100%|██████████| 100/100 [00:00<00:00, 406.60it/s]\n",
      "100%|██████████| 500/500 [00:01<00:00, 482.45it/s]\n"
     ]
    },
    {
     "name": "stdout",
     "output_type": "stream",
     "text": [
      "\n",
      "\n",
      "Running Iteration 20\n",
      "Running RAggregate with theta = 1.933315464076884 and reg = 0.1\n",
      "Length of the RPS is 9\n"
     ]
    },
    {
     "name": "stderr",
     "output_type": "stream",
     "text": [
      "100%|██████████| 20/20 [00:00<00:00, 45172.90it/s]\n",
      "100%|██████████| 100/100 [00:00<00:00, 49872.82it/s]\n",
      "100%|██████████| 500/500 [00:00<00:00, 51771.30it/s]\n"
     ]
    },
    {
     "name": "stdout",
     "output_type": "stream",
     "text": [
      "Running RAggregate with theta = 2.1090714153566004 and reg = 0.1\n",
      "Length of the RPS is 49\n"
     ]
    },
    {
     "name": "stderr",
     "output_type": "stream",
     "text": [
      "100%|██████████| 20/20 [00:00<00:00, 10335.89it/s]\n",
      "100%|██████████| 100/100 [00:00<00:00, 10859.88it/s]\n",
      "100%|██████████| 500/500 [00:00<00:00, 10839.62it/s]\n"
     ]
    },
    {
     "name": "stdout",
     "output_type": "stream",
     "text": [
      "Running RAggregate with theta = 2.2848273666363172 and reg = 0.1\n",
      "Length of the RPS is 170\n"
     ]
    },
    {
     "name": "stderr",
     "output_type": "stream",
     "text": [
      "100%|██████████| 20/20 [00:00<00:00, 3028.93it/s]\n",
      "100%|██████████| 100/100 [00:00<00:00, 3094.08it/s]\n",
      "100%|██████████| 500/500 [00:00<00:00, 3001.11it/s]\n"
     ]
    },
    {
     "name": "stdout",
     "output_type": "stream",
     "text": [
      "Running RAggregate with theta = 2.6363392691957506 and reg = 0.1\n",
      "Length of the RPS is 954\n"
     ]
    },
    {
     "name": "stderr",
     "output_type": "stream",
     "text": [
      "100%|██████████| 20/20 [00:00<00:00, 538.07it/s]\n",
      "100%|██████████| 100/100 [00:00<00:00, 546.59it/s]\n",
      "100%|██████████| 500/500 [00:00<00:00, 528.85it/s]\n"
     ]
    },
    {
     "name": "stdout",
     "output_type": "stream",
     "text": [
      "\n",
      "\n",
      "Running Iteration 21\n",
      "Running RAggregate with theta = 1.948805404209687 and reg = 0.1\n",
      "Length of the RPS is 0\n"
     ]
    },
    {
     "name": "stderr",
     "output_type": "stream",
     "text": [
      "100%|██████████| 20/20 [00:00<00:00, 687590.82it/s]\n",
      "100%|██████████| 100/100 [00:00<00:00, 1923992.66it/s]\n",
      "100%|██████████| 500/500 [00:00<00:00, 4500326.18it/s]\n"
     ]
    },
    {
     "name": "stdout",
     "output_type": "stream",
     "text": [
      "Running RAggregate with theta = 2.125969531865113 and reg = 0.1\n",
      "Length of the RPS is 40\n"
     ]
    },
    {
     "name": "stderr",
     "output_type": "stream",
     "text": [
      "100%|██████████| 20/20 [00:00<00:00, 13090.84it/s]\n",
      "100%|██████████| 100/100 [00:00<00:00, 13286.99it/s]\n",
      "100%|██████████| 500/500 [00:00<00:00, 14024.40it/s]\n"
     ]
    },
    {
     "name": "stdout",
     "output_type": "stream",
     "text": [
      "Running RAggregate with theta = 2.303133659520539 and reg = 0.1\n",
      "Length of the RPS is 92\n"
     ]
    },
    {
     "name": "stderr",
     "output_type": "stream",
     "text": [
      "100%|██████████| 20/20 [00:00<00:00, 6169.00it/s]\n",
      "100%|██████████| 100/100 [00:00<00:00, 6398.73it/s]\n",
      "100%|██████████| 500/500 [00:00<00:00, 5268.25it/s]\n"
     ]
    },
    {
     "name": "stdout",
     "output_type": "stream",
     "text": [
      "Running RAggregate with theta = 2.6574619148313907 and reg = 0.1\n",
      "Length of the RPS is 515\n"
     ]
    },
    {
     "name": "stderr",
     "output_type": "stream",
     "text": [
      "100%|██████████| 20/20 [00:00<00:00, 1139.52it/s]\n",
      "100%|██████████| 100/100 [00:00<00:00, 1041.57it/s]\n",
      "100%|██████████| 500/500 [00:00<00:00, 1045.53it/s]\n"
     ]
    },
    {
     "name": "stdout",
     "output_type": "stream",
     "text": [
      "\n",
      "\n",
      "Running Iteration 22\n",
      "Running RAggregate with theta = 2.0256759140346037 and reg = 0.1\n",
      "Length of the RPS is 9\n"
     ]
    },
    {
     "name": "stderr",
     "output_type": "stream",
     "text": [
      "100%|██████████| 20/20 [00:00<00:00, 42646.71it/s]\n",
      "100%|██████████| 100/100 [00:00<00:00, 49754.50it/s]\n",
      "100%|██████████| 500/500 [00:00<00:00, 50362.67it/s]\n"
     ]
    },
    {
     "name": "stdout",
     "output_type": "stream",
     "text": [
      "Running RAggregate with theta = 2.2098282698559313 and reg = 0.1\n",
      "Length of the RPS is 49\n"
     ]
    },
    {
     "name": "stderr",
     "output_type": "stream",
     "text": [
      "100%|██████████| 20/20 [00:00<00:00, 10811.46it/s]\n",
      "100%|██████████| 100/100 [00:00<00:00, 10821.50it/s]\n",
      "100%|██████████| 500/500 [00:00<00:00, 11008.09it/s]\n"
     ]
    },
    {
     "name": "stdout",
     "output_type": "stream",
     "text": [
      "Running RAggregate with theta = 2.393980625677259 and reg = 0.1\n",
      "Length of the RPS is 146\n"
     ]
    },
    {
     "name": "stderr",
     "output_type": "stream",
     "text": [
      "100%|██████████| 20/20 [00:00<00:00, 3677.12it/s]\n",
      "100%|██████████| 100/100 [00:00<00:00, 3684.06it/s]\n",
      "100%|██████████| 500/500 [00:00<00:00, 3702.30it/s]\n"
     ]
    },
    {
     "name": "stdout",
     "output_type": "stream",
     "text": [
      "Running RAggregate with theta = 2.762285337319914 and reg = 0.1\n",
      "Length of the RPS is 1042\n"
     ]
    },
    {
     "name": "stderr",
     "output_type": "stream",
     "text": [
      "100%|██████████| 20/20 [00:00<00:00, 505.89it/s]\n",
      "100%|██████████| 100/100 [00:00<00:00, 514.44it/s]\n",
      "100%|██████████| 500/500 [00:00<00:00, 506.98it/s]\n"
     ]
    },
    {
     "name": "stdout",
     "output_type": "stream",
     "text": [
      "\n",
      "\n",
      "Running Iteration 23\n",
      "Running RAggregate with theta = 1.9158360802805618 and reg = 0.1\n",
      "Length of the RPS is 0\n"
     ]
    },
    {
     "name": "stderr",
     "output_type": "stream",
     "text": [
      "100%|██████████| 20/20 [00:00<00:00, 682000.65it/s]\n",
      "100%|██████████| 100/100 [00:00<00:00, 2383127.27it/s]\n",
      "100%|██████████| 500/500 [00:00<00:00, 4211148.59it/s]\n"
     ]
    },
    {
     "name": "stdout",
     "output_type": "stream",
     "text": [
      "Running RAggregate with theta = 2.0900029966697034 and reg = 0.1\n",
      "Length of the RPS is 40\n"
     ]
    },
    {
     "name": "stderr",
     "output_type": "stream",
     "text": [
      "100%|██████████| 20/20 [00:00<00:00, 13957.75it/s]\n",
      "100%|██████████| 100/100 [00:00<00:00, 13927.62it/s]\n",
      "100%|██████████| 500/500 [00:00<00:00, 13895.42it/s]\n"
     ]
    },
    {
     "name": "stdout",
     "output_type": "stream",
     "text": [
      "Running RAggregate with theta = 2.2641699130588457 and reg = 0.1\n",
      "Length of the RPS is 93\n"
     ]
    },
    {
     "name": "stderr",
     "output_type": "stream",
     "text": [
      "100%|██████████| 20/20 [00:00<00:00, 6156.32it/s]\n",
      "100%|██████████| 100/100 [00:00<00:00, 6084.17it/s]\n",
      "100%|██████████| 500/500 [00:00<00:00, 6097.61it/s]\n"
     ]
    },
    {
     "name": "stdout",
     "output_type": "stream",
     "text": [
      "Running RAggregate with theta = 2.6125037458371296 and reg = 0.1\n",
      "Length of the RPS is 564\n"
     ]
    },
    {
     "name": "stderr",
     "output_type": "stream",
     "text": [
      "100%|██████████| 20/20 [00:00<00:00, 929.66it/s]\n",
      "100%|██████████| 100/100 [00:00<00:00, 948.24it/s]\n",
      "100%|██████████| 500/500 [00:00<00:00, 955.79it/s]\n"
     ]
    },
    {
     "name": "stdout",
     "output_type": "stream",
     "text": [
      "\n",
      "\n",
      "Running Iteration 24\n",
      "Running RAggregate with theta = 1.9930294578246968 and reg = 0.1\n",
      "Length of the RPS is 10\n"
     ]
    },
    {
     "name": "stderr",
     "output_type": "stream",
     "text": [
      "100%|██████████| 20/20 [00:00<00:00, 40252.44it/s]\n",
      "100%|██████████| 100/100 [00:00<00:00, 42737.97it/s]\n",
      "100%|██████████| 500/500 [00:00<00:00, 41577.16it/s]\n"
     ]
    },
    {
     "name": "stdout",
     "output_type": "stream",
     "text": [
      "Running RAggregate with theta = 2.174213953990578 and reg = 0.1\n",
      "Length of the RPS is 51\n"
     ]
    },
    {
     "name": "stderr",
     "output_type": "stream",
     "text": [
      "100%|██████████| 20/20 [00:00<00:00, 10292.77it/s]\n",
      "100%|██████████| 100/100 [00:00<00:00, 9953.26it/s]\n",
      "100%|██████████| 500/500 [00:00<00:00, 10201.59it/s]\n"
     ]
    },
    {
     "name": "stdout",
     "output_type": "stream",
     "text": [
      "Running RAggregate with theta = 2.3553984501564598 and reg = 0.1\n",
      "Length of the RPS is 178\n"
     ]
    },
    {
     "name": "stderr",
     "output_type": "stream",
     "text": [
      "100%|██████████| 20/20 [00:00<00:00, 3110.00it/s]\n",
      "100%|██████████| 100/100 [00:00<00:00, 2925.18it/s]\n",
      "100%|██████████| 500/500 [00:00<00:00, 2980.42it/s]\n"
     ]
    },
    {
     "name": "stdout",
     "output_type": "stream",
     "text": [
      "Running RAggregate with theta = 2.7177674424882223 and reg = 0.1\n",
      "Length of the RPS is 1266\n"
     ]
    },
    {
     "name": "stderr",
     "output_type": "stream",
     "text": [
      "100%|██████████| 20/20 [00:00<00:00, 193.14it/s]\n",
      "100%|██████████| 100/100 [00:00<00:00, 429.49it/s]\n",
      "100%|██████████| 500/500 [00:01<00:00, 420.74it/s]\n"
     ]
    },
    {
     "name": "stdout",
     "output_type": "stream",
     "text": [
      "\n",
      "\n",
      "Running Iteration 25\n",
      "Running RAggregate with theta = 2.0131404599398044 and reg = 0.1\n",
      "Length of the RPS is 9\n"
     ]
    },
    {
     "name": "stderr",
     "output_type": "stream",
     "text": [
      "100%|██████████| 20/20 [00:00<00:00, 44267.06it/s]\n",
      "100%|██████████| 100/100 [00:00<00:00, 50994.58it/s]\n",
      "100%|██████████| 500/500 [00:00<00:00, 51572.69it/s]\n"
     ]
    },
    {
     "name": "stdout",
     "output_type": "stream",
     "text": [
      "Running RAggregate with theta = 2.196153229025241 and reg = 0.1\n",
      "Length of the RPS is 49\n"
     ]
    },
    {
     "name": "stderr",
     "output_type": "stream",
     "text": [
      "100%|██████████| 20/20 [00:00<00:00, 10566.33it/s]\n",
      "100%|██████████| 100/100 [00:00<00:00, 10763.18it/s]\n",
      "100%|██████████| 500/500 [00:00<00:00, 10772.86it/s]\n"
     ]
    },
    {
     "name": "stdout",
     "output_type": "stream",
     "text": [
      "Running RAggregate with theta = 2.379165998110678 and reg = 0.1\n",
      "Length of the RPS is 145\n"
     ]
    },
    {
     "name": "stderr",
     "output_type": "stream",
     "text": [
      "100%|██████████| 20/20 [00:00<00:00, 3646.43it/s]\n",
      "100%|██████████| 100/100 [00:00<00:00, 3757.70it/s]\n",
      "100%|██████████| 500/500 [00:00<00:00, 3679.82it/s]\n"
     ]
    },
    {
     "name": "stdout",
     "output_type": "stream",
     "text": [
      "Running RAggregate with theta = 2.7451915362815513 and reg = 0.1\n",
      "Length of the RPS is 869\n"
     ]
    },
    {
     "name": "stderr",
     "output_type": "stream",
     "text": [
      "100%|██████████| 20/20 [00:00<00:00, 616.18it/s]\n",
      "100%|██████████| 100/100 [00:00<00:00, 619.36it/s]\n",
      "100%|██████████| 500/500 [00:00<00:00, 611.63it/s]\n"
     ]
    },
    {
     "name": "stdout",
     "output_type": "stream",
     "text": [
      "\n",
      "\n",
      "Running Iteration 26\n",
      "Running RAggregate with theta = 1.9477120205613825 and reg = 0.1\n",
      "Length of the RPS is 0\n"
     ]
    },
    {
     "name": "stderr",
     "output_type": "stream",
     "text": [
      "100%|██████████| 20/20 [00:00<00:00, 671088.64it/s]\n",
      "100%|██████████| 100/100 [00:00<00:00, 2097152.00it/s]\n",
      "100%|██████████| 500/500 [00:00<00:00, 4670717.15it/s]\n"
     ]
    },
    {
     "name": "stdout",
     "output_type": "stream",
     "text": [
      "Running RAggregate with theta = 2.124776749703326 and reg = 0.1\n",
      "Length of the RPS is 39\n"
     ]
    },
    {
     "name": "stderr",
     "output_type": "stream",
     "text": [
      "100%|██████████| 20/20 [00:00<00:00, 14576.21it/s]\n",
      "100%|██████████| 100/100 [00:00<00:00, 14180.01it/s]\n",
      "100%|██████████| 500/500 [00:00<00:00, 14752.68it/s]\n"
     ]
    },
    {
     "name": "stdout",
     "output_type": "stream",
     "text": [
      "Running RAggregate with theta = 2.30184147884527 and reg = 0.1\n",
      "Length of the RPS is 85\n"
     ]
    },
    {
     "name": "stderr",
     "output_type": "stream",
     "text": [
      "100%|██████████| 20/20 [00:00<00:00, 7022.11it/s]\n",
      "100%|██████████| 100/100 [00:00<00:00, 6854.11it/s]\n",
      "100%|██████████| 500/500 [00:00<00:00, 6919.83it/s]\n"
     ]
    },
    {
     "name": "stdout",
     "output_type": "stream",
     "text": [
      "Running RAggregate with theta = 2.6559709371291578 and reg = 0.1\n",
      "Length of the RPS is 542\n"
     ]
    },
    {
     "name": "stderr",
     "output_type": "stream",
     "text": [
      "100%|██████████| 20/20 [00:00<00:00, 967.54it/s]\n",
      "100%|██████████| 100/100 [00:00<00:00, 983.19it/s]\n",
      "100%|██████████| 500/500 [00:00<00:00, 997.27it/s] \n"
     ]
    },
    {
     "name": "stdout",
     "output_type": "stream",
     "text": [
      "\n",
      "\n",
      "Running Iteration 27\n",
      "Running RAggregate with theta = 2.0118602210157714 and reg = 0.1\n",
      "Length of the RPS is 9\n"
     ]
    },
    {
     "name": "stderr",
     "output_type": "stream",
     "text": [
      "100%|██████████| 20/20 [00:00<00:00, 45764.36it/s]\n",
      "100%|██████████| 100/100 [00:00<00:00, 50710.97it/s]\n",
      "100%|██████████| 500/500 [00:00<00:00, 51398.26it/s]\n"
     ]
    },
    {
     "name": "stdout",
     "output_type": "stream",
     "text": [
      "Running RAggregate with theta = 2.1947566047444775 and reg = 0.1\n",
      "Length of the RPS is 49\n"
     ]
    },
    {
     "name": "stderr",
     "output_type": "stream",
     "text": [
      "100%|██████████| 20/20 [00:00<00:00, 10390.94it/s]\n",
      "100%|██████████| 100/100 [00:00<00:00, 10759.87it/s]\n",
      "100%|██████████| 500/500 [00:00<00:00, 10672.09it/s]\n"
     ]
    },
    {
     "name": "stdout",
     "output_type": "stream",
     "text": [
      "Running RAggregate with theta = 2.377652988473184 and reg = 0.1\n",
      "Length of the RPS is 145\n"
     ]
    },
    {
     "name": "stderr",
     "output_type": "stream",
     "text": [
      "100%|██████████| 20/20 [00:00<00:00, 3797.30it/s]\n",
      "100%|██████████| 100/100 [00:00<00:00, 3765.05it/s]\n",
      "100%|██████████| 500/500 [00:00<00:00, 3686.48it/s]\n"
     ]
    },
    {
     "name": "stdout",
     "output_type": "stream",
     "text": [
      "Running RAggregate with theta = 2.743445755930597 and reg = 0.1\n",
      "Length of the RPS is 896\n"
     ]
    },
    {
     "name": "stderr",
     "output_type": "stream",
     "text": [
      "100%|██████████| 20/20 [00:00<00:00, 625.76it/s]\n",
      "100%|██████████| 100/100 [00:00<00:00, 609.14it/s]\n",
      "100%|██████████| 500/500 [00:00<00:00, 592.29it/s]\n"
     ]
    },
    {
     "name": "stdout",
     "output_type": "stream",
     "text": [
      "\n",
      "\n",
      "Running Iteration 28\n",
      "Running RAggregate with theta = 1.9529706475492181 and reg = 0.1\n",
      "Length of the RPS is 0\n"
     ]
    },
    {
     "name": "stderr",
     "output_type": "stream",
     "text": [
      "100%|██████████| 20/20 [00:00<00:00, 590747.04it/s]\n",
      "100%|██████████| 100/100 [00:00<00:00, 2383127.27it/s]\n",
      "100%|██████████| 500/500 [00:00<00:00, 4712701.12it/s]\n"
     ]
    },
    {
     "name": "stdout",
     "output_type": "stream",
     "text": [
      "Running RAggregate with theta = 2.130513433690056 and reg = 0.1\n",
      "Length of the RPS is 40\n"
     ]
    },
    {
     "name": "stderr",
     "output_type": "stream",
     "text": [
      "100%|██████████| 20/20 [00:00<00:00, 14162.77it/s]\n",
      "100%|██████████| 100/100 [00:00<00:00, 13994.07it/s]\n",
      "100%|██████████| 500/500 [00:00<00:00, 13960.54it/s]\n"
     ]
    },
    {
     "name": "stdout",
     "output_type": "stream",
     "text": [
      "Running RAggregate with theta = 2.308056219830894 and reg = 0.1\n",
      "Length of the RPS is 92\n"
     ]
    },
    {
     "name": "stderr",
     "output_type": "stream",
     "text": [
      "100%|██████████| 20/20 [00:00<00:00, 6391.81it/s]\n",
      "100%|██████████| 100/100 [00:00<00:00, 6211.94it/s]\n",
      "100%|██████████| 500/500 [00:00<00:00, 6467.36it/s]\n"
     ]
    },
    {
     "name": "stdout",
     "output_type": "stream",
     "text": [
      "Running RAggregate with theta = 2.66314179211257 and reg = 0.1\n",
      "Length of the RPS is 572\n"
     ]
    },
    {
     "name": "stderr",
     "output_type": "stream",
     "text": [
      "100%|██████████| 20/20 [00:00<00:00, 920.06it/s]\n",
      "100%|██████████| 100/100 [00:00<00:00, 932.22it/s]\n",
      "100%|██████████| 500/500 [00:00<00:00, 946.81it/s]\n"
     ]
    },
    {
     "name": "stdout",
     "output_type": "stream",
     "text": [
      "\n",
      "\n",
      "Running Iteration 29\n",
      "Running RAggregate with theta = 1.9824275159280393 and reg = 0.1\n",
      "Length of the RPS is 9\n"
     ]
    },
    {
     "name": "stderr",
     "output_type": "stream",
     "text": [
      "100%|██████████| 20/20 [00:00<00:00, 44454.73it/s]\n",
      "100%|██████████| 100/100 [00:00<00:00, 50297.45it/s]\n",
      "100%|██████████| 500/500 [00:00<00:00, 51979.18it/s]\n"
     ]
    },
    {
     "name": "stdout",
     "output_type": "stream",
     "text": [
      "Running RAggregate with theta = 2.1626481991942246 and reg = 0.1\n",
      "Length of the RPS is 48\n"
     ]
    },
    {
     "name": "stderr",
     "output_type": "stream",
     "text": [
      "100%|██████████| 20/20 [00:00<00:00, 11434.85it/s]\n",
      "100%|██████████| 100/100 [00:00<00:00, 11013.01it/s]\n",
      "100%|██████████| 500/500 [00:00<00:00, 11328.55it/s]\n"
     ]
    },
    {
     "name": "stdout",
     "output_type": "stream",
     "text": [
      "Running RAggregate with theta = 2.3428688824604103 and reg = 0.1\n",
      "Length of the RPS is 103\n"
     ]
    },
    {
     "name": "stderr",
     "output_type": "stream",
     "text": [
      "100%|██████████| 20/20 [00:00<00:00, 5424.60it/s]\n",
      "100%|██████████| 100/100 [00:00<00:00, 5441.78it/s]\n",
      "100%|██████████| 500/500 [00:00<00:00, 5438.28it/s]\n"
     ]
    },
    {
     "name": "stdout",
     "output_type": "stream",
     "text": [
      "Running RAggregate with theta = 2.7033102489927807 and reg = 0.1\n",
      "Length of the RPS is 835\n"
     ]
    },
    {
     "name": "stderr",
     "output_type": "stream",
     "text": [
      "100%|██████████| 20/20 [00:00<00:00, 646.54it/s]\n",
      "100%|██████████| 100/100 [00:00<00:00, 652.94it/s]\n",
      "100%|██████████| 500/500 [00:00<00:00, 655.19it/s]\n"
     ]
    },
    {
     "name": "stdout",
     "output_type": "stream",
     "text": [
      "\n",
      "\n",
      "Running Iteration 30\n",
      "Running RAggregate with theta = 1.8773344126122473 and reg = 0.1\n",
      "Length of the RPS is 9\n"
     ]
    },
    {
     "name": "stderr",
     "output_type": "stream",
     "text": [
      "100%|██████████| 20/20 [00:00<00:00, 44955.03it/s]\n",
      "100%|██████████| 100/100 [00:00<00:00, 52219.92it/s]\n",
      "100%|██████████| 500/500 [00:00<00:00, 50734.28it/s]\n"
     ]
    },
    {
     "name": "stdout",
     "output_type": "stream",
     "text": [
      "Running RAggregate with theta = 2.0480011773951787 and reg = 0.1\n",
      "Length of the RPS is 49\n"
     ]
    },
    {
     "name": "stderr",
     "output_type": "stream",
     "text": [
      "100%|██████████| 20/20 [00:00<00:00, 11115.16it/s]\n",
      "100%|██████████| 100/100 [00:00<00:00, 10921.81it/s]\n",
      "100%|██████████| 500/500 [00:00<00:00, 10955.82it/s]\n"
     ]
    },
    {
     "name": "stdout",
     "output_type": "stream",
     "text": [
      "Running RAggregate with theta = 2.2186679421781106 and reg = 0.1\n",
      "Length of the RPS is 145\n"
     ]
    },
    {
     "name": "stderr",
     "output_type": "stream",
     "text": [
      "100%|██████████| 20/20 [00:00<00:00, 3797.12it/s]\n",
      "100%|██████████| 100/100 [00:00<00:00, 3762.65it/s]\n",
      "100%|██████████| 500/500 [00:00<00:00, 3764.47it/s]\n"
     ]
    },
    {
     "name": "stdout",
     "output_type": "stream",
     "text": [
      "Running RAggregate with theta = 2.5600014717439734 and reg = 0.1\n",
      "Length of the RPS is 765\n"
     ]
    },
    {
     "name": "stderr",
     "output_type": "stream",
     "text": [
      "100%|██████████| 20/20 [00:00<00:00, 702.71it/s]\n",
      "100%|██████████| 100/100 [00:00<00:00, 699.07it/s]\n",
      "100%|██████████| 500/500 [00:00<00:00, 708.78it/s]\n"
     ]
    },
    {
     "name": "stdout",
     "output_type": "stream",
     "text": [
      "\n",
      "\n",
      "Running Iteration 31\n",
      "Running RAggregate with theta = 1.983769187687693 and reg = 0.1\n",
      "Length of the RPS is 9\n"
     ]
    },
    {
     "name": "stderr",
     "output_type": "stream",
     "text": [
      "100%|██████████| 20/20 [00:00<00:00, 44644.00it/s]\n",
      "100%|██████████| 100/100 [00:00<00:00, 50637.50it/s]\n",
      "100%|██████████| 500/500 [00:00<00:00, 51010.70it/s]\n"
     ]
    },
    {
     "name": "stdout",
     "output_type": "stream",
     "text": [
      "Running RAggregate with theta = 2.1641118411138467 and reg = 0.1\n",
      "Length of the RPS is 49\n"
     ]
    },
    {
     "name": "stderr",
     "output_type": "stream",
     "text": [
      "100%|██████████| 20/20 [00:00<00:00, 10667.10it/s]\n",
      "100%|██████████| 100/100 [00:00<00:00, 10803.94it/s]\n",
      "100%|██████████| 500/500 [00:00<00:00, 10954.85it/s]\n"
     ]
    },
    {
     "name": "stdout",
     "output_type": "stream",
     "text": [
      "Running RAggregate with theta = 2.3444544945400008 and reg = 0.1\n",
      "Length of the RPS is 154\n"
     ]
    },
    {
     "name": "stderr",
     "output_type": "stream",
     "text": [
      "100%|██████████| 20/20 [00:00<00:00, 3611.42it/s]\n",
      "100%|██████████| 100/100 [00:00<00:00, 3541.56it/s]\n",
      "100%|██████████| 500/500 [00:00<00:00, 3481.53it/s]\n"
     ]
    },
    {
     "name": "stdout",
     "output_type": "stream",
     "text": [
      "Running RAggregate with theta = 2.7051398013923085 and reg = 0.1\n",
      "Length of the RPS is 1049\n"
     ]
    },
    {
     "name": "stderr",
     "output_type": "stream",
     "text": [
      "100%|██████████| 20/20 [00:00<00:00, 470.45it/s]\n",
      "100%|██████████| 100/100 [00:00<00:00, 460.14it/s]\n",
      "100%|██████████| 500/500 [00:01<00:00, 466.75it/s]\n"
     ]
    },
    {
     "name": "stdout",
     "output_type": "stream",
     "text": [
      "\n",
      "\n",
      "Running Iteration 32\n",
      "Running RAggregate with theta = 1.9282020489609852 and reg = 0.1\n",
      "Length of the RPS is 9\n"
     ]
    },
    {
     "name": "stderr",
     "output_type": "stream",
     "text": [
      "100%|██████████| 20/20 [00:00<00:00, 36157.79it/s]\n",
      "100%|██████████| 100/100 [00:00<00:00, 45129.16it/s]\n",
      "100%|██████████| 500/500 [00:00<00:00, 51845.54it/s]\n"
     ]
    },
    {
     "name": "stdout",
     "output_type": "stream",
     "text": [
      "Running RAggregate with theta = 2.1034931443210745 and reg = 0.1\n",
      "Length of the RPS is 49\n"
     ]
    },
    {
     "name": "stderr",
     "output_type": "stream",
     "text": [
      "100%|██████████| 20/20 [00:00<00:00, 10800.32it/s]\n",
      "100%|██████████| 100/100 [00:00<00:00, 10832.12it/s]\n",
      "100%|██████████| 500/500 [00:00<00:00, 10507.72it/s]\n"
     ]
    },
    {
     "name": "stdout",
     "output_type": "stream",
     "text": [
      "Running RAggregate with theta = 2.278784239681164 and reg = 0.1\n",
      "Length of the RPS is 152\n"
     ]
    },
    {
     "name": "stderr",
     "output_type": "stream",
     "text": [
      "100%|██████████| 20/20 [00:00<00:00, 3304.68it/s]\n",
      "100%|██████████| 100/100 [00:00<00:00, 3339.15it/s]\n",
      "100%|██████████| 500/500 [00:00<00:00, 3618.44it/s]\n"
     ]
    },
    {
     "name": "stdout",
     "output_type": "stream",
     "text": [
      "Running RAggregate with theta = 2.629366430401343 and reg = 0.1\n",
      "Length of the RPS is 808\n"
     ]
    },
    {
     "name": "stderr",
     "output_type": "stream",
     "text": [
      "100%|██████████| 20/20 [00:00<00:00, 611.34it/s]\n",
      "100%|██████████| 100/100 [00:00<00:00, 612.57it/s]\n",
      "100%|██████████| 500/500 [00:00<00:00, 603.19it/s]\n"
     ]
    },
    {
     "name": "stdout",
     "output_type": "stream",
     "text": [
      "\n",
      "\n",
      "Running Iteration 33\n",
      "Running RAggregate with theta = 1.9180128030019044 and reg = 0.1\n",
      "Length of the RPS is 9\n"
     ]
    },
    {
     "name": "stderr",
     "output_type": "stream",
     "text": [
      "100%|██████████| 20/20 [00:00<00:00, 43307.22it/s]\n",
      "100%|██████████| 100/100 [00:00<00:00, 48215.93it/s]\n",
      "100%|██████████| 500/500 [00:00<00:00, 43421.09it/s]\n"
     ]
    },
    {
     "name": "stdout",
     "output_type": "stream",
     "text": [
      "Running RAggregate with theta = 2.0923776032748043 and reg = 0.1\n",
      "Length of the RPS is 48\n"
     ]
    },
    {
     "name": "stderr",
     "output_type": "stream",
     "text": [
      "100%|██████████| 20/20 [00:00<00:00, 10437.49it/s]\n",
      "100%|██████████| 100/100 [00:00<00:00, 10681.23it/s]\n",
      "100%|██████████| 500/500 [00:00<00:00, 11354.86it/s]\n"
     ]
    },
    {
     "name": "stdout",
     "output_type": "stream",
     "text": [
      "Running RAggregate with theta = 2.266742403547705 and reg = 0.1\n",
      "Length of the RPS is 104\n"
     ]
    },
    {
     "name": "stderr",
     "output_type": "stream",
     "text": [
      "100%|██████████| 20/20 [00:00<00:00, 5095.43it/s]\n",
      "100%|██████████| 100/100 [00:00<00:00, 5240.00it/s]\n",
      "100%|██████████| 500/500 [00:00<00:00, 5223.36it/s]\n"
     ]
    },
    {
     "name": "stdout",
     "output_type": "stream",
     "text": [
      "Running RAggregate with theta = 2.6154720040935056 and reg = 0.1\n",
      "Length of the RPS is 673\n"
     ]
    },
    {
     "name": "stderr",
     "output_type": "stream",
     "text": [
      "100%|██████████| 20/20 [00:00<00:00, 759.18it/s]\n",
      "100%|██████████| 100/100 [00:00<00:00, 815.72it/s]\n",
      "100%|██████████| 500/500 [00:00<00:00, 813.30it/s]\n"
     ]
    },
    {
     "name": "stdout",
     "output_type": "stream",
     "text": [
      "\n",
      "\n",
      "Running Iteration 34\n",
      "Running RAggregate with theta = 1.9152363554158665 and reg = 0.1\n",
      "Length of the RPS is 0\n"
     ]
    },
    {
     "name": "stderr",
     "output_type": "stream",
     "text": [
      "100%|██████████| 20/20 [00:00<00:00, 645277.54it/s]\n",
      "100%|██████████| 100/100 [00:00<00:00, 2330168.89it/s]\n",
      "100%|██████████| 500/500 [00:00<00:00, 4629474.61it/s]\n"
     ]
    },
    {
     "name": "stdout",
     "output_type": "stream",
     "text": [
      "Running RAggregate with theta = 2.0893487513627633 and reg = 0.1\n",
      "Length of the RPS is 40\n"
     ]
    },
    {
     "name": "stderr",
     "output_type": "stream",
     "text": [
      "100%|██████████| 20/20 [00:00<00:00, 13879.23it/s]\n",
      "100%|██████████| 100/100 [00:00<00:00, 13269.75it/s]\n",
      "100%|██████████| 500/500 [00:00<00:00, 13908.96it/s]\n"
     ]
    },
    {
     "name": "stdout",
     "output_type": "stream",
     "text": [
      "Running RAggregate with theta = 2.2634611473096604 and reg = 0.1\n",
      "Length of the RPS is 92\n"
     ]
    },
    {
     "name": "stderr",
     "output_type": "stream",
     "text": [
      "100%|██████████| 20/20 [00:00<00:00, 6142.35it/s]\n",
      "100%|██████████| 100/100 [00:00<00:00, 6491.02it/s]\n",
      "100%|██████████| 500/500 [00:00<00:00, 6401.54it/s]\n"
     ]
    },
    {
     "name": "stdout",
     "output_type": "stream",
     "text": [
      "Running RAggregate with theta = 2.611685939203454 and reg = 0.1\n",
      "Length of the RPS is 492\n"
     ]
    },
    {
     "name": "stderr",
     "output_type": "stream",
     "text": [
      "100%|██████████| 20/20 [00:00<00:00, 1093.85it/s]\n",
      "100%|██████████| 100/100 [00:00<00:00, 1098.82it/s]\n",
      "100%|██████████| 500/500 [00:00<00:00, 1063.66it/s]\n"
     ]
    },
    {
     "name": "stdout",
     "output_type": "stream",
     "text": [
      "\n",
      "\n",
      "Running Iteration 35\n",
      "Running RAggregate with theta = 1.9793191632572618 and reg = 0.1\n",
      "Length of the RPS is 9\n"
     ]
    },
    {
     "name": "stderr",
     "output_type": "stream",
     "text": [
      "100%|██████████| 20/20 [00:00<00:00, 44360.70it/s]\n",
      "100%|██████████| 100/100 [00:00<00:00, 48640.89it/s]\n",
      "100%|██████████| 500/500 [00:00<00:00, 51594.26it/s]\n"
     ]
    },
    {
     "name": "stdout",
     "output_type": "stream",
     "text": [
      "Running RAggregate with theta = 2.1592572690079215 and reg = 0.1\n",
      "Length of the RPS is 48\n"
     ]
    },
    {
     "name": "stderr",
     "output_type": "stream",
     "text": [
      "100%|██████████| 20/20 [00:00<00:00, 11383.64it/s]\n",
      "100%|██████████| 100/100 [00:00<00:00, 11085.48it/s]\n",
      "100%|██████████| 500/500 [00:00<00:00, 11275.74it/s]\n"
     ]
    },
    {
     "name": "stdout",
     "output_type": "stream",
     "text": [
      "Running RAggregate with theta = 2.339195374758582 and reg = 0.1\n",
      "Length of the RPS is 130\n"
     ]
    },
    {
     "name": "stderr",
     "output_type": "stream",
     "text": [
      "100%|██████████| 20/20 [00:00<00:00, 4434.66it/s]\n",
      "100%|██████████| 100/100 [00:00<00:00, 4273.84it/s]\n",
      "100%|██████████| 500/500 [00:00<00:00, 4290.01it/s]\n"
     ]
    },
    {
     "name": "stdout",
     "output_type": "stream",
     "text": [
      "Running RAggregate with theta = 2.699071586259902 and reg = 0.1\n",
      "Length of the RPS is 830\n"
     ]
    },
    {
     "name": "stderr",
     "output_type": "stream",
     "text": [
      "100%|██████████| 20/20 [00:00<00:00, 630.81it/s]\n",
      "100%|██████████| 100/100 [00:00<00:00, 651.53it/s]\n",
      "100%|██████████| 500/500 [00:00<00:00, 659.56it/s]\n"
     ]
    },
    {
     "name": "stdout",
     "output_type": "stream",
     "text": [
      "\n",
      "\n",
      "Running Iteration 36\n",
      "Running RAggregate with theta = 1.9781602001759075 and reg = 0.1\n",
      "Length of the RPS is 9\n"
     ]
    },
    {
     "name": "stderr",
     "output_type": "stream",
     "text": [
      "100%|██████████| 20/20 [00:00<00:00, 46294.75it/s]\n",
      "100%|██████████| 100/100 [00:00<00:00, 50243.22it/s]\n",
      "100%|██████████| 500/500 [00:00<00:00, 50388.08it/s]\n"
     ]
    },
    {
     "name": "stdout",
     "output_type": "stream",
     "text": [
      "Running RAggregate with theta = 2.1579929456464444 and reg = 0.1\n",
      "Length of the RPS is 48\n"
     ]
    },
    {
     "name": "stderr",
     "output_type": "stream",
     "text": [
      "100%|██████████| 20/20 [00:00<00:00, 11255.34it/s]\n",
      "100%|██████████| 100/100 [00:00<00:00, 11107.50it/s]\n",
      "100%|██████████| 500/500 [00:00<00:00, 11386.92it/s]\n"
     ]
    },
    {
     "name": "stdout",
     "output_type": "stream",
     "text": [
      "Running RAggregate with theta = 2.3378256911169815 and reg = 0.1\n",
      "Length of the RPS is 103\n"
     ]
    },
    {
     "name": "stderr",
     "output_type": "stream",
     "text": [
      "100%|██████████| 20/20 [00:00<00:00, 5292.50it/s]\n",
      "100%|██████████| 100/100 [00:00<00:00, 5257.93it/s]\n",
      "100%|██████████| 500/500 [00:00<00:00, 5353.15it/s]\n"
     ]
    },
    {
     "name": "stdout",
     "output_type": "stream",
     "text": [
      "Running RAggregate with theta = 2.697491182058055 and reg = 0.1\n",
      "Length of the RPS is 845\n"
     ]
    },
    {
     "name": "stderr",
     "output_type": "stream",
     "text": [
      "100%|██████████| 20/20 [00:00<00:00, 640.89it/s]\n",
      "100%|██████████| 100/100 [00:00<00:00, 641.45it/s]\n",
      "100%|██████████| 500/500 [00:00<00:00, 648.06it/s]\n"
     ]
    },
    {
     "name": "stdout",
     "output_type": "stream",
     "text": [
      "\n",
      "\n",
      "Running Iteration 37\n",
      "Running RAggregate with theta = 1.9230516026911366 and reg = 0.1\n",
      "Length of the RPS is 9\n"
     ]
    },
    {
     "name": "stderr",
     "output_type": "stream",
     "text": [
      "100%|██████████| 20/20 [00:00<00:00, 45246.00it/s]\n",
      "100%|██████████| 100/100 [00:00<00:00, 50735.50it/s]\n",
      "100%|██████████| 500/500 [00:00<00:00, 52290.23it/s]\n"
     ]
    },
    {
     "name": "stdout",
     "output_type": "stream",
     "text": [
      "Running RAggregate with theta = 2.097874475663058 and reg = 0.1\n",
      "Length of the RPS is 40\n"
     ]
    },
    {
     "name": "stderr",
     "output_type": "stream",
     "text": [
      "100%|██████████| 20/20 [00:00<00:00, 14295.51it/s]\n",
      "100%|██████████| 100/100 [00:00<00:00, 14186.24it/s]\n",
      "100%|██████████| 500/500 [00:00<00:00, 13733.98it/s]\n"
     ]
    },
    {
     "name": "stdout",
     "output_type": "stream",
     "text": [
      "Running RAggregate with theta = 2.2726973486349795 and reg = 0.1\n",
      "Length of the RPS is 102\n"
     ]
    },
    {
     "name": "stderr",
     "output_type": "stream",
     "text": [
      "100%|██████████| 20/20 [00:00<00:00, 5279.84it/s]\n",
      "100%|██████████| 100/100 [00:00<00:00, 5612.31it/s]\n",
      "100%|██████████| 500/500 [00:00<00:00, 5722.14it/s]\n"
     ]
    },
    {
     "name": "stdout",
     "output_type": "stream",
     "text": [
      "Running RAggregate with theta = 2.6223430945788224 and reg = 0.1\n",
      "Length of the RPS is 642\n"
     ]
    },
    {
     "name": "stderr",
     "output_type": "stream",
     "text": [
      "100%|██████████| 20/20 [00:00<00:00, 845.46it/s]\n",
      "100%|██████████| 100/100 [00:00<00:00, 840.83it/s]\n",
      "100%|██████████| 500/500 [00:00<00:00, 851.63it/s]\n"
     ]
    },
    {
     "name": "stdout",
     "output_type": "stream",
     "text": [
      "\n",
      "\n",
      "Running Iteration 38\n",
      "Running RAggregate with theta = 1.9365287904823185 and reg = 0.1\n",
      "Length of the RPS is 10\n"
     ]
    },
    {
     "name": "stderr",
     "output_type": "stream",
     "text": [
      "100%|██████████| 20/20 [00:00<00:00, 39457.23it/s]\n",
      "100%|██████████| 100/100 [00:00<00:00, 45022.58it/s]\n",
      "100%|██████████| 500/500 [00:00<00:00, 45302.69it/s]\n"
     ]
    },
    {
     "name": "stdout",
     "output_type": "stream",
     "text": [
      "Running RAggregate with theta = 2.1125768623443473 and reg = 0.1\n",
      "Length of the RPS is 50\n"
     ]
    },
    {
     "name": "stderr",
     "output_type": "stream",
     "text": [
      "100%|██████████| 20/20 [00:00<00:00, 10605.07it/s]\n",
      "100%|██████████| 100/100 [00:00<00:00, 10557.29it/s]\n",
      "100%|██████████| 500/500 [00:00<00:00, 10889.49it/s]\n"
     ]
    },
    {
     "name": "stdout",
     "output_type": "stream",
     "text": [
      "Running RAggregate with theta = 2.2886249342063762 and reg = 0.1\n",
      "Length of the RPS is 161\n"
     ]
    },
    {
     "name": "stderr",
     "output_type": "stream",
     "text": [
      "100%|██████████| 20/20 [00:00<00:00, 3391.53it/s]\n",
      "100%|██████████| 100/100 [00:00<00:00, 3395.70it/s]\n",
      "100%|██████████| 500/500 [00:00<00:00, 3459.29it/s]\n"
     ]
    },
    {
     "name": "stdout",
     "output_type": "stream",
     "text": [
      "Running RAggregate with theta = 2.6407210779304338 and reg = 0.1\n",
      "Length of the RPS is 927\n"
     ]
    },
    {
     "name": "stderr",
     "output_type": "stream",
     "text": [
      "100%|██████████| 20/20 [00:00<00:00, 584.68it/s]\n",
      "100%|██████████| 100/100 [00:00<00:00, 593.15it/s]\n",
      "100%|██████████| 500/500 [00:00<00:00, 598.91it/s]\n"
     ]
    },
    {
     "name": "stdout",
     "output_type": "stream",
     "text": [
      "\n",
      "\n",
      "Running Iteration 39\n",
      "Running RAggregate with theta = 2.004738380968925 and reg = 0.1\n",
      "Length of the RPS is 9\n"
     ]
    },
    {
     "name": "stderr",
     "output_type": "stream",
     "text": [
      "100%|██████████| 20/20 [00:00<00:00, 43084.79it/s]\n",
      "100%|██████████| 100/100 [00:00<00:00, 50454.76it/s]\n",
      "100%|██████████| 500/500 [00:00<00:00, 51712.58it/s]\n"
     ]
    },
    {
     "name": "stdout",
     "output_type": "stream",
     "text": [
      "Running RAggregate with theta = 2.1869873246933724 and reg = 0.1\n",
      "Length of the RPS is 48\n"
     ]
    },
    {
     "name": "stderr",
     "output_type": "stream",
     "text": [
      "100%|██████████| 20/20 [00:00<00:00, 11396.02it/s]\n",
      "100%|██████████| 100/100 [00:00<00:00, 11255.95it/s]\n",
      "100%|██████████| 500/500 [00:00<00:00, 11707.69it/s]\n"
     ]
    },
    {
     "name": "stdout",
     "output_type": "stream",
     "text": [
      "Running RAggregate with theta = 2.3692362684178203 and reg = 0.1\n",
      "Length of the RPS is 129\n"
     ]
    },
    {
     "name": "stderr",
     "output_type": "stream",
     "text": [
      "100%|██████████| 20/20 [00:00<00:00, 4509.52it/s]\n",
      "100%|██████████| 100/100 [00:00<00:00, 4399.68it/s]\n",
      "100%|██████████| 500/500 [00:00<00:00, 4477.75it/s]\n"
     ]
    },
    {
     "name": "stdout",
     "output_type": "stream",
     "text": [
      "Running RAggregate with theta = 2.7337341558667156 and reg = 0.1\n",
      "Length of the RPS is 1002\n"
     ]
    },
    {
     "name": "stderr",
     "output_type": "stream",
     "text": [
      "100%|██████████| 20/20 [00:00<00:00, 568.00it/s]\n",
      "100%|██████████| 100/100 [00:00<00:00, 489.81it/s]\n",
      "100%|██████████| 500/500 [00:55<00:00,  8.97it/s] \n"
     ]
    },
    {
     "name": "stdout",
     "output_type": "stream",
     "text": [
      "\n",
      "\n",
      "Running Iteration 40\n",
      "Running RAggregate with theta = 1.97282808786218 and reg = 0.1\n",
      "Length of the RPS is 0\n"
     ]
    },
    {
     "name": "stderr",
     "output_type": "stream",
     "text": [
      "100%|██████████| 20/20 [00:00<00:00, 769597.06it/s]\n",
      "100%|██████████| 100/100 [00:00<00:00, 2279513.04it/s]\n",
      "100%|██████████| 500/500 [00:00<00:00, 4712701.12it/s]\n"
     ]
    },
    {
     "name": "stdout",
     "output_type": "stream",
     "text": [
      "Running RAggregate with theta = 2.1521760958496507 and reg = 0.1\n",
      "Length of the RPS is 40\n"
     ]
    },
    {
     "name": "stderr",
     "output_type": "stream",
     "text": [
      "100%|██████████| 20/20 [00:00<00:00, 13976.35it/s]\n",
      "100%|██████████| 100/100 [00:00<00:00, 13965.19it/s]\n",
      "100%|██████████| 500/500 [00:00<00:00, 14310.15it/s]\n"
     ]
    },
    {
     "name": "stdout",
     "output_type": "stream",
     "text": [
      "Running RAggregate with theta = 2.331524103837122 and reg = 0.1\n",
      "Length of the RPS is 94\n"
     ]
    },
    {
     "name": "stderr",
     "output_type": "stream",
     "text": [
      "100%|██████████| 20/20 [00:00<00:00, 6209.18it/s]\n",
      "100%|██████████| 100/100 [00:00<00:00, 6223.46it/s]\n",
      "100%|██████████| 500/500 [00:00<00:00, 6304.21it/s]\n"
     ]
    },
    {
     "name": "stdout",
     "output_type": "stream",
     "text": [
      "Running RAggregate with theta = 2.6902201198120634 and reg = 0.1\n",
      "Length of the RPS is 636\n"
     ]
    },
    {
     "name": "stderr",
     "output_type": "stream",
     "text": [
      "100%|██████████| 20/20 [00:00<00:00, 864.64it/s]\n",
      "100%|██████████| 100/100 [00:00<00:00, 879.53it/s]\n",
      "100%|██████████| 500/500 [00:00<00:00, 891.00it/s]\n"
     ]
    },
    {
     "name": "stdout",
     "output_type": "stream",
     "text": [
      "\n",
      "\n",
      "Running Iteration 41\n",
      "Running RAggregate with theta = 1.9938365255212547 and reg = 0.1\n",
      "Length of the RPS is 9\n"
     ]
    },
    {
     "name": "stderr",
     "output_type": "stream",
     "text": [
      "100%|██████████| 20/20 [00:00<00:00, 44834.89it/s]\n",
      "100%|██████████| 100/100 [00:00<00:00, 51858.36it/s]\n",
      "100%|██████████| 500/500 [00:00<00:00, 51893.00it/s]\n"
     ]
    },
    {
     "name": "stdout",
     "output_type": "stream",
     "text": [
      "Running RAggregate with theta = 2.175094391477732 and reg = 0.1\n",
      "Length of the RPS is 48\n"
     ]
    },
    {
     "name": "stderr",
     "output_type": "stream",
     "text": [
      "100%|██████████| 20/20 [00:00<00:00, 11193.77it/s]\n",
      "100%|██████████| 100/100 [00:00<00:00, 11300.83it/s]\n",
      "100%|██████████| 500/500 [00:00<00:00, 11650.71it/s]\n"
     ]
    },
    {
     "name": "stdout",
     "output_type": "stream",
     "text": [
      "Running RAggregate with theta = 2.3563522574342097 and reg = 0.1\n",
      "Length of the RPS is 129\n"
     ]
    },
    {
     "name": "stderr",
     "output_type": "stream",
     "text": [
      "100%|██████████| 20/20 [00:00<00:00, 4353.65it/s]\n",
      "100%|██████████| 100/100 [00:00<00:00, 4406.89it/s]\n",
      "100%|██████████| 500/500 [00:00<00:00, 4405.44it/s]\n"
     ]
    },
    {
     "name": "stdout",
     "output_type": "stream",
     "text": [
      "Running RAggregate with theta = 2.7188679893471654 and reg = 0.1\n",
      "Length of the RPS is 957\n"
     ]
    },
    {
     "name": "stderr",
     "output_type": "stream",
     "text": [
      "100%|██████████| 20/20 [00:00<00:00, 576.18it/s]\n",
      "100%|██████████| 100/100 [00:00<00:00, 578.35it/s]\n",
      "100%|██████████| 500/500 [00:00<00:00, 583.03it/s]\n"
     ]
    },
    {
     "name": "stdout",
     "output_type": "stream",
     "text": [
      "\n",
      "\n",
      "Running Iteration 42\n",
      "Running RAggregate with theta = 1.9349434796587912 and reg = 0.1\n",
      "Length of the RPS is 0\n"
     ]
    },
    {
     "name": "stderr",
     "output_type": "stream",
     "text": [
      "100%|██████████| 20/20 [00:00<00:00, 864804.95it/s]\n",
      "100%|██████████| 100/100 [00:00<00:00, 2496609.52it/s]\n",
      "100%|██████████| 500/500 [00:00<00:00, 4911363.00it/s]\n"
     ]
    },
    {
     "name": "stdout",
     "output_type": "stream",
     "text": [
      "Running RAggregate with theta = 2.110847432355045 and reg = 0.1\n",
      "Length of the RPS is 40\n"
     ]
    },
    {
     "name": "stderr",
     "output_type": "stream",
     "text": [
      "100%|██████████| 20/20 [00:00<00:00, 13849.44it/s]\n",
      "100%|██████████| 100/100 [00:00<00:00, 14072.48it/s]\n",
      "100%|██████████| 500/500 [00:00<00:00, 14188.45it/s]\n"
     ]
    },
    {
     "name": "stdout",
     "output_type": "stream",
     "text": [
      "Running RAggregate with theta = 2.2867513850512986 and reg = 0.1\n",
      "Length of the RPS is 102\n"
     ]
    },
    {
     "name": "stderr",
     "output_type": "stream",
     "text": [
      "100%|██████████| 20/20 [00:00<00:00, 5211.29it/s]\n",
      "100%|██████████| 100/100 [00:00<00:00, 5587.27it/s]\n",
      "100%|██████████| 500/500 [00:00<00:00, 5543.49it/s]\n"
     ]
    },
    {
     "name": "stdout",
     "output_type": "stream",
     "text": [
      "Running RAggregate with theta = 2.638559290443806 and reg = 0.1\n",
      "Length of the RPS is 598\n"
     ]
    },
    {
     "name": "stderr",
     "output_type": "stream",
     "text": [
      "100%|██████████| 20/20 [00:00<00:00, 893.30it/s]\n",
      "100%|██████████| 100/100 [00:00<00:00, 884.21it/s]\n",
      "100%|██████████| 500/500 [00:00<00:00, 907.44it/s]\n"
     ]
    },
    {
     "name": "stdout",
     "output_type": "stream",
     "text": [
      "\n",
      "\n",
      "Running Iteration 43\n",
      "Running RAggregate with theta = 1.9626490780647745 and reg = 0.1\n",
      "Length of the RPS is 10\n"
     ]
    },
    {
     "name": "stderr",
     "output_type": "stream",
     "text": [
      "100%|██████████| 20/20 [00:00<00:00, 39438.68it/s]\n",
      "100%|██████████| 100/100 [00:00<00:00, 44071.70it/s]\n",
      "100%|██████████| 500/500 [00:00<00:00, 44402.02it/s]\n"
     ]
    },
    {
     "name": "stdout",
     "output_type": "stream",
     "text": [
      "Running RAggregate with theta = 2.141071721525208 and reg = 0.1\n",
      "Length of the RPS is 58\n"
     ]
    },
    {
     "name": "stderr",
     "output_type": "stream",
     "text": [
      "100%|██████████| 20/20 [00:00<00:00, 8977.53it/s]\n",
      "100%|██████████| 100/100 [00:00<00:00, 9120.63it/s]\n",
      "100%|██████████| 500/500 [00:00<00:00, 9073.08it/s]\n"
     ]
    },
    {
     "name": "stdout",
     "output_type": "stream",
     "text": [
      "Running RAggregate with theta = 2.3194943649856428 and reg = 0.1\n",
      "Length of the RPS is 208\n"
     ]
    },
    {
     "name": "stderr",
     "output_type": "stream",
     "text": [
      "100%|██████████| 20/20 [00:00<00:00, 2360.93it/s]\n",
      "100%|██████████| 100/100 [00:00<00:00, 1739.28it/s]\n",
      "100%|██████████| 500/500 [00:00<00:00, 2563.84it/s]\n"
     ]
    },
    {
     "name": "stdout",
     "output_type": "stream",
     "text": [
      "Running RAggregate with theta = 2.6763396519065106 and reg = 0.1\n",
      "Length of the RPS is 1145\n"
     ]
    },
    {
     "name": "stderr",
     "output_type": "stream",
     "text": [
      "100%|██████████| 20/20 [00:00<00:00, 461.62it/s]\n",
      "100%|██████████| 100/100 [00:00<00:00, 476.01it/s]\n",
      "100%|██████████| 500/500 [00:01<00:00, 424.99it/s]\n"
     ]
    },
    {
     "name": "stdout",
     "output_type": "stream",
     "text": [
      "\n",
      "\n",
      "Running Iteration 44\n",
      "Running RAggregate with theta = 1.9622460435929694 and reg = 0.1\n",
      "Length of the RPS is 9\n"
     ]
    },
    {
     "name": "stderr",
     "output_type": "stream",
     "text": [
      "100%|██████████| 20/20 [00:00<00:00, 44549.17it/s]\n",
      "100%|██████████| 100/100 [00:00<00:00, 48545.19it/s]\n",
      "100%|██████████| 500/500 [00:00<00:00, 50389.29it/s]\n"
     ]
    },
    {
     "name": "stdout",
     "output_type": "stream",
     "text": [
      "Running RAggregate with theta = 2.1406320475559664 and reg = 0.1\n",
      "Length of the RPS is 48\n"
     ]
    },
    {
     "name": "stderr",
     "output_type": "stream",
     "text": [
      "100%|██████████| 20/20 [00:00<00:00, 10969.80it/s]\n",
      "100%|██████████| 100/100 [00:00<00:00, 11014.74it/s]\n",
      "100%|██████████| 500/500 [00:00<00:00, 11511.18it/s]\n"
     ]
    },
    {
     "name": "stdout",
     "output_type": "stream",
     "text": [
      "Running RAggregate with theta = 2.3190180515189636 and reg = 0.1\n",
      "Length of the RPS is 128\n"
     ]
    },
    {
     "name": "stderr",
     "output_type": "stream",
     "text": [
      "100%|██████████| 20/20 [00:00<00:00, 4108.24it/s]\n",
      "100%|██████████| 100/100 [00:00<00:00, 4382.30it/s]\n",
      "100%|██████████| 500/500 [00:00<00:00, 4448.67it/s]\n"
     ]
    },
    {
     "name": "stdout",
     "output_type": "stream",
     "text": [
      "Running RAggregate with theta = 2.675790059444958 and reg = 0.1\n",
      "Length of the RPS is 793\n"
     ]
    },
    {
     "name": "stderr",
     "output_type": "stream",
     "text": [
      "100%|██████████| 20/20 [00:00<00:00, 660.85it/s]\n",
      "100%|██████████| 100/100 [00:00<00:00, 675.82it/s]\n",
      "100%|██████████| 500/500 [00:00<00:00, 686.10it/s]\n"
     ]
    },
    {
     "name": "stdout",
     "output_type": "stream",
     "text": [
      "\n",
      "\n",
      "Running Iteration 45\n",
      "Running RAggregate with theta = 1.972075728697601 and reg = 0.1\n",
      "Length of the RPS is 9\n"
     ]
    },
    {
     "name": "stderr",
     "output_type": "stream",
     "text": [
      "100%|██████████| 20/20 [00:00<00:00, 45889.54it/s]\n",
      "100%|██████████| 100/100 [00:00<00:00, 51495.45it/s]\n",
      "100%|██████████| 500/500 [00:00<00:00, 49469.30it/s]\n"
     ]
    },
    {
     "name": "stdout",
     "output_type": "stream",
     "text": [
      "Running RAggregate with theta = 2.1513553403973824 and reg = 0.1\n",
      "Length of the RPS is 48\n"
     ]
    },
    {
     "name": "stderr",
     "output_type": "stream",
     "text": [
      "100%|██████████| 20/20 [00:00<00:00, 11495.97it/s]\n",
      "100%|██████████| 100/100 [00:00<00:00, 11300.83it/s]\n",
      "100%|██████████| 500/500 [00:00<00:00, 11310.40it/s]\n"
     ]
    },
    {
     "name": "stdout",
     "output_type": "stream",
     "text": [
      "Running RAggregate with theta = 2.3306349520971645 and reg = 0.1\n",
      "Length of the RPS is 128\n"
     ]
    },
    {
     "name": "stderr",
     "output_type": "stream",
     "text": [
      "100%|██████████| 20/20 [00:00<00:00, 4335.42it/s]\n",
      "100%|██████████| 100/100 [00:00<00:00, 4372.16it/s]\n",
      "100%|██████████| 500/500 [00:00<00:00, 4365.51it/s]\n"
     ]
    },
    {
     "name": "stdout",
     "output_type": "stream",
     "text": [
      "Running RAggregate with theta = 2.6891941754967283 and reg = 0.1\n",
      "Length of the RPS is 796\n"
     ]
    },
    {
     "name": "stderr",
     "output_type": "stream",
     "text": [
      "100%|██████████| 20/20 [00:00<00:00, 661.25it/s]\n",
      "100%|██████████| 100/100 [00:00<00:00, 672.91it/s]\n",
      "100%|██████████| 500/500 [00:00<00:00, 687.91it/s]\n"
     ]
    },
    {
     "name": "stdout",
     "output_type": "stream",
     "text": [
      "\n",
      "\n",
      "Running Iteration 46\n",
      "Running RAggregate with theta = 2.0125243453013484 and reg = 0.1\n",
      "Length of the RPS is 10\n"
     ]
    },
    {
     "name": "stderr",
     "output_type": "stream",
     "text": [
      "100%|██████████| 20/20 [00:00<00:00, 35025.50it/s]\n",
      "100%|██████████| 100/100 [00:00<00:00, 43049.41it/s]\n",
      "100%|██████████| 500/500 [00:00<00:00, 43201.05it/s]\n"
     ]
    },
    {
     "name": "stdout",
     "output_type": "stream",
     "text": [
      "Running RAggregate with theta = 2.1954811039651068 and reg = 0.1\n",
      "Length of the RPS is 56\n"
     ]
    },
    {
     "name": "stderr",
     "output_type": "stream",
     "text": [
      "100%|██████████| 20/20 [00:00<00:00, 8353.52it/s]\n",
      "100%|██████████| 100/100 [00:00<00:00, 9133.34it/s]\n",
      "100%|██████████| 500/500 [00:00<00:00, 9112.78it/s]\n"
     ]
    },
    {
     "name": "stdout",
     "output_type": "stream",
     "text": [
      "Running RAggregate with theta = 2.378437862628866 and reg = 0.1\n",
      "Length of the RPS is 146\n"
     ]
    },
    {
     "name": "stderr",
     "output_type": "stream",
     "text": [
      "100%|██████████| 20/20 [00:00<00:00, 3500.21it/s]\n",
      "100%|██████████| 100/100 [00:00<00:00, 3622.40it/s]\n",
      "100%|██████████| 500/500 [00:00<00:00, 3543.91it/s]\n"
     ]
    },
    {
     "name": "stdout",
     "output_type": "stream",
     "text": [
      "Running RAggregate with theta = 2.7443513799563837 and reg = 0.1\n",
      "Length of the RPS is 989\n"
     ]
    },
    {
     "name": "stderr",
     "output_type": "stream",
     "text": [
      "100%|██████████| 20/20 [00:00<00:00, 566.85it/s]\n",
      "100%|██████████| 100/100 [00:00<00:00, 534.81it/s]\n",
      "100%|██████████| 500/500 [00:00<00:00, 587.97it/s]\n"
     ]
    },
    {
     "name": "stdout",
     "output_type": "stream",
     "text": [
      "\n",
      "\n",
      "Running Iteration 47\n",
      "Running RAggregate with theta = 1.9576419778748715 and reg = 0.1\n",
      "Length of the RPS is 9\n"
     ]
    },
    {
     "name": "stderr",
     "output_type": "stream",
     "text": [
      "100%|██████████| 20/20 [00:00<00:00, 44267.06it/s]\n",
      "100%|██████████| 100/100 [00:00<00:00, 51571.43it/s]\n",
      "100%|██████████| 500/500 [00:00<00:00, 52394.74it/s]\n"
     ]
    },
    {
     "name": "stdout",
     "output_type": "stream",
     "text": [
      "Running RAggregate with theta = 2.1356094304089503 and reg = 0.1\n",
      "Length of the RPS is 48\n"
     ]
    },
    {
     "name": "stderr",
     "output_type": "stream",
     "text": [
      "100%|██████████| 20/20 [00:00<00:00, 11357.44it/s]\n",
      "100%|██████████| 100/100 [00:00<00:00, 11458.59it/s]\n",
      "100%|██████████| 500/500 [00:00<00:00, 11222.82it/s]\n"
     ]
    },
    {
     "name": "stdout",
     "output_type": "stream",
     "text": [
      "Running RAggregate with theta = 2.31357688294303 and reg = 0.1\n",
      "Length of the RPS is 106\n"
     ]
    },
    {
     "name": "stderr",
     "output_type": "stream",
     "text": [
      "100%|██████████| 20/20 [00:00<00:00, 5149.23it/s]\n",
      "100%|██████████| 100/100 [00:00<00:00, 5265.39it/s]\n",
      "100%|██████████| 500/500 [00:00<00:00, 5231.49it/s]\n"
     ]
    },
    {
     "name": "stdout",
     "output_type": "stream",
     "text": [
      "Running RAggregate with theta = 2.6695117880111883 and reg = 0.1\n",
      "Length of the RPS is 731\n"
     ]
    },
    {
     "name": "stderr",
     "output_type": "stream",
     "text": [
      "100%|██████████| 20/20 [00:00<00:00, 748.98it/s]\n",
      "100%|██████████| 100/100 [00:00<00:00, 733.72it/s]\n",
      "100%|██████████| 500/500 [00:00<00:00, 750.55it/s]\n"
     ]
    },
    {
     "name": "stdout",
     "output_type": "stream",
     "text": [
      "\n",
      "\n",
      "Running Iteration 48\n",
      "Running RAggregate with theta = 2.0151773711929915 and reg = 0.1\n",
      "Length of the RPS is 9\n"
     ]
    },
    {
     "name": "stderr",
     "output_type": "stream",
     "text": [
      "100%|██████████| 20/20 [00:00<00:00, 44834.89it/s]\n",
      "100%|██████████| 100/100 [00:00<00:00, 48657.82it/s]\n",
      "100%|██████████| 500/500 [00:00<00:00, 51110.16it/s]\n"
     ]
    },
    {
     "name": "stdout",
     "output_type": "stream",
     "text": [
      "Running RAggregate with theta = 2.1983753140287177 and reg = 0.1\n",
      "Length of the RPS is 48\n"
     ]
    },
    {
     "name": "stderr",
     "output_type": "stream",
     "text": [
      "100%|██████████| 20/20 [00:00<00:00, 11273.50it/s]\n",
      "100%|██████████| 100/100 [00:00<00:00, 11255.04it/s]\n",
      "100%|██████████| 500/500 [00:00<00:00, 11544.70it/s]\n"
     ]
    },
    {
     "name": "stdout",
     "output_type": "stream",
     "text": [
      "Running RAggregate with theta = 2.3815732568644443 and reg = 0.1\n",
      "Length of the RPS is 127\n"
     ]
    },
    {
     "name": "stderr",
     "output_type": "stream",
     "text": [
      "100%|██████████| 20/20 [00:00<00:00, 4454.21it/s]\n",
      "100%|██████████| 100/100 [00:00<00:00, 4430.31it/s]\n",
      "100%|██████████| 500/500 [00:00<00:00, 4517.65it/s]\n"
     ]
    },
    {
     "name": "stdout",
     "output_type": "stream",
     "text": [
      "Running RAggregate with theta = 2.747969142535897 and reg = 0.1\n",
      "Length of the RPS is 886\n"
     ]
    },
    {
     "name": "stderr",
     "output_type": "stream",
     "text": [
      "100%|██████████| 20/20 [00:00<00:00, 607.17it/s]\n",
      "100%|██████████| 100/100 [00:00<00:00, 604.00it/s]\n",
      "100%|██████████| 500/500 [00:00<00:00, 615.50it/s]\n"
     ]
    },
    {
     "name": "stdout",
     "output_type": "stream",
     "text": [
      "\n",
      "\n",
      "Running Iteration 49\n",
      "Running RAggregate with theta = 1.999452486603847 and reg = 0.1\n",
      "Length of the RPS is 10\n"
     ]
    },
    {
     "name": "stderr",
     "output_type": "stream",
     "text": [
      "100%|██████████| 20/20 [00:00<00:00, 40310.47it/s]\n",
      "100%|██████████| 100/100 [00:00<00:00, 43841.37it/s]\n",
      "100%|██████████| 500/500 [00:00<00:00, 44503.79it/s]\n"
     ]
    },
    {
     "name": "stdout",
     "output_type": "stream",
     "text": [
      "Running RAggregate with theta = 2.181220894476924 and reg = 0.1\n",
      "Length of the RPS is 49\n"
     ]
    },
    {
     "name": "stderr",
     "output_type": "stream",
     "text": [
      "100%|██████████| 20/20 [00:00<00:00, 11043.45it/s]\n",
      "100%|██████████| 100/100 [00:00<00:00, 10919.54it/s]\n",
      "100%|██████████| 500/500 [00:00<00:00, 11114.86it/s]\n"
     ]
    },
    {
     "name": "stdout",
     "output_type": "stream",
     "text": [
      "Running RAggregate with theta = 2.362989302350001 and reg = 0.1\n",
      "Length of the RPS is 161\n"
     ]
    },
    {
     "name": "stderr",
     "output_type": "stream",
     "text": [
      "100%|██████████| 20/20 [00:00<00:00, 3275.65it/s]\n",
      "100%|██████████| 100/100 [00:00<00:00, 3358.43it/s]\n",
      "100%|██████████| 500/500 [00:00<00:00, 3370.52it/s]\n"
     ]
    },
    {
     "name": "stdout",
     "output_type": "stream",
     "text": [
      "Running RAggregate with theta = 2.726526118096155 and reg = 0.1\n",
      "Length of the RPS is 1033\n"
     ]
    },
    {
     "name": "stderr",
     "output_type": "stream",
     "text": [
      "100%|██████████| 20/20 [00:00<00:00, 515.28it/s]\n",
      "100%|██████████| 100/100 [00:00<00:00, 526.79it/s]\n",
      "100%|██████████| 500/500 [00:00<00:00, 534.75it/s]\n"
     ]
    },
    {
     "name": "stdout",
     "output_type": "stream",
     "text": [
      "\n",
      "\n",
      "Running Iteration 50\n",
      "Running RAggregate with theta = 1.9967137097362198 and reg = 0.1\n",
      "Length of the RPS is 10\n"
     ]
    },
    {
     "name": "stderr",
     "output_type": "stream",
     "text": [
      "100%|██████████| 20/20 [00:00<00:00, 38479.85it/s]\n",
      "100%|██████████| 100/100 [00:00<00:00, 44501.90it/s]\n",
      "100%|██████████| 500/500 [00:00<00:00, 44674.43it/s]\n"
     ]
    },
    {
     "name": "stdout",
     "output_type": "stream",
     "text": [
      "Running RAggregate with theta = 2.1782331378940576 and reg = 0.1\n",
      "Length of the RPS is 55\n"
     ]
    },
    {
     "name": "stderr",
     "output_type": "stream",
     "text": [
      "100%|██████████| 20/20 [00:00<00:00, 9959.17it/s]\n",
      "100%|██████████| 100/100 [00:00<00:00, 9877.55it/s]\n",
      "100%|██████████| 500/500 [00:00<00:00, 9868.53it/s]\n"
     ]
    },
    {
     "name": "stdout",
     "output_type": "stream",
     "text": [
      "Running RAggregate with theta = 2.359752566051896 and reg = 0.1\n",
      "Length of the RPS is 138\n"
     ]
    },
    {
     "name": "stderr",
     "output_type": "stream",
     "text": [
      "100%|██████████| 20/20 [00:00<00:00, 4134.97it/s]\n",
      "100%|██████████| 100/100 [00:00<00:00, 3991.04it/s]\n",
      "100%|██████████| 500/500 [00:00<00:00, 4046.92it/s]\n"
     ]
    },
    {
     "name": "stdout",
     "output_type": "stream",
     "text": [
      "Running RAggregate with theta = 2.722791422367572 and reg = 0.1\n",
      "Length of the RPS is 941\n"
     ]
    },
    {
     "name": "stderr",
     "output_type": "stream",
     "text": [
      "100%|██████████| 20/20 [00:00<00:00, 592.94it/s]\n",
      "100%|██████████| 100/100 [00:00<00:00, 582.10it/s]\n",
      "100%|██████████| 500/500 [00:00<00:00, 594.70it/s]\n"
     ]
    },
    {
     "name": "stdout",
     "output_type": "stream",
     "text": [
      "\n",
      "\n",
      "Running Iteration 51\n",
      "Running RAggregate with theta = 1.950601966978123 and reg = 0.1\n",
      "Length of the RPS is 9\n"
     ]
    },
    {
     "name": "stderr",
     "output_type": "stream",
     "text": [
      "100%|██████████| 20/20 [00:00<00:00, 44243.71it/s]\n",
      "100%|██████████| 100/100 [00:00<00:00, 50177.10it/s]\n",
      "100%|██████████| 500/500 [00:00<00:00, 51393.23it/s]\n"
     ]
    },
    {
     "name": "stdout",
     "output_type": "stream",
     "text": [
      "Running RAggregate with theta = 2.1279294185215885 and reg = 0.1\n",
      "Length of the RPS is 40\n"
     ]
    },
    {
     "name": "stderr",
     "output_type": "stream",
     "text": [
      "100%|██████████| 20/20 [00:00<00:00, 13662.23it/s]\n",
      "100%|██████████| 100/100 [00:00<00:00, 13867.76it/s]\n",
      "100%|██████████| 500/500 [00:00<00:00, 14032.65it/s]\n"
     ]
    },
    {
     "name": "stdout",
     "output_type": "stream",
     "text": [
      "Running RAggregate with theta = 2.305256870065054 and reg = 0.1\n",
      "Length of the RPS is 110\n"
     ]
    },
    {
     "name": "stderr",
     "output_type": "stream",
     "text": [
      "100%|██████████| 20/20 [00:00<00:00, 4966.61it/s]\n",
      "100%|██████████| 100/100 [00:00<00:00, 5003.52it/s]\n",
      "100%|██████████| 500/500 [00:00<00:00, 4543.88it/s]\n"
     ]
    },
    {
     "name": "stdout",
     "output_type": "stream",
     "text": [
      "Running RAggregate with theta = 2.6599117731519852 and reg = 0.1\n",
      "Length of the RPS is 684\n"
     ]
    },
    {
     "name": "stderr",
     "output_type": "stream",
     "text": [
      "100%|██████████| 20/20 [00:00<00:00, 803.34it/s]\n",
      "100%|██████████| 100/100 [00:00<00:00, 789.94it/s]\n",
      "100%|██████████| 500/500 [00:00<00:00, 800.00it/s]\n"
     ]
    },
    {
     "name": "stdout",
     "output_type": "stream",
     "text": [
      "\n",
      "\n",
      "Running Iteration 52\n",
      "Running RAggregate with theta = 1.9965288826827763 and reg = 0.1\n",
      "Length of the RPS is 9\n"
     ]
    },
    {
     "name": "stderr",
     "output_type": "stream",
     "text": [
      "100%|██████████| 20/20 [00:00<00:00, 44150.57it/s]\n",
      "100%|██████████| 100/100 [00:00<00:00, 49819.50it/s]\n",
      "100%|██████████| 500/500 [00:00<00:00, 52029.47it/s]\n"
     ]
    },
    {
     "name": "stdout",
     "output_type": "stream",
     "text": [
      "Running RAggregate with theta = 2.1780315083812103 and reg = 0.1\n",
      "Length of the RPS is 48\n"
     ]
    },
    {
     "name": "stderr",
     "output_type": "stream",
     "text": [
      "100%|██████████| 20/20 [00:00<00:00, 11462.98it/s]\n",
      "100%|██████████| 100/100 [00:00<00:00, 11226.12it/s]\n",
      "100%|██████████| 500/500 [00:00<00:00, 11660.95it/s]\n"
     ]
    },
    {
     "name": "stdout",
     "output_type": "stream",
     "text": [
      "Running RAggregate with theta = 2.3595341340796443 and reg = 0.1\n",
      "Length of the RPS is 127\n"
     ]
    },
    {
     "name": "stderr",
     "output_type": "stream",
     "text": [
      "100%|██████████| 20/20 [00:00<00:00, 4417.85it/s]\n",
      "100%|██████████| 100/100 [00:00<00:00, 4441.10it/s]\n",
      "100%|██████████| 500/500 [00:00<00:00, 4478.72it/s]\n"
     ]
    },
    {
     "name": "stdout",
     "output_type": "stream",
     "text": [
      "Running RAggregate with theta = 2.7225393854765128 and reg = 0.1\n",
      "Length of the RPS is 769\n"
     ]
    },
    {
     "name": "stderr",
     "output_type": "stream",
     "text": [
      "100%|██████████| 20/20 [00:00<00:00, 707.34it/s]\n",
      "100%|██████████| 100/100 [00:00<00:00, 710.57it/s]\n",
      "100%|██████████| 500/500 [00:00<00:00, 710.69it/s]\n"
     ]
    },
    {
     "name": "stdout",
     "output_type": "stream",
     "text": [
      "\n",
      "\n",
      "Running Iteration 53\n",
      "Running RAggregate with theta = 1.993590115151953 and reg = 0.1\n",
      "Length of the RPS is 9\n"
     ]
    },
    {
     "name": "stderr",
     "output_type": "stream",
     "text": [
      "100%|██████████| 20/20 [00:00<00:00, 44034.69it/s]\n",
      "100%|██████████| 100/100 [00:00<00:00, 48640.89it/s]\n",
      "100%|██████████| 500/500 [00:00<00:00, 52061.76it/s]\n"
     ]
    },
    {
     "name": "stdout",
     "output_type": "stream",
     "text": [
      "Running RAggregate with theta = 2.1748255801657668 and reg = 0.1\n",
      "Length of the RPS is 48\n"
     ]
    },
    {
     "name": "stderr",
     "output_type": "stream",
     "text": [
      "100%|██████████| 20/20 [00:00<00:00, 11588.08it/s]\n",
      "100%|██████████| 100/100 [00:00<00:00, 11191.67it/s]\n",
      "100%|██████████| 500/500 [00:00<00:00, 11507.13it/s]\n"
     ]
    },
    {
     "name": "stdout",
     "output_type": "stream",
     "text": [
      "Running RAggregate with theta = 2.3560610451795805 and reg = 0.1\n",
      "Length of the RPS is 127\n"
     ]
    },
    {
     "name": "stderr",
     "output_type": "stream",
     "text": [
      "100%|██████████| 20/20 [00:00<00:00, 4394.70it/s]\n",
      "100%|██████████| 100/100 [00:00<00:00, 4446.98it/s]\n",
      "100%|██████████| 500/500 [00:00<00:00, 4474.92it/s]\n"
     ]
    },
    {
     "name": "stdout",
     "output_type": "stream",
     "text": [
      "Running RAggregate with theta = 2.7185319752072084 and reg = 0.1\n",
      "Length of the RPS is 772\n"
     ]
    },
    {
     "name": "stderr",
     "output_type": "stream",
     "text": [
      "100%|██████████| 20/20 [00:00<00:00, 727.99it/s]\n",
      "100%|██████████| 100/100 [00:00<00:00, 730.44it/s]\n",
      "100%|██████████| 500/500 [00:00<00:00, 736.05it/s]\n"
     ]
    },
    {
     "name": "stdout",
     "output_type": "stream",
     "text": [
      "\n",
      "\n",
      "Running Iteration 54\n",
      "Running RAggregate with theta = 1.9635437857698923 and reg = 0.1\n",
      "Length of the RPS is 9\n"
     ]
    },
    {
     "name": "stderr",
     "output_type": "stream",
     "text": [
      "100%|██████████| 20/20 [00:00<00:00, 42886.54it/s]\n",
      "100%|██████████| 100/100 [00:00<00:00, 51125.11it/s]\n",
      "100%|██████████| 500/500 [00:00<00:00, 51974.03it/s]\n"
     ]
    },
    {
     "name": "stdout",
     "output_type": "stream",
     "text": [
      "Running RAggregate with theta = 2.1420477662944277 and reg = 0.1\n",
      "Length of the RPS is 49\n"
     ]
    },
    {
     "name": "stderr",
     "output_type": "stream",
     "text": [
      "100%|██████████| 20/20 [00:00<00:00, 10839.40it/s]\n",
      "100%|██████████| 100/100 [00:00<00:00, 11017.06it/s]\n",
      "100%|██████████| 500/500 [00:00<00:00, 11021.69it/s]\n"
     ]
    },
    {
     "name": "stdout",
     "output_type": "stream",
     "text": [
      "Running RAggregate with theta = 2.3205517468189636 and reg = 0.1\n",
      "Length of the RPS is 111\n"
     ]
    },
    {
     "name": "stderr",
     "output_type": "stream",
     "text": [
      "100%|██████████| 20/20 [00:00<00:00, 4905.33it/s]\n",
      "100%|██████████| 100/100 [00:00<00:00, 4895.48it/s]\n",
      "100%|██████████| 500/500 [00:00<00:00, 5060.73it/s]\n"
     ]
    },
    {
     "name": "stdout",
     "output_type": "stream",
     "text": [
      "Running RAggregate with theta = 2.677559707868035 and reg = 0.1\n",
      "Length of the RPS is 857\n"
     ]
    },
    {
     "name": "stderr",
     "output_type": "stream",
     "text": [
      "100%|██████████| 20/20 [00:00<00:00, 613.66it/s]\n",
      "100%|██████████| 100/100 [00:00<00:00, 636.82it/s]\n",
      "100%|██████████| 500/500 [00:00<00:00, 644.24it/s]\n"
     ]
    },
    {
     "name": "stdout",
     "output_type": "stream",
     "text": [
      "\n",
      "\n",
      "Running Iteration 55\n",
      "Running RAggregate with theta = 1.9541767277182926 and reg = 0.1\n",
      "Length of the RPS is 0\n"
     ]
    },
    {
     "name": "stderr",
     "output_type": "stream",
     "text": [
      "100%|██████████| 20/20 [00:00<00:00, 762600.73it/s]\n",
      "100%|██████████| 100/100 [00:00<00:00, 2573192.64it/s]\n",
      "100%|██████████| 500/500 [00:00<00:00, 4712701.12it/s]\n"
     ]
    },
    {
     "name": "stdout",
     "output_type": "stream",
     "text": [
      "Running RAggregate with theta = 2.1318291575108645 and reg = 0.1\n",
      "Length of the RPS is 40\n"
     ]
    },
    {
     "name": "stderr",
     "output_type": "stream",
     "text": [
      "100%|██████████| 20/20 [00:00<00:00, 13586.99it/s]\n",
      "100%|██████████| 100/100 [00:00<00:00, 13985.68it/s]\n",
      "100%|██████████| 500/500 [00:00<00:00, 14200.07it/s]\n"
     ]
    },
    {
     "name": "stdout",
     "output_type": "stream",
     "text": [
      "Running RAggregate with theta = 2.309481587303437 and reg = 0.1\n",
      "Length of the RPS is 92\n"
     ]
    },
    {
     "name": "stderr",
     "output_type": "stream",
     "text": [
      "100%|██████████| 20/20 [00:00<00:00, 6447.32it/s]\n",
      "100%|██████████| 100/100 [00:00<00:00, 6509.66it/s]\n",
      "100%|██████████| 500/500 [00:00<00:00, 6524.24it/s]\n"
     ]
    },
    {
     "name": "stdout",
     "output_type": "stream",
     "text": [
      "Running RAggregate with theta = 2.6647864468885807 and reg = 0.1\n",
      "Length of the RPS is 469\n"
     ]
    },
    {
     "name": "stderr",
     "output_type": "stream",
     "text": [
      "100%|██████████| 20/20 [00:00<00:00, 1198.54it/s]\n",
      "100%|██████████| 100/100 [00:00<00:00, 1157.90it/s]\n",
      "100%|██████████| 500/500 [00:00<00:00, 1178.50it/s]\n"
     ]
    },
    {
     "name": "stdout",
     "output_type": "stream",
     "text": [
      "\n",
      "\n",
      "Running Iteration 56\n",
      "Running RAggregate with theta = 1.9461120171672128 and reg = 0.1\n",
      "Length of the RPS is 10\n"
     ]
    },
    {
     "name": "stderr",
     "output_type": "stream",
     "text": [
      "100%|██████████| 20/20 [00:00<00:00, 37332.48it/s]\n",
      "100%|██████████| 100/100 [00:00<00:00, 45129.16it/s]\n",
      "100%|██████████| 500/500 [00:00<00:00, 44106.93it/s]\n"
     ]
    },
    {
     "name": "stdout",
     "output_type": "stream",
     "text": [
      "Running RAggregate with theta = 2.123031291455141 and reg = 0.1\n",
      "Length of the RPS is 56\n"
     ]
    },
    {
     "name": "stderr",
     "output_type": "stream",
     "text": [
      "100%|██████████| 20/20 [00:00<00:00, 9484.01it/s]\n",
      "100%|██████████| 100/100 [00:00<00:00, 9704.99it/s]\n",
      "100%|██████████| 500/500 [00:00<00:00, 9391.26it/s]\n"
     ]
    },
    {
     "name": "stdout",
     "output_type": "stream",
     "text": [
      "Running RAggregate with theta = 2.2999505657430697 and reg = 0.1\n",
      "Length of the RPS is 146\n"
     ]
    },
    {
     "name": "stderr",
     "output_type": "stream",
     "text": [
      "100%|██████████| 20/20 [00:00<00:00, 3698.19it/s]\n",
      "100%|██████████| 100/100 [00:00<00:00, 3725.49it/s]\n",
      "100%|██████████| 500/500 [00:00<00:00, 3743.56it/s]\n"
     ]
    },
    {
     "name": "stdout",
     "output_type": "stream",
     "text": [
      "Running RAggregate with theta = 2.6537891143189265 and reg = 0.1\n",
      "Length of the RPS is 849\n"
     ]
    },
    {
     "name": "stderr",
     "output_type": "stream",
     "text": [
      "100%|██████████| 20/20 [00:00<00:00, 627.59it/s]\n",
      "100%|██████████| 100/100 [00:00<00:00, 547.08it/s]\n",
      "100%|██████████| 500/500 [00:00<00:00, 616.39it/s]\n"
     ]
    },
    {
     "name": "stdout",
     "output_type": "stream",
     "text": [
      "\n",
      "\n",
      "Running Iteration 57\n",
      "Running RAggregate with theta = 1.9581400227898995 and reg = 0.1\n",
      "Length of the RPS is 9\n"
     ]
    },
    {
     "name": "stderr",
     "output_type": "stream",
     "text": [
      "100%|██████████| 20/20 [00:00<00:00, 45889.54it/s]\n",
      "100%|██████████| 100/100 [00:00<00:00, 51704.93it/s]\n",
      "100%|██████████| 500/500 [00:00<00:00, 51968.88it/s]\n"
     ]
    },
    {
     "name": "stdout",
     "output_type": "stream",
     "text": [
      "Running RAggregate with theta = 2.1361527521344357 and reg = 0.1\n",
      "Length of the RPS is 48\n"
     ]
    },
    {
     "name": "stderr",
     "output_type": "stream",
     "text": [
      "100%|██████████| 20/20 [00:00<00:00, 11377.47it/s]\n",
      "100%|██████████| 100/100 [00:00<00:00, 11479.29it/s]\n",
      "100%|██████████| 500/500 [00:00<00:00, 11408.48it/s]\n"
     ]
    },
    {
     "name": "stdout",
     "output_type": "stream",
     "text": [
      "Running RAggregate with theta = 2.3141654814789723 and reg = 0.1\n",
      "Length of the RPS is 102\n"
     ]
    },
    {
     "name": "stderr",
     "output_type": "stream",
     "text": [
      "100%|██████████| 20/20 [00:00<00:00, 5445.03it/s]\n",
      "100%|██████████| 100/100 [00:00<00:00, 5563.92it/s]\n",
      "100%|██████████| 500/500 [00:00<00:00, 5639.66it/s]\n"
     ]
    },
    {
     "name": "stdout",
     "output_type": "stream",
     "text": [
      "Running RAggregate with theta = 2.6701909401680446 and reg = 0.1\n",
      "Length of the RPS is 689\n"
     ]
    },
    {
     "name": "stderr",
     "output_type": "stream",
     "text": [
      "100%|██████████| 20/20 [00:00<00:00, 764.32it/s]\n",
      "100%|██████████| 100/100 [00:00<00:00, 764.64it/s]\n",
      "100%|██████████| 500/500 [00:00<00:00, 782.42it/s]\n"
     ]
    },
    {
     "name": "stdout",
     "output_type": "stream",
     "text": [
      "\n",
      "\n",
      "Running Iteration 58\n",
      "Running RAggregate with theta = 1.9918232022620292 and reg = 0.1\n",
      "Length of the RPS is 9\n"
     ]
    },
    {
     "name": "stderr",
     "output_type": "stream",
     "text": [
      "100%|██████████| 20/20 [00:00<00:00, 46422.84it/s]\n",
      "100%|██████████| 100/100 [00:00<00:00, 48856.19it/s]\n",
      "100%|██████████| 500/500 [00:00<00:00, 51051.68it/s]\n"
     ]
    },
    {
     "name": "stdout",
     "output_type": "stream",
     "text": [
      "Running RAggregate with theta = 2.1728980388313044 and reg = 0.1\n",
      "Length of the RPS is 41\n"
     ]
    },
    {
     "name": "stderr",
     "output_type": "stream",
     "text": [
      "100%|██████████| 20/20 [00:00<00:00, 13613.45it/s]\n",
      "100%|██████████| 100/100 [00:00<00:00, 13393.91it/s]\n",
      "100%|██████████| 500/500 [00:00<00:00, 13598.09it/s]\n"
     ]
    },
    {
     "name": "stdout",
     "output_type": "stream",
     "text": [
      "Running RAggregate with theta = 2.3539728754005798 and reg = 0.1\n",
      "Length of the RPS is 103\n"
     ]
    },
    {
     "name": "stderr",
     "output_type": "stream",
     "text": [
      "100%|██████████| 20/20 [00:00<00:00, 5560.16it/s]\n",
      "100%|██████████| 100/100 [00:00<00:00, 5486.05it/s]\n",
      "100%|██████████| 500/500 [00:00<00:00, 5405.74it/s]\n"
     ]
    },
    {
     "name": "stdout",
     "output_type": "stream",
     "text": [
      "Running RAggregate with theta = 2.7161225485391305 and reg = 0.1\n",
      "Length of the RPS is 967\n"
     ]
    },
    {
     "name": "stderr",
     "output_type": "stream",
     "text": [
      "100%|██████████| 20/20 [00:00<00:00, 572.41it/s]\n",
      "100%|██████████| 100/100 [00:00<00:00, 560.21it/s]\n",
      "100%|██████████| 500/500 [00:00<00:00, 557.67it/s]\n"
     ]
    },
    {
     "name": "stdout",
     "output_type": "stream",
     "text": [
      "\n",
      "\n",
      "Running Iteration 59\n",
      "Running RAggregate with theta = 1.9601118391638532 and reg = 0.1\n",
      "Length of the RPS is 9\n"
     ]
    },
    {
     "name": "stderr",
     "output_type": "stream",
     "text": [
      "100%|██████████| 20/20 [00:00<00:00, 45764.36it/s]\n",
      "100%|██████████| 100/100 [00:00<00:00, 49654.36it/s]\n",
      "100%|██████████| 500/500 [00:00<00:00, 51398.26it/s]\n"
     ]
    },
    {
     "name": "stdout",
     "output_type": "stream",
     "text": [
      "Running RAggregate with theta = 2.138303824542385 and reg = 0.1\n",
      "Length of the RPS is 49\n"
     ]
    },
    {
     "name": "stderr",
     "output_type": "stream",
     "text": [
      "100%|██████████| 20/20 [00:00<00:00, 7843.49it/s]\n",
      "100%|██████████| 100/100 [00:00<00:00, 10985.32it/s]\n",
      "100%|██████████| 500/500 [00:00<00:00, 10774.52it/s]\n"
     ]
    },
    {
     "name": "stdout",
     "output_type": "stream",
     "text": [
      "Running RAggregate with theta = 2.316495809920917 and reg = 0.1\n",
      "Length of the RPS is 154\n"
     ]
    },
    {
     "name": "stderr",
     "output_type": "stream",
     "text": [
      "100%|██████████| 20/20 [00:00<00:00, 3446.43it/s]\n",
      "100%|██████████| 100/100 [00:00<00:00, 3451.39it/s]\n",
      "100%|██████████| 500/500 [00:00<00:00, 3568.57it/s]\n"
     ]
    },
    {
     "name": "stdout",
     "output_type": "stream",
     "text": [
      "Running RAggregate with theta = 2.6728797806779814 and reg = 0.1\n",
      "Length of the RPS is 923\n"
     ]
    },
    {
     "name": "stderr",
     "output_type": "stream",
     "text": [
      "100%|██████████| 20/20 [00:00<00:00, 565.79it/s]\n",
      "100%|██████████| 100/100 [00:00<00:00, 570.81it/s]\n",
      "100%|██████████| 500/500 [00:00<00:00, 566.63it/s]\n"
     ]
    },
    {
     "name": "stdout",
     "output_type": "stream",
     "text": [
      "\n",
      "\n",
      "Running Iteration 60\n",
      "Running RAggregate with theta = 1.9807804085479979 and reg = 0.1\n",
      "Length of the RPS is 10\n"
     ]
    },
    {
     "name": "stderr",
     "output_type": "stream",
     "text": [
      "100%|██████████| 20/20 [00:00<00:00, 39831.95it/s]\n",
      "100%|██████████| 100/100 [00:00<00:00, 43951.63it/s]\n",
      "100%|██████████| 500/500 [00:00<00:00, 44910.74it/s]\n"
     ]
    },
    {
     "name": "stdout",
     "output_type": "stream",
     "text": [
      "Running RAggregate with theta = 2.1608513547796337 and reg = 0.1\n",
      "Length of the RPS is 65\n"
     ]
    },
    {
     "name": "stderr",
     "output_type": "stream",
     "text": [
      "100%|██████████| 20/20 [00:00<00:00, 7924.25it/s]\n",
      "100%|██████████| 100/100 [00:00<00:00, 7842.46it/s]\n",
      "100%|██████████| 500/500 [00:00<00:00, 8018.48it/s]\n"
     ]
    },
    {
     "name": "stdout",
     "output_type": "stream",
     "text": [
      "Running RAggregate with theta = 2.34092230101127 and reg = 0.1\n",
      "Length of the RPS is 210\n"
     ]
    },
    {
     "name": "stderr",
     "output_type": "stream",
     "text": [
      "100%|██████████| 20/20 [00:00<00:00, 2470.65it/s]\n",
      "100%|██████████| 100/100 [00:00<00:00, 2545.57it/s]\n",
      "100%|██████████| 500/500 [00:00<00:00, 2522.09it/s]\n"
     ]
    },
    {
     "name": "stdout",
     "output_type": "stream",
     "text": [
      "Running RAggregate with theta = 2.7010641934745423 and reg = 0.1\n",
      "Length of the RPS is 1190\n"
     ]
    },
    {
     "name": "stderr",
     "output_type": "stream",
     "text": [
      "100%|██████████| 20/20 [00:00<00:00, 454.45it/s]\n",
      "100%|██████████| 100/100 [00:00<00:00, 448.07it/s]\n",
      "100%|██████████| 500/500 [00:01<00:00, 464.35it/s]\n"
     ]
    },
    {
     "name": "stdout",
     "output_type": "stream",
     "text": [
      "\n",
      "\n",
      "Running Iteration 61\n",
      "Running RAggregate with theta = 1.9991611467638555 and reg = 0.1\n",
      "Length of the RPS is 9\n"
     ]
    },
    {
     "name": "stderr",
     "output_type": "stream",
     "text": [
      "100%|██████████| 20/20 [00:00<00:00, 46397.17it/s]\n",
      "100%|██████████| 100/100 [00:00<00:00, 52187.43it/s]\n",
      "100%|██████████| 500/500 [00:00<00:00, 51398.26it/s]\n"
     ]
    },
    {
     "name": "stdout",
     "output_type": "stream",
     "text": [
      "Running RAggregate with theta = 2.180903069196933 and reg = 0.1\n",
      "Length of the RPS is 48\n"
     ]
    },
    {
     "name": "stderr",
     "output_type": "stream",
     "text": [
      "100%|██████████| 20/20 [00:00<00:00, 11500.70it/s]\n",
      "100%|██████████| 100/100 [00:00<00:00, 11011.85it/s]\n",
      "100%|██████████| 500/500 [00:00<00:00, 11514.08it/s]\n"
     ]
    },
    {
     "name": "stdout",
     "output_type": "stream",
     "text": [
      "Running RAggregate with theta = 2.362644991630011 and reg = 0.1\n",
      "Length of the RPS is 104\n"
     ]
    },
    {
     "name": "stderr",
     "output_type": "stream",
     "text": [
      "100%|██████████| 20/20 [00:00<00:00, 5835.55it/s]\n",
      "100%|██████████| 100/100 [00:00<00:00, 5399.60it/s]\n",
      "100%|██████████| 500/500 [00:00<00:00, 5460.12it/s]\n"
     ]
    },
    {
     "name": "stdout",
     "output_type": "stream",
     "text": [
      "Running RAggregate with theta = 2.7261288364961667 and reg = 0.1\n",
      "Length of the RPS is 765\n"
     ]
    },
    {
     "name": "stderr",
     "output_type": "stream",
     "text": [
      "100%|██████████| 20/20 [00:00<00:00, 749.42it/s]\n",
      "100%|██████████| 100/100 [00:00<00:00, 736.79it/s]\n",
      "100%|██████████| 500/500 [00:00<00:00, 718.99it/s]\n"
     ]
    },
    {
     "name": "stdout",
     "output_type": "stream",
     "text": [
      "\n",
      "\n",
      "Running Iteration 62\n",
      "Running RAggregate with theta = 1.9911123481759585 and reg = 0.1\n",
      "Length of the RPS is 9\n"
     ]
    },
    {
     "name": "stderr",
     "output_type": "stream",
     "text": [
      "100%|██████████| 20/20 [00:00<00:00, 44431.19it/s]\n",
      "100%|██████████| 100/100 [00:00<00:00, 49997.66it/s]\n",
      "100%|██████████| 500/500 [00:00<00:00, 47933.81it/s]\n"
     ]
    },
    {
     "name": "stdout",
     "output_type": "stream",
     "text": [
      "Running RAggregate with theta = 2.1721225616465 and reg = 0.1\n",
      "Length of the RPS is 49\n"
     ]
    },
    {
     "name": "stderr",
     "output_type": "stream",
     "text": [
      "100%|██████████| 20/20 [00:00<00:00, 10427.11it/s]\n",
      "100%|██████████| 100/100 [00:00<00:00, 10449.19it/s]\n",
      "100%|██████████| 500/500 [00:00<00:00, 10621.18it/s]\n"
     ]
    },
    {
     "name": "stdout",
     "output_type": "stream",
     "text": [
      "Running RAggregate with theta = 2.3531327751170417 and reg = 0.1\n",
      "Length of the RPS is 137\n"
     ]
    },
    {
     "name": "stderr",
     "output_type": "stream",
     "text": [
      "100%|██████████| 20/20 [00:00<00:00, 3957.08it/s]\n",
      "100%|██████████| 100/100 [00:00<00:00, 3920.97it/s]\n",
      "100%|██████████| 500/500 [00:00<00:00, 3845.18it/s]\n"
     ]
    },
    {
     "name": "stdout",
     "output_type": "stream",
     "text": [
      "Running RAggregate with theta = 2.715153202058125 and reg = 0.1\n",
      "Length of the RPS is 943\n"
     ]
    },
    {
     "name": "stderr",
     "output_type": "stream",
     "text": [
      "100%|██████████| 20/20 [00:00<00:00, 554.40it/s]\n",
      "100%|██████████| 100/100 [00:00<00:00, 570.14it/s]\n",
      "100%|██████████| 500/500 [00:00<00:00, 576.56it/s]\n"
     ]
    },
    {
     "name": "stdout",
     "output_type": "stream",
     "text": [
      "\n",
      "\n",
      "Running Iteration 63\n",
      "Running RAggregate with theta = 1.9643200320241383 and reg = 0.1\n",
      "Length of the RPS is 9\n"
     ]
    },
    {
     "name": "stderr",
     "output_type": "stream",
     "text": [
      "100%|██████████| 20/20 [00:00<00:00, 46192.78it/s]\n",
      "100%|██████████| 100/100 [00:00<00:00, 51013.18it/s]\n",
      "100%|██████████| 500/500 [00:00<00:00, 48805.03it/s]\n"
     ]
    },
    {
     "name": "stdout",
     "output_type": "stream",
     "text": [
      "Running RAggregate with theta = 2.1428945803899686 and reg = 0.1\n",
      "Length of the RPS is 40\n"
     ]
    },
    {
     "name": "stderr",
     "output_type": "stream",
     "text": [
      "100%|██████████| 20/20 [00:00<00:00, 12546.53it/s]\n",
      "100%|██████████| 100/100 [00:00<00:00, 13073.70it/s]\n",
      "100%|██████████| 500/500 [00:00<00:00, 13568.18it/s]\n"
     ]
    },
    {
     "name": "stdout",
     "output_type": "stream",
     "text": [
      "Running RAggregate with theta = 2.3214691287558 and reg = 0.1\n",
      "Length of the RPS is 102\n"
     ]
    },
    {
     "name": "stderr",
     "output_type": "stream",
     "text": [
      "100%|██████████| 20/20 [00:00<00:00, 5219.07it/s]\n",
      "100%|██████████| 100/100 [00:00<00:00, 5089.56it/s]\n",
      "100%|██████████| 500/500 [00:00<00:00, 5273.15it/s]\n"
     ]
    },
    {
     "name": "stdout",
     "output_type": "stream",
     "text": [
      "Running RAggregate with theta = 2.678618225487461 and reg = 0.1\n",
      "Length of the RPS is 738\n"
     ]
    },
    {
     "name": "stderr",
     "output_type": "stream",
     "text": [
      "100%|██████████| 20/20 [00:00<00:00, 619.14it/s]\n",
      "100%|██████████| 100/100 [00:00<00:00, 665.09it/s]\n",
      "100%|██████████| 500/500 [00:00<00:00, 690.90it/s]\n"
     ]
    },
    {
     "name": "stdout",
     "output_type": "stream",
     "text": [
      "\n",
      "\n",
      "Running Iteration 64\n",
      "Running RAggregate with theta = 1.9272713117838016 and reg = 0.1\n",
      "Length of the RPS is 9\n"
     ]
    },
    {
     "name": "stderr",
     "output_type": "stream",
     "text": [
      "100%|██████████| 20/20 [00:00<00:00, 41838.44it/s]\n",
      "100%|██████████| 100/100 [00:00<00:00, 47896.59it/s]\n",
      "100%|██████████| 500/500 [00:00<00:00, 49024.08it/s]\n"
     ]
    },
    {
     "name": "stdout",
     "output_type": "stream",
     "text": [
      "Running RAggregate with theta = 2.102477794673238 and reg = 0.1\n",
      "Length of the RPS is 49\n"
     ]
    },
    {
     "name": "stderr",
     "output_type": "stream",
     "text": [
      "100%|██████████| 20/20 [00:00<00:00, 10256.28it/s]\n",
      "100%|██████████| 100/100 [00:00<00:00, 10223.28it/s]\n",
      "100%|██████████| 500/500 [00:00<00:00, 10512.62it/s]\n"
     ]
    },
    {
     "name": "stdout",
     "output_type": "stream",
     "text": [
      "Running RAggregate with theta = 2.2776842775626744 and reg = 0.1\n",
      "Length of the RPS is 144\n"
     ]
    },
    {
     "name": "stderr",
     "output_type": "stream",
     "text": [
      "100%|██████████| 20/20 [00:00<00:00, 3591.94it/s]\n",
      "100%|██████████| 100/100 [00:00<00:00, 3679.73it/s]\n",
      "100%|██████████| 500/500 [00:00<00:00, 3698.09it/s]\n"
     ]
    },
    {
     "name": "stdout",
     "output_type": "stream",
     "text": [
      "Running RAggregate with theta = 2.6280972433415473 and reg = 0.1\n",
      "Length of the RPS is 774\n"
     ]
    },
    {
     "name": "stderr",
     "output_type": "stream",
     "text": [
      "100%|██████████| 20/20 [00:00<00:00, 593.49it/s]\n",
      "100%|██████████| 100/100 [00:00<00:00, 628.39it/s]\n",
      "100%|██████████| 500/500 [00:00<00:00, 645.84it/s]\n"
     ]
    },
    {
     "name": "stdout",
     "output_type": "stream",
     "text": [
      "\n",
      "\n",
      "Running Iteration 65\n",
      "Running RAggregate with theta = 1.97267885053938 and reg = 0.1\n",
      "Length of the RPS is 9\n"
     ]
    },
    {
     "name": "stderr",
     "output_type": "stream",
     "text": [
      "100%|██████████| 20/20 [00:00<00:00, 44572.84it/s]\n",
      "100%|██████████| 100/100 [00:00<00:00, 45605.13it/s]\n",
      "100%|██████████| 500/500 [00:00<00:00, 48723.39it/s]\n"
     ]
    },
    {
     "name": "stdout",
     "output_type": "stream",
     "text": [
      "Running RAggregate with theta = 2.152013291497505 and reg = 0.1\n",
      "Length of the RPS is 48\n"
     ]
    },
    {
     "name": "stderr",
     "output_type": "stream",
     "text": [
      "100%|██████████| 20/20 [00:00<00:00, 10787.82it/s]\n",
      "100%|██████████| 100/100 [00:00<00:00, 10824.85it/s]\n",
      "100%|██████████| 500/500 [00:00<00:00, 10764.73it/s]\n"
     ]
    },
    {
     "name": "stdout",
     "output_type": "stream",
     "text": [
      "Running RAggregate with theta = 2.331347732455631 and reg = 0.1\n",
      "Length of the RPS is 127\n"
     ]
    },
    {
     "name": "stderr",
     "output_type": "stream",
     "text": [
      "100%|██████████| 20/20 [00:00<00:00, 4205.45it/s]\n",
      "100%|██████████| 100/100 [00:00<00:00, 4330.90it/s]\n",
      "100%|██████████| 500/500 [00:00<00:00, 4235.25it/s]\n"
     ]
    },
    {
     "name": "stdout",
     "output_type": "stream",
     "text": [
      "Running RAggregate with theta = 2.6900166143718813 and reg = 0.1\n",
      "Length of the RPS is 823\n"
     ]
    },
    {
     "name": "stderr",
     "output_type": "stream",
     "text": [
      "100%|██████████| 20/20 [00:00<00:00, 592.70it/s]\n",
      "100%|██████████| 100/100 [00:00<00:00, 601.10it/s]\n",
      "100%|██████████| 500/500 [00:00<00:00, 620.43it/s]\n"
     ]
    },
    {
     "name": "stdout",
     "output_type": "stream",
     "text": [
      "\n",
      "\n",
      "Running Iteration 66\n",
      "Running RAggregate with theta = 1.946867442136538 and reg = 0.1\n",
      "Length of the RPS is 9\n"
     ]
    },
    {
     "name": "stderr",
     "output_type": "stream",
     "text": [
      "100%|██████████| 20/20 [00:00<00:00, 43486.82it/s]\n",
      "100%|██████████| 100/100 [00:00<00:00, 48703.02it/s]\n",
      "100%|██████████| 500/500 [00:00<00:00, 50648.51it/s]\n"
     ]
    },
    {
     "name": "stdout",
     "output_type": "stream",
     "text": [
      "Running RAggregate with theta = 2.1238553914216776 and reg = 0.1\n",
      "Length of the RPS is 40\n"
     ]
    },
    {
     "name": "stderr",
     "output_type": "stream",
     "text": [
      "100%|██████████| 20/20 [00:00<00:00, 13449.75it/s]\n",
      "100%|██████████| 100/100 [00:00<00:00, 13732.46it/s]\n",
      "100%|██████████| 500/500 [00:00<00:00, 13982.88it/s]\n"
     ]
    },
    {
     "name": "stdout",
     "output_type": "stream",
     "text": [
      "Running RAggregate with theta = 2.3008433407068174 and reg = 0.1\n",
      "Length of the RPS is 103\n"
     ]
    },
    {
     "name": "stderr",
     "output_type": "stream",
     "text": [
      "100%|██████████| 20/20 [00:00<00:00, 5198.69it/s]\n",
      "100%|██████████| 100/100 [00:00<00:00, 5406.22it/s]\n",
      "100%|██████████| 500/500 [00:00<00:00, 5346.51it/s]\n"
     ]
    },
    {
     "name": "stdout",
     "output_type": "stream",
     "text": [
      "Running RAggregate with theta = 2.6548192392770966 and reg = 0.1\n",
      "Length of the RPS is 754\n"
     ]
    },
    {
     "name": "stderr",
     "output_type": "stream",
     "text": [
      "100%|██████████| 20/20 [00:00<00:00, 697.57it/s]\n",
      "100%|██████████| 100/100 [00:00<00:00, 719.44it/s]\n",
      "100%|██████████| 500/500 [00:00<00:00, 697.94it/s]\n"
     ]
    },
    {
     "name": "stdout",
     "output_type": "stream",
     "text": [
      "\n",
      "\n",
      "Running Iteration 67\n",
      "Running RAggregate with theta = 1.9850294987426806 and reg = 0.1\n",
      "Length of the RPS is 9\n"
     ]
    },
    {
     "name": "stderr",
     "output_type": "stream",
     "text": [
      "100%|██████████| 20/20 [00:00<00:00, 46065.94it/s]\n",
      "100%|██████████| 100/100 [00:00<00:00, 50994.58it/s]\n",
      "100%|██████████| 500/500 [00:00<00:00, 51758.53it/s]\n"
     ]
    },
    {
     "name": "stdout",
     "output_type": "stream",
     "text": [
      "Running RAggregate with theta = 2.165486725901106 and reg = 0.1\n",
      "Length of the RPS is 48\n"
     ]
    },
    {
     "name": "stderr",
     "output_type": "stream",
     "text": [
      "100%|██████████| 20/20 [00:00<00:00, 10852.02it/s]\n",
      "100%|██████████| 100/100 [00:00<00:00, 11273.80it/s]\n",
      "100%|██████████| 500/500 [00:00<00:00, 11304.00it/s]\n"
     ]
    },
    {
     "name": "stdout",
     "output_type": "stream",
     "text": [
      "Running RAggregate with theta = 2.3459439530595314 and reg = 0.1\n",
      "Length of the RPS is 145\n"
     ]
    },
    {
     "name": "stderr",
     "output_type": "stream",
     "text": [
      "100%|██████████| 20/20 [00:00<00:00, 3729.10it/s]\n",
      "100%|██████████| 100/100 [00:00<00:00, 3696.30it/s]\n",
      "100%|██████████| 500/500 [00:00<00:00, 3732.32it/s]\n"
     ]
    },
    {
     "name": "stdout",
     "output_type": "stream",
     "text": [
      "Running RAggregate with theta = 2.7068584073763824 and reg = 0.1\n",
      "Length of the RPS is 904\n"
     ]
    },
    {
     "name": "stderr",
     "output_type": "stream",
     "text": [
      "100%|██████████| 20/20 [00:00<00:00, 601.45it/s]\n",
      "100%|██████████| 100/100 [00:00<00:00, 590.41it/s]\n",
      "100%|██████████| 500/500 [00:00<00:00, 597.13it/s]\n"
     ]
    },
    {
     "name": "stdout",
     "output_type": "stream",
     "text": [
      "\n",
      "\n",
      "Running Iteration 68\n",
      "Running RAggregate with theta = 1.9528190811640225 and reg = 0.1\n",
      "Length of the RPS is 0\n"
     ]
    },
    {
     "name": "stderr",
     "output_type": "stream",
     "text": [
      "100%|██████████| 20/20 [00:00<00:00, 645277.54it/s]\n",
      "100%|██████████| 100/100 [00:00<00:00, 2219208.47it/s]\n",
      "100%|██████████| 500/500 [00:00<00:00, 4639716.81it/s]\n"
     ]
    },
    {
     "name": "stdout",
     "output_type": "stream",
     "text": [
      "Running RAggregate with theta = 2.13034808854257 and reg = 0.1\n",
      "Length of the RPS is 40\n"
     ]
    },
    {
     "name": "stderr",
     "output_type": "stream",
     "text": [
      "100%|██████████| 20/20 [00:00<00:00, 13624.51it/s]\n",
      "100%|██████████| 100/100 [00:00<00:00, 13185.49it/s]\n",
      "100%|██████████| 500/500 [00:00<00:00, 13831.27it/s]\n"
     ]
    },
    {
     "name": "stdout",
     "output_type": "stream",
     "text": [
      "Running RAggregate with theta = 2.3078770959211172 and reg = 0.1\n",
      "Length of the RPS is 93\n"
     ]
    },
    {
     "name": "stderr",
     "output_type": "stream",
     "text": [
      "100%|██████████| 20/20 [00:00<00:00, 6153.62it/s]\n",
      "100%|██████████| 100/100 [00:00<00:00, 6119.59it/s]\n",
      "100%|██████████| 500/500 [00:00<00:00, 6280.93it/s]\n"
     ]
    },
    {
     "name": "stdout",
     "output_type": "stream",
     "text": [
      "Running RAggregate with theta = 2.6629351106782124 and reg = 0.1\n",
      "Length of the RPS is 644\n"
     ]
    },
    {
     "name": "stderr",
     "output_type": "stream",
     "text": [
      "100%|██████████| 20/20 [00:00<00:00, 842.04it/s]\n",
      "100%|██████████| 100/100 [00:00<00:00, 831.48it/s]\n",
      "100%|██████████| 500/500 [00:00<00:00, 850.58it/s]\n"
     ]
    },
    {
     "name": "stdout",
     "output_type": "stream",
     "text": [
      "\n",
      "\n",
      "Running Iteration 69\n",
      "Running RAggregate with theta = 1.9502872311182242 and reg = 0.1\n",
      "Length of the RPS is 9\n"
     ]
    },
    {
     "name": "stderr",
     "output_type": "stream",
     "text": [
      "100%|██████████| 20/20 [00:00<00:00, 45839.39it/s]\n",
      "100%|██████████| 100/100 [00:00<00:00, 48657.82it/s]\n",
      "100%|██████████| 500/500 [00:00<00:00, 49810.04it/s]\n"
     ]
    },
    {
     "name": "stdout",
     "output_type": "stream",
     "text": [
      "Running RAggregate with theta = 2.1275860703107896 and reg = 0.1\n",
      "Length of the RPS is 40\n"
     ]
    },
    {
     "name": "stderr",
     "output_type": "stream",
     "text": [
      "100%|██████████| 20/20 [00:00<00:00, 14215.57it/s]\n",
      "100%|██████████| 100/100 [00:00<00:00, 13732.91it/s]\n",
      "100%|██████████| 500/500 [00:00<00:00, 14162.39it/s]\n"
     ]
    },
    {
     "name": "stdout",
     "output_type": "stream",
     "text": [
      "Running RAggregate with theta = 2.3048849095033557 and reg = 0.1\n",
      "Length of the RPS is 105\n"
     ]
    },
    {
     "name": "stderr",
     "output_type": "stream",
     "text": [
      "100%|██████████| 20/20 [00:00<00:00, 5402.59it/s]\n",
      "100%|██████████| 100/100 [00:00<00:00, 5237.25it/s]\n",
      "100%|██████████| 500/500 [00:00<00:00, 5293.75it/s]\n"
     ]
    },
    {
     "name": "stdout",
     "output_type": "stream",
     "text": [
      "Running RAggregate with theta = 2.6594825878884873 and reg = 0.1\n",
      "Length of the RPS is 713\n"
     ]
    },
    {
     "name": "stderr",
     "output_type": "stream",
     "text": [
      "100%|██████████| 20/20 [00:00<00:00, 753.63it/s]\n",
      "100%|██████████| 100/100 [00:00<00:00, 753.04it/s]\n",
      "100%|██████████| 500/500 [00:00<00:00, 705.83it/s]\n"
     ]
    },
    {
     "name": "stdout",
     "output_type": "stream",
     "text": [
      "\n",
      "\n",
      "Running Iteration 70\n",
      "Running RAggregate with theta = 1.9700154727603316 and reg = 0.1\n",
      "Length of the RPS is 9\n"
     ]
    },
    {
     "name": "stderr",
     "output_type": "stream",
     "text": [
      "100%|██████████| 20/20 [00:00<00:00, 40252.44it/s]\n",
      "100%|██████████| 100/100 [00:00<00:00, 43459.79it/s]\n",
      "100%|██████████| 500/500 [00:00<00:00, 47291.74it/s]\n"
     ]
    },
    {
     "name": "stdout",
     "output_type": "stream",
     "text": [
      "Running RAggregate with theta = 2.149107788465816 and reg = 0.1\n",
      "Length of the RPS is 48\n"
     ]
    },
    {
     "name": "stderr",
     "output_type": "stream",
     "text": [
      "100%|██████████| 20/20 [00:00<00:00, 10631.95it/s]\n",
      "100%|██████████| 100/100 [00:00<00:00, 10413.13it/s]\n",
      "100%|██████████| 500/500 [00:00<00:00, 10437.54it/s]\n"
     ]
    },
    {
     "name": "stdout",
     "output_type": "stream",
     "text": [
      "Running RAggregate with theta = 2.3282001041713007 and reg = 0.1\n",
      "Length of the RPS is 127\n"
     ]
    },
    {
     "name": "stderr",
     "output_type": "stream",
     "text": [
      "100%|██████████| 20/20 [00:00<00:00, 4157.10it/s]\n",
      "100%|██████████| 100/100 [00:00<00:00, 4227.11it/s]\n",
      "100%|██████████| 500/500 [00:00<00:00, 4275.84it/s]\n"
     ]
    },
    {
     "name": "stdout",
     "output_type": "stream",
     "text": [
      "Running RAggregate with theta = 2.68638473558227 and reg = 0.1\n",
      "Length of the RPS is 739\n"
     ]
    },
    {
     "name": "stderr",
     "output_type": "stream",
     "text": [
      "100%|██████████| 20/20 [00:00<00:00, 612.28it/s]\n",
      "100%|██████████| 100/100 [00:00<00:00, 639.01it/s]\n",
      "100%|██████████| 500/500 [00:00<00:00, 645.98it/s]\n"
     ]
    },
    {
     "name": "stdout",
     "output_type": "stream",
     "text": [
      "\n",
      "\n",
      "Running Iteration 71\n",
      "Running RAggregate with theta = 1.882299393487685 and reg = 0.1\n",
      "Length of the RPS is 9\n"
     ]
    },
    {
     "name": "stderr",
     "output_type": "stream",
     "text": [
      "100%|██████████| 20/20 [00:00<00:00, 37332.48it/s]\n",
      "100%|██████████| 100/100 [00:00<00:00, 48827.75it/s]\n",
      "100%|██████████| 500/500 [00:00<00:00, 47718.94it/s]\n"
     ]
    },
    {
     "name": "stdout",
     "output_type": "stream",
     "text": [
      "Running RAggregate with theta = 2.0534175201683835 and reg = 0.1\n",
      "Length of the RPS is 40\n"
     ]
    },
    {
     "name": "stderr",
     "output_type": "stream",
     "text": [
      "100%|██████████| 20/20 [00:00<00:00, 13142.11it/s]\n",
      "100%|██████████| 100/100 [00:00<00:00, 12492.34it/s]\n",
      "100%|██████████| 500/500 [00:00<00:00, 13934.56it/s]\n"
     ]
    },
    {
     "name": "stdout",
     "output_type": "stream",
     "text": [
      "Running RAggregate with theta = 2.2245356468490822 and reg = 0.1\n",
      "Length of the RPS is 102\n"
     ]
    },
    {
     "name": "stderr",
     "output_type": "stream",
     "text": [
      "100%|██████████| 20/20 [00:00<00:00, 5507.95it/s]\n",
      "100%|██████████| 100/100 [00:00<00:00, 5436.49it/s]\n",
      "100%|██████████| 500/500 [00:00<00:00, 5420.06it/s]\n"
     ]
    },
    {
     "name": "stdout",
     "output_type": "stream",
     "text": [
      "Running RAggregate with theta = 2.5667719002104796 and reg = 0.1\n",
      "Length of the RPS is 628\n"
     ]
    },
    {
     "name": "stderr",
     "output_type": "stream",
     "text": [
      "100%|██████████| 20/20 [00:00<00:00, 885.97it/s]\n",
      "100%|██████████| 100/100 [00:00<00:00, 857.55it/s]\n",
      "100%|██████████| 500/500 [00:00<00:00, 854.01it/s]\n"
     ]
    },
    {
     "name": "stdout",
     "output_type": "stream",
     "text": [
      "\n",
      "\n",
      "Running Iteration 72\n",
      "Running RAggregate with theta = 2.019319607911452 and reg = 0.1\n",
      "Length of the RPS is 9\n"
     ]
    },
    {
     "name": "stderr",
     "output_type": "stream",
     "text": [
      "100%|██████████| 20/20 [00:00<00:00, 45565.50it/s]\n",
      "100%|██████████| 100/100 [00:00<00:00, 48635.25it/s]\n",
      "100%|██████████| 500/500 [00:00<00:00, 50437.77it/s]\n"
     ]
    },
    {
     "name": "stdout",
     "output_type": "stream",
     "text": [
      "Running RAggregate with theta = 2.2028941177215837 and reg = 0.1\n",
      "Length of the RPS is 48\n"
     ]
    },
    {
     "name": "stderr",
     "output_type": "stream",
     "text": [
      "100%|██████████| 20/20 [00:00<00:00, 11223.72it/s]\n",
      "100%|██████████| 100/100 [00:00<00:00, 11062.10it/s]\n",
      "100%|██████████| 500/500 [00:00<00:00, 11283.56it/s]\n"
     ]
    },
    {
     "name": "stdout",
     "output_type": "stream",
     "text": [
      "Running RAggregate with theta = 2.386468627531716 and reg = 0.1\n",
      "Length of the RPS is 102\n"
     ]
    },
    {
     "name": "stderr",
     "output_type": "stream",
     "text": [
      "100%|██████████| 20/20 [00:00<00:00, 5477.74it/s]\n",
      "100%|██████████| 100/100 [00:00<00:00, 5420.05it/s]\n",
      "100%|██████████| 500/500 [00:00<00:00, 5524.37it/s]\n"
     ]
    },
    {
     "name": "stdout",
     "output_type": "stream",
     "text": [
      "Running RAggregate with theta = 2.7536176471519798 and reg = 0.1\n",
      "Length of the RPS is 772\n"
     ]
    },
    {
     "name": "stderr",
     "output_type": "stream",
     "text": [
      "100%|██████████| 20/20 [00:00<00:00, 687.88it/s]\n",
      "100%|██████████| 100/100 [00:00<00:00, 708.44it/s]\n",
      "100%|██████████| 500/500 [00:00<00:00, 708.27it/s]\n"
     ]
    },
    {
     "name": "stdout",
     "output_type": "stream",
     "text": [
      "\n",
      "\n",
      "Running Iteration 73\n",
      "Running RAggregate with theta = 1.9207659701533195 and reg = 0.1\n",
      "Length of the RPS is 9\n"
     ]
    },
    {
     "name": "stderr",
     "output_type": "stream",
     "text": [
      "100%|██████████| 20/20 [00:00<00:00, 45990.18it/s]\n",
      "100%|██████████| 100/100 [00:00<00:00, 48873.27it/s]\n",
      "100%|██████████| 500/500 [00:00<00:00, 52164.07it/s]\n"
     ]
    },
    {
     "name": "stdout",
     "output_type": "stream",
     "text": [
      "Running RAggregate with theta = 2.0953810583490755 and reg = 0.1\n",
      "Length of the RPS is 49\n"
     ]
    },
    {
     "name": "stderr",
     "output_type": "stream",
     "text": [
      "100%|██████████| 20/20 [00:00<00:00, 10870.30it/s]\n",
      "100%|██████████| 100/100 [00:00<00:00, 10448.41it/s]\n",
      "100%|██████████| 500/500 [00:00<00:00, 10677.37it/s]\n"
     ]
    },
    {
     "name": "stdout",
     "output_type": "stream",
     "text": [
      "Running RAggregate with theta = 2.269996146544832 and reg = 0.1\n",
      "Length of the RPS is 122\n"
     ]
    },
    {
     "name": "stderr",
     "output_type": "stream",
     "text": [
      "100%|██████████| 20/20 [00:00<00:00, 4420.87it/s]\n",
      "100%|██████████| 100/100 [00:00<00:00, 4299.56it/s]\n",
      "100%|██████████| 500/500 [00:00<00:00, 4317.61it/s]\n"
     ]
    },
    {
     "name": "stdout",
     "output_type": "stream",
     "text": [
      "Running RAggregate with theta = 2.6192263229363446 and reg = 0.1\n",
      "Length of the RPS is 724\n"
     ]
    },
    {
     "name": "stderr",
     "output_type": "stream",
     "text": [
      "100%|██████████| 20/20 [00:00<00:00, 757.15it/s]\n",
      "100%|██████████| 100/100 [00:00<00:00, 742.24it/s]\n",
      "100%|██████████| 500/500 [00:00<00:00, 745.34it/s]\n"
     ]
    },
    {
     "name": "stdout",
     "output_type": "stream",
     "text": [
      "\n",
      "\n",
      "Running Iteration 74\n",
      "Running RAggregate with theta = 1.961196162713061 and reg = 0.1\n",
      "Length of the RPS is 0\n"
     ]
    },
    {
     "name": "stderr",
     "output_type": "stream",
     "text": [
      "100%|██████████| 20/20 [00:00<00:00, 626015.52it/s]\n",
      "100%|██████████| 100/100 [00:00<00:00, 2383127.27it/s]\n",
      "100%|██████████| 500/500 [00:00<00:00, 4471539.45it/s]\n"
     ]
    },
    {
     "name": "stdout",
     "output_type": "stream",
     "text": [
      "Running RAggregate with theta = 2.1394867229597025 and reg = 0.1\n",
      "Length of the RPS is 40\n"
     ]
    },
    {
     "name": "stderr",
     "output_type": "stream",
     "text": [
      "100%|██████████| 20/20 [00:00<00:00, 14165.16it/s]\n",
      "100%|██████████| 100/100 [00:00<00:00, 14055.04it/s]\n",
      "100%|██████████| 500/500 [00:00<00:00, 14116.82it/s]\n"
     ]
    },
    {
     "name": "stdout",
     "output_type": "stream",
     "text": [
      "Running RAggregate with theta = 2.3177772832063446 and reg = 0.1\n",
      "Length of the RPS is 93\n"
     ]
    },
    {
     "name": "stderr",
     "output_type": "stream",
     "text": [
      "100%|██████████| 20/20 [00:00<00:00, 6286.90it/s]\n",
      "100%|██████████| 100/100 [00:00<00:00, 6181.09it/s]\n",
      "100%|██████████| 500/500 [00:00<00:00, 6114.25it/s]\n"
     ]
    },
    {
     "name": "stdout",
     "output_type": "stream",
     "text": [
      "Running RAggregate with theta = 2.674358403699628 and reg = 0.1\n",
      "Length of the RPS is 634\n"
     ]
    },
    {
     "name": "stderr",
     "output_type": "stream",
     "text": [
      "100%|██████████| 20/20 [00:00<00:00, 845.34it/s]\n",
      "100%|██████████| 100/100 [00:00<00:00, 840.77it/s]\n",
      "100%|██████████| 500/500 [00:00<00:00, 802.56it/s]\n"
     ]
    },
    {
     "name": "stdout",
     "output_type": "stream",
     "text": [
      "\n",
      "\n",
      "Running Iteration 75\n",
      "Running RAggregate with theta = 1.9634330715606816 and reg = 0.1\n",
      "Length of the RPS is 0\n"
     ]
    },
    {
     "name": "stderr",
     "output_type": "stream",
     "text": [
      "100%|██████████| 20/20 [00:00<00:00, 665762.54it/s]\n",
      "100%|██████████| 100/100 [00:00<00:00, 1915207.31it/s]\n",
      "100%|██████████| 500/500 [00:00<00:00, 3334104.93it/s]\n"
     ]
    },
    {
     "name": "stdout",
     "output_type": "stream",
     "text": [
      "Running RAggregate with theta = 2.141926987157107 and reg = 0.1\n",
      "Length of the RPS is 40\n"
     ]
    },
    {
     "name": "stderr",
     "output_type": "stream",
     "text": [
      "100%|██████████| 20/20 [00:00<00:00, 13458.38it/s]\n",
      "100%|██████████| 100/100 [00:00<00:00, 14027.77it/s]\n",
      "100%|██████████| 500/500 [00:00<00:00, 13409.07it/s]\n"
     ]
    },
    {
     "name": "stdout",
     "output_type": "stream",
     "text": [
      "Running RAggregate with theta = 2.3204209027535327 and reg = 0.1\n",
      "Length of the RPS is 85\n"
     ]
    },
    {
     "name": "stderr",
     "output_type": "stream",
     "text": [
      "100%|██████████| 20/20 [00:00<00:00, 6275.61it/s]\n",
      "100%|██████████| 100/100 [00:00<00:00, 6716.80it/s]\n",
      "100%|██████████| 500/500 [00:00<00:00, 6798.91it/s]\n"
     ]
    },
    {
     "name": "stdout",
     "output_type": "stream",
     "text": [
      "Running RAggregate with theta = 2.6774087339463835 and reg = 0.1\n",
      "Length of the RPS is 579\n"
     ]
    },
    {
     "name": "stderr",
     "output_type": "stream",
     "text": [
      "100%|██████████| 20/20 [00:00<00:00, 812.41it/s]\n",
      "100%|██████████| 100/100 [00:00<00:00, 908.30it/s]\n",
      "100%|██████████| 500/500 [00:00<00:00, 923.22it/s]\n"
     ]
    },
    {
     "name": "stdout",
     "output_type": "stream",
     "text": [
      "\n",
      "\n",
      "Running Iteration 76\n",
      "Running RAggregate with theta = 1.9939693078877259 and reg = 0.1\n",
      "Length of the RPS is 9\n"
     ]
    },
    {
     "name": "stderr",
     "output_type": "stream",
     "text": [
      "100%|██████████| 20/20 [00:00<00:00, 44057.82it/s]\n",
      "100%|██████████| 100/100 [00:00<00:00, 50045.39it/s]\n",
      "100%|██████████| 500/500 [00:00<00:00, 51424.73it/s]\n"
     ]
    },
    {
     "name": "stdout",
     "output_type": "stream",
     "text": [
      "Running RAggregate with theta = 2.175239244968428 and reg = 0.1\n",
      "Length of the RPS is 48\n"
     ]
    },
    {
     "name": "stderr",
     "output_type": "stream",
     "text": [
      "100%|██████████| 20/20 [00:00<00:00, 10995.68it/s]\n",
      "100%|██████████| 100/100 [00:00<00:00, 11047.24it/s]\n",
      "100%|██████████| 500/500 [00:00<00:00, 11214.54it/s]\n"
     ]
    },
    {
     "name": "stdout",
     "output_type": "stream",
     "text": [
      "Running RAggregate with theta = 2.3565091820491304 and reg = 0.1\n",
      "Length of the RPS is 103\n"
     ]
    },
    {
     "name": "stderr",
     "output_type": "stream",
     "text": [
      "100%|██████████| 20/20 [00:00<00:00, 5322.05it/s]\n",
      "100%|██████████| 100/100 [00:00<00:00, 5360.75it/s]\n",
      "100%|██████████| 500/500 [00:00<00:00, 5132.27it/s]\n"
     ]
    },
    {
     "name": "stdout",
     "output_type": "stream",
     "text": [
      "Running RAggregate with theta = 2.719049056210535 and reg = 0.1\n",
      "Length of the RPS is 822\n"
     ]
    },
    {
     "name": "stderr",
     "output_type": "stream",
     "text": [
      "100%|██████████| 20/20 [00:00<00:00, 681.24it/s]\n",
      "100%|██████████| 100/100 [00:00<00:00, 665.37it/s]\n",
      "100%|██████████| 500/500 [00:00<00:00, 668.55it/s]\n"
     ]
    },
    {
     "name": "stdout",
     "output_type": "stream",
     "text": [
      "\n",
      "\n",
      "Running Iteration 77\n",
      "Running RAggregate with theta = 1.9584234219201633 and reg = 0.1\n",
      "Length of the RPS is 0\n"
     ]
    },
    {
     "name": "stderr",
     "output_type": "stream",
     "text": [
      "100%|██████████| 20/20 [00:00<00:00, 626015.52it/s]\n",
      "100%|██████████| 100/100 [00:00<00:00, 2267191.35it/s]\n",
      "100%|██████████| 500/500 [00:00<00:00, 4588954.05it/s]\n"
     ]
    },
    {
     "name": "stdout",
     "output_type": "stream",
     "text": [
      "Running RAggregate with theta = 2.136461914821996 and reg = 0.1\n",
      "Length of the RPS is 40\n"
     ]
    },
    {
     "name": "stderr",
     "output_type": "stream",
     "text": [
      "100%|██████████| 20/20 [00:00<00:00, 13985.68it/s]\n",
      "100%|██████████| 100/100 [00:00<00:00, 13818.42it/s]\n",
      "100%|██████████| 500/500 [00:00<00:00, 14132.32it/s]\n"
     ]
    },
    {
     "name": "stdout",
     "output_type": "stream",
     "text": [
      "Running RAggregate with theta = 2.314500407723829 and reg = 0.1\n",
      "Length of the RPS is 103\n"
     ]
    },
    {
     "name": "stderr",
     "output_type": "stream",
     "text": [
      "100%|██████████| 20/20 [00:00<00:00, 5479.17it/s]\n",
      "100%|██████████| 100/100 [00:00<00:00, 5421.52it/s]\n",
      "100%|██████████| 500/500 [00:00<00:00, 5449.17it/s]\n"
     ]
    },
    {
     "name": "stdout",
     "output_type": "stream",
     "text": [
      "Running RAggregate with theta = 2.670577393527495 and reg = 0.1\n",
      "Length of the RPS is 650\n"
     ]
    },
    {
     "name": "stderr",
     "output_type": "stream",
     "text": [
      "100%|██████████| 20/20 [00:00<00:00, 817.33it/s]\n",
      "100%|██████████| 100/100 [00:00<00:00, 813.52it/s]\n",
      "100%|██████████| 500/500 [00:00<00:00, 823.66it/s]\n"
     ]
    },
    {
     "name": "stdout",
     "output_type": "stream",
     "text": [
      "\n",
      "\n",
      "Running Iteration 78\n",
      "Running RAggregate with theta = 1.9604087757835786 and reg = 0.1\n",
      "Length of the RPS is 0\n"
     ]
    },
    {
     "name": "stderr",
     "output_type": "stream",
     "text": [
      "100%|██████████| 20/20 [00:00<00:00, 671088.64it/s]\n",
      "100%|██████████| 100/100 [00:00<00:00, 2006844.02it/s]\n",
      "100%|██████████| 500/500 [00:00<00:00, 4946113.21it/s]\n"
     ]
    },
    {
     "name": "stdout",
     "output_type": "stream",
     "text": [
      "Running RAggregate with theta = 2.1386277554002673 and reg = 0.1\n",
      "Length of the RPS is 41\n"
     ]
    },
    {
     "name": "stderr",
     "output_type": "stream",
     "text": [
      "100%|██████████| 20/20 [00:00<00:00, 12754.46it/s]\n",
      "100%|██████████| 100/100 [00:00<00:00, 12517.32it/s]\n",
      "100%|██████████| 500/500 [00:00<00:00, 13347.20it/s]\n"
     ]
    },
    {
     "name": "stdout",
     "output_type": "stream",
     "text": [
      "Running RAggregate with theta = 2.3168467350169566 and reg = 0.1\n",
      "Length of the RPS is 103\n"
     ]
    },
    {
     "name": "stderr",
     "output_type": "stream",
     "text": [
      "100%|██████████| 20/20 [00:00<00:00, 5337.62it/s]\n",
      "100%|██████████| 100/100 [00:00<00:00, 5186.41it/s]\n",
      "100%|██████████| 500/500 [00:00<00:00, 5438.97it/s]\n"
     ]
    },
    {
     "name": "stdout",
     "output_type": "stream",
     "text": [
      "Running RAggregate with theta = 2.6732846942503343 and reg = 0.1\n",
      "Length of the RPS is 753\n"
     ]
    },
    {
     "name": "stderr",
     "output_type": "stream",
     "text": [
      "100%|██████████| 20/20 [00:00<00:00, 773.07it/s]\n",
      "100%|██████████| 100/100 [00:00<00:00, 733.29it/s]\n",
      "100%|██████████| 500/500 [00:00<00:00, 725.19it/s]\n"
     ]
    },
    {
     "name": "stdout",
     "output_type": "stream",
     "text": [
      "\n",
      "\n",
      "Running Iteration 79\n",
      "Running RAggregate with theta = 1.9325915247692869 and reg = 0.1\n",
      "Length of the RPS is 9\n"
     ]
    },
    {
     "name": "stderr",
     "output_type": "stream",
     "text": [
      "100%|██████████| 20/20 [00:00<00:00, 45148.59it/s]\n",
      "100%|██████████| 100/100 [00:00<00:00, 50914.11it/s]\n",
      "100%|██████████| 500/500 [00:00<00:00, 51662.90it/s]\n"
     ]
    },
    {
     "name": "stdout",
     "output_type": "stream",
     "text": [
      "Running RAggregate with theta = 2.1082816633846764 and reg = 0.1\n",
      "Length of the RPS is 48\n"
     ]
    },
    {
     "name": "stderr",
     "output_type": "stream",
     "text": [
      "100%|██████████| 20/20 [00:00<00:00, 10654.91it/s]\n",
      "100%|██████████| 100/100 [00:00<00:00, 11075.53it/s]\n",
      "100%|██████████| 500/500 [00:00<00:00, 11336.32it/s]\n"
     ]
    },
    {
     "name": "stdout",
     "output_type": "stream",
     "text": [
      "Running RAggregate with theta = 2.283971802000066 and reg = 0.1\n",
      "Length of the RPS is 104\n"
     ]
    },
    {
     "name": "stderr",
     "output_type": "stream",
     "text": [
      "100%|██████████| 20/20 [00:00<00:00, 5468.81it/s]\n",
      "100%|██████████| 100/100 [00:00<00:00, 5256.22it/s]\n",
      "100%|██████████| 500/500 [00:00<00:00, 5274.09it/s]\n"
     ]
    },
    {
     "name": "stdout",
     "output_type": "stream",
     "text": [
      "Running RAggregate with theta = 2.635352079230845 and reg = 0.1\n",
      "Length of the RPS is 759\n"
     ]
    },
    {
     "name": "stderr",
     "output_type": "stream",
     "text": [
      "100%|██████████| 20/20 [00:00<00:00, 718.28it/s]\n",
      "100%|██████████| 100/100 [00:00<00:00, 696.30it/s]\n",
      "100%|██████████| 500/500 [00:00<00:00, 705.55it/s]\n"
     ]
    },
    {
     "name": "stdout",
     "output_type": "stream",
     "text": [
      "\n",
      "\n",
      "Running Iteration 80\n",
      "Running RAggregate with theta = 1.9899518679237684 and reg = 0.1\n",
      "Length of the RPS is 10\n"
     ]
    },
    {
     "name": "stderr",
     "output_type": "stream",
     "text": [
      "100%|██████████| 20/20 [00:00<00:00, 38980.52it/s]\n",
      "100%|██████████| 100/100 [00:00<00:00, 44720.16it/s]\n",
      "100%|██████████| 500/500 [00:00<00:00, 44690.62it/s]\n"
     ]
    },
    {
     "name": "stdout",
     "output_type": "stream",
     "text": [
      "Running RAggregate with theta = 2.170856583189565 and reg = 0.1\n",
      "Length of the RPS is 56\n"
     ]
    },
    {
     "name": "stderr",
     "output_type": "stream",
     "text": [
      "100%|██████████| 20/20 [00:00<00:00, 9484.01it/s]\n",
      "100%|██████████| 100/100 [00:00<00:00, 9603.22it/s]\n",
      "100%|██████████| 500/500 [00:00<00:00, 9577.09it/s]\n"
     ]
    },
    {
     "name": "stdout",
     "output_type": "stream",
     "text": [
      "Running RAggregate with theta = 2.351761298455363 and reg = 0.1\n",
      "Length of the RPS is 161\n"
     ]
    },
    {
     "name": "stderr",
     "output_type": "stream",
     "text": [
      "100%|██████████| 20/20 [00:00<00:00, 3353.43it/s]\n",
      "100%|██████████| 100/100 [00:00<00:00, 3385.59it/s]\n",
      "100%|██████████| 500/500 [00:00<00:00, 3365.05it/s]\n"
     ]
    },
    {
     "name": "stdout",
     "output_type": "stream",
     "text": [
      "Running RAggregate with theta = 2.713570728986957 and reg = 0.1\n",
      "Length of the RPS is 938\n"
     ]
    },
    {
     "name": "stderr",
     "output_type": "stream",
     "text": [
      "100%|██████████| 20/20 [00:00<00:00, 568.52it/s]\n",
      "100%|██████████| 100/100 [00:00<00:00, 593.41it/s]\n",
      "100%|██████████| 500/500 [00:00<00:00, 586.26it/s]\n"
     ]
    },
    {
     "name": "stdout",
     "output_type": "stream",
     "text": [
      "\n",
      "\n",
      "Running Iteration 81\n",
      "Running RAggregate with theta = 1.9732004287218512 and reg = 0.1\n",
      "Length of the RPS is 9\n"
     ]
    },
    {
     "name": "stderr",
     "output_type": "stream",
     "text": [
      "100%|██████████| 20/20 [00:00<00:00, 46422.84it/s]\n",
      "100%|██████████| 100/100 [00:00<00:00, 51175.01it/s]\n",
      "100%|██████████| 500/500 [00:00<00:00, 51402.04it/s]\n"
     ]
    },
    {
     "name": "stdout",
     "output_type": "stream",
     "text": [
      "Running RAggregate with theta = 2.152582285878383 and reg = 0.1\n",
      "Length of the RPS is 49\n"
     ]
    },
    {
     "name": "stderr",
     "output_type": "stream",
     "text": [
      "100%|██████████| 20/20 [00:00<00:00, 10712.05it/s]\n",
      "100%|██████████| 100/100 [00:00<00:00, 10755.18it/s]\n",
      "100%|██████████| 500/500 [00:00<00:00, 10928.98it/s]\n"
     ]
    },
    {
     "name": "stdout",
     "output_type": "stream",
     "text": [
      "Running RAggregate with theta = 2.331964143034915 and reg = 0.1\n",
      "Length of the RPS is 153\n"
     ]
    },
    {
     "name": "stderr",
     "output_type": "stream",
     "text": [
      "100%|██████████| 20/20 [00:00<00:00, 3612.66it/s]\n",
      "100%|██████████| 100/100 [00:00<00:00, 3551.39it/s]\n",
      "100%|██████████| 500/500 [00:00<00:00, 3519.76it/s]\n"
     ]
    },
    {
     "name": "stdout",
     "output_type": "stream",
     "text": [
      "Running RAggregate with theta = 2.6907278573479787 and reg = 0.1\n",
      "Length of the RPS is 840\n"
     ]
    },
    {
     "name": "stderr",
     "output_type": "stream",
     "text": [
      "100%|██████████| 20/20 [00:00<00:00, 669.82it/s]\n",
      "100%|██████████| 100/100 [00:00<00:00, 650.80it/s]\n",
      "100%|██████████| 500/500 [00:00<00:00, 660.24it/s]\n"
     ]
    },
    {
     "name": "stdout",
     "output_type": "stream",
     "text": [
      "\n",
      "\n",
      "Running Iteration 82\n",
      "Running RAggregate with theta = 1.895319378308252 and reg = 0.1\n",
      "Length of the RPS is 9\n"
     ]
    },
    {
     "name": "stderr",
     "output_type": "stream",
     "text": [
      "100%|██████████| 20/20 [00:00<00:00, 44834.89it/s]\n",
      "100%|██████████| 100/100 [00:00<00:00, 50375.98it/s]\n",
      "100%|██████████| 500/500 [00:00<00:00, 51308.98it/s]\n"
     ]
    },
    {
     "name": "stdout",
     "output_type": "stream",
     "text": [
      "Running RAggregate with theta = 2.0676211399726383 and reg = 0.1\n",
      "Length of the RPS is 48\n"
     ]
    },
    {
     "name": "stderr",
     "output_type": "stream",
     "text": [
      "100%|██████████| 20/20 [00:00<00:00, 11131.38it/s]\n",
      "100%|██████████| 100/100 [00:00<00:00, 11038.51it/s]\n",
      "100%|██████████| 500/500 [00:00<00:00, 11483.63it/s]\n"
     ]
    },
    {
     "name": "stdout",
     "output_type": "stream",
     "text": [
      "Running RAggregate with theta = 2.239922901637025 and reg = 0.1\n",
      "Length of the RPS is 119\n"
     ]
    },
    {
     "name": "stderr",
     "output_type": "stream",
     "text": [
      "100%|██████████| 20/20 [00:00<00:00, 4872.28it/s]\n",
      "100%|██████████| 100/100 [00:00<00:00, 4784.69it/s]\n",
      "100%|██████████| 500/500 [00:00<00:00, 4852.63it/s]\n"
     ]
    },
    {
     "name": "stdout",
     "output_type": "stream",
     "text": [
      "Running RAggregate with theta = 2.584526424965798 and reg = 0.1\n",
      "Length of the RPS is 638\n"
     ]
    },
    {
     "name": "stderr",
     "output_type": "stream",
     "text": [
      "100%|██████████| 20/20 [00:00<00:00, 828.01it/s]\n",
      "100%|██████████| 100/100 [00:00<00:00, 821.85it/s]\n",
      "100%|██████████| 500/500 [00:00<00:00, 847.10it/s]\n"
     ]
    },
    {
     "name": "stdout",
     "output_type": "stream",
     "text": [
      "\n",
      "\n",
      "Running Iteration 83\n",
      "Running RAggregate with theta = 2.0026108964812153 and reg = 0.1\n",
      "Length of the RPS is 9\n"
     ]
    },
    {
     "name": "stderr",
     "output_type": "stream",
     "text": [
      "100%|██████████| 20/20 [00:00<00:00, 43965.45it/s]\n",
      "100%|██████████| 100/100 [00:00<00:00, 50760.06it/s]\n",
      "100%|██████████| 500/500 [00:00<00:00, 51813.51it/s]\n"
     ]
    },
    {
     "name": "stdout",
     "output_type": "stream",
     "text": [
      "Running RAggregate with theta = 2.184666432524962 and reg = 0.1\n",
      "Length of the RPS is 49\n"
     ]
    },
    {
     "name": "stderr",
     "output_type": "stream",
     "text": [
      "100%|██████████| 20/20 [00:00<00:00, 10515.99it/s]\n",
      "100%|██████████| 100/100 [00:00<00:00, 10296.31it/s]\n",
      "100%|██████████| 500/500 [00:00<00:00, 10362.09it/s]\n"
     ]
    },
    {
     "name": "stdout",
     "output_type": "stream",
     "text": [
      "Running RAggregate with theta = 2.366721968568709 and reg = 0.1\n",
      "Length of the RPS is 152\n"
     ]
    },
    {
     "name": "stderr",
     "output_type": "stream",
     "text": [
      "100%|██████████| 20/20 [00:00<00:00, 3275.39it/s]\n",
      "100%|██████████| 100/100 [00:00<00:00, 3450.40it/s]\n",
      "100%|██████████| 500/500 [00:00<00:00, 3530.62it/s]\n"
     ]
    },
    {
     "name": "stdout",
     "output_type": "stream",
     "text": [
      "Running RAggregate with theta = 2.7308330406562025 and reg = 0.1\n",
      "Length of the RPS is 970\n"
     ]
    },
    {
     "name": "stderr",
     "output_type": "stream",
     "text": [
      "100%|██████████| 20/20 [00:00<00:00, 541.93it/s]\n",
      "100%|██████████| 100/100 [00:00<00:00, 557.90it/s]\n",
      "100%|██████████| 500/500 [00:01<00:00, 492.00it/s]\n"
     ]
    },
    {
     "name": "stdout",
     "output_type": "stream",
     "text": [
      "\n",
      "\n",
      "Running Iteration 84\n",
      "Running RAggregate with theta = 2.0007690506668854 and reg = 0.1\n",
      "Length of the RPS is 9\n"
     ]
    },
    {
     "name": "stderr",
     "output_type": "stream",
     "text": [
      "100%|██████████| 20/20 [00:00<00:00, 46500.04it/s]\n",
      "100%|██████████| 100/100 [00:00<00:00, 50710.97it/s]\n",
      "100%|██████████| 500/500 [00:00<00:00, 49736.80it/s]\n"
     ]
    },
    {
     "name": "stdout",
     "output_type": "stream",
     "text": [
      "Running RAggregate with theta = 2.1826571461820565 and reg = 0.1\n",
      "Length of the RPS is 48\n"
     ]
    },
    {
     "name": "stderr",
     "output_type": "stream",
     "text": [
      "100%|██████████| 20/20 [00:00<00:00, 10946.90it/s]\n",
      "100%|██████████| 100/100 [00:00<00:00, 11217.12it/s]\n",
      "100%|██████████| 500/500 [00:00<00:00, 9401.49it/s]\n"
     ]
    },
    {
     "name": "stdout",
     "output_type": "stream",
     "text": [
      "Running RAggregate with theta = 2.364545241697228 and reg = 0.1\n",
      "Length of the RPS is 128\n"
     ]
    },
    {
     "name": "stderr",
     "output_type": "stream",
     "text": [
      "100%|██████████| 20/20 [00:00<00:00, 4350.71it/s]\n",
      "100%|██████████| 100/100 [00:00<00:00, 4282.66it/s]\n",
      "100%|██████████| 500/500 [00:00<00:00, 4124.49it/s]\n"
     ]
    },
    {
     "name": "stdout",
     "output_type": "stream",
     "text": [
      "Running RAggregate with theta = 2.7283214327275704 and reg = 0.1\n",
      "Length of the RPS is 809\n"
     ]
    },
    {
     "name": "stderr",
     "output_type": "stream",
     "text": [
      "100%|██████████| 20/20 [00:00<00:00, 594.04it/s]\n",
      "100%|██████████| 100/100 [00:00<00:00, 590.73it/s]\n",
      "100%|██████████| 500/500 [00:00<00:00, 612.42it/s]\n"
     ]
    },
    {
     "name": "stdout",
     "output_type": "stream",
     "text": [
      "\n",
      "\n",
      "Running Iteration 85\n",
      "Running RAggregate with theta = 1.9660623032790403 and reg = 0.1\n",
      "Length of the RPS is 9\n"
     ]
    },
    {
     "name": "stderr",
     "output_type": "stream",
     "text": [
      "100%|██████████| 20/20 [00:00<00:00, 44955.03it/s]\n",
      "100%|██████████| 100/100 [00:00<00:00, 23963.34it/s]\n",
      "100%|██████████| 500/500 [00:00<00:00, 48113.06it/s]\n"
     ]
    },
    {
     "name": "stdout",
     "output_type": "stream",
     "text": [
      "Running RAggregate with theta = 2.144795239940771 and reg = 0.1\n",
      "Length of the RPS is 48\n"
     ]
    },
    {
     "name": "stderr",
     "output_type": "stream",
     "text": [
      "100%|██████████| 20/20 [00:00<00:00, 11068.23it/s]\n",
      "100%|██████████| 100/100 [00:00<00:00, 11227.02it/s]\n",
      "100%|██████████| 500/500 [00:00<00:00, 11035.84it/s]\n"
     ]
    },
    {
     "name": "stdout",
     "output_type": "stream",
     "text": [
      "Running RAggregate with theta = 2.323528176602502 and reg = 0.1\n",
      "Length of the RPS is 103\n"
     ]
    },
    {
     "name": "stderr",
     "output_type": "stream",
     "text": [
      "100%|██████████| 20/20 [00:00<00:00, 4883.06it/s]\n",
      "100%|██████████| 100/100 [00:00<00:00, 5087.52it/s]\n",
      "100%|██████████| 500/500 [00:00<00:00, 4392.13it/s]\n"
     ]
    },
    {
     "name": "stdout",
     "output_type": "stream",
     "text": [
      "Running RAggregate with theta = 2.680994049925964 and reg = 0.1\n",
      "Length of the RPS is 763\n"
     ]
    },
    {
     "name": "stderr",
     "output_type": "stream",
     "text": [
      "100%|██████████| 20/20 [00:00<00:00, 733.65it/s]\n",
      "100%|██████████| 100/100 [00:00<00:00, 716.55it/s]\n",
      "100%|██████████| 500/500 [00:00<00:00, 649.43it/s]\n"
     ]
    },
    {
     "name": "stdout",
     "output_type": "stream",
     "text": [
      "\n",
      "\n",
      "Running Iteration 86\n",
      "Running RAggregate with theta = 1.9422404110413671 and reg = 0.1\n",
      "Length of the RPS is 9\n"
     ]
    },
    {
     "name": "stderr",
     "output_type": "stream",
     "text": [
      "100%|██████████| 20/20 [00:00<00:00, 45051.60it/s]\n",
      "100%|██████████| 100/100 [00:00<00:00, 49601.51it/s]\n",
      "100%|██████████| 500/500 [00:00<00:00, 40969.60it/s]\n"
     ]
    },
    {
     "name": "stdout",
     "output_type": "stream",
     "text": [
      "Running RAggregate with theta = 2.1188077211360365 and reg = 0.1\n",
      "Length of the RPS is 40\n"
     ]
    },
    {
     "name": "stderr",
     "output_type": "stream",
     "text": [
      "100%|██████████| 20/20 [00:00<00:00, 13899.93it/s]\n",
      "100%|██████████| 100/100 [00:00<00:00, 13714.05it/s]\n",
      "100%|██████████| 500/500 [00:00<00:00, 13377.59it/s]\n"
     ]
    },
    {
     "name": "stdout",
     "output_type": "stream",
     "text": [
      "Running RAggregate with theta = 2.2953750312307064 and reg = 0.1\n",
      "Length of the RPS is 104\n"
     ]
    },
    {
     "name": "stderr",
     "output_type": "stream",
     "text": [
      "100%|██████████| 20/20 [00:00<00:00, 1922.89it/s]\n",
      "100%|██████████| 100/100 [00:00<00:00, 4912.51it/s]\n",
      "100%|██████████| 500/500 [00:00<00:00, 5308.83it/s]\n"
     ]
    },
    {
     "name": "stdout",
     "output_type": "stream",
     "text": [
      "Running RAggregate with theta = 2.6485096514200457 and reg = 0.1\n",
      "Length of the RPS is 807\n"
     ]
    },
    {
     "name": "stderr",
     "output_type": "stream",
     "text": [
      "100%|██████████| 20/20 [00:00<00:00, 655.01it/s]\n",
      "100%|██████████| 100/100 [00:00<00:00, 653.54it/s]\n",
      "100%|██████████| 500/500 [00:00<00:00, 647.60it/s]\n"
     ]
    },
    {
     "name": "stdout",
     "output_type": "stream",
     "text": [
      "\n",
      "\n",
      "Running Iteration 87\n",
      "Running RAggregate with theta = 1.9196580549929332 and reg = 0.1\n",
      "Length of the RPS is 9\n"
     ]
    },
    {
     "name": "stderr",
     "output_type": "stream",
     "text": [
      "100%|██████████| 20/20 [00:00<00:00, 44243.71it/s]\n",
      "100%|██████████| 100/100 [00:00<00:00, 49402.87it/s]\n",
      "100%|██████████| 500/500 [00:00<00:00, 47713.51it/s]\n"
     ]
    },
    {
     "name": "stdout",
     "output_type": "stream",
     "text": [
      "Running RAggregate with theta = 2.0941724236286543 and reg = 0.1\n",
      "Length of the RPS is 48\n"
     ]
    },
    {
     "name": "stderr",
     "output_type": "stream",
     "text": [
      "100%|██████████| 20/20 [00:00<00:00, 10625.22it/s]\n",
      "100%|██████████| 100/100 [00:00<00:00, 10564.20it/s]\n",
      "100%|██████████| 500/500 [00:00<00:00, 10768.27it/s]\n"
     ]
    },
    {
     "name": "stdout",
     "output_type": "stream",
     "text": [
      "Running RAggregate with theta = 2.2686867922643756 and reg = 0.1\n",
      "Length of the RPS is 102\n"
     ]
    },
    {
     "name": "stderr",
     "output_type": "stream",
     "text": [
      "100%|██████████| 20/20 [00:00<00:00, 5284.16it/s]\n",
      "100%|██████████| 100/100 [00:00<00:00, 5092.40it/s]\n",
      "100%|██████████| 500/500 [00:00<00:00, 5179.94it/s]\n"
     ]
    },
    {
     "name": "stdout",
     "output_type": "stream",
     "text": [
      "Running RAggregate with theta = 2.617715529535818 and reg = 0.1\n",
      "Length of the RPS is 650\n"
     ]
    },
    {
     "name": "stderr",
     "output_type": "stream",
     "text": [
      "100%|██████████| 20/20 [00:00<00:00, 804.25it/s]\n",
      "100%|██████████| 100/100 [00:00<00:00, 811.96it/s]\n",
      "100%|██████████| 500/500 [00:00<00:00, 742.32it/s]\n"
     ]
    },
    {
     "name": "stdout",
     "output_type": "stream",
     "text": [
      "\n",
      "\n",
      "Running Iteration 88\n",
      "Running RAggregate with theta = 1.9418307857165953 and reg = 0.1\n",
      "Length of the RPS is 9\n"
     ]
    },
    {
     "name": "stderr",
     "output_type": "stream",
     "text": [
      "100%|██████████| 20/20 [00:00<00:00, 45565.50it/s]\n",
      "100%|██████████| 100/100 [00:00<00:00, 49021.79it/s]\n",
      "100%|██████████| 500/500 [00:00<00:00, 48347.10it/s]\n"
     ]
    },
    {
     "name": "stdout",
     "output_type": "stream",
     "text": [
      "Running RAggregate with theta = 2.1183608571453765 and reg = 0.1\n",
      "Length of the RPS is 40\n"
     ]
    },
    {
     "name": "stderr",
     "output_type": "stream",
     "text": [
      "100%|██████████| 20/20 [00:00<00:00, 12807.04it/s]\n",
      "100%|██████████| 100/100 [00:00<00:00, 13326.25it/s]\n",
      "100%|██████████| 500/500 [00:00<00:00, 13565.55it/s]\n"
     ]
    },
    {
     "name": "stdout",
     "output_type": "stream",
     "text": [
      "Running RAggregate with theta = 2.2948909285741577 and reg = 0.1\n",
      "Length of the RPS is 102\n"
     ]
    },
    {
     "name": "stderr",
     "output_type": "stream",
     "text": [
      "100%|██████████| 20/20 [00:00<00:00, 5231.76it/s]\n",
      "100%|██████████| 100/100 [00:00<00:00, 5326.64it/s]\n",
      "100%|██████████| 500/500 [00:00<00:00, 5446.68it/s]\n"
     ]
    },
    {
     "name": "stdout",
     "output_type": "stream",
     "text": [
      "Running RAggregate with theta = 2.6479510714317205 and reg = 0.1\n",
      "Length of the RPS is 648\n"
     ]
    },
    {
     "name": "stderr",
     "output_type": "stream",
     "text": [
      "100%|██████████| 20/20 [00:00<00:00, 850.77it/s]\n",
      "100%|██████████| 100/100 [00:00<00:00, 814.94it/s]\n",
      "100%|██████████| 500/500 [00:00<00:00, 826.31it/s]\n"
     ]
    },
    {
     "name": "stdout",
     "output_type": "stream",
     "text": [
      "\n",
      "\n",
      "Running Iteration 89\n",
      "Running RAggregate with theta = 1.9517495549585882 and reg = 0.1\n",
      "Length of the RPS is 0\n"
     ]
    },
    {
     "name": "stderr",
     "output_type": "stream",
     "text": [
      "100%|██████████| 20/20 [00:00<00:00, 742354.69it/s]\n",
      "100%|██████████| 100/100 [00:00<00:00, 2219208.47it/s]\n",
      "100%|██████████| 500/500 [00:00<00:00, 4670717.15it/s]\n"
     ]
    },
    {
     "name": "stdout",
     "output_type": "stream",
     "text": [
      "Running RAggregate with theta = 2.129181332682096 and reg = 0.1\n",
      "Length of the RPS is 40\n"
     ]
    },
    {
     "name": "stderr",
     "output_type": "stream",
     "text": [
      "100%|██████████| 20/20 [00:00<00:00, 13458.38it/s]\n",
      "100%|██████████| 100/100 [00:00<00:00, 13710.01it/s]\n",
      "100%|██████████| 500/500 [00:00<00:00, 13486.94it/s]\n"
     ]
    },
    {
     "name": "stdout",
     "output_type": "stream",
     "text": [
      "Running RAggregate with theta = 2.3066131104056042 and reg = 0.1\n",
      "Length of the RPS is 91\n"
     ]
    },
    {
     "name": "stderr",
     "output_type": "stream",
     "text": [
      "100%|██████████| 20/20 [00:00<00:00, 6427.07it/s]\n",
      "100%|██████████| 100/100 [00:00<00:00, 6368.61it/s]\n",
      "100%|██████████| 500/500 [00:00<00:00, 6445.12it/s]\n"
     ]
    },
    {
     "name": "stdout",
     "output_type": "stream",
     "text": [
      "Running RAggregate with theta = 2.66147666585262 and reg = 0.1\n",
      "Length of the RPS is 455\n"
     ]
    },
    {
     "name": "stderr",
     "output_type": "stream",
     "text": [
      "100%|██████████| 20/20 [00:00<00:00, 1158.68it/s]\n",
      "100%|██████████| 100/100 [00:00<00:00, 1106.10it/s]\n",
      "100%|██████████| 500/500 [00:00<00:00, 1136.79it/s]\n"
     ]
    },
    {
     "name": "stdout",
     "output_type": "stream",
     "text": [
      "\n",
      "\n",
      "Running Iteration 90\n",
      "Running RAggregate with theta = 2.028206816392425 and reg = 0.1\n",
      "Length of the RPS is 9\n"
     ]
    },
    {
     "name": "stderr",
     "output_type": "stream",
     "text": [
      "100%|██████████| 20/20 [00:00<00:00, 41943.04it/s]\n",
      "100%|██████████| 100/100 [00:00<00:00, 50351.79it/s]\n",
      "100%|██████████| 500/500 [00:00<00:00, 50901.75it/s]\n"
     ]
    },
    {
     "name": "stdout",
     "output_type": "stream",
     "text": [
      "Running RAggregate with theta = 2.2125892542462817 and reg = 0.1\n",
      "Length of the RPS is 40\n"
     ]
    },
    {
     "name": "stderr",
     "output_type": "stream",
     "text": [
      "100%|██████████| 20/20 [00:00<00:00, 13332.18it/s]\n",
      "100%|██████████| 100/100 [00:00<00:00, 13128.53it/s]\n",
      "100%|██████████| 500/500 [00:00<00:00, 12517.17it/s]\n"
     ]
    },
    {
     "name": "stdout",
     "output_type": "stream",
     "text": [
      "Running RAggregate with theta = 2.3969716921001387 and reg = 0.1\n",
      "Length of the RPS is 102\n"
     ]
    },
    {
     "name": "stderr",
     "output_type": "stream",
     "text": [
      "100%|██████████| 20/20 [00:00<00:00, 5253.39it/s]\n",
      "100%|██████████| 100/100 [00:00<00:00, 5260.90it/s]\n",
      "100%|██████████| 500/500 [00:00<00:00, 5433.13it/s]\n"
     ]
    },
    {
     "name": "stdout",
     "output_type": "stream",
     "text": [
      "Running RAggregate with theta = 2.7657365678078523 and reg = 0.1\n",
      "Length of the RPS is 773\n"
     ]
    },
    {
     "name": "stderr",
     "output_type": "stream",
     "text": [
      "100%|██████████| 20/20 [00:00<00:00, 666.20it/s]\n",
      "100%|██████████| 100/100 [00:00<00:00, 670.28it/s]\n",
      "100%|██████████| 500/500 [00:00<00:00, 666.00it/s]\n"
     ]
    },
    {
     "name": "stdout",
     "output_type": "stream",
     "text": [
      "\n",
      "\n",
      "Running Iteration 91\n",
      "Running RAggregate with theta = 1.9499619020997865 and reg = 0.1\n",
      "Length of the RPS is 9\n"
     ]
    },
    {
     "name": "stderr",
     "output_type": "stream",
     "text": [
      "100%|██████████| 20/20 [00:00<00:00, 44220.39it/s]\n",
      "100%|██████████| 100/100 [00:00<00:00, 48975.99it/s]\n",
      "100%|██████████| 500/500 [00:00<00:00, 47165.17it/s]\n"
     ]
    },
    {
     "name": "stdout",
     "output_type": "stream",
     "text": [
      "Running RAggregate with theta = 2.1272311659270393 and reg = 0.1\n",
      "Length of the RPS is 41\n"
     ]
    },
    {
     "name": "stderr",
     "output_type": "stream",
     "text": [
      "100%|██████████| 20/20 [00:00<00:00, 13158.60it/s]\n",
      "100%|██████████| 100/100 [00:00<00:00, 12454.51it/s]\n",
      "100%|██████████| 500/500 [00:00<00:00, 13063.36it/s]\n"
     ]
    },
    {
     "name": "stdout",
     "output_type": "stream",
     "text": [
      "Running RAggregate with theta = 2.304500429754293 and reg = 0.1\n",
      "Length of the RPS is 111\n"
     ]
    },
    {
     "name": "stderr",
     "output_type": "stream",
     "text": [
      "100%|██████████| 20/20 [00:00<00:00, 4554.82it/s]\n",
      "100%|██████████| 100/100 [00:00<00:00, 4788.07it/s]\n",
      "100%|██████████| 500/500 [00:00<00:00, 4749.06it/s]\n"
     ]
    },
    {
     "name": "stdout",
     "output_type": "stream",
     "text": [
      "Running RAggregate with theta = 2.6590389574087996 and reg = 0.1\n",
      "Length of the RPS is 762\n"
     ]
    },
    {
     "name": "stderr",
     "output_type": "stream",
     "text": [
      "100%|██████████| 20/20 [00:00<00:00, 656.12it/s]\n",
      "100%|██████████| 100/100 [00:00<00:00, 652.24it/s]\n",
      "100%|██████████| 500/500 [00:00<00:00, 684.70it/s]\n"
     ]
    },
    {
     "name": "stdout",
     "output_type": "stream",
     "text": [
      "\n",
      "\n",
      "Running Iteration 92\n",
      "Running RAggregate with theta = 1.940514433146299 and reg = 0.1\n",
      "Length of the RPS is 9\n"
     ]
    },
    {
     "name": "stderr",
     "output_type": "stream",
     "text": [
      "100%|██████████| 20/20 [00:00<00:00, 45889.54it/s]\n",
      "100%|██████████| 100/100 [00:00<00:00, 50606.95it/s]\n",
      "100%|██████████| 500/500 [00:00<00:00, 50291.41it/s]\n"
     ]
    },
    {
     "name": "stdout",
     "output_type": "stream",
     "text": [
      "Running RAggregate with theta = 2.1169248361595985 and reg = 0.1\n",
      "Length of the RPS is 49\n"
     ]
    },
    {
     "name": "stderr",
     "output_type": "stream",
     "text": [
      "100%|██████████| 20/20 [00:00<00:00, 10793.37it/s]\n",
      "100%|██████████| 100/100 [00:00<00:00, 10760.70it/s]\n",
      "100%|██████████| 500/500 [00:00<00:00, 10644.90it/s]\n"
     ]
    },
    {
     "name": "stdout",
     "output_type": "stream",
     "text": [
      "Running RAggregate with theta = 2.2933352391728987 and reg = 0.1\n",
      "Length of the RPS is 161\n"
     ]
    },
    {
     "name": "stderr",
     "output_type": "stream",
     "text": [
      "100%|██████████| 20/20 [00:00<00:00, 3322.75it/s]\n",
      "100%|██████████| 100/100 [00:00<00:00, 3259.69it/s]\n",
      "100%|██████████| 500/500 [00:00<00:00, 3338.07it/s]\n"
     ]
    },
    {
     "name": "stdout",
     "output_type": "stream",
     "text": [
      "Running RAggregate with theta = 2.6461560451994983 and reg = 0.1\n",
      "Length of the RPS is 777\n"
     ]
    },
    {
     "name": "stderr",
     "output_type": "stream",
     "text": [
      "100%|██████████| 20/20 [00:00<00:00, 678.24it/s]\n",
      "100%|██████████| 100/100 [00:00<00:00, 677.73it/s]\n",
      "100%|██████████| 500/500 [00:00<00:00, 675.63it/s]\n"
     ]
    },
    {
     "name": "stdout",
     "output_type": "stream",
     "text": [
      "\n",
      "\n",
      "Running Iteration 93\n",
      "Running RAggregate with theta = 1.9421503682987953 and reg = 0.1\n",
      "Length of the RPS is 0\n"
     ]
    },
    {
     "name": "stderr",
     "output_type": "stream",
     "text": [
      "100%|██████████| 20/20 [00:00<00:00, 570653.61it/s]\n",
      "100%|██████████| 100/100 [00:00<00:00, 2219208.47it/s]\n",
      "100%|██████████| 500/500 [00:00<00:00, 4911363.00it/s]\n"
     ]
    },
    {
     "name": "stdout",
     "output_type": "stream",
     "text": [
      "Running RAggregate with theta = 2.1187094926895944 and reg = 0.1\n",
      "Length of the RPS is 40\n"
     ]
    },
    {
     "name": "stderr",
     "output_type": "stream",
     "text": [
      "100%|██████████| 20/20 [00:00<00:00, 12595.51it/s]\n",
      "100%|██████████| 100/100 [00:00<00:00, 13618.75it/s]\n",
      "100%|██████████| 500/500 [00:00<00:00, 13741.54it/s]\n"
     ]
    },
    {
     "name": "stdout",
     "output_type": "stream",
     "text": [
      "Running RAggregate with theta = 2.2952686170803944 and reg = 0.1\n",
      "Length of the RPS is 92\n"
     ]
    },
    {
     "name": "stderr",
     "output_type": "stream",
     "text": [
      "100%|██████████| 20/20 [00:00<00:00, 6031.50it/s]\n",
      "100%|██████████| 100/100 [00:00<00:00, 6197.26it/s]\n",
      "100%|██████████| 500/500 [00:00<00:00, 6290.80it/s]\n"
     ]
    },
    {
     "name": "stdout",
     "output_type": "stream",
     "text": [
      "Running RAggregate with theta = 2.648386865861993 and reg = 0.1\n",
      "Length of the RPS is 533\n"
     ]
    },
    {
     "name": "stderr",
     "output_type": "stream",
     "text": [
      "100%|██████████| 20/20 [00:00<00:00, 1051.97it/s]\n",
      "100%|██████████| 100/100 [00:00<00:00, 961.37it/s]\n",
      "100%|██████████| 500/500 [00:00<00:00, 1013.55it/s]\n"
     ]
    },
    {
     "name": "stdout",
     "output_type": "stream",
     "text": [
      "\n",
      "\n",
      "Running Iteration 94\n",
      "Running RAggregate with theta = 1.9318259931446402 and reg = 0.1\n",
      "Length of the RPS is 10\n"
     ]
    },
    {
     "name": "stderr",
     "output_type": "stream",
     "text": [
      "100%|██████████| 20/20 [00:00<00:00, 39309.32it/s]\n",
      "100%|██████████| 100/100 [00:00<00:00, 44127.34it/s]\n",
      "100%|██████████| 500/500 [00:00<00:00, 43806.57it/s]\n"
     ]
    },
    {
     "name": "stdout",
     "output_type": "stream",
     "text": [
      "Running RAggregate with theta = 2.107446537975971 and reg = 0.1\n",
      "Length of the RPS is 59\n"
     ]
    },
    {
     "name": "stderr",
     "output_type": "stream",
     "text": [
      "100%|██████████| 20/20 [00:00<00:00, 8367.69it/s]\n",
      "100%|██████████| 100/100 [00:00<00:00, 8439.58it/s]\n",
      "100%|██████████| 500/500 [00:00<00:00, 8611.33it/s]\n"
     ]
    },
    {
     "name": "stdout",
     "output_type": "stream",
     "text": [
      "Running RAggregate with theta = 2.283067082807302 and reg = 0.1\n",
      "Length of the RPS is 186\n"
     ]
    },
    {
     "name": "stderr",
     "output_type": "stream",
     "text": [
      "100%|██████████| 20/20 [00:00<00:00, 2738.87it/s]\n",
      "100%|██████████| 100/100 [00:00<00:00, 2801.68it/s]\n",
      "100%|██████████| 500/500 [00:00<00:00, 2769.36it/s]\n"
     ]
    },
    {
     "name": "stdout",
     "output_type": "stream",
     "text": [
      "Running RAggregate with theta = 2.6343081724699635 and reg = 0.1\n",
      "Length of the RPS is 1278\n"
     ]
    },
    {
     "name": "stderr",
     "output_type": "stream",
     "text": [
      "100%|██████████| 20/20 [00:00<00:00, 401.00it/s]\n",
      "100%|██████████| 100/100 [00:00<00:00, 407.88it/s]\n",
      "100%|██████████| 500/500 [00:01<00:00, 414.93it/s]\n"
     ]
    },
    {
     "name": "stdout",
     "output_type": "stream",
     "text": [
      "\n",
      "\n",
      "Running Iteration 95\n",
      "Running RAggregate with theta = 1.9596939883374787 and reg = 0.1\n",
      "Length of the RPS is 9\n"
     ]
    },
    {
     "name": "stderr",
     "output_type": "stream",
     "text": [
      "100%|██████████| 20/20 [00:00<00:00, 44057.82it/s]\n",
      "100%|██████████| 100/100 [00:00<00:00, 51331.59it/s]\n",
      "100%|██████████| 500/500 [00:00<00:00, 49889.43it/s]\n"
     ]
    },
    {
     "name": "stdout",
     "output_type": "stream",
     "text": [
      "Running RAggregate with theta = 2.137847987277249 and reg = 0.1\n",
      "Length of the RPS is 48\n"
     ]
    },
    {
     "name": "stderr",
     "output_type": "stream",
     "text": [
      "100%|██████████| 20/20 [00:00<00:00, 11217.72it/s]\n",
      "100%|██████████| 100/100 [00:00<00:00, 10719.44it/s]\n",
      "100%|██████████| 500/500 [00:00<00:00, 11194.96it/s]\n"
     ]
    },
    {
     "name": "stdout",
     "output_type": "stream",
     "text": [
      "Running RAggregate with theta = 2.31600198621702 and reg = 0.1\n",
      "Length of the RPS is 138\n"
     ]
    },
    {
     "name": "stderr",
     "output_type": "stream",
     "text": [
      "100%|██████████| 20/20 [00:00<00:00, 3945.72it/s]\n",
      "100%|██████████| 100/100 [00:00<00:00, 3919.87it/s]\n",
      "100%|██████████| 500/500 [00:00<00:00, 3962.98it/s]\n"
     ]
    },
    {
     "name": "stdout",
     "output_type": "stream",
     "text": [
      "Running RAggregate with theta = 2.672309984096562 and reg = 0.1\n",
      "Length of the RPS is 764\n"
     ]
    },
    {
     "name": "stderr",
     "output_type": "stream",
     "text": [
      "100%|██████████| 20/20 [00:00<00:00, 681.50it/s]\n",
      "100%|██████████| 100/100 [00:00<00:00, 681.63it/s]\n",
      "100%|██████████| 500/500 [00:00<00:00, 665.93it/s]\n"
     ]
    },
    {
     "name": "stdout",
     "output_type": "stream",
     "text": [
      "\n",
      "\n",
      "Running Iteration 96\n",
      "Running RAggregate with theta = 1.9462944399954403 and reg = 0.1\n",
      "Length of the RPS is 10\n"
     ]
    },
    {
     "name": "stderr",
     "output_type": "stream",
     "text": [
      "100%|██████████| 20/20 [00:00<00:00, 36551.67it/s]\n",
      "100%|██████████| 100/100 [00:00<00:00, 43365.43it/s]\n",
      "100%|██████████| 500/500 [00:00<00:00, 44252.12it/s]\n"
     ]
    },
    {
     "name": "stdout",
     "output_type": "stream",
     "text": [
      "Running RAggregate with theta = 2.1232302981768436 and reg = 0.1\n",
      "Length of the RPS is 49\n"
     ]
    },
    {
     "name": "stderr",
     "output_type": "stream",
     "text": [
      "100%|██████████| 20/20 [00:00<00:00, 9425.40it/s]\n",
      "100%|██████████| 100/100 [00:00<00:00, 10775.90it/s]\n",
      "100%|██████████| 500/500 [00:00<00:00, 10673.51it/s]\n"
     ]
    },
    {
     "name": "stdout",
     "output_type": "stream",
     "text": [
      "Running RAggregate with theta = 2.3001661563582476 and reg = 0.1\n",
      "Length of the RPS is 160\n"
     ]
    },
    {
     "name": "stderr",
     "output_type": "stream",
     "text": [
      "100%|██████████| 20/20 [00:00<00:00, 3168.98it/s]\n",
      "100%|██████████| 100/100 [00:00<00:00, 3317.20it/s]\n",
      "100%|██████████| 500/500 [00:00<00:00, 3281.12it/s]\n"
     ]
    },
    {
     "name": "stdout",
     "output_type": "stream",
     "text": [
      "Running RAggregate with theta = 2.6540378727210547 and reg = 0.1\n",
      "Length of the RPS is 885\n"
     ]
    },
    {
     "name": "stderr",
     "output_type": "stream",
     "text": [
      "100%|██████████| 20/20 [00:00<00:00, 615.35it/s]\n",
      "100%|██████████| 100/100 [00:00<00:00, 598.19it/s]\n",
      "100%|██████████| 500/500 [00:00<00:00, 588.39it/s]\n"
     ]
    },
    {
     "name": "stdout",
     "output_type": "stream",
     "text": [
      "\n",
      "\n",
      "Running Iteration 97\n",
      "Running RAggregate with theta = 1.9689696337672589 and reg = 0.1\n",
      "Length of the RPS is 9\n"
     ]
    },
    {
     "name": "stderr",
     "output_type": "stream",
     "text": [
      "100%|██████████| 20/20 [00:00<00:00, 43307.22it/s]\n",
      "100%|██████████| 100/100 [00:00<00:00, 49217.37it/s]\n",
      "100%|██████████| 500/500 [00:00<00:00, 50231.19it/s]\n"
     ]
    },
    {
     "name": "stdout",
     "output_type": "stream",
     "text": [
      "Running RAggregate with theta = 2.147966873200646 and reg = 0.1\n",
      "Length of the RPS is 48\n"
     ]
    },
    {
     "name": "stderr",
     "output_type": "stream",
     "text": [
      "100%|██████████| 20/20 [00:00<00:00, 11056.55it/s]\n",
      "100%|██████████| 100/100 [00:00<00:00, 11038.80it/s]\n",
      "100%|██████████| 500/500 [00:00<00:00, 11237.43it/s]\n"
     ]
    },
    {
     "name": "stdout",
     "output_type": "stream",
     "text": [
      "Running RAggregate with theta = 2.326964112634033 and reg = 0.1\n",
      "Length of the RPS is 103\n"
     ]
    },
    {
     "name": "stderr",
     "output_type": "stream",
     "text": [
      "100%|██████████| 20/20 [00:00<00:00, 5350.22it/s]\n",
      "100%|██████████| 100/100 [00:00<00:00, 5396.96it/s]\n",
      "100%|██████████| 500/500 [00:00<00:00, 5284.68it/s]\n"
     ]
    },
    {
     "name": "stdout",
     "output_type": "stream",
     "text": [
      "Running RAggregate with theta = 2.6849585915008074 and reg = 0.1\n",
      "Length of the RPS is 906\n"
     ]
    },
    {
     "name": "stderr",
     "output_type": "stream",
     "text": [
      "100%|██████████| 20/20 [00:00<00:00, 568.52it/s]\n",
      "100%|██████████| 100/100 [00:00<00:00, 578.02it/s]\n",
      "100%|██████████| 500/500 [00:00<00:00, 562.63it/s]\n"
     ]
    },
    {
     "name": "stdout",
     "output_type": "stream",
     "text": [
      "\n",
      "\n",
      "Running Iteration 98\n",
      "Running RAggregate with theta = 1.9867474078829854 and reg = 0.1\n",
      "Length of the RPS is 9\n"
     ]
    },
    {
     "name": "stderr",
     "output_type": "stream",
     "text": [
      "100%|██████████| 20/20 [00:00<00:00, 43873.47it/s]\n",
      "100%|██████████| 100/100 [00:00<00:00, 50177.10it/s]\n",
      "100%|██████████| 500/500 [00:00<00:00, 48618.34it/s]\n"
     ]
    },
    {
     "name": "stdout",
     "output_type": "stream",
     "text": [
      "Running RAggregate with theta = 2.16736080859962 and reg = 0.1\n",
      "Length of the RPS is 49\n"
     ]
    },
    {
     "name": "stderr",
     "output_type": "stream",
     "text": [
      "100%|██████████| 20/20 [00:00<00:00, 10428.40it/s]\n",
      "100%|██████████| 100/100 [00:00<00:00, 10415.71it/s]\n",
      "100%|██████████| 500/500 [00:00<00:00, 10854.49it/s]\n"
     ]
    },
    {
     "name": "stdout",
     "output_type": "stream",
     "text": [
      "Running RAggregate with theta = 2.3479742093162557 and reg = 0.1\n",
      "Length of the RPS is 177\n"
     ]
    },
    {
     "name": "stderr",
     "output_type": "stream",
     "text": [
      "100%|██████████| 20/20 [00:00<00:00, 2786.26it/s]\n",
      "100%|██████████| 100/100 [00:00<00:00, 2950.72it/s]\n",
      "100%|██████████| 500/500 [00:00<00:00, 2924.09it/s]\n"
     ]
    },
    {
     "name": "stdout",
     "output_type": "stream",
     "text": [
      "Running RAggregate with theta = 2.7092010107495255 and reg = 0.1\n",
      "Length of the RPS is 1232\n"
     ]
    },
    {
     "name": "stderr",
     "output_type": "stream",
     "text": [
      "100%|██████████| 20/20 [00:00<00:00, 402.05it/s]\n",
      "100%|██████████| 100/100 [00:00<00:00, 443.47it/s]\n",
      "100%|██████████| 500/500 [00:01<00:00, 431.68it/s]\n"
     ]
    },
    {
     "name": "stdout",
     "output_type": "stream",
     "text": [
      "\n",
      "\n",
      "Running Iteration 99\n",
      "Running RAggregate with theta = 1.9778859011169272 and reg = 0.1\n",
      "Length of the RPS is 0\n"
     ]
    },
    {
     "name": "stderr",
     "output_type": "stream",
     "text": [
      "100%|██████████| 20/20 [00:00<00:00, 769597.06it/s]\n",
      "100%|██████████| 100/100 [00:00<00:00, 2317295.03it/s]\n",
      "100%|██████████| 500/500 [00:00<00:00, 4798974.83it/s]\n"
     ]
    },
    {
     "name": "stdout",
     "output_type": "stream",
     "text": [
      "Running RAggregate with theta = 2.157693710309375 and reg = 0.1\n",
      "Length of the RPS is 39\n"
     ]
    },
    {
     "name": "stderr",
     "output_type": "stream",
     "text": [
      "100%|██████████| 20/20 [00:00<00:00, 14025.43it/s]\n",
      "100%|██████████| 100/100 [00:00<00:00, 14112.73it/s]\n",
      "100%|██████████| 500/500 [00:00<00:00, 14571.75it/s]\n"
     ]
    },
    {
     "name": "stdout",
     "output_type": "stream",
     "text": [
      "Running RAggregate with theta = 2.337501519501823 and reg = 0.1\n",
      "Length of the RPS is 85\n"
     ]
    },
    {
     "name": "stderr",
     "output_type": "stream",
     "text": [
      "100%|██████████| 20/20 [00:00<00:00, 6644.44it/s]\n",
      "100%|██████████| 100/100 [00:00<00:00, 6782.40it/s]\n",
      "100%|██████████| 500/500 [00:00<00:00, 6900.82it/s]\n"
     ]
    },
    {
     "name": "stdout",
     "output_type": "stream",
     "text": [
      "Running RAggregate with theta = 2.697117137886719 and reg = 0.1\n",
      "Length of the RPS is 571\n"
     ]
    },
    {
     "name": "stderr",
     "output_type": "stream",
     "text": [
      "100%|██████████| 20/20 [00:00<00:00, 954.84it/s]\n",
      "100%|██████████| 100/100 [00:00<00:00, 939.20it/s]\n",
      "100%|██████████| 500/500 [00:00<00:00, 958.16it/s]\n"
     ]
    },
    {
     "name": "stdout",
     "output_type": "stream",
     "text": [
      "\n",
      "\n",
      "Running Iteration 100\n",
      "Running RAggregate with theta = 2.0367770124635456 and reg = 0.1\n",
      "Length of the RPS is 9\n"
     ]
    },
    {
     "name": "stderr",
     "output_type": "stream",
     "text": [
      "100%|██████████| 20/20 [00:00<00:00, 43284.87it/s]\n",
      "100%|██████████| 100/100 [00:00<00:00, 50760.06it/s]\n",
      "100%|██████████| 500/500 [00:00<00:00, 50782.19it/s]\n"
     ]
    },
    {
     "name": "stdout",
     "output_type": "stream",
     "text": [
      "Running RAggregate with theta = 2.2219385590511407 and reg = 0.1\n",
      "Length of the RPS is 48\n"
     ]
    },
    {
     "name": "stderr",
     "output_type": "stream",
     "text": [
      "100%|██████████| 20/20 [00:00<00:00, 11037.64it/s]\n",
      "100%|██████████| 100/100 [00:00<00:00, 11308.45it/s]\n",
      "100%|██████████| 500/500 [00:00<00:00, 11244.78it/s]\n"
     ]
    },
    {
     "name": "stdout",
     "output_type": "stream",
     "text": [
      "Running RAggregate with theta = 2.4071001056387358 and reg = 0.1\n",
      "Length of the RPS is 105\n"
     ]
    },
    {
     "name": "stderr",
     "output_type": "stream",
     "text": [
      "100%|██████████| 20/20 [00:00<00:00, 5219.39it/s]\n",
      "100%|██████████| 100/100 [00:00<00:00, 5118.19it/s]\n",
      "100%|██████████| 500/500 [00:00<00:00, 5182.04it/s]\n"
     ]
    },
    {
     "name": "stdout",
     "output_type": "stream",
     "text": [
      "Running RAggregate with theta = 2.777423198813926 and reg = 0.1\n",
      "Length of the RPS is 1014\n"
     ]
    },
    {
     "name": "stderr",
     "output_type": "stream",
     "text": [
      "100%|██████████| 20/20 [00:00<00:00, 516.22it/s]\n",
      "100%|██████████| 100/100 [00:00<00:00, 528.03it/s]\n",
      "100%|██████████| 500/500 [00:00<00:00, 523.33it/s]\n"
     ]
    }
   ],
   "source": [
    "num_trees_to_try = np.array([20, 100, 500])\n",
    "multipliers_to_try = np.array([1.1, 1.2, 1.3, 1.5])\n",
    "\n",
    "# Finds suitable thetas to try based on the multipliers\n",
    "def produce_thetas_to_try(multipliers, D_matrix, D, y):\n",
    "\n",
    "    lasso_reg = 1e-1\n",
    "    lasso = linear_model.Lasso(lasso_reg, fit_intercept=False)\n",
    "    lasso.fit(D_matrix, y)\n",
    "    alpha_est = lasso.coef_\n",
    "    y_tva = lasso.predict(D_matrix)\n",
    "\n",
    "    sqrd_err = mean_squared_error(y, y_tva)\n",
    "    theta = sqrd_err + 1e-4 * np.linalg.norm(alpha_est, ord=1)\n",
    "\n",
    "    R_set = []\n",
    "    while len(R_set) == 0:\n",
    "        reg = 1e-1\n",
    "        R_set, rashomon_profiles = RAggregate(M, R, H, D, y, theta, reg,\n",
    "                                                verbose=False, bruteforce=True\n",
    "                                                )\n",
    "        theta += 0.1\n",
    "\n",
    "    model_losses = []\n",
    "    model_sizes = []\n",
    "\n",
    "    for r_set in R_set:\n",
    "\n",
    "        loss_r = 0\n",
    "        size_r = 0\n",
    "        \n",
    "        for profile, model_prof in enumerate(r_set):\n",
    "            sigma_r_prof = rashomon_profiles[profile].sigma[model_prof]\n",
    "            loss_r_prof = rashomon_profiles[profile].loss[model_prof]\n",
    "            size_r_prof = rashomon_profiles[profile].pools[model_prof]\n",
    "\n",
    "            loss_r += loss_r_prof\n",
    "\n",
    "            if sigma_r_prof is None and loss_r_prof == 0:\n",
    "                pass\n",
    "            else:\n",
    "                size_r += size_r_prof\n",
    "        \n",
    "        model_losses.append(loss_r)\n",
    "        model_sizes.append(size_r)\n",
    "\n",
    "    model_losses = np.array(model_losses)\n",
    "    model_sizes = np.array(model_sizes)\n",
    "\n",
    "    q_0 = np.min(model_losses)\n",
    "\n",
    "    return q_0 * multipliers\n",
    "\n",
    "\n",
    "# Runs the intersection and num_permissibile finding algorithms for all combinations of num_trees and thetas.\n",
    "def produce_crf_counter(num_trees_to_try, thetas_to_try, D, y, X_cf, T, y_0d):\n",
    "    trt_intersections, ctl_intersections, permissible_trees, size_of_r_sets = [], [], [], []\n",
    "    for theta in thetas_to_try:\n",
    "        # print(f\"Running for theta = {theta}\")\n",
    "        all_r_pools_trt_counters, all_r_pools_ctl_counters = create_rset_poolings(theta, reg, D=D, y=y, verbose=False)\n",
    "        for num_trees in num_trees_to_try:\n",
    "            # print(f\"Running for num_trees = {num_trees}\")\n",
    "\n",
    "            est = CausalForest(criterion=\"het\", n_estimators=num_trees,\n",
    "                            min_samples_leaf=10,\n",
    "                            # max_depth=None,\n",
    "                            min_samples_split=10,\n",
    "                            random_state=3,\n",
    "                            )\n",
    "            \n",
    "            est.fit(X_cf, T, y_0d)\n",
    "            trees = est.estimators_\n",
    "\n",
    "            crf_trees = []\n",
    "            for i in range(len(trees)):\n",
    "                crf_trees.append(traverse(create_dict_rep(trees[i])))\n",
    "\n",
    "            all_pools_crf_counters = {}\n",
    "\n",
    "            for tree_idx in range(len(crf_trees)):\n",
    "                c = Counter()\n",
    "                for value in crf_trees[tree_idx]:\n",
    "                    to_add = tuple(sorted(value))\n",
    "                    c.update([to_add])\n",
    "                all_pools_crf_counters[tree_idx] = c\n",
    "\n",
    "            intersection_trt, intersection_ctl = [], []\n",
    "\n",
    "            for key, pool in tqdm(all_pools_crf_counters.items()):\n",
    "                if pool in all_r_pools_trt_counters.values():\n",
    "                    intersection_trt.append(pool)\n",
    "                if pool in all_r_pools_ctl_counters.values():\n",
    "                    intersection_ctl.append(pool)\n",
    "\n",
    "            num_trt_intersections, num_ctl_intersections = len(intersection_trt), len(intersection_ctl)\n",
    "\n",
    "            permissibility = [is_permissible(crf_trees[i], crf_R) for i in range(len(crf_trees))]\n",
    "            permissible_trees_idx = [i for i, e in enumerate(permissibility) if e != 0]\n",
    "            num_permissible_trees = len(permissible_trees_idx)\n",
    "\n",
    "            parameters.append((theta, num_trees))\n",
    "            trt_intersections.append(num_trt_intersections)\n",
    "            ctl_intersections.append(num_ctl_intersections)\n",
    "            permissible_trees.append(num_permissible_trees)\n",
    "            size_of_r_sets.append(len(all_r_pools_trt_counters))\n",
    "\n",
    "    size_of_r_sets = np.array(size_of_r_sets).reshape((len(thetas_to_try), len(num_trees_to_try)))\n",
    "    trt_intersections = np.array(trt_intersections).reshape((len(thetas_to_try), len(num_trees_to_try)))\n",
    "    ctl_intersections = np.array(ctl_intersections).reshape((len(thetas_to_try), len(num_trees_to_try)))\n",
    "    permissible_trees = np.array(permissible_trees).reshape((len(thetas_to_try), len(num_trees_to_try)))\n",
    "\n",
    "    return trt_intersections, ctl_intersections, permissible_trees, size_of_r_sets\n",
    "\n",
    "# Runs sims for a given number of times\n",
    "def run_sims(num_trees_to_try, multipliers_to_try, num_times=100):\n",
    "    \n",
    "    parameters = list(product(multipliers_to_try, num_trees_to_try))\n",
    "\n",
    "    for i in range(1, num_times + 1):\n",
    "        print(f\"\\n\\nRunning Iteration {i}\")\n",
    "        np.random.seed(i)\n",
    "\n",
    "        n_per_pol = 10\n",
    "\n",
    "        # Generate data\n",
    "        X, D, y, mu_true = generate_data(mu, var, n_per_pol, all_policies, pi_policies, M)\n",
    "\n",
    "        D_matrix = tva.get_dummy_matrix(D, G, num_policies)\n",
    "        y_0d = y.reshape((-1,))\n",
    "        X_cf = X[:, feature_idx]\n",
    "        T = np.zeros(shape=y.shape)\n",
    "        T[X[:, trt_arm_idx] > 0] = 1\n",
    "\n",
    "        # Generate Thetas to Use\n",
    "        thetas_to_try = produce_thetas_to_try(multipliers_to_try, D_matrix, D, y)\n",
    "\n",
    "        # Produce statistics for this run\n",
    "        trt_intersections_run, ctl_intersections_run, permissible_trees_run, size_of_r_sets_run = produce_crf_counter(num_trees_to_try, thetas_to_try, D, y, X_cf, T, y_0d)\n",
    "\n",
    "        if i == 1:\n",
    "            trt_intersections = trt_intersections_run\n",
    "            ctl_intersections = ctl_intersections_run\n",
    "            permissible_trees = permissible_trees_run\n",
    "            size_of_r_sets = size_of_r_sets_run\n",
    "        else:\n",
    "            trt_intersections = (i - 1) / i * trt_intersections + 1 / i * trt_intersections_run\n",
    "            ctl_intersections = (i - 1) / i * ctl_intersections + 1 / i * ctl_intersections_run\n",
    "            permissible_trees = (i - 1) / i * permissible_trees + 1 / i * permissible_trees_run\n",
    "            size_of_r_sets =  (i - 1) / i * size_of_r_sets + 1 / i * size_of_r_sets_run\n",
    "\n",
    "    return trt_intersections, ctl_intersections, permissible_trees, size_of_r_sets, parameters\n",
    "\n",
    "        \n",
    "trt_intersections, ctl_intersections, permissible_trees, size_of_r_sets, parameters = run_sims(num_trees_to_try, multipliers_to_try, 100)"
   ]
  },
  {
   "cell_type": "code",
   "execution_count": 225,
   "id": "d136ffce",
   "metadata": {},
   "outputs": [
    {
     "name": "stdout",
     "output_type": "stream",
     "text": [
      "Average Intersection with Treatment: [[ 0.    0.    0.  ]\n",
      " [ 0.    0.    0.  ]\n",
      " [ 0.52  1.15  4.24]\n",
      " [ 1.29  2.67 10.32]]\n",
      "Average Intersection with Control: [[0. 0. 0.]\n",
      " [0. 0. 0.]\n",
      " [0. 0. 0.]\n",
      " [0. 0. 0.]]\n",
      "Average Number of Permissible Trees: [[ 1.29  2.67 10.32]\n",
      " [ 1.29  2.67 10.32]\n",
      " [ 1.29  2.67 10.32]\n",
      " [ 1.29  2.67 10.32]]\n",
      "Average Size of Rashomon Set: [[  7.46   7.46   7.46]\n",
      " [ 46.6   46.6   46.6 ]\n",
      " [126.54 126.54 126.54]\n",
      " [823.81 823.81 823.81]]\n",
      "Order of Parameters Considered: [(1.1, 20), (1.1, 100), (1.1, 500), (1.2, 20), (1.2, 100), (1.2, 500), (1.3, 20), (1.3, 100), (1.3, 500), (1.5, 20), (1.5, 100), (1.5, 500)]\n"
     ]
    }
   ],
   "source": [
    "print(\"Average Intersection with Treatment:\", trt_intersections)\n",
    "print(\"Average Intersection with Control:\", ctl_intersections)\n",
    "print(\"Average Number of Permissible Trees:\", permissible_trees)\n",
    "print(\"Average Size of Rashomon Set:\", size_of_r_sets)\n",
    "print(\"Order of Parameters Considered:\", parameters)"
   ]
  },
  {
   "cell_type": "markdown",
   "id": "c714815f-62da-42f9-8ed5-26e7225e160f",
   "metadata": {},
   "source": [
    "## LASSO"
   ]
  },
  {
   "cell_type": "markdown",
   "id": "b12f3eb3",
   "metadata": {},
   "source": [
    "This section uses LASSO in order to get an idea of a reasonable threshold for pruning the RPS."
   ]
  },
  {
   "cell_type": "code",
   "execution_count": 101,
   "id": "ab416e32-535d-40ac-bdf0-45521ce21ef3",
   "metadata": {},
   "outputs": [
    {
     "name": "stdout",
     "output_type": "stream",
     "text": [
      "2.2421820501307677\n",
      "2.2428753174251383\n"
     ]
    }
   ],
   "source": [
    "lasso_reg = 1e-1\n",
    "\n",
    "\n",
    "lasso = linear_model.Lasso(lasso_reg, fit_intercept=False)\n",
    "lasso.fit(D_matrix, y)\n",
    "# lasso.fit(X_trt_subset, y_trt_subset)\n",
    "alpha_est = lasso.coef_\n",
    "y_tva = lasso.predict(D_matrix)\n",
    "\n",
    "sqrd_err = mean_squared_error(y, y_tva)\n",
    "print(sqrd_err)\n",
    "\n",
    "lasso_loss = sqrd_err + 1e-4 * np.linalg.norm(alpha_est, ord=1)\n",
    "print(lasso_loss)\n",
    "\n",
    "# y_tva = lasso.predict(D_matrix_trt_subset)\n",
    "# # y_tva = lasso.predict(X_trt_subset)\n",
    "\n",
    "# tva_results = metrics.compute_all_metrics(\n",
    "#                     y_trt_subset, y_tva,\n",
    "#     D_trt_subset, true_best, all_policies, profile_map, min_dosage_best_policy, true_best_effect)"
   ]
  }
 ],
 "metadata": {
  "kernelspec": {
   "display_name": "base",
   "language": "python",
   "name": "python3"
  },
  "language_info": {
   "codemirror_mode": {
    "name": "ipython",
    "version": 3
   },
   "file_extension": ".py",
   "mimetype": "text/x-python",
   "name": "python",
   "nbconvert_exporter": "python",
   "pygments_lexer": "ipython3",
   "version": "3.11.7"
  }
 },
 "nbformat": 4,
 "nbformat_minor": 5
}
