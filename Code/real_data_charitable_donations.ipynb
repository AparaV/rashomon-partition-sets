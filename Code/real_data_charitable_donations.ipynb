{
 "cells": [
  {
   "cell_type": "code",
   "execution_count": 1,
   "id": "9a31ac6a-c651-4511-b6f8-3c0d103461ea",
   "metadata": {},
   "outputs": [],
   "source": [
    "import numpy as np\n",
    "import pandas as pd\n",
    "import seaborn as sns\n",
    "import matplotlib.pyplot as plt\n",
    "import matplotlib.lines as mlines\n",
    "import matplotlib.patches as mpatches\n",
    "\n",
    "from copy import deepcopy\n",
    "from matplotlib import colors\n",
    "from matplotlib import ticker\n",
    "from sklearn.metrics import mean_squared_error\n",
    "\n",
    "from rashomon import tva\n",
    "from rashomon import loss\n",
    "from rashomon import counter\n",
    "from rashomon import metrics\n",
    "from rashomon import extract_pools\n",
    "from rashomon.aggregate import RAggregate_profile, RAggregate\n",
    "from rashomon.sets import RashomonSet, RashomonProblemCache, RashomonSubproblemCache\n",
    "from rashomon.aggregate import find_te_het_partitions, find_feasible_sum_subsets\n",
    "\n",
    "\n",
    "%load_ext autoreload\n",
    "%autoreload 2\n",
    "\n",
    "%matplotlib inline"
   ]
  },
  {
   "cell_type": "markdown",
   "id": "2a6c23d9-746c-4367-ba3e-5b8c87c1fd8e",
   "metadata": {},
   "source": [
    "# Data processing\n",
    "\n",
    "### Read data"
   ]
  },
  {
   "cell_type": "code",
   "execution_count": 2,
   "id": "90f8644a-0ac3-4199-859a-807da152886c",
   "metadata": {},
   "outputs": [
    {
     "name": "stdout",
     "output_type": "stream",
     "text": [
      "Index(['treatment', 'control', 'ratio', 'ratio2', 'ratio3', 'size', 'size25',\n",
      "       'size50', 'size100', 'sizeno', 'ask', 'askd1', 'askd2', 'askd3', 'ask1',\n",
      "       'ask2', 'ask3', 'amount', 'gave', 'amountchange', 'hpa', 'ltmedmra',\n",
      "       'freq', 'years', 'year5', 'mrm2', 'dormant', 'female', 'couple',\n",
      "       'state50one', 'nonlit', 'cases', 'statecnt', 'stateresponse',\n",
      "       'stateresponset', 'stateresponsec', 'stateresponsetminc', 'perbush',\n",
      "       'close25', 'red0', 'blue0', 'redcty', 'bluecty', 'pwhite', 'pblack',\n",
      "       'page18_39', 'ave_hh_sz', 'median_hhincome', 'powner', 'psch_atlstba',\n",
      "       'pop_propurban'],\n",
      "      dtype='object')\n"
     ]
    },
    {
     "data": {
      "text/html": [
       "<div>\n",
       "<style scoped>\n",
       "    .dataframe tbody tr th:only-of-type {\n",
       "        vertical-align: middle;\n",
       "    }\n",
       "\n",
       "    .dataframe tbody tr th {\n",
       "        vertical-align: top;\n",
       "    }\n",
       "\n",
       "    .dataframe thead th {\n",
       "        text-align: right;\n",
       "    }\n",
       "</style>\n",
       "<table border=\"1\" class=\"dataframe\">\n",
       "  <thead>\n",
       "    <tr style=\"text-align: right;\">\n",
       "      <th></th>\n",
       "      <th>treatment</th>\n",
       "      <th>control</th>\n",
       "      <th>ratio</th>\n",
       "      <th>size</th>\n",
       "      <th>ask</th>\n",
       "      <th>amount</th>\n",
       "      <th>gave</th>\n",
       "      <th>amountchange</th>\n",
       "      <th>red0</th>\n",
       "    </tr>\n",
       "  </thead>\n",
       "  <tbody>\n",
       "    <tr>\n",
       "      <th>0</th>\n",
       "      <td>0</td>\n",
       "      <td>1</td>\n",
       "      <td>Control</td>\n",
       "      <td>Control</td>\n",
       "      <td>Control</td>\n",
       "      <td>0.0</td>\n",
       "      <td>0</td>\n",
       "      <td>-45.0</td>\n",
       "      <td>0.0</td>\n",
       "    </tr>\n",
       "    <tr>\n",
       "      <th>1</th>\n",
       "      <td>0</td>\n",
       "      <td>1</td>\n",
       "      <td>Control</td>\n",
       "      <td>Control</td>\n",
       "      <td>Control</td>\n",
       "      <td>0.0</td>\n",
       "      <td>0</td>\n",
       "      <td>-25.0</td>\n",
       "      <td>0.0</td>\n",
       "    </tr>\n",
       "    <tr>\n",
       "      <th>2</th>\n",
       "      <td>1</td>\n",
       "      <td>0</td>\n",
       "      <td>1</td>\n",
       "      <td>$100,000</td>\n",
       "      <td>1x</td>\n",
       "      <td>0.0</td>\n",
       "      <td>0</td>\n",
       "      <td>-50.0</td>\n",
       "      <td>0.0</td>\n",
       "    </tr>\n",
       "    <tr>\n",
       "      <th>3</th>\n",
       "      <td>1</td>\n",
       "      <td>0</td>\n",
       "      <td>1</td>\n",
       "      <td>Unstated</td>\n",
       "      <td>1x</td>\n",
       "      <td>0.0</td>\n",
       "      <td>0</td>\n",
       "      <td>-25.0</td>\n",
       "      <td>0.0</td>\n",
       "    </tr>\n",
       "    <tr>\n",
       "      <th>4</th>\n",
       "      <td>1</td>\n",
       "      <td>0</td>\n",
       "      <td>1</td>\n",
       "      <td>$50,000</td>\n",
       "      <td>1x</td>\n",
       "      <td>0.0</td>\n",
       "      <td>0</td>\n",
       "      <td>-15.0</td>\n",
       "      <td>1.0</td>\n",
       "    </tr>\n",
       "  </tbody>\n",
       "</table>\n",
       "</div>"
      ],
      "text/plain": [
       "   treatment  control    ratio      size      ask  amount  gave  amountchange  \\\n",
       "0          0        1  Control   Control  Control     0.0     0         -45.0   \n",
       "1          0        1  Control   Control  Control     0.0     0         -25.0   \n",
       "2          1        0        1  $100,000       1x     0.0     0         -50.0   \n",
       "3          1        0        1  Unstated       1x     0.0     0         -25.0   \n",
       "4          1        0        1   $50,000       1x     0.0     0         -15.0   \n",
       "\n",
       "   red0  \n",
       "0   0.0  \n",
       "1   0.0  \n",
       "2   0.0  \n",
       "3   0.0  \n",
       "4   1.0  "
      ]
     },
     "execution_count": 2,
     "metadata": {},
     "output_type": "execute_result"
    }
   ],
   "source": [
    "dta_fname = \"../Data/Does_Price_Matter_AER_merged.dta\"\n",
    "\n",
    "raw_df = pd.read_stata(dta_fname)\n",
    "colnames = raw_df.columns\n",
    "print(colnames)\n",
    "\n",
    "cols_to_keep = [\n",
    "                'treatment', 'control',\n",
    "                'ratio',\n",
    "                # 'ratio2', 'ratio3',\n",
    "                'size',\n",
    "                # 'size25', 'size50', 'size100', 'sizeno',\n",
    "                'ask',\n",
    "                # 'ask1', 'ask2', 'ask3',\n",
    "                # 'askd1', 'askd2', 'askd3',\n",
    "                'amount', 'gave', 'amountchange',\n",
    "                'red0'#, 'blue0'\n",
    "               ]\n",
    "df = raw_df[cols_to_keep]\n",
    "\n",
    "df.head()"
   ]
  },
  {
   "cell_type": "markdown",
   "id": "191178e4-78d2-462c-8de7-45fce6d85a28",
   "metadata": {},
   "source": [
    "### Remove control"
   ]
  },
  {
   "cell_type": "code",
   "execution_count": 3,
   "id": "6066b7aa-e881-4a88-bd7d-a79e413a9aa2",
   "metadata": {},
   "outputs": [],
   "source": [
    "# avg_control = np.mean(df[df[\"control\"] == 1][\"amountchange\"])\n",
    "# df_treatment = df[df[\"treatment\"] == 1]\n",
    "# df_treatment.loc[:, \"amountchange\"] = df_treatment.loc[:, \"amountchange\"] - avg_control\n",
    "df_treatment = deepcopy(df)\n",
    "df_treatment = df_treatment.dropna()"
   ]
  },
  {
   "cell_type": "markdown",
   "id": "785a3dcf-b4c4-4b58-b524-a210cf1bde80",
   "metadata": {},
   "source": [
    "### Process data"
   ]
  },
  {
   "cell_type": "code",
   "execution_count": 4,
   "id": "95e97238-44a4-4976-a9bb-95b134929044",
   "metadata": {},
   "outputs": [
    {
     "data": {
      "text/html": [
       "<div>\n",
       "<style scoped>\n",
       "    .dataframe tbody tr th:only-of-type {\n",
       "        vertical-align: middle;\n",
       "    }\n",
       "\n",
       "    .dataframe tbody tr th {\n",
       "        vertical-align: top;\n",
       "    }\n",
       "\n",
       "    .dataframe thead th {\n",
       "        text-align: right;\n",
       "    }\n",
       "</style>\n",
       "<table border=\"1\" class=\"dataframe\">\n",
       "  <thead>\n",
       "    <tr style=\"text-align: right;\">\n",
       "      <th></th>\n",
       "      <th>ratio</th>\n",
       "      <th>size</th>\n",
       "      <th>ask</th>\n",
       "      <th>amount</th>\n",
       "      <th>gave</th>\n",
       "      <th>amountchange</th>\n",
       "      <th>red0</th>\n",
       "    </tr>\n",
       "  </thead>\n",
       "  <tbody>\n",
       "    <tr>\n",
       "      <th>0</th>\n",
       "      <td>0</td>\n",
       "      <td>0</td>\n",
       "      <td>0</td>\n",
       "      <td>0.0</td>\n",
       "      <td>0</td>\n",
       "      <td>-45.0</td>\n",
       "      <td>1</td>\n",
       "    </tr>\n",
       "    <tr>\n",
       "      <th>1</th>\n",
       "      <td>0</td>\n",
       "      <td>0</td>\n",
       "      <td>0</td>\n",
       "      <td>0.0</td>\n",
       "      <td>0</td>\n",
       "      <td>-25.0</td>\n",
       "      <td>1</td>\n",
       "    </tr>\n",
       "    <tr>\n",
       "      <th>2</th>\n",
       "      <td>1</td>\n",
       "      <td>3</td>\n",
       "      <td>1</td>\n",
       "      <td>0.0</td>\n",
       "      <td>0</td>\n",
       "      <td>-50.0</td>\n",
       "      <td>1</td>\n",
       "    </tr>\n",
       "    <tr>\n",
       "      <th>3</th>\n",
       "      <td>1</td>\n",
       "      <td>4</td>\n",
       "      <td>1</td>\n",
       "      <td>0.0</td>\n",
       "      <td>0</td>\n",
       "      <td>-25.0</td>\n",
       "      <td>1</td>\n",
       "    </tr>\n",
       "    <tr>\n",
       "      <th>4</th>\n",
       "      <td>1</td>\n",
       "      <td>2</td>\n",
       "      <td>1</td>\n",
       "      <td>0.0</td>\n",
       "      <td>0</td>\n",
       "      <td>-15.0</td>\n",
       "      <td>2</td>\n",
       "    </tr>\n",
       "  </tbody>\n",
       "</table>\n",
       "</div>"
      ],
      "text/plain": [
       "   ratio  size  ask  amount  gave  amountchange  red0\n",
       "0      0     0    0     0.0     0         -45.0     1\n",
       "1      0     0    0     0.0     0         -25.0     1\n",
       "2      1     3    1     0.0     0         -50.0     1\n",
       "3      1     4    1     0.0     0         -25.0     1\n",
       "4      1     2    1     0.0     0         -15.0     2"
      ]
     },
     "execution_count": 4,
     "metadata": {},
     "output_type": "execute_result"
    }
   ],
   "source": [
    "ratio_map = {\"Control\": 0, 1: 1, 2: 2, 3: 3}\n",
    "size_map = {\"Control\": 0, \"$25,000\": 1, \"$50,000\": 2, \"$100,000\": 3, \"Unstated\": 4}\n",
    "ask_map = {\"Control\": 0, \"1x\": 1, \"1.25x\": 2, \"1.50x\": 3}\n",
    "redblue_map = {0: 1, 1: 2}\n",
    "\n",
    "\n",
    "df_treatment.loc[:, \"ratio\"] = df_treatment.loc[:, \"ratio\"].map(ratio_map)\n",
    "df_treatment.loc[:, \"size\"] = df_treatment.loc[:, \"size\"].map(size_map)\n",
    "df_treatment.loc[:, \"ask\"] = df_treatment.loc[:, \"ask\"].map(ask_map)\n",
    "df_treatment.loc[:, \"red0\"] = df_treatment.loc[:, \"red0\"].map(redblue_map)\n",
    "df_treatment = df_treatment.astype({\n",
    "    \"ratio\": np.int64, \"size\": np.int64, \"ask\": np.int64, \"red0\": np.int64})\n",
    "\n",
    "df_treatment = df_treatment.drop([\"treatment\", \"control\"], axis=1)\n",
    "\n",
    "df_treatment.head()"
   ]
  },
  {
   "cell_type": "markdown",
   "id": "37301529-37cc-417b-a820-94acf335b7da",
   "metadata": {},
   "source": [
    "# Analysis\n",
    "\n",
    "### Rashomon"
   ]
  },
  {
   "cell_type": "code",
   "execution_count": 5,
   "id": "4069b0bb-1dc6-4068-bf84-bf9c38c6003c",
   "metadata": {},
   "outputs": [],
   "source": [
    "def print_pools(R_set, rashomon_profiles, idx, profiles, policies_mask, all_policies=None,\n",
    "               policy_means=None):\n",
    "    r_set = R_set[idx]\n",
    "    \n",
    "    pi_policies_profiles_r = {}\n",
    "    for k, profile in enumerate(profiles):\n",
    "        if rashomon_profiles[k].sigma[r_set[k]] is None and rashomon_profiles[k].Q[r_set[k]] == 0:\n",
    "            pi_policies_r_k = {i: None for i in range(len(policies_mask[k]))}\n",
    "            pass\n",
    "        else:\n",
    "            _, pi_policies_r_k = extract_pools.extract_pools(\n",
    "                policies_profiles_masked[k],\n",
    "                rashomon_profiles[k].sigma[r_set[k]]\n",
    "            )\n",
    "        pi_policies_profiles_r[k] = pi_policies_r_k\n",
    "    \n",
    "    pi_pools_r, pi_policies_r = extract_pools.aggregate_pools(pi_policies_profiles_r, policies_ids_profiles)\n",
    "    if policy_means is not None:\n",
    "        pool_means_r = loss.compute_pool_means(policy_means, pi_pools_r)\n",
    "    else:\n",
    "        pool_means_r = None\n",
    "    \n",
    "    for k, v in pi_pools_r.items():\n",
    "        if all_policies is not None:\n",
    "            print(k, \":\", [all_policies[x] for x in v])\n",
    "        else:\n",
    "            print(k, \":\", v)\n",
    "        if pool_means_r is not None:\n",
    "            print(pool_means_r[k])"
   ]
  },
  {
   "cell_type": "markdown",
   "id": "78139835-aee3-4e72-b015-c331dff818a2",
   "metadata": {},
   "source": [
    "Setup the policy and profile list"
   ]
  },
  {
   "cell_type": "code",
   "execution_count": 6,
   "id": "86930feb-bda8-4ac6-a448-867878c7cab9",
   "metadata": {},
   "outputs": [],
   "source": [
    "Z = df_treatment.to_numpy()\n",
    "X = Z[:, [0, 1, 2, 6]] #- 1\n",
    "y = Z[:, 3] / 100 # (np.max(y) - np.min(y))\n",
    "y = y.reshape((-1, 1))\n",
    "\n",
    "M = 4\n",
    "# R = np.array([3, 4, 3])\n",
    "# R = np.array([4, 5, 4, 3])\n",
    "R = np.array([4, 5, 4, 2])\n",
    "\n",
    "num_data = X.shape[0]\n",
    "\n",
    "if R[3] == 2:\n",
    "    X[:, 3] -= 1\n",
    "\n",
    "\n",
    "\n",
    "num_profiles = 2**M\n",
    "profiles, profile_map = tva.enumerate_profiles(M)\n",
    "\n",
    "all_policies = tva.enumerate_policies(M, R)\n",
    "num_policies = len(all_policies)"
   ]
  },
  {
   "cell_type": "code",
   "execution_count": 69,
   "id": "b2f526eb-a887-4e7f-9974-e59ff5384c41",
   "metadata": {},
   "outputs": [],
   "source": [
    "policies_ids_map = {}\n",
    "for idx, pol in enumerate(all_policies):\n",
    "    policies_ids_map[pol] = idx"
   ]
  },
  {
   "cell_type": "code",
   "execution_count": 7,
   "id": "a2df6162-4b95-40f2-994a-45e1074f75d1",
   "metadata": {},
   "outputs": [],
   "source": [
    "policies_profiles = {}\n",
    "policies_profiles_masked = {}\n",
    "policies_ids_profiles = {}\n",
    "for k, profile in enumerate(profiles):\n",
    "\n",
    "    policies_temp = [(i, x) for i, x in enumerate(all_policies) if tva.policy_to_profile(x) == profile]\n",
    "    unzipped_temp = list(zip(*policies_temp))\n",
    "    policies_ids_k = list(unzipped_temp[0])\n",
    "    policies_k = list(unzipped_temp[1])\n",
    "    policies_profiles[k] = deepcopy(policies_k)\n",
    "    policies_ids_profiles[k] = policies_ids_k\n",
    "\n",
    "    profile_mask = list(map(bool, profile))\n",
    "\n",
    "    # Mask the empty arms\n",
    "    for idx, pol in enumerate(policies_k):\n",
    "        policies_k[idx] = tuple([pol[i] for i in range(M) if profile_mask[i]])\n",
    "    policies_profiles_masked[k] = policies_k"
   ]
  },
  {
   "cell_type": "code",
   "execution_count": null,
   "id": "97ed3dd8-894b-4bc4-85a6-68df7e0f0278",
   "metadata": {},
   "outputs": [],
   "source": []
  },
  {
   "cell_type": "markdown",
   "id": "f8c72d5f-a3a1-4842-9c1d-44600a99a768",
   "metadata": {},
   "source": [
    "Setup the data and compute policy-wise means"
   ]
  },
  {
   "cell_type": "code",
   "execution_count": 8,
   "id": "67238000-6ba2-455b-a05c-22a519d2ed6f",
   "metadata": {},
   "outputs": [],
   "source": [
    "D = np.zeros(shape=y.shape, dtype=np.int64)\n",
    "profiles_in_data = []\n",
    "for i in range(num_data):\n",
    "    policy_i = tuple([int(x) for x in X[i, :]])\n",
    "    policy_idx = [idx for idx in range(num_policies) if all_policies[idx] == policy_i]\n",
    "    profiles_in_data.append(tva.policy_to_profile(policy_i))\n",
    "    D[i, 0] = int(policy_idx[0])\n",
    "\n",
    "policy_means = loss.compute_policy_means(D, y, num_policies)"
   ]
  },
  {
   "cell_type": "code",
   "execution_count": 9,
   "id": "29f04a8d-c411-44fb-8f66-f794995b5249",
   "metadata": {},
   "outputs": [
    {
     "name": "stdout",
     "output_type": "stream",
     "text": [
      "0.022086720867208667\n"
     ]
    },
    {
     "data": {
      "text/plain": [
       "(array([95]),)"
      ]
     },
     "execution_count": 9,
     "metadata": {},
     "output_type": "execute_result"
    }
   ],
   "source": [
    "nodata_idx = np.where(policy_means[:, 1] == 0)[0]\n",
    "policy_means[nodata_idx, 0] = -np.inf\n",
    "policy_means[nodata_idx, 1] = 1\n",
    "mu_policies = policy_means[:, 0] / policy_means[:, 1]\n",
    "\n",
    "true_best_eff = np.max(mu_policies)\n",
    "print(true_best_eff)\n",
    "np.where(mu_policies == true_best_eff)"
   ]
  },
  {
   "cell_type": "code",
   "execution_count": null,
   "id": "bfc00509-ec31-48a7-9ee1-81a29bebb8eb",
   "metadata": {},
   "outputs": [],
   "source": []
  },
  {
   "cell_type": "code",
   "execution_count": null,
   "id": "7ada5395-22bc-44bb-bfd3-875053d770d9",
   "metadata": {},
   "outputs": [],
   "source": []
  },
  {
   "cell_type": "code",
   "execution_count": null,
   "id": "a26fec9e-8898-4176-ae25-4de6cc34bd53",
   "metadata": {},
   "outputs": [],
   "source": []
  },
  {
   "cell_type": "code",
   "execution_count": null,
   "id": "c1176842-0688-4b9d-b420-da7d2706c7fa",
   "metadata": {},
   "outputs": [],
   "source": []
  },
  {
   "cell_type": "markdown",
   "id": "e1058072-c36a-46d6-8c70-4abaeb35c6f7",
   "metadata": {},
   "source": [
    "Run the Rashomon set"
   ]
  },
  {
   "cell_type": "code",
   "execution_count": 25,
   "id": "48e18386-309e-4b9e-ac4f-abab23dc1048",
   "metadata": {},
   "outputs": [
    {
     "name": "stdout",
     "output_type": "stream",
     "text": [
      "8271\n"
     ]
    }
   ],
   "source": [
    "reg = 1e-7\n",
    "# q_0 =  0.0075562069110773206\n",
    "q =  0.007558\n",
    "R_set, R_profiles = RAggregate(M, R, np.inf, D, y, q, reg=reg, bruteforce=True)\n",
    "# R_set, rashomon_profiles = RAggregate(M, R, 10, D, y, q, reg=reg)\n",
    "\n",
    "print(len(R_set))"
   ]
  },
  {
   "cell_type": "code",
   "execution_count": 27,
   "id": "187f2dc6-c54a-48ad-9087-1ae1ae1a0355",
   "metadata": {},
   "outputs": [
    {
     "name": "stdout",
     "output_type": "stream",
     "text": [
      "Best model loss 0.0075562069110773206\n"
     ]
    }
   ],
   "source": [
    "# best_profile_counter = np.zeros(shape=(num_profiles,))\n",
    "\n",
    "model_losses = []\n",
    "model_sizes = []\n",
    "# model_mses = []\n",
    "# model_best_eff = []\n",
    "\n",
    "# model_pool_means = []\n",
    "# model_pools = []\n",
    "# model_policy_pool_map = []\n",
    "\n",
    "# best_loss = np.inf\n",
    "# best_policy_o = None\n",
    "\n",
    "for r_set in R_set:\n",
    "    pi_policies_profiles_r = {}\n",
    "\n",
    "    loss_r = 0\n",
    "    size_r = 0\n",
    "    \n",
    "    for profile, model_prof in enumerate(r_set):\n",
    "        sigma_r_prof = R_profiles[profile].sigma[model_prof]\n",
    "        loss_r_prof = R_profiles[profile].loss[model_prof]\n",
    "        size_r_prof = R_profiles[profile].pools[model_prof]\n",
    "\n",
    "        loss_r += loss_r_prof\n",
    "\n",
    "        if sigma_r_prof is None and loss_r_prof == 0:\n",
    "            # pi_policies_r_k = {i: None for i in range(len(policies_profiles_masked[k]))}\n",
    "            pass\n",
    "        else:\n",
    "            size_r += size_r_prof\n",
    "            # _, pi_policies_r_k = extract_pools.extract_pools(policies_profiles_masked[profile], sigma_r_prof)\n",
    "        \n",
    "        # pi_policies_profiles_r[profile] = pi_policies_r_k\n",
    "    # print(pi_policies_r)\n",
    "    # pi_pools_r, pi_policies_r = extract_pools.aggregate_pools(pi_policies_profiles_r, policies_ids_profiles)\n",
    "    # pool_means_r = loss.compute_pool_means(policy_means, pi_pools_r)\n",
    "    # print(pi_pools_r)\n",
    "    # print(pool_means_r)\n",
    "\n",
    "    # mse_r = loss_r - reg * size_r\n",
    "    \n",
    "    model_losses.append(loss_r)\n",
    "    model_sizes.append(size_r)\n",
    "    # model_mses.append(mse_r)\n",
    "    # model_best_eff.append(np.nanmax(pool_means_r))\n",
    "    # model_pool_means.append(pool_means_r)\n",
    "    # model_pools.append(pi_pools_r)\n",
    "    # model_policy_pool_map.append(pi_policies_r)\n",
    "    # y_pred_r = metrics.make_predictions(D, pi_policies_r, pool_means_r)\n",
    "    \n",
    "    # best_pools = np.argwhere(pool_means_r == np.max(pool_means_r))[0]\n",
    "    # best_pools = np.argwhere(pool_means_r == np.nanmax(pool_means_r))[0]\n",
    "\n",
    "    # for best_pool in best_pools:\n",
    "    #     best_policy_id = pi_pools_r[best_pool][0]\n",
    "    #     best_policy = all_policies[best_policy_id]\n",
    "    #     best_profile = tva.policy_to_profile(best_policy)\n",
    "    #     profile_id = profile_map[best_profile]\n",
    "\n",
    "    #     best_profile_counter[profile_id] += 1\n",
    "        \n",
    "    #     if loss_r < best_loss:\n",
    "    #         best_loss = loss_r\n",
    "    #         best_policy_o = best_policy\n",
    "    #         print(best_loss, best_policy, size_r)\n",
    "    #         # for k, v in pi_pools_r.items():\n",
    "    #         #     print(k, \":\", [all_policies[x] for x in v], v)\n",
    "    #         #     print(pool_means_r[k])\n",
    "    #         # print(\"---\")\n",
    "\n",
    "# best_profile_freq = best_profile_counter / np.sum(best_profile_counter)\n",
    "\n",
    "model_losses = np.array(model_losses)\n",
    "model_sizes = np.array(model_sizes)\n",
    "\n",
    "q_0 = np.min(model_losses)\n",
    "\n",
    "model_post_prob = np.exp(-model_losses)\n",
    "\n",
    "print(f\"Best model loss {q_0}\")"
   ]
  },
  {
   "cell_type": "code",
   "execution_count": 28,
   "id": "7e1d4c6b-044a-4cc9-b911-f14cba8c6814",
   "metadata": {},
   "outputs": [
    {
     "name": "stdout",
     "output_type": "stream",
     "text": [
      "Epsilon = 0.00023728828097069332\n"
     ]
    }
   ],
   "source": [
    "epsilon_est = np.max(model_losses) / np.min(model_losses) - 1\n",
    "print(f\"Epsilon = {epsilon_est}\")"
   ]
  },
  {
   "cell_type": "code",
   "execution_count": 12,
   "id": "0f1aadcc-8fef-4e7e-9d63-39bb5f60854b",
   "metadata": {},
   "outputs": [],
   "source": [
    "for i in range(len(model_losses)):\n",
    "    if model_sizes[i] > 10 or model_losses[i] > q_0:\n",
    "        continue\n",
    "\n",
    "    sqrd_err_best_pol_i = (model_best_eff[i] - true_best_eff)**2\n",
    "    log_post_ratio = np.exp(- model_losses[i]) / np.exp(-best_loss)\n",
    "\n",
    "    print(f\"{model_sizes[i]}: {model_mses[i]:.5e} ({model_losses[i]:.5e}) & {sqrd_err_best_pol_i:.3e} & {log_post_ratio:.6e}\")"
   ]
  },
  {
   "cell_type": "code",
   "execution_count": null,
   "id": "24e60ee4-c562-4c2e-9189-08ae075675c5",
   "metadata": {},
   "outputs": [],
   "source": []
  },
  {
   "cell_type": "code",
   "execution_count": null,
   "id": "d9553a03-c8c2-45ab-b1f2-280cc53bd881",
   "metadata": {},
   "outputs": [],
   "source": []
  },
  {
   "cell_type": "markdown",
   "id": "8d7bac29-855d-4fcf-b281-2810dabd2c51",
   "metadata": {},
   "source": [
    "Pooling red and blue states\n",
    "\n",
    "1. \"Treatment\" -> Red\n",
    "2. \"Control\" -> Blue"
   ]
  },
  {
   "cell_type": "code",
   "execution_count": 122,
   "id": "f8f97d43-311c-44f3-a280-23c4a7a57294",
   "metadata": {},
   "outputs": [
    {
     "name": "stdout",
     "output_type": "stream",
     "text": [
      "Working on feature profile (0, 0, 0, 'x')\n",
      "Working on feature profile (0, 0, 1, 'x')\n",
      "Working on feature profile (0, 1, 0, 'x')\n",
      "Working on feature profile (0, 1, 1, 'x')\n",
      "Working on feature profile (1, 0, 0, 'x')\n",
      "Working on feature profile (1, 0, 1, 'x')\n",
      "Working on feature profile (1, 1, 0, 'x')\n",
      "Working on feature profile (1, 1, 1, 'x')\n"
     ]
    }
   ],
   "source": [
    "# profiles_x, profiles_x_map = tva.enumerate_profiles(M-1)\n",
    "\n",
    "# te_rashomon_profiles = [[]] * len(profiles_x)\n",
    "\n",
    "# trt_arm_idx = 3\n",
    "\n",
    "# for x, profile_x in enumerate(profiles_x):\n",
    "#     print(f\"Working on feature profile {tuple(list(profile_x) + ['x'])}\")\n",
    "#     te_rashomon_x = []\n",
    "#     seen_pairs_bytes = []\n",
    "\n",
    "#     trt_profile = tuple(list(profile_x) + [1])\n",
    "#     ctl_profile = tuple(list(profile_x) + [0])\n",
    "\n",
    "#     trt_profile_idx = profile_map[trt_profile]\n",
    "#     ctl_profile_idx = profile_map[ctl_profile]\n",
    "\n",
    "#     trt_policies_ids = policies_ids_profiles[trt_profile_idx]\n",
    "#     ctl_policies_ids = policies_ids_profiles[ctl_profile_idx]\n",
    "#     tc_policies_ids = trt_policies_ids + ctl_policies_ids\n",
    "\n",
    "#     trt_policies = policies_profiles_masked[trt_profile_idx]\n",
    "#     ctl_policies = policies_profiles_masked[ctl_profile_idx]\n",
    "\n",
    "#     # Subset data\n",
    "#     mask = np.isin(D, tc_policies_ids)\n",
    "#     D_tc = D[mask].reshape((-1, 1))\n",
    "#     y_tc = y[mask].reshape((-1, 1))\n",
    "\n",
    "#     for R_est_idx, R_set_i in enumerate(R_set):\n",
    "#         # Get treatment and control partitions\n",
    "#         sigma_trt_R_set_idx = R_set_i[trt_profile_idx]\n",
    "#         sigma_trt_i = R_profiles[trt_profile_idx].sigma[sigma_trt_R_set_idx]\n",
    "#         sigma_ctl_R_set_idx = R_set_i[ctl_profile_idx]\n",
    "#         sigma_ctl_i = R_profiles[ctl_profile_idx].sigma[sigma_ctl_R_set_idx]\n",
    "\n",
    "#         if sigma_trt_i is None:\n",
    "#             trt_bytes_rep = str.encode(\"None\")\n",
    "#         else:\n",
    "#             trt_bytes_rep = sigma_trt_i.tobytes()\n",
    "#         if sigma_ctl_i is None:\n",
    "#             ctl_bytes_rep = str.encode(\"None\")\n",
    "#         else:\n",
    "#             ctl_bytes_rep = sigma_ctl_i.tobytes()\n",
    "#         bytes_rep = trt_bytes_rep + ctl_bytes_rep\n",
    "\n",
    "#         if bytes_rep in seen_pairs_bytes:\n",
    "#             continue\n",
    "#         seen_pairs_bytes.append(bytes_rep)\n",
    "\n",
    "#         # if sigma_trt_i is None or sigma_ctl_i is None:\n",
    "#         #     te_rashomon_x_i = RashomonSet(shape=None)\n",
    "#         #     te_rashomon_x_i.P_qe = [None]\n",
    "#         #     Q_ctl = R_profiles[trt_profile_idx].Q[sigma_trt_R_set_idx]\n",
    "#         #     Q_trt = R_profiles[ctl_profile_idx].Q[sigma_ctl_R_set_idx]\n",
    "#         #     te_rashomon_x_i.Q = np.append(te_rashomon_x_i.Q, Q_ctl + Q_trt)\n",
    "\n",
    "#         # else:\n",
    "#         #     # if sigma_trt_i is None:\n",
    "#         #     #     print(\"Trt is None\")\n",
    "#         #     #     print(policies_ids_profiles[trt_profile_idx])\n",
    "#         #     #     print(policies_ids_profiles[ctl_profile_idx])\n",
    "#         #     #     print(tc_policies_ids)\n",
    "#         #     #     print(D_tc.shape)\n",
    "#         #     #     print(R)\n",
    "#         #     # if sigma_ctl_i is None:\n",
    "#         #     #     print(\"Ctl is None\")\n",
    "#         #     te_rashomon_x_i = find_te_het_partitions(\n",
    "#         #         sigma_trt_i, sigma_ctl_i, trt_profile_idx, ctl_profile_idx, trt_policies, ctl_policies,\n",
    "#         #         trt_arm_idx, all_policies, policies_ids_profiles,\n",
    "#         #         D_tc, y_tc, policy_means,\n",
    "#         #         theta=q, reg=reg, normalize=num_data\n",
    "#         #     )\n",
    "\n",
    "#         # print(R_est_idx, len(te_rashomon_x_i.sigma))\n",
    "#         # for idx, sigma_idx in enumerate(te_rashomon_x_i.sigma):\n",
    "#         #     q_idx = te_rashomon_x_i.Q[idx]\n",
    "#         #     te_rashomon_x.append((sigma_idx, q_idx, sigma_trt_i, sigma_ctl_i))\n",
    "\n",
    "#     # te_rashomon_profiles[x] = te_rashomon_x"
   ]
  },
  {
   "cell_type": "code",
   "execution_count": null,
   "id": "e05a1d64-2c9f-45e0-897a-008bc822189c",
   "metadata": {},
   "outputs": [],
   "source": []
  },
  {
   "cell_type": "code",
   "execution_count": null,
   "id": "87795c54-858c-4f44-9d5e-d762162df972",
   "metadata": {},
   "outputs": [],
   "source": []
  },
  {
   "cell_type": "code",
   "execution_count": null,
   "id": "8619861b-98cf-4f96-a405-54fcf706a283",
   "metadata": {},
   "outputs": [],
   "source": []
  },
  {
   "cell_type": "markdown",
   "id": "66f4da8b-e605-4e3c-9b54-365546549791",
   "metadata": {},
   "source": [
    "### Analyzing the rashomon set\n",
    "\n",
    "First, we study model sizes"
   ]
  },
  {
   "cell_type": "code",
   "execution_count": 36,
   "id": "3afad8a8-5151-4572-9a18-88bd1a8fcc4a",
   "metadata": {},
   "outputs": [
    {
     "name": "stdout",
     "output_type": "stream",
     "text": [
      "-7.552713265414752e-07\n"
     ]
    }
   ],
   "source": [
    "R_set_pruned = []\n",
    "model_losses_2 = []\n",
    "model_sizes_2 = []\n",
    "# model_mses_2 = []\n",
    "# model_best_eff_2 = []\n",
    "# model_pool_means_2 = []\n",
    "# model_pools_2 = []\n",
    "# model_policy_pool_map_2 = []\n",
    "\n",
    "eps_pruned = 1e-4\n",
    "threshold = q_0 * (1 + eps_pruned)\n",
    "\n",
    "for i in range(len(R_set)):\n",
    "    if model_losses[i] > threshold:\n",
    "        continue\n",
    "\n",
    "    R_set_pruned.append(R_set[i])\n",
    "    model_losses_2.append(model_losses[i])\n",
    "    model_sizes_2.append(model_sizes[i])\n",
    "    # model_mses_2.append(model_mses[i])\n",
    "    # model_best_eff_2.append(model_best_eff[i])\n",
    "    # model_pool_means_2.append(model_pool_means[i])\n",
    "    # model_pools_2.append(model_pools[i])\n",
    "    # model_policy_pool_map_2.append(model_policy_pool_map[i])\n",
    "\n",
    "model_losses_2 = np.array(model_losses_2)\n",
    "model_sizes_2 = np.array(model_sizes_2)\n",
    "model_post_prob_2 = np.exp(-model_losses_2)\n",
    "\n",
    "rel_post_prob_ratio_2 = (model_post_prob_2 - np.max(model_post_prob)) / np.max(model_post_prob)\n",
    "\n",
    "min_post_prob_ratio_2 = np.min(rel_post_prob_ratio_2)\n",
    "\n",
    "print(min_post_prob_ratio_2)"
   ]
  },
  {
   "cell_type": "code",
   "execution_count": 122,
   "id": "a8ceb6fd-ed38-4fcd-991f-646d46d3d647",
   "metadata": {},
   "outputs": [
    {
     "data": {
      "image/png": "[encoded data removed]",
      "text/plain": [
       "<Figure size 500x500 with 1 Axes>"
      ]
     },
     "metadata": {},
     "output_type": "display_data"
    }
   ],
   "source": [
    "fig, ax = plt.subplots(figsize=(5,5))\n",
    "\n",
    "ax.spines[['right', 'top']].set_visible(False)\n",
    "\n",
    "ax.hist(model_sizes,\n",
    "        color=\"grey\", edgecolor=\"black\")\n",
    "\n",
    "ax.set_xlabel(\"Model complexity\")\n",
    "ax.set_ylabel(\"\")\n",
    "ax.set_title(\"\")\n",
    "\n",
    "# ax.legend(loc=\"center left\", bbox_to_anchor=(1, 0.5))\n",
    "\n",
    "# plt.savefig(\"../Figures/price_charity/rset_size_dist_full.png\", dpi=300, bbox_inches=\"tight\")\n",
    "# plt.savefig(\"../Figures/price_charity/rset_size_dist_poster.pdf\", dpi=600, bbox_inches=\"tight\")\n",
    "plt.show()"
   ]
  },
  {
   "cell_type": "code",
   "execution_count": 38,
   "id": "f9fa60d5-034e-4301-968a-32d54a9e0704",
   "metadata": {},
   "outputs": [],
   "source": [
    "scaled_post_prob = model_post_prob - np.min(model_post_prob)\n",
    "scaled_post_prob = model_post_prob / np.max(model_post_prob)\n",
    "\n",
    "rel_post_prob_ratio = (model_post_prob - np.max(model_post_prob)) / np.max(model_post_prob)"
   ]
  },
  {
   "cell_type": "code",
   "execution_count": 49,
   "id": "1bf59e78-5c83-49ab-8676-59c630e50725",
   "metadata": {},
   "outputs": [],
   "source": []
  },
  {
   "cell_type": "code",
   "execution_count": 123,
   "id": "0bc87ffa-b237-44b9-ba30-a5572d4e394a",
   "metadata": {},
   "outputs": [
    {
     "data": {
      "image/png": "[encoded data removed]",
      "text/plain": [
       "<Figure size 600x500 with 2 Axes>"
      ]
     },
     "metadata": {},
     "output_type": "display_data"
    }
   ],
   "source": [
    "fig, ax = plt.subplots(figsize=(6,5))\n",
    "\n",
    "h = ax.hist2d(model_sizes, rel_post_prob_ratio, norm=colors.LogNorm(),\n",
    "              # vmin=0, vmax=77,\n",
    "             cmap=\"OrRd\")\n",
    "\n",
    "ax.plot([-2, 80], [min_post_prob_ratio_2, min_post_prob_ratio_2],\n",
    "       color=\"black\", linestyle=\"--\", linewidth=2)\n",
    "\n",
    "\n",
    "cb = fig.colorbar(h[3], norm=colors.NoNorm, ax=ax)\n",
    "ticks = [1, 10, 100, 250, 700]\n",
    "cb.set_ticks(ticks)\n",
    "cb.set_ticklabels(ticks)\n",
    "\n",
    "ax.set_xlabel(\"Model complexity\")\n",
    "ax.set_ylabel(\"Relative posterior probability ratio\")\n",
    "\n",
    "\n",
    "# plt.savefig(\"../Figures/price_charity/rset_2d_hist_cutoff.png\", dpi=300, bbox_inches=\"tight\")\n",
    "# plt.savefig(\"../Figures/price_charity/rset_2d_hist_full.png\", dpi=300, bbox_inches=\"tight\")\n",
    "# plt.savefig(\"../Figures/price_charity/rset_2d_hist_poster.pdf\", dpi=600, bbox_inches=\"tight\")\n",
    "plt.show()"
   ]
  },
  {
   "cell_type": "code",
   "execution_count": null,
   "id": "52b8fc59-e583-44b5-853a-69018e7cd5b3",
   "metadata": {},
   "outputs": [],
   "source": []
  },
  {
   "cell_type": "code",
   "execution_count": 45,
   "id": "c60dab2a-ec65-4525-8226-6f0c0e0b2343",
   "metadata": {},
   "outputs": [
    {
     "data": {
      "image/png": "[encoded data removed]",
      "text/plain": [
       "<Figure size 500x500 with 1 Axes>"
      ]
     },
     "metadata": {},
     "output_type": "display_data"
    }
   ],
   "source": [
    "fig, ax = plt.subplots(figsize=(5,5))\n",
    "\n",
    "ax.spines[['right', 'top']].set_visible(False)\n",
    "\n",
    "ax.hist(model_sizes_2,\n",
    "        color=\"grey\", edgecolor=\"black\")\n",
    "\n",
    "ax.set_xlabel(\"Model complexity\")\n",
    "ax.set_ylabel(\"\")\n",
    "ax.set_title(\"\")\n",
    "\n",
    "# ax.legend(loc=\"center left\", bbox_to_anchor=(1, 0.5))\n",
    "\n",
    "# plt.savefig(\"../Figures/price_charity/rset_size_dist.png\", dpi=300, bbox_inches=\"tight\")\n",
    "# plt.savefig(\"../Figures/price_charity/rset_size_dist_poster.pdf\", dpi=600, bbox_inches=\"tight\")\n",
    "plt.show()"
   ]
  },
  {
   "cell_type": "code",
   "execution_count": 124,
   "id": "c4e1cfb3-47b2-4dee-8591-0406916e9823",
   "metadata": {},
   "outputs": [
    {
     "data": {
      "image/png": "[encoded data removed]",
      "text/plain": [
       "<Figure size 600x500 with 2 Axes>"
      ]
     },
     "metadata": {},
     "output_type": "display_data"
    }
   ],
   "source": [
    "fig, ax = plt.subplots(figsize=(6,5))\n",
    "\n",
    "h = ax.hist2d(model_sizes_2, rel_post_prob_ratio_2, norm=colors.LogNorm(),\n",
    "             cmap=\"OrRd\")\n",
    "\n",
    "cb = fig.colorbar(h[3], norm=colors.NoNorm, ax=ax)\n",
    "cb.update_ticks()\n",
    "ticks = [1, 10, 50]\n",
    "cb.set_ticks(ticks)\n",
    "cb.set_ticklabels(ticks)\n",
    "\n",
    "ax.set_xlabel(\"Model complexity\")\n",
    "ax.set_ylabel(\"Relative posterior probability ratio\")\n",
    "\n",
    "\n",
    "# plt.savefig(\"../Figures/price_charity/rset_2d_hist.png\", dpi=300, bbox_inches=\"tight\")\n",
    "# plt.savefig(\"../Figures/price_charity/rset_2d_hist_poster.pdf\", dpi=600, bbox_inches=\"tight\")\n",
    "plt.show()"
   ]
  },
  {
   "cell_type": "code",
   "execution_count": null,
   "id": "d483a1d2-b5f0-4de0-bd9b-199000557521",
   "metadata": {},
   "outputs": [],
   "source": []
  },
  {
   "cell_type": "code",
   "execution_count": null,
   "id": "4f834488-10ae-41af-a2ff-bd325f3b2a15",
   "metadata": {},
   "outputs": [],
   "source": []
  },
  {
   "cell_type": "markdown",
   "id": "0e96f702-3c7e-493e-92e0-942a925a5fa4",
   "metadata": {},
   "source": [
    "Next, we look at the most common splits"
   ]
  },
  {
   "cell_type": "code",
   "execution_count": 48,
   "id": "987ca874-1d0d-4c14-a98f-e38a4205019b",
   "metadata": {},
   "outputs": [
    {
     "name": "stdout",
     "output_type": "stream",
     "text": [
      "(1, 1, 1, 0)\n",
      "(1, 1, 1, 1)\n"
     ]
    }
   ],
   "source": [
    "print(profiles[14])\n",
    "print(profiles[15])"
   ]
  },
  {
   "cell_type": "code",
   "execution_count": 49,
   "id": "8c496559-1fb8-44eb-872d-0e77cef327eb",
   "metadata": {},
   "outputs": [],
   "source": [
    "# splits_1 = np.zeros(rashomon_profiles[1].sigma[0].shape)\n",
    "splits_1 = np.zeros(R_profiles[14].sigma[0].shape)\n",
    "splits_2 = np.zeros(R_profiles[15].sigma[0].shape)\n",
    "\n",
    "price_match_1 = 0\n",
    "price_match_2 = 0\n",
    "\n",
    "for r_set in R_set_pruned:\n",
    "    idx_1 = r_set[1]\n",
    "    idx_2 = r_set[15]\n",
    "\n",
    "    splits_1 += np.abs(R_profiles[14].sigma[idx_1] - 1)\n",
    "    splits_2 += np.abs(R_profiles[15].sigma[idx_2] - 1)\n",
    "\n",
    "    price_match_1 += np.ma.masked_invalid(R_profiles[14].sigma[idx_1][0,:]).max()\n",
    "    price_match_2 += np.ma.masked_invalid(R_profiles[14].sigma[idx_2][0,:]).max()\n",
    "\n",
    "splits_1 = splits_1 / len(R_set_pruned) * 100\n",
    "splits_2 = splits_2 / len(R_set_pruned) * 100\n",
    "\n",
    "price_match_1 = price_match_1 / len(R_set_pruned) * 100\n",
    "price_match_2 = price_match_2 / len(R_set_pruned) * 100"
   ]
  },
  {
   "cell_type": "code",
   "execution_count": 50,
   "id": "f8de08b4-bbc7-4dbc-86c0-36299f9dec33",
   "metadata": {},
   "outputs": [
    {
     "data": {
      "text/plain": [
       "(array([[  0., 100.,  inf],\n",
       "        [100.,   0.,   0.],\n",
       "        [100.,   0.,  inf]]),\n",
       " 100.0)"
      ]
     },
     "execution_count": 50,
     "metadata": {},
     "output_type": "execute_result"
    }
   ],
   "source": [
    "splits_1, price_match_1"
   ]
  },
  {
   "cell_type": "code",
   "execution_count": 51,
   "id": "bf06c06e-de9c-4e8b-a4f5-5198e8821488",
   "metadata": {},
   "outputs": [
    {
     "data": {
      "text/plain": [
       "(array([[ 60.97560976,  55.12195122,          inf],\n",
       "        [100.        ,  21.13821138,  87.15447154],\n",
       "        [ 72.5203252 ,  97.07317073,          inf],\n",
       "        [         inf,          inf,          inf]]),\n",
       " 64.0650406504065)"
      ]
     },
     "execution_count": 51,
     "metadata": {},
     "output_type": "execute_result"
    }
   ],
   "source": [
    "splits_2, price_match_2"
   ]
  },
  {
   "cell_type": "code",
   "execution_count": null,
   "id": "33c5d8f0-d4b7-4b5a-abf0-8a1e86e3b95e",
   "metadata": {},
   "outputs": [],
   "source": []
  },
  {
   "cell_type": "markdown",
   "id": "0ba3b3bf-ca86-4599-bad5-eb1c93728939",
   "metadata": {},
   "source": [
    "Price match slopes"
   ]
  },
  {
   "cell_type": "code",
   "execution_count": 88,
   "id": "a36f859a-e787-46ba-8393-78f418a3faae",
   "metadata": {},
   "outputs": [],
   "source": [
    "zer_middle_policies = tva.enumerate_policies(2, [5, 4])\n",
    "middle_policies = []\n",
    "for pol in zer_middle_policies:\n",
    "    if pol[0] > 0 and pol[1] > 0:\n",
    "        middle_policies.append(pol)\n",
    "\n",
    "dems_price_match_2 = np.zeros((len(middle_policies), 3))\n",
    "dems_price_match_3 = np.zeros((len(middle_policies), 3))\n",
    "reps_price_match_2 = np.zeros((len(middle_policies), 3))\n",
    "reps_price_match_3 = np.zeros((len(middle_policies), 3))\n",
    "    \n",
    "# print(middle_policies)\n",
    "\n",
    "\n",
    "for r, r_set in enumerate(R_set_pruned):\n",
    "\n",
    "\n",
    "\n",
    "    pi_policies_profiles_r = {}\n",
    "    for profile, model_prof in enumerate(r_set):\n",
    "        sigma_r_prof = R_profiles[profile].sigma[model_prof]\n",
    "        loss_r_prof = R_profiles[profile].loss[model_prof]\n",
    "        # size_r_prof = R_profiles[profile].pools[model_prof]\n",
    "    \n",
    "        if profile == 14 and np.ma.masked_invalid(sigma_r_prof[0, :]).max() == 1:\n",
    "            consider_dem = True\n",
    "            \n",
    "        if profile == 15 and np.ma.masked_invalid(sigma_r_prof[0, :]).max() == 1:\n",
    "            consider_rep = True\n",
    "            \n",
    "    \n",
    "        # loss_r += loss_r_prof\n",
    "    \n",
    "        if sigma_r_prof is None and loss_r_prof == 0:\n",
    "            pi_policies_r_k = {i: None for i in range(len(policies_profiles_masked[k]))}\n",
    "            # pass\n",
    "        else:\n",
    "            # size_r += size_r_prof\n",
    "            _, pi_policies_r_k = extract_pools.extract_pools(policies_profiles_masked[profile], sigma_r_prof)\n",
    "        \n",
    "        pi_policies_profiles_r[profile] = pi_policies_r_k\n",
    "    # print(pi_policies_r)\n",
    "    pi_pools_r, pi_policies_r = extract_pools.aggregate_pools(pi_policies_profiles_r, policies_ids_profiles)\n",
    "    pool_means_r = loss.compute_pool_means(policy_means, pi_pools_r)\n",
    "    \n",
    "    # if consider_dem:\n",
    "    for idx, middle_pol in enumerate(middle_policies):\n",
    "        middle_pol = list(middle_pol)\n",
    "    \n",
    "        dem_id = 0\n",
    "        \n",
    "        price_match_1_pol = tuple([1] + middle_pol + [dem_id])\n",
    "        price_match_2_pol = tuple([2] + middle_pol + [dem_id])\n",
    "        price_match_3_pol = tuple([3] + middle_pol + [dem_id])\n",
    "        \n",
    "        price_match_1_id = policies_ids_map[price_match_1_pol]\n",
    "        price_match_2_id = policies_ids_map[price_match_2_pol]\n",
    "        price_match_3_id = policies_ids_map[price_match_3_pol]\n",
    "        \n",
    "        price_match_1_pool = pi_policies_r[price_match_1_id]\n",
    "        price_match_2_pool = pi_policies_r[price_match_2_id]\n",
    "        price_match_3_pool = pi_policies_r[price_match_3_id]\n",
    "        \n",
    "        price_match_2_eff = pool_means_r[price_match_2_pool] - pool_means_r[price_match_1_pool]\n",
    "        price_match_3_eff = pool_means_r[price_match_3_pool] - pool_means_r[price_match_1_pool]\n",
    "    \n",
    "        if price_match_2_eff > 0:\n",
    "            dems_price_match_2[idx, 0] += 1\n",
    "        elif price_match_2_eff < 0:\n",
    "            dems_price_match_2[idx, 2] += 1\n",
    "        else:\n",
    "            dems_price_match_2[idx, 1] += 1\n",
    "            \n",
    "        if price_match_3_eff > 0:\n",
    "            dems_price_match_3[idx, 0] += 1\n",
    "        elif price_match_3_eff < 0:\n",
    "            dems_price_match_3[idx, 2] += 1\n",
    "        else:\n",
    "            dems_price_match_3[idx, 1] += 1\n",
    "    \n",
    "            \n",
    "    \n",
    "        rep_id = 1\n",
    "        \n",
    "        price_match_1_pol = tuple([1] + middle_pol + [rep_id])\n",
    "        price_match_2_pol = tuple([2] + middle_pol + [rep_id])\n",
    "        price_match_3_pol = tuple([3] + middle_pol + [rep_id])\n",
    "        \n",
    "        price_match_1_id = policies_ids_map[price_match_1_pol]\n",
    "        price_match_2_id = policies_ids_map[price_match_2_pol]\n",
    "        price_match_3_id = policies_ids_map[price_match_3_pol]\n",
    "        \n",
    "        price_match_1_pool = pi_policies_r[price_match_1_id]\n",
    "        price_match_2_pool = pi_policies_r[price_match_2_id]\n",
    "        price_match_3_pool = pi_policies_r[price_match_3_id]\n",
    "        \n",
    "        price_match_2_eff = pool_means_r[price_match_2_pool] - pool_means_r[price_match_1_pool]\n",
    "        price_match_3_eff = pool_means_r[price_match_3_pool] - pool_means_r[price_match_1_pool]\n",
    "    \n",
    "        if price_match_2_eff > 0:\n",
    "            reps_price_match_2[idx, 0] += 1\n",
    "        elif price_match_2_eff < 0:\n",
    "            reps_price_match_2[idx, 2] += 1\n",
    "        else:\n",
    "            reps_price_match_2[idx, 1] += 1\n",
    "            \n",
    "        if price_match_3_eff > 0:\n",
    "            reps_price_match_3[idx, 0] += 1\n",
    "        elif price_match_3_eff < 0:\n",
    "            reps_price_match_3[idx, 2] += 1\n",
    "        else:\n",
    "            reps_price_match_3[idx, 1] += 1\n",
    "                \n",
    "\n",
    "\n",
    "dems_price_match_2 /= len(R_set_pruned)\n",
    "dems_price_match_3 /= len(R_set_pruned)\n",
    "reps_price_match_2 /= len(R_set_pruned)\n",
    "reps_price_match_3 /= len(R_set_pruned)"
   ]
  },
  {
   "cell_type": "code",
   "execution_count": 106,
   "id": "66a46826-79f8-4a25-a32c-842ef9dfe204",
   "metadata": {},
   "outputs": [],
   "source": [
    "plots_matrices = [[dems_price_match_2.T, dems_price_match_3.T],\n",
    "                  [reps_price_match_2.T, reps_price_match_3.T]]\n",
    "\n",
    "titles = [[\"\\$2:\\$1 (Democrat)\", \"\\$3:\\$1 (Democrat)\"],\n",
    "          [\"\\$2:\\$1 (Republican)\", \"\\$3:\\$1 (Republican)\"]\n",
    "         ]\n",
    "\n",
    "labels_size = {1: \"\\$25k\", 2: \"\\$50k\", 3: \"\\$100k\", 4: \"Unstated\"}\n",
    "labels_ask = {1: \"1x\", 2: \"1.25x\", 3: \"1.5x\"}\n",
    "\n",
    "labels = []\n",
    "for pol in middle_policies:\n",
    "    label_i = labels_size[pol[0]] + \", \" + labels_ask[pol[1]]\n",
    "    labels.append(label_i)"
   ]
  },
  {
   "cell_type": "code",
   "execution_count": 130,
   "id": "e27de52c-10e7-4a43-bdca-c06400b31ad8",
   "metadata": {},
   "outputs": [
    {
     "data": {
      "image/png": "[encoded data removed]",
      "text/plain": [
       "<Figure size 800x300 with 5 Axes>"
      ]
     },
     "metadata": {},
     "output_type": "display_data"
    }
   ],
   "source": [
    "# plot_gender_effects = True\n",
    "\n",
    "fig = plt.figure(figsize=(8, 3)) #layout=None, facecolor='lightblue')\n",
    "gs = fig.add_gridspec(nrows=2, ncols=2, #, left=0.05, right=0.75,\n",
    "        wspace=0.1)\n",
    "\n",
    "\n",
    "cbar_ax = fig.add_axes([.95, .25, .03, .5])\n",
    "\n",
    "for idx in range(4):\n",
    "    i = idx // 2\n",
    "    j = (idx % 2)\n",
    "\n",
    "    ax_ij = fig.add_subplot(gs[i, j])\n",
    "    sns.heatmap(\n",
    "        plots_matrices[i][j],\n",
    "        cmap=\"OrRd\",\n",
    "        linewidths=0.5,\n",
    "        linecolor=\"black\",\n",
    "        square=True,\n",
    "        vmin=0,\n",
    "        vmax=1,\n",
    "        ax=ax_ij,\n",
    "        cbar_ax=cbar_ax\n",
    "    )\n",
    "    ax_ij.set_title(titles[i][j], fontsize=10, rotation=0)\n",
    "    ax_ij.set_yticks([])\n",
    "    ax_ij.set_xticks([])\n",
    "    if j == 0:\n",
    "        ax_ij.set_yticks(np.arange(0, 3) + 0.5, [r\"($+$)\", \"0\", \"($-$)\"], rotation=0)\n",
    "    if i == 1:\n",
    "        ax_ij.set_xticks(np.arange(0, len(labels))+0.5, labels, rotation=90)\n",
    "    # break\n",
    "\n",
    "fig.supylabel(\"Price match ratio effects\")\n",
    "\n",
    "fname = \"../Figures/price_charity/price_match_mosaic.png\"\n",
    "# if plot_gender_effects:\n",
    "#     fname = \"../Figures/microfinance/gender/treatment_effects_mosaic_gender.png\"\n",
    "#     fig.supylabel(\"Gender-Treatment Effects\")\n",
    "    \n",
    "# plt.savefig(fname, dpi=300, bbox_inches=\"tight\")\n",
    "\n",
    "plt.show()"
   ]
  },
  {
   "cell_type": "code",
   "execution_count": null,
   "id": "1f38df35-f25a-4c59-8a4f-fa1f346bd018",
   "metadata": {},
   "outputs": [],
   "source": []
  },
  {
   "cell_type": "code",
   "execution_count": null,
   "id": "c9458eee-fc8a-4a78-8b9a-57ad1cd8da3b",
   "metadata": {},
   "outputs": [],
   "source": []
  },
  {
   "cell_type": "code",
   "execution_count": null,
   "id": "f4179293-080d-4d05-b076-acbb1589e35c",
   "metadata": {},
   "outputs": [],
   "source": []
  },
  {
   "cell_type": "code",
   "execution_count": null,
   "id": "ef26b648-13a4-4a1e-9352-3cc82fd551c1",
   "metadata": {},
   "outputs": [],
   "source": []
  },
  {
   "cell_type": "code",
   "execution_count": null,
   "id": "514d25b3-4569-4c19-96b2-f4991f9500b9",
   "metadata": {},
   "outputs": [],
   "source": []
  },
  {
   "cell_type": "code",
   "execution_count": null,
   "id": "c7d5d002-d746-4723-99b4-cfca6639241e",
   "metadata": {},
   "outputs": [],
   "source": []
  },
  {
   "cell_type": "markdown",
   "id": "f6117756-1af7-4cb4-8383-817c74c2f50d",
   "metadata": {},
   "source": [
    "Estimating conditional effects"
   ]
  },
  {
   "cell_type": "code",
   "execution_count": 21,
   "id": "2ebdade9-8453-427c-a37b-8fc8741654fa",
   "metadata": {},
   "outputs": [
    {
     "name": "stdout",
     "output_type": "stream",
     "text": [
      "Best \t\t (2, 1, 3, 1) \t0.018785119435557104\n",
      "Second Best \t (1, 4, 2, 1) \t0.015498305514303\n",
      "Third Best \t (3, 1, 1, 1) \t0.015241985920173895\n",
      "Fourth Best \t (2, 1, 1, 1) \t0.015055374049373465\n",
      "Worst \t\t (1, 1, 2, 0) \t0.006650313104924555\n"
     ]
    }
   ],
   "source": [
    "policies_present = np.sort(np.unique(D))\n",
    "\n",
    "beta = np.zeros(num_policies)\n",
    "\n",
    "for i, pool_means_i in enumerate(model_pool_means_2):\n",
    "\n",
    "    beta_i = np.zeros(num_policies)\n",
    "    \n",
    "    for pool_id in range(len(pool_means_i)):\n",
    "        for policy in model_pools_2[i][pool_id]:\n",
    "            beta_i[policy] = pool_means_i[pool_id]\n",
    "\n",
    "    beta += beta_i * model_post_prob_2[i]\n",
    "\n",
    "beta /= np.sum(model_post_prob_2)\n",
    "beta_subset = beta[policies_present]\n",
    "\n",
    "beta_subset_sorted = list(np.sort(beta_subset))\n",
    "\n",
    "policy_id_1 = np.where(beta == beta_subset_sorted[-1])[0][0]\n",
    "policy_id_2 = np.where(beta == beta_subset_sorted[-2])[0][0]\n",
    "policy_id_3 = np.where(beta == beta_subset_sorted[-3])[0][0]\n",
    "policy_id_4 = np.where(beta == beta_subset_sorted[-4])[0][0]\n",
    "policy_id_worst = np.where(beta == beta_subset_sorted[0])[0][0]\n",
    "\n",
    "print(f\"Best \\t\\t {all_policies[policy_id_1]} \\t{beta_subset_sorted[-1]}\")\n",
    "print(f\"Second Best \\t {all_policies[policy_id_2]} \\t{beta_subset_sorted[-2]}\")\n",
    "print(f\"Third Best \\t {all_policies[policy_id_3]} \\t{beta_subset_sorted[-3]}\")\n",
    "print(f\"Fourth Best \\t {all_policies[policy_id_4]} \\t{beta_subset_sorted[-4]}\")\n",
    "print(f\"Worst \\t\\t {all_policies[policy_id_worst]} \\t{beta_subset_sorted[0]}\")"
   ]
  },
  {
   "cell_type": "markdown",
   "id": "62a3d8e7-8e40-49b8-98eb-2bd0993fb2c3",
   "metadata": {},
   "source": [
    "### Plot with Red vs Blue aligned with Control"
   ]
  },
  {
   "cell_type": "code",
   "execution_count": 28,
   "id": "f2c0cb57-3f4a-4446-a124-aa17fb7fb3db",
   "metadata": {},
   "outputs": [
    {
     "data": {
      "text/html": [
       "<div>\n",
       "<style scoped>\n",
       "    .dataframe tbody tr th:only-of-type {\n",
       "        vertical-align: middle;\n",
       "    }\n",
       "\n",
       "    .dataframe tbody tr th {\n",
       "        vertical-align: top;\n",
       "    }\n",
       "\n",
       "    .dataframe thead th {\n",
       "        text-align: right;\n",
       "    }\n",
       "</style>\n",
       "<table border=\"1\" class=\"dataframe\">\n",
       "  <thead>\n",
       "    <tr style=\"text-align: right;\">\n",
       "      <th></th>\n",
       "      <th>Effect</th>\n",
       "      <th>State</th>\n",
       "      <th>marker_color</th>\n",
       "    </tr>\n",
       "  </thead>\n",
       "  <tbody>\n",
       "    <tr>\n",
       "      <th>0</th>\n",
       "      <td>0.886567</td>\n",
       "      <td>Red</td>\n",
       "      <td>indianred</td>\n",
       "    </tr>\n",
       "    <tr>\n",
       "      <th>1</th>\n",
       "      <td>1.060018</td>\n",
       "      <td>Red</td>\n",
       "      <td>indianred</td>\n",
       "    </tr>\n",
       "    <tr>\n",
       "      <th>2</th>\n",
       "      <td>1.498561</td>\n",
       "      <td>Red</td>\n",
       "      <td>indianred</td>\n",
       "    </tr>\n",
       "    <tr>\n",
       "      <th>3</th>\n",
       "      <td>0.772923</td>\n",
       "      <td>Red</td>\n",
       "      <td>indianred</td>\n",
       "    </tr>\n",
       "    <tr>\n",
       "      <th>4</th>\n",
       "      <td>1.069317</td>\n",
       "      <td>Red</td>\n",
       "      <td>indianred</td>\n",
       "    </tr>\n",
       "  </tbody>\n",
       "</table>\n",
       "</div>"
      ],
      "text/plain": [
       "     Effect State marker_color\n",
       "0  0.886567   Red    indianred\n",
       "1  1.060018   Red    indianred\n",
       "2  1.498561   Red    indianred\n",
       "3  0.772923   Red    indianred\n",
       "4  1.069317   Red    indianred"
      ]
     },
     "execution_count": 28,
     "metadata": {},
     "output_type": "execute_result"
    }
   ],
   "source": [
    "red_control = (0, 0, 0, 1)\n",
    "blu_control = (0, 0, 0, 0)\n",
    "\n",
    "red_control_id = 1\n",
    "blu_control_id = 0\n",
    "\n",
    "\n",
    "red_policies = [idx for idx, pol in enumerate(all_policies) if np.min(pol[:3]) > 0 and pol[3] == 1]\n",
    "blu_policies = [idx for idx, pol in enumerate(all_policies) if np.min(pol[:3]) > 0 and pol[3] == 0]\n",
    "\n",
    "red_blu_df = []\n",
    "for r in red_policies:\n",
    "    red_blu_df.append([beta[r]*100, \"Red\", \"indianred\"])\n",
    "for b in blu_policies:\n",
    "    red_blu_df.append([beta[b]*100, \"Blue\", \"dodgerblue\"])\n",
    "\n",
    "red_blu_df = pd.DataFrame(red_blu_df, columns=[\"Effect\", \"State\", \"marker_color\"])\n",
    "red_blu_df.head()"
   ]
  },
  {
   "cell_type": "code",
   "execution_count": 30,
   "id": "aa4b8454-e67e-4863-b43c-1a10083a8afb",
   "metadata": {},
   "outputs": [
    {
     "data": {
      "image/png": "[encoded data removed]",
      "text/plain": [
       "<Figure size 500x500 with 1 Axes>"
      ]
     },
     "metadata": {},
     "output_type": "display_data"
    }
   ],
   "source": [
    "fig, ax = plt.subplots(figsize=(5,5))\n",
    "\n",
    "ax.spines[['right', 'top', 'left', 'bottom']].set_visible(False)\n",
    "\n",
    "\n",
    "ax = sns.swarmplot(red_blu_df, x=\"State\", y=\"Effect\",\n",
    "                   hue=\"State\",\n",
    "                   edgecolor=\"black\",\n",
    "                   palette=[\"indianred\", \"dodgerblue\"],\n",
    "                   size=6,\n",
    "                   linewidth=0.5,\n",
    "                  )\n",
    "# ax.scatter([0]*len(red_policies), beta[red_policies]*100,\n",
    "#            color=\"indianred\", edgecolor=\"white\", alpha=1,\n",
    "#            label=\"Treatment (Red states)\"\n",
    "#           )\n",
    "ax.scatter(0, beta[red_control_id]*100,\n",
    "           color=\"black\", edgecolor=\"black\",\n",
    "           zorder=3.1,\n",
    "           s=75\n",
    "          # label=\"Red Control\"\n",
    "          )\n",
    "\n",
    "\n",
    "# ax.scatter([1]*len(blu_policies), beta[blu_policies]*100,\n",
    "#            color=\"dodgerblue\", edgecolor=\"white\", alpha=1,\n",
    "#            label=\"Treatment (Blue states)\"\n",
    "#           )\n",
    "ax.scatter(1, beta[blu_control_id]*100,\n",
    "           color=\"black\", edgecolor=\"black\",\n",
    "           label=\"Control\",\n",
    "           zorder=3.1,\n",
    "           s=75\n",
    "          )\n",
    "\n",
    "# ax.set_xticks([0, 1], [\"Red\", \"Blue\"])\n",
    "ax.set_xlim([-0.5, 1.5])\n",
    "ax.set_ylabel(\"Dollars donated\")\n",
    "\n",
    "\n",
    "ax.legend(loc=\"center right\", bbox_to_anchor=(1.5, 0.5))\n",
    "\n",
    "\n",
    "plt.show()"
   ]
  },
  {
   "cell_type": "code",
   "execution_count": 43,
   "id": "d2b676c2-169d-4de7-a0bb-7c85797b80ab",
   "metadata": {},
   "outputs": [
    {
     "name": "stdout",
     "output_type": "stream",
     "text": [
      "[Postive, Zero, Negative]\n",
      "Red [0.97222222 0.         0.02777778]\n",
      "Blue [0.5 0.  0.5]\n"
     ]
    }
   ],
   "source": [
    "red_te = beta[red_policies] - beta[red_control_id]\n",
    "red_te_pos = len(np.where(red_te > 0)[0])\n",
    "red_te_zer = len(np.where(red_te == 0)[0])\n",
    "red_te_neg = len(np.where(red_te < 0)[0])\n",
    "\n",
    "print(\"[Postive, Zero, Negative]\")\n",
    "print(\"Red\", np.array([red_te_pos, red_te_zer, red_te_neg]) / len(red_te))\n",
    "\n",
    "blu_te = beta[blu_policies] - beta[blu_control_id]\n",
    "blu_te_pos = len(np.where(blu_te > 0)[0])\n",
    "blu_te_zer = len(np.where(blu_te == 0)[0])\n",
    "blu_te_neg = len(np.where(blu_te < 0)[0])\n",
    "\n",
    "print(\"Blue\", np.array([blu_te_pos, blu_te_zer, blu_te_neg]) / len(blu_te))"
   ]
  },
  {
   "cell_type": "code",
   "execution_count": null,
   "id": "d022f8dd-7303-419a-a253-0b2e2fdf5431",
   "metadata": {},
   "outputs": [],
   "source": []
  },
  {
   "cell_type": "code",
   "execution_count": null,
   "id": "e1c4916a-2ec6-459c-b7e3-af44115ad7df",
   "metadata": {},
   "outputs": [],
   "source": []
  },
  {
   "cell_type": "markdown",
   "id": "0b5b678e-55d4-4255-9b37-45efb72d7f61",
   "metadata": {},
   "source": [
    "### Plot with all policies on same axis"
   ]
  },
  {
   "cell_type": "code",
   "execution_count": 26,
   "id": "c4f9c5c3-dff1-4092-9624-6882103aa489",
   "metadata": {},
   "outputs": [
    {
     "data": {
      "image/png": "[encoded data removed]",
      "text/plain": [
       "<Figure size 500x500 with 1 Axes>"
      ]
     },
     "metadata": {},
     "output_type": "display_data"
    }
   ],
   "source": [
    "vert_line_x = [0, 0]\n",
    "vert_line_y = [np.min(beta_subset) *0.9, np.max(beta_subset) * 1.1]\n",
    "\n",
    "hor_line_x = [-0.5, 0.2]\n",
    "hor_line_y1 = [0.016, 0.016]\n",
    "hor_line_y2 = [0.006, 0.006]\n",
    "hor_line_y3 = [0.012, 0.012]\n",
    "hor_line_y4 = [0.014, 0.014]\n",
    "hor_line_y5 = [0.008, 0.008]\n",
    "hor_line_y6 = [0.010, 0.010]\n",
    "\n",
    "fig, ax = plt.subplots(figsize=(5,5))\n",
    "\n",
    "ax.spines[['right', 'top', 'left', 'bottom']].set_visible(False)\n",
    "\n",
    "\n",
    "ax.plot(vert_line_x, vert_line_y, color=\"black\", linewidth=0.7)\n",
    "ax.plot(hor_line_x, hor_line_y1, color=\"black\", linewidth=0.7, ls=\"--\")\n",
    "ax.plot(hor_line_x, hor_line_y2, color=\"black\", linewidth=0.7, ls=\"--\")\n",
    "ax.plot(hor_line_x, hor_line_y3, color=\"black\", linewidth=0.7, ls=\"--\")\n",
    "ax.plot(hor_line_x, hor_line_y4, color=\"black\", linewidth=0.7, ls=\"--\")\n",
    "ax.plot(hor_line_x, hor_line_y5, color=\"black\", linewidth=0.7, ls=\"--\")\n",
    "ax.plot(hor_line_x, hor_line_y6, color=\"black\", linewidth=0.7, ls=\"--\")\n",
    "\n",
    "ax = sns.swarmplot(beta_subset, color=\"gray\", edgecolor=\"black\", linewidth=0.7,\n",
    "                  size=6)#, saturation=1)\n",
    "\n",
    "ax.annotate(\"Policy A\", xy=(0.015, beta_subset_sorted[-1]), xytext=(0.1, 0.017),\n",
    "            arrowprops=dict(facecolor='black', width=1, headwidth=5, headlength=5, shrink=0.01))\n",
    "ax.annotate(\"Policy B\", xy=(-0.04, beta_subset_sorted[-2]), xytext=(-0.4, 0.015),\n",
    "            arrowprops=dict(facecolor='black', width=1, headwidth=5, headlength=5, shrink=0.01))\n",
    "ax.annotate(\"Policy C\", xy=(0.015, beta_subset_sorted[-3]), xytext=(0.1, 0.015),\n",
    "            arrowprops=dict(facecolor='black', width=1, headwidth=5, headlength=5, shrink=0.01))\n",
    "ax.annotate(\"Policy D\", xy=(0.015, beta_subset_sorted[-4]), xytext=(0.1, 0.013),\n",
    "            arrowprops=dict(facecolor='black', width=1, headwidth=5, headlength=5, shrink=0.01))\n",
    "ax.annotate(\"Policy E\", xy=(-0.015, beta_subset_sorted[0]), xytext=(-0.2, 0.005),\n",
    "            arrowprops=dict(facecolor='black', width=1, headwidth=5, headlength=5, shrink=0.01),\n",
    "            label=\"yadadada\")\n",
    "\n",
    "\n",
    "ax.set_xlabel(\"Average effects in the Rashomon set\")\n",
    "ax.set_ylabel(\"\")\n",
    "ax.set_title(\"\")\n",
    "ax.set_xticks([0], [r\"$\\beta$\"])\n",
    "yticks = [0.006, 0.008, 0.010, 0.012, 0.014, 0.016]\n",
    "yticks_labels = [\"$\" + str(round(x * 100, 2)) for x in yticks]\n",
    "ax.set_yticks(yticks, yticks_labels)\n",
    "\n",
    "textstr = \"\"\"\n",
    "A: $2:$1, $25k, 1.5x, Blue\n",
    "B: $3:$1, $25k, 1x, Blue\n",
    "C: $2:$1, $25k, 1x, Blue\n",
    "D: $3:$1, $25k, 1x, Blue\n",
    "E: $1:$1, $50k, 1x, Red\n",
    "\"\"\"\n",
    "props = dict(facecolor='white', alpha=0.5,\n",
    "            edgecolor='white')\n",
    "\n",
    "# ax.text(0.5, 0.014, textstr, fontsize=10, verticalalignment='top', bbox=props)\n",
    "\n",
    "# ax.legend([annot5.arrow_patch], (annot5[\"label\"]))\n",
    "\n",
    "\n",
    "# plt.savefig(\"../Figures/price_charity/conditional_effects.png\", dpi=300, bbox_inches=\"tight\")\n",
    "# plt.savefig(\"../Figures/price_charity/rset_size_dist_poster.pdf\", dpi=600, bbox_inches=\"tight\")\n",
    "plt.show()"
   ]
  },
  {
   "cell_type": "code",
   "execution_count": 34,
   "id": "a6aa8382-f5b0-4bfd-87c5-fd49731ea415",
   "metadata": {},
   "outputs": [],
   "source": [
    "beta_red_1 = []\n",
    "beta_red_2 = []\n",
    "beta_blue_1 = []\n",
    "beta_blue_2 = []\n",
    "\n",
    "beta_categorical_df = []\n",
    "\n",
    "beta_df_plot = []\n",
    "\n",
    "policy_indicators = []\n",
    "\n",
    "for beta_i in beta_subset:\n",
    "    policy_id_i = np.where(beta == beta_i)[0][0]\n",
    "    policy_i = all_policies[policy_id_i]\n",
    "    this_indicator = [0, 0, 0]\n",
    "    \n",
    "    if policy_i[3] == 0:\n",
    "        this_indicator[0] = 1\n",
    "        if policy_i[0] == 1:\n",
    "            this_indicator[1] = 0\n",
    "            beta_blue_1.append(beta_i)\n",
    "            beta_categorical_df.append([beta_i, \"white\", \"dodgerblue\", \"dodgerblue\", \"black\", \"white\"])\n",
    "        else:\n",
    "            this_indicator[1] = 1\n",
    "            beta_blue_2.append(beta_i)\n",
    "            beta_categorical_df.append([beta_i, \"dodgerblue\", \"black\", \"dodgerblue\", \"black\", \"grey\"])\n",
    "    else:\n",
    "        this_indicator[0] = 0\n",
    "        if policy_i[0] == 1:\n",
    "            this_indicator[1] = 0\n",
    "            beta_red_1.append(beta_i)\n",
    "            beta_categorical_df.append([beta_i, \"white\", \"indianred\", \"indianred\", \"black\", \"white\"])\n",
    "        else:\n",
    "            this_indicator[1] = 1\n",
    "            beta_red_2.append(beta_i)\n",
    "            beta_categorical_df.append([beta_i, \"indianred\", \"black\", \"indianred\", \"black\", \"grey\"])\n",
    "    if policy_i[1] == 1:\n",
    "        this_indicator[2] = 0\n",
    "        beta_categorical_df[-1].append(\"white\")\n",
    "    else:\n",
    "        this_indicator[2] = 1\n",
    "        beta_categorical_df[-1].append(\"grey\")\n",
    "\n",
    "    policy_indicators.append(this_indicator)\n",
    "    beta_df_plot.append([beta_i] + list(policy_i))\n",
    "\n",
    "beta_categorical_df = pd.DataFrame(beta_categorical_df,\n",
    "                                   columns=[\"beta\", \"color\", \"edge\", \"color_state\", \"edge_state\", \"color_ratio\", \"color_size\"])\n",
    "fill_colors = list(beta_categorical_df[\"color\"])\n",
    "edge_colors = list(beta_categorical_df[\"edge\"])\n",
    "fill_colors_state = list(beta_categorical_df[\"color_state\"])\n",
    "edge_colors_state = list(beta_categorical_df[\"edge_state\"])\n",
    "fill_colors_ratio = list(beta_categorical_df[\"color_ratio\"])\n",
    "edge_colors_ratio = list(beta_categorical_df[\"edge_state\"])\n",
    "fill_colors_size = list(beta_categorical_df[\"color_size\"])\n",
    "\n",
    "policy_indicators = np.array(policy_indicators)\n",
    "\n",
    "beta_df_plot = pd.DataFrame(beta_df_plot,\n",
    "                           columns=[\"beta\", \"ratio\", \"size\", \"ask\", \"state\"])\n"
   ]
  },
  {
   "cell_type": "code",
   "execution_count": 35,
   "id": "b5535405-e04b-4bc8-896b-9f010f650b76",
   "metadata": {},
   "outputs": [],
   "source": [
    "beta_df_plot[\"ratio\"] = beta_df_plot[\"ratio\"].map({\n",
    "    1: 1,\n",
    "    2: 2,\n",
    "    3: 2\n",
    "})\n",
    "beta_df_plot[\"size\"] = beta_df_plot[\"size\"].map({\n",
    "    1: 1,\n",
    "    2: 2,\n",
    "    3: 2,\n",
    "})\n",
    "beta_df_plot[\"state\"] = beta_df_plot[\"state\"].map({\n",
    "    0: \"Blue\",\n",
    "    1: \"Red\"\n",
    "})"
   ]
  },
  {
   "cell_type": "code",
   "execution_count": 40,
   "id": "381af1bb-caf4-4e1c-b2e3-4833e023381a",
   "metadata": {},
   "outputs": [
    {
     "data": {
      "image/png": "[encoded data removed]",
      "text/plain": [
       "<Figure size 500x500 with 1 Axes>"
      ]
     },
     "metadata": {},
     "output_type": "display_data"
    }
   ],
   "source": [
    "type = \"state\"\n",
    "\n",
    "\n",
    "vert_line_x = [0, 0]\n",
    "vert_line_x2 = [1, 1]\n",
    "vert_line_y = [np.min(beta_subset) *0.9, np.max(beta_subset) * 1.1]\n",
    "\n",
    "hor_line_y1 = [0.016, 0.016]\n",
    "hor_line_y2 = [0.006, 0.006]\n",
    "hor_line_y3 = [0.012, 0.012]\n",
    "hor_line_y4 = [0.014, 0.014]\n",
    "hor_line_y5 = [0.008, 0.008]\n",
    "hor_line_y6 = [0.010, 0.010]\n",
    "\n",
    "fig, ax = plt.subplots(figsize=(5,5))\n",
    "\n",
    "ax.spines[['right', 'top', 'left', 'bottom']].set_visible(False)\n",
    "\n",
    "\n",
    "# ax.plot(vert_line_x, vert_line_y, color=\"black\", linewidth=0.7)\n",
    "# ax.plot(vert_line_x2, vert_line_y, color=\"black\", linewidth=0.7)\n",
    "\n",
    "hor_line_x = [-0.5, 1.4]\n",
    "hor_line_y_vals = [0.006, 0.008, 0.01, 0.012, 0.014, 0.016, 0.018]\n",
    "for y_val in hor_line_y_vals:\n",
    "    hor_line_y = [y_val, y_val]\n",
    "    ax.plot(hor_line_x, hor_line_y, color=\"black\", linewidth=0.7, ls=\"--\", zorder=1)\n",
    "\n",
    "# ax.plot(hor_line_x, hor_line_y1, color=\"black\", linewidth=0.7, ls=\"--\")\n",
    "# ax.plot(hor_line_x, hor_line_y2, color=\"black\", linewidth=0.7, ls=\"--\")\n",
    "# ax.plot(hor_line_x, hor_line_y3, color=\"black\", linewidth=0.7, ls=\"--\")\n",
    "# ax.plot(hor_line_x, hor_line_y4, color=\"black\", linewidth=0.7, ls=\"--\")\n",
    "# ax.plot(hor_line_x, hor_line_y5, color=\"black\", linewidth=0.7, ls=\"--\")\n",
    "# ax.plot(hor_line_x, hor_line_y6, color=\"black\", linewidth=0.7, ls=\"--\")\n",
    "\n",
    "\n",
    "if type == \"state\":\n",
    "    ax = sns.violinplot(x=\"state\", y=\"beta\", data=beta_df_plot[beta_df_plot[\"state\"] == \"Red\"],\n",
    "                        color=\"indianred\",\n",
    "                       linewidth=0.7,\n",
    "                        dodge=True)\n",
    "    ax = sns.violinplot(x=\"state\", y=\"beta\", data=beta_df_plot[beta_df_plot[\"state\"] == \"Blue\"],\n",
    "                        color=\"dodgerblue\",\n",
    "                       linewidth=0.7,\n",
    "                        dodge=True)\n",
    "elif type == \"ratio\":\n",
    "    ax = sns.violinplot(x=\"ratio\", y=\"beta\", data=beta_df_plot,\n",
    "                        hue=\"state\",\n",
    "                        palette=[\"dodgerblue\", \"indianred\"],\n",
    "                       linewidth=0.7,\n",
    "                       dodge=True)\n",
    "# elif type == \"both\":\n",
    "#     ax = sns.violinplot(beta_subset, color=\"grey\", #edgecolor=edge_colors,\n",
    "#                        linewidth=0.7,\n",
    "#                        # size=6,\n",
    "#                        dodge=True)\n",
    "elif type == \"size\":\n",
    "    ax = sns.violinplot(x=\"size\", y=\"beta\", data=beta_df_plot,\n",
    "                        hue=\"state\",\n",
    "                        palette=[\"dodgerblue\", \"indianred\"],\n",
    "                       linewidth=0.7,\n",
    "                       dodge=True)\n",
    "\n",
    "\n",
    "# ax.set_xlabel(\"Average effects in the Rashomon set\")\n",
    "ax.set_ylabel(\"\")\n",
    "ax.set_title(\"\")\n",
    "yticks = [0.006, 0.008, 0.010, 0.012, 0.014, 0.016, 0.018]\n",
    "yticks_labels = [\"$\" + str(round(x * 100, 2)) for x in yticks]\n",
    "ax.set_yticks(yticks, yticks_labels)\n",
    "\n",
    "\n",
    "# create manual symbols for legend\n",
    "if type == \"state\":\n",
    "    ax.set_xlabel(\"Political party\")\n",
    "    ax.set_xticks([0, 1], [\"Red\", \"Blue\"])\n",
    "    plot_fname = \"conditional_effects_state.png\"\n",
    "elif type == \"ratio\":\n",
    "    ax.set_xlabel(\"\")\n",
    "    ax.set_xticks([0, 1], [\"Price match \\$1:\\$1\", \"Price match > \\$1:\\$1\"])\n",
    "    plot_fname = \"conditional_effects_ratio.png\"\n",
    "    ax.legend(loc=\"center right\", bbox_to_anchor=(1.25, 0.5))\n",
    "elif type == \"size\":\n",
    "    ax.set_xlabel(\"\")\n",
    "    ax.set_xticks([0, 1], [\"Gift size \\$25k\", \"Gift size > \\$25k\"])\n",
    "    ax.legend(loc=\"center right\", bbox_to_anchor=(1.25, 0.5))\n",
    "    plot_fname = \"conditional_effects_size.png\"\n",
    "# elif type == \"both\":\n",
    "#     # ax.legend(handles=[blue_1, blue_2, red_1, red_2], loc=(1, 0.35), frameon=False)\n",
    "#     plot_fname = \"conditional_effects_state_ratio.png\"\n",
    "\n",
    "\n",
    "# plt.savefig(\"../Figures/price_charity/\" + plot_fname, dpi=300, bbox_inches=\"tight\")\n",
    "\n",
    "plt.show()"
   ]
  },
  {
   "cell_type": "code",
   "execution_count": 300,
   "id": "9c36f04b-4cf8-4801-b010-6e3c9acd202b",
   "metadata": {},
   "outputs": [],
   "source": [
    "beta_red_unique = []\n",
    "beta_blue_unique = []\n",
    "policies_unique = []\n",
    "\n",
    "\n",
    "for beta_i in beta_subset:\n",
    "    policy_id_i = np.where(beta == beta_i)[0][0]\n",
    "    policy_i = all_policies[policy_id_i]\n",
    "\n",
    "    \n",
    "    if policy_i[3] == 2:\n",
    "        beta_blue_unique.append(beta_i)\n",
    "        policies_unique.append(policy_i[:3])\n",
    "    else:\n",
    "        beta_red_unique.append(beta_i)"
   ]
  },
  {
   "cell_type": "code",
   "execution_count": 305,
   "id": "bb0579d1-7897-4149-8596-8cd48a048faf",
   "metadata": {},
   "outputs": [
    {
     "data": {
      "image/png": "[encoded data removed]",
      "text/plain": [
       "<Figure size 1500x500 with 1 Axes>"
      ]
     },
     "metadata": {},
     "output_type": "display_data"
    }
   ],
   "source": [
    "# vert_line_x = [0, 0]\n",
    "# vert_line_y = [np.min(beta_subset) *0.9, np.max(beta_subset) * 1.1]\n",
    "\n",
    "# hor_line_x = [-0.5, 0.2]\n",
    "# hor_line_y1 = [0.016, 0.016]\n",
    "# hor_line_y2 = [0.006, 0.006]\n",
    "# hor_line_y3 = [0.012, 0.012]\n",
    "# hor_line_y4 = [0.014, 0.014]\n",
    "# hor_line_y5 = [0.008, 0.008]\n",
    "# hor_line_y6 = [0.010, 0.010]\n",
    "\n",
    "fig, ax = plt.subplots(figsize=(15,5))\n",
    "\n",
    "ax.spines[['right', 'top']].set_visible(False)\n",
    "\n",
    "x_vals = list(range(len(policies_unique)))\n",
    "\n",
    "ax.scatter(x_vals, beta_red_unique, color=\"indianred\", edgecolor=\"indianred\")\n",
    "ax.scatter(x_vals, beta_blue_unique, color=\"dodgerblue\", edgecolor=\"dodgerblue\")\n",
    "\n",
    "\n",
    "\n",
    "\n",
    "# ax.plot(vert_line_x, vert_line_y, color=\"black\", linewidth=0.7)\n",
    "# ax.plot(hor_line_x, hor_line_y1, color=\"black\", linewidth=0.7, ls=\"--\")\n",
    "# ax.plot(hor_line_x, hor_line_y2, color=\"black\", linewidth=0.7, ls=\"--\")\n",
    "# ax.plot(hor_line_x, hor_line_y3, color=\"black\", linewidth=0.7, ls=\"--\")\n",
    "# ax.plot(hor_line_x, hor_line_y4, color=\"black\", linewidth=0.7, ls=\"--\")\n",
    "# ax.plot(hor_line_x, hor_line_y5, color=\"black\", linewidth=0.7, ls=\"--\")\n",
    "# ax.plot(hor_line_x, hor_line_y6, color=\"black\", linewidth=0.7, ls=\"--\")\n",
    "\n",
    "\n",
    "\n",
    "\n",
    "ax.set_xlabel(\"Policies\")\n",
    "ax.set_ylabel(\"Marginal effect\")\n",
    "ax.set_title(\"\")\n",
    "ax.set_xticks(x_vals, policies_unique, rotation=\"vertical\")\n",
    "# yticks = [0.006, 0.008, 0.010, 0.012, 0.014, 0.016]\n",
    "# yticks_labels = [\"$\" + str(round(x * 100, 2)) for x in yticks]\n",
    "# ax.set_yticks(yticks, yticks_labels)\n",
    "\n",
    "\n",
    "\n",
    "# ax.legend(handles=[blue_1, blue_2, red_1, red_2], loc=(1, 0.4), frameon=False)\n",
    "\n",
    "\n",
    "\n",
    "# plt.savefig(\"../Figures/price_charity/conditional_effects.png\", dpi=300, bbox_inches=\"tight\")\n",
    "# plt.savefig(\"../Figures/price_charity/rset_size_dist_poster.pdf\", dpi=600, bbox_inches=\"tight\")\n",
    "plt.show()"
   ]
  },
  {
   "cell_type": "code",
   "execution_count": null,
   "id": "f6c1649e-f41d-4a11-9fe0-1cb37f9dc4e8",
   "metadata": {},
   "outputs": [],
   "source": []
  },
  {
   "cell_type": "code",
   "execution_count": null,
   "id": "406aea59-a44c-4b76-bf38-8bb974dff189",
   "metadata": {},
   "outputs": [],
   "source": []
  },
  {
   "cell_type": "markdown",
   "id": "5c6e8ca5-9067-49dd-9233-8db2f10884fa",
   "metadata": {},
   "source": [
    "## Epsilon vs Size of set and error"
   ]
  },
  {
   "cell_type": "code",
   "execution_count": 60,
   "id": "e1aca63e-e606-4997-9176-164483a22b24",
   "metadata": {},
   "outputs": [],
   "source": [
    "sorted_losses = np.sort(model_losses)\n",
    "sorted_epsilon = sorted_losses / np.min(model_losses) - 1\n",
    "\n",
    "num_models = np.arange(0, len(model_losses))+1\n",
    "model_errors = sorted_losses * num_models\n",
    "\n",
    "est_err = 1 / (num_models * np.exp(-sorted_losses))\n",
    "\n",
    "\n",
    "# our_threshold = q_0 / np.min(model_losses) - 1\n",
    "our_threshold = np.max(model_losses_2) / q_0  - 1"
   ]
  },
  {
   "cell_type": "code",
   "execution_count": 126,
   "id": "82446db2-2e9e-4fc7-a34f-ccfa9adf7664",
   "metadata": {},
   "outputs": [
    {
     "data": {
      "image/png": "[encoded data removed]",
      "text/plain": [
       "<Figure size 600x500 with 1 Axes>"
      ]
     },
     "metadata": {},
     "output_type": "display_data"
    }
   ],
   "source": [
    "\n",
    "\n",
    "fig, ax = plt.subplots(figsize=(6,5))\n",
    "\n",
    "ax.spines[['right', 'top']].set_visible(False)\n",
    "\n",
    "\n",
    "# ax.plot([0, np.max(sorted_epsilon)], [512, 512], color=\"grey\", ls=\"--\")\n",
    "ax.plot([our_threshold, our_threshold], [0, 130], color=\"black\", ls=\"--\")\n",
    "# ax.plot([0, our_threshold], [123, 123], color=\"black\", ls=\"--\")\n",
    "\n",
    "ax.plot(sorted_epsilon, est_err,\n",
    "        color=\"dodgerblue\",\n",
    "       zorder=3.1)\n",
    "\n",
    "ax.set_xlabel(r\"$\\epsilon$\")\n",
    "ax.set_ylabel(r\"$\\mathcal{O} \\left( 1 / \\theta |P_{\\theta}| \\right)$\", rotation=90)\n",
    "\n",
    "# ax.set_yticks([1, 100, 200, 300, 400, 500])\n",
    "\n",
    "ax.set_xlim(0, np.max(sorted_epsilon))\n",
    "ax.set_ylim(0, np.max(est_err))\n",
    "\n",
    "# plt.savefig(\"../Figures/price_charity/eps_vs_est_error.png\", dpi=300, bbox_inches=\"tight\")\n",
    "\n",
    "plt.show()"
   ]
  },
  {
   "cell_type": "code",
   "execution_count": 129,
   "id": "fe6ffea6-3e45-4e23-907f-785fbbd0b79e",
   "metadata": {},
   "outputs": [
    {
     "data": {
      "image/png": "[encoded data removed]",
      "text/plain": [
       "<Figure size 600x500 with 1 Axes>"
      ]
     },
     "metadata": {},
     "output_type": "display_data"
    }
   ],
   "source": [
    "fig, ax = plt.subplots(figsize=(6,5))\n",
    "\n",
    "ax.spines[['right', 'top']].set_visible(False)\n",
    "\n",
    "\n",
    "# ax.plot([0, np.max(sorted_epsilon)], [512, 512], color=\"grey\", ls=\"--\")\n",
    "ax.plot([our_threshold, our_threshold], [0, len(R_set_pruned)], color=\"black\", ls=\"--\")\n",
    "ax.plot([0, our_threshold], [len(R_set_pruned), len(R_set_pruned)], color=\"black\", ls=\"--\")\n",
    "\n",
    "ax.plot(sorted_epsilon, num_models,\n",
    "        color=\"dodgerblue\")\n",
    "\n",
    "ax.set_xlabel(r\"$\\epsilon$\")\n",
    "ax.set_ylabel(\"Number of models in Rashomon set\")\n",
    "ax.set_yscale(\"log\")\n",
    "\n",
    "# ax.set_yticks([1, 100, 200, 300, 400, 500])\n",
    "\n",
    "ax.set_xlim(0, np.max(sorted_epsilon))\n",
    "ax.set_ylim(1, np.max(num_models))\n",
    "\n",
    "# plt.savefig(\"../Figures/price_charity/eps_vs_size.png\", dpi=300, bbox_inches=\"tight\")\n",
    "# plt.savefig(\"../Figures/price_charity/eps_vs_size_log.png\", dpi=300, bbox_inches=\"tight\")\n",
    "\n",
    "plt.show()"
   ]
  },
  {
   "cell_type": "code",
   "execution_count": null,
   "id": "92e640d0-ec6c-44e5-87d4-5d2133050eff",
   "metadata": {},
   "outputs": [],
   "source": []
  },
  {
   "cell_type": "code",
   "execution_count": null,
   "id": "a9ffeb37-f0af-45b0-86fc-4521efe36097",
   "metadata": {},
   "outputs": [],
   "source": []
  },
  {
   "cell_type": "code",
   "execution_count": null,
   "id": "bf8a89ea-ab94-40ad-ac0e-0fc805836e34",
   "metadata": {},
   "outputs": [],
   "source": []
  },
  {
   "cell_type": "markdown",
   "id": "adafa6cb-f833-4e2f-96b7-fab42d34f9fc",
   "metadata": {},
   "source": [
    "### Lasso"
   ]
  },
  {
   "cell_type": "code",
   "execution_count": 34,
   "id": "ad6438e9-cec9-4db3-a64b-d3ad19ad9d0d",
   "metadata": {},
   "outputs": [],
   "source": [
    "from sklearn import linear_model"
   ]
  },
  {
   "cell_type": "code",
   "execution_count": 204,
   "id": "db2d6f06-4761-463a-9e3e-af539c861bdf",
   "metadata": {},
   "outputs": [],
   "source": [
    "G = tva.alpha_matrix(all_policies)\n",
    "D_matrix = tva.get_dummy_matrix(D, G, num_policies)"
   ]
  },
  {
   "cell_type": "code",
   "execution_count": 205,
   "id": "0e430755-d8ee-4f85-874c-5e35589de6c2",
   "metadata": {},
   "outputs": [],
   "source": [
    "lasso = linear_model.Lasso(1e-4, fit_intercept=False)\n",
    "lasso.fit(D_matrix, y)\n",
    "alpha_est = lasso.coef_\n",
    "y_tva = lasso.predict(D_matrix)"
   ]
  },
  {
   "cell_type": "code",
   "execution_count": 208,
   "id": "03375cf9-c6d6-4df5-9d14-f650cb6900c3",
   "metadata": {},
   "outputs": [
    {
     "name": "stdout",
     "output_type": "stream",
     "text": [
      "0.007557087681478236\n",
      "0.007559423517002552\n"
     ]
    }
   ],
   "source": [
    "sqrd_err = mean_squared_error(y, y_tva)\n",
    "print(sqrd_err)\n",
    "\n",
    "lasso_loss = sqrd_err + 1e-4 * np.linalg.norm(alpha_est, ord=1)\n",
    "print(lasso_loss)"
   ]
  },
  {
   "cell_type": "code",
   "execution_count": 240,
   "id": "0a8ffd28-fa65-4154-81d4-96c9986087f0",
   "metadata": {},
   "outputs": [
    {
     "name": "stdout",
     "output_type": "stream",
     "text": [
      "1.079e-04\n",
      "176 (2, 4, 2, 2)\n"
     ]
    }
   ],
   "source": [
    "best_pol_effect_tva = np.max(y_tva)\n",
    "sqrd_err_best_pol_tva = (true_best_eff - best_pol_effect_tva)**2\n",
    "print(f\"{sqrd_err_best_pol_tva:.3e}\")\n",
    "\n",
    "best_pol_idx_tva = np.unique(D[np.where(y_tva == best_pol_effect_tva)])\n",
    "for idx in best_pol_idx_tva:\n",
    "    print(idx, all_policies[idx])"
   ]
  },
  {
   "cell_type": "code",
   "execution_count": null,
   "id": "cd6bf0d4-7c83-4288-a65a-7cf3d6471b5b",
   "metadata": {},
   "outputs": [],
   "source": []
  },
  {
   "cell_type": "code",
   "execution_count": 147,
   "id": "1b738d15-74c2-4545-b37e-e8794862c89c",
   "metadata": {},
   "outputs": [
    {
     "data": {
      "text/plain": [
       "1.0001074909483656"
      ]
     },
     "execution_count": 147,
     "metadata": {},
     "output_type": "execute_result"
    }
   ],
   "source": [
    "0.0075579 / sqrd_err"
   ]
  },
  {
   "cell_type": "code",
   "execution_count": 145,
   "id": "c4884055-fc00-41aa-9c3c-71353293fd87",
   "metadata": {},
   "outputs": [
    {
     "data": {
      "text/plain": [
       "0.007557843390246384"
      ]
     },
     "execution_count": 145,
     "metadata": {},
     "output_type": "execute_result"
    }
   ],
   "source": [
    "sqrd_err * 1.0001"
   ]
  },
  {
   "cell_type": "code",
   "execution_count": 144,
   "id": "4520acda-418e-4735-9432-7d5f3253b920",
   "metadata": {},
   "outputs": [
    {
     "name": "stdout",
     "output_type": "stream",
     "text": [
      "240\n"
     ]
    },
    {
     "data": {
      "text/plain": [
       "array([ 7.97690697e-03, -3.49831158e-04,  8.19950066e-03,  1.06300281e-03,\n",
       "        9.43166838e-04, -8.49020667e-04,  8.90114104e-05,  6.60306624e-04,\n",
       "        9.26149847e-04,  4.65184327e-04, -6.44947383e-04, -1.19132656e-03])"
      ]
     },
     "execution_count": 144,
     "metadata": {},
     "output_type": "execute_result"
    }
   ],
   "source": [
    "print(alpha_est.size)\n",
    "alpha_est[np.nonzero(alpha_est)]"
   ]
  },
  {
   "cell_type": "code",
   "execution_count": null,
   "id": "63a14c64-a902-4582-b4e0-d3dcc0baa2a0",
   "metadata": {},
   "outputs": [],
   "source": []
  },
  {
   "cell_type": "code",
   "execution_count": null,
   "id": "ebfb223b-665b-4b0f-9183-ff7d3f0e88ea",
   "metadata": {},
   "outputs": [],
   "source": []
  },
  {
   "cell_type": "code",
   "execution_count": null,
   "id": "3563b31e-b462-4074-ba07-974444a84ba7",
   "metadata": {},
   "outputs": [],
   "source": []
  },
  {
   "cell_type": "code",
   "execution_count": null,
   "id": "79d046c9-a409-4cfd-b754-f01880d43d4e",
   "metadata": {},
   "outputs": [],
   "source": []
  },
  {
   "cell_type": "markdown",
   "id": "70d479b2-5b6f-4b48-bd7d-9858b01f0407",
   "metadata": {},
   "source": [
    "### Causal trees"
   ]
  },
  {
   "cell_type": "code",
   "execution_count": 182,
   "id": "9258b760-e497-455d-8c3e-1d75b9b017ae",
   "metadata": {},
   "outputs": [],
   "source": [
    "from rashomon import causal_trees\n",
    "\n",
    "from CTL.causal_tree_learn import CausalTree"
   ]
  },
  {
   "cell_type": "code",
   "execution_count": 246,
   "id": "8494da53-1dc8-4114-b7d7-0d193c863538",
   "metadata": {},
   "outputs": [],
   "source": [
    "ctl_res = causal_trees.ctl(M, R, D, y, D_matrix)\n",
    "y_ctl = ctl_res[3]"
   ]
  },
  {
   "cell_type": "code",
   "execution_count": 243,
   "id": "0adddb53-2105-4046-bb1d-1148529270c5",
   "metadata": {},
   "outputs": [
    {
     "data": {
      "text/plain": [
       "array([0.00813755, 0.0091202 , 0.00980804, 0.01479656])"
      ]
     },
     "execution_count": 243,
     "metadata": {},
     "output_type": "execute_result"
    }
   ],
   "source": [
    "np.unique(y_ctl)"
   ]
  },
  {
   "cell_type": "code",
   "execution_count": 242,
   "id": "ab9fdb2a-1814-48e3-a224-f3acd0027f29",
   "metadata": {},
   "outputs": [
    {
     "name": "stdout",
     "output_type": "stream",
     "text": [
      "7.558e-03\n"
     ]
    }
   ],
   "source": [
    "sqrd_err_ctl = mean_squared_error(y, y_ctl)\n",
    "print(f\"{sqrd_err_ctl:.3e}\")"
   ]
  },
  {
   "cell_type": "code",
   "execution_count": 241,
   "id": "1d04f874-8593-4c98-8e63-a39872f7e0bc",
   "metadata": {},
   "outputs": [
    {
     "name": "stdout",
     "output_type": "stream",
     "text": [
      "5.315e-05\n",
      "137 (2, 1, 1, 2)\n",
      "140 (2, 1, 2, 2)\n",
      "143 (2, 1, 3, 2)\n",
      "197 (3, 1, 1, 2)\n",
      "200 (3, 1, 2, 2)\n",
      "203 (3, 1, 3, 2)\n"
     ]
    }
   ],
   "source": [
    "best_pol_effect_ctl = np.max(y_ctl)\n",
    "sqrd_err_best_pol_ctl = (true_best_eff - best_pol_effect_ctl)**2\n",
    "print(f\"{sqrd_err_best_pol_ctl:.3e}\")\n",
    "\n",
    "best_pol_idx_ctl = np.unique(D[np.where(y_ctl == best_pol_effect_ctl)])\n",
    "for idx in best_pol_idx_ctl:\n",
    "    print(idx, all_policies[idx])"
   ]
  },
  {
   "cell_type": "code",
   "execution_count": null,
   "id": "a3fc569c-45d1-4293-93ab-90d8e780c736",
   "metadata": {},
   "outputs": [],
   "source": []
  }
 ],
 "metadata": {
  "kernelspec": {
   "display_name": "Python 3.11 (venv)",
   "language": "python",
   "name": "venv"
  },
  "language_info": {
   "codemirror_mode": {
    "name": "ipython",
    "version": 3
   },
   "file_extension": ".py",
   "mimetype": "text/x-python",
   "name": "python",
   "nbconvert_exporter": "python",
   "pygments_lexer": "ipython3",
   "version": "3.11.3"
  }
 },
 "nbformat": 4,
 "nbformat_minor": 5
}
