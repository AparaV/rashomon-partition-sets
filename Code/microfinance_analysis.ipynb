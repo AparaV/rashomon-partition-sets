{
 "cells": [
  {
   "cell_type": "markdown",
   "id": "fc78683c-080a-4789-9f7e-517362b206e2",
   "metadata": {},
   "source": [
    "# Microfinance analysis"
   ]
  },
  {
   "cell_type": "code",
   "execution_count": 1,
   "id": "1338c75f-0d85-4888-9920-8bbabbd35cfa",
   "metadata": {},
   "outputs": [],
   "source": [
    "import numpy as np\n",
    "import pandas as pd\n",
    "import matplotlib.pyplot as plt\n",
    "\n",
    "import seaborn as sns\n",
    "\n",
    "from matplotlib import colors\n",
    "from copy import deepcopy\n",
    "\n",
    "\n",
    "%matplotlib inline"
   ]
  },
  {
   "cell_type": "code",
   "execution_count": 113,
   "id": "f4e82caa-cd5f-4dff-91d5-8987b6abe65e",
   "metadata": {},
   "outputs": [
    {
     "name": "stdout",
     "output_type": "stream",
     "text": [
      "The autoreload extension is already loaded. To reload it, use:\n",
      "  %reload_ext autoreload\n"
     ]
    }
   ],
   "source": [
    "import pickle\n",
    "\n",
    "from rashomon import tva\n",
    "from rashomon import loss\n",
    "from rashomon import counter\n",
    "from rashomon import metrics\n",
    "from rashomon import extract_pools\n",
    "from rashomon.aggregate import (RAggregate_profile, RAggregate,\n",
    "    find_profile_lower_bound, find_feasible_combinations, remove_unused_poolings, subset_data)\n",
    "from rashomon.sets import RashomonSet, RashomonProblemCache, RashomonSubproblemCache\n",
    "\n",
    "%load_ext autoreload\n",
    "%autoreload 2"
   ]
  },
  {
   "cell_type": "markdown",
   "id": "5a45ca72-c6e5-4700-94c8-60ec244e1c74",
   "metadata": {},
   "source": [
    "# Read data"
   ]
  },
  {
   "cell_type": "code",
   "execution_count": 3,
   "id": "83f262e7-a2c6-46b1-9d97-5bd57514dd82",
   "metadata": {},
   "outputs": [
    {
     "data": {
      "text/html": [
       "<div>\n",
       "<style scoped>\n",
       "    .dataframe tbody tr th:only-of-type {\n",
       "        vertical-align: middle;\n",
       "    }\n",
       "\n",
       "    .dataframe tbody tr th {\n",
       "        vertical-align: top;\n",
       "    }\n",
       "\n",
       "    .dataframe thead th {\n",
       "        text-align: right;\n",
       "    }\n",
       "</style>\n",
       "<table border=\"1\" class=\"dataframe\">\n",
       "  <thead>\n",
       "    <tr style=\"text-align: right;\">\n",
       "      <th></th>\n",
       "      <th>hhid</th>\n",
       "      <th>areaid</th>\n",
       "      <th>treatment</th>\n",
       "      <th>hh_edu</th>\n",
       "      <th>hh_gender</th>\n",
       "      <th>old_biz</th>\n",
       "      <th>area_pop_base</th>\n",
       "      <th>area_debt_total_base</th>\n",
       "      <th>area_business_total_base</th>\n",
       "      <th>area_exp_pc_mean_base</th>\n",
       "      <th>...</th>\n",
       "      <th>informal_amt_2</th>\n",
       "      <th>female_biz_pct_2</th>\n",
       "      <th>hours_week_2</th>\n",
       "      <th>durables_exp_mo_2</th>\n",
       "      <th>temptation_exp_mo_2</th>\n",
       "      <th>total_exp_mo_2</th>\n",
       "      <th>bizprofit_2</th>\n",
       "      <th>bizrev_2</th>\n",
       "      <th>bizemployees_2</th>\n",
       "      <th>girls_school_2</th>\n",
       "    </tr>\n",
       "  </thead>\n",
       "  <tbody>\n",
       "    <tr>\n",
       "      <th>0</th>\n",
       "      <td>1</td>\n",
       "      <td>1</td>\n",
       "      <td>1</td>\n",
       "      <td>1.0</td>\n",
       "      <td>1.0</td>\n",
       "      <td>0.0</td>\n",
       "      <td>1</td>\n",
       "      <td>3</td>\n",
       "      <td>2</td>\n",
       "      <td>3</td>\n",
       "      <td>...</td>\n",
       "      <td>0.000000</td>\n",
       "      <td>NaN</td>\n",
       "      <td>84.0</td>\n",
       "      <td>138.82982</td>\n",
       "      <td>0.0000</td>\n",
       "      <td>4128.3823</td>\n",
       "      <td>0.0000</td>\n",
       "      <td>0.0000</td>\n",
       "      <td>0.0</td>\n",
       "      <td>1.0</td>\n",
       "    </tr>\n",
       "    <tr>\n",
       "      <th>1</th>\n",
       "      <td>2</td>\n",
       "      <td>1</td>\n",
       "      <td>1</td>\n",
       "      <td>0.0</td>\n",
       "      <td>1.0</td>\n",
       "      <td>0.0</td>\n",
       "      <td>1</td>\n",
       "      <td>3</td>\n",
       "      <td>2</td>\n",
       "      <td>3</td>\n",
       "      <td>...</td>\n",
       "      <td>0.000000</td>\n",
       "      <td>NaN</td>\n",
       "      <td>126.0</td>\n",
       "      <td>793.41240</td>\n",
       "      <td>533.1065</td>\n",
       "      <td>6835.4253</td>\n",
       "      <td>0.0000</td>\n",
       "      <td>0.0000</td>\n",
       "      <td>0.0</td>\n",
       "      <td>1.0</td>\n",
       "    </tr>\n",
       "    <tr>\n",
       "      <th>2</th>\n",
       "      <td>3</td>\n",
       "      <td>1</td>\n",
       "      <td>1</td>\n",
       "      <td>0.0</td>\n",
       "      <td>1.0</td>\n",
       "      <td>1.0</td>\n",
       "      <td>1</td>\n",
       "      <td>3</td>\n",
       "      <td>2</td>\n",
       "      <td>3</td>\n",
       "      <td>...</td>\n",
       "      <td>0.000000</td>\n",
       "      <td>0.0</td>\n",
       "      <td>36.0</td>\n",
       "      <td>1291.11730</td>\n",
       "      <td>0.0000</td>\n",
       "      <td>11836.0750</td>\n",
       "      <td>2049.1282</td>\n",
       "      <td>2498.9368</td>\n",
       "      <td>0.0</td>\n",
       "      <td>NaN</td>\n",
       "    </tr>\n",
       "    <tr>\n",
       "      <th>3</th>\n",
       "      <td>4</td>\n",
       "      <td>1</td>\n",
       "      <td>1</td>\n",
       "      <td>0.0</td>\n",
       "      <td>1.0</td>\n",
       "      <td>1.0</td>\n",
       "      <td>1</td>\n",
       "      <td>3</td>\n",
       "      <td>2</td>\n",
       "      <td>3</td>\n",
       "      <td>...</td>\n",
       "      <td>462303.305354</td>\n",
       "      <td>1.0</td>\n",
       "      <td>84.0</td>\n",
       "      <td>347.07455</td>\n",
       "      <td>0.0000</td>\n",
       "      <td>8740.4480</td>\n",
       "      <td>2082.4473</td>\n",
       "      <td>2498.9368</td>\n",
       "      <td>1.0</td>\n",
       "      <td>1.0</td>\n",
       "    </tr>\n",
       "    <tr>\n",
       "      <th>4</th>\n",
       "      <td>5</td>\n",
       "      <td>1</td>\n",
       "      <td>1</td>\n",
       "      <td>0.0</td>\n",
       "      <td>1.0</td>\n",
       "      <td>1.0</td>\n",
       "      <td>1</td>\n",
       "      <td>3</td>\n",
       "      <td>2</td>\n",
       "      <td>3</td>\n",
       "      <td>...</td>\n",
       "      <td>45813.841071</td>\n",
       "      <td>0.0</td>\n",
       "      <td>63.0</td>\n",
       "      <td>104.12237</td>\n",
       "      <td>0.0000</td>\n",
       "      <td>6607.4670</td>\n",
       "      <td>NaN</td>\n",
       "      <td>74634.0800</td>\n",
       "      <td>0.0</td>\n",
       "      <td>NaN</td>\n",
       "    </tr>\n",
       "  </tbody>\n",
       "</table>\n",
       "<p>5 rows × 23 columns</p>\n",
       "</div>"
      ],
      "text/plain": [
       "   hhid  areaid  treatment  hh_edu  hh_gender  old_biz  area_pop_base  \\\n",
       "0     1       1          1     1.0        1.0      0.0              1   \n",
       "1     2       1          1     0.0        1.0      0.0              1   \n",
       "2     3       1          1     0.0        1.0      1.0              1   \n",
       "3     4       1          1     0.0        1.0      1.0              1   \n",
       "4     5       1          1     0.0        1.0      1.0              1   \n",
       "\n",
       "   area_debt_total_base  area_business_total_base  area_exp_pc_mean_base  ...  \\\n",
       "0                     3                         2                      3  ...   \n",
       "1                     3                         2                      3  ...   \n",
       "2                     3                         2                      3  ...   \n",
       "3                     3                         2                      3  ...   \n",
       "4                     3                         2                      3  ...   \n",
       "\n",
       "   informal_amt_2  female_biz_pct_2  hours_week_2  durables_exp_mo_2  \\\n",
       "0        0.000000               NaN          84.0          138.82982   \n",
       "1        0.000000               NaN         126.0          793.41240   \n",
       "2        0.000000               0.0          36.0         1291.11730   \n",
       "3   462303.305354               1.0          84.0          347.07455   \n",
       "4    45813.841071               0.0          63.0          104.12237   \n",
       "\n",
       "   temptation_exp_mo_2  total_exp_mo_2  bizprofit_2    bizrev_2  \\\n",
       "0               0.0000       4128.3823       0.0000      0.0000   \n",
       "1             533.1065       6835.4253       0.0000      0.0000   \n",
       "2               0.0000      11836.0750    2049.1282   2498.9368   \n",
       "3               0.0000       8740.4480    2082.4473   2498.9368   \n",
       "4               0.0000       6607.4670          NaN  74634.0800   \n",
       "\n",
       "   bizemployees_2  girls_school_2  \n",
       "0             0.0             1.0  \n",
       "1             0.0             1.0  \n",
       "2             0.0             NaN  \n",
       "3             1.0             1.0  \n",
       "4             0.0             NaN  \n",
       "\n",
       "[5 rows x 23 columns]"
      ]
     },
     "execution_count": 3,
     "metadata": {},
     "output_type": "execute_result"
    }
   ],
   "source": [
    "df = pd.read_csv(\"../Data/banerjee_miracle.csv\")\n",
    "\n",
    "df.head()"
   ]
  },
  {
   "cell_type": "code",
   "execution_count": 4,
   "id": "082b0e57-1d02-4988-9650-52079fef53f1",
   "metadata": {},
   "outputs": [],
   "source": [
    "df[\"treatment\"] = df[\"treatment\"] + 1\n",
    "df[\"hh_edu\"] = df[\"hh_edu\"] + 1\n",
    "df[\"hh_gender\"] = df[\"hh_gender\"] + 1"
   ]
  },
  {
   "cell_type": "code",
   "execution_count": 5,
   "id": "d6700905-3f5a-4daa-9ae5-d21208789229",
   "metadata": {},
   "outputs": [
    {
     "name": "stdout",
     "output_type": "stream",
     "text": [
      "Index(['anyloan_amt_2', 'informal_amt_2', 'female_biz_pct_2', 'hours_week_2',\n",
      "       'durables_exp_mo_2', 'temptation_exp_mo_2', 'total_exp_mo_2',\n",
      "       'bizprofit_2', 'bizrev_2', 'bizemployees_2', 'girls_school_2'],\n",
      "      dtype='object')\n",
      "['treatment', 'hh_edu', 'hh_gender', 'old_biz', 'area_pop_base', 'area_debt_total_base', 'area_business_total_base', 'area_exp_pc_mean_base', 'area_literate_head_base', 'area_literate_base']\n"
     ]
    }
   ],
   "source": [
    "cols = df.columns\n",
    "outcome_cols = cols[12:]\n",
    "\n",
    "print(outcome_cols)\n",
    "\n",
    "covariate_cols_id = [2, 3, 4, 5, 6, 7, 8, 9, 10, 11]\n",
    "covariate_cols = [cols[x] for x in covariate_cols_id]\n",
    "\n",
    "print(covariate_cols)"
   ]
  },
  {
   "cell_type": "code",
   "execution_count": 81,
   "id": "25e1affa-d17b-4843-9b21-e95769341a65",
   "metadata": {},
   "outputs": [
    {
     "name": "stdout",
     "output_type": "stream",
     "text": [
      "Covariates used are ['treatment', 'hh_edu', 'hh_gender', 'old_biz', 'area_debt_total_base', 'area_business_total_base']\n",
      "Outcome is anyloan_amt_2\n",
      "There are 6142 data points\n"
     ]
    }
   ],
   "source": [
    "outcome_col_id = 12\n",
    "outcome_col = cols[outcome_col_id]\n",
    "\n",
    "chosen_covariates_idx = [2, 3, 4, 5, 7, 8]\n",
    "chosen_covariates = [cols[x] for x in chosen_covariates_idx]\n",
    "\n",
    "print(f\"Covariates used are {chosen_covariates}\")\n",
    "print(f\"Outcome is {outcome_col}\")\n",
    "\n",
    "df2 = df.copy()\n",
    "df2 = df2.dropna(subset=[outcome_col], axis=0)\n",
    "\n",
    "Z = df2.to_numpy()\n",
    "\n",
    "X = Z[:, chosen_covariates_idx]\n",
    "y = Z[:, outcome_col_id]\n",
    "y = (y - np.min(y)) / (np.max(y) - np.min(y))\n",
    "y = y.reshape((-1, 1))\n",
    "\n",
    "num_data = X.shape[0]\n",
    "print(f\"There are {num_data} data points\")"
   ]
  },
  {
   "cell_type": "code",
   "execution_count": 82,
   "id": "2edb553e-c17c-487d-acae-328897e47354",
   "metadata": {},
   "outputs": [
    {
     "data": {
      "text/plain": [
       "array([ 11000.,  25000.,   5000., ..., 110720., 134510.,  26050.])"
      ]
     },
     "execution_count": 82,
     "metadata": {},
     "output_type": "execute_result"
    }
   ],
   "source": [
    "pd.unique(df2[outcome_col])"
   ]
  },
  {
   "cell_type": "markdown",
   "id": "b578f1da-3ed0-491f-88c8-08d40580ada7",
   "metadata": {},
   "source": [
    "# Analysis"
   ]
  },
  {
   "cell_type": "code",
   "execution_count": 83,
   "id": "337f777c-cceb-4959-b589-21631038f452",
   "metadata": {},
   "outputs": [],
   "source": [
    "M = 6\n",
    "R = np.array([3, 3, 3, 4, 4, 4])\n",
    "\n",
    "num_profiles = 2**M\n",
    "profiles, profile_map = tva.enumerate_profiles(M)\n",
    "\n",
    "all_policies = tva.enumerate_policies(M, R)\n",
    "num_policies = len(all_policies)\n",
    "\n",
    "policies_profiles = {}\n",
    "policies_profiles_masked = {}\n",
    "policies_ids_profiles = {}\n",
    "for k, profile in enumerate(profiles):\n",
    "\n",
    "    policies_temp = [(i, x) for i, x in enumerate(all_policies) if tva.policy_to_profile(x) == profile]\n",
    "    unzipped_temp = list(zip(*policies_temp))\n",
    "    policies_ids_k = list(unzipped_temp[0])\n",
    "    policies_k = list(unzipped_temp[1])\n",
    "    policies_profiles[k] = deepcopy(policies_k)\n",
    "    policies_ids_profiles[k] = policies_ids_k\n",
    "\n",
    "    profile_mask = list(map(bool, profile))\n",
    "\n",
    "    # Mask the empty arms\n",
    "    for idx, pol in enumerate(policies_k):\n",
    "        policies_k[idx] = tuple([pol[i] for i in range(M) if profile_mask[i]])\n",
    "    policies_profiles_masked[k] = policies_k"
   ]
  },
  {
   "cell_type": "code",
   "execution_count": 84,
   "id": "bdc9cf43-471b-4bd4-896f-44002992b7fa",
   "metadata": {},
   "outputs": [],
   "source": [
    "D = np.zeros(shape=y.shape, dtype=np.int64)\n",
    "profiles_in_data = []\n",
    "for i in range(num_data):\n",
    "    policy_i = tuple([int(x) for x in X[i, :]])\n",
    "    policy_idx = [idx for idx in range(num_policies) if all_policies[idx] == policy_i]\n",
    "    profiles_in_data.append(tva.policy_to_profile(policy_i))\n",
    "    D[i, 0] = int(policy_idx[0])\n",
    "\n",
    "policy_means = loss.compute_policy_means(D, y, num_policies)"
   ]
  },
  {
   "cell_type": "code",
   "execution_count": 85,
   "id": "074c4ee0-c7ca-4e4a-8ed9-e1cf2b02cd35",
   "metadata": {},
   "outputs": [
    {
     "name": "stdout",
     "output_type": "stream",
     "text": [
      "0.21031746031746032\n"
     ]
    },
    {
     "data": {
      "text/plain": [
       "(array([1424]),)"
      ]
     },
     "execution_count": 85,
     "metadata": {},
     "output_type": "execute_result"
    }
   ],
   "source": [
    "nodata_idx = np.where(policy_means[:, 1] == 0)[0]\n",
    "policy_means[nodata_idx, 0] = -np.inf\n",
    "policy_means[nodata_idx, 1] = 1\n",
    "mu_policies = policy_means[:, 0] / policy_means[:, 1]\n",
    "\n",
    "true_best_eff = np.max(mu_policies)\n",
    "print(true_best_eff)\n",
    "np.where(mu_policies == true_best_eff)"
   ]
  },
  {
   "cell_type": "code",
   "execution_count": null,
   "id": "002010f0-7a05-48af-9323-25087c1a7a41",
   "metadata": {},
   "outputs": [],
   "source": []
  },
  {
   "cell_type": "code",
   "execution_count": null,
   "id": "1ab4568b-a5a7-4395-9a25-65691e4b0326",
   "metadata": {},
   "outputs": [],
   "source": [
    "reg = 1e-4\n",
    "\n",
    "# With q = 6.8e-3, we got\n",
    "# Best model loss 0.006677662589304398 and epsilon 0.0149752999141002\n",
    "# Smallest model 32.0, largest model 49.0\n",
    "# And there were 4227072 models\n",
    "\n",
    "q =  4.6e-3\n",
    "\n",
    "# H = 20\n",
    "H = np.inf\n",
    "R_set, R_profiles = RAggregate(M, R, H, D, y, q, reg=reg)\n",
    "# R_set, R_profiles = RAggregate(M, R, 10, D, y, q, reg=reg)\n",
    "\n",
    "print(len(R_set))"
   ]
  },
  {
   "cell_type": "code",
   "execution_count": 95,
   "id": "b52a8550-06d7-4022-acd4-efdbd8c2b584",
   "metadata": {},
   "outputs": [
    {
     "name": "stdout",
     "output_type": "stream",
     "text": [
      "13333\n"
     ]
    }
   ],
   "source": [
    "\n",
    "R_set = find_feasible_combinations(R_profiles, 4.6e-3, np.inf, sorted=True)\n",
    "print(len(R_set))"
   ]
  },
  {
   "cell_type": "code",
   "execution_count": 96,
   "id": "4e3fc4ab-3e60-41b9-83c4-c3a092729dc5",
   "metadata": {},
   "outputs": [
    {
     "name": "stdout",
     "output_type": "stream",
     "text": [
      "Best model loss 0.004299737679159057 and epsilon 0.06977152970196171\n",
      "Smallest model 64.0, largest model 67.0\n"
     ]
    }
   ],
   "source": [
    "model_losses = []\n",
    "model_sizes = []\n",
    "\n",
    "for r_set in R_set:\n",
    "    loss_r = 0\n",
    "    size_r = 0\n",
    "    for profile, model_prof in enumerate(r_set):\n",
    "        loss_r_prof = R_profiles[profile].loss[model_prof]\n",
    "        size_r_prof = R_profiles[profile].pools[model_prof]\n",
    "        loss_r += loss_r_prof\n",
    "        size_r += size_r_prof\n",
    "    \n",
    "    model_losses.append(loss_r)\n",
    "    model_sizes.append(size_r)\n",
    "\n",
    "q0 = np.min(model_losses)\n",
    "eps = (np.max(model_losses) - np.min(model_losses)) / q0\n",
    "\n",
    "print(f\"Best model loss {q0} and epsilon {eps}\")\n",
    "\n",
    "print(f\"Smallest model {np.min(model_sizes)}, largest model {np.max(model_sizes)}\")"
   ]
  },
  {
   "cell_type": "code",
   "execution_count": 91,
   "id": "05132eda-2142-4be0-bfc1-c54f186884a9",
   "metadata": {},
   "outputs": [
    {
     "data": {
      "image/png": "[encoded data removed]",
      "text/plain": [
       "<Figure size 640x480 with 1 Axes>"
      ]
     },
     "metadata": {},
     "output_type": "display_data"
    }
   ],
   "source": [
    "plt.hist(model_sizes)\n",
    "\n",
    "plt.xlabel(\"Model complexity\")\n",
    "\n",
    "plt.show()"
   ]
  },
  {
   "cell_type": "code",
   "execution_count": 121,
   "id": "994d5b86-9346-4741-969e-1df163bd30f6",
   "metadata": {},
   "outputs": [],
   "source": [
    "res_dict = {\n",
    "    \"outcome\": outcome_col,\n",
    "    \"reg\": reg,\n",
    "    \"q\": q,\n",
    "    \"q0\": q0,\n",
    "    \"eps\": eps,\n",
    "    \"H\": H,\n",
    "    \"R_set\": R_set,\n",
    "    \"R_profiles\": R_profiles\n",
    "}"
   ]
  },
  {
   "cell_type": "code",
   "execution_count": 122,
   "id": "5bbbfd6f-f8d8-44cb-a098-c3e22a608a3d",
   "metadata": {},
   "outputs": [
    {
     "name": "stdout",
     "output_type": "stream",
     "text": [
      "Done pickling!\n"
     ]
    }
   ],
   "source": [
    "pkl_fname = \"../Results/microfinance/\" + outcome_col + \".pkl\"\n",
    "\n",
    "with open(pkl_fname, \"wb\") as f:\n",
    "    pickle.dump(res_dict, f, pickle.HIGHEST_PROTOCOL)\n",
    "\n",
    "print(\"Done pickling!\")"
   ]
  },
  {
   "cell_type": "code",
   "execution_count": null,
   "id": "f7ad1d23-af98-4c7b-8094-7fe860af0507",
   "metadata": {},
   "outputs": [],
   "source": []
  },
  {
   "cell_type": "code",
   "execution_count": null,
   "id": "5099d684-11d7-4ef1-b77f-2afcc4038fd3",
   "metadata": {},
   "outputs": [],
   "source": []
  },
  {
   "cell_type": "code",
   "execution_count": null,
   "id": "fc47d82e-f9af-456e-abe0-77f2d12b6136",
   "metadata": {},
   "outputs": [],
   "source": []
  },
  {
   "cell_type": "markdown",
   "id": "6eb76a1f-ec38-4f86-8b06-1d249bd1afd6",
   "metadata": {},
   "source": [
    "## Plots"
   ]
  },
  {
   "cell_type": "code",
   "execution_count": null,
   "id": "d2f93216-8e75-41e5-8e01-8830929fec03",
   "metadata": {},
   "outputs": [],
   "source": []
  },
  {
   "cell_type": "code",
   "execution_count": 35,
   "id": "4377cbc3-f75a-4a58-a170-65cfada6f5ed",
   "metadata": {},
   "outputs": [],
   "source": [
    "results_dir = \"../Results/microfinance/\"\n",
    "# outcome_str = \"durables_exp_mo_2\"\n",
    "outcome_str = outcome_cols[0]\n",
    "\n",
    "outcome_fname = results_dir + outcome_str + \".pkl\""
   ]
  },
  {
   "cell_type": "code",
   "execution_count": 36,
   "id": "af3faf64-9f37-435f-ba43-3414ab7e6c3a",
   "metadata": {},
   "outputs": [
    {
     "name": "stdout",
     "output_type": "stream",
     "text": [
      "0.0001 0.0046 0.004299737679159057 0.06977152970196171\n"
     ]
    }
   ],
   "source": [
    "with open(outcome_fname, \"rb\") as f:\n",
    "    res_dict = pickle.load(f)\n",
    "\n",
    "reg = res_dict[\"reg\"]\n",
    "q = res_dict[\"q\"]\n",
    "q0 = res_dict[\"q0\"]\n",
    "eps = res_dict[\"eps\"]\n",
    "H = res_dict[\"H\"]\n",
    "R_set = res_dict[\"R_set\"]\n",
    "R_profiles = res_dict[\"R_profiles\"]\n",
    "\n",
    "print(reg, q, q0, eps)"
   ]
  },
  {
   "cell_type": "code",
   "execution_count": 37,
   "id": "6fde5f83-8d15-4c72-96a2-dba9af33f970",
   "metadata": {},
   "outputs": [
    {
     "name": "stdout",
     "output_type": "stream",
     "text": [
      "0.06977152970196171\n"
     ]
    }
   ],
   "source": [
    "model_losses = []\n",
    "\n",
    "for r_set in R_set:\n",
    "    loss_r = 0\n",
    "    size_r = 0\n",
    "    for profile, model_prof in enumerate(r_set):\n",
    "        loss_r_prof = R_profiles[profile].loss[model_prof]\n",
    "        size_r_prof = R_profiles[profile].pools[model_prof]\n",
    "        loss_r += loss_r_prof\n",
    "        size_r += size_r_prof\n",
    "\n",
    "    model_losses.append(loss_r)\n",
    "    # model_sizes.append(size_r)\n",
    "\n",
    "print((np.max(model_losses) - np.min(model_losses)) / np.min(model_losses))"
   ]
  },
  {
   "cell_type": "code",
   "execution_count": 38,
   "id": "1e86336e-fd12-4726-824f-162c7acd7681",
   "metadata": {},
   "outputs": [
    {
     "data": {
      "text/plain": [
       "0.002139246002232473"
      ]
     },
     "execution_count": 38,
     "metadata": {},
     "output_type": "execute_result"
    }
   ],
   "source": [
    "eps_to_use"
   ]
  },
  {
   "cell_type": "code",
   "execution_count": 39,
   "id": "c9b111be-edf6-4735-9605-60784851e08e",
   "metadata": {},
   "outputs": [
    {
     "data": {
      "text/plain": [
       "True"
      ]
     },
     "execution_count": 39,
     "metadata": {},
     "output_type": "execute_result"
    }
   ],
   "source": [
    "np.min(model_losses) == q0"
   ]
  },
  {
   "cell_type": "code",
   "execution_count": 40,
   "id": "9646ec9a-f088-40ab-92e1-7dfcf06a3448",
   "metadata": {},
   "outputs": [
    {
     "name": "stdout",
     "output_type": "stream",
     "text": [
      "1\n"
     ]
    }
   ],
   "source": [
    "counter = 0\n",
    "\n",
    "for r_set in R_set:\n",
    "    loss_r = 0\n",
    "    size_r = 0\n",
    "    for profile, model_prof in enumerate(r_set):\n",
    "        loss_r_prof = R_profiles[profile].loss[model_prof]\n",
    "        loss_r += loss_r_prof\n",
    "\n",
    "    if loss_r <= (np.min(model_losses) * (1 + eps_to_use)):\n",
    "        counter += 1\n",
    "    # model_sizes.append(size_r)\n",
    "\n",
    "print(counter)"
   ]
  },
  {
   "cell_type": "code",
   "execution_count": 6,
   "id": "a6ec2447-eb22-42c7-a99a-4a311d4c94b2",
   "metadata": {},
   "outputs": [],
   "source": [
    "M = 6\n",
    "R = np.array([3, 3, 3, 4, 4, 4])\n",
    "\n",
    "num_profiles = 2**M\n",
    "profiles, profile_map = tva.enumerate_profiles(M)\n",
    "\n",
    "features = [\"Treatment\", \"Head Edu\", \"Head Gender\", \"Past Biz\", \"Debt\", \"Reg Biz\"]\n",
    "\n",
    "\n",
    "# 'anyloan_amt_2', 'informal_amt_2', 'female_biz_pct_2', 'hours_week_2',\n",
    "       # 'durables_exp_mo_2', 'temptation_exp_mo_2', 'total_exp_mo_2',\n",
    "       # 'bizprofit_2', 'bizrev_2', 'bizemployees_2', 'girls_school_2'\n",
    "outcome_fnames = list(cols[12:])\n",
    "outcome_names = [\"Any Loan\", \"Informal Loan\", \"Female Biz\", \"Working Hours\", \"Durables\", \"Temptation\",\n",
    "                \"Expenditure\", \"Profit\", \"Revenue\", \"Employees\", \"Girls in School\"]\n",
    "\n",
    "\n",
    "results_dir = \"../Results/microfinance/\"\n",
    "\n",
    "num_outcomes = len(outcome_fnames)"
   ]
  },
  {
   "cell_type": "code",
   "execution_count": 19,
   "id": "0b35d3c1-c3d9-427c-b926-1e1db466f489",
   "metadata": {},
   "outputs": [
    {
     "name": "stdout",
     "output_type": "stream",
     "text": [
      "Any Loan 13333 0.004299737679159057 0.06977152970196171\n",
      "Informal Loan 13333 0.0031192582167883353 0.09617670610151752\n",
      "Female Biz 1057 0.27904907428374465 0.0716719811787065\n",
      "Working Hours 13333 0.01480305114457307 0.2026608868200341\n",
      "Durables 1057 0.004224244041596716 0.04734574944784723\n",
      "Temptation 13333 0.004013143432160378 0.07475339313220042\n",
      "Expenditure 13333 0.003945524543560858 0.0760354789458616\n",
      "Profit 13333 0.0017313779542733596 0.0866361835453165\n",
      "Revenue 13333 0.008987787807085732 0.03337859824807343\n",
      "Employees 13333 0.002084221725863262 0.1439384363869692\n",
      "Girls in School 3088 0.16664350592403854 0.002139246002232473\n",
      "eps to use: 0.002139246002232473\n"
     ]
    }
   ],
   "source": [
    "eps_min = np.inf\n",
    "\n",
    "for i, outcome_str in enumerate(outcome_fnames):\n",
    "    outcome_fname = results_dir + outcome_str + \".pkl\"\n",
    "    with open(outcome_fname, \"rb\") as f:\n",
    "        res_dict = pickle.load(f)\n",
    "    \n",
    "    reg = res_dict[\"reg\"]\n",
    "    q = res_dict[\"q\"]\n",
    "    q0 = res_dict[\"q0\"]\n",
    "    eps = res_dict[\"eps\"]\n",
    "    H = res_dict[\"H\"]\n",
    "    R_set = res_dict[\"R_set\"]\n",
    "    R_profiles = res_dict[\"R_profiles\"]\n",
    "\n",
    "    print(outcome_names[i], len(R_set), q0, eps)\n",
    "\n",
    "    eps_min = min(eps_min, eps)\n",
    "\n",
    "print(f\"eps to use: {eps_min}\")"
   ]
  },
  {
   "cell_type": "code",
   "execution_count": 48,
   "id": "ad74d399-052a-4443-ad64-4414d7b2a065",
   "metadata": {},
   "outputs": [
    {
     "name": "stdout",
     "output_type": "stream",
     "text": [
      "Any Loan 49\n",
      "Informal Loan 1\n",
      "Female Biz 1\n",
      "Working Hours 1\n",
      "Durables 49\n",
      "Temptation 49\n",
      "Expenditure 49\n",
      "Profit 49\n",
      "Revenue 1546\n",
      "Employees 1\n",
      "Girls in School 3088\n"
     ]
    }
   ],
   "source": [
    "eps_to_use = eps_min\n",
    "eps_to_use = 0.03\n",
    "\n",
    "feature_splits = np.zeros(shape=(num_outcomes, len(features)), dtype=np.float64)\n",
    "profile_splits = np.zeros(shape=(num_outcomes, num_profiles))\n",
    "\n",
    "for i, outcome_str in enumerate(outcome_fnames):\n",
    "\n",
    "    # if i > 0:\n",
    "    #     break\n",
    "    \n",
    "    outcome_fname = results_dir + outcome_str + \".pkl\"\n",
    "    with open(outcome_fname, \"rb\") as f:\n",
    "        res_dict = pickle.load(f)\n",
    "    \n",
    "    reg = res_dict[\"reg\"]\n",
    "    q = res_dict[\"q\"]\n",
    "    q0 = res_dict[\"q0\"]\n",
    "    # eps = res_dict[\"eps\"]\n",
    "    # H = res_dict[\"H\"]\n",
    "    R_set = res_dict[\"R_set\"]\n",
    "    R_profiles = res_dict[\"R_profiles\"]\n",
    "\n",
    "    R_set_size = 0\n",
    "    \n",
    "    for r, model_r in enumerate(R_set):\n",
    "    \n",
    "        feature_splits_r = np.zeros(shape=(len(features),))\n",
    "        feature_present_r = np.zeros(shape=(len(features),), dtype=np.float64)\n",
    "        profile_splits_r = np.zeros(shape=(num_profiles,))\n",
    "        loss_r = 0\n",
    "        \n",
    "        for k, sigma_k_idx in enumerate(model_r):\n",
    "            \n",
    "            sigma_k = R_profiles[k].sigma[sigma_k_idx]\n",
    "            loss_r += R_profiles[k].loss[sigma_k_idx]\n",
    "            \n",
    "            if sigma_k is None:\n",
    "                continue\n",
    "            \n",
    "            sigma_temp = sigma_k.copy()\n",
    "            sigma_temp[np.isinf(sigma_temp)] = 0\n",
    "            profile_splits_r[k] += np.sum(sigma_temp)\n",
    "    \n",
    "            row_id = 0\n",
    "            for j, present in enumerate(profiles[k]):\n",
    "                if present == 1:\n",
    "                    feature_splits_r[j] += np.sum(sigma_temp[row_id, :])\n",
    "                    feature_present_r[j] += 1\n",
    "                    row_id += 1\n",
    "        \n",
    "        meets_criteria = (loss_r <= (q0 * (1 + eps_to_use)))\n",
    "        # meets_criteria = True\n",
    "        \n",
    "        if meets_criteria:\n",
    "            R_set_size += 1\n",
    "    \n",
    "            feature_splits[i, :] += np.divide(feature_splits_r, feature_present_r)\n",
    "            profile_splits[i, :] += profile_splits_r\n",
    "            # profile_splits += profile_splits_r\n",
    "\n",
    "    print(outcome_names[i], R_set_size)\n",
    "    profile_splits[i, :] = profile_splits[i, :] / R_set_size\n",
    "    feature_splits[i, :] = feature_splits[i, :] / R_set_size"
   ]
  },
  {
   "cell_type": "code",
   "execution_count": 53,
   "id": "9e9457f9-b50f-4d0d-8f2c-9003b243f62e",
   "metadata": {},
   "outputs": [
    {
     "data": {
      "image/png": "[encoded data removed]",
      "text/plain": [
       "<Figure size 640x480 with 2 Axes>"
      ]
     },
     "metadata": {},
     "output_type": "display_data"
    }
   ],
   "source": [
    "\n",
    "sns.heatmap(\n",
    "    feature_splits[:, :],\n",
    "    # feature_splits[:, :] / np.array([[1, 1, 1, 2, 2, 2]]),\n",
    "    cmap=\"OrRd\",\n",
    "    # norm=colors.LogNorm(),\n",
    "    linewidths=0.5,\n",
    "    linecolor=\"black\",\n",
    "    annot=False,\n",
    "    square=True\n",
    ")\n",
    "\n",
    "\n",
    "plt.xlabel(\"Features\")\n",
    "plt.ylabel(\"Outcome\")\n",
    "\n",
    "plt.yticks(np.arange(0, len(outcome_fnames)) + 0.5, outcome_names, rotation=0)\n",
    "\n",
    "plt.xticks(np.arange(0, len(features))+0.5, features, rotation=90)\n",
    "\n",
    "# plt.title(\"Feature heterogeneity\")\n",
    "\n",
    "plt.show()"
   ]
  },
  {
   "cell_type": "code",
   "execution_count": 50,
   "id": "2de76c49-85e1-4b33-a587-326c79cb6485",
   "metadata": {},
   "outputs": [
    {
     "data": {
      "text/plain": [
       "array([0.48979592, 0.6122449 , 0.6122449 , 0.68571429, 0.6122449 ,\n",
       "       0.68571429, 0.68571429, 0.73469388])"
      ]
     },
     "execution_count": 50,
     "metadata": {},
     "output_type": "execute_result"
    }
   ],
   "source": [
    "num_possible_splits = []\n",
    "for profile in profiles:\n",
    "    m = np.sum(profile)\n",
    "    num_possible_splits.append(2*m)\n",
    "\n",
    "profile_splits[0, 56:] / num_possible_splits[56:]"
   ]
  },
  {
   "cell_type": "code",
   "execution_count": 51,
   "id": "243ade57-a352-433f-aa3d-a7a791d281a3",
   "metadata": {},
   "outputs": [
    {
     "data": {
      "image/png": "[encoded data removed]",
      "text/plain": [
       "<Figure size 640x480 with 2 Axes>"
      ]
     },
     "metadata": {},
     "output_type": "display_data"
    }
   ],
   "source": [
    "\n",
    "\n",
    "sns.heatmap(\n",
    "    # profile_splits[:, active_profiles_idx],\n",
    "    # profile_splits[0, active_profiles_idx] / np.array([[1, 4, 6, 8]]),\n",
    "    # profile_splits[:, 56:],\n",
    "    profile_splits[:, 56:] / np.array([num_possible_splits[56:]]),\n",
    "    cmap=\"OrRd\",\n",
    "    # norm=colors.LogNorm(),\n",
    "    linewidths=0.5,\n",
    "    linecolor=\"black\",\n",
    "    annot=False,\n",
    "    square=True\n",
    ")\n",
    "\n",
    "\n",
    "plt.xlabel(\"Profiles\\n( Trt , HH_edu , HH_gen , HH_biz , Reg_debt, Reg_biz )\")\n",
    "plt.ylabel(\"Outcome\")\n",
    "\n",
    "# plt.xticks(np.arange(0, len(active_profiles_idx)) + 0.5, profile_labels, rotation=90)\n",
    "plt.xticks(np.arange(0, 8)+0.5, profiles[56:], rotation=90)\n",
    "# plt.yticks([0.5], [\"Any loan\"])\n",
    "\n",
    "plt.yticks(np.arange(0, len(outcome_fnames)) + 0.5, outcome_names, rotation=0)\n",
    "\n",
    "# plt.title(\"Heterogeneity\")\n",
    "\n",
    "\n",
    "plt.show()"
   ]
  },
  {
   "cell_type": "code",
   "execution_count": null,
   "id": "7dbf28e2-a81c-4ec2-9f84-0d9f9c28836f",
   "metadata": {},
   "outputs": [],
   "source": []
  },
  {
   "cell_type": "code",
   "execution_count": null,
   "id": "5e37e01e-a70c-426b-82ce-7bae4907fd66",
   "metadata": {},
   "outputs": [],
   "source": []
  },
  {
   "cell_type": "markdown",
   "id": "6ec5ba73-8d7d-4273-87ec-23373284c759",
   "metadata": {},
   "source": [
    "## Treatment effects"
   ]
  },
  {
   "cell_type": "markdown",
   "id": "c58f86ad-0db8-48b6-85a8-0bc948e4829b",
   "metadata": {},
   "source": [
    "### Format data"
   ]
  },
  {
   "cell_type": "code",
   "execution_count": 303,
   "id": "97ff5230-b75f-4fdb-a2a4-04d572eef4a0",
   "metadata": {},
   "outputs": [],
   "source": [
    "def format_data(df, outcome_col_id):\n",
    "    \n",
    "    outcome_col = cols[outcome_col_id]\n",
    "    df2 = df.copy()\n",
    "    df2 = df2.dropna(subset=[outcome_col], axis=0)\n",
    "    \n",
    "    Z = df2.to_numpy()\n",
    "    \n",
    "    X = Z[:, chosen_covariates_idx]\n",
    "    y = Z[:, outcome_col_id]\n",
    "    y = (y - np.min(y)) / (np.max(y) - np.min(y))\n",
    "    y = y.reshape((-1, 1))\n",
    "\n",
    "    return X, y\n",
    "\n",
    "def match_treatment_control_pools(pi_pools, policies_i):\n",
    "    pairs = []\n",
    "    found = []\n",
    "\n",
    "    remaining_pools = list(pi_pools.keys())\n",
    "\n",
    "    for i, pool_i in enumerate(pi_pools.keys()):\n",
    "        if pool_i in found:\n",
    "            continue\n",
    "\n",
    "        policy_pool_i_0 = policies_i[pi_pools[pool_i][0]]\n",
    "\n",
    "        j_idx = None\n",
    "        for j, pool_j in enumerate(remaining_pools):\n",
    "            policy_pool_j_0 = policies_i[pi_pools[pool_j][0]]\n",
    "            if policy_pool_j_0[0] != policy_pool_i_0[0] and policy_pool_j_0[1:] == policy_pool_i_0[1:]:\n",
    "                j_idx = j\n",
    "                if policy_pool_j_0[0] == 1:\n",
    "                    pairs.append([pool_j, pool_i])\n",
    "                else:\n",
    "                    pairs.append([pool_i, pool_j])\n",
    "                break\n",
    "        found += [pool_i, pool_j]\n",
    "        remaining_pools = remaining_pools[:j_idx] + remaining_pools[(j_idx+1):]\n",
    "\n",
    "    return pairs"
   ]
  },
  {
   "cell_type": "code",
   "execution_count": 307,
   "id": "85b90927-5079-4ba8-a9d3-02a240e75e9f",
   "metadata": {},
   "outputs": [],
   "source": [
    "def get_policy_means(M, R, y):\n",
    "    \n",
    "    num_profiles = 2**M\n",
    "    profiles, profile_map = tva.enumerate_profiles(M)\n",
    "    \n",
    "    all_policies = tva.enumerate_policies(M, R)\n",
    "    num_policies = len(all_policies)\n",
    "    \n",
    "    D = np.zeros(shape=y.shape, dtype=np.int64)\n",
    "    profiles_in_data = []\n",
    "    for i in range(num_data):\n",
    "        policy_i = tuple([int(x) for x in X[i, :]])\n",
    "        policy_idx = [idx for idx in range(num_policies) if all_policies[idx] == policy_i]\n",
    "        profiles_in_data.append(tva.policy_to_profile(policy_i))\n",
    "        D[i, 0] = int(policy_idx[0])\n",
    "    \n",
    "    D_profiles = {}\n",
    "    y_profiles = {}\n",
    "    policy_means_profiles = {}\n",
    "    policies_profiles = {}\n",
    "    policies_profiles_masked = {}\n",
    "    policies_ids_profiles = {}\n",
    "    for k, profile in enumerate(profiles):\n",
    "    \n",
    "        policies_temp = [(i, x) for i, x in enumerate(all_policies) if tva.policy_to_profile(x) == profile]\n",
    "        unzipped_temp = list(zip(*policies_temp))\n",
    "        policies_ids_k = list(unzipped_temp[0])\n",
    "        policies_k = list(unzipped_temp[1])\n",
    "        policies_profiles[k] = deepcopy(policies_k)\n",
    "        policies_ids_profiles[k] = policies_ids_k\n",
    "    \n",
    "        profile_mask = list(map(bool, profile))\n",
    "    \n",
    "        # Mask the empty arms\n",
    "        for idx, pol in enumerate(policies_k):\n",
    "            policies_k[idx] = tuple([pol[i] for i in range(M) if profile_mask[i]])\n",
    "        policies_profiles_masked[k] = policies_k\n",
    "    \n",
    "        D_k, y_k = subset_data(D, y, policies_ids_k)\n",
    "        D_profiles[k] = D_k\n",
    "        y_profiles[k] = y_k\n",
    "    \n",
    "        if D_k is None:\n",
    "            policy_means_profiles[k] = None\n",
    "        else:\n",
    "            policy_means_k = loss.compute_policy_means(D_k, y_k, len(policies_profiles[k]))\n",
    "            policy_means_profiles[k] = policy_means_k\n",
    "    \n",
    "    \n",
    "    policy_means = loss.compute_policy_means(D, y, num_policies)\n",
    "\n",
    "\n",
    "    return D_profiles, y_profiles, policy_means_profiles, policies_profiles_masked"
   ]
  },
  {
   "cell_type": "code",
   "execution_count": 311,
   "id": "8fbb8fe0-b183-49b8-9680-99b75bce4168",
   "metadata": {},
   "outputs": [],
   "source": [
    "def read_pickle(results_dir, fname):\n",
    "\n",
    "    outcome_fname = results_dir + outcome_col + \".pkl\"\n",
    "    \n",
    "    with open(outcome_fname, \"rb\") as f:\n",
    "        res_dict = pickle.load(f)\n",
    "    \n",
    "    # reg = res_dict[\"reg\"]\n",
    "    # q = res_dict[\"q\"]\n",
    "    # q0 = res_dict[\"q0\"]\n",
    "    # eps = res_dict[\"eps\"]\n",
    "    # H = res_dict[\"H\"]\n",
    "    R_set = res_dict[\"R_set\"]\n",
    "    R_profiles = res_dict[\"R_profiles\"]\n",
    "\n",
    "    return R_set, R_profiles"
   ]
  },
  {
   "cell_type": "code",
   "execution_count": 458,
   "id": "612f92b6-4058-4d70-9829-90c6c778ef2f",
   "metadata": {},
   "outputs": [],
   "source": [
    "def get_counts(R_profiles, D_profiles, y_profiles,\n",
    "               policies_profiles_masked, policy_means_profiles,\n",
    "               ignore_gender=True,\n",
    "               gender_to_ignore=2, # 2 is male, 1 is female\n",
    "               include_trt_hom=False):\n",
    "    # Find all profiles with data\n",
    "    active_profiles = []\n",
    "    for i, partitions in enumerate(R_profiles):\n",
    "        if partitions.sigma[0] is not None:\n",
    "            active_profiles.append(i)\n",
    "\n",
    "    num_active_profiles = len(active_profiles)\n",
    "    \n",
    "    zero_eff_ctr_partition = np.zeros(num_active_profiles)\n",
    "    zero_eff_ctr_weird = np.zeros(num_active_profiles)\n",
    "    total_ctr_partition = np.zeros(num_active_profiles)\n",
    "    \n",
    "    positive_eff_ctr = np.zeros(num_active_profiles)\n",
    "    \n",
    "    negative_eff_ctr = np.zeros(num_active_profiles)\n",
    "\n",
    "\n",
    "    for i, profile_id in enumerate(active_profiles):\n",
    "        total_ctr_partition[i] = R_profiles[profile_id].size\n",
    "    \n",
    "        D_i = D_profiles[profile_id]\n",
    "        y_i = y_profiles[profile_id]\n",
    "        policies_i = policies_profiles_masked[profile_id]\n",
    "        # print(policies_i)\n",
    "        policy_means_i = policy_means_profiles[profile_id]\n",
    "    \n",
    "        \n",
    "        for j in range(int(total_ctr_partition[i])):\n",
    "            \n",
    "            pos_eff_ctr_i = 0\n",
    "            neg_eff_ctr_i = 0\n",
    "            \n",
    "            sigma_i = R_profiles[profile_id].sigma[j].copy()\n",
    "            \n",
    "            sigma_i_ones = sigma_i.copy()\n",
    "            sigma_i_ones[np.isinf(sigma_i)] = 1\n",
    "            \n",
    "            # Everything is equal\n",
    "            if np.all(np.equal(sigma_i_ones, 1)):\n",
    "                zero_eff_ctr_partition[i] += 1\n",
    "    \n",
    "            # No treatment heterogeneity but heterogeneity in other covariates\n",
    "            elif sigma_i[0, 0] == 1:\n",
    "                if include_trt_hom:\n",
    "                    zero_eff_ctr_weird[i] += 1\n",
    "                else:\n",
    "                    total_ctr_partition[i] -= 1\n",
    "    \n",
    "            # Treatment heterogeneity\n",
    "            elif sigma_i[0, 0] == 0:\n",
    "                # Find the partition pools\n",
    "                pi_pools, pi_policies = extract_pools.extract_pools(policies_i, sigma_i)\n",
    "                mu_pools = loss.compute_pool_means(policy_means_i, pi_pools)\n",
    "    \n",
    "                num_pools = len(pi_pools)\n",
    "    \n",
    "                # Match treatment and control pool IDs\n",
    "                pairs = match_treatment_control_pools(pi_pools, policies_i)\n",
    "                \n",
    "                for con_i, trt_i in pairs:\n",
    "\n",
    "                    if not ignore_gender:\n",
    "                        row_id = 2\n",
    "                        # If we pool, skip it\n",
    "                        if sigma_i[row_id, 0] == 1:\n",
    "                            num_pools -= 2\n",
    "                            continue\n",
    "                        # Now check if con_i has female\n",
    "                        policy_con_i_0 = policies_i[pi_pools[con_i][0]]\n",
    "                        if policy_con_i_0[row_id] == gender_to_ignore:\n",
    "                            num_pools -= 2\n",
    "                            continue\n",
    "                    \n",
    "                    mu_i_con = mu_pools[con_i]\n",
    "                    mu_i_trt = mu_pools[trt_i]\n",
    "                    if mu_i_trt > mu_i_con:\n",
    "                        pos_eff_ctr_i += 1\n",
    "                    else:\n",
    "                        neg_eff_ctr_i += 1\n",
    "\n",
    "                if num_pools > 0:\n",
    "                    pos_eff_ctr_i *= (2 / num_pools)\n",
    "                    neg_eff_ctr_i *= (2 / num_pools)\n",
    "                else:\n",
    "                    total_ctr_partition[i] -= 1\n",
    "    \n",
    "            positive_eff_ctr[i] += pos_eff_ctr_i\n",
    "            negative_eff_ctr[i] += neg_eff_ctr_i\n",
    "\n",
    "    return zero_eff_ctr_partition, zero_eff_ctr_weird, positive_eff_ctr, negative_eff_ctr, total_ctr_partition"
   ]
  },
  {
   "cell_type": "code",
   "execution_count": 454,
   "id": "d06624ba-b9ae-4935-ac10-1c59eb76b676",
   "metadata": {},
   "outputs": [
    {
     "name": "stdout",
     "output_type": "stream",
     "text": [
      "Covariates used are ['treatment', 'hh_edu', 'hh_gender', 'old_biz', 'area_debt_total_base', 'area_business_total_base']\n"
     ]
    }
   ],
   "source": [
    "M = 6\n",
    "R = np.array([3, 3, 3, 4, 4, 4])\n",
    "\n",
    "results_dir = \"../Results/microfinance/\"\n",
    "\n",
    "chosen_covariates_idx = [2, 3, 4, 5, 7, 8]\n",
    "chosen_covariates = [cols[x] for x in chosen_covariates_idx]\n",
    "print(f\"Covariates used are {chosen_covariates}\")\n",
    "\n",
    "outcome_names = [\"Any Loan\", \"Informal Loan\", \"Female Biz\", \"Working Hours\", \"Durables\", \"Temptation\",\n",
    "                \"Expenditure\", \"Profit\", \"Revenue\", \"Employees\", \"Girls in School\"]\n",
    "\n",
    "profile_labels_on = [\n",
    "    \"Gen\",\n",
    "    \"Gen, Reg. Biz\",\n",
    "    \"Gen, Reg. Debt\",\n",
    "    \"Gen, Reg. Debt, Reg. Biz\",\n",
    "    \"Gen, Biz\",\n",
    "    \"Gen, Biz, Reg. Biz\",\n",
    "    \"Gen, Biz, Reg. Debt\",\n",
    "    \"Gen, Biz, Reg. Debt, Reg. Biz\",\n",
    "]\n",
    "\n",
    "# profile_labels_on = [x[5:] for x in profile_labels_on]\n",
    "profile_labels_on = [x.replace(\",\", \" |\") for x in profile_labels_on]"
   ]
  },
  {
   "cell_type": "code",
   "execution_count": 468,
   "id": "006d152a-0077-411a-aae4-76d51a7c105c",
   "metadata": {},
   "outputs": [
    {
     "name": "stdout",
     "output_type": "stream",
     "text": [
      "There are 6142 data points\n",
      "Outcome is anyloan_amt_2\n"
     ]
    },
    {
     "data": {
      "image/png": "[encoded data removed]",
      "text/plain": [
       "<Figure size 640x480 with 2 Axes>"
      ]
     },
     "metadata": {},
     "output_type": "display_data"
    }
   ],
   "source": [
    "# outcome_col_id = 19\n",
    "ignore_gender = False\n",
    "gender_to_ignore = 1\n",
    "\n",
    "gender_label_replacement = \"\"\n",
    "\n",
    "if not ignore_gender:\n",
    "    if gender_to_ignore == 2:\n",
    "        gender_label_replacement = \"F\"\n",
    "    else:\n",
    "        gender_label_replacement = \"M\"\n",
    "custom_labels_on = [x.replace(\"Gen\", gender_label_replacement) for x in profile_labels_on]\n",
    "        \n",
    "\n",
    "for outcome_col_id in range(12, 23):\n",
    "\n",
    "    outcome_col = cols[outcome_col_id]\n",
    "    outcome_title = outcome_names[outcome_col_id-12]\n",
    "    \n",
    "    X, y = format_data(df, outcome_col_id)\n",
    "    \n",
    "    num_data = X.shape[0]\n",
    "    \n",
    "    print(f\"There are {num_data} data points\")\n",
    "    print(f\"Outcome is {outcome_col}\")\n",
    "    \n",
    "    \n",
    "    D_profiles, y_profiles, policy_means_profiles, policies_profiles_masked = get_policy_means(M, R, y)\n",
    "    \n",
    "    \n",
    "    R_set, R_profiles = read_pickle(results_dir, outcome_col + \"_pruned\")\n",
    "    # R_set, R_profiles = read_pickle(results_dir, outcome_col)\n",
    "    \n",
    "    ctr_res = get_counts(R_profiles, D_profiles, y_profiles, policies_profiles_masked, policy_means_profiles,\n",
    "                         ignore_gender=ignore_gender,\n",
    "                         gender_to_ignore=gender_to_ignore,\n",
    "                        include_trt_hom=True)\n",
    "    \n",
    "    zero_eff_ctr_partition = ctr_res[0]\n",
    "    zero_eff_ctr_weird = ctr_res[1]\n",
    "    positive_eff_ctr = ctr_res[2]\n",
    "    negative_eff_ctr = ctr_res[3]\n",
    "    total_ctr_partition = ctr_res[4]\n",
    "    \n",
    "    plot_matrix = np.concatenate((\n",
    "        negative_eff_ctr,\n",
    "        # zero_eff_ctr_partition,\n",
    "        zero_eff_ctr_partition + zero_eff_ctr_weird,\n",
    "        positive_eff_ctr),\n",
    "        axis=0).reshape((3,-1))\n",
    "    \n",
    "    plot_matrix = plot_matrix / total_ctr_partition\n",
    "\n",
    "    plt.figure()\n",
    "    \n",
    "    sns.heatmap(\n",
    "        plot_matrix.T,\n",
    "        # feature_splits[:, :] / np.array([[1, 1, 1, 2, 2, 2]]),\n",
    "        cmap=\"OrRd\",\n",
    "        # norm=colors.LogNorm(),\n",
    "        linewidths=0.5,\n",
    "        linecolor=\"black\",\n",
    "        # annot=True,\n",
    "        square=True,\n",
    "        vmin=0,\n",
    "        vmax=1,\n",
    "        cbar_kws={\n",
    "            \"label\": 'Frequency in the Rashomon set'\n",
    "        }\n",
    "    )\n",
    "\n",
    "    \n",
    "    plt.title(outcome_title)\n",
    "    plt.xlabel(\"\")\n",
    "    plt.ylabel(\"\")\n",
    "    \n",
    "    plt.xticks(np.arange(0, 3) + 0.5, [\"Negative\", \"Zero\", \"Positive\"], rotation=90)\n",
    "    plt.yticks(np.arange(0, num_active_profiles)+0.5, custom_labels_on, rotation=0)\n",
    "    \n",
    "    # plt.savefig(f\"../Figures/microfinance/{outcome_col}.png\", dpi=300, bbox_inches=\"tight\")\n",
    "\n",
    "    break\n",
    "    \n",
    "    # plt.show()"
   ]
  },
  {
   "cell_type": "code",
   "execution_count": null,
   "id": "8900f48e-b8f4-4f5e-9786-4ec15084875f",
   "metadata": {},
   "outputs": [],
   "source": []
  },
  {
   "cell_type": "code",
   "execution_count": null,
   "id": "78654855-c789-4ef1-b36c-3cacf778fe85",
   "metadata": {},
   "outputs": [],
   "source": []
  },
  {
   "cell_type": "code",
   "execution_count": null,
   "id": "539f0be6-ecc9-47f6-b9cd-80ff06da7072",
   "metadata": {},
   "outputs": [],
   "source": []
  },
  {
   "cell_type": "code",
   "execution_count": null,
   "id": "e9bc677f-14e7-4557-b4cc-b53a918a3b4c",
   "metadata": {},
   "outputs": [],
   "source": []
  },
  {
   "cell_type": "markdown",
   "id": "1ddf18a5-8b73-4d44-bf8e-f4b695ccacd8",
   "metadata": {},
   "source": [
    "The error estimation plot"
   ]
  },
  {
   "cell_type": "code",
   "execution_count": 578,
   "id": "0e372832-83a3-4965-b9a9-efccd427f79f",
   "metadata": {},
   "outputs": [
    {
     "name": "stdout",
     "output_type": "stream",
     "text": [
      "There are 6116 data points\n",
      "Outcome is bizrev_2\n",
      "Best model loss 0.007947748916537992 and epsilon 0.0005977766435389958\n",
      "Smallest model 142.0, largest model 200.0\n"
     ]
    },
    {
     "data": {
      "image/png": "[encoded data removed]",
      "text/plain": [
       "<Figure size 600x500 with 1 Axes>"
      ]
     },
     "metadata": {},
     "output_type": "display_data"
    }
   ],
   "source": [
    "# outcome_col_id = 13\n",
    "\n",
    "for outcome_col_id in range(12, 23):\n",
    "\n",
    "    if outcome_col_id != 20:\n",
    "        continue\n",
    "    \n",
    "    outcome_col = cols[outcome_col_id]\n",
    "    outcome_title = outcome_names[outcome_col_id-12]\n",
    "    \n",
    "    X, y = format_data(df, outcome_col_id)\n",
    "    \n",
    "    num_data = X.shape[0]\n",
    "    \n",
    "    print(f\"There are {num_data} data points\")\n",
    "    print(f\"Outcome is {outcome_col}\")\n",
    "    \n",
    "    \n",
    "    D_profiles, y_profiles, policy_means_profiles, policies_profiles_masked = get_policy_means(M, R, y)\n",
    "    \n",
    "    \n",
    "    R_set, R_profiles = read_pickle(results_dir, outcome_col)\n",
    "    \n",
    "    model_losses = []\n",
    "    model_sizes = []\n",
    "    \n",
    "    for r_set in R_set:\n",
    "        loss_r = 0\n",
    "        size_r = 0\n",
    "        for profile, model_prof in enumerate(r_set):\n",
    "            loss_r_prof = R_profiles[profile].loss[model_prof]\n",
    "            size_r_prof = R_profiles[profile].pools[model_prof]\n",
    "            loss_r += loss_r_prof\n",
    "            size_r += size_r_prof\n",
    "        \n",
    "        model_losses.append(loss_r)\n",
    "        model_sizes.append(size_r)\n",
    "    \n",
    "    q0 = np.min(model_losses)\n",
    "    eps = (np.max(model_losses) - np.min(model_losses)) / q0\n",
    "    \n",
    "    print(f\"Best model loss {q0} and epsilon {eps}\")\n",
    "    \n",
    "    print(f\"Smallest model {np.min(model_sizes)}, largest model {np.max(model_sizes)}\")\n",
    "    \n",
    "    sorted_losses = np.sort(model_losses)\n",
    "    sorted_epsilon = sorted_losses / np.min(model_losses) - 1\n",
    "    \n",
    "    num_models = np.arange(0, len(model_losses))+1\n",
    "    model_errors = np.exp(-sorted_losses) * num_models\n",
    "    \n",
    "    \n",
    "    fig, ax = plt.subplots(figsize=(6,5))\n",
    "    \n",
    "    ax.spines[['right', 'top']].set_visible(False)\n",
    "\n",
    "    errors_factor = 1 / model_errors - 1\n",
    "    \n",
    "    ax.plot(sorted_epsilon, errors_factor,\n",
    "            color=\"dodgerblue\",\n",
    "           zorder=3.1)\n",
    "    \n",
    "    ax.set_xlabel(r\"$\\epsilon$\")\n",
    "    ax.set_ylabel(r\"$\\mathcal{O} \\left( 1 - 1 / \\theta |P_{\\theta}| \\right)$\", rotation=90)\n",
    "    \n",
    "    # ax.set_yticks([1, 100, 200, 300, 400, 500])\n",
    "    \n",
    "    ax.set_xlim(0, np.max(sorted_epsilon))\n",
    "    ax.set_ylim(np.min(errors_factor), np.max(errors_factor))\n",
    "    \n",
    "    # plt.savefig(f\"../Figures/microfinance/est_error/{outcome_col}_est_error.png\", dpi=300, bbox_inches=\"tight\")\n",
    "\n",
    "    \n",
    "\n",
    "# plt.show()"
   ]
  },
  {
   "cell_type": "code",
   "execution_count": 345,
   "id": "e762dfd7-1b0b-49f2-8c3b-0b9fc7c91c78",
   "metadata": {},
   "outputs": [],
   "source": []
  },
  {
   "cell_type": "code",
   "execution_count": 350,
   "id": "0b92d1a1-50fb-4aa9-8fbe-2151a13b735b",
   "metadata": {},
   "outputs": [],
   "source": [
    "# fig, ax = plt.subplots(figsize=(6,5))\n",
    "\n",
    "# ax.spines[['right', 'top']].set_visible(False)\n",
    "\n",
    "# ax.plot(sorted_epsilon, num_models,\n",
    "#         color=\"dodgerblue\")\n",
    "\n",
    "# ax.set_xlabel(r\"$\\epsilon$\")\n",
    "# ax.set_ylabel(\"Number of models in Rashomon set\")\n",
    "\n",
    "# # ax.set_yticks([1, 100, 200, 300, 400, 500])\n",
    "\n",
    "# ax.set_xlim(0, np.max(sorted_epsilon))\n",
    "# # ax.set_ylim(1, 550)\n",
    "\n",
    "# # plt.savefig(\"../Figures/price_charity/eps_vs_size.png\", dpi=300, bbox_inches=\"tight\")\n",
    "\n",
    "# plt.show()"
   ]
  },
  {
   "cell_type": "code",
   "execution_count": null,
   "id": "464580d6-bc5f-4124-b350-4f8dc6e8fb4f",
   "metadata": {},
   "outputs": [],
   "source": []
  },
  {
   "cell_type": "code",
   "execution_count": null,
   "id": "b5183dd5-caa7-40c0-be2f-9cc395308e2e",
   "metadata": {},
   "outputs": [],
   "source": []
  },
  {
   "cell_type": "code",
   "execution_count": 464,
   "id": "01e1bdd2-fba1-4449-8f0b-686f9f55d464",
   "metadata": {},
   "outputs": [
    {
     "name": "stdout",
     "output_type": "stream",
     "text": [
      "12 anyloan_amt_2 1e-06 0.00348 0.0007328375487286855 6911\n",
      "13 informal_amt_2 1e-06 0.002321 0.0009061116182819642 4063\n",
      "14 female_biz_pct_2 0.0001 0.19295 0.0023460283418747846 5521\n",
      "15 hours_week_2 0.001 0.018 0.2026608868200341 13333\n",
      "16 durables_exp_mo_2 0.0001 0.0045 0.04734574944784723 1057\n",
      "17 temptation_exp_mo_2 0.0001 0.00435 0.07475339313220042 13333\n",
      "18 total_exp_mo_2 0.0001 0.0043 0.0760354789458616 13333\n",
      "19 bizprofit_2 5e-05 0.0019 0.0866361835453165 13333\n",
      "20 bizrev_2 0.0001 0.0093 0.03337859824807343 13333\n",
      "21 bizemployees_2 0.0001 0.0024 0.1439384363869692 13333\n",
      "22 girls_school_2 0.0001 0.167 0.002139246002232473 3088\n"
     ]
    }
   ],
   "source": [
    "for outcome_col_id in range(12, 23):\n",
    "    outcome_col = cols[outcome_col_id]\n",
    "    outcome_fname = results_dir + outcome_col + \".pkl\"\n",
    "    \n",
    "    with open(outcome_fname, \"rb\") as f:\n",
    "        res_dict = pickle.load(f)\n",
    "    \n",
    "    reg = res_dict[\"reg\"]\n",
    "    q = res_dict[\"q\"]\n",
    "    # q0 = res_dict[\"q0\"]\n",
    "    eps = res_dict[\"eps\"]\n",
    "    # H = res_dict[\"H\"]\n",
    "    R_set = res_dict[\"R_set\"]\n",
    "    # R_profiles = res_dict[\"R_profiles\"]\n",
    "\n",
    "    print(outcome_col_id, outcome_col, reg, q, eps, len(R_set))"
   ]
  },
  {
   "cell_type": "markdown",
   "id": "954f9b84-d68d-48e3-8ca9-22a9eb2a312e",
   "metadata": {},
   "source": [
    "Pruning to smaller epsilon"
   ]
  },
  {
   "cell_type": "code",
   "execution_count": 579,
   "id": "9f693c0c-82a9-4a43-b74d-e67bb9c8ad68",
   "metadata": {},
   "outputs": [],
   "source": [
    "outcome_col_id = 20\n",
    "outcome_col = cols[outcome_col_id]\n",
    "outcome_fname = results_dir + outcome_col + \".pkl\"\n",
    "\n",
    "with open(outcome_fname, \"rb\") as f:\n",
    "    res_dict = pickle.load(f)\n",
    "\n",
    "# reg = res_dict[\"reg\"]\n",
    "# q = res_dict[\"q\"]\n",
    "q0 = res_dict[\"q0\"]\n",
    "eps = res_dict[\"eps\"]\n",
    "# H = res_dict[\"H\"]\n",
    "R_set = res_dict[\"R_set\"]\n",
    "R_profiles = res_dict[\"R_profiles\"]"
   ]
  },
  {
   "cell_type": "code",
   "execution_count": 573,
   "id": "ac9df5ef-3147-4116-a0c1-fb9171f86cbd",
   "metadata": {},
   "outputs": [
    {
     "name": "stdout",
     "output_type": "stream",
     "text": [
      "5998\n"
     ]
    }
   ],
   "source": [
    "R_set = find_feasible_combinations(R_profiles, 7.9525e-3, np.inf, sorted=True)\n",
    "print(len(R_set))"
   ]
  },
  {
   "cell_type": "code",
   "execution_count": 582,
   "id": "dbf7597d-3681-41bb-82d4-3fdc77c6a069",
   "metadata": {},
   "outputs": [
    {
     "name": "stdout",
     "output_type": "stream",
     "text": [
      "Original size = 5998. After pruning = 832\n",
      "Origial eps = 0.0005977766435389958. After pruning = 0.000399791107692517\n"
     ]
    }
   ],
   "source": [
    "R_set_pruned = []\n",
    "\n",
    "desired_epsilon = 0.0004\n",
    "loss_threshold = q0 * (1 + desired_epsilon)\n",
    "\n",
    "model_losses = []\n",
    "for r, model_r in enumerate(R_set):\n",
    "    loss_r = 0\n",
    "    for k, prof_k_id in enumerate(model_r):\n",
    "        loss_r += R_profiles[k].loss[prof_k_id]\n",
    "    if loss_r <= loss_threshold:\n",
    "        model_losses.append(loss_r)\n",
    "        R_set_pruned.append(model_r)\n",
    "\n",
    "q_new = np.max(model_losses)\n",
    "epsilon_new = (q_new - q0) / q0\n",
    "\n",
    "print(f\"Original size = {len(R_set)}. After pruning = {len(R_set_pruned)}\")\n",
    "print(f\"Origial eps = {eps}. After pruning = {epsilon_new}\")\n",
    "\n",
    "# R_profiles_pruned = deepcopy(R_profiles)\n",
    "# R_profiles_pruned = remove_unused_poolings(R_set_pruned, R_profiles_pruned)\n",
    "\n",
    "# res_dict = {\n",
    "#     \"outcome\": outcome_col,\n",
    "#     \"reg\": reg,\n",
    "#     \"q\": q_new,\n",
    "#     \"q0\": q0,\n",
    "#     \"eps\": epsilon_new,\n",
    "#     \"H\": H,\n",
    "#     \"R_set\": R_set_pruned,\n",
    "#     \"R_profiles\": R_profiles_pruned\n",
    "# }\n",
    "\n",
    "# pkl_fname = results_dir + outcome_col + \"_pruned.pkl\"\n",
    "\n",
    "# with open(pkl_fname, \"wb\") as f:\n",
    "#     pickle.dump(res_dict, f, pickle.HIGHEST_PROTOCOL)\n"
   ]
  },
  {
   "cell_type": "code",
   "execution_count": null,
   "id": "808c4c5e-0515-4b4c-bb47-3873e23189ec",
   "metadata": {},
   "outputs": [],
   "source": []
  }
 ],
 "metadata": {
  "kernelspec": {
   "display_name": "Python (rashomon-tva)",
   "language": "python",
   "name": "rashomon-tva"
  },
  "language_info": {
   "codemirror_mode": {
    "name": "ipython",
    "version": 3
   },
   "file_extension": ".py",
   "mimetype": "text/x-python",
   "name": "python",
   "nbconvert_exporter": "python",
   "pygments_lexer": "ipython3",
   "version": "3.11.3"
  }
 },
 "nbformat": 4,
 "nbformat_minor": 5
}
