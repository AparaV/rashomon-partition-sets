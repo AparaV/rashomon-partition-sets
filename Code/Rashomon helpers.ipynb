{
 "cells": [
  {
   "cell_type": "code",
   "execution_count": 1,
   "id": "9a619547",
   "metadata": {},
   "outputs": [],
   "source": [
    "import math\n",
    "import itertools\n",
    "import numpy as np\n",
    "import matplotlib.pyplot as plt\n",
    "\n",
    "from functools import reduce\n",
    "\n",
    "# %matplotlib inline"
   ]
  },
  {
   "cell_type": "code",
   "execution_count": 18,
   "id": "4fc96744",
   "metadata": {},
   "outputs": [
    {
     "data": {
      "text/plain": [
       "[2, 2, 2]"
      ]
     },
     "execution_count": 18,
     "metadata": {},
     "output_type": "execute_result"
    }
   ],
   "source": [
    "def prime_factors(n): \n",
    "    \n",
    "    factors = []\n",
    "    \n",
    "    while n % 2 == 0:\n",
    "        factors.append(2)\n",
    "        n = n // 2\n",
    "          \n",
    "    sqrt_n = int(np.sqrt(n))\n",
    "    for i in range(3, sqrt_n+1, 2):\n",
    "        print(i)\n",
    "        while n % i == 0: \n",
    "            factors.append(i)\n",
    "            n = n // i \n",
    "              \n",
    "    if n > 2: \n",
    "        factors.append(n)\n",
    "    \n",
    "    return factors\n",
    "\n",
    "prime_factors(10)\n",
    "prime_factors(8)"
   ]
  },
  {
   "cell_type": "code",
   "execution_count": 27,
   "id": "ee66fd51",
   "metadata": {},
   "outputs": [
    {
     "name": "stdout",
     "output_type": "stream",
     "text": [
      "(2, 5)\n",
      "(10,)\n"
     ]
    }
   ],
   "source": [
    "def generate_all_factorizations(factors):\n",
    "\n",
    "    def prod(x):\n",
    "        res = 1\n",
    "        for xi in x:\n",
    "            res *= xi\n",
    "        return res\n",
    "\n",
    "    if len(factors) <= 1:\n",
    "        yield factors\n",
    "        return\n",
    "\n",
    "    for f in range(1, len(factors)+1):\n",
    "        for which_is in itertools.combinations(range(len(factors)), f):\n",
    "            this_prod = prod(factors[i] for i in which_is)\n",
    "            rest = [factors[i] for i in range(len(factors)) if i not in which_is]\n",
    "\n",
    "            for remaining in generate_all_factorizations(rest):\n",
    "                yield [this_prod] + remaining\n",
    "\n",
    "def factorizations(factors):\n",
    "    seen = set()\n",
    "    res = []\n",
    "    for f in generate_all_factorizations(factors):\n",
    "        f = tuple(sorted(f))\n",
    "        if f in seen:\n",
    "            continue\n",
    "        seen.add(f)\n",
    "        yield f\n",
    "        \n",
    "for f in factorizations(prime_factors(10)):\n",
    "    print(f)"
   ]
  },
  {
   "cell_type": "code",
   "execution_count": 5,
   "id": "cfc1f6f8",
   "metadata": {},
   "outputs": [
    {
     "data": {
      "text/plain": [
       "{1, 2, 4, 8}"
      ]
     },
     "execution_count": 5,
     "metadata": {},
     "output_type": "execute_result"
    }
   ],
   "source": [
    "# taken from https://stackoverflow.com/a/6800214\n",
    "def factors(n):    \n",
    "    return set(reduce(list.__add__, \n",
    "                ([i, n//i] for i in range(1, int(n**0.5) + 1) if n % i == 0)))\n",
    "\n",
    "factors(8)"
   ]
  },
  {
   "cell_type": "code",
   "execution_count": 32,
   "id": "dcdc810a",
   "metadata": {},
   "outputs": [],
   "source": [
    "def count_sigma_matrix(h, m, R):\n",
    "    if h == 1 or h == (R-1)**m:\n",
    "        return 1\n",
    "    \n",
    "    N = 0\n",
    "    primes = prime_factors(h)\n",
    "    for f in factorizations(primes):\n",
    "        k = len(f)\n",
    "        if k > m:\n",
    "            continue\n",
    "        N_f = math.comb(m, k)\n",
    "        for fi in f:\n",
    "            if fi > R - 2:\n",
    "                N_f = 0\n",
    "                break\n",
    "            N_f = N_f * math.comb(R-2, fi-1)\n",
    "        N = N + N_f\n",
    "        \n",
    "    return N\n"
   ]
  },
  {
   "cell_type": "code",
   "execution_count": 35,
   "id": "d08199fb",
   "metadata": {},
   "outputs": [
    {
     "name": "stdout",
     "output_type": "stream",
     "text": [
      "1\n",
      "9\n",
      "80\n",
      "20\n"
     ]
    }
   ],
   "source": [
    "print(count_sigma_matrix(1, 3, 5))\n",
    "print(count_sigma_matrix(2, 3, 5))\n",
    "print(count_sigma_matrix(2, 10, 10))\n",
    "print(count_sigma_matrix(2, 5, 6))"
   ]
  },
  {
   "cell_type": "code",
   "execution_count": null,
   "id": "f8c7631a",
   "metadata": {},
   "outputs": [],
   "source": []
  }
 ],
 "metadata": {
  "kernelspec": {
   "display_name": "Python (rashomon-tva)",
   "language": "python",
   "name": "rashomon-tva"
  },
  "language_info": {
   "codemirror_mode": {
    "name": "ipython",
    "version": 3
   },
   "file_extension": ".py",
   "mimetype": "text/x-python",
   "name": "python",
   "nbconvert_exporter": "python",
   "pygments_lexer": "ipython3",
   "version": "3.11.3"
  }
 },
 "nbformat": 4,
 "nbformat_minor": 5
}
