{
 "cells": [
  {
   "cell_type": "markdown",
   "id": "71a7288d-f600-4919-82a3-8c8e7b77ee7c",
   "metadata": {},
   "source": [
    "# Slopes estimation"
   ]
  },
  {
   "cell_type": "code",
   "execution_count": 1,
   "id": "56bdf2f4-dff7-4782-a98a-46a07ac90fce",
   "metadata": {},
   "outputs": [],
   "source": [
    "import numpy as np\n",
    "import matplotlib.pyplot as plt\n",
    "\n",
    "%matplotlib inline"
   ]
  },
  {
   "cell_type": "code",
   "execution_count": 274,
   "id": "4a8c4415-0bce-4624-9ffa-fd0f21af9fed",
   "metadata": {},
   "outputs": [
    {
     "name": "stdout",
     "output_type": "stream",
     "text": [
      "The autoreload extension is already loaded. To reload it, use:\n",
      "  %reload_ext autoreload\n"
     ]
    }
   ],
   "source": [
    "from collections import deque\n",
    "from copy import deepcopy\n",
    "\n",
    "from rashomon import tva\n",
    "from rashomon import loss\n",
    "from rashomon import counter\n",
    "# from rashomon import metrics\n",
    "from rashomon import extract_pools\n",
    "# from rashomon.sets import RashomonSet, RashomonProblemCache, RashomonSubproblemCache\n",
    "from rashomon.aggregate import (RAggregate_profile_slopes, RAggregate_slopes,\n",
    "#     find_profile_lower_bound, find_feasible_combinations, remove_unused_poolings, subset_data\n",
    ")\n",
    "\n",
    "%load_ext autoreload\n",
    "%autoreload 2"
   ]
  },
  {
   "cell_type": "code",
   "execution_count": null,
   "id": "b008484e-77c6-4dfd-ba3f-9601f647be0e",
   "metadata": {},
   "outputs": [],
   "source": []
  },
  {
   "cell_type": "code",
   "execution_count": null,
   "id": "23e28a90-cfed-4a06-bda0-0130fce36daf",
   "metadata": {},
   "outputs": [],
   "source": []
  },
  {
   "cell_type": "markdown",
   "id": "97789ac8-63b7-402a-94b9-74d08fad32cd",
   "metadata": {},
   "source": [
    "# Sample data"
   ]
  },
  {
   "cell_type": "code",
   "execution_count": 275,
   "id": "0faf9474-ea98-4061-9b5b-ce580fe1b772",
   "metadata": {},
   "outputs": [],
   "source": [
    "# Profile 0: (0, 0, 0)\n",
    "sigma_0 = None\n",
    "beta_0 = np.array([[0, 0, 0, 0]])\n",
    "var_0 = np.array([1])\n",
    "\n",
    "# Profile 1: (0, 0, 1)\n",
    "sigma_1 = np.array([[1, 1, 0, 1]])\n",
    "beta_1 = np.array([[1, 0, 0, 3],\n",
    "                  [10, 0, 0, 0]])\n",
    "var_1 = np.array([1, 1])\n",
    "\n",
    "# Profile 2: (0, 1, 0)\n",
    "sigma_2 = np.array([[1, 1]])\n",
    "beta_2 = np.array([[2, 0, 0, 0]])\n",
    "var_2 = np.array([1])\n",
    "\n",
    "# Profile 3: (0, 1, 1)\n",
    "sigma_3 = np.array([[1, 1, np.inf, np.inf],\n",
    "                    [1, 1, 0, 1]])\n",
    "beta_3 = np.array([[3, 0, 0, 3],\n",
    "                  [12, 0, 0, 0]])\n",
    "var_3 = np.array([1, 1])\n",
    "\n",
    "# Profile 4: (1, 0, 0)\n",
    "sigma_4 = np.array([[1]])\n",
    "beta_4 = np.array([[1, 0, 0, 0]])\n",
    "var_4 = np.array([1])\n",
    "\n",
    "# Profile 5: (1, 0, 1)\n",
    "sigma_5 = np.array([[1, np.inf, np.inf, np.inf],\n",
    "                    [1, 1, 0, 1]])\n",
    "beta_5 = np.array([[2, 0, 0, 3],\n",
    "                  [11, 0, 0, 0]])\n",
    "var_5 = np.array([1, 1])\n",
    "\n",
    "# Profile 6: (1, 1, 0)\n",
    "sigma_6 = np.array([[1, np.inf],\n",
    "                    [1, 1]])\n",
    "beta_6 = np.array([[3, 0, 0, 0]])\n",
    "var_6 = np.array([1])\n",
    "\n",
    "# Profile 1: (1, 1, 1)\n",
    "sigma_7 = np.array([[1, np.inf, np.inf, np.inf],\n",
    "                    [1, 1, np.inf, np.inf],\n",
    "                    [1, 1, 0, 1]])\n",
    "beta_7 = np.array([[4, 1, 1, 2],\n",
    "                   [15, -1, -1, -3]])\n",
    "var_7 = np.array([1, 1])\n",
    "\n",
    "sigma = [sigma_0, sigma_1, sigma_2, sigma_3, sigma_4, sigma_5, sigma_6, sigma_7]\n",
    "beta = [beta_0, beta_1, beta_2, beta_3, beta_4, beta_5, beta_6, beta_7]\n",
    "var = [var_0, var_1, var_2, var_3, var_4, var_5, var_6, var_7]"
   ]
  },
  {
   "cell_type": "code",
   "execution_count": 289,
   "id": "02f01179-6a76-45ec-a28c-34368b4379c4",
   "metadata": {},
   "outputs": [],
   "source": [
    "M = 3\n",
    "R = np.array([3, 4, 6])\n",
    "\n",
    "num_profiles = 2**M\n",
    "profiles, profile_map = enumerate_profiles(M)\n",
    "all_policies = enumerate_policies(M, R)\n",
    "num_all_policies = len(all_policies)"
   ]
  },
  {
   "cell_type": "code",
   "execution_count": 290,
   "id": "4e10e026-7c2b-4909-b739-e266e0fa20ea",
   "metadata": {},
   "outputs": [],
   "source": [
    "# Identify the pools\n",
    "policies_profiles = {}\n",
    "policies_profiles_masked = {}\n",
    "policies_ids_profiles = {}\n",
    "pi_policies = {}\n",
    "pi_pools = {}\n",
    "for k, profile in enumerate(profiles):\n",
    "\n",
    "    policies_temp = [(i, x) for i, x in enumerate(all_policies) if tva.policy_to_profile(x) == profile]\n",
    "    unzipped_temp = list(zip(*policies_temp))\n",
    "    policies_ids_k = list(unzipped_temp[0])\n",
    "    policies_k = list(unzipped_temp[1])\n",
    "    policies_profiles[k] = deepcopy(policies_k)\n",
    "    policies_ids_profiles[k] = policies_ids_k\n",
    "\n",
    "    profile_mask = list(map(bool, profile))\n",
    "\n",
    "    # Mask the empty arms\n",
    "    for idx, pol in enumerate(policies_k):\n",
    "        policies_k[idx] = tuple([pol[i] for i in range(M) if profile_mask[i]])\n",
    "    policies_profiles_masked[k] = policies_k\n",
    "\n",
    "    if np.sum(profile) > 0:\n",
    "        pi_pools_k, pi_policies_k = extract_pools.extract_pools(policies_k, sigma[k])\n",
    "        if len(pi_pools_k.keys()) != beta[k].shape[0]:\n",
    "            print(f\"Profile {k}. Expected {len(pi_pools_k.keys())} pools. Received {mu[k].shape[0]} means.\")\n",
    "        pi_policies[k] = pi_policies_k\n",
    "        # pi_pools_k has indicies that match with policies_profiles[k]\n",
    "        # Need to map those indices back to all_policies\n",
    "        pi_pools[k] = {}\n",
    "        for x, y in pi_pools_k.items():\n",
    "            y_full = [policies_profiles[k][i] for i in y]\n",
    "            y_agg = [all_policies.index(i) for i in y_full]\n",
    "            pi_pools[k][x] = y_agg\n",
    "    else:\n",
    "        pi_policies[k] = {0: 0}\n",
    "        pi_pools[k] = {0: [0]}\n"
   ]
  },
  {
   "cell_type": "code",
   "execution_count": 300,
   "id": "8de447c7-3814-41e8-a724-f79e6ea1c455",
   "metadata": {},
   "outputs": [],
   "source": [
    "\n",
    "\n",
    "n_per_pol = 10\n",
    "\n",
    "num_data = num_all_policies * n_per_pol\n",
    "X = np.zeros(shape=(num_data, M))\n",
    "D = np.zeros(shape=(num_data, 1), dtype='int_')\n",
    "y = np.zeros(shape=(num_data, 1))\n",
    "\n",
    "ones = np.zeros(shape=(n_per_pol, 1)) + 1\n",
    "\n",
    "idx_ctr = 0\n",
    "for k, profile in enumerate(profiles):\n",
    "    policies_k = policies_profiles[k]\n",
    "\n",
    "    for idx, policy in enumerate(policies_k):\n",
    "        policy_idx = [i for i, x in enumerate(all_policies) if x == policy]\n",
    "        \n",
    "        start_idx = idx_ctr * n_per_pol\n",
    "        end_idx = (idx_ctr + 1) * n_per_pol\n",
    "\n",
    "        X[start_idx:end_idx, ] = policy\n",
    "        X_subset = X[start_idx:end_idx, ]\n",
    "        X_ones = np.concatenate((ones, X_subset), axis=1)\n",
    "        D[start_idx:end_idx, ] = policy_idx[0]\n",
    "\n",
    "        pool_id = pi_policies[k][idx]\n",
    "        beta_i = beta[k][pool_id].reshape((-1,1))\n",
    "        var_i = var[k][pool_id]\n",
    "        y_i = np.matmul(X_ones, beta_i) + np.random.normal(0, var_i, size=(n_per_pol, 1))\n",
    "        \n",
    "        y[start_idx:end_idx, ] = y_i\n",
    "\n",
    "        idx_ctr += 1\n"
   ]
  },
  {
   "cell_type": "code",
   "execution_count": 15,
   "id": "f8f4bfed-bc4a-41a4-852b-b3f4f7ba921f",
   "metadata": {},
   "outputs": [
    {
     "data": {
      "text/plain": [
       "(360, 2)"
      ]
     },
     "execution_count": 15,
     "metadata": {},
     "output_type": "execute_result"
    }
   ],
   "source": [
    "X.shape"
   ]
  },
  {
   "cell_type": "markdown",
   "id": "bbd930a4-0ba4-483f-957d-6abd73bc82f0",
   "metadata": {},
   "source": [
    "## RAggregate"
   ]
  },
  {
   "cell_type": "code",
   "execution_count": 311,
   "id": "1569499f-6b6a-4ff6-8649-70cce263c353",
   "metadata": {},
   "outputs": [
    {
     "name": "stdout",
     "output_type": "stream",
     "text": [
      "(0, 0, 0) 11.671448173608068\n",
      "1\n",
      "(0, 0, 1) 11.719056113837798\n",
      "16\n",
      "(0, 1, 0) 11.688368298546077\n",
      "4\n",
      "(0, 1, 1) 11.82349830154008\n",
      "59\n",
      "(1, 0, 0) 11.672530989913101\n",
      "2\n",
      "(1, 0, 1) 11.821119057369998\n",
      "32\n",
      "(1, 1, 0) 11.727962316388322\n",
      "8\n",
      "(1, 1, 1) 11.94675470756198\n",
      "77\n",
      "Finding feasible combinations\n",
      "Min = 10.477381842993452, Max = 48.64827239607917\n",
      "295\n"
     ]
    }
   ],
   "source": [
    "R_set, R_profiles = RAggregate_slopes(M, R, np.inf, D, X, y, 12.5, reg=1, verbose=True)\n",
    "\n",
    "print(len(R_set))"
   ]
  },
  {
   "cell_type": "code",
   "execution_count": 306,
   "id": "d364d1b7-075d-46a9-a18a-7717c8aa57ba",
   "metadata": {},
   "outputs": [
    {
     "name": "stdout",
     "output_type": "stream",
     "text": [
      "(0, 0, 0)\n",
      "None\n",
      "(0, 0, 1)\n",
      "[[1. 1. 1. 1.]]\n",
      "(0, 1, 0)\n",
      "[[1. 1.]]\n",
      "(0, 1, 1)\n",
      "[[ 1.  1. inf inf]\n",
      " [ 1.  1.  1.  1.]]\n",
      "(1, 0, 0)\n",
      "[[1.]]\n",
      "(1, 0, 1)\n",
      "[[ 1. inf inf inf]\n",
      " [ 1.  1.  1.  1.]]\n",
      "(1, 1, 0)\n",
      "[[ 1. inf]\n",
      " [ 1.  1.]]\n",
      "(1, 1, 1)\n",
      "[[ 1. inf inf inf]\n",
      " [ 1.  1. inf inf]\n",
      " [ 1.  1.  0.  1.]]\n"
     ]
    }
   ],
   "source": [
    "for r, model_r in enumerate(R_set):\n",
    "    for k, prof_k in enumerate(model_r):\n",
    "        print(profiles[k])\n",
    "        print(R_profiles[k].sigma[prof_k])"
   ]
  },
  {
   "cell_type": "code",
   "execution_count": null,
   "id": "bba482ca-a3a0-4533-b3b1-062f59609b5b",
   "metadata": {},
   "outputs": [],
   "source": []
  },
  {
   "cell_type": "code",
   "execution_count": null,
   "id": "8cac699b-af84-4f29-958a-94d62c0c058c",
   "metadata": {},
   "outputs": [],
   "source": []
  },
  {
   "cell_type": "code",
   "execution_count": null,
   "id": "c29e8683-251e-44c4-98f6-d3f443baf7bd",
   "metadata": {},
   "outputs": [],
   "source": []
  },
  {
   "cell_type": "markdown",
   "id": "33abf9aa-d2d0-43ad-8c4b-f42067dec9e1",
   "metadata": {},
   "source": [
    "# Plots"
   ]
  },
  {
   "cell_type": "code",
   "execution_count": 312,
   "id": "9087a47d-2f8e-43f7-bd14-55460397adde",
   "metadata": {},
   "outputs": [],
   "source": [
    "import pickle"
   ]
  },
  {
   "cell_type": "code",
   "execution_count": 403,
   "id": "8eab23bc-610d-4d19-a9d9-ca6fc9300f7a",
   "metadata": {},
   "outputs": [],
   "source": [
    "def subset_data(D, X, y, policy_profiles_idx):\n",
    "    # The idea here is that values in D corresponds to the index of that policy\n",
    "    # So we mask and retrieve those values\n",
    "    mask = np.isin(D, policy_profiles_idx)\n",
    "    D_profile = np.reshape(D[mask], (-1, 1))\n",
    "    y_profile = np.reshape(y[mask], (-1, 1))\n",
    "    X_profile = X[mask[:, 0], :]\n",
    "\n",
    "    # Now remap policies from overall indicies to the indicies within that profile\n",
    "    range_list = list(np.arange(len(policy_profiles_idx)))\n",
    "    policy_map = {i: x for i, x in zip(policy_profiles_idx, range_list)}\n",
    "    if len(D_profile) == 0:\n",
    "        D_profile = None\n",
    "        y_profile = None\n",
    "    else:\n",
    "        D_profile = np.vectorize(policy_map.get)(D_profile)\n",
    "\n",
    "    return D_profile, X_profile, y_profile"
   ]
  },
  {
   "cell_type": "code",
   "execution_count": 415,
   "id": "6fcdb4ac-78cd-4a41-83db-4c8d258b9dd1",
   "metadata": {},
   "outputs": [],
   "source": [
    "fname = \"../Results/slopes_rashomon.pkl\"\n",
    "\n",
    "with open(fname, \"rb\") as f:\n",
    "    rashomon_results = pickle.load(f)"
   ]
  },
  {
   "cell_type": "code",
   "execution_count": 416,
   "id": "7db947da-5f44-4d32-ba41-d0037bc5f8f6",
   "metadata": {},
   "outputs": [],
   "source": [
    "result = rashomon_results[0]\n",
    "R_set = result[\"R_set\"]\n",
    "R_profiles = result[\"R_profiles\"]\n",
    "D = result[\"D\"]\n",
    "X = result[\"X\"]\n",
    "y = result[\"y\"]"
   ]
  },
  {
   "cell_type": "code",
   "execution_count": 417,
   "id": "a685f3e0-b797-4a45-a278-e453650200f0",
   "metadata": {},
   "outputs": [],
   "source": [
    "D_profiles = {}\n",
    "y_profiles = {}\n",
    "X_profiles = {}\n",
    "policies_profiles = {}\n",
    "policies_idx = {}\n",
    "eq_lb_profiles = np.zeros(shape=(num_profiles,))\n",
    "for k, profile in enumerate(profiles):\n",
    "\n",
    "    policies_temp = [(i, x) for i, x in enumerate(all_policies) if policy_to_profile(x) == profile]\n",
    "    unzipped_temp = list(zip(*policies_temp))\n",
    "    policy_profiles_idx_k = list(unzipped_temp[0])\n",
    "    policies_profiles[k] = list(unzipped_temp[1])\n",
    "    policies_idx[k] = list(range(len(policy_profiles_idx_k)))\n",
    "\n",
    "    D_k, X_k, y_k = subset_data(D, X, y, policy_profiles_idx_k)\n",
    "    D_profiles[k] = D_k\n",
    "    y_profiles[k] = y_k\n",
    "    X_profiles[k] = X_k"
   ]
  },
  {
   "cell_type": "code",
   "execution_count": 418,
   "id": "21d38475-be54-42b9-94b1-531832e7d953",
   "metadata": {},
   "outputs": [],
   "source": [
    "# Estimate the slopes\n",
    "\n",
    "losses = []\n",
    "beta_est = [] # Take only (0, 0, 1) profile\n",
    "\n",
    "for r, model_r in enumerate(R_set):\n",
    "    loss_r = 0\n",
    "    beta_r = []\n",
    "    for k, profile in enumerate(profiles):\n",
    "        if profile != (0, 0, 0):\n",
    "            r_k_idx = model_r[k]\n",
    "            loss_r += R_profiles[k].loss[r_k_idx]\n",
    "\n",
    "        if profile == (0, 0, 1):\n",
    "            D_k = D_profiles[k]\n",
    "            X_k = X_profiles[k]\n",
    "            y_k = y_profiles[k]\n",
    "\n",
    "            D_pred = np.array([[0, 1, 2, 3, 4]]).T\n",
    "            X_pred = np.array([[0, 0, 1],\n",
    "                               [0, 0, 2],\n",
    "                               [0, 0, 3],\n",
    "                               [0, 0, 4],\n",
    "                               [0, 0, 5]])\n",
    "            y_pred = np.zeros(shape=D_pred.shape)\n",
    "            \n",
    "            sigma_r_k = R_profiles[k].sigma[r_k_idx]\n",
    "\n",
    "            # print(policies_profiles[k])\n",
    "            policies_k = deepcopy(policies_profiles[k])\n",
    "            profile_mask = list(map(bool, profile))\n",
    "    \n",
    "            # Mask the empty arms\n",
    "            for idx, pol in enumerate(policies_k):\n",
    "                # print(pol)\n",
    "                policies_k[idx] = tuple([pol[i] for i in range(3) if profile_mask[i]])\n",
    "\n",
    "            pi_pools_k, _ = extract_pools.extract_pools(policies_k, sigma_r_k)\n",
    "    \n",
    "            # Estimate outcomes\n",
    "            y_est = np.zeros(shape=D_k.shape) + np.inf\n",
    "            for pi_j, pol_list_j in pi_pools_k.items():\n",
    "                # Extract the X matrix\n",
    "                j_idx = [i for i, p in enumerate(D_k[:, 0]) if p in pol_list_j]\n",
    "                X_j = X_k[j_idx, :]\n",
    "                y_j = y_k[j_idx, :]\n",
    "\n",
    "                # print(X_j)\n",
    "        \n",
    "                # Run regression and estimate outcomes\n",
    "                model_j = LinearRegression().fit(X_j, y_j)\n",
    "\n",
    "                pred_idx = [i for i, p in enumerate(D_pred[:, 0]) if p in pol_list_j]\n",
    "                # print(pol_list_j)\n",
    "                # print(D_pred[pred_idx, 0])\n",
    "                X_j = X_pred[pred_idx, :]\n",
    "                # print(X_j)\n",
    "                y_pred_j = model_j.predict(X_j)\n",
    "                y_pred[pred_idx, :] = y_pred_j\n",
    "            # print(\"--\")\n",
    "            beta_r.append(y_pred)\n",
    "    \n",
    "    beta_est.append(beta_r)    \n",
    "    losses.append(loss_r)"
   ]
  },
  {
   "cell_type": "code",
   "execution_count": 419,
   "id": "d8a7fccf-2086-411f-b7a9-8b5ae2ce7b7e",
   "metadata": {},
   "outputs": [],
   "source": [
    "sigma_1 = np.array([[1, 1, 0, 1]])\n",
    "beta_1 = np.array([[1, 0, 0, 3],\n",
    "                  [10, 0, 0, 0]])\n",
    "\n",
    "policies_001 = deepcopy(policies_profiles[1])\n",
    "profile_mask = list(map(bool, profiles[1]))\n",
    "\n",
    "# Mask the empty arms\n",
    "for idx, pol in enumerate(policies_001):\n",
    "    policies_001[idx] = tuple([pol[i] for i in range(3) if profile_mask[i]])\n",
    "\n",
    "pi_pools_001, _ = extract_pools.extract_pools(policies_001, sigma_1)\n",
    "\n",
    "D_pred = np.array([[0, 1, 2, 3, 4]]).T\n",
    "X_pred = np.array([[0, 0, 1],\n",
    "                   [0, 0, 2],\n",
    "                   [0, 0, 3],\n",
    "                   [0, 0, 4],\n",
    "                   [0, 0, 5]])\n",
    "ones = np.zeros(shape=(X_pred.shape[0], 1)) + 1\n",
    "X_pred_ones = np.concatenate((ones, X_pred), axis=1)\n",
    "y_true = np.zeros(shape=D_pred.shape) + np.inf\n",
    "\n",
    "for j, pi_j, in enumerate(pi_pools_001.keys()):\n",
    "\n",
    "    pol_list_j = pi_pools_001[pi_j]\n",
    "    j_idx = [i for i, p in enumerate(D_pred[:, ]) if p in pol_list_j]\n",
    "    X_j = X_pred_ones[j_idx, :]\n",
    "    \n",
    "    y_true[j_idx, :] = np.matmul(X_j, beta_1[j]).reshape((-1,1))"
   ]
  },
  {
   "cell_type": "code",
   "execution_count": 421,
   "id": "879027f6-3f65-463f-85c5-ec7e93eeb77c",
   "metadata": {},
   "outputs": [],
   "source": [
    "losses_sorted = np.sort(losses)\n",
    "losses_argsort = np.argsort(losses)"
   ]
  },
  {
   "cell_type": "code",
   "execution_count": 429,
   "id": "cec42b59-253b-43e0-8682-797c3e6987f6",
   "metadata": {},
   "outputs": [
    {
     "data": {
      "image/png": "[encoded data removed]",
      "text/plain": [
       "<Figure size 600x500 with 1 Axes>"
      ]
     },
     "metadata": {},
     "output_type": "display_data"
    }
   ],
   "source": [
    "fig, ax = plt.subplots(figsize=(6, 5))\n",
    "\n",
    "ax.spines[['right', 'top']].set_visible(False)\n",
    "\n",
    "dosages = np.array([1, 2, 3, 4, 5])\n",
    "\n",
    "ax.plot(dosages, y_true, color=\"black\", linewidth=2.5, linestyle=\"--\",\n",
    "       alpha=1)\n",
    "\n",
    "for i in range(100):\n",
    "    idx = losses_argsort[i]\n",
    "    y_i = beta_est[idx][0]\n",
    "    ax.plot(dosages, y_i, color=\"dodgerblue\", alpha=0.1)\n",
    "\n",
    "ax.set_xticks([1, 2, 3, 4, 5])\n",
    "\n",
    "ax.set_xlabel(\"Dosages in Arm 3\")\n",
    "ax.set_ylabel(\"Response\")\n",
    "ax.set_title(\"Profile (0, 0, 1)\")\n",
    "\n",
    "plt.show()"
   ]
  },
  {
   "cell_type": "code",
   "execution_count": null,
   "id": "bb004037-dd05-4d98-ba9c-74e3242d3335",
   "metadata": {},
   "outputs": [],
   "source": []
  }
 ],
 "metadata": {
  "kernelspec": {
   "display_name": "Python (rashomon-tva)",
   "language": "python",
   "name": "rashomon-tva"
  },
  "language_info": {
   "codemirror_mode": {
    "name": "ipython",
    "version": 3
   },
   "file_extension": ".py",
   "mimetype": "text/x-python",
   "name": "python",
   "nbconvert_exporter": "python",
   "pygments_lexer": "ipython3",
   "version": "3.11.3"
  }
 },
 "nbformat": 4,
 "nbformat_minor": 5
}
