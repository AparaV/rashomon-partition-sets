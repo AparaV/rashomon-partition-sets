{
 "cells": [
  {
   "cell_type": "code",
   "execution_count": 202,
   "id": "9a619547",
   "metadata": {},
   "outputs": [
    {
     "name": "stdout",
     "output_type": "stream",
     "text": [
      "The autoreload extension is already loaded. To reload it, use:\n",
      "  %reload_ext autoreload\n"
     ]
    }
   ],
   "source": [
    "import numpy as np\n",
    "import matplotlib.pyplot as plt\n",
    "\n",
    "from copy import deepcopy\n",
    "from sklearn import linear_model\n",
    "from sklearn.metrics import mean_squared_error\n",
    "\n",
    "from rashomon import loss\n",
    "from rashomon import counter\n",
    "from rashomon.aggregate import RAggregate_profile, RAggregate\n",
    "from rashomon.sets import RashomonSet, RashomonProblemCache, RashomonSubproblemCache\n",
    "from rashomon import tva\n",
    "from rashomon.extract_pools import extract_pools\n",
    "\n",
    "\n",
    "%load_ext autoreload\n",
    "%autoreload 2\n",
    "# %matplotlib inline"
   ]
  },
  {
   "cell_type": "markdown",
   "id": "825248b7-72d4-4c6f-acd4-51a5a28548c8",
   "metadata": {},
   "source": [
    "## Multiple profiles"
   ]
  },
  {
   "cell_type": "code",
   "execution_count": 170,
   "id": "71d28282-9105-4c50-a040-edf702821b16",
   "metadata": {},
   "outputs": [
    {
     "name": "stdout",
     "output_type": "stream",
     "text": [
      "7\n"
     ]
    }
   ],
   "source": [
    "# need a function to map policy indices to profiles\n",
    "\n",
    "M = 3\n",
    "R = np.array([3, 3, 3])\n",
    "\n",
    "num_profiles = 2**M\n",
    "profiles, profile_map = tva.enumerate_profiles(M)\n",
    "\n",
    "all_policies = tva.enumerate_policies(M, R)\n",
    "num_policies = len(all_policies)\n",
    "\n",
    "policy = (2, 2, 2)\n",
    "profile = tva.policy_to_profile(policy)\n",
    "print(profile_map[profile])"
   ]
  },
  {
   "cell_type": "code",
   "execution_count": 272,
   "id": "65e1816c-46ed-41c6-acf3-3d90b9bc9aa1",
   "metadata": {},
   "outputs": [
    {
     "data": {
      "text/plain": [
       "[(0, 0, 0),\n",
       " (0, 0, 1),\n",
       " (0, 1, 0),\n",
       " (0, 1, 1),\n",
       " (1, 0, 0),\n",
       " (1, 0, 1),\n",
       " (1, 1, 0),\n",
       " (1, 1, 1)]"
      ]
     },
     "execution_count": 272,
     "metadata": {},
     "output_type": "execute_result"
    }
   ],
   "source": [
    "profiles"
   ]
  },
  {
   "cell_type": "markdown",
   "id": "5e836765-2680-4fe0-a6e4-41b6c491da83",
   "metadata": {},
   "source": [
    "### Generate data\n",
    "Setup profiles"
   ]
  },
  {
   "cell_type": "code",
   "execution_count": 203,
   "id": "67f92ca4-5141-4ba7-a782-007419320f48",
   "metadata": {},
   "outputs": [],
   "source": [
    "# Profile 0: (0, 0, 0)\n",
    "sigma_0 = None\n",
    "mu_0 = np.array([0])\n",
    "\n",
    "# Profile 1: (0, 0, 1)\n",
    "sigma_1 = np.array([[1]])\n",
    "mu_1 = np.array([1])\n",
    "\n",
    "# Profile 2: (0, 1, 0)\n",
    "sigma_2 = np.array([[1]])\n",
    "mu_2 = np.array([1])\n",
    "\n",
    "# Profile 3: (0, 1, 1)\n",
    "sigma_3 = np.array([[1, 1],\n",
    "                    [1, 1]])\n",
    "mu_3 = np.array([4])\n",
    "\n",
    "# Profile 4: (1, 0, 0)\n",
    "sigma_4 = np.array([[0]])\n",
    "mu_4 = np.array([1, 4])\n",
    "\n",
    "# Profile 5: (1, 0, 1)\n",
    "sigma_5 = np.array([[1, 1],\n",
    "                    [1, 1]])\n",
    "mu_5 = np.array([4])\n",
    "\n",
    "# Profile 6: (1, 1, 0)\n",
    "sigma_6 = np.array([[1, 1],\n",
    "                    [1, 1]])\n",
    "mu_6 = np.array([4])\n",
    "\n",
    "# Profile 7: (1, 1, 1)\n",
    "sigma_7 = np.array([[1, 1],\n",
    "                    [1, 1],\n",
    "                    [1, 1]])\n",
    "mu_7 = np.array([4])\n",
    "\n",
    "sigma = [sigma_0, sigma_1, sigma_2, sigma_3, sigma_4,\n",
    "         sigma_5, sigma_6, sigma_7]\n",
    "mu = [mu_0, mu_1, mu_2, mu_3, mu_4, mu_5, mu_6, mu_7]\n",
    "var = [1] * num_policies\n",
    "\n",
    "policies_profiles = {}\n",
    "pi_policies = {}\n",
    "for k, profile in enumerate(profiles):\n",
    "\n",
    "    policies_temp = [(i, x) for i, x in enumerate(all_policies) if tva.policy_to_profile(x) == profile]\n",
    "    unzipped_temp = list(zip(*policies_temp))\n",
    "    policies_k = list(unzipped_temp[1])\n",
    "    policies_profiles[k] = deepcopy(policies_k)\n",
    "\n",
    "    \n",
    "    profile_mask = list(map(bool, profile))\n",
    "\n",
    "    # Mask the empty arms\n",
    "    for idx, pol in enumerate(policies_k):\n",
    "        policies_k[idx] = tuple([pol[i] for i in range(M) if profile_mask[i]])\n",
    "\n",
    "    if np.sum(profile) > 0:\n",
    "        pi_pools_k, pi_policies_k = extract_pools(policies_k, sigma[k])\n",
    "        pi_policies[k] = pi_policies_k\n",
    "    else:\n",
    "        pi_policies[k] = {0: 0}\n"
   ]
  },
  {
   "cell_type": "code",
   "execution_count": 204,
   "id": "4ec8954e-506e-4dff-865c-ce82cb5d0d7d",
   "metadata": {},
   "outputs": [
    {
     "data": {
      "text/plain": [
       "{0: [(0, 0, 0)],\n",
       " 1: [(0, 0, 1), (0, 0, 2)],\n",
       " 2: [(0, 1, 0), (0, 2, 0)],\n",
       " 3: [(0, 1, 1), (0, 1, 2), (0, 2, 1), (0, 2, 2)],\n",
       " 4: [(1, 0, 0), (2, 0, 0)],\n",
       " 5: [(1, 0, 1), (1, 0, 2), (2, 0, 1), (2, 0, 2)],\n",
       " 6: [(1, 1, 0), (1, 2, 0), (2, 1, 0), (2, 2, 0)],\n",
       " 7: [(1, 1, 1),\n",
       "  (1, 1, 2),\n",
       "  (1, 2, 1),\n",
       "  (1, 2, 2),\n",
       "  (2, 1, 1),\n",
       "  (2, 1, 2),\n",
       "  (2, 2, 1),\n",
       "  (2, 2, 2)]}"
      ]
     },
     "execution_count": 204,
     "metadata": {},
     "output_type": "execute_result"
    }
   ],
   "source": [
    "policies_profiles"
   ]
  },
  {
   "cell_type": "code",
   "execution_count": 269,
   "id": "9518c224-58f0-44f0-8599-8efa359481b1",
   "metadata": {},
   "outputs": [],
   "source": [
    "# Random data\n",
    "\n",
    "np.random.seed(3)\n",
    "\n",
    "# mu = np.random.uniform(0, 4, size=num_pools)\n",
    "# mu = np.array([3, 6, 1, 4])\n",
    "# mu = [0] * num_policies\n",
    "# var = [1] * num_policies\n",
    "\n",
    "n_per_pol = 100\n",
    "\n",
    "num_data = num_policies * n_per_pol\n",
    "X = np.zeros(shape=(num_data, M))\n",
    "D = np.zeros(shape=(num_data, 1), dtype='int_')\n",
    "y = np.zeros(shape=(num_data, 1))\n",
    "\n",
    "idx_ctr = 0\n",
    "for k, profile in enumerate(profiles):\n",
    "    policies_k = policies_profiles[k]\n",
    "\n",
    "    for idx, policy in enumerate(policies_k):\n",
    "        profile_id = tva.policy_to_profile(policy)\n",
    "        pool_id = pi_policies[k][idx]\n",
    "        # pool_i = pi_policies[idx]\n",
    "        mu_i = mu[k][pool_id]\n",
    "        var_i = var[idx]\n",
    "        y_i = np.random.normal(mu_i, var_i, size=(n_per_pol, 1))\n",
    "    \n",
    "        start_idx = idx_ctr * n_per_pol\n",
    "        end_idx = (idx_ctr + 1) * n_per_pol\n",
    "    \n",
    "        X[start_idx:end_idx, ] = policy\n",
    "        # D[start_idx:end_idx, ] = idx\n",
    "        D[start_idx:end_idx, ] = idx_ctr\n",
    "        y[start_idx:end_idx, ] = y_i\n",
    "    \n",
    "        idx_ctr += 1\n",
    "    "
   ]
  },
  {
   "cell_type": "code",
   "execution_count": 270,
   "id": "1fce47db-7351-43fd-b3fe-2b88fd2ad07f",
   "metadata": {},
   "outputs": [
    {
     "data": {
      "text/plain": [
       "[[0, 0, 0, 0, 0, 0, 0, 0],\n",
       " [0, 0, 0, 0, 0, 0, 0, 1],\n",
       " [0, 0, 0, 0, 0, 0, 0, 2],\n",
       " [0, 0, 0, 0, 0, 0, 0, 3],\n",
       " [0, 0, 0, 0, 0, 0, 1, 0],\n",
       " [0, 0, 0, 0, 0, 0, 1, 1],\n",
       " [0, 0, 0, 0, 0, 0, 1, 2],\n",
       " [0, 0, 0, 0, 0, 0, 1, 3],\n",
       " [0, 0, 0, 0, 0, 0, 2, 0],\n",
       " [0, 0, 0, 0, 0, 0, 2, 1],\n",
       " [0, 0, 0, 0, 0, 0, 2, 2],\n",
       " [0, 0, 0, 0, 0, 0, 2, 3],\n",
       " [0, 0, 0, 0, 0, 1, 0, 0],\n",
       " [0, 0, 0, 0, 0, 1, 0, 1],\n",
       " [0, 0, 0, 0, 0, 1, 0, 2],\n",
       " [0, 0, 0, 0, 0, 1, 0, 3],\n",
       " [0, 0, 0, 0, 0, 1, 1, 0],\n",
       " [0, 0, 0, 0, 0, 1, 1, 1],\n",
       " [0, 0, 0, 0, 0, 1, 1, 2],\n",
       " [0, 0, 0, 0, 0, 1, 1, 3],\n",
       " [0, 0, 0, 0, 0, 1, 2, 0],\n",
       " [0, 0, 0, 0, 0, 1, 2, 1],\n",
       " [0, 0, 0, 0, 0, 1, 2, 2],\n",
       " [0, 0, 0, 0, 0, 1, 2, 3],\n",
       " [0, 0, 0, 0, 0, 2, 0, 0],\n",
       " [0, 0, 0, 0, 0, 2, 0, 1],\n",
       " [0, 0, 0, 0, 0, 2, 0, 2],\n",
       " [0, 0, 0, 0, 0, 2, 0, 3],\n",
       " [0, 0, 0, 0, 0, 2, 1, 0],\n",
       " [0, 0, 0, 0, 0, 2, 1, 1],\n",
       " [0, 0, 0, 0, 0, 2, 1, 2],\n",
       " [0, 0, 0, 0, 0, 2, 1, 3],\n",
       " [0, 0, 0, 0, 0, 2, 2, 0],\n",
       " [0, 0, 0, 0, 0, 2, 2, 1],\n",
       " [0, 0, 0, 0, 0, 2, 2, 2],\n",
       " [0, 0, 0, 0, 0, 2, 2, 3],\n",
       " [0, 0, 0, 1, 0, 0, 0, 0],\n",
       " [0, 0, 0, 1, 0, 0, 0, 1],\n",
       " [0, 0, 0, 1, 0, 0, 0, 2],\n",
       " [0, 0, 0, 1, 0, 0, 0, 3],\n",
       " [0, 0, 0, 1, 0, 0, 1, 0],\n",
       " [0, 0, 0, 1, 0, 0, 1, 1],\n",
       " [0, 0, 0, 1, 0, 0, 1, 2],\n",
       " [0, 0, 0, 1, 0, 0, 1, 3],\n",
       " [0, 0, 0, 1, 0, 0, 2, 0],\n",
       " [0, 0, 0, 1, 0, 0, 2, 1],\n",
       " [0, 0, 0, 1, 0, 0, 2, 2],\n",
       " [0, 0, 0, 1, 0, 0, 2, 3],\n",
       " [0, 0, 0, 1, 0, 1, 0, 0],\n",
       " [0, 0, 0, 1, 0, 1, 0, 1],\n",
       " [0, 0, 0, 1, 0, 1, 0, 2],\n",
       " [0, 0, 0, 1, 0, 1, 0, 3],\n",
       " [0, 0, 0, 1, 0, 1, 1, 0],\n",
       " [0, 0, 0, 1, 0, 1, 1, 1],\n",
       " [0, 0, 0, 1, 0, 1, 1, 2],\n",
       " [0, 0, 0, 1, 0, 1, 1, 3],\n",
       " [0, 0, 0, 1, 0, 1, 2, 0],\n",
       " [0, 0, 0, 1, 0, 1, 2, 1],\n",
       " [0, 0, 0, 1, 0, 1, 2, 2],\n",
       " [0, 0, 0, 1, 0, 1, 2, 3],\n",
       " [0, 0, 0, 1, 0, 2, 0, 0],\n",
       " [0, 0, 0, 1, 0, 2, 0, 1],\n",
       " [0, 0, 0, 1, 0, 2, 0, 2],\n",
       " [0, 0, 0, 1, 0, 2, 0, 3],\n",
       " [0, 0, 0, 1, 0, 2, 1, 0],\n",
       " [0, 0, 0, 1, 0, 2, 1, 1],\n",
       " [0, 0, 0, 1, 0, 2, 1, 2],\n",
       " [0, 0, 0, 1, 0, 2, 1, 3],\n",
       " [0, 0, 0, 1, 0, 2, 2, 0],\n",
       " [0, 0, 0, 1, 0, 2, 2, 1],\n",
       " [0, 0, 0, 1, 0, 2, 2, 2],\n",
       " [0, 0, 0, 1, 0, 2, 2, 3],\n",
       " [0, 0, 0, 2, 0, 0, 0, 0],\n",
       " [0, 0, 0, 2, 0, 0, 0, 1],\n",
       " [0, 0, 0, 2, 0, 0, 0, 2],\n",
       " [0, 0, 0, 2, 0, 0, 0, 3],\n",
       " [0, 0, 0, 2, 0, 0, 1, 0],\n",
       " [0, 0, 0, 2, 0, 0, 1, 1],\n",
       " [0, 0, 0, 2, 0, 0, 1, 2],\n",
       " [0, 0, 0, 2, 0, 0, 1, 3],\n",
       " [0, 0, 0, 2, 0, 0, 2, 0],\n",
       " [0, 0, 0, 2, 0, 0, 2, 1],\n",
       " [0, 0, 0, 2, 0, 0, 2, 2],\n",
       " [0, 0, 0, 2, 0, 0, 2, 3],\n",
       " [0, 0, 0, 2, 0, 1, 0, 0],\n",
       " [0, 0, 0, 2, 0, 1, 0, 1],\n",
       " [0, 0, 0, 2, 0, 1, 0, 2],\n",
       " [0, 0, 0, 2, 0, 1, 0, 3],\n",
       " [0, 0, 0, 2, 0, 1, 1, 0],\n",
       " [0, 0, 0, 2, 0, 1, 1, 1],\n",
       " [0, 0, 0, 2, 0, 1, 1, 2],\n",
       " [0, 0, 0, 2, 0, 1, 1, 3],\n",
       " [0, 0, 0, 2, 0, 1, 2, 0],\n",
       " [0, 0, 0, 2, 0, 1, 2, 1],\n",
       " [0, 0, 0, 2, 0, 1, 2, 2],\n",
       " [0, 0, 0, 2, 0, 1, 2, 3],\n",
       " [0, 0, 0, 2, 0, 2, 0, 0],\n",
       " [0, 0, 0, 2, 0, 2, 0, 1],\n",
       " [0, 0, 0, 2, 0, 2, 0, 2],\n",
       " [0, 0, 0, 2, 0, 2, 0, 3],\n",
       " [0, 0, 0, 2, 0, 2, 1, 0],\n",
       " [0, 0, 0, 2, 0, 2, 1, 1],\n",
       " [0, 0, 0, 2, 0, 2, 1, 2],\n",
       " [0, 0, 0, 2, 0, 2, 1, 3],\n",
       " [0, 0, 0, 2, 0, 2, 2, 0],\n",
       " [0, 0, 0, 2, 0, 2, 2, 1],\n",
       " [0, 0, 0, 2, 0, 2, 2, 2],\n",
       " [0, 0, 0, 2, 0, 2, 2, 3],\n",
       " [0, 1, 0, 0, 0, 0, 0, 0],\n",
       " [0, 1, 0, 0, 0, 0, 0, 1],\n",
       " [0, 1, 0, 0, 0, 0, 0, 2],\n",
       " [0, 1, 0, 0, 0, 0, 0, 3],\n",
       " [0, 1, 0, 0, 0, 0, 1, 0],\n",
       " [0, 1, 0, 0, 0, 0, 1, 1],\n",
       " [0, 1, 0, 0, 0, 0, 1, 2],\n",
       " [0, 1, 0, 0, 0, 0, 1, 3],\n",
       " [0, 1, 0, 0, 0, 0, 2, 0],\n",
       " [0, 1, 0, 0, 0, 0, 2, 1],\n",
       " [0, 1, 0, 0, 0, 0, 2, 2],\n",
       " [0, 1, 0, 0, 0, 0, 2, 3],\n",
       " [0, 1, 0, 0, 0, 1, 0, 0],\n",
       " [0, 1, 0, 0, 0, 1, 0, 1],\n",
       " [0, 1, 0, 0, 0, 1, 0, 2],\n",
       " [0, 1, 0, 0, 0, 1, 0, 3],\n",
       " [0, 1, 0, 0, 0, 1, 1, 0],\n",
       " [0, 1, 0, 0, 0, 1, 1, 1],\n",
       " [0, 1, 0, 0, 0, 1, 1, 2],\n",
       " [0, 1, 0, 0, 0, 1, 1, 3],\n",
       " [0, 1, 0, 0, 0, 1, 2, 0],\n",
       " [0, 1, 0, 0, 0, 1, 2, 1],\n",
       " [0, 1, 0, 0, 0, 1, 2, 2],\n",
       " [0, 1, 0, 0, 0, 1, 2, 3],\n",
       " [0, 1, 0, 0, 0, 2, 0, 0],\n",
       " [0, 1, 0, 0, 0, 2, 0, 1],\n",
       " [0, 1, 0, 0, 0, 2, 0, 2],\n",
       " [0, 1, 0, 0, 0, 2, 0, 3],\n",
       " [0, 1, 0, 0, 0, 2, 1, 0],\n",
       " [0, 1, 0, 0, 0, 2, 1, 1],\n",
       " [0, 1, 0, 0, 0, 2, 1, 2],\n",
       " [0, 1, 0, 0, 0, 2, 1, 3],\n",
       " [0, 1, 0, 0, 0, 2, 2, 0],\n",
       " [0, 1, 0, 0, 0, 2, 2, 1],\n",
       " [0, 1, 0, 0, 0, 2, 2, 2],\n",
       " [0, 1, 0, 0, 0, 2, 2, 3],\n",
       " [0, 1, 0, 1, 0, 0, 0, 0],\n",
       " [0, 1, 0, 1, 0, 0, 0, 1],\n",
       " [0, 1, 0, 1, 0, 0, 0, 2],\n",
       " [0, 1, 0, 1, 0, 0, 0, 3],\n",
       " [0, 1, 0, 1, 0, 0, 1, 0],\n",
       " [0, 1, 0, 1, 0, 0, 1, 1],\n",
       " [0, 1, 0, 1, 0, 0, 1, 2],\n",
       " [0, 1, 0, 1, 0, 0, 1, 3],\n",
       " [0, 1, 0, 1, 0, 0, 2, 0],\n",
       " [0, 1, 0, 1, 0, 0, 2, 1],\n",
       " [0, 1, 0, 1, 0, 0, 2, 2],\n",
       " [0, 1, 0, 1, 0, 0, 2, 3],\n",
       " [0, 1, 0, 1, 0, 1, 0, 0],\n",
       " [0, 1, 0, 1, 0, 1, 0, 1],\n",
       " [0, 1, 0, 1, 0, 1, 0, 2],\n",
       " [0, 1, 0, 1, 0, 1, 0, 3],\n",
       " [0, 1, 0, 1, 0, 1, 1, 0],\n",
       " [0, 1, 0, 1, 0, 1, 1, 1],\n",
       " [0, 1, 0, 1, 0, 1, 1, 2],\n",
       " [0, 1, 0, 1, 0, 1, 1, 3],\n",
       " [0, 1, 0, 1, 0, 1, 2, 0],\n",
       " [0, 1, 0, 1, 0, 1, 2, 1],\n",
       " [0, 1, 0, 1, 0, 1, 2, 2],\n",
       " [0, 1, 0, 1, 0, 1, 2, 3],\n",
       " [0, 1, 0, 1, 0, 2, 0, 0],\n",
       " [0, 1, 0, 1, 0, 2, 0, 1],\n",
       " [0, 1, 0, 1, 0, 2, 0, 2],\n",
       " [0, 1, 0, 1, 0, 2, 0, 3],\n",
       " [0, 1, 0, 1, 0, 2, 1, 0],\n",
       " [0, 1, 0, 1, 0, 2, 1, 1],\n",
       " [0, 1, 0, 1, 0, 2, 1, 2],\n",
       " [0, 1, 0, 1, 0, 2, 1, 3],\n",
       " [0, 1, 0, 1, 0, 2, 2, 0],\n",
       " [0, 1, 0, 1, 0, 2, 2, 1],\n",
       " [0, 1, 0, 1, 0, 2, 2, 2],\n",
       " [0, 1, 0, 1, 0, 2, 2, 3],\n",
       " [0, 1, 0, 2, 0, 0, 0, 0],\n",
       " [0, 1, 0, 2, 0, 0, 0, 1],\n",
       " [0, 1, 0, 2, 0, 0, 0, 2],\n",
       " [0, 1, 0, 2, 0, 0, 0, 3],\n",
       " [0, 1, 0, 2, 0, 0, 1, 0],\n",
       " [0, 1, 0, 2, 0, 0, 1, 1],\n",
       " [0, 1, 0, 2, 0, 0, 1, 2],\n",
       " [0, 1, 0, 2, 0, 0, 1, 3],\n",
       " [0, 1, 0, 2, 0, 0, 2, 0],\n",
       " [0, 1, 0, 2, 0, 0, 2, 1],\n",
       " [0, 1, 0, 2, 0, 0, 2, 2],\n",
       " [0, 1, 0, 2, 0, 0, 2, 3],\n",
       " [0, 1, 0, 2, 0, 1, 0, 0],\n",
       " [0, 1, 0, 2, 0, 1, 0, 1],\n",
       " [0, 1, 0, 2, 0, 1, 0, 2],\n",
       " [0, 1, 0, 2, 0, 1, 0, 3],\n",
       " [0, 1, 0, 2, 0, 1, 1, 0],\n",
       " [0, 1, 0, 2, 0, 1, 1, 1],\n",
       " [0, 1, 0, 2, 0, 1, 1, 2],\n",
       " [0, 1, 0, 2, 0, 1, 1, 3],\n",
       " [0, 1, 0, 2, 0, 1, 2, 0],\n",
       " [0, 1, 0, 2, 0, 1, 2, 1],\n",
       " [0, 1, 0, 2, 0, 1, 2, 2],\n",
       " [0, 1, 0, 2, 0, 1, 2, 3],\n",
       " [0, 1, 0, 2, 0, 2, 0, 0],\n",
       " [0, 1, 0, 2, 0, 2, 0, 1],\n",
       " [0, 1, 0, 2, 0, 2, 0, 2],\n",
       " [0, 1, 0, 2, 0, 2, 0, 3],\n",
       " [0, 1, 0, 2, 0, 2, 1, 0],\n",
       " [0, 1, 0, 2, 0, 2, 1, 1],\n",
       " [0, 1, 0, 2, 0, 2, 1, 2],\n",
       " [0, 1, 0, 2, 0, 2, 1, 3],\n",
       " [0, 1, 0, 2, 0, 2, 2, 0],\n",
       " [0, 1, 0, 2, 0, 2, 2, 1],\n",
       " [0, 1, 0, 2, 0, 2, 2, 2],\n",
       " [0, 1, 0, 2, 0, 2, 2, 3]]"
      ]
     },
     "execution_count": 270,
     "metadata": {},
     "output_type": "execute_result"
    }
   ],
   "source": [
    "R_set, rashomon_profiles = RAggregate(M, R, 9, D, y, 10, reg=1e-2)\n",
    "\n",
    "R_set"
   ]
  },
  {
   "cell_type": "code",
   "execution_count": 271,
   "id": "eda839f2-dd75-4114-a2ec-69b038926bbf",
   "metadata": {},
   "outputs": [
    {
     "name": "stdout",
     "output_type": "stream",
     "text": [
      "(0, 0, 0)\n",
      "[None]\n",
      "(0, 0, 1)\n",
      "[array([[0.]]), array([[1.]])]\n",
      "(0, 1, 0)\n",
      "[array([[0.]])]\n",
      "(0, 1, 1)\n",
      "[array([[1.],\n",
      "       [0.]]), array([[0.],\n",
      "       [1.]]), array([[1.],\n",
      "       [1.]])]\n",
      "(1, 0, 0)\n",
      "[array([[0.]])]\n",
      "(1, 0, 1)\n",
      "[array([[1.],\n",
      "       [1.]]), array([[0.],\n",
      "       [1.]]), array([[1.],\n",
      "       [0.]])]\n",
      "(1, 1, 0)\n",
      "[array([[1.],\n",
      "       [1.]]), array([[0.],\n",
      "       [1.]]), array([[1.],\n",
      "       [0.]])]\n",
      "(1, 1, 1)\n",
      "[array([[1.],\n",
      "       [1.],\n",
      "       [1.]]), array([[1.],\n",
      "       [0.],\n",
      "       [1.]]), array([[0.],\n",
      "       [1.],\n",
      "       [1.]]), array([[1.],\n",
      "       [1.],\n",
      "       [0.]])]\n"
     ]
    }
   ],
   "source": [
    "for k, profile in enumerate(profiles):\n",
    "    print(profile)\n",
    "    print(rashomon_profiles[k])"
   ]
  },
  {
   "cell_type": "code",
   "execution_count": null,
   "id": "30e5c7bd-ce69-4d40-a256-bcf9c8b96cdf",
   "metadata": {},
   "outputs": [],
   "source": []
  },
  {
   "cell_type": "code",
   "execution_count": null,
   "id": "08ab313c-8f81-4d1a-9a69-c6e5082d68e6",
   "metadata": {},
   "outputs": [],
   "source": []
  },
  {
   "cell_type": "code",
   "execution_count": null,
   "id": "87ff5b9c-65b0-4193-9e52-9077f5c0ee60",
   "metadata": {},
   "outputs": [],
   "source": []
  },
  {
   "cell_type": "code",
   "execution_count": null,
   "id": "60333a47-ac9e-4268-bbc3-0ea8731fd0e9",
   "metadata": {},
   "outputs": [],
   "source": []
  },
  {
   "cell_type": "code",
   "execution_count": null,
   "id": "35e993de-df31-4b77-bbcb-022e390aba29",
   "metadata": {},
   "outputs": [],
   "source": []
  },
  {
   "cell_type": "code",
   "execution_count": null,
   "id": "921f718e-82fa-48c3-8f5a-19519594dfa3",
   "metadata": {},
   "outputs": [],
   "source": []
  },
  {
   "cell_type": "markdown",
   "id": "610c2a0d",
   "metadata": {},
   "source": [
    "## Single profile"
   ]
  },
  {
   "cell_type": "code",
   "execution_count": 34,
   "id": "384b5956",
   "metadata": {},
   "outputs": [
    {
     "name": "stdout",
     "output_type": "stream",
     "text": [
      "0 : [(1, 1, 1), (1, 1, 2), (2, 1, 1), (2, 1, 2), (3, 1, 1), (3, 1, 2)]\n",
      "1 : [(1, 1, 3), (1, 1, 4), (2, 1, 3), (2, 1, 4), (3, 1, 3), (3, 1, 4)]\n",
      "2 : [(1, 2, 1), (1, 2, 2), (1, 3, 1), (1, 3, 2), (1, 4, 1), (1, 4, 2), (2, 2, 1), (2, 2, 2), (2, 3, 1), (2, 3, 2), (2, 4, 1), (2, 4, 2), (3, 2, 1), (3, 2, 2), (3, 3, 1), (3, 3, 2), (3, 4, 1), (3, 4, 2)]\n",
      "3 : [(1, 2, 3), (1, 2, 4), (1, 3, 3), (1, 3, 4), (1, 4, 3), (1, 4, 4), (2, 2, 3), (2, 2, 4), (2, 3, 3), (2, 3, 4), (2, 4, 3), (2, 4, 4), (3, 2, 3), (3, 2, 4), (3, 3, 3), (3, 3, 4), (3, 4, 3), (3, 4, 4)]\n",
      "4 : [(4, 1, 1), (4, 1, 2)]\n",
      "5 : [(4, 1, 3), (4, 1, 4)]\n",
      "6 : [(4, 2, 1), (4, 2, 2), (4, 3, 1), (4, 3, 2), (4, 4, 1), (4, 4, 2)]\n",
      "7 : [(4, 2, 3), (4, 2, 4), (4, 3, 3), (4, 3, 4), (4, 4, 3), (4, 4, 4)]\n"
     ]
    }
   ],
   "source": [
    "sigma = np.array([[1, 1, 0],\n",
    "                  [0, 1, 1],\n",
    "                  [1, 0, 1]], dtype='float64')\n",
    "\n",
    "M, n = sigma.shape\n",
    "R = np.array([5, 5, 5])\n",
    "profile = (1, 1, 1)\n",
    "\n",
    "num_policies = np.prod(R-1)\n",
    "profiles, profile_map = tva.enumerate_profiles(M)\n",
    "all_policies = tva.enumerate_policies(M, R)\n",
    "policies = [x for x in all_policies if tva.policy_to_profile(x) == profile]\n",
    "pi_pools, pi_policies = extract_pools(policies, sigma)\n",
    "\n",
    "for pool_id, pool in pi_pools.items():\n",
    "    print(pool_id, \":\", [policies[i] for i in pool])"
   ]
  },
  {
   "cell_type": "markdown",
   "id": "3751d3a0-9f2a-430b-88ec-a636c3f58f3d",
   "metadata": {},
   "source": [
    "### Generate data"
   ]
  },
  {
   "cell_type": "code",
   "execution_count": 30,
   "id": "314fe15c",
   "metadata": {},
   "outputs": [],
   "source": [
    "np.random.seed(3)\n",
    "\n",
    "num_pools = len(pi_pools)\n",
    "# mu = np.random.uniform(0, 4, size=num_pools)\n",
    "# mu = np.array([3, 6, 1, 4])\n",
    "mu = np.array([3, 4, 6, 5, 1, 0, 3, 2])\n",
    "var = [1] * num_pools\n",
    "\n",
    "n_per_pol = 10\n",
    "\n",
    "num_data = num_policies * n_per_pol\n",
    "X = np.ndarray(shape=(num_data, M))\n",
    "D = np.ndarray(shape=(num_data, 1), dtype='int_')\n",
    "y = np.ndarray(shape=(num_data, 1))\n",
    "\n",
    "for idx, policy in enumerate(policies):\n",
    "    pool_i = pi_policies[idx]\n",
    "    mu_i = mu[pool_i]\n",
    "    var_i = var[pool_i]\n",
    "    y_i = np.random.normal(mu_i, var_i, size=(n_per_pol, 1))\n",
    "\n",
    "    start_idx = idx * n_per_pol\n",
    "    end_idx = (idx + 1) * n_per_pol\n",
    "\n",
    "    X[start_idx:end_idx, ] = policy\n",
    "    D[start_idx:end_idx, ] = idx\n",
    "    y[start_idx:end_idx, ] = y_i\n",
    "    "
   ]
  },
  {
   "cell_type": "code",
   "execution_count": 31,
   "id": "a892aa68",
   "metadata": {},
   "outputs": [
    {
     "name": "stdout",
     "output_type": "stream",
     "text": [
      "1.8126958244093103\n"
     ]
    }
   ],
   "source": [
    "# This function needs to called only once\n",
    "policy_means = loss.compute_policy_means(D, y, num_policies)\n",
    "\n",
    "# This function needs to be called every time the pools change\n",
    "mu_pools = loss.compute_pool_means(policy_means, pi_pools)\n",
    "\n",
    "# This function needs to be called every time the pools change\n",
    "Q = loss.compute_Q(D, y, sigma, policies, policy_means, 0.1)\n",
    "\n",
    "print(Q)"
   ]
  },
  {
   "cell_type": "code",
   "execution_count": 32,
   "id": "edc3aa82-8543-480c-80fd-b2214aab0e64",
   "metadata": {},
   "outputs": [
    {
     "name": "stdout",
     "output_type": "stream",
     "text": [
      "1.7862060864721792\n"
     ]
    }
   ],
   "source": [
    "i = 0\n",
    "j = 0\n",
    "\n",
    "B = loss.compute_B(D, y, sigma, i, j, policies, policy_means, 0.1)\n",
    "print(B)"
   ]
  },
  {
   "cell_type": "markdown",
   "id": "39118580-cbb0-4419-b951-f5faf8a51739",
   "metadata": {},
   "source": [
    "### RAggregate"
   ]
  },
  {
   "cell_type": "code",
   "execution_count": null,
   "id": "74db8408-5d9b-4777-af72-92639091c9f8",
   "metadata": {},
   "outputs": [],
   "source": []
  },
  {
   "cell_type": "code",
   "execution_count": null,
   "id": "2f648169-30e0-453f-b519-d1f5163e8d9c",
   "metadata": {},
   "outputs": [],
   "source": []
  },
  {
   "cell_type": "code",
   "execution_count": 33,
   "id": "9fa5fdac-2bd9-426b-a0bf-35efc4d0cddd",
   "metadata": {},
   "outputs": [
    {
     "name": "stdout",
     "output_type": "stream",
     "text": [
      "7\n"
     ]
    },
    {
     "data": {
      "text/plain": [
       "True"
      ]
     },
     "execution_count": 33,
     "metadata": {},
     "output_type": "execute_result"
    }
   ],
   "source": [
    "P_set = RAggregate(M, R, 10, D, y, 2, reg=0.1)\n",
    "print(P_set.size)\n",
    "P_set.seen(sigma)"
   ]
  },
  {
   "cell_type": "code",
   "execution_count": 58,
   "id": "c7935848-b31b-4bf3-9c95-216dc8f61436",
   "metadata": {},
   "outputs": [
    {
     "name": "stdout",
     "output_type": "stream",
     "text": [
      "Num pools: 4, Squared loss: 1.30029, Q: 1.70029\n",
      "Best policy IOU: 0.500\n",
      "Min dosage: True\n",
      "Best policy error: 0.4471226717855128\n",
      "---\n",
      "Num pools: 6, Squared loss: 1.29973, Q: 1.89973\n",
      "Best policy IOU: 0.400\n",
      "Min dosage: True\n",
      "Best policy error: 0.4251355538334627\n",
      "---\n",
      "Num pools: 6, Squared loss: 1.29852, Q: 1.89852\n",
      "Best policy IOU: 0.400\n",
      "Min dosage: False\n",
      "Best policy error: 0.40918740978712886\n",
      "---\n",
      "Num pools: 6, Squared loss: 1.29790, Q: 1.89790\n",
      "Best policy IOU: 0.250\n",
      "Min dosage: True\n",
      "Best policy error: 0.43686580234869066\n",
      "---\n",
      "Num pools: 8, Squared loss: 1.01270, Q: 1.81270\n",
      "Best policy IOU: 1.000\n",
      "Min dosage: True\n",
      "Best policy error: -0.09651153607163465\n",
      "---\n",
      "Num pools: 6, Squared loss: 1.29657, Q: 1.89657\n",
      "Best policy IOU: 0.400\n",
      "Min dosage: True\n",
      "Best policy error: 0.398387635947028\n",
      "---\n",
      "Num pools: 8, Squared loss: 1.18809, Q: 1.98809\n",
      "Best policy IOU: 0.667\n",
      "Min dosage: True\n",
      "Best policy error: 0.2681464021581057\n",
      "---\n"
     ]
    }
   ],
   "source": [
    "pol_means = loss.compute_policy_means(D, y, num_policies)\n",
    "true_best = pi_pools[np.argmax(mu)]\n",
    "min_dosage_best_policy = find_min_dosage(true_best, policies)\n",
    "\n",
    "for s_i in P_set:\n",
    "    # print(s_i)\n",
    "    pi_pools_i, pi_policies_i = extract_pools(policies, s_i)\n",
    "    pool_means_i = loss.compute_pool_means(pol_means, pi_pools_i)\n",
    "    \n",
    "    Q = loss.compute_Q(D, y, s_i, policies, pol_means, reg=0.1)\n",
    "    y_pred = loss.make_predictions(D, pi_policies_i, pool_means_i)\n",
    "    sqrd_err = mean_squared_error(y, y_pred)\n",
    "    pol_max = loss.find_best_policies(D, y_pred)\n",
    "    iou = loss.intersect_over_union(set(true_best), set(pol_max))\n",
    "\n",
    "    # Min dosage membership\n",
    "    min_dosage_present = check_membership(min_dosage_best_policy, pol_max)\n",
    "\n",
    "    # Best policy difference\n",
    "    best_pol_diff = np.max(mu) - np.max(pool_means_i)\n",
    "    \n",
    "    # print(np.max(y_pred), pool_means)\n",
    "    print(f\"Num pools: {len(pi_pools_i)}, Squared loss: {sqrd_err:0.5f}, Q: {Q:0.5f}\")\n",
    "    print(f\"Best policy IOU: {iou:.3f}\")\n",
    "    print(f\"Min dosage: {min_dosage_present}\")\n",
    "    print(f\"Best policy error: {best_pol_diff}\")\n",
    "    print(\"---\")"
   ]
  },
  {
   "cell_type": "markdown",
   "id": "5f118bfd-5475-40b3-92a7-134a331a5afd",
   "metadata": {},
   "source": [
    "### LASSO - Beta -> alpha"
   ]
  },
  {
   "cell_type": "code",
   "execution_count": 35,
   "id": "0fae0c9b-06f7-47d7-a591-dd2d43cea775",
   "metadata": {},
   "outputs": [],
   "source": [
    "G = tva.alpha_matrix(policies)\n",
    "# print(G)\n",
    "D_matrix = tva.get_dummy_matrix(D, G, num_policies)"
   ]
  },
  {
   "cell_type": "code",
   "execution_count": 64,
   "id": "7156e414-74ff-4559-b54f-e49e94f0d0af",
   "metadata": {},
   "outputs": [
    {
     "name": "stdout",
     "output_type": "stream",
     "text": [
      "1.300375775335072\n",
      "1.800375775335072 1.7425677924571503\n"
     ]
    }
   ],
   "source": [
    "reg_param = 1e-1\n",
    "mod1 = linear_model.Lasso(reg_param)\n",
    "mod1.fit(D_matrix, y)\n",
    "alpha_est = mod1.coef_\n",
    "y_tva = mod1.predict(D_matrix)\n",
    "sqrd_err = mean_squared_error(y_tva, y)\n",
    "print(sqrd_err)\n",
    "L1_tva = sqrd_err + reg_param * np.linalg.norm(alpha_est, ord=1)\n",
    "Q_tva = sqrd_err + reg_param * np.linalg.norm(alpha_est, ord=0)\n",
    "print(Q_tva, L1_tva)"
   ]
  },
  {
   "cell_type": "code",
   "execution_count": 65,
   "id": "c1a7b489-7314-469e-a908-3cb102d3f707",
   "metadata": {},
   "outputs": [
    {
     "name": "stdout",
     "output_type": "stream",
     "text": [
      "1.0\n",
      "True\n",
      "0.5628253327386021\n"
     ]
    }
   ],
   "source": [
    "# print(pi_pools[1])\n",
    "# np.unique(D[np.where(y_tva == np.max(y_tva)), ])\n",
    "tva_best = loss.find_best_policies(D, y_tva)\n",
    "iou_tva = loss.intersect_over_union(set(true_best), set(tva_best))\n",
    "print(iou_tva)\n",
    "min_dosage_present_tva = check_membership(min_dosage_best_policy, pol_max)\n",
    "print(min_dosage_present_tva)\n",
    "best_policy_error_tva = np.max(mu) - np.max(y_tva)\n",
    "print(best_policy_error_tva)"
   ]
  },
  {
   "cell_type": "code",
   "execution_count": 52,
   "id": "23187897-e75b-40b7-9920-3e845ae4d654",
   "metadata": {},
   "outputs": [
    {
     "data": {
      "text/plain": [
       "array([1.80926068, 3.08160831, 4.09466866, 4.25545291, 4.52180272,\n",
       "       5.36701629, 5.52780054, 5.79415035])"
      ]
     },
     "execution_count": 52,
     "metadata": {},
     "output_type": "execute_result"
    }
   ],
   "source": [
    "np.unique(y_tva)"
   ]
  },
  {
   "cell_type": "code",
   "execution_count": 53,
   "id": "909a6a89-254a-4c22-84d3-6d9d2cf14ed7",
   "metadata": {},
   "outputs": [
    {
     "name": "stdout",
     "output_type": "stream",
     "text": [
      "[52, 53, 54, 55, 56, 57, 58, 59, 60, 61, 62, 63]\n"
     ]
    },
    {
     "data": {
      "text/plain": [
       "array([52, 56, 60])"
      ]
     },
     "execution_count": 53,
     "metadata": {},
     "output_type": "execute_result"
    }
   ],
   "source": [
    "print(pi_pools[3])\n",
    "np.unique(D[np.where(y_tva == np.unique(y_tva)[2]), ])"
   ]
  },
  {
   "cell_type": "code",
   "execution_count": null,
   "id": "7483bae0-5962-4163-a10d-81ff026f9678",
   "metadata": {},
   "outputs": [],
   "source": []
  },
  {
   "cell_type": "code",
   "execution_count": null,
   "id": "3151d3ed-a9fa-4a53-9695-18fe71f0b20d",
   "metadata": {},
   "outputs": [],
   "source": []
  },
  {
   "cell_type": "code",
   "execution_count": null,
   "id": "85fb6464-a82c-4284-855a-8f29f5b4a8ec",
   "metadata": {},
   "outputs": [],
   "source": []
  },
  {
   "cell_type": "code",
   "execution_count": null,
   "id": "66f46dcd-f31b-48f8-adc8-96c8c7acd8f0",
   "metadata": {},
   "outputs": [],
   "source": []
  },
  {
   "cell_type": "code",
   "execution_count": null,
   "id": "c8af6b91-9e0e-40f2-97a5-12c21f78b2c2",
   "metadata": {},
   "outputs": [],
   "source": []
  },
  {
   "cell_type": "code",
   "execution_count": null,
   "id": "55043ac7-5b63-4430-812d-85f359422f7b",
   "metadata": {},
   "outputs": [],
   "source": []
  },
  {
   "cell_type": "code",
   "execution_count": null,
   "id": "880ea757-a1f3-4a95-aeb7-4de21ab8da61",
   "metadata": {},
   "outputs": [],
   "source": []
  },
  {
   "cell_type": "code",
   "execution_count": null,
   "id": "91cca2fa-c86d-4f2b-84af-ff41474a353b",
   "metadata": {},
   "outputs": [],
   "source": []
  },
  {
   "cell_type": "code",
   "execution_count": null,
   "id": "7dcefa1e-88c5-40d9-a8e2-39447448db03",
   "metadata": {},
   "outputs": [],
   "source": []
  },
  {
   "cell_type": "code",
   "execution_count": null,
   "id": "14cef99e-e93a-46df-bd4e-579fc87d688f",
   "metadata": {},
   "outputs": [],
   "source": []
  },
  {
   "cell_type": "code",
   "execution_count": null,
   "id": "a1420789-6b2d-4814-a34f-32850d1676b0",
   "metadata": {},
   "outputs": [],
   "source": []
  },
  {
   "cell_type": "markdown",
   "id": "ea284fe0-a9ea-443b-9bc1-22bc4d126ce2",
   "metadata": {},
   "source": [
    "### Varying R"
   ]
  },
  {
   "cell_type": "code",
   "execution_count": 192,
   "id": "4d1dbc09-5aed-42e7-8f4b-6b91d138e84a",
   "metadata": {},
   "outputs": [
    {
     "name": "stdout",
     "output_type": "stream",
     "text": [
      "0 : [(1, 1), (2, 1)]\n",
      "1 : [(1, 2), (1, 3), (2, 2), (2, 3)]\n",
      "2 : [(3, 1), (4, 1)]\n",
      "3 : [(3, 2), (3, 3), (4, 2), (4, 3)]\n"
     ]
    }
   ],
   "source": [
    "# Idea: np.inf for arbitrary dosage?\n",
    "sigma = np.array([[1, 0, 1],\n",
    "                  [0, 1, np.inf]], dtype='float64')\n",
    "# sigma = np.array([[0, 0, 0],\n",
    "#                   [0, 0, np.inf]], dtype='float64')\n",
    "\n",
    "M, n = sigma.shape\n",
    "R = np.array([5, 4])\n",
    "\n",
    "num_policies = np.prod(R-1)\n",
    "policies = enumerate_policies(M, R)\n",
    "pi_pools, pi_policies = extract_pools(policies, sigma)\n",
    "\n",
    "for pool_id, pool in pi_pools.items():\n",
    "    print(pool_id, \":\", [policies[i] for i in pool])"
   ]
  },
  {
   "cell_type": "code",
   "execution_count": 193,
   "id": "ca1f6493-1baf-4156-aa41-87525e4fd0db",
   "metadata": {},
   "outputs": [
    {
     "data": {
      "text/plain": [
       "4.0"
      ]
     },
     "execution_count": 193,
     "metadata": {},
     "output_type": "execute_result"
    }
   ],
   "source": [
    "counter.num_pools(sigma)"
   ]
  },
  {
   "cell_type": "code",
   "execution_count": 194,
   "id": "a908d747-6bb8-447d-85c2-393d11adf89f",
   "metadata": {},
   "outputs": [
    {
     "data": {
      "text/plain": [
       "6"
      ]
     },
     "execution_count": 194,
     "metadata": {},
     "output_type": "execute_result"
    }
   ],
   "source": [
    "counter.num_admissible_poolings(4, M, R)"
   ]
  },
  {
   "cell_type": "code",
   "execution_count": 195,
   "id": "1ecd5ddb-21d9-4885-abda-fdebb888ecd8",
   "metadata": {},
   "outputs": [],
   "source": [
    "np.random.seed(3)\n",
    "\n",
    "num_pools = len(pi_pools)\n",
    "mu = np.random.uniform(0, 4, size=num_pools)\n",
    "var = [1] * num_pools\n",
    "\n",
    "n_per_pol = 10\n",
    "\n",
    "num_data = num_policies * n_per_pol\n",
    "X = np.ndarray(shape=(num_data, M))\n",
    "D = np.ndarray(shape=(num_data, 1), dtype='int_')\n",
    "y = np.ndarray(shape=(num_data, 1))\n",
    "\n",
    "for idx, policy in enumerate(policies):\n",
    "    pool_i = pi_policies[idx]\n",
    "    mu_i = mu[pool_i]\n",
    "    var_i = var[pool_i]\n",
    "    y_i = np.random.normal(mu_i, var_i, size=(n_per_pol, 1))\n",
    "\n",
    "    start_idx = idx * n_per_pol\n",
    "    end_idx = (idx + 1) * n_per_pol\n",
    "\n",
    "    X[start_idx:end_idx, ] = policy\n",
    "    D[start_idx:end_idx, ] = idx\n",
    "    y[start_idx:end_idx, ] = y_i"
   ]
  },
  {
   "cell_type": "code",
   "execution_count": 196,
   "id": "52f99c60-a623-4cfc-963a-fe8857326682",
   "metadata": {},
   "outputs": [
    {
     "data": {
      "text/plain": [
       "array([[22.3306393 , 10.        ],\n",
       "       [26.09289987, 10.        ],\n",
       "       [26.9056259 , 10.        ],\n",
       "       [14.77744099, 10.        ],\n",
       "       [27.87404021, 10.        ],\n",
       "       [29.12185777, 10.        ],\n",
       "       [14.06728243, 10.        ],\n",
       "       [21.12531734, 10.        ],\n",
       "       [15.25551251, 10.        ],\n",
       "       [12.69909817, 10.        ],\n",
       "       [21.11531527, 10.        ],\n",
       "       [19.32885624, 10.        ]])"
      ]
     },
     "execution_count": 196,
     "metadata": {},
     "output_type": "execute_result"
    }
   ],
   "source": [
    "policy_means = loss.compute_policy_means(D, y, num_policies)\n",
    "policy_means"
   ]
  },
  {
   "cell_type": "code",
   "execution_count": 197,
   "id": "97470e90-a6c9-464f-bce7-ed17adced082",
   "metadata": {},
   "outputs": [
    {
     "data": {
      "text/plain": [
       "4.9889861406550375"
      ]
     },
     "execution_count": 197,
     "metadata": {},
     "output_type": "execute_result"
    }
   ],
   "source": [
    "Q = loss.compute_Q(D, y, sigma, policies, policy_means, reg=1)\n",
    "Q"
   ]
  },
  {
   "cell_type": "code",
   "execution_count": 198,
   "id": "1de0393d-e1bc-4eda-8bcf-fa7c5dda79f9",
   "metadata": {},
   "outputs": [
    {
     "name": "stdout",
     "output_type": "stream",
     "text": [
      "6.975889428946971\n"
     ]
    }
   ],
   "source": [
    "i = 1\n",
    "j = 1\n",
    "B = loss.compute_B(D, y, sigma, i, j, policies, policy_means, reg=1)\n",
    "print(B)"
   ]
  },
  {
   "cell_type": "code",
   "execution_count": 199,
   "id": "c1b25293-aa89-4aa0-9b67-21ea3432ee06",
   "metadata": {},
   "outputs": [
    {
     "name": "stdout",
     "output_type": "stream",
     "text": [
      "5\n"
     ]
    },
    {
     "data": {
      "text/plain": [
       "True"
      ]
     },
     "execution_count": 199,
     "metadata": {},
     "output_type": "execute_result"
    }
   ],
   "source": [
    "P_set = RAggregate(2, R, 4, D, y, 1.4, reg=0.1)\n",
    "print(P_set.size)\n",
    "P_set.seen(sigma)"
   ]
  },
  {
   "cell_type": "code",
   "execution_count": null,
   "id": "0dd987c1-d193-454d-961c-bedc65b7f6e4",
   "metadata": {},
   "outputs": [],
   "source": []
  },
  {
   "cell_type": "code",
   "execution_count": null,
   "id": "39676ca8-730d-47dd-9fb2-e40492fc0b61",
   "metadata": {},
   "outputs": [],
   "source": []
  },
  {
   "cell_type": "code",
   "execution_count": null,
   "id": "c0d2b17f-3024-4e98-8f26-6891dfc70760",
   "metadata": {},
   "outputs": [],
   "source": []
  },
  {
   "cell_type": "code",
   "execution_count": null,
   "id": "b8e404e9-8767-4aee-8f80-50bbfeef3a59",
   "metadata": {},
   "outputs": [],
   "source": []
  }
 ],
 "metadata": {
  "kernelspec": {
   "display_name": "Python (rashomon-tva)",
   "language": "python",
   "name": "rashomon-tva"
  },
  "language_info": {
   "codemirror_mode": {
    "name": "ipython",
    "version": 3
   },
   "file_extension": ".py",
   "mimetype": "text/x-python",
   "name": "python",
   "nbconvert_exporter": "python",
   "pygments_lexer": "ipython3",
   "version": "3.11.3"
  }
 },
 "nbformat": 4,
 "nbformat_minor": 5
}
