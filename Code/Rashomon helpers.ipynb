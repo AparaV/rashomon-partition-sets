{
 "cells": [
  {
   "cell_type": "code",
   "execution_count": 1,
   "id": "9a619547",
   "metadata": {},
   "outputs": [],
   "source": [
    "# import math\n",
    "# import itertools\n",
    "# import collections\n",
    "import numpy as np\n",
    "import matplotlib.pyplot as plt\n",
    "\n",
    "# from functools import reduce\n",
    "\n",
    "from tva import enumerate_policies\n",
    "from extract_pools import extract_pools\n",
    "from count_pools import num_admissible_poolings, num_pools\n",
    "\n",
    "# %matplotlib inline"
   ]
  },
  {
   "cell_type": "markdown",
   "id": "95a88576",
   "metadata": {},
   "source": [
    "### Function to pool based on $\\Sigma$ matrix"
   ]
  },
  {
   "cell_type": "code",
   "execution_count": 2,
   "id": "5d54ae00",
   "metadata": {},
   "outputs": [
    {
     "name": "stdout",
     "output_type": "stream",
     "text": [
      "[0, 4, 8]\n",
      "[1, 2, 3, 5, 6, 7, 9, 10, 11]\n",
      "[12]\n",
      "[13, 14, 15]\n"
     ]
    }
   ],
   "source": [
    "\n",
    "sigma = np.array([[1, 1, 0],\n",
    "                  [0, 1, 1]])\n",
    "\n",
    "M, n = sigma.shape\n",
    "R = n + 2\n",
    "\n",
    "num_policies = (R-1)**M\n",
    "policies = enumerate_policies(M, R)\n",
    "pools = extract_pools(policies, sigma)\n",
    "\n",
    "for pool in pools:\n",
    "    print(pool)"
   ]
  },
  {
   "cell_type": "code",
   "execution_count": null,
   "id": "cedd88e5",
   "metadata": {},
   "outputs": [],
   "source": []
  },
  {
   "cell_type": "code",
   "execution_count": null,
   "id": "e6a063ed",
   "metadata": {},
   "outputs": [],
   "source": []
  },
  {
   "cell_type": "code",
   "execution_count": null,
   "id": "4f990e6d",
   "metadata": {},
   "outputs": [],
   "source": []
  },
  {
   "cell_type": "code",
   "execution_count": 3,
   "id": "db6e5725",
   "metadata": {},
   "outputs": [],
   "source": [
    "# Function to compute B\n",
    "\n",
    "# Function to compute Q"
   ]
  },
  {
   "cell_type": "code",
   "execution_count": null,
   "id": "d2274bfc",
   "metadata": {},
   "outputs": [],
   "source": []
  }
 ],
 "metadata": {
  "kernelspec": {
   "display_name": "Python (rashomon-tva)",
   "language": "python",
   "name": "rashomon-tva"
  },
  "language_info": {
   "codemirror_mode": {
    "name": "ipython",
    "version": 3
   },
   "file_extension": ".py",
   "mimetype": "text/x-python",
   "name": "python",
   "nbconvert_exporter": "python",
   "pygments_lexer": "ipython3",
   "version": "3.11.3"
  }
 },
 "nbformat": 4,
 "nbformat_minor": 5
}
