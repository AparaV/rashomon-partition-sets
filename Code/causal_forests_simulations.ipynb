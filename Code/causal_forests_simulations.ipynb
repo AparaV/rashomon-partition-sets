{
 "cells": [
  {
   "cell_type": "code",
   "execution_count": 1,
   "id": "bac1b705-354d-4e6a-bb30-b57d053e442f",
   "metadata": {},
   "outputs": [],
   "source": [
    "import numpy as np\n",
    "import matplotlib.pyplot as plt\n",
    "import pandas as pd\n",
    "\n",
    "%matplotlib inline"
   ]
  },
  {
   "cell_type": "code",
   "execution_count": 493,
   "id": "9a8afb99-5c36-4460-838b-47e4e409508c",
   "metadata": {},
   "outputs": [
    {
     "name": "stdout",
     "output_type": "stream",
     "text": [
      "The autoreload extension is already loaded. To reload it, use:\n",
      "  %reload_ext autoreload\n"
     ]
    }
   ],
   "source": [
    "import pickle\n",
    "import econml\n",
    "\n",
    "from rashomon import tva\n",
    "from rashomon import loss\n",
    "from rashomon import counter\n",
    "from rashomon import metrics\n",
    "from rashomon import extract_pools\n",
    "from rashomon.aggregate import (RAggregate_profile, RAggregate,\n",
    "    find_profile_lower_bound, find_feasible_combinations, remove_unused_poolings, subset_data)\n",
    "from rashomon.sets import RashomonSet, RashomonProblemCache, RashomonSubproblemCache\n",
    "\n",
    "from econml.grf import CausalForest\n",
    "from sklearn.metrics import mean_squared_error\n",
    "from sklearn import linear_model\n",
    "\n",
    "from copy import deepcopy\n",
    "\n",
    "%load_ext autoreload\n",
    "%autoreload 2"
   ]
  },
  {
   "cell_type": "markdown",
   "id": "9176ab43-dc32-46fb-958e-ce465bafc0f4",
   "metadata": {},
   "source": []
  },
  {
   "cell_type": "code",
   "execution_count": null,
   "id": "a1023160-4425-49dd-a032-3c83624167de",
   "metadata": {},
   "outputs": [],
   "source": []
  },
  {
   "cell_type": "code",
   "execution_count": 308,
   "id": "d7fb161c-7264-4757-a431-03ca8d65538b",
   "metadata": {},
   "outputs": [],
   "source": [
    "def generate_data(mu, var, n_per_pol, all_policies, pi_policies, M):\n",
    "    num_data = num_policies * n_per_pol\n",
    "    X = np.zeros(shape=(num_data, M))\n",
    "    D = np.zeros(shape=(num_data, 1), dtype='int_')\n",
    "    y = np.zeros(shape=(num_data, 1))  + np.inf\n",
    "    mu_true = np.zeros(shape=(num_data, 1))\n",
    "\n",
    "    idx_ctr = 0\n",
    "    for k, profile in enumerate(profiles):\n",
    "        policies_k = policies_profiles[k]\n",
    "\n",
    "        for idx, policy in enumerate(policies_k):\n",
    "            policy_idx = [i for i, x in enumerate(all_policies) if x == policy]\n",
    "            \n",
    "            if pi_policies[k] is None and np.isnan(mu[k]):\n",
    "                continue\n",
    "                \n",
    "            pool_id = pi_policies[k][idx]\n",
    "            mu_i = mu[k][pool_id]\n",
    "            var_i = var[k][pool_id]\n",
    "            y_i = np.random.normal(mu_i, var_i, size=(n_per_pol, 1))\n",
    "\n",
    "            start_idx = idx_ctr * n_per_pol\n",
    "            end_idx = (idx_ctr + 1) * n_per_pol\n",
    "\n",
    "            X[start_idx:end_idx, ] = policy\n",
    "            D[start_idx:end_idx, ] = policy_idx[0]\n",
    "            y[start_idx:end_idx, ] = y_i\n",
    "            mu_true[start_idx:end_idx, ] = mu_i\n",
    "\n",
    "            idx_ctr += 1\n",
    "\n",
    "    absent_idx = np.where(np.isinf(y))[0]\n",
    "    X = np.delete(X, absent_idx, 0)\n",
    "    y = np.delete(y, absent_idx, 0)\n",
    "    D = np.delete(D, absent_idx, 0)\n",
    "    mu_true = np.delete(mu_true, absent_idx, 0)\n",
    "\n",
    "    return X, D, y, mu_true"
   ]
  },
  {
   "cell_type": "markdown",
   "id": "ad2a5645-0e7c-433d-bd17-912ffa483778",
   "metadata": {},
   "source": [
    "# Setup\n",
    "\n",
    "## Parameters"
   ]
  },
  {
   "cell_type": "code",
   "execution_count": null,
   "id": "409911a5-56fd-4872-a302-c9d0da79586d",
   "metadata": {},
   "outputs": [],
   "source": [
    "# M = 2\n",
    "# R = np.array([2, 4])\n",
    "\n",
    "\n",
    "# # (0, 0)\n",
    "# sigma_0 = None\n",
    "# mu_0 = np.array([0])\n",
    "# var_0 = np.array([1])\n",
    "\n",
    "# # (0, 1)\n",
    "# sigma_1 = np.array([[1, 1]])\n",
    "# mu_1 = np.array([0])\n",
    "# var_1 = np.array([1])\n",
    "\n",
    "\n",
    "# # (1, 0)\n",
    "# sigma_2 = None\n",
    "# mu_2 = np.array([0])\n",
    "# var_2 = np.array([1])\n",
    "\n",
    "\n",
    "# # (1, 1)\n",
    "# sigma_3 = np.array([[1, 1],\n",
    "#                     [0, 1]])\n",
    "# mu_3 = np.array([6, 4,])\n",
    "# var_3 = np.array([1, 1])\n",
    "\n",
    "\n",
    "# sigma = [sigma_0, sigma_1, sigma_2, sigma_3]\n",
    "# mu = [mu_0, mu_1, mu_2, mu_3]\n",
    "# var = [var_0, var_1, var_2, var_3]"
   ]
  },
  {
   "cell_type": "code",
   "execution_count": null,
   "id": "b3d6b882-0d1e-4649-87bf-850260a18c0a",
   "metadata": {},
   "outputs": [],
   "source": [
    "# M = 3\n",
    "# R = np.array([4, 4, 4])\n",
    "\n",
    "# # Fix the partitions\n",
    "# # Profile 0: (0, 0)\n",
    "# sigma_0 = None\n",
    "# mu_0 = np.array([0])\n",
    "# var_0 = np.array([1])\n",
    "\n",
    "# # Profile 1: (0, 0, 1)\n",
    "# sigma_1 = np.array([[1, 1]])\n",
    "# mu_1 = np.array([1])\n",
    "# var_1 = np.array([1])\n",
    "\n",
    "# # Profile 2: (0, 1, 0)\n",
    "# sigma_2 = np.array([[1, 0]])\n",
    "# mu_2 = np.array([0.5, 3.8])\n",
    "# var_2 = np.array([1, 1])\n",
    "\n",
    "# # Profile 3: (0, 1, 1)\n",
    "# sigma_3 = np.array([[1, 1],\n",
    "#                     [1, 1]])\n",
    "# mu_3 = np.array([1.5])\n",
    "# var_3 = np.array([1])\n",
    "\n",
    "# # Profile 4: (1, 0, 0)\n",
    "# sigma_4 = np.array([[1, 1]])\n",
    "# mu_4 = np.array([1])\n",
    "# var_4 = np.array([1])\n",
    "\n",
    "# # Profile 5: (1, 0, 1)\n",
    "# sigma_5 = np.array([[0, 1],\n",
    "#                     [1, 1]])\n",
    "# mu_5 = np.array([2, 3])\n",
    "# var_5 = np.array([1, 1])\n",
    "\n",
    "# # Profile 6: (1, 1, 0)\n",
    "# sigma_6 = np.array([[1, 1],\n",
    "#                     [1, 1]])\n",
    "# mu_6 = np.array([2.5])\n",
    "# var_6 = np.array([1])\n",
    "\n",
    "# # Profile 1: (1, 1, 1)\n",
    "# sigma_7 = np.array([[1, 1],\n",
    "#                     [1, 1],\n",
    "#                     [1, 0]])\n",
    "# mu_7 = np.array([3, 4])\n",
    "# var_7 = np.array([1, 1])\n",
    "\n",
    "# sigma = [sigma_0, sigma_1, sigma_2, sigma_3, sigma_4, sigma_5, sigma_6, sigma_7]\n",
    "# mu = [mu_0, mu_1, mu_2, mu_3, mu_4, mu_5, mu_6, mu_7]\n",
    "# var = [var_0, var_1, var_2, var_3, var_4, var_5, var_6, var_7]\n"
   ]
  },
  {
   "cell_type": "code",
   "execution_count": 687,
   "id": "7506afbd-bf05-4f34-9f35-c6d3bdfe11a7",
   "metadata": {},
   "outputs": [],
   "source": [
    "# M = 4\n",
    "# R = np.array([2, 5, 5, 5])\n",
    "\n",
    "\n",
    "# # (0, 1, 1, 1)\n",
    "# sigma_0 = np.array([[1, 1, 1],\n",
    "#                     [1, 1, 1],\n",
    "#                     [1, 1, 1]\n",
    "#                    ])\n",
    "# mu_0 = np.array([0])\n",
    "# var_0 = np.array([0])\n",
    "\n",
    "# # (1, 1, 1)\n",
    "# sigma_1 = np.array([[np.inf, np.inf, np.inf],\n",
    "#                     [1, 1, 1],\n",
    "#                     [1, 0, 1],\n",
    "#                     [1, 0, 0],\n",
    "#                    ])\n",
    "# mu_1 = np.array([2, 4, 7, 5, 6, 3])\n",
    "# var_1 = np.array([1, 1, 1, 1, 1, 1]) * 0.5\n",
    "\n",
    "\n",
    "# interested_profiles = [(0, 1, 1, 1), (1, 1, 1, 1)]\n",
    "\n",
    "# sigma_tmp = [sigma_0, sigma_1]\n",
    "# mu_tmp = [mu_0, mu_1]\n",
    "# var_tmp = [var_0, var_1]\n",
    "\n",
    "M = 3\n",
    "R = np.array([4, 5, 5])\n",
    "\n",
    "\n",
    "# (0, 1, 1, 1)\n",
    "sigma_0 = np.array([[1, 1, 1],\n",
    "                    [1, 1, 1]\n",
    "                   ])\n",
    "mu_0 = np.array([0])\n",
    "var_0 = np.array([0])\n",
    "\n",
    "# (1, 1, 1)\n",
    "sigma_1 = np.array([[0, 0, np.inf],\n",
    "                    [1, 0, 1],\n",
    "                    [1, 1, 0],\n",
    "                   ])\n",
    "mu_1 = np.array([2, 4, 2, 0, 3, 5, 7, 1, 1, -1, -1, -2])\n",
    "var_1 = np.array([1, 1, 1, 1, 1, 1, 1, 1, 1, 1, 1, 1]) * 0.5\n",
    "\n",
    "\n",
    "interested_profiles = [(0, 1, 1), (1, 1, 1)]\n",
    "\n",
    "sigma_tmp = [sigma_0, sigma_1]\n",
    "mu_tmp = [mu_0, mu_1]\n",
    "var_tmp = [var_0, var_1]"
   ]
  },
  {
   "cell_type": "code",
   "execution_count": 688,
   "id": "77f419b2-b595-462e-a53a-8c5caba75fa6",
   "metadata": {},
   "outputs": [],
   "source": [
    "num_profiles = 2**M\n",
    "profiles, profile_map = tva.enumerate_profiles(M)\n",
    "all_policies = tva.enumerate_policies(M, R)\n",
    "num_policies = len(all_policies)\n",
    "\n",
    "interested_profile_idx = []\n",
    "sigma = []\n",
    "mu = []\n",
    "var = []\n",
    "for k, profile in enumerate(profiles):\n",
    "    sigma_k = None\n",
    "    mu_k = np.nan\n",
    "    var_k =  np.nan\n",
    "    for i, p in enumerate(interested_profiles):\n",
    "        if p == profile:\n",
    "            sigma_k = sigma_tmp[i]\n",
    "            mu_k = mu_tmp[i]\n",
    "            var_k = var_tmp[i]\n",
    "            break\n",
    "    sigma.append(sigma_k)\n",
    "    mu.append(mu_k)\n",
    "    var.append(var_k)"
   ]
  },
  {
   "cell_type": "code",
   "execution_count": 689,
   "id": "6bec8cf2-2221-4879-810b-acfe4a4396a8",
   "metadata": {},
   "outputs": [],
   "source": [
    "# Identify the pools\n",
    "policies_profiles = {}\n",
    "policies_profiles_masked = {}\n",
    "policies_ids_profiles = {}\n",
    "pi_policies = {}\n",
    "pi_pools = {}\n",
    "for k, profile in enumerate(profiles):\n",
    "\n",
    "    policies_temp = [(i, x) for i, x in enumerate(all_policies) if tva.policy_to_profile(x) == profile]\n",
    "    unzipped_temp = list(zip(*policies_temp))\n",
    "    policies_ids_k = list(unzipped_temp[0])\n",
    "    policies_k = list(unzipped_temp[1])\n",
    "    policies_profiles[k] = deepcopy(policies_k)\n",
    "    policies_ids_profiles[k] = policies_ids_k\n",
    "\n",
    "    profile_mask = list(map(bool, profile))\n",
    "\n",
    "    # Mask the empty arms\n",
    "    for idx, pol in enumerate(policies_k):\n",
    "        policies_k[idx] = tuple([pol[i] for i in range(M) if profile_mask[i]])\n",
    "    policies_profiles_masked[k] = policies_k\n",
    "\n",
    "\n",
    "    # profile_idx = None\n",
    "    # for idx, p in enumerate(interested_profiles):\n",
    "    #     if p == profile:\n",
    "    #         profile_idx = idx\n",
    "    # if profile_idx is None:\n",
    "    #     pi_policies[k] = None\n",
    "    #     pi_pools[k] = None\n",
    "    #     continue\n",
    "    if sigma[k] is None:\n",
    "        pi_policies[k] = None\n",
    "        pi_pools[k] = None\n",
    "        continue\n",
    "\n",
    "    if np.sum(profile) > 0:\n",
    "        pi_pools_k, pi_policies_k = extract_pools.extract_pools(policies_k, sigma[k])\n",
    "        if len(pi_pools_k.keys()) != mu[k].shape[0]:\n",
    "            print(pi_pools_k)\n",
    "            print(f\"Profile {k}. Expected {len(pi_pools_k.keys())} pools. Received {mu[k].shape[0]} means.\")\n",
    "        pi_policies[k] = pi_policies_k\n",
    "        # pi_pools_k has indicies that match with policies_profiles[k]\n",
    "        # Need to map those indices back to all_policies\n",
    "        pi_pools[k] = {}\n",
    "        for x, y in pi_pools_k.items():\n",
    "            y_full = [policies_profiles[k][i] for i in y]\n",
    "            y_agg = [all_policies.index(i) for i in y_full]\n",
    "            pi_pools[k][x] = y_agg\n",
    "    else:\n",
    "        pi_policies[k] = {0: 0}\n",
    "        pi_pools[k] = {0: [0]}\n",
    "\n",
    "best_per_profile = [np.max(mu_k) for mu_k in mu]\n",
    "true_best_profile = np.nanargmax(best_per_profile)\n",
    "true_best_profile_idx = int(true_best_profile)\n",
    "true_best_effect = np.max(mu[true_best_profile])\n",
    "true_best = pi_pools[true_best_profile][np.argmax(mu[true_best_profile])]\n",
    "min_dosage_best_policy = metrics.find_min_dosage(true_best, all_policies)\n",
    "\n",
    "# The transformation matrix for Lasso\n",
    "G = tva.alpha_matrix(all_policies)"
   ]
  },
  {
   "cell_type": "code",
   "execution_count": 690,
   "id": "41e84d58-f431-40bf-a470-9cb12c0d52ff",
   "metadata": {},
   "outputs": [],
   "source": [
    "# X_test = np.array(all_policies)\n",
    "# # mu_true = \n",
    "# print(X_test)"
   ]
  },
  {
   "cell_type": "code",
   "execution_count": 691,
   "id": "d67efabc-5d96-42e3-a2c0-ceae957d45e9",
   "metadata": {},
   "outputs": [
    {
     "name": "stdout",
     "output_type": "stream",
     "text": [
      "0\n",
      "[(1, 1, 1), (1, 1, 2), (1, 1, 3), (1, 2, 1), (1, 2, 2), (1, 2, 3)]\n",
      "1\n",
      "[(1, 1, 4), (1, 2, 4)]\n",
      "2\n",
      "[(1, 3, 1), (1, 3, 2), (1, 3, 3), (1, 4, 1), (1, 4, 2), (1, 4, 3)]\n",
      "3\n",
      "[(1, 3, 4), (1, 4, 4)]\n",
      "4\n",
      "[(2, 1, 1), (2, 1, 2), (2, 1, 3), (2, 2, 1), (2, 2, 2), (2, 2, 3)]\n",
      "5\n",
      "[(2, 1, 4), (2, 2, 4)]\n",
      "6\n",
      "[(2, 3, 1), (2, 3, 2), (2, 3, 3), (2, 4, 1), (2, 4, 2), (2, 4, 3)]\n",
      "7\n",
      "[(2, 3, 4), (2, 4, 4)]\n",
      "8\n",
      "[(3, 1, 1), (3, 1, 2), (3, 1, 3), (3, 2, 1), (3, 2, 2), (3, 2, 3)]\n",
      "9\n",
      "[(3, 1, 4), (3, 2, 4)]\n",
      "10\n",
      "[(3, 3, 1), (3, 3, 2), (3, 3, 3), (3, 4, 1), (3, 4, 2), (3, 4, 3)]\n",
      "11\n",
      "[(3, 3, 4), (3, 4, 4)]\n"
     ]
    }
   ],
   "source": [
    "for pi, l in pi_pools[7].items():\n",
    "    print(pi)\n",
    "    print([all_policies[x] for x in l])"
   ]
  },
  {
   "cell_type": "code",
   "execution_count": null,
   "id": "8867d5c2-5463-40b4-9557-d3327401901d",
   "metadata": {},
   "outputs": [],
   "source": []
  },
  {
   "cell_type": "markdown",
   "id": "7e201a3c-6a6a-458f-b9af-e4edb345f706",
   "metadata": {},
   "source": [
    "## Generate data"
   ]
  },
  {
   "cell_type": "code",
   "execution_count": null,
   "id": "0ba758a9-2544-4b07-b853-fec8c9795681",
   "metadata": {},
   "outputs": [],
   "source": []
  },
  {
   "cell_type": "code",
   "execution_count": 692,
   "id": "0d6042b2-2d1a-4d08-ab6f-527bcc9f290a",
   "metadata": {},
   "outputs": [],
   "source": [
    "np.random.seed(3)\n",
    "\n",
    "n_per_pol = 10\n",
    "\n",
    "# Generate data\n",
    "X, D, y, mu_true = generate_data(mu, var, n_per_pol, all_policies, pi_policies, M)\n",
    "policy_means = loss.compute_policy_means(D, y, num_policies)\n",
    "# The dummy matrix for Lasso\n",
    "D_matrix = tva.get_dummy_matrix(D, G, num_policies)\n",
    "\n",
    "trt_idx = 0\n",
    "feature_idx = list(np.arange(0, trt_idx)) + list(np.arange(trt_idx+1, M))\n",
    "\n",
    "T = np.zeros(shape=y.shape)\n",
    "T[X[:, trt_idx] > 0] = 1\n",
    "\n",
    "y_0d = y.reshape((-1,))\n",
    "X_cf = X[:, feature_idx]\n",
    "\n",
    "X_trt_subset = X[X[:, trt_idx] > 0, :]\n",
    "X_trt_subset = X_trt_subset[:, feature_idx]\n",
    "y_trt_subset = y[X[:, trt_idx] > 0]"
   ]
  },
  {
   "cell_type": "code",
   "execution_count": null,
   "id": "c1f17aa3-5cfa-4bec-8091-167c8960dbc0",
   "metadata": {},
   "outputs": [],
   "source": []
  },
  {
   "cell_type": "code",
   "execution_count": null,
   "id": "ad56941d-1c9f-47dd-a846-30e056689adc",
   "metadata": {},
   "outputs": [],
   "source": []
  },
  {
   "cell_type": "markdown",
   "id": "48af61e0-8b18-40a2-8e3b-2ef0e91a392d",
   "metadata": {},
   "source": [
    "# Estimation\n",
    "\n",
    "## Causal Forests"
   ]
  },
  {
   "cell_type": "code",
   "execution_count": 659,
   "id": "4c5359e0-28a4-4dc6-9d78-2927add5f198",
   "metadata": {},
   "outputs": [
    {
     "data": {
      "text/html": [
       "<style>#sk-container-id-65 {color: black;}#sk-container-id-65 pre{padding: 0;}#sk-container-id-65 div.sk-toggleable {background-color: white;}#sk-container-id-65 label.sk-toggleable__label {cursor: pointer;display: block;width: 100%;margin-bottom: 0;padding: 0.3em;box-sizing: border-box;text-align: center;}#sk-container-id-65 label.sk-toggleable__label-arrow:before {content: \"▸\";float: left;margin-right: 0.25em;color: #696969;}#sk-container-id-65 label.sk-toggleable__label-arrow:hover:before {color: black;}#sk-container-id-65 div.sk-estimator:hover label.sk-toggleable__label-arrow:before {color: black;}#sk-container-id-65 div.sk-toggleable__content {max-height: 0;max-width: 0;overflow: hidden;text-align: left;background-color: #f0f8ff;}#sk-container-id-65 div.sk-toggleable__content pre {margin: 0.2em;color: black;border-radius: 0.25em;background-color: #f0f8ff;}#sk-container-id-65 input.sk-toggleable__control:checked~div.sk-toggleable__content {max-height: 200px;max-width: 100%;overflow: auto;}#sk-container-id-65 input.sk-toggleable__control:checked~label.sk-toggleable__label-arrow:before {content: \"▾\";}#sk-container-id-65 div.sk-estimator input.sk-toggleable__control:checked~label.sk-toggleable__label {background-color: #d4ebff;}#sk-container-id-65 div.sk-label input.sk-toggleable__control:checked~label.sk-toggleable__label {background-color: #d4ebff;}#sk-container-id-65 input.sk-hidden--visually {border: 0;clip: rect(1px 1px 1px 1px);clip: rect(1px, 1px, 1px, 1px);height: 1px;margin: -1px;overflow: hidden;padding: 0;position: absolute;width: 1px;}#sk-container-id-65 div.sk-estimator {font-family: monospace;background-color: #f0f8ff;border: 1px dotted black;border-radius: 0.25em;box-sizing: border-box;margin-bottom: 0.5em;}#sk-container-id-65 div.sk-estimator:hover {background-color: #d4ebff;}#sk-container-id-65 div.sk-parallel-item::after {content: \"\";width: 100%;border-bottom: 1px solid gray;flex-grow: 1;}#sk-container-id-65 div.sk-label:hover label.sk-toggleable__label {background-color: #d4ebff;}#sk-container-id-65 div.sk-serial::before {content: \"\";position: absolute;border-left: 1px solid gray;box-sizing: border-box;top: 0;bottom: 0;left: 50%;z-index: 0;}#sk-container-id-65 div.sk-serial {display: flex;flex-direction: column;align-items: center;background-color: white;padding-right: 0.2em;padding-left: 0.2em;position: relative;}#sk-container-id-65 div.sk-item {position: relative;z-index: 1;}#sk-container-id-65 div.sk-parallel {display: flex;align-items: stretch;justify-content: center;background-color: white;position: relative;}#sk-container-id-65 div.sk-item::before, #sk-container-id-65 div.sk-parallel-item::before {content: \"\";position: absolute;border-left: 1px solid gray;box-sizing: border-box;top: 0;bottom: 0;left: 50%;z-index: -1;}#sk-container-id-65 div.sk-parallel-item {display: flex;flex-direction: column;z-index: 1;position: relative;background-color: white;}#sk-container-id-65 div.sk-parallel-item:first-child::after {align-self: flex-end;width: 50%;}#sk-container-id-65 div.sk-parallel-item:last-child::after {align-self: flex-start;width: 50%;}#sk-container-id-65 div.sk-parallel-item:only-child::after {width: 0;}#sk-container-id-65 div.sk-dashed-wrapped {border: 1px dashed gray;margin: 0 0.4em 0.5em 0.4em;box-sizing: border-box;padding-bottom: 0.4em;background-color: white;}#sk-container-id-65 div.sk-label label {font-family: monospace;font-weight: bold;display: inline-block;line-height: 1.2em;}#sk-container-id-65 div.sk-label-container {text-align: center;}#sk-container-id-65 div.sk-container {/* jupyter's `normalize.less` sets `[hidden] { display: none; }` but bootstrap.min.css set `[hidden] { display: none !important; }` so we also need the `!important` here to be able to override the default hidden behavior on the sphinx rendered scikit-learn.org. See: https://github.com/scikit-learn/scikit-learn/issues/21755 */display: inline-block !important;position: relative;}#sk-container-id-65 div.sk-text-repr-fallback {display: none;}</style><div id=\"sk-container-id-65\" class=\"sk-top-container\"><div class=\"sk-text-repr-fallback\"><pre>CausalForest(criterion=&#x27;het&#x27;, min_samples_leaf=1, min_samples_split=2,\n",
       "             random_state=3)</pre><b>In a Jupyter environment, please rerun this cell to show the HTML representation or trust the notebook. <br />On GitHub, the HTML representation is unable to render, please try loading this page with nbviewer.org.</b></div><div class=\"sk-container\" hidden><div class=\"sk-item\"><div class=\"sk-estimator sk-toggleable\"><input class=\"sk-toggleable__control sk-hidden--visually\" id=\"sk-estimator-id-65\" type=\"checkbox\" checked><label for=\"sk-estimator-id-65\" class=\"sk-toggleable__label sk-toggleable__label-arrow\">CausalForest</label><div class=\"sk-toggleable__content\"><pre>CausalForest(criterion=&#x27;het&#x27;, min_samples_leaf=1, min_samples_split=2,\n",
       "             random_state=3)</pre></div></div></div></div></div>"
      ],
      "text/plain": [
       "CausalForest(criterion='het', min_samples_leaf=1, min_samples_split=2,\n",
       "             random_state=3)"
      ]
     },
     "execution_count": 659,
     "metadata": {},
     "output_type": "execute_result"
    }
   ],
   "source": [
    "# https://econml.azurewebsites.net/_autosummary/econml.grf.CausalForest.html?highlight=causalforest#econml.grf.CausalForest\n",
    "est = CausalForest(criterion=\"het\", n_estimators=100,\n",
    "                   min_samples_leaf=1,\n",
    "                   # max_depth=None,\n",
    "                   min_samples_split=2,\n",
    "                   random_state=3,\n",
    "                  )\n",
    "\n",
    "# est.fit(X_cf, X[:, trt_idx], y_0d)\n",
    "est.fit(X_cf, T, y_0d)\n",
    "# est.fit(X, 1 + np.zeros(T.shape), y_0d)"
   ]
  },
  {
   "cell_type": "code",
   "execution_count": 660,
   "id": "f99b5fff-f7b3-4350-81dd-0a165aa5d4b0",
   "metadata": {},
   "outputs": [
    {
     "name": "stdout",
     "output_type": "stream",
     "text": [
      "6.154140656555251\n"
     ]
    }
   ],
   "source": [
    "treatment_effects = est.predict(X_trt_subset)\n",
    "# treatment_effects = est.predict(X)\n",
    "\n",
    "# # Confidence intervals via Bootstrap-of-Little-Bags for forests\n",
    "# lb, ub = est.effect_interval(X, alpha=0.05)\n",
    "\n",
    "mse_cf = mean_squared_error(y_trt_subset, treatment_effects)\n",
    "print(mse_cf)"
   ]
  },
  {
   "cell_type": "code",
   "execution_count": null,
   "id": "ab0c66e6-c28f-4613-aa25-c7c490f77f41",
   "metadata": {},
   "outputs": [],
   "source": []
  },
  {
   "cell_type": "code",
   "execution_count": null,
   "id": "602dcb89-dbe6-4588-b514-243211892fef",
   "metadata": {},
   "outputs": [],
   "source": []
  },
  {
   "cell_type": "markdown",
   "id": "159eabcc-5998-410b-babf-2cae24cae66a",
   "metadata": {},
   "source": [
    "## Rashomon Sets"
   ]
  },
  {
   "cell_type": "code",
   "execution_count": 700,
   "id": "f0f44aea-24f0-4c77-b859-8ed93bff474a",
   "metadata": {},
   "outputs": [
    {
     "name": "stdout",
     "output_type": "stream",
     "text": [
      "Skipping profile (0, 0, 0)\n",
      "Skipping profile (0, 0, 1)\n",
      "Skipping profile (0, 1, 0)\n",
      "Skipping profile (0, 1, 1)\n",
      "Skipping profile (1, 0, 0)\n",
      "Skipping profile (1, 0, 1)\n",
      "Skipping profile (1, 1, 0)\n",
      "(1, 1, 1) 3.0\n",
      "19\n",
      "Finding feasible combinations\n",
      "Min = 1.45583823999576, Max = 2.949775889953773\n",
      "19\n"
     ]
    }
   ],
   "source": [
    "H = np.inf\n",
    "theta = 3\n",
    "reg = 1e-1\n",
    "\n",
    "D_trt_subset = D[X[:, trt_idx] > 0]\n",
    "\n",
    "# R_set, rashomon_profiles = RAggregate(M, R, H, D, y, theta, reg,\n",
    "#                                      verbose=True,\n",
    "#                                      )\n",
    "R_set, rashomon_profiles = RAggregate(M, R, H, D_trt_subset, y_trt_subset, theta, reg,\n",
    "                                     verbose=True,\n",
    "                                     )\n",
    "\n",
    "print(len(R_set))"
   ]
  },
  {
   "cell_type": "code",
   "execution_count": null,
   "id": "7b6fa2e6-9737-4cea-83bd-df1651bf476b",
   "metadata": {},
   "outputs": [],
   "source": []
  },
  {
   "cell_type": "code",
   "execution_count": 701,
   "id": "b3fe67ed-7dec-428d-85b0-44909dfb7949",
   "metadata": {},
   "outputs": [],
   "source": [
    "\n",
    "sim_i = 0\n",
    "current_results = []\n",
    "best_loss = np.inf\n",
    "\n",
    "for idx, r_set in enumerate(R_set):\n",
    "    # print(idx)\n",
    "\n",
    "    # MSE\n",
    "    pi_policies_profiles_r = {}\n",
    "    for k, profile in enumerate(profiles):\n",
    "        if rashomon_profiles[k].sigma[0] is None:\n",
    "            pi_policies_profiles_r[k] = { idx: 0 for idx in range(len(policies_profiles_masked[k])) }\n",
    "            continue\n",
    "        _, pi_policies_r_k = extract_pools.extract_pools(\n",
    "            policies_profiles_masked[k],\n",
    "            rashomon_profiles[k].sigma[r_set[k]]\n",
    "        )\n",
    "        pi_policies_profiles_r[k] = pi_policies_r_k\n",
    "\n",
    "    pi_pools_r, pi_policies_r = extract_pools.aggregate_pools(\n",
    "        pi_policies_profiles_r, policies_ids_profiles)\n",
    "    pool_means_r = loss.compute_pool_means(policy_means, pi_pools_r)\n",
    "    y_r_est = metrics.make_predictions(D, pi_policies_r, pool_means_r)\n",
    "\n",
    "    r_set_results = metrics.compute_all_metrics(\n",
    "        y, y_r_est, D, true_best, all_policies, profile_map,\n",
    "        min_dosage_best_policy, true_best_effect)\n",
    "    sqrd_err = r_set_results[\"sqrd_err\"]\n",
    "    iou_r = r_set_results[\"iou\"]\n",
    "    best_profile_indicator = r_set_results[\"best_prof\"]\n",
    "    min_dosage_present = r_set_results[\"min_dos_inc\"]\n",
    "    best_pol_diff = r_set_results[\"best_pol_diff\"]\n",
    "    this_loss = sqrd_err + reg * len(pi_pools_r)\n",
    "\n",
    "    this_list = [\n",
    "        n_per_pol, sim_i, len(pi_pools_r), sqrd_err, iou_r, min_dosage_present, best_pol_diff\n",
    "        ]\n",
    "    this_list += best_profile_indicator\n",
    "    current_results.append(this_list)\n",
    "\n",
    "    if this_loss < best_loss:\n",
    "        best_loss = this_loss\n",
    "\n",
    "    if best_profile_indicator[true_best_profile_idx] == 1:\n",
    "        found_best_profile = True\n",
    "        # print(\"Found\", this_loss)\n"
   ]
  },
  {
   "cell_type": "code",
   "execution_count": 702,
   "id": "27f6c3c0-3d85-44dc-94a0-faa5cb85c834",
   "metadata": {},
   "outputs": [
    {
     "data": {
      "text/html": [
       "<div>\n",
       "<style scoped>\n",
       "    .dataframe tbody tr th:only-of-type {\n",
       "        vertical-align: middle;\n",
       "    }\n",
       "\n",
       "    .dataframe tbody tr th {\n",
       "        vertical-align: top;\n",
       "    }\n",
       "\n",
       "    .dataframe thead th {\n",
       "        text-align: right;\n",
       "    }\n",
       "</style>\n",
       "<table border=\"1\" class=\"dataframe\">\n",
       "  <thead>\n",
       "    <tr style=\"text-align: right;\">\n",
       "      <th></th>\n",
       "      <th>n_per_pol</th>\n",
       "      <th>sim_num</th>\n",
       "      <th>num_pools</th>\n",
       "      <th>MSE</th>\n",
       "      <th>IOU</th>\n",
       "      <th>min_dosage</th>\n",
       "      <th>best_pol_diff</th>\n",
       "      <th>(0, 0, 0)</th>\n",
       "      <th>(0, 0, 1)</th>\n",
       "      <th>(0, 1, 0)</th>\n",
       "      <th>(0, 1, 1)</th>\n",
       "      <th>(1, 0, 0)</th>\n",
       "      <th>(1, 0, 1)</th>\n",
       "      <th>(1, 1, 0)</th>\n",
       "      <th>(1, 1, 1)</th>\n",
       "    </tr>\n",
       "  </thead>\n",
       "  <tbody>\n",
       "    <tr>\n",
       "      <th>0</th>\n",
       "      <td>10</td>\n",
       "      <td>0</td>\n",
       "      <td>19</td>\n",
       "      <td>0.191879</td>\n",
       "      <td>1.000000</td>\n",
       "      <td>True</td>\n",
       "      <td>-0.066742</td>\n",
       "      <td>0</td>\n",
       "      <td>0</td>\n",
       "      <td>0</td>\n",
       "      <td>0</td>\n",
       "      <td>0</td>\n",
       "      <td>0</td>\n",
       "      <td>0</td>\n",
       "      <td>1</td>\n",
       "    </tr>\n",
       "    <tr>\n",
       "      <th>1</th>\n",
       "      <td>10</td>\n",
       "      <td>0</td>\n",
       "      <td>25</td>\n",
       "      <td>0.185543</td>\n",
       "      <td>0.333333</td>\n",
       "      <td>True</td>\n",
       "      <td>-0.197339</td>\n",
       "      <td>0</td>\n",
       "      <td>0</td>\n",
       "      <td>0</td>\n",
       "      <td>0</td>\n",
       "      <td>0</td>\n",
       "      <td>0</td>\n",
       "      <td>0</td>\n",
       "      <td>1</td>\n",
       "    </tr>\n",
       "    <tr>\n",
       "      <th>2</th>\n",
       "      <td>10</td>\n",
       "      <td>0</td>\n",
       "      <td>25</td>\n",
       "      <td>0.188832</td>\n",
       "      <td>0.500000</td>\n",
       "      <td>False</td>\n",
       "      <td>-0.070208</td>\n",
       "      <td>0</td>\n",
       "      <td>0</td>\n",
       "      <td>0</td>\n",
       "      <td>0</td>\n",
       "      <td>0</td>\n",
       "      <td>0</td>\n",
       "      <td>0</td>\n",
       "      <td>1</td>\n",
       "    </tr>\n",
       "    <tr>\n",
       "      <th>3</th>\n",
       "      <td>10</td>\n",
       "      <td>0</td>\n",
       "      <td>25</td>\n",
       "      <td>0.189264</td>\n",
       "      <td>0.666667</td>\n",
       "      <td>True</td>\n",
       "      <td>-0.116146</td>\n",
       "      <td>0</td>\n",
       "      <td>0</td>\n",
       "      <td>0</td>\n",
       "      <td>0</td>\n",
       "      <td>0</td>\n",
       "      <td>0</td>\n",
       "      <td>0</td>\n",
       "      <td>1</td>\n",
       "    </tr>\n",
       "    <tr>\n",
       "      <th>4</th>\n",
       "      <td>10</td>\n",
       "      <td>0</td>\n",
       "      <td>25</td>\n",
       "      <td>0.190600</td>\n",
       "      <td>1.000000</td>\n",
       "      <td>True</td>\n",
       "      <td>-0.066742</td>\n",
       "      <td>0</td>\n",
       "      <td>0</td>\n",
       "      <td>0</td>\n",
       "      <td>0</td>\n",
       "      <td>0</td>\n",
       "      <td>0</td>\n",
       "      <td>0</td>\n",
       "      <td>1</td>\n",
       "    </tr>\n",
       "  </tbody>\n",
       "</table>\n",
       "</div>"
      ],
      "text/plain": [
       "   n_per_pol  sim_num  num_pools       MSE       IOU  min_dosage  \\\n",
       "0         10        0         19  0.191879  1.000000        True   \n",
       "1         10        0         25  0.185543  0.333333        True   \n",
       "2         10        0         25  0.188832  0.500000       False   \n",
       "3         10        0         25  0.189264  0.666667        True   \n",
       "4         10        0         25  0.190600  1.000000        True   \n",
       "\n",
       "   best_pol_diff  (0, 0, 0)  (0, 0, 1)  (0, 1, 0)  (0, 1, 1)  (1, 0, 0)  \\\n",
       "0      -0.066742          0          0          0          0          0   \n",
       "1      -0.197339          0          0          0          0          0   \n",
       "2      -0.070208          0          0          0          0          0   \n",
       "3      -0.116146          0          0          0          0          0   \n",
       "4      -0.066742          0          0          0          0          0   \n",
       "\n",
       "   (1, 0, 1)  (1, 1, 0)  (1, 1, 1)  \n",
       "0          0          0          1  \n",
       "1          0          0          1  \n",
       "2          0          0          1  \n",
       "3          0          0          1  \n",
       "4          0          0          1  "
      ]
     },
     "execution_count": 702,
     "metadata": {},
     "output_type": "execute_result"
    }
   ],
   "source": [
    "profiles_str = [str(prof) for prof in profiles]\n",
    "rashomon_cols = [\"n_per_pol\", \"sim_num\", \"num_pools\", \"MSE\", \"IOU\", \"min_dosage\", \"best_pol_diff\"]\n",
    "rashomon_cols += profiles_str\n",
    "\n",
    "\n",
    "rashomon_df = pd.DataFrame(current_results, columns=rashomon_cols)\n",
    "\n",
    "rashomon_df.head()"
   ]
  },
  {
   "cell_type": "code",
   "execution_count": 706,
   "id": "08790022-11fa-40f2-9b5f-407cecd3ded0",
   "metadata": {},
   "outputs": [
    {
     "name": "stdout",
     "output_type": "stream",
     "text": [
      "0.18656310666609696\n",
      "0.14061405154459897\n"
     ]
    }
   ],
   "source": [
    "print(np.mean(np.sort(rashomon_df[\"MSE\"])[:10]))\n",
    "print(np.mean(np.abs(rashomon_df[\"best_pol_diff\"][np.argsort(rashomon_df[\"MSE\"])[:10]])))"
   ]
  },
  {
   "cell_type": "code",
   "execution_count": 707,
   "id": "982b36c6-4864-4b31-9623-1eefc75a6c56",
   "metadata": {},
   "outputs": [
    {
     "data": {
      "text/plain": [
       "0.4833333333333333"
      ]
     },
     "execution_count": 707,
     "metadata": {},
     "output_type": "execute_result"
    }
   ],
   "source": [
    "np.mean(rashomon_df[\"IOU\"][np.argsort(rashomon_df[\"MSE\"])[:10]])"
   ]
  },
  {
   "cell_type": "code",
   "execution_count": 705,
   "id": "9775fd27-0b91-4f9d-a170-733213933b2d",
   "metadata": {},
   "outputs": [
    {
     "data": {
      "text/plain": [
       "array([0.18237378, 0.18422633, 0.18460465, 0.18530249, 0.18554316,\n",
       "       0.18733192, 0.18755283, 0.18883166, 0.18926439, 0.19059985,\n",
       "       0.19187868, 1.06386441, 1.17028271, 1.20938456, 1.40779118,\n",
       "       1.52148987, 1.52233352, 1.52343086, 1.69558726])"
      ]
     },
     "execution_count": 705,
     "metadata": {},
     "output_type": "execute_result"
    }
   ],
   "source": [
    "np.sort(rashomon_df[\"MSE\"])\n",
    "# np.sort(rashomon_df[\"num_pools\"])"
   ]
  },
  {
   "cell_type": "code",
   "execution_count": null,
   "id": "a091dae4-b30e-448d-b718-f8675a7d43d5",
   "metadata": {},
   "outputs": [],
   "source": []
  },
  {
   "cell_type": "code",
   "execution_count": null,
   "id": "60aea13a-c7cd-4359-867b-95777c7301e3",
   "metadata": {},
   "outputs": [],
   "source": []
  },
  {
   "cell_type": "markdown",
   "id": "c714815f-62da-42f9-8ed5-26e7225e160f",
   "metadata": {},
   "source": [
    "## Lasso"
   ]
  },
  {
   "cell_type": "code",
   "execution_count": 708,
   "id": "ab416e32-535d-40ac-bdf0-45521ce21ef3",
   "metadata": {},
   "outputs": [],
   "source": [
    "lasso_reg = 1e-4\n",
    "\n",
    "D_matrix_trt_subset = D_matrix[X[:, trt_idx] > 0, :]\n",
    "\n",
    "lasso = linear_model.Lasso(lasso_reg, fit_intercept=False)\n",
    "lasso.fit(D_matrix_trt_subset, y_trt_subset)\n",
    "# lasso.fit(X_trt_subset, y_trt_subset)\n",
    "alpha_est = lasso.coef_\n",
    "y_tva = lasso.predict(D_matrix_trt_subset)\n",
    "# y_tva = lasso.predict(X_trt_subset)\n",
    "\n",
    "tva_results = metrics.compute_all_metrics(\n",
    "                    y_trt_subset, y_tva,\n",
    "    D_trt_subset, true_best, all_policies, profile_map, min_dosage_best_policy, true_best_effect)"
   ]
  },
  {
   "cell_type": "code",
   "execution_count": 709,
   "id": "b8214421-9a79-4d6b-9ebe-d1f0e18ef751",
   "metadata": {},
   "outputs": [
    {
     "data": {
      "text/plain": [
       "{'sqrd_err': 0.23736787151505476,\n",
       " 'iou': 0.16666666666666666,\n",
       " 'best_prof': [0, 0, 0, 0, 0, 0, 0, 1],\n",
       " 'min_dos_inc': False,\n",
       " 'best_pol_diff': -0.2256052879437842}"
      ]
     },
     "execution_count": 709,
     "metadata": {},
     "output_type": "execute_result"
    }
   ],
   "source": [
    "tva_results"
   ]
  },
  {
   "cell_type": "code",
   "execution_count": 710,
   "id": "4e6a02e7-f62c-4826-a86c-546b4e9e2b72",
   "metadata": {},
   "outputs": [
    {
     "data": {
      "text/plain": [
       "array([ 0.00000000e+00,  0.00000000e+00,  0.00000000e+00,  0.00000000e+00,\n",
       "        0.00000000e+00,  0.00000000e+00,  0.00000000e+00,  0.00000000e+00,\n",
       "        0.00000000e+00,  0.00000000e+00,  0.00000000e+00,  0.00000000e+00,\n",
       "        0.00000000e+00,  0.00000000e+00,  0.00000000e+00,  0.00000000e+00,\n",
       "        0.00000000e+00,  0.00000000e+00,  0.00000000e+00,  0.00000000e+00,\n",
       "        0.00000000e+00,  0.00000000e+00,  0.00000000e+00,  0.00000000e+00,\n",
       "        0.00000000e+00,  0.00000000e+00,  0.00000000e+00,  0.00000000e+00,\n",
       "        0.00000000e+00,  0.00000000e+00,  0.00000000e+00,  1.98586101e+00,\n",
       "       -8.76214479e-02,  8.54608591e-03,  2.09409151e+00,  0.00000000e+00,\n",
       "        1.88079437e-01,  9.60707558e-02, -2.06486639e-01,  1.04578040e-01,\n",
       "        0.00000000e+00,  3.39876254e-01, -4.82343763e-01,  2.48682706e-01,\n",
       "       -4.21000036e+00,  0.00000000e+00, -2.19721895e-01,  5.44677724e-02,\n",
       "       -3.22780198e-02, -1.63821902e-01,  0.00000000e+00,  0.00000000e+00,\n",
       "        0.00000000e+00,  0.00000000e+00,  0.00000000e+00,  0.00000000e+00,\n",
       "        1.09390813e+00, -9.13564017e-02, -3.08427935e-02, -8.77859240e-02,\n",
       "        0.00000000e+00, -1.96602439e-01,  3.79059597e-02, -8.73617257e-02,\n",
       "        1.39276007e-01,  0.00000000e+00,  3.75804395e+00,  4.39286456e-01,\n",
       "       -8.35398552e-02, -3.89593195e+00,  0.00000000e+00,  2.76160845e-01,\n",
       "       -2.22370221e-01,  2.19400119e-01, -1.56858635e-01,  0.00000000e+00,\n",
       "        0.00000000e+00,  0.00000000e+00,  0.00000000e+00,  0.00000000e+00,\n",
       "        0.00000000e+00, -2.08298667e+00,  2.07596355e-01,  5.09193449e-02,\n",
       "       -4.22351922e+00,  0.00000000e+00, -1.94740420e-02,  7.81360038e-02,\n",
       "       -0.00000000e+00, -2.14971518e-01,  0.00000000e+00, -6.11155693e+00,\n",
       "       -1.29513289e-01,  2.75250124e-01,  9.23009139e+00,  0.00000000e+00,\n",
       "        8.14322124e-02,  3.26738854e-01, -6.18117654e-01,  2.46002046e-01])"
      ]
     },
     "execution_count": 710,
     "metadata": {},
     "output_type": "execute_result"
    }
   ],
   "source": [
    "alpha_est"
   ]
  },
  {
   "cell_type": "code",
   "execution_count": 594,
   "id": "9c79170d-1b71-4c4d-9913-8a7d692e4933",
   "metadata": {},
   "outputs": [],
   "source": [
    "D_mat_unique = np.unique(D_matrix_trt_subset, axis=0)\n",
    "\n",
    "y_est = np.matmul(D_mat_unique, alpha_est)"
   ]
  },
  {
   "cell_type": "code",
   "execution_count": 595,
   "id": "090db9b9-174a-437a-aa08-ade6fe7414d9",
   "metadata": {},
   "outputs": [
    {
     "data": {
      "text/plain": [
       "array([1.83855291, 3.14833802, 2.51883178, 1.9345703 , 3.2443554 ,\n",
       "       2.50910616, 6.25065221, 7.56043731, 1.88079881, 6.25065221,\n",
       "       7.56043731, 1.88079881, 1.83855291, 3.14833802, 2.51883178,\n",
       "       1.9345703 , 3.2443554 , 2.50910616, 6.25065221, 7.56043731,\n",
       "       1.88079881, 6.25065221, 7.56043731, 1.88079881, 1.83855291,\n",
       "       3.14833802, 2.51883178, 1.9345703 , 3.2443554 , 2.50910616,\n",
       "       6.25065221, 7.56043731, 1.88079881, 6.25065221, 7.56043731,\n",
       "       1.88079881, 2.57247274, 3.99024922, 3.36074298, 2.66849012,\n",
       "       4.0862666 , 3.35101736, 6.37398312, 7.7917596 , 2.1121211 ,\n",
       "       6.37398312, 7.7917596 , 2.1121211 ])"
      ]
     },
     "execution_count": 595,
     "metadata": {},
     "output_type": "execute_result"
    }
   ],
   "source": [
    "y_est"
   ]
  },
  {
   "cell_type": "code",
   "execution_count": 596,
   "id": "ef44d051-3460-4ff2-ad4e-af83fd6ad359",
   "metadata": {},
   "outputs": [
    {
     "data": {
      "text/plain": [
       "array([31, 32, 33, 34, 36, 37, 38, 39, 41, 42, 43, 44, 46, 47, 48, 49, 56,\n",
       "       57, 58, 59, 61, 62, 63, 64, 66, 67, 68, 69, 71, 72, 73, 74, 81, 82,\n",
       "       83, 84, 86, 87, 88, 89, 91, 92, 93, 94, 96, 97, 98, 99])"
      ]
     },
     "execution_count": 596,
     "metadata": {},
     "output_type": "execute_result"
    }
   ],
   "source": [
    "np.unique(D_trt_subset)"
   ]
  },
  {
   "cell_type": "code",
   "execution_count": null,
   "id": "23753296-6662-486d-a83d-44f0ed817f83",
   "metadata": {},
   "outputs": [],
   "source": []
  }
 ],
 "metadata": {
  "kernelspec": {
   "display_name": "Python (rashomon-tva)",
   "language": "python",
   "name": "rashomon-tva"
  },
  "language_info": {
   "codemirror_mode": {
    "name": "ipython",
    "version": 3
   },
   "file_extension": ".py",
   "mimetype": "text/x-python",
   "name": "python",
   "nbconvert_exporter": "python",
   "pygments_lexer": "ipython3",
   "version": "3.11.3"
  }
 },
 "nbformat": 4,
 "nbformat_minor": 5
}
