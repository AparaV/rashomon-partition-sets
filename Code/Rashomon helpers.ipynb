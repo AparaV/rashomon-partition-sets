{
 "cells": [
  {
   "cell_type": "code",
   "execution_count": 31,
   "id": "9a619547",
   "metadata": {},
   "outputs": [
    {
     "name": "stdout",
     "output_type": "stream",
     "text": [
      "The autoreload extension is already loaded. To reload it, use:\n",
      "  %reload_ext autoreload\n"
     ]
    }
   ],
   "source": [
    "import numpy as np\n",
    "import matplotlib.pyplot as plt\n",
    "\n",
    "from collections import deque\n",
    "\n",
    "from rashomon import loss\n",
    "from rashomon import count_pools\n",
    "from rashomon.cache import RashomonSubproblemCache\n",
    "from rashomon.tva import enumerate_policies\n",
    "from rashomon.extract_pools import extract_pools\n",
    "\n",
    "\n",
    "%load_ext autoreload\n",
    "%autoreload 2\n",
    "# %matplotlib inline"
   ]
  },
  {
   "cell_type": "markdown",
   "id": "610c2a0d",
   "metadata": {},
   "source": [
    "### Function to pool based on $\\Sigma$ matrix"
   ]
  },
  {
   "cell_type": "code",
   "execution_count": 4,
   "id": "384b5956",
   "metadata": {},
   "outputs": [
    {
     "name": "stdout",
     "output_type": "stream",
     "text": [
      "0 : [0, 4, 8]\n",
      "1 : [1, 2, 3, 5, 6, 7, 9, 10, 11]\n",
      "2 : [12]\n",
      "3 : [13, 14, 15]\n"
     ]
    }
   ],
   "source": [
    "sigma = np.array([[1, 1, 0],\n",
    "                  [0, 1, 1]], dtype='float64')\n",
    "\n",
    "M, n = sigma.shape\n",
    "R = n + 2\n",
    "\n",
    "num_policies = (R-1)**M\n",
    "policies = enumerate_policies(M, R)\n",
    "pi_pools, pi_policies = extract_pools(policies, sigma)\n",
    "\n",
    "for pool_id, pool in pi_pools.items():\n",
    "    print(pool_id, \":\", pool)"
   ]
  },
  {
   "cell_type": "code",
   "execution_count": null,
   "id": "855da8e8",
   "metadata": {},
   "outputs": [],
   "source": []
  },
  {
   "cell_type": "markdown",
   "id": "3751d3a0-9f2a-430b-88ec-a636c3f58f3d",
   "metadata": {},
   "source": [
    "### Generate data"
   ]
  },
  {
   "cell_type": "code",
   "execution_count": 5,
   "id": "314fe15c",
   "metadata": {},
   "outputs": [],
   "source": [
    "np.random.seed(3)\n",
    "\n",
    "num_pools = len(pi_pools)\n",
    "mu = np.random.uniform(0, 4, size=num_pools)\n",
    "var = [1] * num_pools\n",
    "\n",
    "n_per_pol = 10\n",
    "\n",
    "num_data = num_policies * n_per_pol\n",
    "X = np.ndarray(shape=(num_data, M))\n",
    "D = np.ndarray(shape=(num_data, 1), dtype='int_')\n",
    "y = np.ndarray(shape=(num_data, 1))\n",
    "\n",
    "for idx, policy in enumerate(policies):\n",
    "    pool_i = pi_policies[idx]\n",
    "    mu_i = mu[pool_i]\n",
    "    var_i = var[pool_i]\n",
    "    y_i = np.random.normal(mu_i, var_i, size=(n_per_pol, 1))\n",
    "\n",
    "    start_idx = idx * n_per_pol\n",
    "    end_idx = (idx + 1) * n_per_pol\n",
    "\n",
    "    X[start_idx:end_idx, ] = policy\n",
    "    D[start_idx:end_idx, ] = idx\n",
    "    y[start_idx:end_idx, ] = y_i\n",
    "    "
   ]
  },
  {
   "cell_type": "code",
   "execution_count": 6,
   "id": "a892aa68",
   "metadata": {},
   "outputs": [
    {
     "name": "stdout",
     "output_type": "stream",
     "text": [
      "4.895456436046057\n"
     ]
    }
   ],
   "source": [
    "# This function needs to called only once\n",
    "policy_means = loss.compute_policy_means(D, y, num_policies)\n",
    "\n",
    "# This function needs to be called every time the pools change\n",
    "mu_pools = loss.compute_pool_means(policy_means, pi_pools)\n",
    "\n",
    "# This function needs to be called every time the pools change\n",
    "Q = loss.compute_Q(D, y, sigma, policies, policy_means, 1)\n",
    "\n",
    "print(Q)"
   ]
  },
  {
   "cell_type": "code",
   "execution_count": 7,
   "id": "edc3aa82-8543-480c-80fd-b2214aab0e64",
   "metadata": {},
   "outputs": [
    {
     "name": "stdout",
     "output_type": "stream",
     "text": [
      "4.859163572719872\n"
     ]
    }
   ],
   "source": [
    "i = 0\n",
    "j = 0\n",
    "\n",
    "B = loss.compute_B(D, y, sigma, i, j, policies, policy_means, 1)\n",
    "print(B)"
   ]
  },
  {
   "cell_type": "code",
   "execution_count": null,
   "id": "c7935848-b31b-4bf3-9c95-216dc8f61436",
   "metadata": {},
   "outputs": [],
   "source": []
  },
  {
   "cell_type": "code",
   "execution_count": null,
   "id": "8d146a73-6cac-4435-9af5-3ef066f1797a",
   "metadata": {},
   "outputs": [],
   "source": []
  },
  {
   "cell_type": "markdown",
   "id": "45a870e7-e617-4cea-bac5-840916a46af0",
   "metadata": {},
   "source": [
    "### Caching object"
   ]
  },
  {
   "cell_type": "code",
   "execution_count": 8,
   "id": "6a4c0832-b790-47d5-a271-55efd75f0285",
   "metadata": {},
   "outputs": [
    {
     "name": "stdout",
     "output_type": "stream",
     "text": [
      "True\n",
      "False\n",
      "True\n"
     ]
    }
   ],
   "source": [
    "seen_sigma = RashomonCache(shape=sigma.shape)\n",
    "seen_sigma.insert(sigma, i, j)\n",
    "\n",
    "# Should be True\n",
    "print(seen_sigma.seen(sigma, i, j))\n",
    "\n",
    "# Should be False\n",
    "sigma2 = np.copy(sigma)\n",
    "sigma2[1, 1] = 1 - sigma2[1, 1]\n",
    "print(seen_sigma.seen(sigma2, i, j))\n",
    "\n",
    "# Should be True\n",
    "sigma3 = np.copy(sigma)\n",
    "sigma3[0, 2] = 1 - sigma3[0, 2]\n",
    "print(seen_sigma.seen(sigma3, i, j))\n",
    "\n"
   ]
  },
  {
   "cell_type": "code",
   "execution_count": null,
   "id": "3517d9e1-6542-44c8-aa21-535b7d3f2af3",
   "metadata": {},
   "outputs": [],
   "source": []
  },
  {
   "cell_type": "code",
   "execution_count": null,
   "id": "d59b5bbc-355d-43f9-9e8a-ff733a25ca9f",
   "metadata": {},
   "outputs": [],
   "source": []
  },
  {
   "cell_type": "markdown",
   "id": "39118580-cbb0-4419-b951-f5faf8a51739",
   "metadata": {},
   "source": [
    "### RAggregate"
   ]
  },
  {
   "cell_type": "code",
   "execution_count": 27,
   "id": "b154b6db-90d6-494d-9434-9b78ee9f1378",
   "metadata": {},
   "outputs": [],
   "source": [
    "class RashomonSet:\n",
    "    \"\"\"\n",
    "    Caching object to keep track of fixed sigma matrices\n",
    "    Some discussion on how to hash a numpy array\n",
    "    https://stackoverflow.com/questions/16589791/most-efficient-property-to-hash-for-numpy-array\n",
    "    \"\"\"\n",
    "\n",
    "    def __init__(self, shape: tuple[int, int]):\n",
    "        self.shape = shape\n",
    "        self.P_hash = set()\n",
    "        self.P_qe = []\n",
    "\n",
    "    def insert(self, sigma: np.ndarray) -> None:\n",
    "        if self.seen(sigma):\n",
    "            return\n",
    "        sigma_hash = self.__process__(sigma)\n",
    "        self.P_hash.add(sigma_hash)\n",
    "        self.P_qe.append(sigma)\n",
    "\n",
    "    def seen(self, sigma: np.ndarray) -> bool:\n",
    "        self.__verify_shape__(sigma)\n",
    "        sigma_hash = self.__process__(sigma)\n",
    "        return sigma_hash in self.P_hash\n",
    "\n",
    "    @property\n",
    "    def size(self):\n",
    "        return len(self.P_qe)\n",
    "\n",
    "    def __process__(self, sigma: np.ndarray):\n",
    "        byte_rep = sigma.tobytes()\n",
    "        return hash(byte_rep)\n",
    "\n",
    "    def __verify_shape__(self, sigma: np.ndarray):\n",
    "        # Distinct arrays of different shapes may have same byte representation\n",
    "        if self.shape != sigma.shape:\n",
    "            raise RuntimeError(\n",
    "                f\"Expected array of dimensions {self.shape}. Received {sigma.shape}\"\n",
    "            )\n",
    "\n",
    "    def __iter__(self):\n",
    "        return iter(self.P_qe)\n",
    "\n",
    "    def __repr__(self):\n",
    "        return repr(self.P_qe)"
   ]
  },
  {
   "cell_type": "code",
   "execution_count": 33,
   "id": "85012431-c7a7-472e-b05a-714fa6338648",
   "metadata": {},
   "outputs": [],
   "source": [
    "class RashomonProblemCache:\n",
    "    \"\"\"\n",
    "    Caching object to keep track of full problems\n",
    "    Some discussion on how to hash a numpy array\n",
    "    https://stackoverflow.com/questions/16589791/most-efficient-property-to-hash-for-numpy-array\n",
    "    \"\"\"\n",
    "\n",
    "    def __init__(self, shape: tuple[int, int]):\n",
    "        self.shape = shape\n",
    "        self.C = set()\n",
    "\n",
    "    def insert(self, sigma: np.ndarray) -> None:\n",
    "        self.__verify_shape__(sigma)\n",
    "        sigma_hash = self.__process__(sigma)\n",
    "        self.C.add(sigma_hash)\n",
    "\n",
    "    def seen(self, sigma: np.ndarray) -> bool:\n",
    "        self.__verify_shape__(sigma)\n",
    "        sigma_hash = self.__process__(sigma)\n",
    "        return sigma_hash in self.C\n",
    "\n",
    "    @property\n",
    "    def size(self):\n",
    "        return len(self.C)\n",
    "\n",
    "    def __process__(self, sigma: np.ndarray):\n",
    "        byte_rep = sigma.tobytes()\n",
    "        return hash(byte_rep)\n",
    "\n",
    "    def __verify_shape__(self, sigma: np.ndarray):\n",
    "        # Distinct arrays of different shapes may have same byte representation\n",
    "        if self.shape != sigma.shape:\n",
    "            raise RuntimeError(\n",
    "                f\"Expected array of dimensions {self.shape}. Received {sigma.shape}\"\n",
    "            )\n"
   ]
  },
  {
   "cell_type": "code",
   "execution_count": 41,
   "id": "9fa5fdac-2bd9-426b-a0bf-35efc4d0cddd",
   "metadata": {},
   "outputs": [
    {
     "name": "stdout",
     "output_type": "stream",
     "text": [
      "48\n",
      "24\n",
      "20\n"
     ]
    },
    {
     "data": {
      "text/plain": [
       "True"
      ]
     },
     "execution_count": 41,
     "metadata": {},
     "output_type": "execute_result"
    }
   ],
   "source": [
    "def RAggregate(M, R, H, D, y, theta, reg=1):\n",
    "\n",
    "    \n",
    "    policies = enumerate_policies(M, R)\n",
    "    policy_means = loss.compute_policy_means(D, y, len(policies))\n",
    "\n",
    "    sigma = np.ndarray(shape=(M, R-2))\n",
    "    sigma[:, :] = 1\n",
    "\n",
    "    P_qe = RashomonSet(sigma.shape)\n",
    "    Q_seen = RashomonProblemCache(sigma.shape)\n",
    "    problems = RashomonSubproblemCache(sigma.shape)\n",
    "    \n",
    "    queue = deque([(sigma, 0, 0)])\n",
    "\n",
    "    while len(queue) > 0:\n",
    "        (sigma, i, j) = queue.popleft()\n",
    "\n",
    "        # Cache problem\n",
    "        if problems.seen(sigma, i, j):\n",
    "            continue\n",
    "        problems.insert(sigma, i, j)\n",
    "        \n",
    "        if count_pools.num_pools(sigma) > H:\n",
    "            continue\n",
    "            \n",
    "        B = loss.compute_B(D, y, sigma, i, j, policies, policy_means, reg)\n",
    "        if B > theta:\n",
    "            continue\n",
    "        \n",
    "        sigma_0 = np.copy(sigma)\n",
    "        sigma[i, j] = 1\n",
    "        sigma_0[i, j] = 0\n",
    "\n",
    "        # Check if the pooling already satisfies the Rashomon threshold\n",
    "        if not Q_seen.seen(sigma):\n",
    "            Q_seen.insert(sigma)\n",
    "            Q = loss.compute_Q(D, y, sigma, policies, policy_means, reg)\n",
    "            if Q <= theta:\n",
    "                P_qe.insert(sigma)\n",
    "        \n",
    "        if not Q_seen.seen(sigma_0):\n",
    "            Q_seen.insert(sigma_0)\n",
    "            Q = loss.compute_Q(D, y, sigma_0, policies, policy_means, reg)\n",
    "            if Q <= theta:\n",
    "                P_qe.insert(sigma_0)\n",
    "\n",
    "        # Add children problems to the queue\n",
    "        if j < R-3: # j < R - 2 in math notation\n",
    "            if not problems.seen(sigma, i, j+1):\n",
    "                queue.append((sigma, i, j+1))\n",
    "            if not problems.seen(sigma_0, i, j+1):\n",
    "                queue.append((sigma_0, i, j+1))\n",
    "        \n",
    "        for m in range(M):\n",
    "            # if m == i:\n",
    "            #     continue\n",
    "            if not problems.seen(sigma, m, 0):\n",
    "                queue.append((sigma, m, 0))\n",
    "            if not problems.seen(sigma_0, m, 0):\n",
    "                queue.append((sigma_0, m, 0))\n",
    "\n",
    "    return P_qe\n",
    "\n",
    "P_set = RAggregate(2, 5, 4, D, y, 5, reg=1)\n",
    "print(P_set.size)\n",
    "P_set.seen(sigma)"
   ]
  },
  {
   "cell_type": "code",
   "execution_count": null,
   "id": "4d1dbc09-5aed-42e7-8f4b-6b91d138e84a",
   "metadata": {},
   "outputs": [],
   "source": []
  }
 ],
 "metadata": {
  "kernelspec": {
   "display_name": "Python (rashomon-tva)",
   "language": "python",
   "name": "rashomon-tva"
  },
  "language_info": {
   "codemirror_mode": {
    "name": "ipython",
    "version": 3
   },
   "file_extension": ".py",
   "mimetype": "text/x-python",
   "name": "python",
   "nbconvert_exporter": "python",
   "pygments_lexer": "ipython3",
   "version": "3.11.3"
  }
 },
 "nbformat": 4,
 "nbformat_minor": 5
}
