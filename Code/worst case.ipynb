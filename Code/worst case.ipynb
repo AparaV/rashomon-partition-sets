{
 "cells": [
  {
   "cell_type": "code",
   "execution_count": 25,
   "id": "9a619547",
   "metadata": {},
   "outputs": [
    {
     "name": "stdout",
     "output_type": "stream",
     "text": [
      "The autoreload extension is already loaded. To reload it, use:\n",
      "  %reload_ext autoreload\n"
     ]
    }
   ],
   "source": [
    "import numpy as np\n",
    "import pandas as pd\n",
    "import matplotlib.pyplot as plt\n",
    "\n",
    "from sklearn import linear_model\n",
    "from sklearn.metrics import mean_squared_error\n",
    "\n",
    "from collections import deque\n",
    "\n",
    "from rashomon import loss\n",
    "from rashomon import counter\n",
    "from rashomon.aggregate import RAggregate_profile\n",
    "from rashomon.sets import RashomonSet, RashomonProblemCache, RashomonSubproblemCache\n",
    "from rashomon import tva, metrics\n",
    "from rashomon.extract_pools import extract_pools\n",
    "\n",
    "\n",
    "%load_ext autoreload\n",
    "%autoreload 2\n",
    "# %matplotlib inline"
   ]
  },
  {
   "cell_type": "markdown",
   "id": "610c2a0d",
   "metadata": {},
   "source": [
    "### Worst case scenario"
   ]
  },
  {
   "cell_type": "code",
   "execution_count": 3,
   "id": "384b5956",
   "metadata": {},
   "outputs": [
    {
     "name": "stdout",
     "output_type": "stream",
     "text": [
      "0 : [(1, 1), (2, 1), (3, 1)]\n",
      "1 : [(1, 2), (1, 3), (2, 2), (2, 3), (3, 2), (3, 3)]\n",
      "2 : [(1, 4), (2, 4), (3, 4)]\n",
      "3 : [(4, 1)]\n",
      "4 : [(4, 2), (4, 3)]\n",
      "5 : [(4, 4)]\n"
     ]
    }
   ],
   "source": [
    "sigma = np.array([[1, 1, 0],\n",
    "                  [0, 1, 0]], dtype='float64')\n",
    "sigma_profile = (1, 1)\n",
    "\n",
    "M, n = sigma.shape\n",
    "R = np.array([5, 5])\n",
    "\n",
    "num_policies = np.prod(R-1)\n",
    "all_policies = tva.enumerate_policies(M, R)\n",
    "policies = [x for x in all_policies if tva.policy_to_profile(x) == sigma_profile]\n",
    "pi_pools, pi_policies = extract_pools(policies, sigma)\n",
    "\n",
    "for pool_id, pool in pi_pools.items():\n",
    "    print(pool_id, \":\", [policies[i] for i in pool])\n",
    "    # print(pool_id, \":\", pool)"
   ]
  },
  {
   "cell_type": "markdown",
   "id": "3751d3a0-9f2a-430b-88ec-a636c3f58f3d",
   "metadata": {},
   "source": [
    "### Generate data"
   ]
  },
  {
   "cell_type": "code",
   "execution_count": 4,
   "id": "314fe15c",
   "metadata": {},
   "outputs": [],
   "source": [
    "np.random.seed(3)\n",
    "\n",
    "num_pools = len(pi_pools)\n",
    "# # ADVERSARIAL EXAMPLE\n",
    "mu = np.array([0, 1.5, 3, 3, 6, 4.5])\n",
    "# CORRELATION?\n",
    "# mu = np.array([0, 1, 2, 1, 3, 3])\n",
    "# mu = mu*4\n",
    "var = [1] * num_pools\n",
    "\n",
    "n_per_pol = 100\n",
    "sim_num = 1\n",
    "\n",
    "num_data = num_policies * n_per_pol\n",
    "X = np.ndarray(shape=(num_data, M))\n",
    "D = np.ndarray(shape=(num_data, 1), dtype='int_')\n",
    "y = np.ndarray(shape=(num_data, 1))\n",
    "\n",
    "for idx, policy in enumerate(policies):\n",
    "    pool_i = pi_policies[idx]\n",
    "    mu_i = mu[pool_i]\n",
    "    var_i = var[pool_i]\n",
    "    y_i = np.random.normal(mu_i, var_i, size=(n_per_pol, 1))\n",
    "\n",
    "    start_idx = idx * n_per_pol\n",
    "    end_idx = (idx + 1) * n_per_pol\n",
    "\n",
    "    X[start_idx:end_idx, ] = policy\n",
    "    D[start_idx:end_idx, ] = idx\n",
    "    y[start_idx:end_idx, ] = y_i\n",
    "    "
   ]
  },
  {
   "cell_type": "markdown",
   "id": "39118580-cbb0-4419-b951-f5faf8a51739",
   "metadata": {},
   "source": [
    "### RAggregate"
   ]
  },
  {
   "cell_type": "code",
   "execution_count": 26,
   "id": "9fa5fdac-2bd9-426b-a0bf-35efc4d0cddd",
   "metadata": {},
   "outputs": [],
   "source": [
    "# Rashomon set estimation\n",
    "\n",
    "P_set = RAggregate_profile(M, R, 8, D, y, 2, sigma_profile, reg=0.1)\n",
    "if not P_set.seen(sigma):\n",
    "    print(\"P_set missing true sigma\")"
   ]
  },
  {
   "cell_type": "code",
   "execution_count": 27,
   "id": "c7935848-b31b-4bf3-9c95-216dc8f61436",
   "metadata": {},
   "outputs": [
    {
     "name": "stdout",
     "output_type": "stream",
     "text": [
      "Num pools: 4, Squared loss: 1.33086, Q: 1.73086\n",
      "Best policy IOU: 0.667\n",
      "Min dosage: True\n",
      "Best policy error: 0.48808069259229026\n",
      "---\n",
      "Num pools: 6, Squared loss: 1.33013, Q: 1.93013\n",
      "Best policy IOU: 0.667\n",
      "Min dosage: True\n",
      "Best policy error: 0.48808069259229026\n",
      "---\n",
      "Num pools: 6, Squared loss: 1.33006, Q: 1.93006\n",
      "Best policy IOU: 0.667\n",
      "Min dosage: True\n",
      "Best policy error: 0.48808069259229026\n",
      "---\n",
      "Num pools: 6, Squared loss: 1.24759, Q: 1.84759\n",
      "Best policy IOU: 0.500\n",
      "Min dosage: True\n",
      "Best policy error: 0.029118080070194452\n",
      "---\n",
      "Num pools: 6, Squared loss: 1.02158, Q: 1.62158\n",
      "Best policy IOU: 1.000\n",
      "Min dosage: True\n",
      "Best policy error: -0.009341137959020251\n",
      "---\n",
      "Num pools: 8, Squared loss: 1.02089, Q: 1.82089\n",
      "Best policy IOU: 0.500\n",
      "Min dosage: False\n",
      "Best policy error: -0.04780035598823318\n",
      "---\n"
     ]
    }
   ],
   "source": [
    "pol_means = loss.compute_policy_means(D, y, num_policies)\n",
    "true_best = pi_pools[np.argmax(mu)]\n",
    "min_dosage_best_policy = metrics.find_min_dosage(true_best, policies)\n",
    "\n",
    "for s_i in P_set:\n",
    "    pi_pools_i, pi_policies_i = extract_pools(policies, s_i)\n",
    "    pool_means_i = loss.compute_pool_means(pol_means, pi_pools_i)\n",
    "    \n",
    "    Q = loss.compute_Q(D, y, s_i, policies, pol_means, reg=0.1)\n",
    "    y_pred = metrics.make_predictions(D, pi_policies_i, pool_means_i)\n",
    "    sqrd_err = mean_squared_error(y, y_pred)\n",
    "\n",
    "    # IOU\n",
    "    pol_max = metrics.find_best_policies(D, y_pred)\n",
    "    iou = metrics.intersect_over_union(set(true_best), set(pol_max))\n",
    "\n",
    "    # Min dosage membership\n",
    "    min_dosage_present = metrics.check_membership(min_dosage_best_policy, pol_max)\n",
    "\n",
    "    # Best policy difference\n",
    "    best_pol_diff = np.max(mu) - np.max(pool_means_i)\n",
    "    \n",
    "    print(f\"Num pools: {len(pi_pools_i)}, Squared loss: {sqrd_err:0.5f}, Q: {Q:0.5f}\")\n",
    "    print(f\"Best policy IOU: {iou:.3f}\")\n",
    "    print(f\"Min dosage: {min_dosage_present}\")\n",
    "    print(f\"Best policy error: {best_pol_diff}\")\n",
    "    print(\"---\")\n",
    "\n",
    "    this_list = [n_per_pol, sim_num, len(pi_pools_i), sqrd_err, iou, min_dosage_present, best_pol_diff]\n",
    "    rashomon_list.append(this_list)"
   ]
  },
  {
   "cell_type": "code",
   "execution_count": 149,
   "id": "74462f74-1e09-456f-96e5-5927dbd1830a",
   "metadata": {},
   "outputs": [
    {
     "data": {
      "text/html": [
       "<div>\n",
       "<style scoped>\n",
       "    .dataframe tbody tr th:only-of-type {\n",
       "        vertical-align: middle;\n",
       "    }\n",
       "\n",
       "    .dataframe tbody tr th {\n",
       "        vertical-align: top;\n",
       "    }\n",
       "\n",
       "    .dataframe thead th {\n",
       "        text-align: right;\n",
       "    }\n",
       "</style>\n",
       "<table border=\"1\" class=\"dataframe\">\n",
       "  <thead>\n",
       "    <tr style=\"text-align: right;\">\n",
       "      <th></th>\n",
       "      <th>n_per_pol</th>\n",
       "      <th>sim_num</th>\n",
       "      <th>num_pools</th>\n",
       "      <th>MSE</th>\n",
       "      <th>IOU</th>\n",
       "      <th>min_dosage</th>\n",
       "      <th>best_pol_MSE</th>\n",
       "    </tr>\n",
       "  </thead>\n",
       "  <tbody>\n",
       "    <tr>\n",
       "      <th>0</th>\n",
       "      <td>100</td>\n",
       "      <td>1</td>\n",
       "      <td>4</td>\n",
       "      <td>1.330859</td>\n",
       "      <td>0.666667</td>\n",
       "      <td>True</td>\n",
       "      <td>0.488081</td>\n",
       "    </tr>\n",
       "    <tr>\n",
       "      <th>1</th>\n",
       "      <td>100</td>\n",
       "      <td>1</td>\n",
       "      <td>6</td>\n",
       "      <td>1.330133</td>\n",
       "      <td>0.666667</td>\n",
       "      <td>True</td>\n",
       "      <td>0.488081</td>\n",
       "    </tr>\n",
       "    <tr>\n",
       "      <th>2</th>\n",
       "      <td>100</td>\n",
       "      <td>1</td>\n",
       "      <td>6</td>\n",
       "      <td>1.330060</td>\n",
       "      <td>0.666667</td>\n",
       "      <td>True</td>\n",
       "      <td>0.488081</td>\n",
       "    </tr>\n",
       "    <tr>\n",
       "      <th>3</th>\n",
       "      <td>100</td>\n",
       "      <td>1</td>\n",
       "      <td>6</td>\n",
       "      <td>1.247588</td>\n",
       "      <td>0.500000</td>\n",
       "      <td>True</td>\n",
       "      <td>0.029118</td>\n",
       "    </tr>\n",
       "    <tr>\n",
       "      <th>4</th>\n",
       "      <td>100</td>\n",
       "      <td>1</td>\n",
       "      <td>6</td>\n",
       "      <td>1.021578</td>\n",
       "      <td>1.000000</td>\n",
       "      <td>True</td>\n",
       "      <td>-0.009341</td>\n",
       "    </tr>\n",
       "    <tr>\n",
       "      <th>5</th>\n",
       "      <td>100</td>\n",
       "      <td>1</td>\n",
       "      <td>8</td>\n",
       "      <td>1.020892</td>\n",
       "      <td>0.500000</td>\n",
       "      <td>False</td>\n",
       "      <td>-0.047800</td>\n",
       "    </tr>\n",
       "  </tbody>\n",
       "</table>\n",
       "</div>"
      ],
      "text/plain": [
       "   n_per_pol  sim_num  num_pools       MSE       IOU  min_dosage  best_pol_MSE\n",
       "0        100        1          4  1.330859  0.666667        True      0.488081\n",
       "1        100        1          6  1.330133  0.666667        True      0.488081\n",
       "2        100        1          6  1.330060  0.666667        True      0.488081\n",
       "3        100        1          6  1.247588  0.500000        True      0.029118\n",
       "4        100        1          6  1.021578  1.000000        True     -0.009341\n",
       "5        100        1          8  1.020892  0.500000       False     -0.047800"
      ]
     },
     "execution_count": 149,
     "metadata": {},
     "output_type": "execute_result"
    }
   ],
   "source": [
    "col_names = [\"n_per_pol\", \"sim_num\", \"num_pools\", \"MSE\", \"IOU\", \"min_dosage\", \"best_pol_MSE\"]\n",
    "rashomon_df = pd.DataFrame(rashomon_list, columns=col_names)\n",
    "\n",
    "rashomon_df"
   ]
  },
  {
   "cell_type": "markdown",
   "id": "5f118bfd-5475-40b3-92a7-134a331a5afd",
   "metadata": {},
   "source": [
    "### LASSO - Beta -> alpha"
   ]
  },
  {
   "cell_type": "code",
   "execution_count": 150,
   "id": "0fae0c9b-06f7-47d7-a591-dd2d43cea775",
   "metadata": {},
   "outputs": [],
   "source": [
    "G = tva.alpha_matrix(M, R, policies)\n",
    "# print(G)\n",
    "D_matrix = tva.get_dummy_matrix(D, G, num_policies)"
   ]
  },
  {
   "cell_type": "code",
   "execution_count": 151,
   "id": "7156e414-74ff-4559-b54f-e49e94f0d0af",
   "metadata": {},
   "outputs": [],
   "source": [
    "reg_param = 1e-1\n",
    "mod1 = linear_model.Lasso(reg_param, fit_intercept=False)\n",
    "mod1.fit(D_matrix, y)\n",
    "alpha_est = mod1.coef_"
   ]
  },
  {
   "cell_type": "code",
   "execution_count": 152,
   "id": "16a81a50-0dfd-44e3-ae90-c3d4f9d1e8a6",
   "metadata": {},
   "outputs": [],
   "source": [
    "lasso_list = []"
   ]
  },
  {
   "cell_type": "code",
   "execution_count": 153,
   "id": "2406a1d6-0620-406a-9fda-b430d7141136",
   "metadata": {},
   "outputs": [],
   "source": [
    "y_tva = mod1.predict(D_matrix)\n",
    "\n",
    "# MSE\n",
    "sqrd_err = mean_squared_error(y_tva, y)\n",
    "L1_loss = sqrd_err + reg_param * np.linalg.norm(alpha_est, ord=1)\n",
    "\n",
    "# IOU\n",
    "tva_best = metrics.find_best_policies(D, y_tva)\n",
    "iou_tva = metrics.intersect_over_union(set(true_best), set(tva_best))\n",
    "\n",
    "# Min dosage inclusion\n",
    "min_dosage_present_tva = metrics.check_membership(min_dosage_best_policy, tva_best)\n",
    "\n",
    "# Best policy MSE\n",
    "best_policy_error_tva = np.max(mu) - np.max(y_tva)\n",
    "\n",
    "this_list = [n_per_pol, sim_num, sqrd_err, L1_loss, iou_tva, min_dosage_present_tva, best_policy_error_tva]\n",
    "lasso_list.append(this_list)"
   ]
  },
  {
   "cell_type": "code",
   "execution_count": 154,
   "id": "c1a7b489-7314-469e-a908-3cb102d3f707",
   "metadata": {},
   "outputs": [
    {
     "data": {
      "text/html": [
       "<div>\n",
       "<style scoped>\n",
       "    .dataframe tbody tr th:only-of-type {\n",
       "        vertical-align: middle;\n",
       "    }\n",
       "\n",
       "    .dataframe tbody tr th {\n",
       "        vertical-align: top;\n",
       "    }\n",
       "\n",
       "    .dataframe thead th {\n",
       "        text-align: right;\n",
       "    }\n",
       "</style>\n",
       "<table border=\"1\" class=\"dataframe\">\n",
       "  <thead>\n",
       "    <tr style=\"text-align: right;\">\n",
       "      <th></th>\n",
       "      <th>n_per_pol</th>\n",
       "      <th>sim_num</th>\n",
       "      <th>MSE</th>\n",
       "      <th>L1_loss</th>\n",
       "      <th>IOU</th>\n",
       "      <th>min_dosage</th>\n",
       "      <th>best_pol_MSE</th>\n",
       "    </tr>\n",
       "  </thead>\n",
       "  <tbody>\n",
       "    <tr>\n",
       "      <th>0</th>\n",
       "      <td>100</td>\n",
       "      <td>1</td>\n",
       "      <td>1.347481</td>\n",
       "      <td>1.859604</td>\n",
       "      <td>0.0</td>\n",
       "      <td>False</td>\n",
       "      <td>0.878772</td>\n",
       "    </tr>\n",
       "  </tbody>\n",
       "</table>\n",
       "</div>"
      ],
      "text/plain": [
       "   n_per_pol  sim_num       MSE   L1_loss  IOU  min_dosage  best_pol_MSE\n",
       "0        100        1  1.347481  1.859604  0.0       False      0.878772"
      ]
     },
     "execution_count": 154,
     "metadata": {},
     "output_type": "execute_result"
    }
   ],
   "source": [
    "lasso_cols = [\"n_per_pol\", \"sim_num\", \"MSE\", \"L1_loss\", \"IOU\", \"min_dosage\", \"best_pol_MSE\"]\n",
    "lasso_df = pd.DataFrame(lasso_list, columns=lasso_cols)\n",
    "\n",
    "lasso_df"
   ]
  },
  {
   "cell_type": "code",
   "execution_count": null,
   "id": "7483bae0-5962-4163-a10d-81ff026f9678",
   "metadata": {},
   "outputs": [],
   "source": []
  },
  {
   "cell_type": "code",
   "execution_count": null,
   "id": "3151d3ed-a9fa-4a53-9695-18fe71f0b20d",
   "metadata": {},
   "outputs": [],
   "source": []
  },
  {
   "cell_type": "code",
   "execution_count": null,
   "id": "85fb6464-a82c-4284-855a-8f29f5b4a8ec",
   "metadata": {},
   "outputs": [],
   "source": []
  },
  {
   "cell_type": "code",
   "execution_count": null,
   "id": "66f46dcd-f31b-48f8-adc8-96c8c7acd8f0",
   "metadata": {},
   "outputs": [],
   "source": []
  },
  {
   "cell_type": "code",
   "execution_count": null,
   "id": "c8af6b91-9e0e-40f2-97a5-12c21f78b2c2",
   "metadata": {},
   "outputs": [],
   "source": []
  },
  {
   "cell_type": "code",
   "execution_count": 111,
   "id": "ef2b78e1-4ad2-4ad6-ba5b-a45ede9b0b22",
   "metadata": {},
   "outputs": [
    {
     "name": "stdout",
     "output_type": "stream",
     "text": [
      "[0.00000000e+00 4.02587900e+00 7.29379941e-02 3.72378857e+00\n",
      " 0.00000000e+00 0.00000000e+00 0.00000000e+00 8.36637192e-02\n",
      " 0.00000000e+00 0.00000000e+00 0.00000000e+00 0.00000000e+00\n",
      " 3.83710615e+00 4.10780553e+00 4.10336904e-03 2.56179131e+00]\n"
     ]
    },
    {
     "data": {
      "text/plain": [
       "array([ 0.        ,  4.025879  ,  4.098817  ,  7.82260557,  0.        ,\n",
       "        4.025879  ,  4.098817  ,  7.90626929,  0.        ,  4.025879  ,\n",
       "        4.098817  ,  7.90626929,  3.83710615, 11.97079068, 12.04783205,\n",
       "       18.41707565])"
      ]
     },
     "execution_count": 111,
     "metadata": {},
     "output_type": "execute_result"
    }
   ],
   "source": [
    "print(alpha_est)\n",
    "np.matmul(G, alpha_est)"
   ]
  },
  {
   "cell_type": "code",
   "execution_count": 164,
   "id": "c3fa0f0e-4913-431e-88e0-7504051ac632",
   "metadata": {},
   "outputs": [
    {
     "data": {
      "text/plain": [
       "array([[1., 0., 0., 0., 0., 0., 0., 0., 0., 0., 0., 0., 0., 0., 0., 0.],\n",
       "       [1., 1., 0., 0., 0., 0., 0., 0., 0., 0., 0., 0., 0., 0., 0., 0.],\n",
       "       [1., 1., 1., 0., 0., 0., 0., 0., 0., 0., 0., 0., 0., 0., 0., 0.],\n",
       "       [1., 1., 1., 1., 0., 0., 0., 0., 0., 0., 0., 0., 0., 0., 0., 0.],\n",
       "       [1., 0., 0., 0., 1., 0., 0., 0., 0., 0., 0., 0., 0., 0., 0., 0.],\n",
       "       [1., 1., 0., 0., 1., 1., 0., 0., 0., 0., 0., 0., 0., 0., 0., 0.],\n",
       "       [1., 1., 1., 0., 1., 1., 1., 0., 0., 0., 0., 0., 0., 0., 0., 0.],\n",
       "       [1., 1., 1., 1., 1., 1., 1., 1., 0., 0., 0., 0., 0., 0., 0., 0.],\n",
       "       [1., 0., 0., 0., 1., 0., 0., 0., 1., 0., 0., 0., 0., 0., 0., 0.],\n",
       "       [1., 1., 0., 0., 1., 1., 0., 0., 1., 1., 0., 0., 0., 0., 0., 0.],\n",
       "       [1., 1., 1., 0., 1., 1., 1., 0., 1., 1., 1., 0., 0., 0., 0., 0.],\n",
       "       [1., 1., 1., 1., 1., 1., 1., 1., 1., 1., 1., 1., 0., 0., 0., 0.],\n",
       "       [1., 0., 0., 0., 1., 0., 0., 0., 1., 0., 0., 0., 1., 0., 0., 0.],\n",
       "       [1., 1., 0., 0., 1., 1., 0., 0., 1., 1., 0., 0., 1., 1., 0., 0.],\n",
       "       [1., 1., 1., 0., 1., 1., 1., 0., 1., 1., 1., 0., 1., 1., 1., 0.],\n",
       "       [1., 1., 1., 1., 1., 1., 1., 1., 1., 1., 1., 1., 1., 1., 1., 1.]])"
      ]
     },
     "execution_count": 164,
     "metadata": {},
     "output_type": "execute_result"
    }
   ],
   "source": [
    "G"
   ]
  },
  {
   "cell_type": "code",
   "execution_count": 112,
   "id": "1c70adbd-1127-423a-9539-a72254689486",
   "metadata": {},
   "outputs": [
    {
     "name": "stdout",
     "output_type": "stream",
     "text": [
      "[ 0.  1.  0.  1.  0.  0.  0.  0.  0.  0.  0.  0.  1.  1.  0. -1.]\n"
     ]
    },
    {
     "data": {
      "text/plain": [
       "array([0., 1., 1., 2., 0., 1., 1., 2., 0., 1., 1., 2., 1., 3., 3., 3.])"
      ]
     },
     "execution_count": 112,
     "metadata": {},
     "output_type": "execute_result"
    }
   ],
   "source": [
    "alpha_des = np.copy(alpha_est)\n",
    "alpha_des[:] = 0\n",
    "\n",
    "alpha_des[1] = 1\n",
    "alpha_des[3] = 1\n",
    "alpha_des[12] = 1\n",
    "alpha_des[13] = 1\n",
    "alpha_des[15] = -1\n",
    "print(alpha_des)\n",
    "\n",
    "np.matmul(G, alpha_des)"
   ]
  },
  {
   "cell_type": "code",
   "execution_count": null,
   "id": "f217d186-5ad1-40d0-a233-97488a02d64c",
   "metadata": {},
   "outputs": [],
   "source": []
  },
  {
   "cell_type": "code",
   "execution_count": null,
   "id": "55043ac7-5b63-4430-812d-85f359422f7b",
   "metadata": {},
   "outputs": [],
   "source": []
  },
  {
   "cell_type": "markdown",
   "id": "7ed6e80e-ce0d-457e-9d88-88e0c1c55716",
   "metadata": {},
   "source": [
    "### Causal Trees"
   ]
  },
  {
   "cell_type": "code",
   "execution_count": 4,
   "id": "91cca2fa-c86d-4f2b-84af-ff41474a353b",
   "metadata": {},
   "outputs": [],
   "source": [
    "\n",
    "from CTL.causal_tree_learn import CausalTree\n",
    "from sklearn.model_selection import train_test_split"
   ]
  },
  {
   "cell_type": "code",
   "execution_count": 5,
   "id": "7dcefa1e-88c5-40d9-a8e2-39447448db03",
   "metadata": {},
   "outputs": [],
   "source": [
    "X_constant = np.zeros(shape=D.shape) + 1"
   ]
  },
  {
   "cell_type": "code",
   "execution_count": 28,
   "id": "3ba66cd5-15b2-4678-a73d-7f9ddb3889ef",
   "metadata": {},
   "outputs": [],
   "source": [
    "y_1d = y.reshape((-1,))\n",
    "D_1d = D.reshape((-1,))"
   ]
  },
  {
   "cell_type": "code",
   "execution_count": 29,
   "id": "05d8a7a4-4202-450a-b26c-a9f484fbdbd6",
   "metadata": {},
   "outputs": [
    {
     "data": {
      "text/plain": [
       "(1600, 1)"
      ]
     },
     "execution_count": 29,
     "metadata": {},
     "output_type": "execute_result"
    }
   ],
   "source": [
    "y.shape"
   ]
  },
  {
   "cell_type": "code",
   "execution_count": 30,
   "id": "a1420789-6b2d-4814-a34f-32850d1676b0",
   "metadata": {},
   "outputs": [],
   "source": [
    "x_train, x_test, y_train, y_test, treat_train, treat_test = train_test_split(\n",
    "    X_constant, y_1d, D_1d, test_size=0.5, random_state=3)"
   ]
  },
  {
   "cell_type": "code",
   "execution_count": 33,
   "id": "0dd987c1-d193-454d-961c-bedc65b7f6e4",
   "metadata": {},
   "outputs": [],
   "source": [
    "ct_adaptive = CausalTree(weight=0, split_size=0)\n",
    "ct_adaptive.fit(x_train, y_train, treat_train)\n",
    "ct_adaptive.prune()\n",
    "ct_adaptive_predict = ct_adaptive.predict(X_constant)"
   ]
  },
  {
   "cell_type": "code",
   "execution_count": 34,
   "id": "39676ca8-730d-47dd-9fb2-e40492fc0b61",
   "metadata": {},
   "outputs": [
    {
     "name": "stdout",
     "output_type": "stream",
     "text": [
      "[2.42444038 2.42444038 2.42444038 ... 2.42444038 2.42444038 2.42444038]\n"
     ]
    }
   ],
   "source": [
    "print(ct_adaptive_predict)"
   ]
  },
  {
   "cell_type": "code",
   "execution_count": null,
   "id": "c0d2b17f-3024-4e98-8f26-6891dfc70760",
   "metadata": {},
   "outputs": [],
   "source": []
  },
  {
   "cell_type": "code",
   "execution_count": null,
   "id": "e74a4c17-9165-46c0-b372-2e3bfc4c38ce",
   "metadata": {},
   "outputs": [],
   "source": []
  },
  {
   "cell_type": "code",
   "execution_count": 12,
   "id": "b2dd93e4-f822-452d-aebe-c19012df9a69",
   "metadata": {},
   "outputs": [],
   "source": [
    "asthma = pd.read_csv('CTL-2.43/data/asthma.txt', delimiter=' ', index_col=None)\n",
    "\n",
    "asthma.columns = ['physician', 'age', 'sex', 'education', 'insurance', 'drug coverage', 'severity',\n",
    "                  'comorbidity', 'physical comorbidity', 'mental comorbidity', 'satisfaction']\n",
    "\n",
    "y = asthma['satisfaction'].values\n",
    "treatment = asthma['physician'].values\n",
    "\n",
    "x = asthma.drop(['satisfaction', 'physician'], axis=1).values\n",
    "\n",
    "columns = asthma.drop(['satisfaction', 'physician'], axis=1).columns\n",
    "\n",
    "y[y == 0] = -1\n",
    "\n",
    "treatment[treatment == 1] = 0\n",
    "treatment[treatment == 2] = 1\n",
    "\n",
    "np.random.seed(0)\n",
    "\n",
    "\n",
    "x_train, x_test, y_train, y_test, treat_train, treat_test = train_test_split(x, y, treatment,\n",
    "                                                                             test_size=0.5, random_state=42)"
   ]
  },
  {
   "cell_type": "code",
   "execution_count": 14,
   "id": "216ce19e-8644-479a-bf4f-decbe0bb5583",
   "metadata": {},
   "outputs": [
    {
     "data": {
      "text/plain": [
       "array([ 1,  1,  1,  1, -1, -1, -1,  1,  1, -1,  1,  1, -1,  1,  1,  1,  1,\n",
       "        1,  1,  1,  1,  1,  1,  1, -1,  1,  1,  1,  1, -1, -1,  1,  1,  1,\n",
       "        1,  1,  1, -1,  1,  1,  1, -1,  1, -1, -1,  1,  1,  1,  1,  1,  1,\n",
       "        1, -1,  1, -1, -1, -1,  1, -1, -1,  1,  1,  1,  1,  1,  1,  1,  1,\n",
       "       -1, -1,  1, -1, -1,  1,  1,  1, -1,  1, -1,  1,  1,  1,  1, -1,  1,\n",
       "       -1,  1, -1,  1, -1,  1, -1,  1,  1, -1,  1,  1,  1,  1, -1,  1,  1,\n",
       "       -1,  1, -1,  1, -1, -1,  1,  1,  1,  1, -1,  1,  1, -1,  1, -1,  1,\n",
       "       -1, -1,  1, -1,  1,  1, -1, -1,  1, -1, -1, -1, -1, -1,  1,  1,  1,\n",
       "        1,  1])"
      ]
     },
     "execution_count": 14,
     "metadata": {},
     "output_type": "execute_result"
    }
   ],
   "source": [
    "y_test"
   ]
  },
  {
   "cell_type": "code",
   "execution_count": null,
   "id": "69ea5f3c-eab9-4406-8e97-1ea8d65d2646",
   "metadata": {},
   "outputs": [],
   "source": []
  },
  {
   "cell_type": "code",
   "execution_count": null,
   "id": "b8e404e9-8767-4aee-8f80-50bbfeef3a59",
   "metadata": {},
   "outputs": [],
   "source": []
  }
 ],
 "metadata": {
  "kernelspec": {
   "display_name": "Python (rashomon-tva)",
   "language": "python",
   "name": "rashomon-tva"
  },
  "language_info": {
   "codemirror_mode": {
    "name": "ipython",
    "version": 3
   },
   "file_extension": ".py",
   "mimetype": "text/x-python",
   "name": "python",
   "nbconvert_exporter": "python",
   "pygments_lexer": "ipython3",
   "version": "3.11.3"
  }
 },
 "nbformat": 4,
 "nbformat_minor": 5
}
