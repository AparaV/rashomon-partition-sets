{
 "cells": [
  {
   "cell_type": "code",
   "execution_count": 3,
   "id": "9a619547",
   "metadata": {},
   "outputs": [],
   "source": [
    "import numpy as np\n",
    "import matplotlib.pyplot as plt\n",
    "\n",
    "from collections import deque\n",
    "\n",
    "from rashomon import loss\n",
    "from rashomon import counter\n",
    "from rashomon.aggregate import RAggregate\n",
    "from rashomon.sets import RashomonSet, RashomonProblemCache, RashomonSubproblemCache\n",
    "from rashomon.tva import enumerate_policies\n",
    "from rashomon.extract_pools import extract_pools\n",
    "\n",
    "\n",
    "%load_ext autoreload\n",
    "%autoreload 2\n",
    "# %matplotlib inline"
   ]
  },
  {
   "cell_type": "markdown",
   "id": "610c2a0d",
   "metadata": {},
   "source": [
    "### Function to pool based on $\\Sigma$ matrix"
   ]
  },
  {
   "cell_type": "code",
   "execution_count": 187,
   "id": "384b5956",
   "metadata": {},
   "outputs": [
    {
     "name": "stdout",
     "output_type": "stream",
     "text": [
      "0 : [0, 4, 8]\n",
      "1 : [1, 2, 3, 5, 6, 7, 9, 10, 11]\n",
      "2 : [12]\n",
      "3 : [13, 14, 15]\n"
     ]
    }
   ],
   "source": [
    "sigma = np.array([[1, 1, 0],\n",
    "                  [0, 1, 1]], dtype='float64')\n",
    "\n",
    "M, n = sigma.shape\n",
    "R = n + 2\n",
    "\n",
    "num_policies = (R-1)**M\n",
    "policies = enumerate_policies(M, R)\n",
    "pi_pools, pi_policies = extract_pools(policies, sigma)\n",
    "\n",
    "for pool_id, pool in pi_pools.items():\n",
    "    print(pool_id, \":\", pool)"
   ]
  },
  {
   "cell_type": "markdown",
   "id": "3751d3a0-9f2a-430b-88ec-a636c3f58f3d",
   "metadata": {},
   "source": [
    "### Generate data"
   ]
  },
  {
   "cell_type": "code",
   "execution_count": 188,
   "id": "314fe15c",
   "metadata": {},
   "outputs": [],
   "source": [
    "np.random.seed(3)\n",
    "\n",
    "num_pools = len(pi_pools)\n",
    "mu = np.random.uniform(0, 4, size=num_pools)\n",
    "var = [1] * num_pools\n",
    "\n",
    "n_per_pol = 10\n",
    "\n",
    "num_data = num_policies * n_per_pol\n",
    "X = np.ndarray(shape=(num_data, M))\n",
    "D = np.ndarray(shape=(num_data, 1), dtype='int_')\n",
    "y = np.ndarray(shape=(num_data, 1))\n",
    "\n",
    "for idx, policy in enumerate(policies):\n",
    "    pool_i = pi_policies[idx]\n",
    "    mu_i = mu[pool_i]\n",
    "    var_i = var[pool_i]\n",
    "    y_i = np.random.normal(mu_i, var_i, size=(n_per_pol, 1))\n",
    "\n",
    "    start_idx = idx * n_per_pol\n",
    "    end_idx = (idx + 1) * n_per_pol\n",
    "\n",
    "    X[start_idx:end_idx, ] = policy\n",
    "    D[start_idx:end_idx, ] = idx\n",
    "    y[start_idx:end_idx, ] = y_i\n",
    "    "
   ]
  },
  {
   "cell_type": "code",
   "execution_count": 189,
   "id": "a892aa68",
   "metadata": {},
   "outputs": [
    {
     "name": "stdout",
     "output_type": "stream",
     "text": [
      "4.895456436046057\n"
     ]
    }
   ],
   "source": [
    "# This function needs to called only once\n",
    "policy_means = loss.compute_policy_means(D, y, num_policies)\n",
    "\n",
    "# This function needs to be called every time the pools change\n",
    "mu_pools = loss.compute_pool_means(policy_means, pi_pools)\n",
    "\n",
    "# This function needs to be called every time the pools change\n",
    "Q = loss.compute_Q(D, y, sigma, policies, policy_means, 1)\n",
    "\n",
    "print(Q)"
   ]
  },
  {
   "cell_type": "code",
   "execution_count": 190,
   "id": "edc3aa82-8543-480c-80fd-b2214aab0e64",
   "metadata": {},
   "outputs": [
    {
     "name": "stdout",
     "output_type": "stream",
     "text": [
      "4.859163572719872\n"
     ]
    }
   ],
   "source": [
    "i = 0\n",
    "j = 0\n",
    "\n",
    "B = loss.compute_B(D, y, sigma, i, j, policies, policy_means, 1)\n",
    "print(B)"
   ]
  },
  {
   "cell_type": "markdown",
   "id": "39118580-cbb0-4419-b951-f5faf8a51739",
   "metadata": {},
   "source": [
    "### RAggregate"
   ]
  },
  {
   "cell_type": "code",
   "execution_count": 191,
   "id": "9fa5fdac-2bd9-426b-a0bf-35efc4d0cddd",
   "metadata": {},
   "outputs": [
    {
     "name": "stdout",
     "output_type": "stream",
     "text": [
      "20\n"
     ]
    },
    {
     "data": {
      "text/plain": [
       "True"
      ]
     },
     "execution_count": 191,
     "metadata": {},
     "output_type": "execute_result"
    }
   ],
   "source": [
    "P_set = RAggregate(2, 5, 4, D, y, 5, reg=1)\n",
    "print(P_set.size)\n",
    "P_set.seen(sigma)"
   ]
  },
  {
   "cell_type": "code",
   "execution_count": null,
   "id": "c7935848-b31b-4bf3-9c95-216dc8f61436",
   "metadata": {},
   "outputs": [],
   "source": []
  },
  {
   "cell_type": "code",
   "execution_count": null,
   "id": "8d146a73-6cac-4435-9af5-3ef066f1797a",
   "metadata": {},
   "outputs": [],
   "source": []
  },
  {
   "cell_type": "code",
   "execution_count": null,
   "id": "3517d9e1-6542-44c8-aa21-535b7d3f2af3",
   "metadata": {},
   "outputs": [],
   "source": []
  },
  {
   "cell_type": "markdown",
   "id": "ea284fe0-a9ea-443b-9bc1-22bc4d126ce2",
   "metadata": {},
   "source": [
    "### Varying R"
   ]
  },
  {
   "cell_type": "code",
   "execution_count": 192,
   "id": "4d1dbc09-5aed-42e7-8f4b-6b91d138e84a",
   "metadata": {},
   "outputs": [
    {
     "name": "stdout",
     "output_type": "stream",
     "text": [
      "0 : [(1, 1), (2, 1)]\n",
      "1 : [(1, 2), (1, 3), (2, 2), (2, 3)]\n",
      "2 : [(3, 1), (4, 1)]\n",
      "3 : [(3, 2), (3, 3), (4, 2), (4, 3)]\n"
     ]
    }
   ],
   "source": [
    "# Idea: np.inf for arbitrary dosage?\n",
    "sigma = np.array([[1, 0, 1],\n",
    "                  [0, 1, np.inf]], dtype='float64')\n",
    "# sigma = np.array([[0, 0, 0],\n",
    "#                   [0, 0, np.inf]], dtype='float64')\n",
    "\n",
    "M, n = sigma.shape\n",
    "R = np.array([5, 4])\n",
    "\n",
    "num_policies = np.prod(R-1)\n",
    "policies = enumerate_policies(M, R)\n",
    "pi_pools, pi_policies = extract_pools(policies, sigma)\n",
    "\n",
    "for pool_id, pool in pi_pools.items():\n",
    "    print(pool_id, \":\", [policies[i] for i in pool])"
   ]
  },
  {
   "cell_type": "code",
   "execution_count": 193,
   "id": "ca1f6493-1baf-4156-aa41-87525e4fd0db",
   "metadata": {},
   "outputs": [
    {
     "data": {
      "text/plain": [
       "4.0"
      ]
     },
     "execution_count": 193,
     "metadata": {},
     "output_type": "execute_result"
    }
   ],
   "source": [
    "counter.num_pools(sigma)"
   ]
  },
  {
   "cell_type": "code",
   "execution_count": 194,
   "id": "a908d747-6bb8-447d-85c2-393d11adf89f",
   "metadata": {},
   "outputs": [
    {
     "data": {
      "text/plain": [
       "6"
      ]
     },
     "execution_count": 194,
     "metadata": {},
     "output_type": "execute_result"
    }
   ],
   "source": [
    "counter.num_admissible_poolings(4, M, R)"
   ]
  },
  {
   "cell_type": "code",
   "execution_count": 195,
   "id": "1ecd5ddb-21d9-4885-abda-fdebb888ecd8",
   "metadata": {},
   "outputs": [],
   "source": [
    "np.random.seed(3)\n",
    "\n",
    "num_pools = len(pi_pools)\n",
    "mu = np.random.uniform(0, 4, size=num_pools)\n",
    "var = [1] * num_pools\n",
    "\n",
    "n_per_pol = 10\n",
    "\n",
    "num_data = num_policies * n_per_pol\n",
    "X = np.ndarray(shape=(num_data, M))\n",
    "D = np.ndarray(shape=(num_data, 1), dtype='int_')\n",
    "y = np.ndarray(shape=(num_data, 1))\n",
    "\n",
    "for idx, policy in enumerate(policies):\n",
    "    pool_i = pi_policies[idx]\n",
    "    mu_i = mu[pool_i]\n",
    "    var_i = var[pool_i]\n",
    "    y_i = np.random.normal(mu_i, var_i, size=(n_per_pol, 1))\n",
    "\n",
    "    start_idx = idx * n_per_pol\n",
    "    end_idx = (idx + 1) * n_per_pol\n",
    "\n",
    "    X[start_idx:end_idx, ] = policy\n",
    "    D[start_idx:end_idx, ] = idx\n",
    "    y[start_idx:end_idx, ] = y_i"
   ]
  },
  {
   "cell_type": "code",
   "execution_count": 196,
   "id": "52f99c60-a623-4cfc-963a-fe8857326682",
   "metadata": {},
   "outputs": [
    {
     "data": {
      "text/plain": [
       "array([[22.3306393 , 10.        ],\n",
       "       [26.09289987, 10.        ],\n",
       "       [26.9056259 , 10.        ],\n",
       "       [14.77744099, 10.        ],\n",
       "       [27.87404021, 10.        ],\n",
       "       [29.12185777, 10.        ],\n",
       "       [14.06728243, 10.        ],\n",
       "       [21.12531734, 10.        ],\n",
       "       [15.25551251, 10.        ],\n",
       "       [12.69909817, 10.        ],\n",
       "       [21.11531527, 10.        ],\n",
       "       [19.32885624, 10.        ]])"
      ]
     },
     "execution_count": 196,
     "metadata": {},
     "output_type": "execute_result"
    }
   ],
   "source": [
    "policy_means = loss.compute_policy_means(D, y, num_policies)\n",
    "policy_means"
   ]
  },
  {
   "cell_type": "code",
   "execution_count": 197,
   "id": "97470e90-a6c9-464f-bce7-ed17adced082",
   "metadata": {},
   "outputs": [
    {
     "data": {
      "text/plain": [
       "4.9889861406550375"
      ]
     },
     "execution_count": 197,
     "metadata": {},
     "output_type": "execute_result"
    }
   ],
   "source": [
    "Q = loss.compute_Q(D, y, sigma, policies, policy_means, reg=1)\n",
    "Q"
   ]
  },
  {
   "cell_type": "code",
   "execution_count": 198,
   "id": "1de0393d-e1bc-4eda-8bcf-fa7c5dda79f9",
   "metadata": {},
   "outputs": [
    {
     "name": "stdout",
     "output_type": "stream",
     "text": [
      "6.975889428946971\n"
     ]
    }
   ],
   "source": [
    "i = 1\n",
    "j = 1\n",
    "B = loss.compute_B(D, y, sigma, i, j, policies, policy_means, reg=1)\n",
    "print(B)"
   ]
  },
  {
   "cell_type": "code",
   "execution_count": 199,
   "id": "c1b25293-aa89-4aa0-9b67-21ea3432ee06",
   "metadata": {},
   "outputs": [
    {
     "name": "stdout",
     "output_type": "stream",
     "text": [
      "5\n"
     ]
    },
    {
     "data": {
      "text/plain": [
       "True"
      ]
     },
     "execution_count": 199,
     "metadata": {},
     "output_type": "execute_result"
    }
   ],
   "source": [
    "P_set = RAggregate(2, R, 4, D, y, 1.4, reg=0.1)\n",
    "print(P_set.size)\n",
    "P_set.seen(sigma)"
   ]
  },
  {
   "cell_type": "code",
   "execution_count": null,
   "id": "0dd987c1-d193-454d-961c-bedc65b7f6e4",
   "metadata": {},
   "outputs": [],
   "source": []
  },
  {
   "cell_type": "code",
   "execution_count": null,
   "id": "39676ca8-730d-47dd-9fb2-e40492fc0b61",
   "metadata": {},
   "outputs": [],
   "source": []
  },
  {
   "cell_type": "code",
   "execution_count": null,
   "id": "c0d2b17f-3024-4e98-8f26-6891dfc70760",
   "metadata": {},
   "outputs": [],
   "source": []
  },
  {
   "cell_type": "code",
   "execution_count": null,
   "id": "b8e404e9-8767-4aee-8f80-50bbfeef3a59",
   "metadata": {},
   "outputs": [],
   "source": []
  }
 ],
 "metadata": {
  "kernelspec": {
   "display_name": "Python (rashomon-tva)",
   "language": "python",
   "name": "rashomon-tva"
  },
  "language_info": {
   "codemirror_mode": {
    "name": "ipython",
    "version": 3
   },
   "file_extension": ".py",
   "mimetype": "text/x-python",
   "name": "python",
   "nbconvert_exporter": "python",
   "pygments_lexer": "ipython3",
   "version": "3.11.3"
  }
 },
 "nbformat": 4,
 "nbformat_minor": 5
}
