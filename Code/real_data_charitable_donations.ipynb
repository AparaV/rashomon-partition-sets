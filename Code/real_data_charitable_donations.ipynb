{
 "cells": [
  {
   "cell_type": "code",
   "execution_count": 196,
   "id": "9a31ac6a-c651-4511-b6f8-3c0d103461ea",
   "metadata": {},
   "outputs": [],
   "source": [
    "import numpy as np\n",
    "import pandas as pd\n",
    "import matplotlib.pyplot as plt\n",
    "\n",
    "from copy import deepcopy\n",
    "from sklearn.metrics import mean_squared_error\n",
    "\n",
    "%matplotlib inline"
   ]
  },
  {
   "cell_type": "markdown",
   "id": "2a6c23d9-746c-4367-ba3e-5b8c87c1fd8e",
   "metadata": {},
   "source": [
    "# Data processing\n",
    "\n",
    "### Read data"
   ]
  },
  {
   "cell_type": "code",
   "execution_count": 160,
   "id": "90f8644a-0ac3-4199-859a-807da152886c",
   "metadata": {},
   "outputs": [
    {
     "name": "stdout",
     "output_type": "stream",
     "text": [
      "Index(['treatment', 'control', 'ratio', 'ratio2', 'ratio3', 'size', 'size25',\n",
      "       'size50', 'size100', 'sizeno', 'ask', 'askd1', 'askd2', 'askd3', 'ask1',\n",
      "       'ask2', 'ask3', 'amount', 'gave', 'amountchange', 'hpa', 'ltmedmra',\n",
      "       'freq', 'years', 'year5', 'mrm2', 'dormant', 'female', 'couple',\n",
      "       'state50one', 'nonlit', 'cases', 'statecnt', 'stateresponse',\n",
      "       'stateresponset', 'stateresponsec', 'stateresponsetminc', 'perbush',\n",
      "       'close25', 'red0', 'blue0', 'redcty', 'bluecty', 'pwhite', 'pblack',\n",
      "       'page18_39', 'ave_hh_sz', 'median_hhincome', 'powner', 'psch_atlstba',\n",
      "       'pop_propurban'],\n",
      "      dtype='object')\n"
     ]
    },
    {
     "data": {
      "text/html": [
       "<div>\n",
       "<style scoped>\n",
       "    .dataframe tbody tr th:only-of-type {\n",
       "        vertical-align: middle;\n",
       "    }\n",
       "\n",
       "    .dataframe tbody tr th {\n",
       "        vertical-align: top;\n",
       "    }\n",
       "\n",
       "    .dataframe thead th {\n",
       "        text-align: right;\n",
       "    }\n",
       "</style>\n",
       "<table border=\"1\" class=\"dataframe\">\n",
       "  <thead>\n",
       "    <tr style=\"text-align: right;\">\n",
       "      <th></th>\n",
       "      <th>treatment</th>\n",
       "      <th>control</th>\n",
       "      <th>ratio</th>\n",
       "      <th>size</th>\n",
       "      <th>ask</th>\n",
       "      <th>amount</th>\n",
       "      <th>gave</th>\n",
       "      <th>amountchange</th>\n",
       "    </tr>\n",
       "  </thead>\n",
       "  <tbody>\n",
       "    <tr>\n",
       "      <th>0</th>\n",
       "      <td>0</td>\n",
       "      <td>1</td>\n",
       "      <td>Control</td>\n",
       "      <td>Control</td>\n",
       "      <td>Control</td>\n",
       "      <td>0.0</td>\n",
       "      <td>0</td>\n",
       "      <td>-45.0</td>\n",
       "    </tr>\n",
       "    <tr>\n",
       "      <th>1</th>\n",
       "      <td>0</td>\n",
       "      <td>1</td>\n",
       "      <td>Control</td>\n",
       "      <td>Control</td>\n",
       "      <td>Control</td>\n",
       "      <td>0.0</td>\n",
       "      <td>0</td>\n",
       "      <td>-25.0</td>\n",
       "    </tr>\n",
       "    <tr>\n",
       "      <th>2</th>\n",
       "      <td>1</td>\n",
       "      <td>0</td>\n",
       "      <td>1</td>\n",
       "      <td>$100,000</td>\n",
       "      <td>1x</td>\n",
       "      <td>0.0</td>\n",
       "      <td>0</td>\n",
       "      <td>-50.0</td>\n",
       "    </tr>\n",
       "    <tr>\n",
       "      <th>3</th>\n",
       "      <td>1</td>\n",
       "      <td>0</td>\n",
       "      <td>1</td>\n",
       "      <td>Unstated</td>\n",
       "      <td>1x</td>\n",
       "      <td>0.0</td>\n",
       "      <td>0</td>\n",
       "      <td>-25.0</td>\n",
       "    </tr>\n",
       "    <tr>\n",
       "      <th>4</th>\n",
       "      <td>1</td>\n",
       "      <td>0</td>\n",
       "      <td>1</td>\n",
       "      <td>$50,000</td>\n",
       "      <td>1x</td>\n",
       "      <td>0.0</td>\n",
       "      <td>0</td>\n",
       "      <td>-15.0</td>\n",
       "    </tr>\n",
       "  </tbody>\n",
       "</table>\n",
       "</div>"
      ],
      "text/plain": [
       "   treatment  control    ratio      size      ask  amount  gave  amountchange\n",
       "0          0        1  Control   Control  Control     0.0     0         -45.0\n",
       "1          0        1  Control   Control  Control     0.0     0         -25.0\n",
       "2          1        0        1  $100,000       1x     0.0     0         -50.0\n",
       "3          1        0        1  Unstated       1x     0.0     0         -25.0\n",
       "4          1        0        1   $50,000       1x     0.0     0         -15.0"
      ]
     },
     "execution_count": 160,
     "metadata": {},
     "output_type": "execute_result"
    }
   ],
   "source": [
    "dta_fname = \"../Data/Does_Price_Matter_AER_merged.dta\"\n",
    "\n",
    "raw_df = pd.read_stata(dta_fname)\n",
    "colnames = raw_df.columns\n",
    "print(colnames)\n",
    "\n",
    "cols_to_keep = [\n",
    "                'treatment', 'control',\n",
    "                'ratio',\n",
    "                # 'ratio2', 'ratio3',\n",
    "                'size',\n",
    "                # 'size25', 'size50', 'size100', 'sizeno',\n",
    "                'ask',\n",
    "                # 'ask1', 'ask2', 'ask3',\n",
    "                # 'askd1', 'askd2', 'askd3',\n",
    "                'amount', 'gave', 'amountchange'\n",
    "               ]\n",
    "df = raw_df[cols_to_keep]\n",
    "\n",
    "df.head()"
   ]
  },
  {
   "cell_type": "markdown",
   "id": "191178e4-78d2-462c-8de7-45fce6d85a28",
   "metadata": {},
   "source": [
    "### Remove control"
   ]
  },
  {
   "cell_type": "code",
   "execution_count": 169,
   "id": "6066b7aa-e881-4a88-bd7d-a79e413a9aa2",
   "metadata": {},
   "outputs": [],
   "source": [
    "# avg_control = np.mean(df[df[\"control\"] == 1][\"amountchange\"])\n",
    "# df_treatment = df[df[\"treatment\"] == 1]\n",
    "# df_treatment.loc[:, \"amountchange\"] = df_treatment.loc[:, \"amountchange\"] - avg_control\n",
    "df_treatment = df"
   ]
  },
  {
   "cell_type": "markdown",
   "id": "785a3dcf-b4c4-4b58-b524-a210cf1bde80",
   "metadata": {},
   "source": [
    "### Process data"
   ]
  },
  {
   "cell_type": "code",
   "execution_count": 170,
   "id": "95e97238-44a4-4976-a9bb-95b134929044",
   "metadata": {},
   "outputs": [
    {
     "data": {
      "text/html": [
       "<div>\n",
       "<style scoped>\n",
       "    .dataframe tbody tr th:only-of-type {\n",
       "        vertical-align: middle;\n",
       "    }\n",
       "\n",
       "    .dataframe tbody tr th {\n",
       "        vertical-align: top;\n",
       "    }\n",
       "\n",
       "    .dataframe thead th {\n",
       "        text-align: right;\n",
       "    }\n",
       "</style>\n",
       "<table border=\"1\" class=\"dataframe\">\n",
       "  <thead>\n",
       "    <tr style=\"text-align: right;\">\n",
       "      <th></th>\n",
       "      <th>ratio</th>\n",
       "      <th>size</th>\n",
       "      <th>ask</th>\n",
       "      <th>amount</th>\n",
       "      <th>gave</th>\n",
       "      <th>amountchange</th>\n",
       "    </tr>\n",
       "  </thead>\n",
       "  <tbody>\n",
       "    <tr>\n",
       "      <th>0</th>\n",
       "      <td>0</td>\n",
       "      <td>0</td>\n",
       "      <td>0</td>\n",
       "      <td>0.0</td>\n",
       "      <td>0</td>\n",
       "      <td>-45.0</td>\n",
       "    </tr>\n",
       "    <tr>\n",
       "      <th>1</th>\n",
       "      <td>0</td>\n",
       "      <td>0</td>\n",
       "      <td>0</td>\n",
       "      <td>0.0</td>\n",
       "      <td>0</td>\n",
       "      <td>-25.0</td>\n",
       "    </tr>\n",
       "    <tr>\n",
       "      <th>2</th>\n",
       "      <td>1</td>\n",
       "      <td>3</td>\n",
       "      <td>1</td>\n",
       "      <td>0.0</td>\n",
       "      <td>0</td>\n",
       "      <td>-50.0</td>\n",
       "    </tr>\n",
       "    <tr>\n",
       "      <th>3</th>\n",
       "      <td>1</td>\n",
       "      <td>4</td>\n",
       "      <td>1</td>\n",
       "      <td>0.0</td>\n",
       "      <td>0</td>\n",
       "      <td>-25.0</td>\n",
       "    </tr>\n",
       "    <tr>\n",
       "      <th>4</th>\n",
       "      <td>1</td>\n",
       "      <td>2</td>\n",
       "      <td>1</td>\n",
       "      <td>0.0</td>\n",
       "      <td>0</td>\n",
       "      <td>-15.0</td>\n",
       "    </tr>\n",
       "  </tbody>\n",
       "</table>\n",
       "</div>"
      ],
      "text/plain": [
       "   ratio  size  ask  amount  gave  amountchange\n",
       "0      0     0    0     0.0     0         -45.0\n",
       "1      0     0    0     0.0     0         -25.0\n",
       "2      1     3    1     0.0     0         -50.0\n",
       "3      1     4    1     0.0     0         -25.0\n",
       "4      1     2    1     0.0     0         -15.0"
      ]
     },
     "execution_count": 170,
     "metadata": {},
     "output_type": "execute_result"
    }
   ],
   "source": [
    "ratio_map = {\"Control\": 0, 1: 1, 2: 2, 3: 3}\n",
    "size_map = {\"Control\": 0, \"$25,000\": 1, \"$50,000\": 2, \"$100,000\": 3, \"Unstated\": 4}\n",
    "ask_map = {\"Control\": 0, \"1x\": 1, \"1.25x\": 2, \"1.50x\": 3}\n",
    "\n",
    "df_treatment.loc[:, \"ratio\"] = df_treatment.loc[:, \"ratio\"].map(ratio_map)\n",
    "df_treatment.loc[:, \"size\"] = df_treatment.loc[:, \"size\"].map(size_map)\n",
    "df_treatment.loc[:, \"ask\"] = df_treatment.loc[:, \"ask\"].map(ask_map)\n",
    "df_treatment = df_treatment.astype({\"ratio\": np.int64, \"size\": np.int64, \"ask\": np.int64})\n",
    "\n",
    "df_treatment = df_treatment.drop([\"treatment\", \"control\"], axis=1)\n",
    "\n",
    "df_treatment.head()"
   ]
  },
  {
   "cell_type": "code",
   "execution_count": 288,
   "id": "43102646-56f2-4be6-91a2-4268d533474f",
   "metadata": {},
   "outputs": [],
   "source": [
    "Z = df_treatment.to_numpy()\n",
    "X = Z[:, :3] #- 1\n",
    "y = Z[:, 3] / 100 # (np.max(y) - np.min(y))\n",
    "y = y.reshape((-1, 1))\n",
    "\n",
    "num_data = X.shape[0]"
   ]
  },
  {
   "cell_type": "code",
   "execution_count": null,
   "id": "873c64aa-a915-4476-ae88-daa81b89abe8",
   "metadata": {},
   "outputs": [],
   "source": []
  },
  {
   "cell_type": "code",
   "execution_count": null,
   "id": "05715cc0-04f4-494d-bbde-b97bc7dc229d",
   "metadata": {},
   "outputs": [],
   "source": []
  },
  {
   "cell_type": "markdown",
   "id": "37301529-37cc-417b-a820-94acf335b7da",
   "metadata": {},
   "source": [
    "# Analysis\n",
    "\n",
    "### Rashomon"
   ]
  },
  {
   "cell_type": "code",
   "execution_count": 62,
   "id": "dd394eec-c783-4949-8349-f2aa89800900",
   "metadata": {},
   "outputs": [],
   "source": [
    "from rashomon import tva\n",
    "from rashomon import loss\n",
    "from rashomon import counter\n",
    "from rashomon import metrics\n",
    "from rashomon import extract_pools\n",
    "from rashomon.aggregate import RAggregate_profile, RAggregate\n",
    "from rashomon.sets import RashomonSet, RashomonProblemCache, RashomonSubproblemCache\n",
    "\n",
    "\n",
    "%load_ext autoreload\n",
    "%autoreload 2"
   ]
  },
  {
   "cell_type": "markdown",
   "id": "78139835-aee3-4e72-b015-c331dff818a2",
   "metadata": {},
   "source": [
    "Setup the policy and profile list"
   ]
  },
  {
   "cell_type": "code",
   "execution_count": 172,
   "id": "86930feb-bda8-4ac6-a448-867878c7cab9",
   "metadata": {},
   "outputs": [],
   "source": [
    "M = 3\n",
    "# R = np.array([3, 4, 3])\n",
    "R = np.array([4, 5, 4])\n",
    "\n",
    "num_profiles = 2**M\n",
    "profiles, profile_map = tva.enumerate_profiles(M)\n",
    "\n",
    "all_policies = tva.enumerate_policies(M, R)\n",
    "num_policies = len(all_policies)"
   ]
  },
  {
   "cell_type": "code",
   "execution_count": 181,
   "id": "a2df6162-4b95-40f2-994a-45e1074f75d1",
   "metadata": {},
   "outputs": [],
   "source": [
    "policies_profiles = {}\n",
    "policies_profiles_masked = {}\n",
    "policies_ids_profiles = {}\n",
    "# pi_policies = {}\n",
    "# pi_pools = {}\n",
    "for k, profile in enumerate(profiles):\n",
    "\n",
    "    policies_temp = [(i, x) for i, x in enumerate(all_policies) if tva.policy_to_profile(x) == profile]\n",
    "    unzipped_temp = list(zip(*policies_temp))\n",
    "    policies_ids_k = list(unzipped_temp[0])\n",
    "    policies_k = list(unzipped_temp[1])\n",
    "    policies_profiles[k] = deepcopy(policies_k)\n",
    "    policies_ids_profiles[k] = policies_ids_k\n",
    "\n",
    "    \n",
    "    profile_mask = list(map(bool, profile))\n",
    "\n",
    "    # Mask the empty arms\n",
    "    for idx, pol in enumerate(policies_k):\n",
    "        policies_k[idx] = tuple([pol[i] for i in range(M) if profile_mask[i]])\n",
    "    policies_profiles_masked[k] = policies_k\n",
    "\n",
    "    # if np.sum(profile) > 0:\n",
    "    #     pi_pools_k, pi_policies_k = extract_pools.extract_pools(policies_k, sigma[k])\n",
    "    #     if len(pi_pools_k.keys()) != mu[k].shape[0]:\n",
    "    #         print(f\"Profile {k}. Expected {len(pi_pools_k.keys())} pools. Received {mu[k].shape[0]} means.\")\n",
    "    #     pi_policies[k] = pi_policies_k\n",
    "    #     pi_pools[k] = {}\n",
    "    #     for x, y in pi_pools_k.items():\n",
    "    #         y_full = [policies_profiles[k][i] for i in y]\n",
    "    #         y_agg = [all_policies.index(i) for i in y_full]\n",
    "    #         pi_pools[k][x] = y_agg\n",
    "    # else:\n",
    "    #     pi_policies[k] = {0: 0}\n",
    "    #     pi_pools[k] = {0: [0]}"
   ]
  },
  {
   "cell_type": "code",
   "execution_count": null,
   "id": "97ed3dd8-894b-4bc4-85a6-68df7e0f0278",
   "metadata": {},
   "outputs": [],
   "source": []
  },
  {
   "cell_type": "code",
   "execution_count": null,
   "id": "442345c0-667f-49c8-8288-ed078dde99d2",
   "metadata": {},
   "outputs": [],
   "source": []
  },
  {
   "cell_type": "code",
   "execution_count": 252,
   "id": "67238000-6ba2-455b-a05c-22a519d2ed6f",
   "metadata": {},
   "outputs": [],
   "source": [
    "D = np.zeros(shape=y.shape, dtype=np.int64)\n",
    "profiles_in_data = []\n",
    "for i in range(num_data):\n",
    "    policy_i = tuple([int(x) for x in X[i, :]])\n",
    "    policy_idx = [idx for idx in range(num_policies) if all_policies[idx] == policy_i]\n",
    "    profiles_in_data.append(tva.policy_to_profile(policy_i))\n",
    "    D[i, 0] = int(policy_idx[0])\n",
    "\n",
    "policy_means = loss.compute_policy_means(D, y, num_policies)"
   ]
  },
  {
   "cell_type": "code",
   "execution_count": 380,
   "id": "f0b3dbeb-2203-4d4d-8ba1-2520a0fcbfab",
   "metadata": {},
   "outputs": [
    {
     "name": "stdout",
     "output_type": "stream",
     "text": [
      "[0.00081327       -inf       -inf       -inf       -inf       -inf\n",
      "       -inf       -inf       -inf       -inf       -inf       -inf\n",
      "       -inf       -inf       -inf       -inf       -inf       -inf\n",
      "       -inf       -inf       -inf       -inf       -inf       -inf\n",
      "       -inf 0.00061207 0.00071367 0.00092233       -inf 0.0008127\n",
      " 0.0009806  0.00089189       -inf 0.00078041 0.0015162  0.00078664\n",
      "       -inf 0.00092573 0.00127077 0.00102909       -inf       -inf\n",
      "       -inf       -inf       -inf 0.00142179 0.0008127  0.001507\n",
      "       -inf 0.00057514 0.00133621 0.00102047       -inf 0.00052859\n",
      " 0.00086207 0.0011153        -inf 0.00110118 0.00122306 0.00080819\n",
      "       -inf       -inf       -inf       -inf       -inf 0.0012438\n",
      " 0.00090517 0.00140281       -inf 0.00081122 0.00088134 0.00069073\n",
      "       -inf 0.0012605  0.00057929 0.00070259       -inf 0.0008903\n",
      " 0.00096444 0.00092171]\n",
      "0.001516198704103672\n"
     ]
    },
    {
     "name": "stderr",
     "output_type": "stream",
     "text": [
      "/var/folders/ds/v36htzx10pv39ydvb7plxs1r0000gn/T/ipykernel_25288/2539375452.py:1: RuntimeWarning: invalid value encountered in divide\n",
      "  mu_policies = policy_means[:, 0] / policy_means[:, 1]\n"
     ]
    },
    {
     "data": {
      "text/plain": [
       "(1, 3, 2)"
      ]
     },
     "execution_count": 380,
     "metadata": {},
     "output_type": "execute_result"
    }
   ],
   "source": [
    "mu_policies = policy_means[:, 0] / policy_means[:, 1]\n",
    "mu_policies[np.isnan(mu_policies)] = -np.inf\n",
    "\n",
    "print(mu_policies)\n",
    "print(np.max(mu_policies))\n",
    "all_policies[np.argmax(mu_policies)]"
   ]
  },
  {
   "cell_type": "code",
   "execution_count": 386,
   "id": "f45bd787-53aa-45f3-8833-f9393204caec",
   "metadata": {},
   "outputs": [
    {
     "data": {
      "text/plain": [
       "array([76, 24, 28, 60, 32, 36, 72, 40, 41, 23, 42, 44, 48, 68, 52, 64, 56,\n",
       "       63, 62, 43, 22, 61, 20,  1,  2,  3,  4,  5,  6,  7,  8,  9, 10, 21,\n",
       "       12, 13, 11, 19, 18, 17, 15, 14, 16, 53, 49, 74, 25, 71, 75, 26, 33,\n",
       "       35, 59, 69, 46, 29,  0, 54, 70, 77, 31, 66, 79, 27, 37, 78, 30, 51,\n",
       "       39, 57, 55, 58, 65, 73, 38, 50, 67, 45, 47, 34])"
      ]
     },
     "execution_count": 386,
     "metadata": {},
     "output_type": "execute_result"
    }
   ],
   "source": [
    "np.argsort(mu_policies)"
   ]
  },
  {
   "cell_type": "code",
   "execution_count": null,
   "id": "7af37ec2-4392-4713-85b7-ec43657596bb",
   "metadata": {},
   "outputs": [],
   "source": []
  },
  {
   "cell_type": "code",
   "execution_count": null,
   "id": "1224c799-1307-48ce-a1b4-d4bcf198520b",
   "metadata": {},
   "outputs": [],
   "source": []
  },
  {
   "cell_type": "code",
   "execution_count": 376,
   "id": "38b9e232-0820-4224-bff0-1b39e04de354",
   "metadata": {},
   "outputs": [
    {
     "data": {
      "text/plain": [
       "array([0])"
      ]
     },
     "execution_count": 376,
     "metadata": {},
     "output_type": "execute_result"
    }
   ],
   "source": [
    "D[np.argmax(policy_means)]"
   ]
  },
  {
   "cell_type": "code",
   "execution_count": 373,
   "id": "48e18386-309e-4b9e-ac4f-abab23dc1048",
   "metadata": {},
   "outputs": [
    {
     "name": "stdout",
     "output_type": "stream",
     "text": [
      "13\n"
     ]
    }
   ],
   "source": [
    "R_set, rashomon_profiles = RAggregate(M, R, 24, D, y, 0.007583, reg=1e-8)\n",
    "\n",
    "print(len(R_set))"
   ]
  },
  {
   "cell_type": "code",
   "execution_count": 381,
   "id": "187f2dc6-c54a-48ad-9087-1ae1ae1a0355",
   "metadata": {},
   "outputs": [
    {
     "name": "stdout",
     "output_type": "stream",
     "text": [
      "19\n",
      "0 : [(0, 0, 0)] [0]\n",
      "0.0008132678132678132\n",
      "1 : [(0, 0, 1), (0, 0, 2), (0, 0, 3)] [1, 2, 3]\n",
      "nan\n",
      "2 : [(0, 1, 0), (0, 2, 0), (0, 3, 0), (0, 4, 0)] [4, 8, 12, 16]\n",
      "nan\n",
      "3 : [(0, 1, 1), (0, 1, 2), (0, 1, 3), (0, 2, 1), (0, 2, 2), (0, 2, 3), (0, 3, 1), (0, 3, 2), (0, 3, 3), (0, 4, 1), (0, 4, 2), (0, 4, 3)] [5, 6, 7, 9, 10, 11, 13, 14, 15, 17, 18, 19]\n",
      "nan\n",
      "4 : [(1, 0, 0), (2, 0, 0), (3, 0, 0)] [20, 40, 60]\n",
      "nan\n",
      "5 : [(1, 0, 1), (1, 0, 2), (1, 0, 3), (2, 0, 1), (2, 0, 2), (2, 0, 3), (3, 0, 1), (3, 0, 2), (3, 0, 3)] [21, 22, 23, 41, 42, 43, 61, 62, 63]\n",
      "nan\n",
      "6 : [(1, 1, 0), (1, 2, 0), (1, 3, 0), (1, 4, 0), (2, 1, 0), (2, 2, 0), (2, 3, 0), (2, 4, 0), (3, 1, 0), (3, 2, 0), (3, 3, 0), (3, 4, 0)] [24, 28, 32, 36, 44, 48, 52, 56, 64, 68, 72, 76]\n",
      "nan\n",
      "7 : [(1, 1, 1)] [25]\n",
      "0.0006120689655172415\n",
      "8 : [(1, 1, 2)] [26]\n",
      "0.0007136706135629711\n",
      "9 : [(1, 1, 3)] [27]\n",
      "0.0009223300970873788\n",
      "10 : [(1, 2, 1), (1, 3, 1), (1, 4, 1)] [29, 33, 37]\n",
      "0.0008396124865446718\n",
      "11 : [(1, 2, 2), (1, 3, 2), (1, 4, 2)] [30, 34, 38]\n",
      "0.001255663430420712\n",
      "12 : [(1, 2, 3), (1, 3, 3), (1, 4, 3)] [31, 35, 39]\n",
      "0.0009025530384753687\n",
      "13 : [(2, 1, 1), (3, 1, 1)] [45, 65]\n",
      "0.0013327939590075512\n",
      "14 : [(2, 1, 2), (3, 1, 2)] [46, 66]\n",
      "0.0008589122240172322\n",
      "15 : [(2, 1, 3), (3, 1, 3)] [47, 67]\n",
      "0.0014549865229110516\n",
      "16 : [(2, 2, 1), (2, 3, 1), (2, 4, 1), (3, 2, 1), (3, 3, 1), (3, 4, 1)] [49, 53, 57, 69, 73, 77]\n",
      "0.0008614914646474285\n",
      "17 : [(2, 2, 2), (2, 3, 2), (2, 4, 2), (3, 2, 2), (3, 3, 2), (3, 4, 2)] [50, 54, 58, 70, 74, 78]\n",
      "0.0009744879626302554\n",
      "18 : [(2, 2, 3), (2, 3, 3), (2, 4, 3), (3, 2, 3), (3, 3, 3), (3, 4, 3)] [51, 55, 59, 71, 75, 79]\n",
      "0.0008764822134387353\n",
      "15\n",
      "0 : [(0, 0, 0)] [0]\n",
      "0.0008132678132678132\n",
      "1 : [(0, 0, 1), (0, 0, 2), (0, 0, 3)] [1, 2, 3]\n",
      "nan\n",
      "2 : [(0, 1, 0), (0, 2, 0), (0, 3, 0), (0, 4, 0)] [4, 8, 12, 16]\n",
      "nan\n",
      "3 : [(0, 1, 1), (0, 1, 2), (0, 1, 3), (0, 2, 1), (0, 2, 2), (0, 2, 3), (0, 3, 1), (0, 3, 2), (0, 3, 3), (0, 4, 1), (0, 4, 2), (0, 4, 3)] [5, 6, 7, 9, 10, 11, 13, 14, 15, 17, 18, 19]\n",
      "nan\n",
      "4 : [(1, 0, 0), (2, 0, 0), (3, 0, 0)] [20, 40, 60]\n",
      "nan\n",
      "5 : [(1, 0, 1), (1, 0, 2), (1, 0, 3), (2, 0, 1), (2, 0, 2), (2, 0, 3), (3, 0, 1), (3, 0, 2), (3, 0, 3)] [21, 22, 23, 41, 42, 43, 61, 62, 63]\n",
      "nan\n",
      "6 : [(1, 1, 0), (1, 2, 0), (1, 3, 0), (1, 4, 0), (2, 1, 0), (2, 2, 0), (2, 3, 0), (2, 4, 0), (3, 1, 0), (3, 2, 0), (3, 3, 0), (3, 4, 0)] [24, 28, 32, 36, 44, 48, 52, 56, 64, 68, 72, 76]\n",
      "nan\n",
      "7 : [(1, 1, 1), (1, 1, 2)] [25, 26]\n",
      "0.0006628971459343028\n",
      "8 : [(1, 1, 3)] [27]\n",
      "0.0009223300970873788\n",
      "9 : [(1, 2, 1), (1, 2, 2), (1, 3, 1), (1, 3, 2), (1, 4, 1), (1, 4, 2)] [29, 30, 33, 34, 37, 38]\n",
      "0.0010474137931034484\n",
      "10 : [(1, 2, 3), (1, 3, 3), (1, 4, 3)] [31, 35, 39]\n",
      "0.0009025530384753687\n",
      "11 : [(2, 1, 1), (2, 1, 2), (3, 1, 1), (3, 1, 2)] [45, 46, 65, 66]\n",
      "0.001095661546752897\n",
      "12 : [(2, 1, 3), (3, 1, 3)] [47, 67]\n",
      "0.0014549865229110516\n",
      "13 : [(2, 2, 1), (2, 2, 2), (2, 3, 1), (2, 3, 2), (2, 4, 1), (2, 4, 2), (3, 2, 1), (3, 2, 2), (3, 3, 1), (3, 3, 2), (3, 4, 1), (3, 4, 2)] [49, 50, 53, 54, 57, 58, 69, 70, 73, 74, 77, 78]\n",
      "0.0009179947893956465\n",
      "14 : [(2, 2, 3), (2, 3, 3), (2, 4, 3), (3, 2, 3), (3, 3, 3), (3, 4, 3)] [51, 55, 59, 71, 75, 79]\n",
      "0.0008764822134387353\n",
      "Best model loss 0.0076673800829576335 and best policy (2, 1, 3)\n"
     ]
    }
   ],
   "source": [
    "best_profile_counter = np.zeros(shape=(num_profiles,))\n",
    "\n",
    "all_losses = []\n",
    "\n",
    "reg = 1e-6\n",
    "best_loss = np.inf\n",
    "best_policy_o = None\n",
    "\n",
    "for r_set in R_set:\n",
    "    pi_policies_profiles_r = {}\n",
    "    \n",
    "    for k, profile in enumerate(profiles):\n",
    "        if rashomon_profiles[k].sigma[r_set[k]] is None:\n",
    "            pi_policies_r_k = {i: 0 for i in range(len(policies_profiles_masked[k]))}\n",
    "        else:\n",
    "            _, pi_policies_r_k = extract_pools.extract_pools(\n",
    "                policies_profiles_masked[k],\n",
    "                rashomon_profiles[k].sigma[r_set[k]]\n",
    "            )\n",
    "            # print(pi_policies_r_k)\n",
    "        pi_policies_profiles_r[k] = pi_policies_r_k\n",
    "    \n",
    "    pi_pools_r, pi_policies_r = extract_pools.aggregate_pools(pi_policies_profiles_r, policies_ids_profiles)\n",
    "    pool_means_r = loss.compute_pool_means(policy_means, pi_pools_r)\n",
    "    y_pred = metrics.make_predictions(D, pi_policies_r, pool_means_r)\n",
    "\n",
    "    this_loss = mean_squared_error(y, y_pred) + reg * len(pi_pools_r)\n",
    "    all_losses.append((this_loss, mean_squared_error(y, y_pred), len(pi_pools_r)))\n",
    "\n",
    "    # print(pi_pools_r)\n",
    "    \n",
    "    # best_pools = np.argwhere(pool_means_r == np.max(pool_means_r))[0]\n",
    "    best_pools = np.argwhere(pool_means_r == np.nanmax(pool_means_r))[0]\n",
    "\n",
    "    for best_pool in best_pools:\n",
    "        best_policy_id = pi_pools_r[best_pool][0]\n",
    "        best_policy = all_policies[best_policy_id]\n",
    "        best_profile = tva.policy_to_profile(best_policy)\n",
    "        profile_id = profile_map[best_profile]\n",
    "\n",
    "        best_profile_counter[profile_id] += 1\n",
    "        \n",
    "        if this_loss < best_loss:\n",
    "            best_loss = this_loss\n",
    "            best_policy_o = best_policy\n",
    "            print(len(pi_pools_r))\n",
    "            for k, v in pi_pools_r.items():\n",
    "                print(k, \":\", [all_policies[x] for x in v], v)\n",
    "                print(pool_means_r[k])\n",
    "\n",
    "best_profile_freq = best_profile_counter / np.sum(best_profile_counter)\n",
    "\n",
    "print(f\"Best model loss {best_loss} and best policy {best_policy_o}\")"
   ]
  },
  {
   "cell_type": "code",
   "execution_count": null,
   "id": "ca6aeb77-ab41-4736-b78f-75ba2d1507fd",
   "metadata": {},
   "outputs": [],
   "source": []
  },
  {
   "cell_type": "code",
   "execution_count": null,
   "id": "05c3d537-7ed1-480c-a98d-151a7d194558",
   "metadata": {},
   "outputs": [],
   "source": []
  }
 ],
 "metadata": {
  "kernelspec": {
   "display_name": "Python 3.11 (venv)",
   "language": "python",
   "name": "venv"
  },
  "language_info": {
   "codemirror_mode": {
    "name": "ipython",
    "version": 3
   },
   "file_extension": ".py",
   "mimetype": "text/x-python",
   "name": "python",
   "nbconvert_exporter": "python",
   "pygments_lexer": "ipython3",
   "version": "3.11.3"
  }
 },
 "nbformat": 4,
 "nbformat_minor": 5
}
